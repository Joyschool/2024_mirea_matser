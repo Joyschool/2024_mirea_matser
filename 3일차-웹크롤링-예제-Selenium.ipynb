{
 "cells": [
  {
   "cell_type": "markdown",
   "id": "bd682383",
   "metadata": {},
   "source": [
    "## 웹크롤링 - Selenium"
   ]
  },
  {
   "cell_type": "markdown",
   "id": "dfff7426",
   "metadata": {},
   "source": [
    "- 공식페이지: https://www.selenium.dev/\n",
    "- 참고: https://wikidocs.net/198942\n",
    "- 참고: https://greeksharifa.github.io/references/2020/10/30/python-selenium-usage/"
   ]
  },
  {
   "cell_type": "markdown",
   "id": "c73553a7",
   "metadata": {},
   "source": [
    "### 1.라이브러리 설치 "
   ]
  },
  {
   "cell_type": "code",
   "execution_count": null,
   "id": "b89d7109",
   "metadata": {},
   "outputs": [],
   "source": [
    "# 동적 크롤링을 위한 라이브러리\n",
    "!pip install selenium "
   ]
  },
  {
   "cell_type": "code",
   "execution_count": 26,
   "id": "a629dc77",
   "metadata": {
    "scrolled": true
   },
   "outputs": [
    {
     "name": "stdout",
     "output_type": "stream",
     "text": [
      "Requirement already satisfied: chromedriver-autoinstaller in c:\\python\\python310\\lib\\site-packages (0.6.2)\n"
     ]
    }
   ],
   "source": [
    "!pip install chromedriver-autoinstaller"
   ]
  },
  {
   "cell_type": "code",
   "execution_count": 42,
   "id": "281f2c4e",
   "metadata": {},
   "outputs": [
    {
     "data": {
      "text/plain": [
       "'4.8.2'"
      ]
     },
     "execution_count": 42,
     "metadata": {},
     "output_type": "execute_result"
    }
   ],
   "source": [
    "import selenium \n",
    "selenium.__version__"
   ]
  },
  {
   "cell_type": "markdown",
   "id": "d9001d90",
   "metadata": {},
   "source": [
    "### 2. ChromeDriver 프로그램 PC에 설치 \n",
    "- https://sites.google.com/chromium.org/driver/\n",
    "   * Latest ChromeDriver Binaries > the Chrome for Testing availability 페이지에서 자신의 크롬 버전와 같은 프로그램 선택\n",
    "   * win64비트 링크 긁어서 다운로드하고 PC에 설치하기\n",
    "- **chromedriver.exe 파일을 코드와 같은 위치**(또는 특정 위치)에 놓기"
   ]
  },
  {
   "cell_type": "markdown",
   "id": "bf60499d",
   "metadata": {},
   "source": [
    "### 3. ChromeDriver 사용 \n",
    "- 방법1 : chromedriver-autoinstaller 라이브러리 사용해서 버전 고려 안하기\n",
    "- 방법2 : 버전 업데이트마다 PC에 ChromeDriver.exe 드라이버 재설치"
   ]
  },
  {
   "cell_type": "markdown",
   "id": "17142302",
   "metadata": {},
   "source": [
    "#### ChromeDriver 동작 확인\n",
    "- 크롬 브라우저에 'Chrome이 자동화된 테스트 소프트웨어에 의해 제어되고 있습니다' 문구와 함께 화면이 뜨면 성공!"
   ]
  },
  {
   "cell_type": "code",
   "execution_count": 45,
   "id": "fa86b594",
   "metadata": {},
   "outputs": [
    {
     "name": "stderr",
     "output_type": "stream",
     "text": [
      "WARNING:root:Can not find chromedriver for currently installed chrome version.\n"
     ]
    }
   ],
   "source": [
    "import chromedriver_autoinstaller # chrome driver 자동 설치 라이브러리\n",
    "from selenium import webdriver\n",
    "\n",
    "# chrome driver를 자동으로 설치함\n",
    "chromedriver_autoinstaller.install()\n",
    "\n",
    "options = webdriver.ChromeOptions() # Browser 세팅하기\n",
    "options.add_argument('lang=ko_KR') # 사용언어 한국어\n",
    "options.add_argument('disable-gpu') # 하드웨어 가속 안함\n",
    "# options.add_argument('headless') # 창 숨기기\n",
    "\n",
    "# # 브라우저 세팅\n",
    "driver = webdriver.Chrome(options=options)\n",
    "\n",
    "# 브라우저에 URL 호출하기\n",
    "driver.get(url='https://www.naver.com/')\n",
    "\n",
    "# 브라우저 탭 닫기\n",
    "driver.close()\n",
    "\n",
    "# 브라우저 종료하기 (탭 모두 종료)\n",
    "driver.quit()"
   ]
  },
  {
   "cell_type": "markdown",
   "id": "bc52e0c5",
   "metadata": {},
   "source": [
    "- 간단하게 사용하기"
   ]
  },
  {
   "cell_type": "code",
   "execution_count": 29,
   "id": "c0e5a15a",
   "metadata": {
    "scrolled": true
   },
   "outputs": [
    {
     "name": "stderr",
     "output_type": "stream",
     "text": [
      "C:\\Users\\yswoo\\AppData\\Local\\Temp\\ipykernel_25904\\2228783162.py:6: DeprecationWarning: executable_path has been deprecated, please pass in a Service object\n",
      "  driver = webdriver.Chrome(PATH)\n"
     ]
    }
   ],
   "source": [
    "from selenium import webdriver\n",
    "\n",
    "# 드라이버 초기화\n",
    "# 방법1 : 코드와 같은 위치에 chromedriver.exe 파일이 있는 경우\n",
    "driver = webdriver.Chrome()\n",
    "# 방법2 : 코드와 다른 위치에 chromedriver.exe 파일이 있는 경우\n",
    "# PATH = './chromedriver-win64/chromedriver.exe'\n",
    "# driver = webdriver.Chrome(PATH)\n",
    "\n",
    "# 웹페이지로 이동\n",
    "driver.get('https://www.naver.com/')"
   ]
  },
  {
   "cell_type": "markdown",
   "id": "bac30b7d",
   "metadata": {},
   "source": [
    "---------------"
   ]
  },
  {
   "cell_type": "markdown",
   "id": "87ff3753",
   "metadata": {},
   "source": [
    "### 4. Selenium을 사용하여 동적 웹 페이지와 상호작용하기"
   ]
  },
  {
   "cell_type": "markdown",
   "id": "6170ea5e",
   "metadata": {},
   "source": [
    "#### (클릭 이벤트를 위한 xpath 복사)작업 순서\n",
    "- 크롬에서 target 페이지 접속(https://www.naver.com/)\n",
    "- F12 눌러 오른쪽 영역에 개발자 페이지 나타나도록 함(html코드 나타남)\n",
    "- ctrl+shift+c 누른 상태에서 클릭 이벤트 발생할 곳 찾아 마우스 클릭\n",
    "- 해당 html코드 영역에서 마우스 오른쪽키 누르고 copy>copy.xpath 메뉴 선택하여 이벤트 코드 클립보드에 복사\n",
    "- driver.find_element(By.XPATH, '복사되니 부분 붙여넣기').click()"
   ]
  },
  {
   "cell_type": "markdown",
   "id": "6b1a352f",
   "metadata": {},
   "source": [
    "#### [사용방법] 버튼(링크) 클릭 "
   ]
  },
  {
   "cell_type": "code",
   "execution_count": 46,
   "id": "f7005f89",
   "metadata": {
    "scrolled": true
   },
   "outputs": [],
   "source": [
    "from selenium import webdriver\n",
    "from selenium.webdriver.common.by import By\n",
    "\n",
    "# 드라이버 초기화\n",
    "driver = webdriver.Chrome()\n",
    "\n",
    "# 웹페이지로 이동\n",
    "driver.get('https://www.naver.com/')\n",
    "\n",
    "# 클릭(copy.xpath 이용)\n",
    "search_button = driver.find_element(By.XPATH, '//*[@id=\"search-btn\"]')\n",
    "search_button.click()"
   ]
  },
  {
   "cell_type": "markdown",
   "id": "56040955",
   "metadata": {},
   "source": [
    "#### [1단계] 네이버 메이페이지에서 검색어 입력하고 버튼 클릭하기"
   ]
  },
  {
   "cell_type": "code",
   "execution_count": 65,
   "id": "8c43c66f",
   "metadata": {},
   "outputs": [
    {
     "name": "stderr",
     "output_type": "stream",
     "text": [
      "WARNING:root:Can not find chromedriver for currently installed chrome version.\n"
     ]
    },
    {
     "name": "stdout",
     "output_type": "stream",
     "text": [
      "현재URL : https://search.naver.com/search.naver?where=nexearch&sm=top_hty&fbm=0&ie=utf8&query=10%EC%9B%94+%EC%A0%9C%EC%A3%BC\n"
     ]
    }
   ],
   "source": [
    "import chromedriver_autoinstaller\n",
    "from selenium import webdriver\n",
    "from selenium.webdriver.common.by import By\n",
    "\n",
    "# chrome driver를 자동으로 설치함\n",
    "chromedriver_autoinstaller.install() \n",
    "\n",
    "# 드라이버 초기화\n",
    "driver = webdriver.Chrome()\n",
    "\n",
    "def naver_main_search(driver, keyword):\n",
    "    driver.get('https://www.naver.com/') # 웹페이지 로드 \n",
    "    search_box = driver.find_element(By.XPATH, '//*[@id=\"query\"]')  # 검색 키워드 영역\n",
    "    search_button = driver.find_element(By.XPATH, '//*[@id=\"search-btn\"]') # 검색 버튼\n",
    "    search_keyword = keyword  # 키워드\n",
    "    search_box.send_keys(search_keyword)\n",
    "    search_button.click()\n",
    "    \n",
    "# 1.네이버 메인 검색    \n",
    "naver_main_search(driver, '10월 제주')\n",
    "print(f'현재URL : {driver.current_url}')\n"
   ]
  },
  {
   "cell_type": "markdown",
   "id": "f3462821",
   "metadata": {},
   "source": [
    "#### [2단계] 네이버 검색 결과 페이지에서 다시 버튼 클릭"
   ]
  },
  {
   "cell_type": "code",
   "execution_count": 82,
   "id": "3b0f56d8",
   "metadata": {},
   "outputs": [
    {
     "name": "stderr",
     "output_type": "stream",
     "text": [
      "WARNING:root:Can not find chromedriver for currently installed chrome version.\n"
     ]
    },
    {
     "name": "stdout",
     "output_type": "stream",
     "text": [
      "페이지 검색어 입력: 가을여행\n",
      "\n",
      "1단계 : 검색어 넣고 네이버 메인 검색......\n",
      "\n",
      "2단계 : 검색 결과에서 VIEW 탭 선택......\n",
      "      currnet_url=https://search.naver.com/search.naver?where=nexearch&sm=top_hty&fbm=0&ie=utf8&query=%EA%B0%80%EC%9D%84%EC%97%AC%ED%96%89\n"
     ]
    }
   ],
   "source": [
    "import chromedriver_autoinstaller\n",
    "from selenium import webdriver\n",
    "from selenium.webdriver.common.by import By\n",
    "\n",
    "# chrome driver를 자동으로 설치함\n",
    "chromedriver_autoinstaller.install() \n",
    "\n",
    "# 드라이버 초기화\n",
    "driver = webdriver.Chrome()\n",
    "\n",
    "# [CODE 1] : 검색어 넣고 네이버 메인 검색\n",
    "def naver_main_search(driver, keyword):\n",
    "    print('\\n1단계 : 검색어 넣고 네이버 메인 검색......')\n",
    "    driver.get('https://www.naver.com/') # 웹페이지 로드   \n",
    "    search_box = driver.find_element(By.XPATH, '//*[@id=\"query\"]')  # 검색 키워드 영역\n",
    "    search_button = driver.find_element(By.XPATH, '//*[@id=\"search-btn\"]') # 검색 버튼\n",
    "    search_keyword = keyword  # 키워드\n",
    "    search_box.send_keys(search_keyword)\n",
    "    search_button.click()\n",
    "\n",
    "# [CODE 2] : 검색 결과에서 VIEW 탭 선택\n",
    "def naver_main_search_tab(driver, url, xpath):\n",
    "    print('\\n2단계 : 검색 결과에서 VIEW 탭 선택......')\n",
    "    print(f'      currnet_url={driver.current_url}')\n",
    "    driver.get(url) # 해당 웹페이지 로드   \n",
    "    search_button = driver.find_element(By.XPATH, xpath) # target xpath\n",
    "    search_button.click()      \n",
    "    \n",
    "\n",
    "keyword = input('페이지 검색어 입력: ')\n",
    "\n",
    "# 1.[CODE 1] : 검색어 넣고 네이버 메인 검색\n",
    "naver_main_search(driver, keyword)\n",
    "\n",
    "# 2.[CODE 2] : 검색 결과에서 VIEW 탭 선택\n",
    "naver_main_search_tab(driver, driver.current_url, '//*[@id=\"lnb\"]/div[1]/div/div[1]/div/div[1]/div[1]/a' )\n",
    "\n",
    "# 2.[CODE 2] : 검색 결과에서 이미지 탭 선택\n",
    "# naver_main_search_tab(driver, driver.current_url, '//*[@id=\"lnb\"]/div[1]/div/div[1]/div/div[1]/div[3]/a' )"
   ]
  },
  {
   "cell_type": "markdown",
   "id": "f0d15d93",
   "metadata": {},
   "source": [
    "#### [3단계] 네이버 검색[VIEW] 정보 추출하기 : 제목, 상세설명, 링크 "
   ]
  },
  {
   "cell_type": "code",
   "execution_count": 81,
   "id": "978ecf6f",
   "metadata": {},
   "outputs": [
    {
     "name": "stderr",
     "output_type": "stream",
     "text": [
      "WARNING:root:Can not find chromedriver for currently installed chrome version.\n"
     ]
    },
    {
     "name": "stdout",
     "output_type": "stream",
     "text": [
      "페이지 검색어 입력: 10월 제주\n",
      "\n",
      "1단계 : 검색어 넣고 네이버 메인 검색......\n",
      "\n",
      "2단계 : 검색 결과에서 VIEW 탭 선택......\n",
      "      currnet_url=https://search.naver.com/search.naver?where=nexearch&sm=top_hty&fbm=0&ie=utf8&query=10%EC%9B%94+%EC%A0%9C%EC%A3%BC\n",
      "\n",
      "3단계 : VIEW탭 페이지에서 정보(제목,상세,링크) 추출......\n",
      "\n",
      "완료 : 추출된 정보 표로 만들기......\n",
      "Total[30 건]\n"
     ]
    },
    {
     "data": {
      "text/html": [
       "<div>\n",
       "<style scoped>\n",
       "    .dataframe tbody tr th:only-of-type {\n",
       "        vertical-align: middle;\n",
       "    }\n",
       "\n",
       "    .dataframe tbody tr th {\n",
       "        vertical-align: top;\n",
       "    }\n",
       "\n",
       "    .dataframe thead th {\n",
       "        text-align: right;\n",
       "    }\n",
       "</style>\n",
       "<table border=\"1\" class=\"dataframe\">\n",
       "  <thead>\n",
       "    <tr style=\"text-align: right;\">\n",
       "      <th></th>\n",
       "      <th>title</th>\n",
       "      <th>desc</th>\n",
       "      <th>link</th>\n",
       "    </tr>\n",
       "  </thead>\n",
       "  <tbody>\n",
       "    <tr>\n",
       "      <th>0</th>\n",
       "      <td>10월 제주도 가볼만한곳 : 제주 서귀포 치유의 숲 예약</td>\n",
       "      <td>돌아가는길 10월 제주도 가볼만한곳 서귀포 치유의숲 오르는길 흐렸다면 돌아갈때는 맑...</td>\n",
       "      <td>https://blog.naver.com/kayak71/223222984866</td>\n",
       "    </tr>\n",
       "    <tr>\n",
       "      <th>1</th>\n",
       "      <td>10월 제주도 여행지 추천 제주 표선 가볼만한곳 제주민속촌 입장료</td>\n",
       "      <td>대표적인 제주 표선 가볼만한곳으로 10월 제주도 여행지로도 추천하는 곳입니다. 가을...</td>\n",
       "      <td>https://blog.naver.com/overroad89/223224371702</td>\n",
       "    </tr>\n",
       "    <tr>\n",
       "      <th>2</th>\n",
       "      <td>제주여행 제주동쪽 10월 가볼만한곳 명소 풍경들</td>\n",
       "      <td>풍경도 아름답다 하니 10월 해 질 무렵 찾아가면 노을빛에 물든 황홀한 은빛 물결 ...</td>\n",
       "      <td>https://blog.naver.com/ka8564/223230868738</td>\n",
       "    </tr>\n",
       "    <tr>\n",
       "      <th>3</th>\n",
       "      <td>10월 제주는 억새와 핑크뮬리 천지 ~</td>\n",
       "      <td>가을에 제주에 가신다면 억새와 핑크뮬리 보셔요~ 명불허전 새별오름~ 요건 9월말 사...</td>\n",
       "      <td>https://cafe.naver.com/jejutip/2348159?art=ZXh...</td>\n",
       "    </tr>\n",
       "    <tr>\n",
       "      <th>4</th>\n",
       "      <td>10월 제주도 여행 제주 산굼부리 억새 제주도 명소 추천 코스</td>\n",
       "      <td>10월 제주도 여행 제주 산굼부리 억세 제주도 명소 추천 코스 글, 사진 : 그루터...</td>\n",
       "      <td>https://blog.naver.com/hloveh01/223241505536</td>\n",
       "    </tr>\n",
       "  </tbody>\n",
       "</table>\n",
       "</div>"
      ],
      "text/plain": [
       "                                  title  \\\n",
       "0       10월 제주도 가볼만한곳 : 제주 서귀포 치유의 숲 예약   \n",
       "1  10월 제주도 여행지 추천 제주 표선 가볼만한곳 제주민속촌 입장료   \n",
       "2            제주여행 제주동쪽 10월 가볼만한곳 명소 풍경들   \n",
       "3                 10월 제주는 억새와 핑크뮬리 천지 ~   \n",
       "4    10월 제주도 여행 제주 산굼부리 억새 제주도 명소 추천 코스   \n",
       "\n",
       "                                                desc  \\\n",
       "0  돌아가는길 10월 제주도 가볼만한곳 서귀포 치유의숲 오르는길 흐렸다면 돌아갈때는 맑...   \n",
       "1  대표적인 제주 표선 가볼만한곳으로 10월 제주도 여행지로도 추천하는 곳입니다. 가을...   \n",
       "2  풍경도 아름답다 하니 10월 해 질 무렵 찾아가면 노을빛에 물든 황홀한 은빛 물결 ...   \n",
       "3  가을에 제주에 가신다면 억새와 핑크뮬리 보셔요~ 명불허전 새별오름~ 요건 9월말 사...   \n",
       "4  10월 제주도 여행 제주 산굼부리 억세 제주도 명소 추천 코스 글, 사진 : 그루터...   \n",
       "\n",
       "                                                link  \n",
       "0        https://blog.naver.com/kayak71/223222984866  \n",
       "1     https://blog.naver.com/overroad89/223224371702  \n",
       "2         https://blog.naver.com/ka8564/223230868738  \n",
       "3  https://cafe.naver.com/jejutip/2348159?art=ZXh...  \n",
       "4       https://blog.naver.com/hloveh01/223241505536  "
      ]
     },
     "execution_count": 81,
     "metadata": {},
     "output_type": "execute_result"
    }
   ],
   "source": [
    "import chromedriver_autoinstaller\n",
    "from selenium import webdriver\n",
    "from selenium.webdriver.common.by import By\n",
    "from bs4 import BeautifulSoup\n",
    "import requests\n",
    "import pandas as pd\n",
    "\n",
    "# chrome driver를 자동으로 설치함\n",
    "chromedriver_autoinstaller.install() \n",
    "\n",
    "# 드라이버 초기화\n",
    "driver = webdriver.Chrome()\n",
    "\n",
    "\n",
    "# [CODE 1] : 검색어 넣고 네이버 메인 검색\n",
    "def naver_main_search(driver, keyword):\n",
    "    print('\\n1단계 : 검색어 넣고 네이버 메인 검색......')\n",
    "    driver.get('https://www.naver.com/') # 웹페이지 로드   \n",
    "    search_box = driver.find_element(By.XPATH, '//*[@id=\"query\"]')  # 검색 키워드 영역\n",
    "    search_button = driver.find_element(By.XPATH, '//*[@id=\"search-btn\"]') # 검색 버튼\n",
    "    search_keyword = keyword  # 키워드\n",
    "    search_box.send_keys(search_keyword)\n",
    "    search_button.click()\n",
    "\n",
    "# [CODE 2] : 검색 결과에서 VIEW 탭 선택\n",
    "def naver_main_search_tab(driver, url, xpath):\n",
    "    print('\\n2단계 : 검색 결과에서 VIEW 탭 선택......')\n",
    "    print(f'      currnet_url={driver.current_url}')\n",
    "    driver.get(url) # 해당 웹페이지 로드   \n",
    "    search_button = driver.find_element(By.XPATH, xpath) # target xpath\n",
    "    search_button.click()      \n",
    "\n",
    "# [CODE 3] : VIEW탭 페이지에서 정보(제목,상세,링크) 추출\n",
    "def naver_html_parse(html): \n",
    "    print('\\n3단계 : VIEW탭 페이지에서 정보(제목,상세,링크) 추출......')\n",
    "    t_list, d_list, link_list = [], [], []\n",
    "    \n",
    "    soup = BeautifulSoup(html, 'html.parser')\n",
    "    ul = soup.select_one('ul.lst_view._list_base') #공백에 있을 경우 . 사용\n",
    "    # 제목, 링크 추출하기\n",
    "    titles = ul.select('li > div > div > div.title_area > a')\n",
    "    for title in titles: \n",
    "        t_list.append(title.get_text())       # 제목\n",
    "        link_list.append(title.attrs['href']) # href 링크  \n",
    "    # 상세설명 추출하기\n",
    "    titles = ul.select('li > div > div > div.dsc_area > a') # 상세설명\n",
    "    for title in titles: \n",
    "        d_list.append(title.get_text())\n",
    "        \n",
    "    # DataFrame으로 만들기\n",
    "    data = {'title': t_list, 'desc':d_list,'link':link_list}\n",
    "    df = pd.DataFrame(data)\n",
    "    return df\n",
    "\n",
    "\n",
    "keyword = input('페이지 검색어 입력: ')\n",
    "\n",
    "# 1.[CODE 1] : 검색어 넣고 네이버 메인 검색\n",
    "naver_main_search(driver, keyword)\n",
    "\n",
    "# 2.[CODE 2] : 검색 결과에서 VIEW 탭 선택\n",
    "naver_main_search_tab(driver, driver.current_url, '//*[@id=\"lnb\"]/div[1]/div/div[1]/div/div[1]/div[1]/a' )\n",
    "html = driver.page_source  # 페이지 소스 가져오기\n",
    "\n",
    "# 3.[CODE 3] : VIEW 탭 페이지에서 정보(제목,상세,링크) 추출\n",
    "df = naver_html_parse(html)\n",
    "print('\\n완료 : 추출된 정보 표로 만들기......')\n",
    "print(f'Total[{len(df)} 건]')\n",
    "df.head(5)"
   ]
  },
  {
   "cell_type": "markdown",
   "id": "84b91436",
   "metadata": {},
   "source": [
    "#### [4단계] 페이지 자동 스크롤링한 후 정보 가져오기 "
   ]
  },
  {
   "cell_type": "code",
   "execution_count": 63,
   "id": "658def73",
   "metadata": {
    "collapsed": true
   },
   "outputs": [
    {
     "name": "stdout",
     "output_type": "stream",
     "text": [
      "Requirement already satisfied: webdriver-manager in c:\\python\\python310\\lib\\site-packages (3.8.6)\n",
      "Requirement already satisfied: requests in c:\\python\\python310\\lib\\site-packages (from webdriver-manager) (2.28.2)\n",
      "Requirement already satisfied: python-dotenv in c:\\python\\python310\\lib\\site-packages (from webdriver-manager) (1.0.0)\n",
      "Requirement already satisfied: tqdm in c:\\python\\python310\\lib\\site-packages (from webdriver-manager) (4.65.0)\n",
      "Requirement already satisfied: packaging in c:\\python\\python310\\lib\\site-packages (from webdriver-manager) (23.0)\n",
      "Requirement already satisfied: charset-normalizer<4,>=2 in c:\\python\\python310\\lib\\site-packages (from requests->webdriver-manager) (2.0.7)\n",
      "Requirement already satisfied: idna<4,>=2.5 in c:\\python\\python310\\lib\\site-packages (from requests->webdriver-manager) (2.10)\n",
      "Requirement already satisfied: urllib3<1.27,>=1.21.1 in c:\\python\\python310\\lib\\site-packages (from requests->webdriver-manager) (1.26.7)\n",
      "Requirement already satisfied: certifi>=2017.4.17 in c:\\python\\python310\\lib\\site-packages (from requests->webdriver-manager) (2021.10.8)\n",
      "Requirement already satisfied: colorama in c:\\python\\python310\\lib\\site-packages (from tqdm->webdriver-manager) (0.4.6)\n"
     ]
    }
   ],
   "source": [
    "# 웹 드라이버매니저 설치\n",
    "!pip install webdriver-manager"
   ]
  },
  {
   "cell_type": "code",
   "execution_count": 79,
   "id": "58c9b2d8",
   "metadata": {},
   "outputs": [
    {
     "name": "stdout",
     "output_type": "stream",
     "text": [
      "페이지 검색어 입력: 10월 제주\n",
      "\n",
      "1단계 : 검색어 넣고 네이버 메인 검색......\n",
      "\n",
      "2단계 : 검색 결과에서 VIEW 탭 선택......\n",
      "      currnet_url=https://search.naver.com/search.naver?where=nexearch&sm=top_hty&fbm=0&ie=utf8&query=10%EC%9B%94+%EC%A0%9C%EC%A3%BC\n",
      "2단계 : 페이지 자동 스크롤...\n",
      "       page scroll...\n",
      "       page scroll...\n",
      "       page scroll...\n",
      "\n",
      "3단계 : VIEW탭 페이지에서 정보(제목,상세,링크) 추출......\n",
      "\n",
      "완료 : 추출된 정보 표로 만들기......\n",
      "Total[112 건]\n"
     ]
    },
    {
     "data": {
      "text/html": [
       "<div>\n",
       "<style scoped>\n",
       "    .dataframe tbody tr th:only-of-type {\n",
       "        vertical-align: middle;\n",
       "    }\n",
       "\n",
       "    .dataframe tbody tr th {\n",
       "        vertical-align: top;\n",
       "    }\n",
       "\n",
       "    .dataframe thead th {\n",
       "        text-align: right;\n",
       "    }\n",
       "</style>\n",
       "<table border=\"1\" class=\"dataframe\">\n",
       "  <thead>\n",
       "    <tr style=\"text-align: right;\">\n",
       "      <th></th>\n",
       "      <th>title</th>\n",
       "      <th>desc</th>\n",
       "      <th>link</th>\n",
       "    </tr>\n",
       "  </thead>\n",
       "  <tbody>\n",
       "    <tr>\n",
       "      <th>0</th>\n",
       "      <td>10월 제주도 가볼만한곳 : 제주 서귀포 치유의 숲 예약</td>\n",
       "      <td>돌아가는길 10월 제주도 가볼만한곳 서귀포 치유의숲 오르는길 흐렸다면 돌아갈때는 맑...</td>\n",
       "      <td>https://blog.naver.com/kayak71/223222984866</td>\n",
       "    </tr>\n",
       "    <tr>\n",
       "      <th>1</th>\n",
       "      <td>10월 제주도 여행지 추천 제주 표선 가볼만한곳 제주민속촌 입장료</td>\n",
       "      <td>대표적인 제주 표선 가볼만한곳으로 10월 제주도 여행지로도 추천하는 곳입니다. 가을...</td>\n",
       "      <td>https://blog.naver.com/overroad89/223224371702</td>\n",
       "    </tr>\n",
       "    <tr>\n",
       "      <th>2</th>\n",
       "      <td>제주여행 제주동쪽 10월 가볼만한곳 명소 풍경들</td>\n",
       "      <td>풍경도 아름답다 하니 10월 해 질 무렵 찾아가면 노을빛에 물든 황홀한 은빛 물결 ...</td>\n",
       "      <td>https://blog.naver.com/ka8564/223230868738</td>\n",
       "    </tr>\n",
       "    <tr>\n",
       "      <th>3</th>\n",
       "      <td>10월 제주는 억새와 핑크뮬리 천지 ~</td>\n",
       "      <td>가을에 제주에 가신다면 억새와 핑크뮬리 보셔요~ 명불허전 새별오름~ 요건 9월말 사...</td>\n",
       "      <td>https://cafe.naver.com/jejutip/2348159?art=ZXh...</td>\n",
       "    </tr>\n",
       "    <tr>\n",
       "      <th>4</th>\n",
       "      <td>10월 제주도 여행 제주 산굼부리 억새 제주도 명소 추천 코스</td>\n",
       "      <td>10월 제주도 여행 제주 산굼부리 억세 제주도 명소 추천 코스 글, 사진 : 그루터...</td>\n",
       "      <td>https://blog.naver.com/hloveh01/223241505536</td>\n",
       "    </tr>\n",
       "  </tbody>\n",
       "</table>\n",
       "</div>"
      ],
      "text/plain": [
       "                                  title  \\\n",
       "0       10월 제주도 가볼만한곳 : 제주 서귀포 치유의 숲 예약   \n",
       "1  10월 제주도 여행지 추천 제주 표선 가볼만한곳 제주민속촌 입장료   \n",
       "2            제주여행 제주동쪽 10월 가볼만한곳 명소 풍경들   \n",
       "3                 10월 제주는 억새와 핑크뮬리 천지 ~   \n",
       "4    10월 제주도 여행 제주 산굼부리 억새 제주도 명소 추천 코스   \n",
       "\n",
       "                                                desc  \\\n",
       "0  돌아가는길 10월 제주도 가볼만한곳 서귀포 치유의숲 오르는길 흐렸다면 돌아갈때는 맑...   \n",
       "1  대표적인 제주 표선 가볼만한곳으로 10월 제주도 여행지로도 추천하는 곳입니다. 가을...   \n",
       "2  풍경도 아름답다 하니 10월 해 질 무렵 찾아가면 노을빛에 물든 황홀한 은빛 물결 ...   \n",
       "3  가을에 제주에 가신다면 억새와 핑크뮬리 보셔요~ 명불허전 새별오름~ 요건 9월말 사...   \n",
       "4  10월 제주도 여행 제주 산굼부리 억세 제주도 명소 추천 코스 글, 사진 : 그루터...   \n",
       "\n",
       "                                                link  \n",
       "0        https://blog.naver.com/kayak71/223222984866  \n",
       "1     https://blog.naver.com/overroad89/223224371702  \n",
       "2         https://blog.naver.com/ka8564/223230868738  \n",
       "3  https://cafe.naver.com/jejutip/2348159?art=ZXh...  \n",
       "4       https://blog.naver.com/hloveh01/223241505536  "
      ]
     },
     "execution_count": 79,
     "metadata": {},
     "output_type": "execute_result"
    }
   ],
   "source": [
    "from selenium import webdriver\n",
    "from selenium.webdriver.chrome.service import Service\n",
    "from selenium.webdriver.chrome.options import Options\n",
    "from selenium.webdriver.common.keys import Keys\n",
    "from selenium.webdriver.common.by import By\n",
    "import time\n",
    "\n",
    "# 크롬 드라이버 자동 업데이트\n",
    "from webdriver_manager.chrome import ChromeDriverManager\n",
    "\n",
    "#브라우저 꺼짐 방지 \n",
    "chrome_options = Options()\n",
    "chrome_options.add_experimental_option(\"detach\", True)\n",
    "\n",
    "# 불필요한 에러 메시지 없애기\n",
    "chrome_options.add_experimental_option(\"excludeSwitches\", [\"enable-logging\"])\n",
    "\n",
    "# 드라이버 초기화\n",
    "driver = webdriver.Chrome(options=chrome_options)\n",
    "\n",
    "\n",
    "# [CODE 1] : 검색어 넣고 네이버 메인 검색\n",
    "def naver_main_search(driver, keyword):\n",
    "    print('\\n1단계 : 검색어 넣고 네이버 메인 검색......')\n",
    "    driver.get('https://www.naver.com/') # 웹페이지 로드   \n",
    "    search_box = driver.find_element(By.XPATH, '//*[@id=\"query\"]')  # 검색 키워드 영역\n",
    "    search_button = driver.find_element(By.XPATH, '//*[@id=\"search-btn\"]') # 검색 버튼\n",
    "    search_keyword = keyword  # 키워드\n",
    "    search_box.send_keys(search_keyword)\n",
    "    search_button.click()\n",
    "\n",
    "# [CODE 2] : 검색 결과에서 VIEW 탭 선택\n",
    "def naver_main_search_tab(driver, url, xpath):\n",
    "    print('\\n2단계 : 검색 결과에서 VIEW 탭 선택......')\n",
    "    print(f'      currnet_url={driver.current_url}')\n",
    "    driver.get(url) # 해당 웹페이지 로드   \n",
    "    search_button = driver.find_element(By.XPATH, xpath) # target xpath\n",
    "    search_button.click()   \n",
    "    \n",
    "    # 페이지 자동 스크롤하기(3번)\n",
    "    print('2단계 : 페이지 자동 스크롤...')\n",
    "    actions = driver.find_element(By.CSS_SELECTOR, 'body')\n",
    "    time.sleep(2)\n",
    "    for _ in range(3):        \n",
    "        actions.send_keys(Keys.END)\n",
    "        print('       page scroll...' )\n",
    "        time.sleep(2)    \n",
    "\n",
    "# [CODE 3] : VIEW탭 페이지에서 정보(제목,상세,링크) 추출\n",
    "def naver_html_parse(html): \n",
    "    print('\\n3단계 : VIEW탭 페이지에서 정보(제목,상세,링크) 추출......')\n",
    "    t_list, d_list, link_list = [], [], []\n",
    "    \n",
    "    soup = BeautifulSoup(html, 'html.parser')\n",
    "    ul = soup.select_one('ul.lst_view._list_base') #공백에 있을 경우 . 사용\n",
    "    # 제목, 링크 추출하기\n",
    "    titles = ul.select('li > div > div > div.title_area > a')\n",
    "    for title in titles: \n",
    "        t_list.append(title.get_text())       # 제목\n",
    "        link_list.append(title.attrs['href']) # href 링크  \n",
    "    # 상세설명 추출하기\n",
    "    titles = ul.select('li > div > div > div.dsc_area > a') # 상세설명\n",
    "    for title in titles: \n",
    "        d_list.append(title.get_text())\n",
    "        \n",
    "    # DataFrame으로 만들기\n",
    "    data = {'title': t_list, 'desc':d_list,'link':link_list}\n",
    "    df = pd.DataFrame(data)\n",
    "    return df\n",
    "\n",
    "\n",
    "keyword = input('페이지 검색어 입력: ')\n",
    "\n",
    "# 1.[CODE 1] : 검색어 넣고 네이버 메인 검색\n",
    "naver_main_search(driver, keyword)\n",
    "\n",
    "# 2.[CODE 2] : 검색 결과에서 VIEW 탭 선택\n",
    "naver_main_search_tab(driver, driver.current_url, '//*[@id=\"lnb\"]/div[1]/div/div[1]/div/div[1]/div[1]/a' )\n",
    "html = driver.page_source  # 페이지 소스 가져오기\n",
    "\n",
    "# 3.[CODE 3] : VIEW 탭 페이지에서 정보(제목,상세,링크) 추출\n",
    "df = naver_html_parse(html)\n",
    "print('\\n완료 : 추출된 정보 표로 만들기......')\n",
    "print(f'Total[{len(df)} 건]')\n",
    "df.head(5)\n"
   ]
  },
  {
   "cell_type": "code",
   "execution_count": 80,
   "id": "5a4d5d79",
   "metadata": {
    "scrolled": true
   },
   "outputs": [
    {
     "name": "stdout",
     "output_type": "stream",
     "text": [
      "<class 'pandas.core.frame.DataFrame'>\n",
      "RangeIndex: 112 entries, 0 to 111\n",
      "Data columns (total 3 columns):\n",
      " #   Column  Non-Null Count  Dtype \n",
      "---  ------  --------------  ----- \n",
      " 0   title   112 non-null    object\n",
      " 1   desc    112 non-null    object\n",
      " 2   link    112 non-null    object\n",
      "dtypes: object(3)\n",
      "memory usage: 2.8+ KB\n"
     ]
    }
   ],
   "source": [
    "df.info()"
   ]
  },
  {
   "cell_type": "markdown",
   "id": "641f3d97",
   "metadata": {},
   "source": [
    "----------------------"
   ]
  },
  {
   "cell_type": "markdown",
   "id": "75d30286",
   "metadata": {},
   "source": [
    "### [실습문제] : Selenium을 이용하여 TEXT 정보 추출하여 표로 만들기\n",
    "자신이 원하는 TEXT 검색 페이지를 정해서 100개 이상 텍스트 정보 추출해서 표로 출력하기"
   ]
  },
  {
   "cell_type": "code",
   "execution_count": null,
   "id": "10d9596d",
   "metadata": {},
   "outputs": [],
   "source": []
  },
  {
   "cell_type": "markdown",
   "id": "c93264ee",
   "metadata": {},
   "source": [
    "-------------------------"
   ]
  }
 ],
 "metadata": {
  "kernelspec": {
   "display_name": "Python 3 (ipykernel)",
   "language": "python",
   "name": "python3"
  },
  "language_info": {
   "codemirror_mode": {
    "name": "ipython",
    "version": 3
   },
   "file_extension": ".py",
   "mimetype": "text/x-python",
   "name": "python",
   "nbconvert_exporter": "python",
   "pygments_lexer": "ipython3",
   "version": "3.10.9"
  }
 },
 "nbformat": 4,
 "nbformat_minor": 5
}
