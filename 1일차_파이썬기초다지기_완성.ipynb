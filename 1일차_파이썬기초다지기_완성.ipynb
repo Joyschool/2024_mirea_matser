{
  "cells": [
    {
      "cell_type": "markdown",
      "metadata": {
        "id": "zRxHpy-28GGG"
      },
      "source": [
        "# 1일차-파이썬 기초 다지기"
      ]
    },
    {
      "cell_type": "markdown",
      "metadata": {
        "id": "VRVM91mPB34V"
      },
      "source": [
        "## 1.파이썬 이해하기"
      ]
    },
    {
      "cell_type": "markdown",
      "metadata": {
        "id": "hOwZhukd8GGK"
      },
      "source": [
        "### 1-2.파이썬 학습환경 만들기"
      ]
    },
    {
      "cell_type": "markdown",
      "metadata": {
        "id": "HAFtSTG28GGL"
      },
      "source": [
        "#### 파이썬 설치 위치 확인"
      ]
    },
    {
      "cell_type": "code",
      "execution_count": null,
      "metadata": {
        "id": "46cMOIHW8GGM"
      },
      "outputs": [],
      "source": [
        "import sys\n",
        "\n",
        "sys.executable"
      ]
    },
    {
      "cell_type": "code",
      "execution_count": null,
      "metadata": {
        "id": "CO9pIWvq8GGN",
        "scrolled": true
      },
      "outputs": [],
      "source": [
        "print(sys.path)"
      ]
    },
    {
      "cell_type": "markdown",
      "metadata": {
        "id": "-phEzFfX836e"
      },
      "source": [
        "#### 현재 경로"
      ]
    },
    {
      "cell_type": "code",
      "execution_count": null,
      "metadata": {
        "colab": {
          "base_uri": "https://localhost:8080/"
        },
        "id": "RuHGZ7Be88ng",
        "outputId": "b5b422b9-911f-4c65-817a-392f1dc1ea75"
      },
      "outputs": [
        {
          "name": "stdout",
          "output_type": "stream",
          "text": [
            "/content\n",
            "['.config', 'sample_data']\n",
            "/content\n"
          ]
        }
      ],
      "source": [
        "import os\n",
        "\n",
        "#현재 폴더 경로; 작업 폴더 기준\n",
        "print(os.getcwd())\n",
        "print(os.path.realpath('./'))\n",
        "\n",
        "#현재 디렉토리의 파일 리스트\n",
        "print(os.listdir(os.getcwd()))\n",
        "\n",
        "#디렉토리 변경\n",
        "# os.chdir('/')"
      ]
    },
    {
      "cell_type": "markdown",
      "metadata": {
        "id": "0ys111OTCLoc"
      },
      "source": [
        "### 1-3.파이썬 라이브러리 사용 방법"
      ]
    },
    {
      "cell_type": "markdown",
      "metadata": {
        "id": "5KtJAiS08GGO"
      },
      "source": [
        "#### 설치된 라이브러리 전체 확인"
      ]
    },
    {
      "cell_type": "code",
      "execution_count": null,
      "metadata": {
        "id": "0bsTdq6y8GGO"
      },
      "outputs": [],
      "source": [
        "pip list"
      ]
    },
    {
      "cell_type": "markdown",
      "metadata": {
        "id": "G_IjDeFh8GGP"
      },
      "source": [
        "#### 특정 라이브러리 설치 확인"
      ]
    },
    {
      "cell_type": "code",
      "execution_count": null,
      "metadata": {
        "id": "TqvE9YpV8GGP"
      },
      "outputs": [],
      "source": [
        "pip show numpy"
      ]
    },
    {
      "cell_type": "markdown",
      "metadata": {
        "id": "KE15Fd6jCbUK"
      },
      "source": [
        "#### 라이브러리 설치 및 삭제"
      ]
    },
    {
      "cell_type": "code",
      "execution_count": null,
      "metadata": {
        "id": "PlG-i1fYCbdI"
      },
      "outputs": [],
      "source": [
        "# 라이브러리 설치\n",
        "pip install numpy\n",
        "\n",
        "# 라이브러리 삭제\n",
        "# pip uninstall numpy"
      ]
    },
    {
      "cell_type": "markdown",
      "metadata": {
        "id": "6Ef7gKpD8GGP"
      },
      "source": [
        "### 수업에 사용할 라이브러리 일부 설치하기\n",
        "(PC 윈도우 명령프롬프트에서 먼저 실행) pip를 최신으로 업그레이드한 후\n",
        "파이썬 라이브러리를 설치하도록 한다.\n",
        "- python -m pip install --upgrade pip  "
      ]
    },
    {
      "cell_type": "code",
      "execution_count": null,
      "metadata": {
        "colab": {
          "base_uri": "https://localhost:8080/"
        },
        "id": "WnEwfA_x8GGQ",
        "outputId": "776d8469-56cc-4d2b-b4f4-01ca7903c04e"
      },
      "outputs": [
        {
          "name": "stdout",
          "output_type": "stream",
          "text": [
            "Requirement already satisfied: numpy in /usr/local/lib/python3.10/dist-packages (1.23.5)\n"
          ]
        }
      ],
      "source": [
        "!pip install numpy"
      ]
    },
    {
      "cell_type": "code",
      "execution_count": null,
      "metadata": {
        "id": "ZqJSQDet8GGQ"
      },
      "outputs": [],
      "source": [
        "!pip install pandas"
      ]
    },
    {
      "cell_type": "code",
      "execution_count": null,
      "metadata": {
        "id": "JtYjHD2D8GGQ"
      },
      "outputs": [],
      "source": [
        "!pip install matplotlib"
      ]
    },
    {
      "cell_type": "code",
      "execution_count": null,
      "metadata": {
        "id": "BRSzhspAC6J8"
      },
      "outputs": [],
      "source": [
        "!pip install seaborn"
      ]
    },
    {
      "cell_type": "code",
      "execution_count": null,
      "metadata": {
        "id": "8spH-HIwC6Sz"
      },
      "outputs": [],
      "source": [
        "!pip install ploty"
      ]
    },
    {
      "cell_type": "markdown",
      "metadata": {
        "id": "KstHzAdvG1Cv"
      },
      "source": [
        "### 1-4.파이썬 기초 입문하기"
      ]
    },
    {
      "cell_type": "markdown",
      "metadata": {
        "id": "KSNOrnoMHEjD"
      },
      "source": [
        "#### 파이썬 오류&예외처리"
      ]
    },
    {
      "cell_type": "code",
      "execution_count": 15,
      "metadata": {
        "colab": {
          "base_uri": "https://localhost:8080/",
          "height": 146
        },
        "id": "B8pmiTi5G8JX",
        "outputId": "aa4a046e-1567-414a-83fa-c3f958e75288"
      },
      "outputs": [
        {
          "ename": "SyntaxError",
          "evalue": "ignored",
          "output_type": "error",
          "traceback": [
            "\u001b[0;36m  File \u001b[0;32m\"<ipython-input-15-280c9a905a11>\"\u001b[0;36m, line \u001b[0;32m3\u001b[0m\n\u001b[0;31m    if a < 9\u001b[0m\n\u001b[0m            ^\u001b[0m\n\u001b[0;31mSyntaxError\u001b[0m\u001b[0;31m:\u001b[0m expected ':'\n"
          ]
        }
      ],
      "source": [
        "# Syntax 오류 발생 예\n",
        "a = 1\n",
        "if a < 9\n",
        "    print('a < 9')"
      ]
    },
    {
      "cell_type": "code",
      "execution_count": 17,
      "metadata": {
        "colab": {
          "base_uri": "https://localhost:8080/"
        },
        "id": "GJ1Y-0wMHXJd",
        "outputId": "57eb2417-1e49-4238-e868-46c5b5959712"
      },
      "outputs": [
        {
          "name": "stdout",
          "output_type": "stream",
          "text": [
            "Please enter a number: s\n",
            "Oops! That was no valid number. Try again...\n",
            "Please enter a number: 1\n"
          ]
        }
      ],
      "source": [
        "# 오류 예외처리\n",
        "while True:\n",
        "    try:\n",
        "        x = int(input('Please enter a number: '))\n",
        "        break\n",
        "\n",
        "    except ValueError:\n",
        "        print('Oops! That was no valid number. Try again...')\n",
        "\n",
        "print('-----')"
      ]
    },
    {
      "cell_type": "markdown",
      "metadata": {
        "id": "BVZeLUFeILol"
      },
      "source": [
        "### [실습] 파이썬 정보 확인하기\n",
        "\n",
        "\n",
        "1.   설치된 파이썬 버전 출력하기\n",
        "2.   파이썬 실행파일 위치 출력하기\n",
        "\n"
      ]
    },
    {
      "cell_type": "code",
      "execution_count": 19,
      "metadata": {
        "colab": {
          "base_uri": "https://localhost:8080/"
        },
        "id": "wYTlynjPIaj4",
        "outputId": "b8c77198-7e0f-4fcc-999a-b7b438da40d8"
      },
      "outputs": [
        {
          "name": "stdout",
          "output_type": "stream",
          "text": [
            "설치된 파이썬 버전: 3.10.12 (main, Jun 11 2023, 05:26:28) [GCC 11.4.0]\n",
            "파이썬 실행파일 위치: ['/content', '/env/python', '/usr/lib/python310.zip', '/usr/lib/python3.10', '/usr/lib/python3.10/lib-dynload', '', '/usr/local/lib/python3.10/dist-packages', '/usr/lib/python3/dist-packages', '/usr/local/lib/python3.10/dist-packages/IPython/extensions', '/root/.ipython']\n"
          ]
        }
      ],
      "source": [
        "import sys\n",
        "\n",
        "print(f'설치된 파이썬 버전: {sys.version}')\n",
        "print(f'파이썬 실행파일 위치: {sys.path}')"
      ]
    },
    {
      "cell_type": "markdown",
      "metadata": {
        "id": "wl2PYxtB8GGR"
      },
      "source": [
        "----------"
      ]
    },
    {
      "cell_type": "markdown",
      "metadata": {
        "id": "T20_kqnwDKe2"
      },
      "source": [
        "## 2.파이썬 기초 다지기"
      ]
    },
    {
      "cell_type": "markdown",
      "metadata": {
        "id": "GPQdotYg8GGR"
      },
      "source": [
        "### 2-1.파이썬 자료형과 연산자"
      ]
    },
    {
      "cell_type": "markdown",
      "metadata": {
        "id": "tvdq0vw7OBaH"
      },
      "source": [
        "### **[파이썬 자료형]**"
      ]
    },
    {
      "cell_type": "markdown",
      "metadata": {
        "id": "0l4jT7BAI2_t"
      },
      "source": [
        "### [실습문제]\n",
        "\n",
        "\n",
        "-  문제1: 10 + 3 x 4 결과 출력\n",
        "- 문제2: 아이폰 15대를 가지고 있다. 아이폰의 가격이 130만원 일 때 총 금액은?\n",
        "- 문제3: 주어진 자연수가 홀수인지 짝수인지 판별하는 방법은?\n",
        "- 문제4: 2x2x2x5x5x5x5x3x3x3x3을 제곱형태로 나타낸 후 그 결과 출력하기\n",
        "\n"
      ]
    },
    {
      "cell_type": "code",
      "execution_count": null,
      "metadata": {
        "id": "F0LQlgLkI3R2"
      },
      "outputs": [],
      "source": [
        "print('문제1: 10 + 3 x 4  = ', 10 + 3 * 4)\n",
        "\n",
        "iphone = 15\n",
        "price = 1300000\n",
        "print('문제2: 아이폰 15대를 가지고 있다. 아이폰의 가격이 130만원 일 때 총 금액은? ', iphone * price)\n",
        "\n",
        "num = 5\n",
        "print('문제3: 주어진 자연수 ',num,'가 홀수인지 짝수인지 판별하는 방법은?')\n",
        "if num%2==0: print('짝수')\n",
        "else: print('홀수')\n",
        "\n",
        "print('문제4: 2x2x2x5x5x5x5x3x3x3x3을 제곱형태로 나타낸 후 그 결과 출력하기')\n",
        "print(2**3 * 5**4 * 3**4)"
      ]
    },
    {
      "cell_type": "markdown",
      "metadata": {
        "id": "rQVzLcNR8GGR"
      },
      "source": [
        "#### 파이썬 자료형 확인"
      ]
    },
    {
      "cell_type": "code",
      "execution_count": null,
      "metadata": {
        "colab": {
          "base_uri": "https://localhost:8080/"
        },
        "id": "re9ioSIM8GGR",
        "outputId": "ac0c28b3-c796-40de-b349-d6b1b8696942"
      },
      "outputs": [
        {
          "name": "stdout",
          "output_type": "stream",
          "text": [
            "123의 자료형: <class 'int'>\n",
            "123의 자료형: <class 'str'>\n",
            "[123]의 자료형: <class 'list'>\n",
            "(123,)의 자료형: <class 'tuple'>\n",
            "{'key': 123}의 자료형: <class 'dict'>\n",
            "{123}의 자료형: <class 'set'>\n",
            "True의 자료형: <class 'bool'>\n"
          ]
        }
      ],
      "source": [
        "d1 = 123\n",
        "d2 = '123'\n",
        "d3 = [123]\n",
        "d4 = (123,)\n",
        "d5 = {'key':123}\n",
        "d6 = {123}\n",
        "d7 = True\n",
        "\n",
        "print(f'{d1}의 자료형: {type(d1)}')\n",
        "print(f'{d2}의 자료형: {type(d2)}')\n",
        "print(f'{d3}의 자료형: {type(d3)}')\n",
        "print(f'{d4}의 자료형: {type(d4)}')\n",
        "print(f'{d5}의 자료형: {type(d5)}')\n",
        "print(f'{d6}의 자료형: {type(d6)}')\n",
        "print(f'{d7}의 자료형: {type(d7)}')"
      ]
    },
    {
      "cell_type": "code",
      "execution_count": null,
      "metadata": {
        "id": "gbzIvlUi8GGR",
        "scrolled": true
      },
      "outputs": [],
      "source": [
        "datas = [123,'123',[123],(123,),{'key':123},{123},True]\n",
        "\n",
        "for d in datas:\n",
        "         print(f\"데이터 '{d}' 의 자료형: {type(d)}\")"
      ]
    },
    {
      "cell_type": "markdown",
      "metadata": {
        "id": "EDFiaZyv8GGR"
      },
      "source": [
        "#### 실습문제\n",
        "두 수를 입력 받아 덧셈, 뺄셈, 곱셈, 몫, 나머지를 출력하는 프로그램을 작성하세요\n"
      ]
    },
    {
      "cell_type": "code",
      "execution_count": null,
      "metadata": {
        "id": "a9sG7Q738GGS",
        "scrolled": true
      },
      "outputs": [],
      "source": [
        "num1 = input('첫번째 숫자: ')\n",
        "num2 = input('두번째 숫자: ')\n",
        "\n",
        "num1 = int(num1)\n",
        "num2 = int(num2)\n",
        "\n",
        "#print(num1)\n",
        "#print(num2)\n",
        "print('-'*30)\n",
        "print('덧셈: %d + %d = %d' % (num1,num2,num1+num2))\n",
        "print('뺄셈: %d - %d = %d' % (num1,num2,num1-num2))\n",
        "print('곱셈: %d * %d = %d' % (num1,num2,num1*num2))\n",
        "print('몫  : %d // %d = %d' % (num1,num2,num1//num2))\n",
        "print('나머지: %d %% %d = %d' % (num1,num2,num1%num2))"
      ]
    },
    {
      "cell_type": "markdown",
      "metadata": {
        "id": "13-r2xBt8GGS"
      },
      "source": [
        "#### format( ) 함수를 이용한 출력방법\n",
        "format( ) 함수와 { }를 함께 사용해서 출력하기\n"
      ]
    },
    {
      "cell_type": "code",
      "execution_count": null,
      "metadata": {
        "id": "KyJObMhd8GGS"
      },
      "outputs": [],
      "source": [
        "print( '{0:=^50}'.format( '다른 방법' ) )\n",
        "num1 = int( input( 'Input number1 : ' ) )\n",
        "num2 = int( input( 'Input number2 : ' ) )\n",
        "\n",
        "add = num1 + num2\n",
        "subtract = num1 - num2\n",
        "multiple = num1 * num2\n",
        "divide = num1 / num2\n",
        "mod = num1 % num2\n",
        "\n",
        "print()\n",
        "print( '{0:^6} + {1:^6} = {2:<6}'.format( num1, num2, add ) )\n",
        "print( '{0:^6} - {1:^6} = {2:<6}'.format( num1, num2, subtract ) )\n",
        "print( '{0:^6} * {1:^6} = {2:<6}'.format( num1, num2, multiple ) )\n",
        "print( '{0:^6} / {1:^6} = {2:<6.2f}'.format( num1, num2, divide ) )\n",
        "print( '{0:^6} % {1:^6} = {2:<6.2f}'.format( num1, num2, mod ) )"
      ]
    },
    {
      "cell_type": "markdown",
      "metadata": {
        "id": "LqAbyRHs8GGS"
      },
      "source": [
        "#### 실습문제 :  시간 계산 프로그램\n",
        "속력과 거리를 입력 받아 시간을 계산하여 출력하는 프로그램을 만드세요!\n",
        "- 시간 = 거리 / 속력\n",
        "\n"
      ]
    },
    {
      "cell_type": "code",
      "execution_count": 20,
      "metadata": {
        "colab": {
          "base_uri": "https://localhost:8080/"
        },
        "id": "YwepfYt98GGS",
        "outputId": "7673e3d5-8753-4cb8-a6e3-4350c7916eaa"
      },
      "outputs": [
        {
          "name": "stdout",
          "output_type": "stream",
          "text": [
            "속력를 입력해 주세요(km/h) : 100\n",
            "거리를 입력해 주세요(km) : 340\n",
            "------------------------------\n",
            "속력 : 100.0 km/h \n",
            "거리 : 340.0 km \n",
            "시간 : 3.4 h\n"
          ]
        }
      ],
      "source": [
        "velocity = input('속력를 입력해 주세요(km/h) : ')\n",
        "distance = input('거리를 입력해 주세요(km) : ')\n",
        "\n",
        "velocity = float(velocity) # 실수 자료형으로 변환\n",
        "distance = float(distance) # 실수 자료형으로 변환\n",
        "\n",
        "print('-' * 30)\n",
        "print(f'속력 : {velocity} km/h ')\n",
        "print(f'거리 : {distance} km ')\n",
        "print(f'시간 : {distance/velocity} h')"
      ]
    },
    {
      "cell_type": "markdown",
      "metadata": {
        "id": "sHIxGA0xLj0C"
      },
      "source": [
        "- eval()함수 사용하여 문자열을 계산할 수 있다"
      ]
    },
    {
      "cell_type": "code",
      "execution_count": 21,
      "metadata": {
        "colab": {
          "base_uri": "https://localhost:8080/"
        },
        "id": "gvVxuLjX8GGS",
        "outputId": "70d630a2-05ea-497f-f891-2a1488210640"
      },
      "outputs": [
        {
          "name": "stdout",
          "output_type": "stream",
          "text": [
            "3.4\n"
          ]
        }
      ],
      "source": [
        "# eval()함수 사용\n",
        "time = eval(f'{distance} / {velocity}')\n",
        "print(time)"
      ]
    },
    {
      "cell_type": "markdown",
      "metadata": {
        "id": "tECEWKan8GGS"
      },
      "source": [
        "#### 실습문제 : 정수 합 구하기\n",
        "아래와 같이 정수 n을 입력 받아, a + aa + aaa의 결과 값을 구하는 프로그램을 작성하세요"
      ]
    },
    {
      "cell_type": "code",
      "execution_count": 24,
      "metadata": {
        "colab": {
          "base_uri": "https://localhost:8080/"
        },
        "id": "a04GPnn98GGS",
        "outputId": "52f6b1cf-325d-4b31-bcce-8afb6775ea03",
        "scrolled": true
      },
      "outputs": [
        {
          "name": "stdout",
          "output_type": "stream",
          "text": [
            "정수를 입력하세요: 7\n",
            "7 + 77 + 777 = 861\n"
          ]
        }
      ],
      "source": [
        "a = input('정수를 입력하세요: ')\n",
        "\n",
        "aaa = int(a+a+a)\n",
        "aa = int(a+a)\n",
        "a = int(a)\n",
        "\n",
        "print(f'{a} + {aa} + {aaa} = {a+aa+aaa}')"
      ]
    },
    {
      "cell_type": "code",
      "execution_count": 25,
      "metadata": {
        "colab": {
          "base_uri": "https://localhost:8080/"
        },
        "id": "23pLknXu8GGT",
        "outputId": "60644618-a571-4f98-8969-d6f05e0c7894"
      },
      "outputs": [
        {
          "name": "stdout",
          "output_type": "stream",
          "text": [
            "정수를 입력하세요: 7\n",
            "7 + 77 + 777 = 861\n"
          ]
        }
      ],
      "source": [
        "a = input('정수를 입력하세요: ')\n",
        "k = f'{a} + {aa} + {aaa}'\n",
        "print(f\"{a} + {aa} + {aaa} = {eval(f'{a} + {aa} + {aaa}')}\")"
      ]
    },
    {
      "cell_type": "markdown",
      "metadata": {
        "id": "fCTCbmTxM-me"
      },
      "source": [
        "#### 내장 수학 함수\n",
        "- 파이썬 내장 함수 https://docs.python.org/ko/3.10/library/functions.html"
      ]
    },
    {
      "cell_type": "code",
      "execution_count": 26,
      "metadata": {
        "colab": {
          "base_uri": "https://localhost:8080/"
        },
        "id": "6Edr-y4FNAzY",
        "outputId": "3e3ee2bd-7f59-43dd-cca1-e75238cb6a42"
      },
      "outputs": [
        {
          "name": "stdout",
          "output_type": "stream",
          "text": [
            "원주율: 3.141592653589793\n",
            "절대값: 10\n",
            "반올림: 1.79\n",
            "올림  : 2\n",
            "내림  : 1\n",
            "제곱  : 1024.0\n",
            "제곱근: 2.0\n",
            "로그  : 2.302585092994046\n"
          ]
        }
      ],
      "source": [
        "import math\n",
        "\n",
        "print(f'원주율: {math.pi}')\n",
        "print(f'절대값: {abs(-10)}')\n",
        "print(f'반올림: {round(1.791, 2)}')\n",
        "print(f'올림  : {math.ceil(1.7)}')\n",
        "print(f'내림  : {math.floor(1.7)}')\n",
        "print(f'제곱  : {math.pow(2, 10)}')\n",
        "print(f'제곱근: {math.sqrt(4)}')\n",
        "print(f'로그  : {math.log(10) }')"
      ]
    },
    {
      "cell_type": "markdown",
      "metadata": {
        "id": "aW7za8RUNErb"
      },
      "source": [
        "### [실습문제] : 수학 함수 사용하기\n",
        "- 문제1: 반지름이 4인 원의 넓이 출력\n",
        "- 문제2: 3.14 곱하가 2 나누기 7의 값을 반올림하여 계산 결과 출력\n",
        "- 문제3: 원주율을 3.14로 만들어서 반지름이 4인 원의 둘레의 길이 출력"
      ]
    },
    {
      "cell_type": "code",
      "execution_count": 27,
      "metadata": {
        "colab": {
          "base_uri": "https://localhost:8080/"
        },
        "id": "wdpC3giLNOhp",
        "outputId": "c60dc0b3-372c-4b28-ac2d-6213acae3b59"
      },
      "outputs": [
        {
          "name": "stdout",
          "output_type": "stream",
          "text": [
            "문제1: 50.24\n",
            "문제2: 1\n",
            "문제3: 25.12\n"
          ]
        }
      ],
      "source": [
        "import math\n",
        "\n",
        "r = 4   # 반지름\n",
        "pi = 3.14   # 원주율\n",
        "\n",
        "print(f'문제1: {pi*(r**2)}')\n",
        "print(f'문제2: {round(pi*2/7)}')\n",
        "pi = round(math.pi, 2)  # 원주율\n",
        "print(f'문제3: {2*pi*r}')"
      ]
    },
    {
      "cell_type": "markdown",
      "metadata": {
        "id": "em_gXIiP8GGT"
      },
      "source": [
        "-----"
      ]
    },
    {
      "cell_type": "markdown",
      "metadata": {
        "id": "_AgpChJ_Ntbt"
      },
      "source": [
        "### **[문자와 문자열]**"
      ]
    },
    {
      "cell_type": "markdown",
      "metadata": {
        "id": "hCBT7HywOk5c"
      },
      "source": [
        "#### 문자와 문자열 변환"
      ]
    },
    {
      "cell_type": "code",
      "execution_count": null,
      "metadata": {
        "id": "D1WbhodqOrVN"
      },
      "outputs": [],
      "source": [
        "# 문자 --> 숫자(정수) 로 변환 : ord() 함수 사용\n",
        "print( ord('A') )\n",
        "print( ord('!') )\n",
        "print( ord('가') )"
      ]
    },
    {
      "cell_type": "code",
      "execution_count": null,
      "metadata": {
        "id": "xS6nc_-XOw9X"
      },
      "outputs": [],
      "source": [
        "# 숫자(정수) --> 문자 로 변환 : chr() 함수 사용\n",
        "print( chr(65) )\n",
        "print( chr(66) )\n",
        "print( chr(97) )\n",
        "print( chr(98) )\n",
        "print( chr(44032) )\n",
        "print( chr(44033) )"
      ]
    },
    {
      "cell_type": "code",
      "execution_count": null,
      "metadata": {
        "id": "_gesbU8AOzJ_"
      },
      "outputs": [],
      "source": [
        "# 문자 --> 숫자 --> 이진수 로 변환\n",
        "for c in '파이썬':\n",
        "    숫자변환 = ord(c)              # unicode\n",
        "    이진수변환 = bin(숫자변환)     # 16진수 binarycode\n",
        "    print( 이진수변환, end = ' ')  # 한 줄로 표현하기"
      ]
    },
    {
      "cell_type": "code",
      "execution_count": null,
      "metadata": {
        "id": "ZQyZdBeSOzrE"
      },
      "outputs": [],
      "source": [
        "for c in '파이썬':\n",
        "    # 이진수에서 앞'0b'를 없애기 위해 format() 함수 사용할 수 있다.\n",
        "    print( format(ord(c), 'b'), end = ' ')  # 한 줄로 표현하기"
      ]
    },
    {
      "cell_type": "markdown",
      "metadata": {
        "id": "xpJdl4QwO55X"
      },
      "source": [
        "#### 문자열 따옴표로 지정"
      ]
    },
    {
      "cell_type": "code",
      "execution_count": null,
      "metadata": {
        "id": "zl_C1UOnPC8k"
      },
      "outputs": [],
      "source": [
        "# 큰 따옴표 or 작은 따옴표로 지정한다\n",
        "print('Hello')\n",
        "print(\"Hello\")\n",
        "print(\"Hello 'world\")\n",
        "print('Hello \"world')\n",
        "print(' \"Yes, I can!\" ')"
      ]
    },
    {
      "cell_type": "code",
      "execution_count": null,
      "metadata": {
        "id": "P3Q6389qPDW6"
      },
      "outputs": [],
      "source": [
        "#따옴표 세 개 사용 : 여러 줄로 표현할 때\n",
        "a = '''박씨가 소리질렀다.\n",
        "도둑이야!'''\n",
        "print(a)"
      ]
    },
    {
      "cell_type": "code",
      "execution_count": null,
      "metadata": {
        "id": "ZNImZioTPMTF"
      },
      "outputs": [],
      "source": [
        "menu = '''OOO카페 메뉴판\n",
        "- 아메리카노:  3000원\n",
        "- 카페라테:     4000원\n",
        "- 카페모카:     5000원'''\n",
        "print(menu)\n",
        "coffee = input('주문하실 음료를 입력하세요(ex:아메리카노) => ')\n",
        "cup = input(f'{coffee} 몇 잔을 주문하시겠습니까?: ')\n",
        "\n",
        "print(f'주문하신 음료는 {coffee} {cup} 잔 입니다.')"
      ]
    },
    {
      "cell_type": "markdown",
      "metadata": {
        "id": "0hueAcbNczkD"
      },
      "source": [
        "#### 문자열 연산\n",
        "- (+): 문자열 연결하기\n",
        "- (*) : 반복의 의미"
      ]
    },
    {
      "cell_type": "code",
      "execution_count": null,
      "metadata": {
        "id": "Z5KLgMT3c5kA"
      },
      "outputs": [],
      "source": [
        "# 문자열 연결하기\n",
        "print('Hello'+'world')\n",
        "print('Hello','world', '!')\n",
        "\n",
        "a = \"Python\"\n",
        "b = \" is very fun!\"\n",
        "print(a+b)"
      ]
    },
    {
      "cell_type": "code",
      "execution_count": null,
      "metadata": {
        "id": "3CNBVzLJc53l"
      },
      "outputs": [],
      "source": [
        "# 반복의 의미\n",
        "print('Hello'*3)\n",
        "print('-' * 30)"
      ]
    },
    {
      "cell_type": "markdown",
      "metadata": {
        "id": "zGFtY_D1ckjy"
      },
      "source": [
        "### 실습문제 : 문자열 출력하기\n",
        "- 문제1: 화면에   Mary’s cosmetics   출력\n",
        "- 문제2: 화면에  박씨가 소리질렀다. “도둑이야!”.  출력\n",
        "- 문제3: 다음 코드 실행시켜서 \\t와 \\n의 역할 확인하기 <br>\n",
        "print(\"안녕하세요.\\n오늘\\t날씨가\\t\\t좋습니다.\")"
      ]
    },
    {
      "cell_type": "markdown",
      "metadata": {
        "id": "r8pXLsfbcpuE"
      },
      "source": [
        "print(\"문제1: Mary’s cosmetics\")\n",
        "print('문제2: 박씨가 소리질렀다. “도둑이야!”')\n",
        "print(\"문제3: 안녕하세요.\\n오늘\\t날씨가\\t\\t좋습니다.\")"
      ]
    },
    {
      "cell_type": "markdown",
      "metadata": {
        "id": "Hb6l5EjLQB2m"
      },
      "source": [
        "### 실습문제 :  구글TTS(gTTS) 사용하여 음성 출력하기"
      ]
    },
    {
      "cell_type": "code",
      "execution_count": null,
      "metadata": {
        "id": "-eY--f6MPwTf"
      },
      "outputs": [],
      "source": [
        "# 구글 tts 프로그램\n",
        "!pip install gTTS"
      ]
    },
    {
      "cell_type": "code",
      "execution_count": 33,
      "metadata": {
        "colab": {
          "base_uri": "https://localhost:8080/",
          "height": 75
        },
        "id": "O_xqpl0pPx6k",
        "outputId": "10199e4e-34db-401f-af80-e20b1ddd3622"
      },
      "outputs": [
        {
          "data": {
            "text/html": [
              "\n",
              "                <audio  controls=\"controls\" autoplay=\"autoplay\">\n",
              "                    <source src=\"data:audio/x-wav;base64,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\" type=\"audio/x-wav\" />\n",
              "                    Your browser does not support the audio element.\n",
              "                </audio>\n",
              "              "
            ],
            "text/plain": [
              "<IPython.lib.display.Audio object>"
            ]
          },
          "metadata": {},
          "output_type": "display_data"
        }
      ],
      "source": [
        "# 영어 출력\n",
        "from gtts import gTTS\n",
        "from IPython.display import Audio\n",
        "\n",
        "eng_wav = gTTS('Hello World!')\n",
        "eng_wav.save('eng.wav')\n",
        "\n",
        "display(Audio('eng.wav', autoplay=True))"
      ]
    },
    {
      "cell_type": "code",
      "execution_count": 35,
      "metadata": {
        "colab": {
          "base_uri": "https://localhost:8080/",
          "height": 75
        },
        "id": "inyZATWlP3Cp",
        "outputId": "724ac4e7-e2a5-44b3-ecb5-ddce00b19114"
      },
      "outputs": [
        {
          "data": {
            "text/html": [
              "\n",
              "                <audio  controls=\"controls\" autoplay=\"autoplay\">\n",
              "                    <source src=\"data:audio/x-wav;base64,//NExAARmt4kAUYQAbu7u+0XZ5MmTJkyYAAAAABAgQQg5znfIQ5znOc5//////7f//////////+chCEIQhCHOc5znOchCEIQhCAYGLDw8PAAAAEK/BzoMKIGP+8c0Gev//NExAwSyXKQAY+AAPaIvK/m6ciwsI5fjLjNn0SDiMBlyj9O6EuJmCbf06kGRdJaBr/Ug3VSuifZ4YP5UuCbwp/97uXZ/3/jjkSlC9U5A0xIAkYHRfQw6nZYxczJPA0y//NExBMWyXK8AY94AOhYC7hXDwL+tjsHAmQ8QSvOuAdDMMwmKHpoNQNBFM8184pD3ulGCakT/N/ulMx9X3ApmBEr/871veNY1mnxjECAaR/UCf//9Soqi2KY0EWSmZuX//NExAoUwXrQAY94AJdp1ENyGqklJ5INHI5yJMdR/FyLknlwdyeeG+ZpbU/GPgvyYzulKOUb53ZyzB99xolMUmi0k98vd+Lvf/+fqu7WvTG8W3G/leoaZKRspgwRcnx7//NExAoS8R7QAY9gAaiPhInujTCQ8uB7OmBCbH0Si6eny0ekYOhy2eicEy1pOTVNmeaLrDLVyO5WPq4+ql2zLDXxVs5FcRMKCjUxIokZll0AeYpZVch4BGAZCfyv1wKq//NExBEVCT6wAZh4AE+NYaGzVzpH1QmOdDxvjNkLKYUr8Tes7ee8+aywyaNza5khZY8bOov1pnUisYGF/L2LPzmWD9fNMUvmHERVvIf///RVS2MVEjxbkyYTBDocUOg4//NExA8U6Qp8Adt4AFTNWsxIPRKBzU14ZCKSquGo/N6JJ92WfUWnnxKN9ZQQ81p61rp5Oy+1vSv3n2y3xdssKDiMzViAoFzDLit/6f//rR+8gmsZnvVlgkoijJqGuLEB//NExA4SqQZ4AN4McKVJEPxgkPIaZoMfT6uOAt6OLlsSyD5Y9FeG5D/OZtjtJyeFWD1GQ7/ezNMlV50mNe3dPo9qbUf/9wqn6FWCF8Hj3bUQK6FICSgRibPHQZgT00sI//NExBYSiL54AN4eTHS+C4rdTgrJSVrgqrntAbiJim78a7/UtvF6/9rGWo6O2KNihU0a++lS9zWL1/+lU6R/JqUqniAGbiUYcGZ0SZwODQ5sTyswRZMNgbZrEGzcuipw//NExB4QKHqIANYMSD2oPRrGI4FEFzAiDwmUL+7mGA//7rT6Ervr/bhgUs4ut6C95KSxaNHpymEc5qRjJ1HUnFqUlPXIEQSCQwPCx7pFV1//+8JTpkAsx98Z4/v/+OZC//NExDAQYVKkAMoMlALTtt8NOux6NkwYIMKf//2epedUwHv0g6VoEaELhY8NKLwP2UMLFySTtpHO1J3WfPk8ijfNAhLBRonbROINh+Y7WF34cs5dBFNOtkOnZNEgRTYt//NExEEQiV60AMJMleMq1xQ4X3aUNGgWWxIzTspQkRTIG6vCnG0q7VkyhdzMdmlnYeLSonqDUK1ZKO20KJBZJSZAosQo1k4yTyMmIw3K2SaSBcWfayUziVX6i+yOUvwT//NExFESSVa4AMMSlacJUXNt3GJtAzUB/1R39kdImjN/C3fXX6RuMDnRCACdeq8/VMhIBJ0FBaQ4IMOTW/749X/2+W5qBk0hKrGqxoCQ4WFS6Q2vTJIKBuIekTMFOCK+//NExFoRGV68AMMMlUmE2k+4c+UHZQlwqXcJup6jVmUpbZtKZH+Cxawuxqp/EJRlIL10t9+pN+Of+Fqm85/Jq7S2VccoqN5ooghDZkiiNh4wuVSM2EnZIZfDRZD8LirD//NExGgSiWa0AMPSlJDUhNYF8vLAdLNSLG/g69I3pnOwquR2iUBiRCgQYyfruhl5OiUMDyFNHSrLAlENpmioJRCJDAnmmyArzUSwrJqRzXtjbOnFXOiU2rWAKNAE0KAs//NExHAR6Va4AMPGla3Ndyyx53HHPmPf/Hi7LqG1DMsM+spnCzlDRXHFhBTgqcHxM9xZKHARHVpVkQCsYCCAbyK6gSxl8W4hR9iwhoCChyjLD8BPINEnLVxi5zn4v7W9//NExHsSQV6sAMYGlb/XyWtxmBHtwUr8Ujh9//wbGwqU9W3yU6JAZuCCqhiuwcSJARnga7BpuhOJRYfBdRzDGFqDhLgMYggSUnShUSHEvNIkStcGj5VMzY0tPodatczM//NExIUSMVqkAMPGlbPWMwNQG4nQ08LojiGB7qadlu4vAlCZMJbp12pMoxAQBbiadhHtTZoB8ZoimfGxhC6aWBiJQA2+YeBDwcrYY0KsFVMTCzUURSIGCKBRxTLLsqdM//NExI8V0R6MANPScVmiQO8k9Ny6X0UVpX5pX95GeSSmgBDjsURfEOOQ0VOP1DyCo8hJ5K1GtiExE7FUsWDanv81hxaUm040cdKnbM/jR3z88Ai3//1fW5V1BorOUFDU//NExIoguYZwAN4elOENmbAhbMWJgxrCxcZIBCIrMSEBIxchYUWAXEMxBA+0ODvHGO00xNTfJMXQr1ctzzxIbkwOTY7XrNVn/f2SzYnk4rHSSARUw1IMjCGoQTSiCpR0//NExFoaGYJ0ANvWlW/+/m+utl72w1i0EYCjCnBC42VsAgASMxLuhx4FgUaIBGDF61VgSqmbS/L6eSCdSC5OqOm7pZhKR6jKxJQlOk6J7a7lAiYooYUgeTwWbIxRBbp+//NExEQUEQ6AANvMcSzT////b11QIAKKtqp4TE0kywBM5iwwdMYG2CDSCOhosDFQakYeoiObjyM5ZN2Y0V88T9WUTZCsXx21sl1Pj+fraVysuiigphxy6KH2f/e0qCpG//NExEYRcP6AANvMcFFTEMUw8VN+Jx7rMtJi6hjY+DAUFHdMRBgTxwlxYBsuiMID5fOW4qUJK9CrZeOxsSlsvDZgqjGM+BD0CU2e/+4LMGgnKK1///pQmnCNB5Bgw5PY//NExFMSoO5wANsGcOqUMkbJgK7n9jkgacajpKobEUjmJLNmGEC82dkd7eNqWuR0qGrgQeMgqBcWu+yxpWC4oJTjQaWAWFf1M9v2mWJ1VThAMlwgNOpwFWvo0hYWQRmm//NExFsSSPpsANJGcLWXccJda/LK1Wl1edyAgoFAKVBYWBqmHQ0vEoq5Z3Vs6zrYlLJGgqdOs/2PO6Xd7KpWtTChQ0PiTPYoGCrdwftdbMv+5Yadb4wZsaDGC1FPxgzh//NExGQQ4HZQAVkwAKF8NoRRqh90CXSNBxDzJIT4n/m5gzY1GxNNXS/p78plM3JQyJQOZ/97IXolMC8AbASgLMeIywt//73sgz3xbCYDeO8FvAog4Uh1C8F8Kp//6rdn//NExHMiAypoAZhoAE1IIeTzMNwY5DADYE5C/xoJoOwunxYi3yEIQmc7Kf6T3/////+aNvZzn//8n//v//n6z/7/57P+4btW9dApvya74EYwVJxQ1Z5QLjZZZYhDx6ZO//NExD4gSxaoAcJIAbkaLCSmSkFhGygCw4KFBQiKME5wAApP5GLRpWCwgC7TMA+miKRWCZEhMo9DYXDZsyvLcLuWKnyIdJ0BJN0Fzbjep3IqALWRjYll+edV/ySDGmQq//NExA8WKva4AAhGubsq5mjtf//5apuXjKT1kaK0ZhQ/UYHqgE1DUMBPSGqgIYjAXIGShEFhIGUwwUCHM30FM4xsBUlJKVDOEjYExEyGhEZpoY0uQ689hgBBAfcv7k79//NExAkUuiqwAGCGmKe7n/VW1v+znQw7GPZCo1FM4YCoJhyKf/9JtjI6GjA2FOrZmTUvwEmDMKnDkEnHpbHV6qqWuJPNNkZ4k9Eq6WIqaksOYOAqJY1S3KBGQEoPNKEH//NExAkToWKsAMsMlCnRDIhJPEIE+oo/byxWzFbUj1fHVt/r99FkJPVshWTGV9OT1wtTAirSQcnphD1GbfbHaHYhre2Q78wr/+7NxcP3tmX//ornGHj7NQRhkztCF9RY//NExA0VEV6sAMvSlMf0VHjPxtxyZ9Okvlm+XLHVny2bu+8idmgDMmJmQqbmpE6ScH2rBwSsisIwL7azvNnC/6X6XTE6q5xqyeYrf//+0oHWo7m6KtYkpSlmY7FLGVhR//NExAsRuVq0AMNWlGUptsNbPyOvJA1k9pI5daX8m5rjyY4Lp8cIKh0B46IkzFCDAjYilnn9pzKa2r/WY1JNPvIG9Ce///3kFf2WGlcrpYzFaYGcHqy5oznY7KcksxP1//NExBcRqVa0AMNSlBvJ2ibyp5k6xilNIPzKEHdIdzFF2LIcSNMFQRN+s6ftmfr+/F2yJm7SgI////egiuUJCmRYwUBDYFiZjzKt+alW/Z4/bGNlVw0lXx5oNhDAGPGA//NExCMQ8UqwAMoKlNW2Kg0RRTMEwKhA9rKWhttnQWqLC0l+Us//tYn9//TPrqaVmL6kVbiJ8PNxLyhsyCJKo17Zr/laWpexvQCFBQEShk6pB4iVAX/YnipU7Nv/PZU6//NExDIPuLacAMJETAq1/T3FvvhIO/RlZ1dAIUNKpW/////////8i//TCK513c0CCA4gOLMISFwieJXcv0L/z4QcDfly+FXd4I4XKfmX/C+ElfsRCKwkpk6V9EDwEkd+//NExEYRku60ABBGudXM4sYP////P//7/4Cx8eHMggkpVPOxL7PSwalHh4/81jZss+/cfe9/lxrZVtcbfv7qVmF60+suzc57YxODkDDT7cfqF6pd+e9KRtrNaMVzxTgC//NExFIUau7AAAhMuVNIBwBIWSkOx7Xz8fv93vg1C/8tZpz4vRwx2sYUgZtWb+v3Z/mv9aez8zmR5aZ1SUxtwpbOWjyoGEnExjogdglyCkzW8qfS1c6aOidlq6JTlJoN//NExFMRyo7AAFhEuZcDQwfK3/qu/fG03+JaPEY/NB5WaF6oy6k/Wp3TkhCqbiJwkWNuNf1/+n28tJMUBh4a/uxd3XoVrYPGb6Sq+ACBOZIZSxMwhceJ2M4cyYOmMC8W//NExF4QkOa0AMJQcGLeXwIUjxGQzfkgjH4hzpBPwbBvbTG6cX/P7PSP+rcOIfkp/Ru/////+lXGnUUMzpmWScsqDxV/FFjDloWJqWSOThpbDy5XVdfijvLuL7MMp+pL//NExG4RUVKkANNWlOGsf5+/m+fJIt/ulaisByqFyLKNHq2+4ux3UHk0QkKCaT///9f97qWpTy4AQKtFQqCgKcaQZATQRZxOvBLub4dWm8fZ4qw3Atp1YGeB9WGxDYud//NExHsT8U6YAN4OlP/pGxSNu8r2VYBGgiJI+kch8///bv9+y8Goqktwi7///7XfvrWgigJUn7qIthQAMKRIaoeYJKBjLipJlmkDpZUQQlxPcsQ4VREQTO1s0GBmzMVT//NExH4T4U6cANvMlFFu5WFRYLhwPDRRP//2disPb///+r/oceZMDxE0cMwYBDBCGGg8SAMZI5h8FEwLL/gMJqEoJ6iDGodRviGjVOgykvHcnOsWLXI7uyiztwQpmSqw//NExIERQUaYANPKcJiJszpVrtf6Sf/////SLukwDNJQkzCRh4EGnxGSgowSITDwCY4MhtCxRjyJLIO5RQk83oY5MyLWFefrLp9/W3X2aNySpROKJgEaZOsZ/r////////NExI8SeNp8AOPScNN914GUZ0BRyCUeZjJxdowURyYOprhEXZCrx4t5bcIhiKZ4zh0iZD5nSxqbD6Inos04gpYV72KijKHaepCv7//Fv0/6FYKEAMwOkOvgQfFHtABw//NExJgReNJsAOPMcBxy+uR5ZNFKzDkMTj97tOxr2KnZ0teYTtPRH5UNRHY47EgAQiLyuggQMRHiK4jl4Gig7P/xg4dP8cvOnZbtVf9JWOT5d75yDO3B4fASCMxhcf7p//NExKUQ0IpgAOYSTDf+HjjwD3ef4AYI8R/yePzwwc7Qfhn/4fOqhmGjVZg51GDnI1fDoQecv296QGUP+0T7tObRfKd+WXrL/Obz9+uwvaYD4mHQKgPMkrLs9yMyuvdt//NExLQeiVKAANMYlTVe0QS26OaMqi8vnA9huOIEwZJwnNWDzqU/J2Zt39tZrNLdem1+auzl8zZ23S7kNMacdWWawy/CowyBsjJjK70GXDEEomLlw2/mic5II8hYSCgT//NExIwhAhaMANMYmTJcUCF8o21HC78ovMSjSZ996VY6jjjQ0gSFaPbv5CUM/+Y5tCyKw/BGWkwQPgIEb2YBhH///GIef37yKrf9tNW9wheE1J1kQShZGA1PVG5TnJk+//NExFsRyU6oAMlSlOjOzO02eaeaef4liqEI4XA0FAbNtXOklFUoZ6qZ2g+XFQpo0/DJMqLCMZmixjW///80KKtX7E/+7rW5QjnB2C5ChB0Kve6IGbi880/W2Tfvr+J4//NExGYTIVaoAMoSlFN5barj6prFqSMTxqQ5CF2Q0vYaBInuzdLDlwHJUmhBERMqCpAiRPiQoBSBIaEqAIRVUx3/+vywiAgXZd3Boq5P+mb3IbUtC8gCKlIjGAoDToAb//NExGwXcVqgAMvSlKS6SmPIUuEY85/+bLTP/2seH1A+HlYegIh1VR6WQw2XceiPi5i54idrZNTU6aiJ/WoQWVeLqTd5s2n///+l5Za8c58ncALJCwE6FSVL5FVlnJPf//NExGES8UakAMmWcBeeEoaemLn5CVJiFgAxeRPJ4vbkFCHD4fiYfi4P2SavrQQRRdUQcpMYiHUDZ2duoTej0L1xJ0y6IdjhdMm0rJUndQqy1T8ydr7EFUbxCcMtrbuq//NExGgR+VaoAMoKlJNY2yeyTVb0RYrUSXFCnNhTjdriQ6wiPysWgoip/TS9rud1r7i+OFIsXJpjqDH///1Vx7VN5/WyBEiY7HDN7p8KvfBNW/bqfEu+3b8JV38KJuCv//NExHMUWVasAMvYlDpuE2H5EO0x9QgIiYcNkT7huOHCofV+f19z//yo4gSjrEi5g05///3rqfBBo1PJkmiVwWJUZWSr+VqLeD+cv2f/E/wxTeC2a+Z86PF/NQWirasu//NExHQSgVawAMvWlHyxDsi3xEF1lgsrtSy4yy45/mrSdKLj4KK///7BqO5J6G5iRAQAluHGv4tgiaciil4x99Hcdt+gFGjSNLu2qXhKXmRVClpoyjouXa1am1tDx0DS//NExH0SAU6wAMvSlOGuFGCIs95H//0L1Y77f//+teSoGmDssES2BPTSsCVtMUDWKEBlLLardfdZrVYVC5R4HSuc5vZL0VR2t31f5UYeedLf4iKrOprU+W9t3yp0NFvt//NExIgRoPaoAMmYcN61YcYKCBEKTiDtMQg0wmCDE4eCAU0kQgAweGA4HRmm3/MuZb3zfdfU//5m5pEjzWEhs3P5R768MlZJ5KSVo7G//1Wp5WmIv9O/8r9SZ0Vpd1K5//NExJQQoPqIANCOcJ68lHTxbGz9vuWX+g1ZdJHlw0abGJrr7Jpy891W0f1r2aqm//p0GNKaSiIeDk//NS+bmidEkkB7kqWhwB0GKJ9/+Pc3JMtLh8zJcrN3Lgc0bgUg//NExKQSqQZQAVwwAGodAkAxSSdIN8lf//QkwlFlwejIDvHm9seww40DwEwKA+BxiNDYJobiVo0ESFbkP//+ZmZmZmZmlJvMzMzMzMzMzMzMzM5PTOTN9/vv2b052bR5//NExKwg6yqQAZhoAMLCvFt3X6dkZYNjAqoZfKilUsS+cN6hHGXEoCKVQpXGaZkqcVTMwPlDg6kIvj8TLjutaqSyWVXpWm9JHReeiOem8nhVIx0Pic/PDdbdJBjaMtLE//NExHshyxqsAcJgAauN3V7TS/l8bkbdx6qv4Bf//Jf8yCSNfH//cPb58/bJ8/Ihz29NLsi8tOIpoFJLSwk11bTFOb32jzs+kkh8MdFH1sFM9lJXukeT6Zy5V0sErk00//NExEYWQxK8AAhMudUgriyqD2SRqjTSMKjLZjmfwugG9vhCnFo+qu/vlbp5iIFAUZSyTdbqZVVLOCK25/n7z3mJruOMsBrYKZJGeZ6/qMqzqSNnDcjNNRk4//km1LNx//NExEAWama0ABCMuf9iORS2zxRI50ZjNsumOxRU6l0ifkKqJ9/tmrqOgCQtS7L4YvAAHAbpApXUb8PtRne/8/jGg8cScLDupUThsHgiJDhMJAAUOaCiR8+FYogsxCnq//NExDkRcMKsAMJMTHAL+v70ltq3oTSn/6XtZxjrj4PuGCKKxPmSEhqjZpoD/BuOfXSprBcq604/DPFeqStTsWXqnDTULCW5oo+SkpCuGDCKR8WWLIfJP9Iz9R/r+ihn//NExEYViVaoANPSlMxX+qfLnBn//+5YsZ////SqvVlsmbj8zQjcryRIckl4exgrmD1u2M/k5fxomU8pKNTuSuKF6hM7UqqNZMT2B4O3FT5JFbZv/7T457Y4y4NHg0E///NExEIRYU60AMMQlP//1JrLOOAC3FqVGYaoZ2jUroF6+D2asKN5czTztzkiKQI3VxNcjpUNQ21YTlnT6JnED5cfosEnRFKPY1//631ue69w2RZH7Y0Uf///9FXOq9Rg//NExE8SiVakANPSlH4zSPjgIisvkvExl0SF3Jppe5RJRmZghJFlsAZ1ouwNkWySDWJ7b/rj+D/67MMOoiGbA6yn+mraogkH0MIiAJH////q/6mMxpMkx+nTpl5VFgSM//NExFcScU6gANPKlLvNaMKOCh6hNpBrnGBlHMGMBbcvi1DBF7mTZv1nrxuo7g+JaCuER6RnfT9RSodeGyv///0fz6qFh6OioIclFI3NlERQaWKL3gUyNcFl7CA0OrmR//NExGARIUaYAN4KcDQZQh9fRIJOLcQfXmEefnX2ddCK5KjHHqXdRHOLhADk04Hj//5tx4kgOrd////9Srt4VATs0dqLxGAGQ0ZTbgAAHlDGYdokAMh4wBiP3M/zSYk4//NExG4SmUaQAN4OcHGdLAyX1CPhGX8HznJuTlpzdAnEAiChCJg2bOIR9KPohtugXmnEkLzEIUFimtMYDB0FQ+XdmlUw9KdG4OcXFRlsSyfT11Wcivln/25QXTyO7kXH//NExHYQwPqUANvScHou2jQJFiUNlxoULRFwYe7ok1WtBJgfJ1FL2gQ2LU34GDTv3lBCxRy7qGAmoDMDvJagBHHJdk6VqlXE99+5fWbTlKMrbjFVZZyJkZKLBg+jNuMg//NExIYRaP6UANPScGR1FrE+PQrGTma3hxQZImTbBBowBYwwN+keGznYjYThGc3FmL2VBUjoK1GG7U2lbSP2/l5rt23zunZB+lByzyKwgOnQF+Pqb/////01nC+5mrMY//NExJMRmPqQANPScDhJiMeBmkADAXFUfG3e5nhDop3OSnVmFKiTuBghqRMlQ4w4K6fT1ztms8x9dtfO2a3Ag4KNUmrXHm/62f//9rKvvCR1ajJiTG2z2ZREnPEgcU19//NExJ8RWPaQANPMcENKQTnTmLKIXRZdstdiVRyURVyWuiEAgCWmrmnDgBDiKv5nc+7u7uis6GEQ200YdmP///+X3/3L/9UACzKhjIOjGtTDrDJOg4KLERKeaVWGJTDt//NExKwSmP6EANvMcFJOJnHOreMcnNYPpX4ojPLLxGgIdO5k0hROrr8z7lEl38hROccYcN0X/zuocvSybl9m3DEQk26n//zLvz9efwctrbcWduHK/5+f7+3MSy5GLGUs//NExLQR+OpwAVooAKSVQ4/kow5/////8/////6mAf//kO6M///qCqJIiIiyVALDGiahiXWSyApRaQucBSgGEOim4sNCg78IeFQgDEYRA0uPMCYJnoryHmQhpwp0Dck3//NExL8hgcaUAZrIAEr12TrDDhkNIef2lpqbr8Seap5yUxeniHMazpUlLWjMefeIzkXkDty9x4agT8ZTTZSm5TV5RZl1FLcpufldM/kiy5rv///Wu75///0m72a5Lha9//NExIwh+c6oAZnIAICWpJllzJq0iILH1KkmZAhOVhABoReQBHGepmQGP+DAxAAugYVKAGpIScYSBoQwtF3I48EQp6keidPNWLlebmKSrcmq8oq5Sqhm5VJnVikAUfJB//NExFcd8X6kAdnAAA/E6CYtfvC5dxqVaCloZ7GlnsIpyUY18hCDT3f//+QJorGZSCXN3IxypOqE0KWcqT6e2ZDONJBFFfpooVPgYSIQKYjyJWxdCgKBABEhC4SND8rM//NExDIb4YqoAMYSlLGc5LX4yuSu1hbuIzSOKFJ51MhIiQiCmhMEipQlGCQiJIbiUG0JdYxFhVE2LlSPSROrk3oKPF///9SnOECqzmAaRoDY15VVHaLauON1RElAhZ4E//NExBUWuX60AMPSlIg4FSI6dDgPdgL8ZbKXU4EQX86C/EzWj9fNTfGYoe7YknyDdunmss7FCae2OsPs8fRqZm1mtR10pZKSuttTg+aQ8////9Pl0lauCOoa8fGDtsun//NExA0SGRK0AMPQcGUTGZImLZXOMFDXGGqdQcwWGLKaIig7BIciLYexcRqq1r8/SrU0ubkhksJV3IW47BUYpS///p+j3f/9CqiFQySw2cbFMYw3K0OQpSL4oXP/8X/5//NExBcYAxqwAEhQvf/////86/EzV9d1dS72tju3l3m7amkeKUQ6NcZE/Q3o+bQxC3FznGkGY0Uou9BeBQXOIIHF0QQC8YCgRIJGCiihgdg3Eg4gPPATFI/L//////////NExAoSGxq4AAgQvP8xPKJ3PuOuzUSNRrfRvPfO1TIhPZzGDKGsslGOp60LiMIWw58VcUFwbA0JPJHB6DYkVDYOBMII5hEFFNOtdQTX///////9////91/Xq51W+r8///NExBQScxq0AAgSvRjhrq3JvY9mFWzsl2V1odOtzEkWWnuRQWlNBHZ0SFtbeouxqeIixkKLNnB4Uq6aM0YYI+bZpQ5S///////b+fuota1+m5ppWfXVvhrWtiU42dbK//NExB0SOxqkABAQvQ+9Q6Hp681B0B0HosLB0cowRpEpAdCeAlMk0oOhGUGoqYccUeaVAhiKDU2EJgmXF1//////3//lu39PLdtnTUe7PmY39Fotv/q5+y+eqqtb+qLR//NExCcSKxpsADgMvewMidstpqjmecYkAkgUsJBkjkyLO+TBJztI6aRUDJhJ2zU4eAEQhB0Zg+m6ZMIYw7+/XvS9KGf8loFKdjWGTLTR2bDQ8FCwVSGkNCoqAiLwaNBw//NExDERcB48AVsQAJFg0eJBp4xYKBxDHsOAq5R9A5osVTMg9f5zCJJT9gdPjL8tK4EhjD7ftDTAZ6kFAYhaFwQWglrTGAUShLupakEWa5ggUy6PPQOKUtBGuPNSJ5I4//NExD4fqwo8AZtoAZ6HSRTqQlCifNTc3fe+1Sk3qW1zR0GQQayVTrTdBetBbJdb3NGZBJZ83QRZSle91JP26LNoIorVpGg8DebiUmM6tgNQM5MwVOzQQ68WtbVwzKqv//NExBIU0yK4AYkQAZilSLZEYQrqDBiYiVmTncuVTWlBJ/u7yNXU3/7G9EdUPLX5CN2UUes06MyMW6MqKjd7//YpkNRl05jo4VnYpBRmataRkBRG0uu2/8vgxaD8VoxG//NExBER4JKoAdhIACrDd+VzEYsZaqY064XogbnB2AVYBCJ1QuUKpPl6xcShM7WH1g4KOJi4o+ll3UOPbf3dGJW0ppq1UWse8W6z4GOJI5P2AEDgrCwyHG7DcAUBWKMi//NExBwYKWagANYMlAEr18RUI8akiBcRdL8qIu7SSynpa9XHlJn9XL7traCtsnDiwLkBiU33PjwN3xtnoUCAE5MRUZSehgWQ7//+JTbrb0RFTZTMCO031IDhoHjxJWQ+//NExA4WCV6gAM4MlEGBHoMqZA66uZqNOFhKAuSCXlkneHDHQLBXwdGzZjlrte9+sca+sv7+eTs/8YyCyNBBJkddnVLVeNKQmFEnDBSa8IP///53+9ilKrV8l5HqYEUp//NExAgRaU6gAMxGlQyKlGKC2zSUwi0OEbC4EtCby2bAJoW8jpG4GNR5Jcc4gxeMTWr6LLUl8bOlsxhVJj7rGal+ziQqAQUBKFYtZbJzZeTaEV+nJbC0oZHm6eqDkKM4//NExBUScVZ8ANSElMRhDhJilAG9guaC+oH/AWINlC6kSiOozIKdJ0umT6telR+XLlobL//5nKWUKJPITd////5VXehgTSAIUQ27ZizR4CuHFVY9crpzjTCGJgMAAUAD//NExB4SSX58AMPElMFgeQHB/h5fd9/0v6U1/nf//t////+m+rgADB9xP////c1JyXNVv6pQT8yq5EwLFEmxUAGQQLAioU0qUvqFhiFN1IuVNUa619mCJCCMCpAz3+k8//NExCcQ0O6UANYEcD89T1ZRezz2ue23/kUO4R2q/ny4De7/////aKpqqx4xlmhIcETaRhJepwDC2Jq50MBWT0oIASuiyp2UMnRbGkoPrWeZMSWQxIciF+Gh4zYftkQ0//NExDYR+T6oAM4McTxRFMwDJ5f/2796//v2sHuqA/2Dl8IAKu2odI1kUrjgG6oWeDFlL3DJ/MnCCmirxwkJEiLGdJN3BcbzGvPR5eHbGs53kXZzapAWBpBiDx+z/cZm//NExEESSUq0AMPMlf6wpOkS4gHiKsplBzAlFW0s3i74gvVK6SNdiLC4e6Njs8PZNWiVxULS4BINRAI4/nRx1HX4L/meqWyoZaQkWVdx387VvmfHhqmXdWjInWq6zwDN//NExEoRcVa4AMMMlVbElVqOGtxc6tYogHmFwk0e2NpamjTKmFVDHjGIqk0AolBURjhGLJoULrlJFq2rbWTZ3Gixqo+PVhIcFQ6HS0YFHhROALQWAZQPoxmVVKlCR/HE//NExFcRwRaoAMMScIbNnXrX1/9b/2rWOBqmD8CvU9dbmHg1/o02C51BQMXi5t58Y6UOHFsMOa3FFlBTLyhSX2JfRaxVLBfQ2gMoHoPSdmP/////////zvznkEE5n+YO//NExGMR6KKMAHvMTBxOW1nZWyxgkItkS0x4sHACBYOCwvhEszEs3M1gkGhLfL4H4+JaY0JZ8osYGlIpcTo1kSQf4RLYCcD6qFssO+nOx3WIQNBe2+sJhYbEuP2hAERF//NExG4gkxqUAFiYvWo0ecSxDHde1AYHhLXLFpmmJif51RSJd3sdG/k7znWc/9zyEXU8n9P1uSimO8jnQKDa+yiq+UWrENClwyXPcnJhgZmaCiH49D/ySgNkxaVVQ4mJ//NExD4gmxqkABCYvRDEnKi0ZLDkpOn9saLZZhSK1UBnGpTJGkAnMWojYNVKNe5ATTpEmKfE9iMpqyQTVism+rUmAnpZV82sVL6uVbUMta1iioJAWFdB7A+W1wBwrjJk//NExA4VMdK0AGDElUwIhJEIi66JcOLeI7/CL/Lf/+fS36Kq0vlMGNzFUwpTPCiUI7rQykDATwVxXmMuNuLGnG1qgrukYpuVgXiV2pRWXlcucxtqxqkn29gFASPTkRUI//NExAwU+W6sAMPMlLCOyVUCELzRIOQ8Eyp2JzNBUJ1Vt7w5FAcpOyRkaJYZylmjMysbGW81IGK7MF2nbwbYWUyGHHnMCS97kOXaqII6auhCsP9zUbOQoMD4oo+ggnXC//NExAsTgVawAMPMlQoWB4CEdmL2B9AvIq6DTc5CMo9SnAt7A7iljlLYdb5XTSWjUtLqtdWsp5MxjTzTAtZJFf1qL18LZ45vDCA42EjAFLytNo6HUHDkfEY9DMo6LixH//NExBAREWqsAMvKlEQeDvtQBX5TwPvMMJugZgK/XH1XSmc9W18vfmD/i/MPo7VfNMJasoRTLQe0aCRIP41yiLqVrQyIwh1QrjSwwgqD7Y6Uk/lQALFqaDUJEvpSE0Ku//NExB4SkWqgANYGlAEQNCtLmLtS2++9FqYtfvv7rZa5/4Ze5cWwjdxkSxFuHAS28GuYCRhjg2QNVcpSFUZ1RkPAwoHKaoJBmUAxlQMHScpwFDWCumrKhqytL7CDIZtQ//NExCYReQ6YANYGcNwTNRetjwy2IlHeEUq1GCZR1cmTURSFh0ajw8Chs/sWhlVI5hCa9mZ0ohwoBNRQkhCSisQsylcYRcSkMoQlGjwTxyaQJstpwJps9v7n09tbEs62//NExDMSYQqUAMvScEDOwNzQNKDKq4mbRrUuEwbZ72LvrLj6uPsJ9jIRydBDwhRZomgAikjkuB/JdOqU6niPOExFGXdeTEFmNFpV7JJvIzgjXQdXrT6vWY49qDgoiIxM//NExDwSqP6UAMvScIgYaIwOFDpr7rICjzgbTZaMqiXSSx/0tKFnYNBpFYRFS8ffb1EumNjPOAnaIidRoSzGS1s0CuR1ODD2op0lj2nK0ojm84VRjSArUBUrz//+Peba//NExEQSEPqQAMvScW1PBqoVUaJF5hAAqXO6oWsLE36MUPlpgQeQ+G618TFRBG5eH+wesjpQJeE69u+JvrLPZLGulSKBVmLypih5JeZ6CoeLf7LUNIlVe4KE5wgUYMcn//NExE4RIQKIANMScDAsEBJCMPyYyVQGPEL3hJmKQ+y7FeiWKATp4hThVUGEzUi3i/lkmWz4bhu07y6N+QWglZJMkaBoKf9K4BWjpXXRAP132EU3tVVg5BC8yRznHazN//NExFwR8Pp4ANvMcKYAdxG8eTqRcH77smtuh0koyicW3fafE+OcHmMWaPhizOf/44uQwjoe5aP/eQU6QhwBcI0F8lojlqNuNq2dW6FIeiMZDDQQXMXTXe7trfam39fb//NExGcQYOaIAMGEcPYzfnT6vtzNsrhs4ZDcmyo0qSI5hcoRQWMPSDBd81EBG/tlSdeCkHJBhdIoyjfyCyMLkr9Rig4SQmoKIkmkAkk4kcT2uiBAKMGzongRpCiBATAY//NExHghmxqQAHlSvRAJBGToxgMPXKOfiBHSqgVuTREp///7k////////IfdNx73zSZ48Y8NTLBa19xeTLd1K2oYr1ypYrRCep5YXcZuVDx87i1e1RL0vq7iVOdyP2Gq//NExEQg6yaUAFBevJwhoSu2V41NtF9wIaqYSztVyGWrkXHaGWJEfMDxXzt22hUuaDN9CkPP/SonaXp/rC7VjzanPU7y9vB61w5w5r0Z9//9VGvs5XUYpdeP6k9XWsxH//NExBMT8xqwABASvaVXNHBzc46+VRyULjPvqbBScooKySNnY0a1WbSvSYlPoehK0b3+1mSJWNAIw9THFXMxQJCQ9mOOm2bFex0f///+S/8v/////+j//gz53CSsmI+p//NExBYXAx60AAhSvVRm000t3xtXGncnlJKVoJzVkWjCsQrShZiqlUYRQzqEJpShBzDqRSOy3YtNJlHqrFGko5riMkPjKSyEjREBpS11UgukxBUX//////X////8fMsr//NExA0Uaxq8AAhMvYZ6wxOCDFlIMgWgtjXlNqzWvKi9xszNpWfW2WaciuuLZ3RTQaXNxOirUkglNzBaalrZAnpQ5RmxiKJqcMzc9DGJUt4XMj/0b///IA//////X/fv//NExA4RAxLEAAhGucggoEGwkxN8yGypSx3+3vw/hX59zmltTtZcdDU7u0irkcOqROooe0ncTRSMD3Z3yMNnjS1RsTgFrhoKlEfqE5dN1zP4qv8SvBosaSZDRaMaLEwW//NExB0QGBrAAAmGAHlQEHUaUXKAyLluAlZYeEwCGgVwVCSjZY2GioiOiMjPJLCJde0kaESykzuxxEBCBAErDDhfEGNBreNVGswCgEGkIu5A2wTeeEjixYisdT1p6gVc//NExC8RIIqwAMPSTBX/Z/+/RsWYApHKrqenPLhqqhkl3KV8ZlEMzvQy4Ju4BGm2Op8QOEAS7Rm2NQHtHkSicqMSaWB/BEw4OQOjq5Y4eq0BE8ZSYCYGoCGAaJftqEQF//NExD0QgNaQANMGcBUBB3qrnlnggs9JUaYU7K6ohCFuRixeIwKxg22HIjFyXMy5RHwAwPAv5c3zJr/GoeyH3CCU//9QRPlAQOf////retZ/1KS0QAGlccCCjD/AwozB//NExE4P+KKIAMveTAILMUkIbL2NActaZIpfCcYsrEgloQQUuYMU2RFElHdYVEDMGfGo89PjSqgQ7gY7KLIU9Pp/O/VGPrrwFDFcEHnO/3/+tnsu3qcFFuLKtY9i6sso//NExGEXkZaYAMvElIGRMhyWJWhpEhq/0HGWlMJyWWUCrcWQymzZgdzKWuie/UqcMSfT71P3v7vHcr/9XO+edXFhUsTCKsHX7389f//9K9gNpJj8KO///+jdSCxBen3U//NExFUTgVasANYMlJeChb+27AE+Gp5VEMRObl6vOYkA43hdTEn9MJLQUWcENv/3f/co/9Xv9E56J/w+v5FRZyhWUr/F+jfI7q0V/SOK///9FcLM8JIJ9TscBsLFR8Tb//NExFoS2V60AM4WlCjfxgBWJcimgxSnGQDKooBiMdyJcAQ9UvCCS5ihlI9mTZIG/S9U25sY+qWck1euPcZ1I8gmOkeV511taq0pW0YBBFpozMChK0C0sGBoFzKdKYTu//NExGESWWqsAMTWlFJRDAJVSQTge80LRS+eHKA3BionRZLVk604a6Z7RA16Id9kucgZ8y5L9ERr+/7ZzcCrXOu9qs1////0XKqYh9FQ2GKHvxi9IYSvTcGmCDBnAfQV//NExGoU4WqgANxSlFNoaVTR5vkSbcEop0V2XjRrUNSVetjpA15ts9cnd5ksYCBWoED5owHJVAQAd0CNj6vjyckgckat16P//719FBCmayxogCpjunmPAWy4RAQyQQ2g//NExGkVsRaMAN4ScEwMkweDaFMgUyFdzAEKNyDLJ0zxz9QTO/M1xw8jazF3+yRvDk1eFXGVfEokyVM0xMEdCw37vmR6fnlVd/TR9nLwsbRaL5omdVWmooucoUPG4ZGQ//NExGUWmQ6IAOPecMEBovGQKCadlvP7byECg+DksVEwPh8HobB8YrHKrpN9q2Q5Jq3IlWQ5//////9Pe60udETt08t3Yze5GGS5+lOWL3zpJ5Yf2We9SKCkueHYfmUL//NExF0f0xqcANHQvbJyfc3CUHYNxHIBuDc4FAeCg60anGA0DzRIBwFhhYfsQYIVmlOwdRJlLFi12w0t9+uP+RhX/r//////zMzPTOfN+6+7T97pzPpDZpuP2r3Zj0te//NExDAckyKkAHhYvKT/GcS7CmihoxSpSUxzEhVU3OlJ6fKyQ08hwXlbHZYS2l6pIwSDc3XRl5SeupzLqL1I/OjSSyEkMxHLbOAUIqQ7f5U7C3/////7/////////0/f//NExBARsxrEADhKveejIjyEUpxs6JETks6MhiCpFIWyjyOro4sImiiCo0x2F6DBR2IUzGFxaIIDlQQDpGQeznGB953YLt7WObRP5//5SZsAln/v5v////v/+9PKWd/8//NExBwR+wK8ADhGuf8/W7eOW4iqpBdKTw7WZmuRN1dMCFZkvScFDjM2Vq0BVRNhMGbOA0oCphJKuV2xGRwOZLae/DE9DEtAO0QChhAjRt7dzn93+czroTumBiwAVN2E//NExCcRUPawAMJGcAhI4t6HA3LhhJZuycn7Rij34hdyS539PZEUX//9pKrV+DADQmTf0ICP9ZiRIWRbrDm7XCZaW4pn3vtDn+n6fPD6y4Bg7PDgQ1uBReKgGHaRgWZk//NExDQS6Vq4AMMSlLL/LyWyYluf3OtpOMU2ohMCnnf//7b/VbtZ4TBrSZteCg71laYKmhXJg4t4OdU+Ay6/Zd0gRv6W/+LSJ1xu5iFIVISCu2NLVfn+inKI6V2/av94//NExDsScU60AMvelL8V/+N40+tSCND1v///qZqlcY7hkWLuoKjwc+e+NhwUiDDquAk9IKH7uBc57AkzhcRTN+mfnfy2EkmyhA6A1YPgHl6QeCiiLxZt3F8XfyL2hL/B//NExEQRGOqcANMYcaqvGkdTp5ZHKAwKot2kz6mDmjNpT/QmY7xGp3huDhcWMvyqfkoL643xb9DKCeQQTzvigQgCIigMAUGDBslabFP7P///5ahvpeqQv0YAKHvEI8Gk//NExFISAOqQANvScCACTar9lBhIyYYCtqN9VYNwcMVPpc6YKrVL2MsPcK97XcbqWzknOSaaaREKxUeErZ5EUJ0P/////7b/5GqU5mDXhj5StIwpQBxMuowgsEgSRoJx//NExF0RkOqUANvScMDt4VzUhhw1bi4rKcP1oPw3CxLbyf27INLMpUm6LJMImRUInAVKcU+Af+NT9P//7f+56IeXycsEPonm+MggMgQHPFrFyuKYiiI0QmeqhkmZqUsZ//NExGkSQOqIANvScPn/987xEwAg6qpJ/J/pEoGwBcWUl6HgfoLqcaJpcgWTsV/iZ9lvnGf5SzRaupTShPU1hkJH97DWMWAzpnNeC5dtjDjoWqMVndWb+6v+Z1exxwYD//NExHMTIUaYAMpGcIKBwGThLQKEnUnBBSBei6NHdFW1z/e69vTERBhw3M/EHP///kbXAjXEpSY2ICDi/4/+kWxJpvOK4jf5HyntHRSFlFwHaC8jgCrNAwiJ54Yc/KTY//NExHkSsVakAMMSlB9AuxKn3nd0uj8X57BtAeAdFbv//+xN/YaXSUpWXYYa6m2mdREMaNssfKI5sx4ae58TQFF106OwUEEXB8brjCRU8Bxw98lYQ1D5A4VDLCmusq0e//NExIERKU6wAMJMlN5yoLYiKVuSa53///aVlN8NFOqPkypwML1sJMqyDcV3pZqnbKu1VFLi+XCNcjhjNpSKoZL5JLOpZIEWeelou40UuCBMCJlAxFJef+snZy/vyzTM//NExI8SgVasAMPOlEUOmCVq0gRAxS9KgUNJzILLnQec4GDMw2zZxWadqz/JU5U9dxfV/oDWK+S5lrEwlRW3sSpqs2CAEvwjTgqNJeW/zWlHdn8pJCiyi5aqtLJBIk+B//NExJgSWVKsAMPMlZG5UTBqVvSkLET4BhhdsDG/Vi02kHW6q9uOiET8TMmQKg2n4yXSg8yoJXNDy6EVwuq0S8yzfHvfxFy5RwMFAj//////9HYixxMD6UlKkxQDQI2j//NExKER0TagAMYMcSHZLaGaTzU7QsHqyeOGqBOSB5hf8NlvGLNgenkBhurlaxcnx6ygmCOlkoN087W/xn71rY8NCUH4ej7VqOmaJDvjLbBW6DQ7YAcurIBIAfL0ujOh//NExKwTMTKgAMPQcOP1cC9JmL5AGKAxFjDQLwfjtymjuq3g7puRqoYM8gcMBkCB2fmWaqf9gZzBAzjp1bhACTwuabxUXEDRMmOtJlGtQLtqrKYuYuVtHUSNQTjxRQph//NExLIRiUKsAMYMcWGECq6OL+241EaWdvoa1nRzaIYrsNZ6gVBIeheardalQWiMpFqVX2YNaewGZ8yBjpgkaDJnhJnnKERv7BzzyaLuMuUCYkgs3VqIXYdSNbdh1o1a//NExL4R0UKoAMvGcasZpccfsuYxjTP/7GWcBcFcKP+5oorNrSoxYTM4vzsFc2BVMTXDUQQyojTYQGJEmTHIKIX8d6PyCRJywt2ZRK7FNkcEp1YCep+cvcsNFwVFnOr8//NExMkSEUaYAM4KcSSyur/s//0Jd2sRv/R6PVUMGmSAkxMUBHBImtMtTgpzHYBx0zIPvHcsNjX2645hADQPwC5ApGvHAm6gTkGweGFyC/aaLK4WjjmCDxwjOauX03TS//NExNMRSPZ0ANYEcWGbJo2FIBlwiv9lMhxyxziEGQaOR/+zIXQJYi40Dg7CDs5Tb/6fvbqnzQmykOgzMxz0iLk3//6tvQT/LaJTFBmBACIE2M+VicLpXJhkgVQBuNjM//NExOASWGZQAVsQACcImysKlURb9ORn75w5u++kUllFlDEUjFrGVFwxIYdRYUOPInzrzpmO0kJsPkmyY0by44xZlnjq0MX3dNbLzz3PlBi7YOsruPlz/dNubUw+Knqb//NExOkjwypYAZqQAImYqf7/c3jt7vn52S+Kll30hZvFt++63Xy9RCdB7HypM/8LYZOEVRGA13HVAgkUcBEoMY1exwCKBsMXHAQR3nTsrk4wuBWetnfBFimBpXmgxo09//NExK0gcuqAAdhYAV6lLs7X15OgFLKZqf1UulQdFCmrqNGblMMhEDIk0L/+xtlhK5abfchWu8ZstZdopWMCqM4pZmx546V5mhYkXBLIXZkgE+AxZhfqWJ73YoxRnrF4//NExH4WsO6MANYMcAlh3nR8iJDFMNRVekoYPLwrcY0T2aqEXBQobCA3LMWjzzKf/rvmf76yBguRAIfYXIH9qf/+0SJR58yMPNcv3Mb+6tWeWifwEhOppkxUaIgxgIAj//NExHYZUUaIANYQcEZMuO5U5TLxyP2GdK03Gupi5k9AUjtToRhxXGHIPbrpPl41sW5qcjzTIDjf6VgVwRYxv////2I//+ilQ+EbMcN0BPgqnPMrcNgv4CjGLwDaqatT//NExGMSgOaYAMvMcDsLg+4aiwpIy6caFCqR3sl1jwNOrwd5ieTo8WhKNFGHS19q/3mrO0daxP////QtCpYsGdEkusy01BcRnAcAZ6PAVlA4UB6qnB/8hxEoMoShRqkB//NExGwSGWKcAMvKlGEw7FcGoVFJL1eRNXDz/dJ9odptMxCfW1NXysqdCgNFv///+ipYwMDTlhQuIZBWBAsIxoaSVgxpDUyEAOoXmjvo3klcC4IUTyOuFLEQp6c9ZaXW//NExHYR0PqQANMScFim9z1l/NzBVh2h4dFSR7JyMK0AqtUPGRVn/2pqbiFFRwh4gHGXlr0AptCSYsigORMFgxA3MIoAiRhpGD0hARODSQMnDKXrKdemviv3pa9uX+gd//NExIESkPqAANvYcEI9QylGNHlzzjLxSADv/YSBQoqHhyITEQImPKOa+RHgqXfpORTZaARe6hFkkPmZNQiyYWcMkhyWHXJmGhKXvK9fZpsbPsxY4hVQ1GjGhqkdYk0Q//NExIkSQQqIANJYcDn+KKW4EgEAanMBJcCjwcimZEg0t4wICUrUvXYoUCh8uKROhFigEiglQSUIj4hRs77xOYBsUyEXdpXU8XgfoS8S0ZOHi2FemNT/3xhYBIRVTdM7//NExJMSEQKIANMYcCTZATy6Qh4YwSXsM0FJBaCxCOXsDKYi/BEYn6g/WMwa1hgra/doZJh5x9BqWy7N4nibkMyYgbQL6yuaRA0RT/3dwGSqBy0cNHmZG5shmZGeGOhQ//NExJ0RiQqEANpScBhJHIwgVcNpy1RWIgn4aBUXWOJyErgSnMcELtPiaB0ISnHDTeZVdLZRosVZJpJrC0XFm9/04TAJEsSXNzMQSGqWFAgMWWgJjw4Uu8qsvtchCyIH//NExKkRiQZ4ANMScFEJJ8ZqLQCFKVsc1lXKVvcHJ7JcmtJrDJgtJqhqBBQYZBZq76foFZYXd+p9gDoSMOijctj0dqAQrsgoPjKRsBkHY/NRgJAqDp8AiEsHjBUSmFFR//NExLUSeRZkANsQcIESLy9Y2WhQcpzmHlaComHRxp1ZIn7fPfZR/nlukqkYwFZjCWlKPFbJ01RNQnkyi7QwhEtyuLLS2lGmoXbTQjBblFKHiQucdYBA4LHlioBHNqSx//NExL4QwN4oAMvGcPQWYhGEyzNrzrKzDXdRstsV1kzxL/CbhyozjXYtCIMUeCIQiGAcBhYWDphYPYQYYgAAAQQIDuLDuLd3IQCIQgIAmHwuByYICAAMGpalbmO3I9tC//NExM4RsI4EAMDGTK5DVrW04ihb2vQqMc1MfdoqOqiMGWFhgVDJeopJpsOi7pwHzNtKZ1YPjo2iZMlwTVIFI6fdMY+qaXe8ZcVFbaTG89XRwuoSdKyjsImGoHm6agwd//NExNoTCNXwAHpGcEDKOvUmEsDoaGY1kEjSR5WkDTpIWimbTJ4koqemYawPCZCkGwoiSAyRZlH0hQYcRDpEU5TIWEE0whNAmx5RYGUaYaUXRspSlJyNSj0aNGxVRZKx//NExOASkKncAMGGTDTJiNU1SKQIGxXFyBRKuYsWHpIECObeLlAfD79YnNza6XpA7ebF25sey1JpVdDmLbcqKM8U9StHzHzaS1MyTEUIKoLhBT9QM2WouKQRCplglCpC//NExOgkSv3YANGMuczuGmpJSaRCTcbPrd0SJpsFQ1BYGgqJQVsCiwWDvLCIKaQo/YOT7HQa8sDTusFZY9gq4GXKlVgqdSevBUNFQ0qG6jPYBpC6lCWCI8U6sEqm3GdG//NExKkPaHHoAMJGSFV+JyyFztCEVF5qGzEl0R2qmSNOkyUggFChIgIzZHN88lj41TCBQwgXl2FICDIW7NkbmTt3qf7LLvbhiCAtMmT1P3pSBAhBBoeSs8Xl6ZkRqGxJ//NExL4WULXYAMJMTHV3i85mnpnpun7dn+UgxlW2MpoezPCqzWjxjY0QTsmmeucADlG2Mw41RCc2BnPmAMwvMNoamyspqYkHZkPDRsXFYsWOhMFUG6HkSTV4rnYTBUFS//NExLchww3cAMJMuWRUOAwabZnjyf7W7QVLegl7BEBirjoKgsmglQbBQQQZkgAQPKME9gWA04y64QQoGfUzgglBkuH1nxxyNPtlDjj61OOVvP5c+TlHHJdTmVvP1fu///NExIMSqHn0AHmGSOv/VxPkwQwwBNiZzfLPcWAL0erk7gsocTUaoywS460KYYWZkKdh8K2GDBBwuely1JNCmqoOmMf55+51S/+zGuexNu3tJJUo9kr2R64P0E6oBbhx//NExIsP+IXsAGGGSDt7NYoBAKyKOOaSciRI6oIBExqTARg1BoqdwVcdWGgaiURBUYMDrYLfdnhFERV6h53DX+HUREVcsad2f5LEpaVGPVVDyB2GP2YWR9SR5D9kUnUc//NExJ4Q8InsAMJGTIe4ukj4TjyLTKeScw8sjwzlMPIpMM5B5BlpHAkuRaYzwnMsWR4anse5nDckx7LWfyX/2v+e/8d+p4VEWBBBAqEuOyZaKmwksv5AsvpJXEJZGGwD//NExK0SWJHoAHmGTJM4jBMYJRofmQKHnnTSdpm2Jo9UwLtIGEmXwptRy73VnucoT3gijiAiyDGOsKm8Dg9/w44gDPiiyyedNCMQQuEfLN067ue/olm8sr833/QPB62u//NExLYSQCHkAAiGAUEclqvjqsRKx8ZXBZZPR6A8jyMQV7h8JAIThIKyvMzBJL0Sp5JmgYCFHVKKpQ/6zARqJUtIlQV7dYKjDwiWCroiWdENZ1Xyw8FVHazohcRKu/PV//NExMAeIpH0AMJGuQaVBQYSKAwIWIFgYoSKAwIWIPPKNOLKLMPCwsLCwf/////rZ2/1CwtUKioqKigsLCwsKirIoLCzVCoqyoWbioqKqkxBTUUzLjEwMKqqqqqqqqqq//NExJoSEPYAAGGGcKqqqqqqqqqqqqqqqqqqqqqqqqqqqqqqqqqqqqqqqqqqqqqqqqqqqqqqqqqqqqqqqqqqqqqqqqqqqqqqqqqqqqqqqqqqqqqqqqqqqqqqqqqqqqqq//NExKQPyG0QADGMKKqqqqqqqqqqqqqqqqqqqqqqqqqqqqqqqqqqqqqqqqqqqqqqqqqqqqqqqqqqqqqqqqqqqqqqqqqqqqqqqqqqqqqqqqqqqqqqqqqqqqqqqqqqqqqq\" type=\"audio/x-wav\" />\n",
              "                    Your browser does not support the audio element.\n",
              "                </audio>\n",
              "              "
            ],
            "text/plain": [
              "<IPython.lib.display.Audio object>"
            ]
          },
          "metadata": {},
          "output_type": "display_data"
        }
      ],
      "source": [
        "# 한글 출력\n",
        "from gtts import gTTS\n",
        "from IPython.display import Audio\n",
        "\n",
        "kor_wav = gTTS('안녕하세요! ', lang = 'ko')\n",
        "kor_wav.save('kor.wav')\n",
        "\n",
        "display(Audio('kor.wav', autoplay=True))"
      ]
    },
    {
      "cell_type": "code",
      "execution_count": 42,
      "metadata": {
        "colab": {
          "base_uri": "https://localhost:8080/",
          "height": 583
        },
        "id": "LL9LBIfPUS1-",
        "outputId": "f00e1644-d074-4531-e90a-cc48e4f61ab9"
      },
      "outputs": [
        {
          "name": "stdout",
          "output_type": "stream",
          "text": [
            "13인의 아해가 도로로 질주하오.\n",
            "(같은 막다른 골목이 적당하오.)\n",
            "\n",
            "\n",
            "제 1의 아해가 무섭다고 그리오.\n",
            "제 2의 아해가 무섭다고 그리오.\n",
            "제 3의 아해가 무섭다고 그리오.\n",
            "제 4의 아해가 무섭다고 그리오.\n",
            "제 5의 아해가 무섭다고 그리오.\n",
            "제 6의 아해가 무섭다고 그리오.\n",
            "제 7의 아해가 무섭다고 그리오.\n",
            "제 8의 아해가 무섭다고 그리오.\n",
            "제 9의 아해가 무섭다고 그리오.\n",
            "제 10의 아해가 무섭다고 그리오.\n",
            "\n",
            "제 11의 아해가 무섭다고 그리오.\n",
            "제 12의 아해가 무섭다고 그리오.\n",
            "제 13의 아해가 무섭다고 그리오.\n",
            "십삼인의 아해는 무서운 아해와 무서워하는 아해와 그렇게 뿐이 모였소. (다른 사람은 없는 것이 차라리 나았소)\n",
            "\n",
            "그 중에 1인의 아해가 무서운 아해라도 좋소.\n",
            "그 중에 2인의 아해가 무서운 아해라도 좋소.\n",
            "그 중에 2인의 아해가 무서워하는 아해라도 좋소.\n",
            "그 중에 1인의 아해가 무서워하는 아해라도 좋소.\n",
            "\n",
            "(길은 뚫린 골목이라도 적당하오.)\n",
            "13인의 아해가 도로로 질주하지 아니하여도 좋소.\n"
          ]
        },
        {
          "data": {
            "text/html": [
              "\n",
              "                <audio  controls=\"controls\" autoplay=\"autoplay\">\n",
              "                    <source src=\"data:audio/x-wav;base64,//NExAASqxnwAUgoAQFAaGSLi4uLvUIiIiI7u7u73//+3////85zu3//28hCEOc5znOe3///////+c5yEIQhA4HA4Hw+Hw+Hw+Hw+HwAAAAAAAAOBwONIsNVm4PYkt6k//NExAgTaxp0AZI4AT3X/b///6DQfLn/8xtpik/573zDBQYPGjgO/+Yzq/iWYEAPQ2JQkDgkf/3p/iOPFxueNBoJBMfcaf//v9v57g8apNSY0R0BFf////////T//+Qr//NExA0UYtqoAcIoAfoRRM7q7kVBMPvQXEBwm8UFzjRcOBxhIEYXcqnQQDgmjIRVs5yFD4uRlU40wcUwcZZLWoQivY4ueQ6EU9Lh/48AAw9eRQTf/////////5s//3vW//NExA4Umt64ABBMuT/Yzt8cmyk0GdPzBrqJVhhWoHSUnspWL6IhBjmcgsvSf5h52wW2p+3ozeNtLM19PT1Z+PubbI1yqe2KzJpjOnWkYIEEamv//////0N/yL+f6z////NExA4Umr7AAAhMuePPZ069u9WaQMGIln7ufSjzDJZ2TKwOYxZ55JjnNKvkXpG5yjlomvdTK0kBsHjzIxtOjXTVTtTtPvPXTTGGkSCk7zB+FQ///r/dv/9LK7dnPkpo//NExA4U8qbAAAiMuUCoLTx97f871hvm4EpHFyilBP1uPyPikp2zUDv4qjnLW++fzjZkqt1F0irR8ftb8tSZUPXZ8p9n5S5NTKy1nGFDeAULu5HN8ewDm9Ts/ZM38mad//NExA0Sala4AGCEuD//t+pznPZ79KMjW2Kg8tDeWQzqcgqYMKDCpW1KRV1SispWe2ZjPRUe/9crI+V7ibkLdrc97gaCg9zEq1qYnkdz1oLJOUWpQGsNut0TqBINFCxZ//NExBYSaPqcAMoMcLMwLM05LKq8b9rXRFAJI31vre+dyJErWJUFAaBpmoGkLDR4jqkrkEdlu5R6W+PBU8vWdI1oT1GGMZ6EWakKqmKwCIxiDFxuSsWKS4CHCipcraPo//NExB8QaU5oANiGlGcpcutyqCPs1WKEFMEAhTNhcKRVSIKJjhVBAQCtoSDnPEtCATuZQDounQogVDEcE0ldtr19bNb+71//3//9ZaNQ7czvMUqyOUqfYMOMeVMC4sIj//NExDAPyPJMAVsQAM4weh0NJ9BFGn//9H+i9dUwDFyEbBthjMtTnskvpotK/5RYpn373LxiX/LhpUIwNLET5IFAuGiAyxYmRdGD/N1IG6bk4hTIzHt/JdTHk0FDuKZW//NExEMhQypwAZhoABAjcF7Kf/Q1Ns4fABAEAEZAb4AMC6MGADf//N/+I0E4IRLuAEcYgwAb5MJQRX////+MAgQjE3BIxoGQC3lJgV8eajjX////////////////tWXy//NExBESaxa4AcIoATKhUcqSIyGY0aH3KJCoSKLFdHecxFJuNM5xZRU52dHOhBBldg4gxlQWGhxlF0UggHA+4gHGHhwgekH//////////j5j6quuCHpFRLWBixEE82qj//NExBoRExq4AAgQvCiLmQ+IZUF7xt0wu6ONOosTnmUeMy2FJD+xQTCFARiRzQFx56MlEHII+upv///yn/8gA////7f///X/31seiXdKJsLlZFYh0KmZiiRTmRBzteJZ//NExCgRkw7EAAhKuV3iaFEyMMiLjVIJEOKGGirDRZXOFA7MKjh4wyCcNuqGQGwBj8C4rYJDADk/I3wdznncjTi53EMRyXs/S3a2jfSxv///3t///8vR+pUcpSlMsurf//NExDQRkt7AAEiEuXR+bM9DMY1fVDaUmDGm/4UI7Krnao72EbskI2VP7OqVhGF7U49witShq7vrOJ5fBK9WPY1SxdMqI6sZYPVvd1xiJrls8shTg9P0ENLPSmCD/vvh//NExEAScU64AMPMlAvIUaFnFG///6bWq5BVSdi2yWB85scW6tyhBIOWkyJJ8yiNRuuDG3gMRVTwwHtQ5yu9fDRryPdd1fujnF/sCEv0Pyw+d63wl/aW2mjkKSxF+zRj//NExEkRaW68AMPMlEArvZiAyqkqPSDUT+EoB3bG3hFm4ZUTUue4cK5XVHOfBaXkju0sPfqSS39yT/UQm5TUeoKAl3I46XzHxs9glWJy2UWSR1jAM6F9HHUeDELXXaIC//NExFYRYWKwAMYOlOYwK/FuCEKZrqtCfQbyOxx0uUchJkzQyCqGSkbNcRrbvb8VqMUVQPgUVYwsapdDP8pWN1DpVYFZcDAM79vNcAVRP0bqArWdMLlKQUZ0h3+AsdbJ//NExGMRUVakANPKlBxaXN9CYRdwjSq+duKk4prNYI63Bg1MuBrKEZkMmztlLqSoaFls///9rhSvSLLNtpFjcOLzMEYgGyOlUm9dhEZSDLqFpD8mFQH05cJ3/MSWOzUf//NExHASAOKIANvScM+gRieGC7pnR9yMoSX5whewTFbfuf5Ax1MnMoSO///+abkdVSMB6WGjqihqAsOUhKVRj/UNNKgreRh/UR2qOal9OfnCcqA8TXFzSpNUXs8sbKgq//NExHsSMVagANLSlHUVQtmSTFxsoFE+IPv//////05JT+v//1Lcuck/XSiGXtKDX5dmVTUoufBZaOCDKhrIvk9X352pLFxagicq2Q87GZIpgTBOz2jAdsPibHjrZ/////NExIUSqhakANKUmKqn+RSe/9y3C61V5SM7PVrBw9rA6XBUJ+4HLKpxd+deJQKWguDZUE53MG2mjbLUu7mj0qCxsrUFviJSkDwedTaB540CvEXf//+RER38e7/5JbDR//NExI0RGVqkAMnUlMYEBm3cGEAU18wAKTOAkXC3IEDooFbjY1tVZgsO2CzJTdTk10kY/8flqCDUJFNjMNC2IJOav02f7f/95VKBrfKEgBLqhlpQWBpm+cgIUu8hwMnB//NExJsRYVKYANKKlJYIygLjZn07NNQi4XZW7jjDaLWUu9KZB7znfzf+FXcDETDYpBjp7HrM3+/3chDST3xnLJ9gQI7EAGD7HXQ9/e7J2XgKp3UHzJxSXfJND6nZATg5//NExKgRWMaAAOPOcK8OpdHZGBFBKMIZnJiaNcPkqUTBkhrMT72OhB3fE5d753RPpLfLZv+Fr5Ve5FO4YoK+o8KUf8eiRZ/pH7/Z9YM46Io7wJgORFEuGh0SxBQ4hyko//NExLUYeVKIAOPMlKKQcw0OmCCN9H/r+3/v1V6KjSbm72ZqGmggiy90Gf9SN12WjsfQSdnSPsAjOgHimJKgwaDSA4sedMkzoyeWcEBU8dTbsz/JgKBnF1DJM9lDOFPt//NExKYgat6MANvauZIZiLRJYTEPaEJAhKzbFiS6pOdhqHGfYSYRC2H0/Kgd5soQhATYQdOcT/////1frqmLst7rbfVqMhVdP4FrJCAsGhj8dasqZiY/GNGaOChVTW4M//NExHcaKl6YANtauJQeH808C8WB30Ro8p9kVpmf9aY76ePA+yuZFdiqWdZo0bup3L5fzyp8dWojAeN8PI2NIieGzIHe4Ll/C///9qiIxv6f/8rO3KX8YaFvWh0SM4DO//NExGEVoWqkANLelHzlQUYd7P59UzJ6s3Rz1aZrQPPo5iyzMcTkwOAPWNEAhjc7xRWU15UuFzC4rJiW93zWQspCwWOis4fb0mrXHjBa0WujrK9pAssFhybKMdyQCbcI//NExF0RmV6wAMwSlfsbWrTEJq2WxqUMLF0yeHofwJwKBU0dsUXwLoNz6TBzamiyHd3piulhOLoLS1g2dd///vVVs3G6h7J2ohpA8mIUpgZI8RWoIG0My9dfbb/WlMox//NExGkSiVawAMrYlLFTvv7aeNSyZhONKGBERguh5ZJBEj5WZgZZKDqiv/LlnNQ6GGyj///1KsVQ8OWCS9AMZcyXLgBsA9IkkQcgLCNbZAXvrX19MWL70P09m1hLOyse//NExHERyWK4AMMQlKojDwfVTsmA7gU8tN1HyCQ99tYrP9/8TsGQxaBVIAWkARVlT41FhIwZTjyzCApQZJjD1kJbT/iyIyEu2Y8A6bwYAQUrADAywB6QmKIotQRxagt2//NExHwR6VK8AHsMlZe7eoRMSVbr7KFR2/99fr+n/XQeuvoLCMbypADEb5YyXipoyioikgADiF4wIIRWSoLJH4RCEt+dXhE0E4gIMBJAlw0bgQYiOoQjyDgrPVWNJAxS//NExIcSgVrAAU9IAWGuivDrvzD+SiLw/NvrFYnQxGRsofSgmYHjsNsuoohYi79Miks1Zs1opTP5WjFPzK7Pv1rKy/s1Hn2oqtv+QB/Kiwv/Qh1YAGlSAUCAQVSpbRJH//NExJAgaYKsAZjAALB40iOpSBgpwhE0vBKJqeXhS2Dzl0A4aqQGI9YIKWgIpNaQiBxAEtoIchxw56bDtRbGVQ88kvlUZmnfnrconNwE67jSqSx593YeaSyiGKWH3Mks//NExGEiEcKwAZjAAG8qablWctlN+/LKKRv5cxqSiejEYprOsf///88MO///94SX9v9f5qohAWoZ2yMhOly1Zc7BmssYWFqlnl8pevwpsBQBsE8OtgRgGY8h8ilitBpM//NExCsaIXq4AZh4AInHQNo/XZMS6E5bKtcOMfrLd9IczuRyYVIuIGa1pFP19CZoTWqFbSNulL2YmfeWGExM2IVocLMzDcCdvUBqh0UGBCLfB2oHXm01q0TVngtaDOoU//NExBUXsUakAdhgAMtSFfZhsOSpv5e1l/ZdABZsO1jUQQ9Lg7Hg5GxqIh2Z3cP70UOLHsStVdW3XG7DkfwQUyt7T2/eZ5xooVSbWOAHa///oUlx/beitSwTJlKTLbUD//NExAkUcSqoAMpScJ8ScSVKdAsDQGRSCLKMSpoMLIlmrLSlK0MUOtISEcmFDRYTEQu0RrnY5VoWJrImopLItihjniyhQ4TB14lUdPHnpe3/+/f9bqbOSE97C0l/1mfT//NExAoQePqsAMLScJBT23APnzyqS5LRQpW7np7Y5r5/t0/ErWMFAfR2zi/QrTQPToIINiIc3IvXOlBh1v///b////dTkj+GwqdbvlBq88ySLqT965F8esUkuxwsc5nu//NExBsROWKwAVhAAN9PY/lN/MgQJoSighAhYOC8CHZC4qPk/t7flKiuOPV8dKOxbk0P///7UhiBgZLEBEkMkFC94Y4rYCo2BAZhXFI4bTlGYGVio0dCgbGhxwwTaYFe//NExCkcSXKsAZl4AO4zYyOMVqeK43DcQxPG8HGUbOYRMilbFU0zxX8ukYfSNb13KhDCrWCEzX337PDiUmZWd/SPTTawOTMSJc3y/1iRruJzbmVHtVW5KiRMOt1Ig2E1//NExAoSeVa0AdhgAW2OAYbCFm2q97U5jUluNDz732ljar4qVxh70bK4siQCT6EOpMElaZ0q+l89PFuXmt2ZdpX+nvr1XNmLXYow43jU2FQU6HNUMbJnRpLJ5WwNnype//NExBMRIVq0AMMSlWI5X9z2V5jqR5WcrPzVdAYulxscAVEUaXC5ZYubJyXHuYalUp5m5m5XvM3YRc0/Noa6tywFlpAQWqlqhUqoJddlaUDVssRrPH2H3tvedPt23uvr//NExCERuVqoAMPWlfE8KHGTrK9fHkMEByPggxCGoPRRJgbOO9cOi3P5/+paiym0ddLLdUZkbIIVjnIIBjVQdI2Xk6UdVYWc42LWNNr62XdZY7ta1s/5r9wZoLK9P2ZJ//NExC0SGOaEAVl4ACqHMmxvHk2IUnlbpiDplSlG0k9YCpLPrc5hUio97wHVTMVTxhDLjgQEMipMOCAXtFEMbo4SWrMV+5qSaem96y8qbLSfTGokgrgnolhkbF8uO50m//NExDcaOYpUAZpoAJcKI6GZmkZJl45vMjZfdZKk50U2ru31ruzzylINiqvwkSasLWl4t/CQHHFlzdilrzPRhqMk7xOx3h1q9hbTmc6R2x2+EzMiUJIQQYVSSQ5zY0Hu//NExCEY4dqUAY9oAFwH8SsFsHYRxxlh9Dg4CRLpfTBwkEcxWj+tbU0UDY9V/6k2VTugzeg3tLy0arqOJl8+fcp+9X0o0f+k0anNqDpRoGWhrgAhftdIJOps+7CCsKXp//NExBASoOqoAdh4AbaiW4BWPPzT8dhuf3MSDtJqc/HCSsJtLHYmBkQEMcm5XtO4sd6xzv8VjIfO1s4fH3wxh38j5hgsDLj1/yEzZ/WBWfmo6vfN7A88PtZHnHXavhql//NExBgSkWq4AMPQlUcNctUjko3NtXDA0mgaB5GWq21mUz+A8xaTKJYeisFBhxQUcPE3+pbm/+d3pKH8s5bQFf4sEHbtQSphelKh0sm0wFR8C0lPehJ7sJfJm1CY7ahj//NExCAScW64AMPMlf0XVnsoyaR4jlFYXD2lz4O1pCjojQkOFC0qj/Yap187XmMjVw1G3ReaXfwZmGet1U98KzM4TkocTHyeggNyC2bqpz63GNfLmQ6uQ6U2wmy5Vq6+//NExCkRaXK4AMPMlNy15PkuO1/3jGDpBSDf5qeNGft4n0brFTz0s1dK5cQLGiWYDcK/QrN3GEEDJo+aw6X4jjDSESVtOdTOZ+ElypxdB5Kst6VjxoMseLm+PSq5GckJ//NExDYSUWa4AMPGlZoHC01Kg8Yc79zjg8ekHBmMUnaqlYwtYodC71gHbKnz7SrAMsvJ+EkQCcU7KwKGG/UBqGAKgVD2BICUal7OmKxE23qp4nbfT5Y3bNMlFeIiv23q//NExD8RWWrAAU9YAXtvQ7XXO3UhinyQDFTLsBUy5ygK7y5RfBMQucYUloU+hkJbMNIR0mAB0LKGYLeJ4mgHkEkW2MMAAXlQrhKACcK/cF1WLCaYsGA/VkssaJWEzq5T//NExEwfgcawAZh4AKgfPW58n05Ef4dpRrg0jMTtYVNo0VWsUzi47YGKZbdW+P//42a///x6Hv5nxQCfKM/pKhCgDfpxIdRJLjl/F/MQgRMlyEfW2BQkrUETaQgghI1K//NExCEaUXq0AZh4AMmR9HkEHFrH+0DnEZbGQRYGmUtYcfUu4W5LbYdetHmsvFIvYs+lco8F7I9iNLPSj9njsker3zONH0JvfbdPdIdgZuVZ//R9Y1UtgP8vwSAmZdS4//NExAoUgXbAAY94ABbEMMdlXBGyXnWX0twuR1ohxP9PuUGKxIAkarnPyEq4i5Jy2ZgZzbUSl7/Ova1L4jUh//Ukma13aDNuJbUfX/vff+LZrJk16GOBFkjgxCW6pWur//NExAsVQVawAZh4AArJGDwLJFYkKGdyNhydRuE/NxC2eOrUJVpdjdHX1AelprRzho8vel9fP3GtmtcwIb1qcNU1Hvb23/C1uJSXE9/alIouCooJgH/qDhB8pIYBAFg0//NExAkT+PKgAZl4ANQFAxBR/EGC2qaQNDjTPF6rpWFFKNoy2hgmTyqyrx8Go4qduTy3Ifyjsz0xnG/vft8/2rPGiXoGFXCURhALXPOxY8xf//rSaSZQJ9rHv0wkBGoG//NExAwRQJp8AdkwAKAJNYuEkEYAq/ZI/0/DMMOzAtNa5VxrS5gZMiGBh5EpWioKuPPGB1wBUPAazoofc79luS////qXkRkENJhDGRU1qDFp0QBqRjpo4qlVaj8EZgs5//NExBoRyPJQANoEcKIRoNmtRZVaSV+IlAzlTTqxrsxugowUBYOhIq5jqKwnGnZlp593+edt/3//9FUJpCQQXEGBzgoK7K+2oRZFC3JbWtbzheRSjIJUiEsu/UlR5T5U//NExCUSUHY8ANPGSKm28Cxh6OWVUDplMhbFWLQpOBUqsa9rDK0tLV1qQu4/71uXchUwyeDl0eRRJUJjNdznapqtnMPL1iR6U6nJERm1pMNKWEoaTjEFwQUHKm1GCJlp//NExC4R0DI4AVsYAKLHZs8PSnVYlRhtrFk0K4vm0mCfWxllusUVU4vpMSg3pST/7EOOy1v/vZt3y54zTGwRIWfl90HAzB8MyU/8Yclxlmi//yUMT7mhf//uPAkDQuG5//NExDkXAyKMAZhoAXC9/9vyQNRgC4aGiCf///90Fp5cWaOgl/////tZ70zqaZujqHROXfM29hYdVcvOM4hNRvPa2nFm4Y3+6VBRwSMUDJBdRirIuEUs9SheAXYUegGR//NExDAQ8MKgAcwYAI8J8lrvXmlXuWdJWDcNFmMX6+2l20ozND0YS4lqx24MxNhi2iwj/00suwE6hYGIHIOg5IRutDaoXlogUaaDscBiKMOAC9+Y2QAMESjDGPtPHX////NExD8SWH6MAM4eSPiqWdC4nXV6u70qylRjxIHQxUy7dIlnRgE4Cco3ChGRRhmZRD8AtJIuISAH8nUw0wxMS0gSjUm/ofba+RiuWvrq9s9CmUQYMEG////29doEO3pq//NExEgR0U6UANRElMIyMqZEwNbECmJF7SjBo4FD6wwXGrnFZMXiL9Oc3IG6SYf0YCvfkhx+hzxsbZ9racjK6HlZ366aNZWMQwMPh9CP///d/FC4ubqXrTFa5xAxgABj//NExFMSIUKYAN4EcI+NQkjzU4DOiGKrKUhGHSp66br3St2l6w4m+Chz2r6AZwATTOz/dzc39/aTQX3Qfo34QSpxGCg5Zz///9n//9EcnEYwIJKLQs0P6GAaFA1BSYlJ//NExF0SeOaYAVowAJWYuCGrs0/EMFYcoFJKYTQcBdHkAaRGS+7jeVGhuHKE9GITUkk0UScPQvqQC8A2xHiXmqO7pJn0Dc4gPEyLyh7iSW+S7/JcpS01r/++/UnQQQq///NExGYhayKUAZloAf+nvvvTMSko3MTdZOY1//9/fNEGT83QSc+boGjmDGWaiUPCtwLxVa3Yy7UmkdDDiHpHWg+BMZI/+ddrEUoUvGWPuBBGmHkSF+5Qa1g6zq2qPsRa//NExDMSEUKgAdl4AfrW1K4ia971+///nMta51fXv8y+pSrkVCoUcCXq1OkYorIrQEBBE3QMabTNZtVh0zNOM+VBSLSAL2hr6Ln8zcGFY3UP/+aQxjbc1NzQhUkUJMJ3//NExD0SiUacAN4McTX7ect5bPUInH2ya4PVjM0SAzSdlctUMfqDJDFhksciCu66vruCZTDdtKHi4RLlUgGHB7wq/p67gy/us+/Vz/7H/ru4iPygfPtxSGE9TXs9ynxe//NExEUUWU6YANZQlFB2Pso+YPez/////UqkoWMAiFtykEiRNIPEimcOfT1FBl27fDrYQ2VWubKFzg3UjdxJdqc5Vfj4W9yuRashbQBW8SlciHTljv/23O8bXJlwg/qt//NExEYRaUaYAN4QcZe8qE857oIFQeYoeBgLBCyppFKMJDzxYo8E6WNCVymlGCZAOTsNMfxLmNrRsJmzexpFHGOhigqPiwibPsQlI3q63/WzGkOJqYUBo2AAoEcRCNng//NExFMQsMqYANPMcXQcGlQRNqRHxnTO2qYRwkihLAdx9eSINkWYUUwwuighCw6uWCqxxLMt9AZy25n//////367PSLZoiqxUbqOwau7o4EGmCL+NUMLMgFyPzTLB73E//NExGMSWRKkAMPGcBEar0YNC50VAMrht2ljO3a1TTn/n36tbmVNnvGZXhYJHkIk1Hf2/ZXk3Xq9agjOiQ+Fl8tdY0zwifPapULxoZbqQLjxGXgoVks3p4kIkUR6ZRY7//NExGwSqU6cAN4MlVFS+AlzJB43oCi//M//3Obq2P/X/4zjXuGTAMX0MNHy3UovQIi5ijnCldULPALiCAk3Pm2Is3iKgx8xLFpxo5DCiakBBizIh4AhwRjPm4ZEIOks//NExHQSkVKcANZKlXrWhrbT69CepdoWMoKjM7U7V8dJ1In5Kn///2f6laK1FRqcjBkTsnDVGoIHAzaejdyDVu0tV/FRbiCqiB1qkJRK6lj6L8vYfe/93v1j/4d/Yma4//NExHwRkVKgANTOlJ4mHuJtl4rvymeEA1hgdb///+rPJQw0EseKvgKjTVC1uL4GT5rg46Nkks4XQSH6ISjJ945EEhggEYApgVwWpN8jDri9pqJSDqkVs0Ydvdjr7+cK//NExIgSAVakAM4KlAQGS+SVQBrVMVTjl0wmcgCGEwGLA6CZL0WGWwqBSJ/p6VSqzey7NT1nJ9XAcBIACBE60FqZab/5VVq/ZiTYVwqMPW45CEf7/////6vR/UoCOUz6//NExJMREPagANMQcdIykez1gaM6J44kYwE5jHooCwBAQFMCBBSpU0iabLrttAfyYjBsIMoJlBBAmkkqM6AeSXD+yk1VuIt6kkw++nEMnnYPMUqV3nIay3HrZcWg66l3//NExKESWOp0AVtAABDebUPumn3Ftvb7onlnX9XbLm6q5bfz226vipk/BA48jlC4baCOVscW5cYlZszVSBN6jOU8K8WNJXx6b/6TF+pfRN1KSt9k/10uyv9C6rOn/Qa9//NExKohSlJEAZxYAK5LpmJoXCwSxk6m9MehOLh4vkwsUHPF8OwmAX8uhaiUMt9vpmhgmTDxddZfL6i+eJ4VEMwwQ5hvKw5BfDliYJ29v8yXUedy+XDBB1NizOJEqMIH//NExHcgyyqcAY9oADBPCUAvBtHoSYl4wipxmC153/zndGr+/////57nOtn/UKz/+vn/97nhU6hdbc5tpIudRLiNYwhZcSKowtZYHCQy3orMNsHQfHDA/OFkCSYPhroA//NExEYgoxKwAcJIAY9eDYsKBQTLoRNyuuaLkxCbTgA6bJ8hFcqKajiG1y0UnFzomEasGCFYnR4SCQgYJUSThui5vSqLNak1AFpZe1//2R12/sDQK/53o/0RbJX/G37r//NExBYWkubAAAiMuSjzMcy5ikgxoUcD6a2KaW0wEWkTZBArTl691f8mCWT3VQ71PdKWPOKMaip/3SWVWY57mFXf72U3jn5hVVexXNgoBF15ajwhXa1n//q2RZv1ChXE//NExA4Uilq8ABCGuCTLfZpFMgeMclFQ6+UPhsgYO8ZkMSgIhmok6gZumBC0aA2FHPP43wUf9g92YjqHS3MT5A2STYiPCIsDQUER1ERQLvtI1ca44QMxA9ZnDxwYoO99//NExA4R8Uq4AMFGlOt99CVfko071dPOYoDh9QHDhEQzWtQghmEW3/eEcM82d2BooqGlCl74NAat6tHll7jpEr5b/I1PO63K6SRA4upJRbp1lkBBlWpB37j7Vsy3XbVl//NExBkR8VawAMsSlL7bu9Svet4qA1oHAESkPZ98kBoo5YqMLoRQdQw+VF0LyPqFugjco3NN3Jf//8kt1SiOYXvlyL5Gf1eQlrhNQ33Z5TV3ax0rbz15W3mFzmXKLiYs//NExCQSMU6oAMsYlAmMNHlc4lQLtQ3KpQXpxaftxWnZncpbp3GFzljKKi007///3lmmkC1hum8xABMQIpYDFg+rz4d8qMtpluP+hwVeiv63BbZKBDSA8EiO2WJIp7FO//NExC4SaVKkANLSlEiH0pInSyds1C8qOSIl1iI0UQq6Af///K23/HLdQhudVRuATQGWaZp98AyKYdtmsezsZjfTjDsbAvYLTkU2xgyVZiyatV7u5VZv45XYaaVMsa5S//NExDcR8UakAMFQcBdCL2Su5j9MUSPMlnC8vbcizi4AyGReRI0mD7pO7ZrCqFAYezN/qxlGzaTcdgJWmCiQqdSSPSwGBoO+oFZY9W5Z0RD3VBQGng1UFAaPajyJLh0G//NExEIRaM6MAMDEcJ+2v0UUCeYQYm8GmY6wcSpdLpi/hzuP5a3/5d//9n7z3yoSejgY8iaTiwmEiKJSNFrYGjp4bIcAzt9kSy3o0N1qOuVel0IhMIEFErNpYOnAEmi7//NExE8PGOZUAVkwAP9qwrc6PNFphaKFrQAc6yuxusB2C/oi4gspqqSBo7CGg2fEYiMhUNGpVV1xJBBcsCEgzoyd7fUrcPXMjpDSXIIFw79n+9/DVZeDlyHCdCgQRZN///NExGUgsypYAZmIAP//vIubsXz4zA5hOUGL/////+T5ubugOBkLOVzA0jP////////////7+f//f8+f//3ekdLF3sEDm9JHkBIJyonAJAjwYISEtMDCaBtOuSYjRHie//NExDUe0xqkAcFIAXW3C0c5Yu5QkUp0mLwggnLXCskTJ6XkxMKJzhMkaZSPCeyM+y2oQOC42iHO31DzyIGFkAABRaNdAeJ0dqFycndWzQMLMQoqN+v//+X/gy1+W00c//NExAwVkw68AAhMuarGT7eldSdpVIbEu+JEXicuIO7VjeNeXacadzoZWzUfpMdG5Krw6Yyqdt8/cjVy8kfeJScg26idKzF0UiYO7pbFgT0jmV/jkWA5KjOEAQPmY7vT//NExAgTOta8AChGufnxaNfKjALI/58Q4p5E+doXmoOGKI2tVTmTkVzU/Uj+n98lLL4bfVI5xvVc8mc5tkySKaZkX+8Hr56nDPC23IQUKx2NGeXSoYADbEwMxndJh4EE//NExA4VUU6sAMMGlKtra3y01ZM82lLGHckcoHA6VQovlyKtP+9PmtQ/UPem97+XIoY5GBEYwo6IBX6C3+t3iJR4kkqdbdFjyYixKSUHXKBrEqFFVfqkpApDWh0OTIHu//NExAsUqU6kANPMlBQEa88ylmK0qRlBbVCX86VGf5xo1vRC4G4PULiwhmK9GLLlnU938ByhVpJWBSc2cWsOWk2x/8Yt0dz75IYehfKwSf///pV/WtzQWkJCnxxMCsrB//NExAsR8VqwAMPGlUZyUEBB1bqQjzuZvxS+GKdR+EzVp+jWPIIAJKP1CGJ5FkxrGNzVxveMdDYGDIlBUGM5kn8fV8uU4L4WC8LlCLKtumNKrMtoWZgUhcYGARKlYwDX//NExBYSQWK0AMPKlRvxznP5VD7EeD6FpDmAlBvn7JDlhSVzeS2cY/+MK5lVHMphIiA9SReM0pjI0Wi7IdhBZ61krJKEHHOdBj1ZpkpGAJFLSQGoEOg6ijQ0jZpDjHkT//NExCASMVK0AMPKlTCvFhEgLjO0K5sngffti/r/n5cr3tR0GxGo6KQqgre5TsJmIOErAIiuxVkS5mg6fVjSpYClXev2D0DW4AtSUB0rsgCHDgL8HgW4agOYupJYippB//NExCoR6UqwAMPGldX9fnWa+v/1L21tjY40XJKIURT+kHUOog4qFp731ahVIXuh+WmrlYEyifaAgMTIYX9R7ElDXEQH8NBC9AuUMWAvYfwFaJ4WaakDRKSlV156je9u//NExDUSEVKkAMyGlR3zvr3JXrEE0KdFO2IopoQu+76VxJRh8NN0TQcBQO8SAVzLKi4Asl4IBJ8VsIYGTh5glQQYCTgVELOC9xGjCMSKOY0uvZT/a9KS7JXeCsIx/EHC//NExD8R0V6cAMzKlCcaOXHIPUlC1Za/RPWQCA82GRpKLGIDKjkNigBnihYGIkDUYtoIYjRAjQFEAhUCjiBjsQLiBZmVf1sp+15K1pWlasiwZx1prOJlGrafWt6VpB1M//NExEoRkU6YAMzKlY9iGIFLqzixEBCZ0YB5JB8GHoUg/TJIwWZCvWZ1iQSQTJnTeWpIcJFlO4no4FWN0E2MalEFg4ZsBQRkmp/////0oZodbiVoKihNu4w1MCgMUDCg//NExFYRMIaQAM6wSBNEkcwyn7xayKCMCHQTY3hkKuuyJ+Gwy2gk25PlzbfeWnSu90q1+dWIPdsaRIkkmot////1LX0EW5hHFQ8+VKM1U2dmVeRJADzElZhzSOZfZM2J//NExGQRsRqIANZEcJjASNYPYQ5BxzQGY08ZkUZwwv5NqFzL63ttWYKLjjorSg+GCa0Kii////9aPUp0i4ISSIQh5a7AcaiRGFDABRBhiuCDpPAx0GXQY6gQIAkhOcz7//NExHASmIKIAM6ySI5Y0rwy1v2StvLG0jMOWaT9f+H2MaTmH6/HRRIkenDmm8dg4sBDwi3EKShh1dBwhiEmTE43///+suk45WosKLW8jUbR0mEJ2iAcKNN1EaQBRQLB//NExHgZqWKAAN5GlIAp0wYCOGQTHg4ADpVAy14YiWYTqOU847CJcLjF/lcLideHZNVob/4az/Hu9dw1/Oe/uGyc+d/57Whhoc2o/KYw4pLDUXk8NEyxY+93///7HFGE//NExGQaKV6AAN5MlNU6hfi6Y0IwRs/g9JNVJNMgJBRnxIQAWObQ4Y1YZMSYwkW0KCw5UMZBUIsiNPjaBrHA4Nl75N+9jvTFF3Vn9f9/6vdY/vXpvm6+SzP2f7mHQolw//NExE4aAWKEANZMlNH2DWEPgHxT8zAUbCCP///0JLgU4SSVKqPpk6wJn+4KirGNBBfWDBcK0IdmMvQdCoMaAuKWGW7tuJ/EIYgAH4WsFgGbrOtVsU+8Ob/8rGs8sv7+//NExDkXOWqIANZMlHi0/UGjJ+Zb/d9aU6NtunWvTIAUHJtU6aTBgRrd///+itcZGX0Z2Z62NJ3ZNCihZYHIIZcOsJFLgsJnRrgmxJgP8PyG6GrgG5HQIAFczGRNWJ6l//NExC8U0V6MANSGlK8/TazsjrGxI3F7OfJ+6l9JkFEgpA4CDERwoKC7f///7QsNSlWUofGMTAOGlNAdYrcJDJL50QxHg5VcHET3CM0HArtFtWctiBYqZqf2Ft3NUsKy//NExC4WiW6EAN5GlLuOOXedyq44Z/zn4NBlQt+nv0iQ4TTY6ubkwkEGKRCEU6bz3///XNsQsOO0qoW8R9/hihYuA3toibbQhDFjX8TwX82NUMtYa+Y4hBGq1nbkuRK5//NExCYTKVaEAM4ElJlsul+Fbf/zL9Z61/e/vUS4ck0jqlnRb0dvZbLJYVKiml3///7PXUvR1aR4jCkjgIyssYcQEEkMUFmvgqqqBfqVpiuwWuT5AIig6sNZ3q1LWq5X//NExCwSQHp4ANYwSMFdibn0B0NCVixg54SjXE0KDomDnyV3///zHlkLMyMNwzNzSCzEGBEHlRPq1xYqpYIZ1H51248gSBsVzA3JtFyWNb2fta9XJnJ3pmc65fL/zGdO//NExDYRWVZgANMElNUpVCiWfcSDold///+Eg6plhtrGZKDagbKahw1+CqQCEtAvUjyTAxi2nYgi2pFWNLjmFLFfQtxbZ0xrkzjAQMZgzkKCQFla4oEkMGmRgFFcWAoU//NExEMRyMYUAMvGcA9r/tXVEJLs/LaQYyZ3je4dRJ4TaX5R8ONieqwl3Gxgs06WCzyJ0kuoktw0cbLJIPBYNmTTWtOjgsnvVbGivggoy52oNuFv6k+pIjFG5lUFMyie//NExE4SUIn4AHmGTI0kPjI1zZAkwdo1aCTEi81nQKEbmCkSaBlRoDC4jFUBJ7QEqVPCSpYJsMoHJDgtEIHCLGpCxMyiVe20uEc01Ls1/6EK8AOKE3yTsZ+KxwBAAQkL//NExFcRsIn0AHmETAejELgxCgbmgGcRK74cPggND4nPiBZou8EJwXeQKHEixAogDlhrHNAp80xIulUfHsc1x8hIF6Nfds9KOziMgdHQ4YYXeCQEwrtcKq0Ev+xV627U//NExGMSqJXUAHmGTM30gB5WbDqJ5hIjMFRGZOp0Bk6QlD5176lLBAphQrKoksXLWaeuxt2tYYtaYcgpuJWMK6zKpbMbMdVYzbN1VjFsxkvFWRukRUto5KVJWhxcyCwh//NExGshaxXMANMGueXFIDJTj1kdFNHrILQLkYOEOgPEuDRRSPBIfQPhLCVkHH+h8bMMEAoSMeChIgM64GBi/iCElATesH1PKOPlz9Z/OYfxO6IDkuH6wxhj/+UfE4Pj//NExDgUaH3gAHpGSIEAQOAgD4Pg+D4OAgCAIAgD4PlwfDzigYx6QSgg4cFMWGow48CMh3CoRE4MyfqkldpBIlCUjBehWHoOSZelXyOZTMs59R0xZtYtRcTWwkdsVotI//NExDkfuvHgAMGGudAZKbo4KihnCIFYh0dKpiXCBwQUxxAGECgQgWAAgpiXSxds0cNsaB0ATEPAxDpWIdJTK5HP8qSmaOGo6OCMS6A4JrGUpzUt6LGGgpdL1fr4y7wG//NExA0VwHHkAMJMSYKkXVIhCWTeSgMw+Kc8DRRFmIixWAs3tX9quyBnU03RkbbAyNlgMjIsH06WW9ZZ+hj+VHfVV/Kv7f/V/av6V/E76af5TbgYf4YOM4S+cusvu69W//NExAkSWEnsAMJMJBcxagAzTELAYEAYgJA+sHy4YKOKOB94f8o5v3fnLvE8MKOKDInPg+8hIQzHOKPLoTDE4fKHCji8TrB9Ry5by6EqAsCOtqpMure1VBjiXAApBXFQ//NExBIRIIXwAHjGSFs7EwTfGggoHgxC4WWfHKOFFS6iyfWtKVoTkLgCttccqhVHqHJ0pTbMAEJCJiXjVkv+qhjQ0tlc+wmKRWQwY0GSUoZJmmjVSOS6SpdKG6rDYHAY//NExCARwIXwAMJMSJAcYSQI2D2AaVHStBWWZVt/+pVTF1j7rnPffc85a2fhGEVpXVWMj0JAfRCzUOItoQtmAwwU7JabcJGuWIQqIh4jCtYZCZmkJGcWAzcK8VMbEs3d//NExCwRUFnwAHmMJDv604VS4JC5kYokAmtJPFryvs37UWCxoKrqAIwDsriEHucdMJwPhMxCCHIByE3e4Dp+M76Y4Hz4YRYOLh9QRfLn+c2qdIKfjXwx24jY+lTpB97X//NExDkRYInwAHmMTFJDKKdJrjr7mWFG4nodAbQS6Fw5CwiTEUFjoZtgcjY+ghRAUsEjxI8EwkJVAIsoWfa1LCQsEryxYNvbOmEKaZ6vsX1se8VKsR3/62J2A1cKiqTK//NExEYRkGX4AMJGKOoBMYCgDhUzA4BBzRWcEnUZC6LQP2SbZpgMCwDFQugPgMgsQKAbxrwscacIB8oTWUgSt8/OTknTKS7ljlOccaTk5RCkrVe7//11VRyCWIcXA/TT//NExFISSG3oAMJMKAMEoFh9skuUjQOgGCEB4IcDujgGTCIONtBMGA+Fq0LEiWWWuH1fs2/VX6UN7HDko9jmfHfaOGoVIWJmogHQxDn1JkQCRUn30DFqBubh3Fg4Jxzk//NExFsP0GnsAHpGKDwQGvEiCgABACAgCEuD44EIYKHAOHsH4IBjQXD/UCDvn/6ThMQOqOL9L8QBhn6lTUmwUkNLHIKu9orRlQtwYitGBn83KYnBBfGhMW/idh56L7ZL//NExG4SYGn4AHpGKOhL41iNxm9FrtatuettU6Pnb7hy566fxp4XCDsqsqHSsgpmVlbHQKgOdEVnSnR45UKQm0log6sNDZlPbKlM4UuwqPKcNSJwWXYZUu5frhd2GNZS//NExHceitH4AMsGub8gfaocwSIu4YJREmCUPQLIAhGxJUnRIsAgYScs3A6E0tCtRIKgIcPAT4SCrrWpJEaP9vSVLFdYza+1/4xP6wEn//11TEFNRTMuMTAwVVVVVVVV//NExE8P2GHoAHsMKFVVVVVVVVVVVVVVVVVVVVVVVVVVVVVVVVVVVVVVVVVVVVVVVVVVVVVVVVVVVVVVVVVVVVVVVVVVVVVVVVVVVVVVVVVVVVVVVVVVVVVVVVVVVVVV//NExAAQGxIAAGBEuQgVKRHKg9mRZI5bEhO06/TccYOPwfceOb5L2b5/X//J9G+////////7W+3PP/+0hCUIQWc5zhwMDOQIAAAAAEEKO9ewEVDoiHCbT2WUctppqvYt//NExBIRAE4wAVsQAGNbPC/0JFFlxC+XZFfvS5B+Bw4OMkYW8z4qjX851ORpNFFKWIQO93eha1iqh03WVlHpTW4HMlKVLJP+fttwFvf/LaFkL+4W9h6Ajz3Wm5FhHANz//NExCEZqyp0AZiYAADiX+9MR8IABvgYDH783+LKIifJhE3//yQL5uUykTj///jkFopleYk+6v///0ED6CDtZSCv////9kEy+gbHXIuT5cGTPoVQBLTE5d3MrEJReXnO//NExA0VqPakAcxgANGaN7G/DVprD1xQSHdhqyMSGYozFQ2PkTa9ZuX6sXt/7f2HAHOICxgPl0lCZmk2EAKdC5lqFU2VR75Bb9QnZ9vcp8gt7HvIOUxaYkSHGSdgZKx8//NExAkUqZqoAHsGlNI+7Uxeeq/RUVRqq0zVIflYoFW5gbY04Ujp2dhgmwF1Abh1jmUQeLqRWeRHG7Euk8RLWaTViw4REjSQWMqQGm99hex9ri76WL9dr3UdSI1tuDm5//NExAkTsQK8AVhIAEBwnrpxqw7EO07W4T7K3vm3oeSgkocJBkNhcBgIEAMKJEhdCjhWVUZz2FMwgy2m3CDGgwND5S5sICC8QNABkDwtK7///609RjJEWpci+Spon0dJ//NExA0UgR7QAY9gAOCEn8sIcQRLCuBgFYNAKB2PAhDyqE4HzofgbCSCbY/FgEybE/avsbsELzlfo9Ev3NZTOUvnNwPVDwqCxh4iMvAYsAH/6sZllJNZ/nKWbSxRvZxd//NExA4TQW68AdhYAQ80qVTg6soNA1NB8C0r8QNTPuPx4QztBUXKg5HSagPCO4g2ylcpea9nrgupEsckUxZ3z3LOfi+Y2u+uF+D1+s8E7gU511hVqwQkNFVgkfkKTz5h//NExBQSQQKoAMPScFKF6tK1DWWRmZssNvb1qsIgSSFQDAURE01YzjGpLXH+ryOSRIsFmgqCpVx4q7EQNa///7PrVXFg0wsJcCSoZV5hQbJm4vtq1g+wJlB9b9dWsGXW//NExB4SmQpwAMMGcNouaAxgIBAAIUQZg1swoCJ+Eusf8MOpUyWzzn4ADvbYhU94aZ3u/+z/7/ldai5L6mFiarjSRRNB5/lzTWL+rQQrFIZTDCs+KbMRZBYolDujNZW5//NExCYQ6RZIAMjMcPvjNvt+ATXWCtMlA0tISD12wOUqVV9vq////93TRTlsMygO4NyUaIBoxetyaG1au49/K13Wtdz/feLlDCCgpYla2bGZc4f52+GaA2XDQgq5k1G2//NExDUScQI8AVkYAKGPlqsg/as61Sm2+76LPsoFLd6mrUzfXpSHtbSO/YycNKj/pORWb58kCgE8DnBK+ShpQE7HQ6RPoTIlGIImYhDcAxPzTaw4TMvkiNBB/oIW0DBY//NExD4gyyqEAZhoAPAd44DEJH/2st0+PcuMP5SJctNCH/+1k3T9mHemJ+Zk4kC+XBhxZCcF///132TdNJBDzQpiYDvJcojtC/jkHAF3C8CYGqoKhv/GWif09uHCi1Wz//NExA0Rcfa0AcMQANvIQIcgp1bQouxHI1yTI7srJ/fbf2pJ/6vZEZXVveVUCseDZUkPFXB4ukVqDyrNU08c3OjAM1TmLtV1Zjx4mJD8qa5HYSyNU4bMQxbDs+Sxdke7//NExBoQ4O6wAMIScImbdduCiBM2CgGO0gfsZ1C7hPbRzKvhIr8MDwfW1H/T+//fdYYfyH+qisexAPDUJno6LNRbAlJQGZ8eOvwbny2u/22/y3fwY3qpnD5FL1CYmPNW//NExCkRoUq0AMvOlN4VPYdDRyjgy87n6ddD6HF1nFhD///cLqfq///+ispQvMzFVCugloZUu5kBMmozltwVvGy767WqPvTvOU78VQHtGVOIIzXPGzq/ayzcwzmg1e9w//NExDUScVqoANPWlDXzf1fF/P7L4ZekvR///XV92r//prkRTaMamn4lQyKDRy/UlFCUAAKAVySjWildbJ8suuhWKpB9G22kuEQImZHA0TdVDuEqHEkSKwkcRqiZo678//NExD4SAPKcANvScLGg5Dqw1////+iGIaCgGebhiSK/YhKDXR15o+IB0mPnU6f+BkDOrklrvFSGawHxE/gXKt3BK94/cGBl5HixGBg68fQuAXjn/su0Wzn//2/pnnOX//NExEkSOO6IANvWcJyhIQA8gCSjhlL81cChbPDChxIKsCBhrLEzVYyTTw1tx1ovcW7/WUZ+/u9R2aNMuLFs9p0aEgPAAkIkHI0BFPr/1///c/+PizSURz6SdCpAQZIh//NExFMRwPaQANvYcAYRQGIBAurIH6FxcCdnjtMp6ezLBa0LMpzU8CFjY62hnVs2ktNSTF60syF1AABoGVSaIwPBD/+3//7FKrMyYHecF8/xinwCUx0wI8ywV5UvwwnJ//NExF8RyPqQANvScHZPlcwH8xJxcsL+ArppkOhQ74vLRq3BbWryvGdyckuZGC4XQipLoEa/3f////9AynAEQQ4Bs2pFcBzTpe0wZ8LinUVRXdbdOlsRuWxDOcod7pJp//NExGoRoPqQANPScOA0GYTNZY72Ni3TtZLWcaj0x6OKGFqoyT/////+m5yaosghtABRGWlplE+ZbomYCBhYYEBhqQmNCYGrjJTgu0zaH3RDBVPt7H4QSzjMkVzIYCrB//NExHYRQPqMAVpYAKNX0v1g8ED55CM9xe79frVJq1lvGUyCXvP2HIKjXe/89rn/8VhUss5Xv3v//DnMsf/7G86Lltl+x2luAKnvKB7OiIFTCFlBVBcNf3Uf5zVVBh4F//NExIQgCXJ4AZvAAGAQQabIqoaRQVLAy6GCUaFjLzoYBoJ0LAQIVKNNxi6ZqeZZRLU0wzKQTcCAR5YHGQ/GgQmYaKtcHh14+OXbaBQ1MKOy4FFFIbn20hiRUczKY1RY//NExFYiEcKoAZnIANzbtxxlj5yyvHZTLXXl0u5jbnr1v6KX4O/NQ5PcrzNWW3ZZ//////Y3z///+wCb//RmVcIo5YBJ3FJUakBQ6ebLavihOULOppMhVWXBJ3YSFwSU//NExCARuW7EAc9oAD2RQ4i+RFJnjKYJ3rrPMjXQPpl6TkiY51BS1na26t1pVrM2Wenm0sekSpWXlbdsUtzYXPJ7XHRfRoBwzgEpD1yFadQRoliyRZPgLR0CcAqx3nYo//NExCwWwXa0AMPMlBCYsGA1P9wpZb1muzCrRTQIEwUEoDBhK0HKKIl7v71TsxJkfpFw+A8mWH2////qrRkIy2dkCXTwJZTrMIsm41OdS9VB+nUkRSXxMhanBvejBVZu//NExCQWYXaoAMPMlIhp8GkMZ4q2hPTwq6e0tasXDV0nN2NkFDEgEe1NUlqtsnzFEnkl9RNUkDC3JQBQUHLv///+uouiEI1AZSa77K3Lqa04sZvV4zEhYFQTkjDqUoPp//NExB0QaXqIAMIElSFfQslRpwNVi7ZmuIZ6eZ0cMYwq+Z0evmc1cxjGDATBRlBXXi0OQF4r8DipQM7jSmMZXUt5yYTTXzk5Io6xFq12auSlYeEICQhRsFpMzrh9/bO1//NExC4SIWJkAMMKlOSW4jdroUgUKEOzW/r75UFwmBQ0Acrd///+tT3BJgzivFQjdAHm5VA0LnMsu2tbhExKXW1NmL0JCMjpARBo1m3n+39zn7TY8CHEhRBhYe3GkbI///NExDgSKWJIAMpGlIfFWBhQlI6mvR/q/9fVV/9KPHAxGGzIcHgZy12fvBTJX2r+XxXdHpA1CwUWMYscDoncbLDA0NKPbfUXV0IJpjpawzWpMd/13qXV/I9fHtL3C7ZO//NExEIQcJo8AMmGTAn0SAwwEMldWKik+TUGz4dJLMjz5B4VkCB2hblQ0xa1DloFEDFNPBydhVEtYRuPW1AlQqNsd5sX9dIM8wxjrlGpisXqOhVC6qC1BHnwjU7vX/ll//NExFMQ0C44ANYMAPveubx/mst3EITYqHX43AITKitLmhtDoqtrqzyUrtTYlzTtBiKWonkv6ei0nrcxTdLP1LoDgDrjVy9RtgAYkRb3hsyQCMeHP/eJiwQxzR2A2KA0//NExGIQoHI8AVoIAABJFqZXUB+QHVDGYaoqfX2F2IBj5EfmGykF113cpkHMyffr67J1TMn5oTZXTdb399WhWQMiYsstmhfMDQoV70b0KmXVSbeVEzE2JwgjJmxUN0N3//NExHIheypIAZuYAFbU1V//7+o0KhNlcg5gVDxup0S/ZfD1M9YMCPJSHZQ87L1LDPNikgczMxw1/m471VRGIYAwEwfCELIiqXOEgDhCZoTGh8HxdAxJCZ465AyuT771//NExD8gytKkAZlYAN2bcG5WuWHKf/Wx090k0++TjKexl7/9i9Ovg7M/33+z3nJtjGPhGGJndrIYr73Ho+e6vOffzFP2ecmZSRabFg2T9coKqtRJnR1yzmKjAFv00FCD//NExA4UIU60Adh4ASwxXQVKwZ/mxKs+3LHO+Sw1ayWkJe1ONWqkdgsJzF/LsqsLLk+fx61YM1ld1nZ9SNjrfj/OcekTfp/nHpNvEAXHdCreoJM66zNEqjoWW7gbqH6U//NExBAVeW6sAM4alBxKed5VJH/lpMq5t4W8/JW2/qYVr/xwfdlQdD2aX/f28Nj7g2qjsUxiJ2mcD+bqKj+ppuUNHMU5w3eb6J9ajrXf//0Tv9XD0yCDltHjCpTAZQDS//NExA0VOWKoAMvSlMfAa+y8ClJnRGIHNEiF3QN5Sw0mKpLMFSFSnOFCHmrBISOc50a5QG3NKBqMxEjwjPNyZBpjov/d8lz1/dbpw/0zO9X2///8QrlYlMM+ZMVMVakt//NExAsTSPKgAMsScGZxYkCYAYjFTuFmNp/udyh06dqj58tCo0BQmJkLcZz3blSCGe03KzQKRl0mwwfQ0THDbAI6IBoPw95Q5TyFE5wx9FW/eYEIL6WdQlFBniQugZ8E//NExBAVkVqgANPWlDVi3SNBe6NNnrg+8dMPc3JZmpul6fbF2MZ8SEkSAhk8v8OO8xPOVBAL4XBwtZZzzNPZ3V3v6P9MLz2eEQUb/1f88OW13brVwqvUFK0MUJYGBgWQ//NExAwSSV6oANPUlDoheqHCanWb75U2/TX7VbfVUTtp4TdTLeoIGrD0eyr3hPRJUQjR8J+EknYRj9OWznzsYsikDVJJv///KvUqwrM9NbVVojBIMDE8oiRmhpELsy9+//NExBUSWU6kANPOlCPc2Wf85tfDTrKZdYou9Q4TNWwnx95hFi/qsvH2UwSpQDA+PC7Tu3yrVGuUPrcr//+iG/0VygVoR0ioJKzgA4CNlBWyo9GEojkHTZH4lN0dfbRp//NExB4R4O6QANvecNo1jerztL3qFZ6wuNasLhCtdW6+ottt8bEYfmbLzIObr5KeU/////+qhaGB0iDz54IQHGEZyZaTO3LRUcKDxpipWuG0Iq8IZjnh4TXxj6KbWpen//NExCkSoPKIANvYcBFOq4tuWpwqR4yQNbDsxk5Es14LQz+v/3f/7S7m+pZMuaWGLj7HIZ6ms2CVESPYRBQ6ZoWzsbn8CnrVC6IKPHZ4m6jid3jf+WUr7nD1LKUEJlAH//NExDERaOqMANvScOSQgBFwIHUyHqNs/cn//4UvT1iDQmzrTQDnryAQPCoSY4IlxUjBCHGCgz3Oq5WW32f6zDVNP2Y1a7Mklovmf/a2f//8fDqBr4KiSc1n+tb/noda//NExD4SmO6IAVswAIRf/5EFddDJY0keWRUAY4HlDLAs/IhMVKjSC1LIQAaKDMjMBwzQomMog/BggMhCUlOTpeHYBoQlAYsIAARoSoqKlUMyQIqndZ01qpolBEqJpnSd//NExEYgiypoAZuoAGX/lw8mfLmtf92rdajY84y9Ggl1f8gRIC2Jumt19lpdSX1f9art1GDJf/+3/80TNDE+QcWeMmTJPsxNm6pD5JNaJQIVSJHft46fupRCFHa93VxG//NExBYWuNqYAZjAAIJns1SKXO5k616u8Uqy+l7n7s3MdY87/1r+feztjHtnl5wDiBGgJrASxbEoa4k3J/6YRfue1XnxIxbM8JHNINF5ZS0qM59+R303vAhoEthK4CZE//NExA4UoOKYAdlYAA4Aoib0vkz2LW2fvNByGbXHjmgEOo8WULaS0MBAl0HGvdDGuYyvhamwxY3TcfwZfsLjnCMHjILHCC////qu9ahouf/+tauYjkgM66oBmqZtGM1a//NExA4U0UKcANYQcDfDYACgRPq07DTrTcKe89qgz9KUOWoDbHjsQaox2PtfhFyzlLF6IXLE44FANVFyCTDbPiP/m6jaeotpHAsZb///9q/4olWVR0L9RJrA5mFpRHU0//NExA0U8PqYANYecDk7ignGAUCyzcbtxsNvNf1+IRHChLeytnAAGgNS3QHSCOLFETaASidvPPS7QrZuPYkNo7Yy9vtqBkvcnLPa9P///rsR/AptrM/C3MFD1DABeEhS//NExAwSCPaYANPYcMsw32FywHAXUNK5hk2yd6qwZkaGh7QuxrqA3ASlwQA2WWh2keAaxF0y4NUDgFXsVa3b5tizG//////YtSpxV7lbATFJCHHauuQBTb0ChIi8TJ1E//NExBYRyOqMANPYcLlrhsiDXzkjtRK4xRsiEhqT9G8EtFJXgDR60zhy8hD9YqqlwFQYmBOYZWx1do/an8rVbqg0Yp+GWhT3GjJwsRUwCcWfsJBQNLDK/bcWuT4q1AYG//NExCERCOqEANvWcGUozWqGZWW/Vme6so85qM3DTYjGTRUXvDNczclf2////qsLqnEfUzGKM8AmQmelgOGJCNJ0cnCIUikFxbUQgaJvnZqIj929+A9hyiut3q8P2Xsb//NExC8ROO6MAVtYACu2Ta0x+twJi5WKhcQXI67P////+1EMAzimcwdbNkfQDSmlK5iwGLKiRBjB+YbJAxIJglOZTMsyYOCKxjxjxMmAII9zMAWoKKscajjXqKwy3O4r//NExD0f2W6MAZvIAA9tV7lzGdlGe7VHT3rlLyNQW9ncMOQ9PzusOwFL53meOfcP5z8K0rtfzXYdl1N8sr/+PNpLZYibDr5o6eFXf6n/rUqOqUmluTHIyirSAYZmLLpp//NExBARuUagAdkoABg3BmryJ82WivtKi+7QGfmGFSVnN3MgVgVzi1Nt9qULVEGMowwgVm+29qiynFEEC7P////7FyWHXqEFBS5lgK4roELKAgsKMM1HgKi0/TCAqIsw//NExBwR6UqcANTElGIOkBfYYJHAKFJFZFkSkkmh7162vQSRqKxylHZjfp/UpXKUSTCb/////6RivuQa+eYwOZUkLKRwkaaCUATGsDWnkz1/Pm9SprSZWKOpRhsKVDBr//NExCcRqUKEANYEcJLuVZD8p5svX6Xo96KpAJ7/9fqhoYGSoiV///6g5/i1LAgAgzuYB7GAKJ7kpgTR72Sr3EBQWdCJZz9JK1thbQvSwqltPglz9UYSmZ6ZDjhBcIg7//NExDMSeNpoANPGcAAr3hmVYMUeOoqSjo/Lss2u/////d/WlyGJz7muCzM1CgwBOlFeHW509q3hVqWUNY2gLoCcaAFEKhZkjYRalqorsPJstuXJ52iMhs4NHijkaTL3//NExDwhMu6AAMpMuUM9k5DCiBNOH4PQIEBexH9+8sWcQczLz5hMw8BsTKQtoe4333adZmjIe712iIaH1o/v+9iM72zsm3x07+ZeX8/9k7bobpHmGIKmiI58H7piEwLQ//NExAoTOU6kAMJQlPCFCL3n3QnOVIVFjxndQq2Kue1kLzzm2QIBQdHBQSNV+tJ7cMqEExnC4nHF3AgGC4fgvY7LhbpQu0r/+tYun8X/+1XmiqiRhS8gGFuYoWAC1k7H//NExBAS0V6sAMnYlJ/+6Nx3Hsq8feOZXdlGpNBKAMUBYFC5k5jOTCs5q/1pliwwXBHPzlCcqsYTFc/QxUaLjeJljl///6lk1e0BYyGKmyERjLGneA3cL7pc0STLKtbZ//NExBcSeVqsAMNYlPnT9Rm9DMXjUaMIVi6Ceke7VZZcvVFlnun/Oj880hHcnK+Oyj3TZSXRlEVSZIN///+fNsaw4EFsnaYwkvR0tVAlmS3vyzh97fZyjfn+J9SoPnER//NExCAR2Vq0AMLSlLSENQISbJb+lBJpjLrFiNGIQoQFjbGrWiROVCpYLikgUWDxj///tTW5XWQcgMOQWFn3PqJuqMUdWx+Rbyr4P8H+avaf+eDF8h9c8UiDNwFDjdst//NExCsSUV6wAMrSlMETP6s7k3IREbQqJW4tQ5yaILDZHRoULI4DWf//5dXLFpQLzg+SAB4mCsuiUE2e1fmBatRTzmda5toPvRJSdEFNkhPgf+aPp2rs2N5w4nUhvi4X//NExDQReVasAMtYlFIE3zm5Y6n0JFuHryS///8aLq+hlpgg/bADeh3ofSrT5lVJa7I3HpUNt/Us7bUw7/ZaLjUP0jtAsNVSi+UzwuEp7gIKdEtGv/XaZ8Epw4GgVBRH//NExEESqVKkAMLMlP//ou+3//6IpHWMpjmI2c1KHYt8QDqCpCjIVH7B9b69tcs7dS8tH0MoiHRUJCAeMdAoKvSKkZYj86FV03CVZ3lTpbrO/3/6v/+o8IajwiUFCzvD//NExEkRIMKEAMsKTCBhWgY0VAww8ORrZYFgMvDCe0uXf1+//+f/37Ud+oiUBWZRFlxZgPAEFbZbZKjg7+s7o/+9H3//pqWAUqggqppjvJPr01rH6aboomPNEGdKrr7a//NExFcPYMZQAVsoACipSl1u3/3UybJI/9kDx9SlMVnywv/7rTGHSHuxJlpuModwXIFsAvATYkoRQJBv/z5gS5kieUgbpzQYYYcNwJvBfC0DHNyEUh+2//nDxdSNC+Je//NExGwhayqUAY9oAFMcBQTPGb5qS4XcZY9h/AuBwGQjAeCaPYeyG4PsgfkBTGMds/////j//f//////////3////+/1/vutiLLMLTKrZ7FV5PQxpwGvALE9S0iSUBwT//NExDkZuxq8AcEwAQ4ak3QHJzYE3yUd6L/aPJEjInFGJUJr3JIkWYuaMSO2aVaBI+Dns4youzcTUzGR/lay5MRyyox/sQNWR//9Uux5b/2Rbs4UgNWAp2OGCUQVSDMo//NExCURKYrAAAhElasCbNSgxwKKv2tnuIqrHGyaap+vwG6nhMPxi/b3//USNJlAAilHtCyRaKKMVCYWExEYNoEa8IoCgUN8pmrAyXPzifm5E8EOHtwEF3KsAS2PExUR//NExDMQyPaoADJGcBsDPAoIWJkv+tQ9lzfX6clV+GRHJgsfbJQsPpn0ZJWIIUjm1MJpqg7BcFCq1IXcf8kZQK1v1HFodpFt2WTZ7sVAgsaOCBQ1LihQMgIUUGXuYpJ1//NExEIRwO6sAMPEcM3d///o7UC1fUPKxRBJmXogR9eA6GKsDYrEEoZ1jS1WkCIcRFQtOf9MWWw3Y1YbFfsJS+efCKrijaoFGB8OmsJJ7U6gDkk0OP38ynpdc78RKNBw//NExE4RWUasAMYGcTBEKENlKVyroOKgMqJstJwkisPkMAiFACYH4xgN3D+LCcM1GJdYvJXoslq612P/NVRtiZnVVXv9UqtAZ8FTEtzVFFiFUIvHTDzkU1UIHRDLMMJi//NExFsSGWKYAMQGldk1kHFdyLP9XhNJcL/A0TQwIMvi/L/TE9GaKt0NVndgGyRpjQVLAbcVOwoGhgdgyMfJKjZpNlI0CQsyH8hZEIFUBTmACUfW1jOU1bqO06fxWVXC//NExGURCIZgAM4wSLyvew/8zKPE3zq7X1wVbS8o+1eEAomZS/65LR/zH2MGsd/s9nRVNnOZsEIC7aSblR9x7JAKMfajX6ugUGJo0IAcKQFIbAjUw7gG/oUOckVS5DGi//NExHMRSH5IAM4eSOLte1LmJOW7hZqDo9fXtUl37V5sj60zeGFisMLkMn6eIRCpEx/K8pUiIlLYMGUqPJwM2bGGB1Qd20LSWIPW1x3F6GRrHqMRTQXV6OpRfIuVch21//NExIAQsHZAANFMSNlQM4a6VSo8MNhCwN4mNS2VXv/t0/guBj3S6HAeedWN+nWItesNbRqo1yxCKSzhIcYAzmREQhrFTWgDk+Q9apA6q7aj+7RbRTnDkzYpMXCw4Hkc//NExJAQ2G48ANpGKGJbqz0GiYCKNKhMhW1KzBZ9j2KfPg+YOHhZbDpxxUCC48rQRWDQdTJKOJRFlM6kEwp9VmiLahWeRCbXOgnFTCobFJwWB5T6MQl58PuWYFBFP+NP//NExJ8QKNZAAMDGcMICiwHi4CyRMdIXUht3jvLhoeCxgUcMKBdP5fqRNwtfAPcRQOwGIPyuh4XwGYFKE4KTE5//4uAmzc+aOLI/9+/JkrEwamA01uX///v+Xz5cIAMw//NExLESiCo4AVsYAEcThcIAXRmyQ/////1oG5NkHIITjEHLBOGR0/Ve7rjBJQOSNhoM7HF1rxFBDeL5aU3pjFEQPVrkrTjZFkBQOIma1EzqEnHA8AzHANEAZevoK6ZW//NExLkgWypsAZiQADfv471lL00Pml+3QMRe5wqQMdENLXtr+byZ9b6znO8XrBkcZ389f6Wt/rX+/X/5////zFr75lyBQiCoiSBkKoFFqawXAjQbBATRE/az+pKHX9Wo//NExIohegKoAZl4AD/1BKqwO2tZZaHU2YLfM/bFnKDJA5BRaaUUGhMtlpQZoV8pqPnARc9teipVqscNBQVJPcK5RZaOMleh92RtepHYZzUfhisufxgjyvulW8sEtjca//NExFchMXqYAdrAALUkV3eh3lmHKO3V5uV3rsFzVy+6sTicsl8bhrPCcv+RU3/69MHCxNEaRYLLNkqvfFIg3mwOFIW2xwBUlEh+GKRFO8qwb50wsVtYgMBdWaHAurcI//NExCUbgXagAM4YlATJqiExe0OCjkwn/RNWttjcPW3jiWcQt3CovgKh3y8mXThwRhzFVjBbXDM9cO3fpajh1AeE5DM1MJ3E+X11cdcS//9Wl6cqhxi5ol8LtniRkVmh//NExAoUGWqoAMPQlUQ03MdSpGoVAg0ZhBzKkHISa5MCxWL4hNVtwiEvFhVBUkucniitNG9cXhD3KOPGGmFh6YWC0TDTnhrQWtFr9o2tlY5WOHTVl8VBTxHoxM1T02JW//NExAwSIQKUAMvScWmrRsjASzarzShkrEOcWodKfFfJqxl/VGCfR1MS5zZAYNOZqSH7HclTE7g3O3IFbkVts0kXG8//2TRPG7W27ZYuhhGVEVi8ShS5z4iEqiS/jmTb//NExBYR8QKUAVpgAFt2JRC1+uAwGhf99IaioUmhyrfpm2q/Vyu37M51tnOpfFt2aOrH5UiU8Gfvc3////+hRRI/hbQzUQ8MXA6gsAMWoOlCDjtzYYGHlQGOomYR2oUI//NExCEZaXqkAZh4AHmUPxIkpZzWVkPZL2RQQh4AgCaP4l70fsniQ2ePuBJFgwolL4lfzw49P2Vnfw/8Yzv7pSA8mxSBJeBAf/znS//+BHeguhXxpiQjAE8BhtqqMocz//NExA4VmW7AAY94ABFOX4nRbx+DAFgSKdUJol+O85jgT64OdQ3Zx4LcImivOOLCtqtYepabj4tT2tvfxCleahVpDj53TXza196raFDefdNQNA56fTU5hyEDEJOAIp6y//NExAoUSVrEAY94AJbTeVCALgvKoXUuZ2NR+NiejF9MYxCFookT7BIjvZbGCTd5bWr/G84ta+MZ3u8u5a/wqYjbpeu6b3b7jX3WSDqFwqRCLvV0qrBRHOB1PJXH0uGk//NExAsRORq0Ac9oAfiKwGuVbMoxmrgsSjNQqFa4oMZbkCcCKGQJUTziRqzKdaSe1lVutlPZS2dNS0lspEwux3bAOQBGxte8SIc4qHVrlbmsIkUBRRGR/mmyMGWdJc4w//NExBkRgUqsAMPGlIOnSxQQ+FoJQow0p0VGcdS1397xuv//3zUvUvZy2cpEFYpPpqmABQKCQwPK67hYitCgpFGWAYQrc7iHOTFB7yAIW0El0iDGUXpkiRcEyt1RFlmq//NExCYQ6UKcAM4EcFkNTGsOvVrJ0tW9b0tqzQTghSMjlUKwMAgVIiVoQnEHdighbAnGODrPHA1cQktGaC4CDMQVzg+RIg3jnAHoIoD6EHFJUTCinsOLG9t//69f///v//NExDUQ+UqQAMvElJe1uyUFRVyzORywqsu11YwMaCVBhRHGEDgVhiA6oQQIEgNUBryvFAiUi2B3iqDUAl0gR6GtzfMGXf7P+gVRpD7E/////2pYPeELYffewZUqXYYE//NExEQQCG6MAM4eKEArwYvIGJDAgHMAIihM4VVQToUtEnMENJEkAI5EFeRrBSJFpPo8z/++sTkyw+RiUKBSzVR///o8qAXiVpaHQOLtMZt6qmzEgEPIBUIBwC5QcgQE//NExFYR0HaEANZeSIcUMGIEg4KRAphFS3hAQDkDFoWLgrRLD+OYiTCBaPnz6b3va1v/te//cjV/RTDhv6////+YGdp5nx9SqnxQwAaqtJq5zCAcs6uIMqBpI2sFxxYZ//NExGESUUqIANSElB3SWaQAAn6OaU6iy7vNfhimilWj3W4yxJOtMIDFhhzmkS5db3kSI1T7KP////3KhKLgPjAIIA2LdBRMtynGkUAthSobqIlJHlELWMiJqPwJGSDV//NExGoRgIKQAM5wSHMVY7L4DziLjuKVuhpYpc1nhE7ITs+GE9n///++xVWpWCtTURQUM4mQKE2YRnFswoGYyiljXgsoFkhswXvAfgxoNohCwcwVqRxGE4bF41RV/ev1//NExHcQiHaQAM4wSCNTfTZnop2cWQjHz3FsjK8G8+ittPqBc3hbsBqdJGhxjPgq4NCPEVAXnFzBaQOEJMIIALkBjIgOH6idCIkBIIUi+pJn9bW/y7Il6fkKKFgktVrZ//NExIcR8V6YAMyElFgbYtnTY9WvEzOfGv2kG2g9kBGgDH1DilmMNGHkzANqFEDJgPIyuGtAOUYxDGIcRCaup9VJdH6HLr9+cvH6mCLYsHVZhQ7CyUIFXp69ZX5ZkYq4//NExJIRYVacAMyElR1JsJgGspdcFVqpAUJQ9yXBxodYNT4ZQgwFlIh5BANQDOlgY9iGERmB+vRpm1be+cr4j3ztnje283xfdTMuBPchSASxhOIVxEVNN////T0KdZSB//NExJ8RoV6UAMzGlbDWFxDBSk0lGEgswlBDBlqBgjEBmIwUPCooHAZhImJDrRzGkE4jfjNngMmLlhUBdyt7lu3GrUvqZX7Na7jq7X1dr53rNurS2+85V7ur3LPuOH56//NExKsVGXKMANUMlDg3KDE5zxKU0Czi4akgaYPBocJjVRkwoLhwxqt//////9ne70LzyIjm6mTgQeOSlTCAExGTMQCxCNmHA3DFR0wgRMJDTHgFOAFCqIhjCmmsDGDs//NExKkf0nJ4AN5OuEwMwGemWQhepszdiTOGxxJ+6am1W1VpKWWW90fbW6vCrHQNKO5nI7cppxXj2JIESscjifJ1kJVCDcT5ZEwu10UC2Qj1nO//9vcEQyRIR9UwYHC7//NExHwdyZZ0AN5SlKAPyMfQRG2JLGjGJhACYGTmEgQwcgYNCoCDgkUAAjxd826CQDckeUgmbMEfZU65Ztczf45UtLWtdzwlWXbV29vXktrsEWWypv17mIJRi2hS1hDC//NExFceYZZoAN4SlBeoowTLSWNq+xLlWzHYrSUZo7N7/t/1PabBo8ImC5VDk9alMTgow8kDw4qLC3M9HUhDKaSGzjNCUCgl433a2ZQxwAaEKAWkG7JztinRKKP7c0Df//NExDAZqYpYAOPGlPmPf2tvetZvzFGpvaX1eKgEfSICCjTVQTUzAgJYUMmPiicKmRMBbOyW//ir2KCpgs5CxLLNZ1IAmRtMEbWXJ9AEAZsqsBQAwEEMBQEVH1iL83qz//NExBwQUHJMAN4YSOywwHRJBqDUmmJ7jVZ2Cp4sDQNByWBoGgVBX/PfEQNf///656VqChgLIHGxflzZJFoUJIFVbkTHyrzqsZCUBFHkm5tnsw4FGhpcY4iL1HjaGI0m//NExC0REKnwAMJGTJLc3GamJ9VHUxbeKMzDmui+/MzFLrfmKghYLElpOC6JhjV90ZKFLAYuUD8+vRAACJIeSGLQOn3PNocOShxtDBr0WqZqtXtUr2Nd5vvQ/RMaae9D//NExDsPyJXwAHmGTLzemjRVReDku8prAUFRx9JWFjOOgGGoKKLiyIIMGy44SEAFhgZBYYcJKjHKo9XZ6NkYqhhhgxVFgxrkI2UKirkGXWYCiotuixKRTKDUtAai+rTo//NExE4RQInwAMGGTIPLQdsPrNEykAPEUScGbLquUahnWDVlRw+yiCPxYlh+dALFOJCdKDCCxxS6lxcIXmutCX7t9L5DZ6Lu2XX/HCotCpQtiE/I4XOSpUWRJuFOzYWp//NExFwR+N3wAMGEcEebADMo60GdIGEAIIDxEJiyz9hmuxbH3reqqNttYqyuv/6aehCUUIShJtBnIvStal11FhFAkFCeMwpYRFg03eyAmIODcGqQVNkg7WMQROhpQFAR//NExGcRWJH0AMJGTDUeQIkiW6bJB0k2tLWjwO11aWnYukUADJBga7BnYMQ2sYJiTIwm25PLFkII+MM2T9RK5ixX4kJTtsOuSmACA4tgARQm4sxAAwGfGn4IOcoHzAnH//NExHQS6F34AHpGKBxA0LoFJBxd62i7HimbHX6mc2Keo5FIvF8x/9aRzGpuFz0aT0iHKehSXBFHmo5Jrn0KoOohhUDMZEzN2jEfMBgPuEp2DRsRAqdKgqkKJFPTmNlX//NExHsSQIH4AHpGSO+OSFUQVcoO+KRQxQE7H/3uPVtoUTCyDIZxSEqETONt3aO19pcPcw3Q1hZEfB8kFRhiAo5VpJ2NzQMnIGGCi5ey6lI8IEEfF85sKR8mGMUy0EBw//NExIURgKXsAGGGTJENexeYtC3IIHJVYdiPKHvTokxan8jxt0KS7p2oxxsEEQNPunhGMy2nuIowZI6LLdYp3SrSJaEqM97SneUHDLpBhlPl7SpWxUvkjSVR7sDpNsqq//NExJIhqxXsAMJQub9jaXzjvazqX0kWlNghPBYnPBZGSwKhlQ1hEimFSaKx0EWGipLeahUFT1WSopdaGF4tG8lYmMGUlCiWcmDCoBCvvQEgx+oC4UjjbU1jUoYCK2Zq//NExF4fyw3sAMJGuSWBmvYKUq1VZSDOexqpQ9SZu7F7e1JVLWMfqXY3C7AIxSoAtCXDDJwdacPc2CzKkuiHrDumZGtrgX16IihIkw+NY04sswPGviot/+v+oXyoqLNi//NExDEQQJl0AHvMTMLslRUWFosLitYqLf//6xRMQU1FMy4xMDCqqqqqqqqqqqqqqqqqqqqqqqqqqqqqqqqqqqqqqqqqqqqqqqqqqqqqqqqqqqqqqqqqqqqqqqqqqqqq//NExAAQ8xn4AUIQAAAAIxzgZzt/Ic7/UhCEIQn//kIRj/5P//9CEIRjv+5Cf//////6EIQjf//qchCEIQhBAGBgYGBgYGBgYAAAAAAAAAIZlsNmuo4sFAfSFja3G3mj//NExA8VSyY4AZsQANSWMsI1T54vYM6iSnpmcrHId/kamQp1/SdGqruT/P73RHp/6HVborJTIsn/+qMdheeciGsYsWifon/yHdGe1+5CvLU6GcGqSC2exf+3//////////NExAwUoyqsAYU4AP//tMPm//G5Ow4QcfGg+MiWJihpX/9CFGPHyZY9yBx4wXEsIR8RxMAgmHf/+eeQMZyDOYx6NikRA8HY0BcD8WiWE4SA7EpqJf/////////////n//NExAwUowrIAcEoAbO1XsyqUxrIYqFYe6mcTKUOFYSGOOHnUXRiB8hyDWj5yoKCwwCnEpXE3ExdxYXFFMznIHUjDKdhjMIiSCDuczDCshBhBh+6h89n/ymXl/83ucvu//NExAwVCvbEAAhMub6Ny/5////3fe7+u8Mgp7bc/a2KdnZMzA5kCT7JHCnNKvkX1F5yjlkTX2pmxyhsWPKzK06Ncmqnanh2vMpk9pml4vKnOt9h+FW4gOLhRhNuCNpi//NExAoS0mLAAEhGuP3//+a5flcSK1yM/kYmhG+f/7Zlcj1ZqpHH2PuvsKXoVGOxjDanfL2CqUY9cVKJ5+dgMSbGlsqgiJbxzyyk6Bz6lb3Bg5l4w1xQqFEBm7bgyCFM//NExBEVyWKwAMMSlNTerJx3XMtO4vg2pY3mnLQ27SRXF4IawHZEm6lWT+ixjU5MqCNFSNa3Ct/hnuWUXbidPzlFrgwSVd+7DhEt7gGg0MeVh7WqvZyw6k4cmyV10aZZ//NExAwR0WK0AMtSlAcRsU7U6oikhRK2nSzKfLM1x+rMAdqRsJ4OjsHN56XSM+gRlKz/sz9cf/d7Oy501+O70n9f//+icX9yqtcjYnNJ64iPTjhpVYffkVmm512jcaif//NExBcSeVq0AMvSlMPXgTfscXwLf79CYMz8u4Vz1vQv0QGtmvBQBCaYrRStL+0Uqz1GvRLGiBrU2nhn///rM8azcToCh2CgQk2+mjj4WNR7eOLFGmerNMq1lLKbTB1D//NExCASiVa0AMtSlEEipAFgU0hORuogNyIBL1zbpgOlO0OQQNemc8vNGzaYqiucaB93///W9SrlcgEADxibDNxWCzNoaVxukh9vV2+268OvxF8N9vDBP6a7ZWzYmWWM//NExCgSoVq0AMPSlB+FiYgE6xBPIGbUFL436QX6XZm3vvJo0noyrLCslkf///Fa1VUWK15c2FAZdegTCpqr9WekWthdvrY3QNeT9aF8XDQ9HxvFhJG8TgSXLIihhCwg//NExDASSV64AMrSlDWrrbUtmosozL5LzjNJlhGofaYSCLP///XV7jkRu1iRVtiKQ8Si2q3GufTxa/HZn5vHN6fTZvvXQj5IOJinD0GyQaYU51EsVRMRLrN1m61uDlkT//NExDkSSV60AMMYlN/W/3eceRNOooo6kzX///Uq5WTQGmoJBJKFsMCtDk0IjBgXeH4h+wt7Xplbe7vMPZs5rMJ1jRqmJ4OAeD4iQLH4kmqHV0cfT7Lay7DkGUyfdQ8R//NExEISmWawAMsYlZ806d0feh8zdc5gq4ZNBAm2HRQB0XAynYka3Q4ySjzF/dy3O0yaZcft0EVjQnECbAdBE2MUNc849TmrV6a9SFlR+OdDPo6t2OUmwITdQGAhf/////NExEoSqV6sAMLYlFr6UzheUlMAzyoEsU0a4OEg+y93RKsB83elymMrOiL/h6hdpFQoDYJRa0YY9NO3Mq4qOJUkVjuVYajWOMJk8dQmA1///oKlR1V/qUHCsnaUHtQ+//NExFIRyWagAMIQlEqrZm4QzYjknrmm09da5v0zlQOysO5O2qk3/kcdalUdYCbEix4FABEIOrf//0FJxzPU5H/9MhSqclEIzBE+hGWeo7DTLXQXWNOOtXhWIITctkJO//NExF0QSUqcAMiGlHe6n/Zu47xR4NzyR8j3ua/+O55vMJPF3thxYSuWSXBlx2xXb/2uKwbEgDEtNJBA9+3q8xY8kVqOUhwzJ8CO84wHnNgUiPfFOKmdCD91/oB2JeB+//NExG4UYV6UAMiQlLcnY2+f9qkfrch1g+CVBAVDWHNtXE0dlic4akRIOyUWyICwgPDRAGEGYsOK5hAZPz////+msx1Q9T1TeeqJXPYgUHUfzen3k7y8mfNKjhXUfMT2//NExG8aumaUAMoUuQ8gtB2mAF4dyWKEdY1h4hCh0Qx8ZjqvN61eMqGQABhA7jHiVPU2ZYThsXLuIooFYTHDEqJRZxJKmmSl23///T1/oecVZTDSpCUKh84BHHjxkd6t//NExFcXeiaYAMlUmCWU4kZeqxaZgIKaShI0NweURqp4QRD/ZqTeJ0FKNJRq7y+j2erHFAkB1NRKt9lScQNJEShVQkHjiA8Ng8SjSY8arb//////3NPWp5Y4BQ4kqw0C//NExEwU2iqgAMlOmKe/o3bKSKV1uUptSkCosAHy4UKzS4zCc1d8G92rTR1JX/O6ZRYMAIoW+Mz7uf/53Mg0LLmkuFJgRRpApa1wKv///xYcdoXliiXf9dyVbFq1Bog5//NExEsRqV6kAMCMlBIdnxiwNAg0iUh+JN5hW7RJ1T4Uf3hlS++hbs7sB2VSh9zJ7sP/9rWInkaJkvZoPLsCUgUMqcf/0//cKjV0XpFNCP+q1dXmYoSHn8FUSISXInJN//NExFcSSVakAMjSlNNI7Grdsc8NU1ffDzKRH7uWMQYaKHBAESB3v7Ofn//uL2KyzKJBF6kgYAUmeG6JFViP//+0tCP3lL2f+7Squ1k/Q1aZKpIthYhlEacswdrk5/1v//NExGASiVaoAMoSlPx/7n7q/fz5/dqpMJGXpgYofJd6UNWYZYn86TTCqJNMzVqpLPJHhpWCcDf//+cmF/6v/aoRQ5xdSVDc6tdIAk4dRMoAh4nMOBkkwsBpfiQxWEgS//NExGgSQVKsAVlIAHIpLJRGpVRT1a5/2KecYTZ7Zq5f34wMmbtA7xYzGGVXkpjWVy9HI1Wi0N5XM7GGFbm79NKn2XND1SXSqrNTVixvXaSrYs6/DGVTMVqWbOFXu//W//NExHIhqep4AZvAAL//uXN//9+zSoBpBFfzN/nS0KVfVWfjwMYGhyFKkfC9oWbzyEpOiznK9WrE3u0jdWWHPlCtj27N+82JBOOpHnATqEE++/NiUdKSUwPhOEo0ZOP2//NExD4g2sqgAZpYAfe98kwnjsdqrmg7CIblprb79/3JOtIhM0nPmBUmnEMhr/977/q5lN7UHs5OKy61TjXUg1399///8vl0LAfq78r4QDgSSOq1SBcUZiOtdgpC/DH8//NExA0VWVakAdpgAJ7bJbFWk/VNe/dTD9U/eMvyz81p045VMXy2ShrDAbB8FB5iHGfOHZfa2F6fuyuSOrnawQJOKVFqZ2e13v1HVnbv+1gQ/TUv/TXu27Gz4N5NCjcx//NExAoUqU6kANNYlOCjd9O5q3aDeO4/UX9R/JZpNQ11E5FBw/Fh0JMG2UjIdh8qlMI/SFv9pljld+EFXY6b5p88OgmDtBXHJbPu///13R/7f/saz0K9WYSAOruxoQBT//NExAoUihakANQUmMBBjssGQrs2vo9RL1ExrLdY/8kGrashXihBgOWAgjjlAVFll95mCp0IFQiAq2EcP8RlQgBSxOVBOgXnf//////fXlP9f/o+5FXLb1GEgP1NjAoz//NExAoUEV6sANPYlEXgSIhU2NE6Sbtfsds2b/8z+jBvtjj8RP8uGKo5ZuMAOGaAOFssGs3HtzmzakrBd+MvTRmZQr5QUI9OF/Ys////2W///3rVw/pjrRbKhig09KgV//NExAwSOUq4AMMSlADZxtpbr+kH3vOLS3b8jdmj9KJKrDg5hSDWWWQbgGPmw9OsNVBNCu2ZyFtba0thKXvzkhcgTaAhoz///9LemjlUluqsNNW2QGECP0EFxJEQwZEU//NExBYR4UrAAMMMleCQqpAgadnWGBMXMFQ9L4jnaleIAfFt49bo2pQUkso0qCZGAw+9Zv/k7v/duo+lRLF6xygkSTYrslvXXumZYztvWQBmpo0B1qmivVKgX3igTyTR//NExCESCWbEAMPMlGqlKpTLNVDFUnVL4MGPNvW9Kt8d+VwDgYgT3P3jM3Pn8949F2+W5lWmRPzUuO91Ibs6LH8+OQfyeEgEdTAmjSn0UqoaFNhpqBdHqdxpIYm29Uu5//NExCsSkV7EAHvMleK+jwJPnOFKeYLaa1E8SUNTIZ4abe/99dt3ldlxry8V1cOGGvmlk7FVQ4J6EOudZJbD1nif6poWxCp0HOqDKjnWOFlIQdRz0pEZsbzfd43acmoc//NExDMSMW7AAHvMldLKWKcgSP/wv3Xf/GbZisty1LK6bmnGYLDJRBKiF5pWFA/eUQb6qHTmU1npbZlw/7ZPhCrL8Sp2xG5CNv0BdLXl3nXkdlcvmHsEKjDbXi4Ivv67//NExD0RcW64AMPQlODtt2kmsYLupfpTDl+aiUODo8qP9dG9O1JaMmXeDKmTDNJGkli1rLo0ysk8QsDKBxFNVimdbXjGqlT6khlKUpLMAt6ywhWtwCEpUV////4S0qzx//NExEoR+RKsAMPScIUuPScFQOWPM5EQZXTGjxJiJ+6auZMqoaO3ub8MkJlAKbAevszSU6vYUjN/C+EXCF6EId0lTFX//9CntfZV//oqmbgWiV/DriufDKwcHPoioJVB//NExFUQkQ6oAMGMcCLQVT0kumPD33alDx9aeQQwghh6blhaN3u4LLPJg+MLkD5LSKuOFIJk0////16at3B3B1OkATH6riKETRdtzMpUoaCY34a45O5s9+s/h3+PzKWN//NExGUQIPasAMpMcHF154c1IkjQGRSHiVUUNSAvrCe+fpZ1Ioyl/cKkxSzFqvtWXtriF3//9H2K///uTVXGoS5FAk8QJLj8YOSxj5I/X5H0112lvVpyud5U+8Nk/iR8//NExHcVGW6sAMsSlMWuERHbC6M68I4yKcHHhjKuKxouM8QidkOiekTXZtbV2u+38/bnXarkmVGIrhisTl7///uJKeR9zP//vQq/GBDEGpEaJHTePQSxlnvQaIE0Owym//NExHUXmW6oAMvelM3Fy4zblT1DGuzcg1EJPlKIGylEu+VYdcKQStg1E7AshOp8CoMqYsCWTjTAJgr2Q9GXT9lq/ULaxxaxLSRcPFDCom3F4zrLBDixAaPr///FhYRM//NExGkbiWqcANYelOu1X//11a8ZEiid1kZsglAqswF9aGi8LP0GD/bYCxZU6p6+40a3GGpo0qujUV1rvZX5kui7jpTgM4hy7DDB7BHBFSUnGQpRJwvTPJLq0XUrLEg3//NExE0ZwVqcAMvelN61q09J5ZE65UUTnAFSv//+ZBRq9eqa///poJYZFoKpHTwwFW0LuGqM4IyUJHYVssJdljlzK19a/qVufzT2TWuutKjoyXGgAwHgZhSOLK3BxLLT//NExDkS+VaUAVlgANDFb5mZ2s72TM16egXOtLvc79Qy8YWXjI4LhQYQMoENYPMWJAwMYDBQ6UIXJltrT8Q2XTR2wugDkBIFHz6WioLQFoKIASBCjkEFHAHNWZl4cg7Q//NExEAg4yJoAZpoAQ0BeAL8vMmbs9TvushCeFAcA5DSou0bPrZUeaayUPTv+r/m5ofLhoS6bv/f///oaCFOv/Vf//+XzdjdRgeNx6EoxKI6dqGXIhlrADQoIzB/UVAM//NExA8VaQ6kAZlIAGXal/BYl4oRivdVP1i46XCiIsQiIjJwkjFY0nCwaDKtUAeZgxS25779/zRQwsmdjgDmxHEbU0HQJqKt/7v326SpBbOo5Z9drRJhxHmdcIobFWfk//NExAwUUVqwAdh4AOJnRCADNkTVERKKs92VVt87kP9jis6/JyNlO/Nw6LJlg7a+8sXyRfZo03ofeEwx+8iff974vvGP6Ug29HkSWTSWkP//+lW9mzAiwxfArExlCF1K//NExA0VcVq0AM4WlN2E0nveoCje+o8FFmwiKeyKKVmAuvVVtafBquI3caTL67693Ke7rb6bTZsd2lxwghPmxST69qDGOZf7XqlpugqgsagyA////mH65IQW7eeJQPKS//NExAoTgWa0AMPWlQ8DCJiWXzvhqBRaU5WSpgamWwakVtHq1kNpoUwmyaw4z5RM+WGmLOe4z3HraPK6IYr20aK36Sd8e22nV32WVJZokxEP1VJRF8602oNntPvcwIVS//NExA8RaW64AMSOlMyCcDuRHyHYWPogKjISm50MalYxBqKaxESQVPzpOZrtjryryp0dCRlEvKUEz7ZPGzKKXj+pBEr8XeK46OcKAb20gMpKFSXlmCU0Cdm08fjyrtR9//NExBwSiWq0AM4QlLFnNo3Sd9EaIVtjNn7vfqS387X52uEuS7kusgmpD3x9YYuLrlvD2BcYxAruWOXV/hCEXF1MhveKryu8mmziVJUBJVCW8QlCTnLsoi+D5P0fYWkf//NExCQSiVK0AMPMlSPsJFqE4Pr6veFWJm2818b7z7kZT0orxUrBTYp876XijnVSosLTKr0qQpJlNjGlN46AcVy17hlXhTsYMbxGWA5CpRpskuLeM8OUwRpkoHl2GLNC//NExCwR4VqsAMPGlY1fnG8Z1rOqxmut1kZVGUKTBh1Cl/ykvROCHxqXRg2+hqAVkl6liAQ6DQQAEmINgYyFBoqvonstZu6gStyWhEJKuDkbV2oqxd5aOZluKPMnLu1m//NExDcR0PaIANYEcDGswQhxIgOFARGHe1TyT2LqlQAFj4L0MNDYoUAiJhQgciXLvSELxNgDlOEoa5jwuAsE5Lhg5KgLi0FO3aKzsq7a78zWqrVbcXU0KmiEPJBSZ4l9//NExEISoPJsAN4QcG63////+2WhygKEwSdDnIvMngE2G3jFwoMDHoHGJRULAduYkLngL3QUm02ydykbpclmtWdw3nijPSW2+j+uplgIKsS2jq1Pt/31dny/+7/t/6Iz//NExEoSMOZcAVwQAEEqMOElMGYCMzVEMnSVNSEZMTRnMHABMeQIKgNGDALiEEgUA7ADA0CFRM/hkCQkCwFCSQ/xNvsjKg45Bz84xF6W6MfFzWHbjIu5vGjXiFlpROO7//NExFQhUnpMAZ1AAepmWrrKqWbuKgYn1pmt/zPGy8VrxpxNSrURUTGw5Gnm7M30aAqDv5XWEL8Y9T35ZYcqYSqgFUS7IzmSGXcIYdgzy3Zks/Qw/DsCO1EkC4AIKByN//NExCEXsWKcAZlAABe0HB0OgQtb3qXeBQyskQhn/d1XSwOnlur/j3/T7Gl1UdG4s2jdIOVJJMDAHLNDqxZOmvJsCMQMZLJPPDROfVcp0JIPCohmnrlB0pW2m6nNci0I//NExBUSAH6cAdkwAOOzK4KaBQMqVwzSBJyipNRGIuHWBMaRJExZosZSnWJXEGxOxjvvu//59VyYrjS5139zqYDVmMfqA1yfM/KDgCKQDzoQITVYKK3SRiRMhdjfnDOG//NExCAXoVKUANPGlBoaW4RA40NFvOtk3G9dfXtbN8X1uAkAAAPrE4X+f1+5/YodyYQdk4xpsl9Pb7XtOO+OrYadcaFulSzSmEAmqsoiXLJxLoouoQ2UWsVbLHV1+ew1//NExBQWKXqoAMrElIcZwVGcB+H4yQBp5OqT9dcs2u4qHZQqM9P//7NICOWt7nJQI5EuD4PwQWhZ/lFh8mXeCAgBBylHCjlXIAbw+Xf9zV7gxZmCShukQeTICXHi8l/f//NExA4UAxK4AGhGuZqQjCif////////////9rLZnMl6gNihWZkUJ26cc/U0I1aenDXSn0OL3ePephROyuCxERCD13p0EDMAsJxlMKPBpMYyhbRF2//+X/////////////NExBEW4xq0AChSvf//v5m+v4xra9sRSlBpj9i4TkgQxroJnHOqDfLKEGxaYaakQKtqJEqJRZ88m17WU8HoTiFGuhTJmSJFN6+oCBGoXXSssjyhc+rKdX/IVF/Wv7X8//NExAgQ0xbEAAhEuR3X/////+vX03d53IIe7owW6HLhjMUK11hnWzLDKo0oOjqyI7I5Gu9gbMzOUvR1mmsDIwVg1xLqpBTEldRDvCPljftzgxmC0Ex/9hZTkDuLgAAC//NExBcQ0IK4AHsGSBwAZyADCwyCrjNSwld7E7uLT/1cYVUHTu9TysSgqLrOyx5kNKxFbVnVUYlklddwAFyg0nUeL6vzJFMzMCV9Xb46XG5b0bKYZFXfE/eMJKzQcq4c//NExCYRwVK0AMvGlHHz/e3zvXzktztR1SsxU6ZMPLVNd44UDcKwZU7///3/6eYzZrqpwRBLQeih9TAkxDCc2Bp8yvxzmNKTMMZRMAMAF9dtCOqHG2XXz/9f51/jde2Q//NExDIQ+VKwAMvKlcaMcyFLFwKxF1R4cAxkDpVTdHbnQRaZmwIHBKhpuJjgA023gbAsG/kPO85ULUBrwEzNNV0UwRGIDOda5En6/umDMvYzCrqv6qXGYyBrGUMK1Wk2//NExEESeUKAAM4Gcc60BQUcqNBWNwSGm5gAamVI6HBJuQWCLwqAI8BgOVWHcTI1vAsan5yXi0kOn4p6GvT3f/ZHdPmzlEsQwZ3VSo3qAjEOkV+tMSg0mJhgMFmHp4RJ//NExEoPcUZYAOMEcHVIKeIaZLmENLD4L5b0dZGU7IBRsMi4fF2MVrRaTKoA7gKLmgs4TTgULX+jdN6+z/u/jqE1RkJhZ039w4hsbmwvDDlPvmM6IcRQjCxqbub37cn///NExF8P8GpIAOPMKKLc090jvzvNLNr7htEAshI9bQ9Ibt2zK0aQIH2BZIQo/V13r//T/Wo3lwayltBaSz2jgqNS7la1jzWsq3N2f7jS44tqUpLptV5bVzNS3k70vvYG//NExHIRmVpMAMjMlDQM9RoRWlgaFA4wNJ7mUEzW5N1FZrpRlhv1Utp9SutT2bgrvDbrz/2nw4zp0v+zL35TU4yBxjzEwAaACK8tLhoJWJ4No7A2vkw0PGZuJ2JSJKMO//NExH4SgR5AAVoYADs/YzepAZ2G8eBEX/dTIah4GQ2nRwDADR/0KfsgQC8mTx7lY6nV//rTWndBkEGNCRJw7x8TLhMKIthhB4hd///atN07J9DlpodQIZYN7j2LiaRg//NExIch+yqIAZhoAFmWwh8DaRmHqYqCGDGoyJeGAXAroZcGnQFgiYLAkxGnOSxNMdnj0uG40VdKkvaGhhgN4uQupDx6DfbGBxXR0MkY552xvhQJpHCPVD486+q5bsF+//NExFIh+iKgAdp4ANj1/l5nWqeA8mhPGPcO8fUee2te/zWuv///////v///51///6f7nFHlaEDWDBcS3dot/ufFlMe0Z+4xDMUQGprT7Gi20hg5nwiTNMQAABbcjJB5//NExB0ZSWakAM4YlM7XSxs0AwJ/pWMlBXm2aKOORGpeu7O5OXFdQB+5QSXaqibEdkhUcDEPl5212MLnm1Vv2tDh+p2Px7GV2rYiewSu///54196jFXGaZ6aEkMwQOMW//NExAoUsWasAMvWlGshPEso1AYtjN6BxBlTH+JtG0LOlYJfwfsET8HAjowupYaUrXsDl5IPyxOystrDy2gePOVZ810euG/DrTONzReHHeUj3////6WGKcRDjZR2CF9A//NExAoUWWKcANPMlHExYCCBQgQBBZ02TRx/lKF8SZuC9JKQQqzJE8BYiuFhegFoMVkhzZ1beZH0+LW9XrPOFmpQtzFgqP7O1b63/Gc1Tmu2kc01Ck2UmQDOHWrQ0PCJ//NExAsRqO50AN4KcAAxLQAGMqBnAq+6t5wKsWAn+l76M+WGdgtEx4ti1xmzkx2TRq7jsV6WM/oYu6isSHgKKHv8NBUqAiWdXVyLsMkM/8wV2XuEpnmAghriiRQKIexQ//NExBcV6np8AMzEuAWmm4nyWTDGoJMA0BAHGOQaJsTBXJgmyYJzeh9PQQ3/qb///V6f7Oz50////////56q6hIYUHCoEAo57X9GpbC6m5WqQ4BGRocMyY8DgpdhghKb//NExBISeO6UAN4GcNlokDuqmnG44WfiL+JvAfilkyzqduxKL5UtP3/mfve/LYrmiIo/7diTgsD7A+7///3lP2rOK//VnJlBo4OPbMCp8S4UFKpU3FJM+JNrLiwHQgtE//NExBsQ+U6YANUElB2CQgNQwuTKY2E1kUzF/r7a+K0dEAZAH69v0cgQcpBIUM////Q764SUmI8VQkwd8gN7DLw4HLDprhOWC2IT6m2BOgVEhRwLUDQKAdQIKkJea1jz//NExCoR0VqUAN0KlJY/fR1dLVsVxZsftpry0Ch1Q7QSZb///+9P7VCy6nVkQEEDkm9WBGQz5bKC1hRjouDilz1b05aQfQACECSEZcAUmAolJwZcmD6Boi6Zro/UlvrX//NExDUSoVqQAN0ElF10ChWYz+pf824CKIOAkJf//+3/LLoaExCAmR5x9bYJKxjKcFyAMMjAwQwNE6s9WgmtYLPOOtUdgnYXIQ4m0GGhsViZs4jWPa3ekaAiX+VgqJkJ//NExD0R6IZsAN4eSFCj///+3+VeWDtVHloCWCKocpGZk6YgQAQgCBKpiAyJFWvT0NW5TOP9Dr+xCOw7KhcBt5VvyLNVH1qxY8hTGW+hv/yv6tv07/7OpVVBIymwQZf0//NExEgP4GJQAVoAABsYZwjrBhcwMjOZoOtfXXKhkBjxkxcgGCFgouDVwEAIWwFLlxawMCCEISFFygLIQMGCCgUTq7caR03W5Ij0gbnf03rUxmgaJp/777oOkfTWj/0X//NExFshYyKEAZigAWMDToHC+fMDxrr//9NttamWhfZTK//9SDGR5BajR5girZSjeYJnUjFR8NUtIuY9NiabrK74/OypWEghjEOcfpfUQbxeXNOrSNgOa5nOyaVQMEGe//NExCgUwRqYAcZ4ABs7z4keUgXvfH//+YYWIOCIoGXqdsqSRO0jxVAfzlxejYQR//am87rHZmivEgYIzAY5KlMIrIkx45Mn5Qu4ThG9lb7LgiOoh0qNQjHCQ9JxBXll//NExCgTKPKgAMJYcJWprqHF0ouzsyuufagCkjJelaRinium3dYL1bmOz2pvb//9i0qmjhj6QYJQ9ESRqoFZmVLLWIk4cId986U31w/Nx+wIZHqyOb9CkITSeTihYj2O//NExC4Z2U6YANPelBKVWkOCMBuK4/CSnWoT4JwZJpMBcR1o9yVEznrx9/+lO8pD/ifCogP9WYOCxf///wu4in6f/3p3rRWYXICK2ilqxMFaAPBUdC4oClc18sqs7yxj//NExBkUmVakAVl4ADUtvV6Xtm8xWbLxXN7AqrkUdSUOMXE0zRW1EYaiM9QE5LY9YFRFWIcHecfHxfy0zN7axL2vUPPh6UoLYj3BgcmMRHMIzELI1gsrNgpwGAVD2lI+//NExBkYkUZ8AZp4AMoXVJ6nW142Rq7/23q5VCReEypKHjb4AVAPavAysh0t6lVDetZznaSV0uG9Df66iYbsfONvd69q5gxQTVBVkJr6v6miyKvt/rpqbJExwxdxNJrs//NExAkT+c6sAZgQAFLLeU6Dev/PV//oTfobbedTnhA6GQhrH3QgICEEHUIxDvOd31kcCQ7UQl/7SGKHCMYpK42UcQU6XBVaTobEiwfOAT/lr3MVyUeMwFrIVpf8sMho//NExAwRIU6kAdlAAE4zm1YzItf/O6x1j+/3zv6Sv+5OlqFA+BuDIqH9JURp1Kqrjyx42zYNeMhA8kUNNgAO/////q/+hZl0h7tkRtFL/HbUuoBtx16LWHxVy9N98/Nv//NExBoRyVqkAMmYlCHdu3f0jOmg4KSCBI3djMmsd3MnfiaSrX2VG03WIOeN2kv9FJ9n///ez//+xKrAdLEslgjrHgI2DlnjJ9lKtesMfq14sd21t6n9a27mTM5esUap//NExCUSqVacAMsSlNMTkEWnhGaSBNRqDM2s/s9RqRLa1JVbMB55lliK9nP//+lB9/9NqFiFhwyCC3iUAHIsJMMyQK4vg77tGSuW2pHSvK03G/r73Wrzs1j4fDvVqQYo//NExC0SoUKYAMrecNNDpHi5ntT/HzNl9uWu7ZrE3aYk0i9v///b/t/+pZcOShkBI6qkvIHtw8C3XfYTkBBTIMM6uhaldT0ZSzX37M2aS5HauC7SYHTAjIlknaIRq9P///NExDUSiUKUAMrWcHb5R42/buThASJcv///UlX9bP+lNCqsgyLiKAgtBxRQplACyUuLBCkJ6KXGKMSJ5L7exnKE+nO5zYSJGAMEJZAJyEUFgVA0sUFc4yTFiP/mnbuK//NExD0QoU6cAMpQlesp7xnJqq6eguiOBAA2UEI7ulTt/HKHtDMNikUEh62ZSXMKmHGHcTZYhNTZKTicoPSEZKITKr6P9HERxO8pqjW3OLJwCVOf////+v/9CKpYQDBX//NExE0SAOqcAMsScJifZxxCBBhlILFMn8nBAZ5T4PpeW3g8ICGsY9Z/jHJWLiiiEq8W1WgHJSzHU8u/enrmaZCUFYVfe9ljEoRX/////XWEEJQMZlgaCC0JBxl4TNgW//NExFgR2PKcAMvMcJZksZgQYi+RDXwrTIkS3SaKucW2oaIRFyU1FhWVSZ0pPdtEWu8aTvmRFTO0oTOZm/CK3/KbDkCw5mmCRgwDdDpJzRlzhkotqBiQwAZKYNCgUkXU//NExGMSgUaUANYGcJfr7Xwpk9w1YRDVwVQhJXc3SyGdl1uqx0uJGcsigsPkBYLnjyjxkTVp/////9aPBcA+T0yTmcaQMpsiAryAo02D6mEIgyG19RZOlQUtClwDYREG//NExGwRuIKUAM6wSItEQDkNPi8ftxqxezP3diKqfdutN7SVoNOqvlHSUKPM/fO1wbCDImuGSsLSJkgqBeBoOotmSoGePKkQQQB5B0gWCA7UBcQMoIQQRE4GhHE+gbn0//NExHgR2TqUAM5EcVNTvqar713ps6KtsjsIo+iyOw8G5dC70pVAIN3Z2jITmQ4Orv60onSaUaxBHGjFs3uQDB223MZgAAFGW7Eo/YxpsMs+mXOnl//M+eRXy7IZsSBb//NExIMR+VaYAMyElA3kQ3HDwgTvvu3Vm5cbjBQmto3V4PFFUfGqml2HVvqMpxoOREqFwALRAVWHogCfDaxZwb+iOSRcxJl0ktqTLQ0/V7566NbYoKcjlSlwZ4BMVY7t//NExI4RSUaYAM4GcQK023////oVh1hhosQgABI2YmcF3wqggJJKoMZUqAZqEYWBBRMcwSzkNIQQOoDxjFXEFQ9WFR32jat8DSOES+3S77vDuFim1j39a2opbmJ7rslk//NExJsT0WaUAMzElFaqu4NPIFm0/FETHmkQ40hJhUYaJj1OaSzrZ37//9H8kDg5KoKEQUaxImGAJkcGaABooC0Cj4Y2AJuAgeM2LSsQIBkxREQjQMkgw1ME2SklMkAY//NExJ4bmZKAAN5SlDAysCQ1KxFvHNpJvk9jruVJyzXq5Y56tKKVZdlXqfqIfmVxx5LIHXtQSPTNwKBwpM4iETRR2LNTN4FX//9HwCZIAqPqf0uUdGGF8zYgAWAB0bAQ//NExIIckY54AN6MlEhccLkkIMYYBlyAwOX+hCswqTNfEJKaSa6YKnGUNwU1m1PUla3y9q9rP63d//d2cXYg41sq5zdZ2ru8q5TvztfZJaY5ptKgAAcUCYWaj///ospR//NExGIYeWp4AN4MlA4caIMfeYYI6aI2YEoqYlAoapTpcug50jZq8DCCBEoAngPyXOHmlBUsOLWLbH+v91rbda1zhAbFmo6t/uVjG+jyysGM/Ik/4SouyacRLWbBgLWN//NExFMSCVpsANPElYXKpxMkYQ6e4QKlsNcI6SAUoSUuiBLcoy4nsmzpXTnG/xnmrI1VnWMGcSGcSGApI9/5ph4YgVoqH4EsMo7YK6aYrCgo4akedSNoNImhSSTJWzJS//NExF0QUNI0AMvGcFnPNmb81GQos4gcJVa5152WeGTYutJJR4DJVI2VhoSufh1bshoWHSPer9rNvqoN42DwH0oz/TjM+ugQFWUfhQ4AWW8TGKFzh4oH1FRQk+PcHqyA//NExG4SILH8AHpMTLC4pYdNWWiGxKD2l/+7+1Oppzauy0UkBM4NkHpS5FURhHmLUf5q7W4jqcC4yoFoGLOpkrntjmowSkiQwdZXdmxiQACIXQFyxBZJx8eMjGC+lDow//NExHgQyHH8AHmESHxdu4xTG1L70UKrWmVRj69aImNXjK03coLDVVxoivNZEjUGljuPm3KXy5+Y/CJsKxErZQ+KoozRZHQpTPTLYhkk0tds1PFcyS2xlJqrjH+Mc7M3//NExIcScLHcAMJGTBmtWoa5HDZacuuhgorQ4uSOiwh49ZB0BxTdAcIUjoGIdAaKyCKCopHQKpjOlYh3BVidAcYS6UMQ6BHZXGeUS6OCrDB6BgkALmcB9o1RJ1TDBOea//NExJAgKxXUANJGuVUp5rWVDVgtDICb0DxT///rb+kJMd80FSRr5kJETIsjQaFSRpiRdiXCxEY00KNNPFblZWUUMIFhLFMUcWQ6Kmzfs7t/dlRUV2Z21S//9nZ2Y5FR//NExGIP8HG8AHpGSEzO7P93IdFQphhg8ab/iwbNGgI2tBpADZ/MsoNhHNAMVoC9AhcLkwYwLrMPQTI6yICIvki9N7C8IIehcWmlOtmRZwkakyLBtbC4RgRYcHizRI0D//NExHURKbW4ABiElO5r5ALkVCzTRkTOam5qPelzd3pVFQFEYhcTPVj20xy6T7p27a23dT//kiChV7EAADw9/JU4+/Nvry23H2332/u63/NCxYpybNy4Ni5HDYvLbf/L//NExIMQ0FH8AEpGJC/fO3/82v/LLh86EgjR0rJe+8ACFOQmdIWIHWB3ganKulhZerZqUqpfdkMxNDXqsmKtwmhnSXZ1ZpGpWUnsk4W6dr2f//uzuzSO1Pi3B+F0Okj6//NExJISaD3wAEpGBX1M3VXFmzVkOrdZABIA+Fxfn4hYwiAkjAcZpIjRRiYhDgODwZKB4THgcFjJhTUuE1wrMrYhwreLzUWmuqlwtM//5ZjXgK363AZZEkeFRgFUTQwk//NExJsUwFnwAMJGJRVJFzEwFvSDINhYSmGROgxcEJFYsRXCULGkgmoNTMWmfoeLbyjV0n12uL2u1U9n//6WKWlg4uQCIEJioHAhMIvQfCIEMqMfSEAaKatZed4piVsn//NExJsSQFHsAHmMJH1Z22eGZVMVXAFZOPmXnBwQIJF6SUJKUcnJBikIMTqGJMZV/qQhm5eqZ4XuLVCgN9ydR68B6Ysqy4SoZGIKKaBNCMnMOuj4cem8Di6LSgh3Fo8I//NExKUQwGXIAHpGKBCMPOCIhKyEE8h4izqC7q3Y5ITVQ2sc6MGUgU0RGgDZpxctSTlCoCsMFw1GX/Wdp+3dgefRA4aAgjREzIkGDIge9AeDysTTdrWPocbpAfsjyl0i//NExLUfexHcAMpGuYvD1ArCSayUVVhmFUKBqHE1KgcYBUw4OAIxWECom2sEFMVDwUws2LBHnIF4RsRCTPN1eGRkqOfshNyRlzkbdCNo9fVeWW2w+DC+MAQs1NGgsRj9//NExIogewXcAMpGuYh2IuCGh7CVYVIlQq0vGBIKJNWPMo+mc6zSKvskQ68iBlB0kIj0FTC3boGYoitCdqBdAs+bALFEXsGo3hNSw3SKPNoUerMVsuUoOoLHq6YsNgiB//NExFsVsLXgAMJMTG8AlUdkN26w3xgLpM3aTKrVBZeQApwmFoGCIjJR1BtEaqJG5ea7VuOZmwYSyOznUc2d+WavdSIZrIohnUz2DqzkQJQJxKQwqCQTLYKBiAubAxAF//NExFcfwmHUAMpGuUbVA1EsbhqJAnXjAQsTG1QUCYljAyGDYoWCXOJFSbDYM30GW5ktalgRMHGOLAJcrnYKvpuLXnpqfJm+jCI2dDYOGk2mAqsq2eVXPLLlloRsmyT8//NExCsbqaXgAMpGlXKPuKDRUEviWcEZ9DKKyVxyi1KhuitQTsRBlFFScQj9QHagGRJkZwRVMXxps8GVejdao39f5bnjPcB/2mS6vM2lmqh9BmO6GhbepmZniGT008ul//NExA8QYOX8AGGGcEGBD/1luztHQowhFdk6AIhbmhQALD7C59wOCBYfdPhguyJyBcBo8p2ov/VyaTlJzZEGhSoIgiSxz2QgGA0TVfIMAqCAmbY6qqXsyoGAjsDARRgI//NExCARcOHsAEjGcFNwCEkDQNB0TA0eGA0WBoOnaw0DQlyTC2ew0W50t+v87kr8SzxVTEFNRTMuMTAwVVVVVVVVVVVVVVVVVVVVVVVVVVVVVVVVVVVVVVVVVVVVVVVV//NExC0AAANIAAAAAFVVVVVVVVVVVVVVVVVVVVVVVVVVVVVVVVVVVVVVVVVVVVVVVVVVVVVVVVVVVVVVVVVVVVVVVVVVVVVVVVVVVVVVVVVVVVVVVVVVVVVVVVVVVVVV//NExAAPqxn4AUIQAAAAIxziznJ/Q5/5CN+/+2hCEIx/7kJ///QhCE/8n///////yN///zkIQhCEIQDAwMDAwMDAwMAAAAAAAAAEMpbDZr6SJBR84ERGVuH2+hr7eWEa//NExBQUslI4AZsQAKf9vYMdQoQT78QRCfRbqd8/7PI11JR/9FZ1kM6O6/8nJez6oEZF//PJVWOqZ7CzQMCftV5AeyOKj6VvGkhQXiQWV2f/9/2///////t//zZhHN/5//NExBQXIyqoAYVQAJH5PYgJC4/HgzHRbFwyUr/+g0ox4/H44RlxYJiMUDoiwXRmIMXASDcUf/+eTkg8LOSM5jHo2JIXApArioC0F2JohwawvAaxaMol//////////////NExAoUewrIAcEoAf/ns7VPKyqxjSIYqFIPdTOJlKHGYSEnHCwmovkD5DkGtHzlQUFjAU4lK6uJi7iwuKKZnOQOpEjKdhjMIiSCDud2GFZCDCDD94fPZ/8qF5f/N7nL//NExAsUCobEAAhMue6+A2Rf/////3ff39d4ZSndtz9rYp2dkyoXDGnuSok5pV8i+ovMUctE3NqZtJQ2NHlZh2nRr2orCiVDsoeViYGiFbfY/Sr6JmBnH+/ajoVjMhkG//NExA0UYmK8AHhGuD3v/hmylZpTZSWADGyTsBcznkUUBGzhf/tmVMuEzaqcfY+6/BS9Cox2MYbU/y9lXjHripV5/7UTsaWyqCIl1PUpOgc+qsK6aJzTNel4UYTBcV0j//NExA4UiVqwAMvSlH48cZZWtDL3bbd/Ccf0Pi6X3K2VXF2iLvVwHQroauVW6E+QLy6x6rEGRRsdRDUkGxhvtKOLw1YUStI4OO//s/YZMEP01cLsGAmvVIKuDRktTbAs//NExA4ScWKwAMtWlNK7lbkrH6iZtOI5QeVn8oY/G8yBO0kw0kdnHdMCJfBC8gu7KSzcSqggn+t6pzaNFweLLoyyv//+QklfreVHrBKiX2EMiIjL1KDhBXytzf1iJUxd//NExBcSSV6wANNSlMwP5CrH/lLIh+JOJ8bkmA/pxxiXri+aUhS4IPXFbqgznOb5/87kCBumDroKbZ///VFlqt7ZgfoxSPhe7ywMOci8uwhH49lvBnye9RfVS8o/W1AM//NExCAQiVK0AMLSlaKgOANLD2NHgJJ0QM0kBLKQ41aUekhjUf4btn8mK5SIAWDVwqw8RxQqODTEPS8Ymfi3ELfyI3OHkbw9fEu8PdeFF/r4bNiAXwsTsugmMVA9mZzb//NExDAScU60AMvSlElcTE33M6myTRbu1UZNtsSTRA+CTP//+sol+oOrQem4CHtx6Vm3LmdeLLyrso99eehM2vTWYy+WMJCaI6wSB2ksMA0gXQ4gMoGSY+iVy5qzgtU4//NExDkSQV60AMLSlOSyE82CNCojVTUoB///9xft0hrKajLB40pZOA1R9h788ru0irkPdS18rtHr/1NzbcsQy6XyYDpTCgBiQ2VwzNRsrbCX8bxqDSvjcKjaqkiJSSyM//NExEMRIVa0AMMSlZiVxvgwN84BMExkybhxFwpRd7L1T5OssWaF5qZNmGSe4tlg1BUWMBEFwYTIPBxcJFai/9FujRVIu2bbkSiiSQocpFADPZ///sSqxmCFp3nIG4Xd//NExFERyV6wAMoMlAKEmo3BImBYAivCVQd9cXrZdVfx1pI4wWEIa4fgcFiNTJukqrDdz/PrlVFOpt7101Xz1yGQVHPNf//7f93/+xGvWHYu4QmG6pOHyLorAONPQ3Z///NExFwSOVakAMoSlGyXfPOfGaoq61v/6eHmqJiAsUTc1cb3Kut/qVrWlPPt4v0o8wyrNOUGFOX//9C3kx3pV//voZUz0jE4w7kZCDdDKF6PkxxoUH8+p4tWc3OxNr9V//NExGYSMWagAMGSlEc9oV0RiSe53v5H/+5jaXjS6Uo8r9XHLkAAkYFG//+xQFc4AbJdWQpVsx8JBeaAQ2drQrSs/OD5t1b/iFBdnOPZnap/5KkasCgEhLoJ7s62V7f+//NExHARUVqgAMCMlNSpNyFbTFYTdHEPvcS9k1qNNq///aXWAQoJk3ORvY/r8UtRY8kq02Aw9hIAqhmKhGZSHbwCyCKTUD91Y0ba1t6bO+8/6SkPGYLCwOBILjGe2HQ1//NExH0TyWacAMjSlH9XyeXYkLy8iE4bGhIJwKDcRBcD8cHhuQMR3/////T0RqllM2dqps6ZR1m8ysc1qyzUMcsxyloBjJmWZmhSnG8IhIhd5ZnOW/u8Y6GX6vZ18vtn//NExIAYemKcAMoOuH2s2YmUBRM4mEG+GqKeP+/zLGgocNCwVlR4WiYXhQ4mEgoIkyaGNr/+3//10qexg1q21c3eUYhSn/pKLoXtUqXtrLhRIoPlpYRllh+6LtZlItKu//NExHEWolagAMmOuK2jqZvTXHldSBw2DBKJROi33BuW5//UKTXTOQTYTMDxY+SnTRldlqAVe///6mvQg1TgImY/0evDpYtiloqsEyeBIK0H4NkH+WoWqXo+Xo1W2q1C//NExGkTQV6oAMnSlPQu4HC1ab9Qqm/8/31HCq2lkpSAtMhAgoRAQkRCewU///igjFwgDHyl6mf9qlalzyLHKTGyWAmrtFUeBdQa9n6GMtV6F6F6PUt8tUlKGKJgDzjy//NExG8SoVqoAMnSlJm1JqaGUG55ocMIgpZUSowC5JSMG1SorZv//////zFkZhck5SXKItG3Ks24DS5i1eeS8kxnSw0RZXiUeR/HXN+4JqNB8VBaPQauhYfQSwGBrgt3//NExHcU0hqkAMnUmLt633vbpw8diuV3KAIsEsNk2gnTQ+pPf//0DwZCp1pDQ54VM/7QtexjVan7pDmlDNDDg8tMjpsY28ch/rSNXI82jqdkbeQVqJM4CGkBDlZ4KxnL//NExHYTcVakAMiWlP/nCkBq5mbghsVgtIgBHUkLmf//8qaPfiVR53/S93Uqyj5Bqvd9B2p3L5b11ZU2vPxpxPydp7rL1Fct/ydsKoLAtAUAwJpt5CVII+e/xhiJttDB//NExHsRyVKoAMlSlM5iNBtEKTBIQg4DDf//6ktBYQhT7zSf+i+qpZOYw5RUyE250mWHm6NGKyeeX96Xg5e+prTZqTFctlMlSfHBIA4QoJYDQleKEkE+guGGoQ9rXpmo//NExIYTMUqoAMoSlDcFNgVWVIwz2UB7///4aR+VKf+/TaFsAWnJrM9NgWbUQlw5K4iPi1mSDePatGaW6zFKdL5B+V+XOgLJVMjkTwRD0kBSPrH/Z2rVp78+azT9pa2W//NExIwTaUqgAMrSlPxC/IGR4i///7RGMea/iv/+pdCRPqcI40aQAAi1qA6+JeOIlNGbE8mAmPDc/IeWSoxdlP3aipqSxAiABBNxsGao/DyRkybKTqv//uYmtux0pXX///NExJEUOUacANJYcP/911Aod/XVpKM1h9GpAOEulZRDBhMpZnOE4S1ncPeG2/0zb8pno2uWxIwwMAgIoKwQOCZA4NUZFE3EfXwnU8DUGtY8kT3f//+EHO/cEGK/1fvS//NExJMRyTqYAMmWcLcEGlkOUSrQUqhsigp5uG7doBQLSEWQtnY2+aLNcXd2/H26gPMlkLIyhgVPKVS0QqLUtWoeVLPDt3//6eLpvMfWLWv/04YWSSVxYOIBoGMQAYVA//NExJ4SuUKUANJQcI4SNn0OAKnQgohCJO2yLhG02MUucbVRKLIiiiBRkfDeJjQ7Y+Ar6SwcHkSH///0bm9qHWJ//Jqmj5dk5od5RA1RLZcAhcLyXyE2ovWTQUqj+w8K//NExKYRON6QANIScLLKJKpzL1bJBAlg6BcTAOZIBED4cMU1/g3f/1s2b3vfN0bn2BIBv///ZoEJ8Po+ykx/e4VqksoC4EJttXEQU2BJ5FgR5f+LkYeunD2ZPRn+YlIL//NExLQRKNKQANGScMpaHH8Knx9H6zq5Lk4UYwS7CQuOSRG2yILyxEY9pzZe8nQMKJQSD4jRg2YMmW5twd///1Fw036hx3/Vdc2pNdWdgoqRme1AfgXVm8cLOr3npqQe//NExMIUET6YANJWcHCjlbyrUaUjWs41dROQjtHwokkHQZAlohpxzt19yKt+2uHtvO0VLDTrUyQocSSMwMqsNNXnK3s8GFp3//+YHBZf6Zz//QqW0a1R+4x1yjNOlP1X//NExMQXSVqgANPSlEiYHLcqvqHM1AtqN8v5VqNdVQ1HlmgcBsZAXZk+RDTqzn6oZnELXwybjF6iwTDttsz8IS+jDkriGl3N///vLrDY9n02//enVbURHTjlpf6EHOUT//NExLkWGVqkAMtelCM9KiY6UV4V2J7kw/WbZKZOaYJ6NZLnlCaDaiTQdBs8E4pvuWWxtrd/rwItMlLEYDEvtq3nBjR12V1JIjTHzG///1xIwPe1ZhH/27l9CuWBGCf5//NExLMVKVKkANNelI88dMTtscigIBlw9DN2+3nF9MXy378DPgMNKKTeX+6aWYbGcacQwIeR0BcDhisauw/RU9GtuiPJ6MB+up2KLJl77rqMyJ3benE2/ftwgb///lXB//NExLEWGV6kAMtelGG/o//+isZgleJEnWlgJTV8QtQ32UPMsW/hZ+v3h1pVnU7lZWboxrUaIr4jyK8Y0LUA3CGKot5lFtfIYuQRSErRGiymDRGaQsZs2lYp0tD+eLdp//NExKsXYVqoAMvelAoFooLIgmSf///SS////6LCqOrXrgnrB8cYg4seQ5oUyAtgKoG2BTLeQdcK5xV0isT5uH0tquRbU5vKk6zuVyGIWvuSEwJnNvQEphuKSh4dBNcV//NExKAXMVawAMPSlAoSXYyoUjnLP96VdeONZqeYg4jtzIOl6ixGox6YlMJDi6FteEZdkHEqbxwI5VnGfrOsLs4z9UZwIUWS+ap1LmZxeQcbtq+06vEYxyEmaDAaZyHv//NExJYVqWq4AMPSlV1/d+9v0c6OQltyf5OqrkZ2zdPtqUNT5bUg9qZyeF3FyP0N+6oQpyNRxOtiOs8XAfY+TkRqhaIsLwY1te+5HlvPmGLoG7BTXmJ2h33//GXbu22U//NExJITGW7AAHvMldK8fRWlQuIhMEc1I/m5Q9oGEJiGq7E7fVLlY50Cvox8O1tYRnJ4gbe4qjUSZg8mMY9m1Xhz8NqSRRMaSIu94un7Y2Plx5ZkiICDq59VbYAKuokT//NExJgSGW7EAHvMlJSnE7Z4KInel6dkaMpDx4qxcobDOlUNY5YuLTI1Fo4G8JjCd/bs/t6a7eabNaws66evLvt9nst01z5t+Vnemuw9jyqVAQBmljFxiCCM5OCRIpo+//NExKISEVrAAHvMlawalywrGkRGGxdK0vqVwYCoFoRjElj7QouCvKYfL+VFsLbFSLSGr2r2BQIm7PSIPoNUp3TCvIY6YFbHs/VUR98waRIWa3gWgagbrnWoV7a193kp//NExKwSYXK8AU9gAOJnf//n+//9Z1r////X/z971fXve7ykSHDEmKjRKa/3f2W7gwqJUZi2piqAl+LMJc/J4a0O6oZjU1Dslnb2PcK3Z828N++uwoGOHHgAaUjBdXL+//NExLUhmjqoAZl4AHZJ62LdJzjmaBsRpOCFFden///baX//2b2JyhsaaRjh0lDPypsUugtK83kNEBhEjZigdB7W1Vr/1La8oWYYcUwUIOlSuUhR0YlprC4uXU58MsY4//NExIESAQ6oAdkwAIJcGBzTT//6bCaL1qWld3/+hT1iiNRIReEU1UcBHh6oXJdSUGkFli7NpAFsUC3JL5M8wflZfRjGUn8U14BPo8AyT4AKT8Dc5GaRE7Vk+pZcl/Fv//NExIwTgQKoAMJMcKX9719kxtMyku3SDJMKcr//yiDax2BibHz3/7uhBarG4VZo1mwBKKbSNUIjgcM1DJ8GhyKiHWSWUMtnTKiaKOlJhpKSIqqNgeE3Cx9GhfBKMkBG//NExJEXEXqkAMrSlFliCa4/UF1Z775X1bpJtlU2oHyX///aqu1CFzFMhw0ioAsaUx4GDndTeuq991+4+Svh78Ovh1xF1Ire2ITFRY8ow0CTSETMKqLCpI82VqhtJNJH//NExIcS4WKwAMtWlK+snlDDDoMZIprXEqiamkVluSsDjh6VAr1rGVaZO2FvmXC3S+cvOevThryCBPYD4bNEYDagFF0BbdDptEjdXTl9I/EfNSU8ltOJ6DqP//+0zb82//NExI4RQWK4AMPQlSrx7rMDAlXohSRZnEX1+yDGzRK7T/za/XqLvy2fOTO9G6VkGAJTESQYUYvzOxItRWTz59f/+uM0ta3/+dWrCjQYYFlMfYkSJRTFIhLPZKsOypH5//NExJwRqVKwAMLWlBNMgWSyq1la7ll3WW8fyxa31bcHWLesFlalUnXy0GaBotRpHMtMStZYtH0aC4s138FREPX1VRQ0mnC3I8NJEcDDkNRlipAXnaK4yZgz0xahYRky//NExKgReUqoAMMelThYg5Tw9coMGyA3UC/gWFg0hWgiiAUAWwQTK5uBUpIilTMqo/JgnE1qWQYgWU0+/RdtBIxMUiPMEkP+aJkUNJuqoc4qF4c0ySUkn/+3v+ketPaq//NExLURCPZ4AVh4ANP//0K05us3RL5v83PMYGRoRJzcmjZZkgpVd1xlWLXxWyEJoCrtMR8NqHG00/yUxcimIjQpVMhbYnCXEuFhjvGw7j6Z3bUP0hoFsCEyKu0DS4R8//NExMMiGyp8AZiYAHYHgcqifFyMWLE/9IsuLfiko6skG2Pq+P/rU3+LsT1lfAqSMLcobZSa0/Qd2vZBwusK8BGWhDuLG/vJVcYyOHZdIpIq+s3ZNa+woMzTt1dbtBLM//NExI0dSW6YAZp4APrz5VoOxmW/1MiK2jrjNpxz7VNXrdq0T+NjcG9V3eKuIm4cf7/zf41//ilpb6lL2pXHRIN3OW0ouvgsS88Q161HQjKPkPVVw2RVwjmRlTuV+Hw///NExGoR4Uq8Adh4ARlVJe9zOVG5X3rFj4v5lPamcJkiQyUE/nfNjzjeGe5boxaQYKZVu5L5GyXplSzlpRfCPgw8D3AH4bejDI/vxrZ5/6gCfaiHkgIYnKbvBdYgsnxC//NExHUR0Vq8AMPMlfmDs8eaVScBYsoqaUsVIU0WxF1E6Oa6FLrq57MBqODwMlxiDWsptMqRQaDafLshrS2KFygKhHSNJYXrSKSuTTYHN5FpSWakOv1bRtGphaYUG6CR//NExIARmWa4AMPOlRkhjCFPzPM4koSYIEAr1foXYUOBpLOCAMtxloSfgYpeR8Cwx0POp2xmUzN5pLlJEFKlCy8xle2S03ak9vvONLCKEdp2xdW6zAItz+EsVSZhDMIg//NExIwRyWa8AMPGlXsU21gM6NJgHKssxcWwWwxifhXHcI4fabNU8jnSB3JVCi9n4YMQvJYCQp41nmLRYPi6zn+1EWZrHVNzDHKOhbQ47F2jWi0YtxVBVVXVUthcJESy//NExJcReWq8AHvGlABM2MLHgFNNQa0xM8S6j1aPBzPSVmMk/y6F4FAMY5or5sjUxu0tdbt/jBkqRjj995CyCiMcp98eAO4xiqDcbKquMKPx2WGvLEQ5bKUSskFSyxBg//NExKQSSWq4AHvKlFMeRZBGoA+TxFtLAK6OkBJBOiYvi/Jc6dMIkKJLWKhlzY4e2vSpHDUuKuFX/YMwYCBQUV4yb+0EAYVnjlQkxEpPbiDGQUwtGHiMBGBEGhUcSRKo//NExK0RmWKwAMPGlZs7sQqGlPsAbmxoOMoM1fDTvTE7cprXddaqzjd8yYGWaiA4lxOBlnfFgaJ3B1UwWCDBpYEy0CEyNUAwEMQM2UvE41bRAlQlWN/WtP1Gn2AsDcco//NExLkSaUaUAMPGcWqmsH6w94+2SuSiUxQTVIqsbrcj7l+j+py//fZ//QoAiUwSbTnYmMVA02wIgEKDBw1LXo5IRr0YAu+JxqJxN6ZyIdKBWbpXUQtdxvfJO9lr9NFN//NExMISUPpoAN4GcJ67P31a3U9P83usmNJYWRUxBE2Z0glGOSAI+Yg6jFF2HzBgzICX3tv7AC5nIWpA+OIbQ5AUYK+zswXUXzpkMQYAxJBfjYPMpEoXDcY4gxQHJ+mf//NExMsQ2H5cAOYYSGOpl8jpnCYSA/f01ppqZAly0wMmL7/+mtXzhobK0G//zS80ptm5gYrPorKi4Wl0ppf/+gmimg602dkPQJAmKMD6RqJhtrElC0MSDigMwRaViKAE//NExNoQ2FZUAVwAACyLpXSyDKXj9OpPrOsO2wyKYRnlsoFoFU77naxcMRy0nSAAqGDxaImKDpa4mdkKPuZ+rU71LQFc2SHkXKaYCaX0CV/0LcusJE54VTGaSwYtKsNI//NExOkh+xKAAZpoAW1CMGpQqkpUhUPKACXNavwyia76HEeg9qaJT1FthSVj2NvLYnlKbc5hq9jUs8sT1+b1lhVqZTUsxpe5d1/N//eY+CJ8iCMKABLDAQOlfv2cdLx+//NExLQVsL6YAdowAKc///9zsLX17ocr4JX+O86zjqUoYIN2K5/mjmv7xxZRiIIj1aZjAFohYNSWEbMLDaE4y1+JjOHy2tHumwlTEpXHoJuK3M39cybL7MhGBMd7Dlfn//NExLAgCm6IAN4GuT96qV5rVPvPO3fs0c9Sz9nKrn/8/+d7vKJGQnwI7EBGMDsYYKsiJq9xR9mGUiTx8pL38/Xc1tFc2KU4vcPPcU8T2jvp8pv8Inx6GTE8HDzk88gO//NExIIhgqqQAN4QubwCIfq/eMKFxM+d5+ouKBZNRO9b/Hn0roNqElNNHiZELDI7UtmmmnGm6K3Ouz//b9ONTqpPKlcfNzawpRqG2Ym2dgsYEA5CO7US4rR3ZOtiB1e4//NExE8gYxqkAMHSvZs2naDaLRpBBWbTqSTRpml9hCagoJC4rbyKP1BTxpGpqh02gTo+pmKGLbaqpFRW2so6RUUwkcEReWN///y////////////////17q89ZVrNxixh//NExCAZexawADhSufbWOxvECjDMfyRF0rb8ldXPScNkDSqrEW0VmpQXQFxyLRjDCBv4UkRoUaDXRijkUXLYCBTDKDEQ6gLMP5Oyk2DpOiEKba6yf////Y////////////NExA0SGxbEAAhGuf///9v//Fjq57ViwggZhauZY1EG2ohwRsLalCFPcyiCZGMjVqyNhWrCAcgJUHKGdEAzQdQFDuDEB3EB9ZW8KCRfaxBG9h/uSnXaKQvaF0////////NExBcRkxbAAEhEuf9f+xsysiOhd0dLbwpSo4Z2dEMpZn9FcyKxqlQ5W5S+rX7OlHDNNQxjGKUt1ClBlbPuiJiDk0jI1fNd2FhHIBlqUhcCc/xwK+KdcB+kyxtTGGrR//NExCMROUa0AMPGcM6dwW4K6HPN/57y6XeV3M3MnDmmZO5kZCxOFgAn///6f9btybOLFm9AskI0kMMgZ8Sphp60cHWRUMokSgWGleJtB7WNUOBJ9jpPP6z3Ns7qZo2J//NExDESUVasAMxOlDjoy6ik1Co2x7iygmDReJiTiNbf///R+qqPx9kZx4Q0WWEHQpmg60SAabR+LEYCZC4rkBDCQsJMheoAeE5ENAqBZoyKAuYgyZdLrUf0n/zP+/Kr//NExDoSaU6cANQMlWWdmptNI5s/87WJBTl40FVAYFwoAKZ+DKZ4Cv8YQBlsmXmBixpbELEYoS3FyVTCe5es6VquVzEzsL6uswYqUKUl7N/+qVbqisj0a9TGMGFrKjGo//NExEMQCUZoANvEcXigQjAAONpAtwSgICg5f9MYABpgwNosBpQegiKn8ONWKTgqJvUr3t17f/b6spHMokW6zB0QmNX7aPr/6t/+lfZT11tFAKkOe96jIW2R022gd1lA//NExFUQ+Q5MAOJEcGdCYbfDwxCihyIppDdf7aunJs7IRLmKRXIR53O6Duq8lXH99T1/2bqNmmlSv2d/qTLz9fgFEDW6QMOmgy7daZqZ02sZ1jjSRfVVFYwGrc3nNLM+//NExGQQMTpIANjEcD1dM1GfM7WhxW0sxQCbahrbCjq5aB4Cg4WXfrOWKFZ+13//u9v/1jVoItmXPHDsiBWzxyapsb2iRFx+oHSIidaG3KAVcMtHWmlVLrFCqTZAJBck//NExHYSeWJIANmGlKtraMqapYDreyoxjLvS3/+pdFW9aibAAbg4A/20awmOzL/isXVtYJz4nhAG0LqJz4K4MhBxNSwRJJ/JAoJHnHCRgrBPR7fl8vm5KFw0NCiajBny//NExH8PiDJAAVsYAA/zdSCi40okwkTiJoe/7qN1GimrNCC7pGw6F3/+mmszN+kyazA4bEwkC6XR7SVPlL//03QQQN1IG/9I+iiUzN0iYRzAtJxujLTXmNzLL8v6Ighh//NExJMhuyqMAZhoAEKhCwkCvTZlDJA0vywEW25DxtxliQ5dNkjSlAGs0ipFmsSVTU3SoZuBkJWKgZNAkfuO3NS2VTVJbg2R6uPxvGAJ2vK3HsYSitztWevbub5rHdPR//NExF8fCWqgAdrAANiYjFNSUk5bu09q8TQNX//7CAeZqYwOh6///Xu0VYjAzKTxbmtvgFIQONQkRlzCslV6cwOsIE2UtwP9H2wBzi3qIRGIi0zZBbd1EqzP7SBmEnA0//NExDUfaXKUANZelCfiww7PL0uaXTMJbi0s3o67L1FnEcVbciAsFFldXzDYmaGc6prDe+AnbQC2Kt03nmy0X30aI/nu9P//pWTMBgUZTaSe7//16FKtXRcHb5qUgk5m//NExAoUCWaoAMvQlI1gxZx4WDllmCM99HpTVE8L3HYynWE+OYmyIBYkGlwPqPFvF1hti+HF3DmXNmhtwQE4i4hm//V9N7XJXcC1uMH4w5n///XVyjKGR/5wkSKpM0BU//NExAwVUVqQANYGlBQURnmNPG3FVjSYq1RQaFQ0w5UymLlN2HBgYpaV+3ATCp5bEYdw/f5Vr+P4/+P6xmdgICHQCdV6qw//+qoWFKAqEnob///LP/qVcNMILTmnWUCB//NExAkSIH50AMveSEpG5Z1H4GyHc+Jqk0LOwWxSpUBTC7FGYbGfbDiikgxiB8UnjCXNuUIjTP9JV9GkTg/d////kHJlHSjlh/y7+XVbKlRLSdqAtIDRTP7PtUxCgcGc//NExBMWsOKEAM4GcLWNVqMI7pJwEFzlsy6pbU0tB05cmBHIcjzjxOW1t7578GcySFTyc9wND/5d6lm1DBY6HQklv//w8v1idqhO9kLthp+pM92UqY5K1kG9FcPN1FWs//NExAsSgmqYANyEuIhtpwWAAWErilsZbPVLACYSDEcXQGoCrKIcaoJEUPzh/9DV2zTn7Fp1GC/331wZqimxev///////7f/ruOqqZvbXwlWSafcwxhFmdhwjHjpQ9XU//NExBQSYU6UAN0KlGU7PIwIR4DUEjgaAQNCkD3khCA+yZE8oJfW1X6tTUEsgtV8hsn5aBYqrB42R///9ZEn9Jo8pZDDyXp0B8rCmUZEqCyvAoXFTcRpydKV2CNAilCi//NExB0SAVqUAN0KlFHUHqgKeSqkOcaOiO7N2r6Wnr6/xVIU9Wzat8uMDXIBnUJtf///5T9Cw4qzBYWcGnpl0BACN+kT6ZqZYcX7YI4l6RO2bGhCW0MpRYsLht+ca13P//NExCgRCT6QANYEcLe7+///RLWMUqFK3/+YNBoPAsGj3///Wn+SW8yqMVDBoUM/uj3ZQhDQCoGOm4GMTHygOEDJwgvUYGAFonPXaqgEByAZiSKzBoGrX8tGgFF0QVlp//NExDYSUIJoAVswAF+qxx7+gOAEa0S////kv0i50lqqNqljmBsxp2M1PzIG4+kONNBAErJFtOGj8SCXeZU6tlJNiAcqI2L5cFzGgoMEBgBwMhTZaDAK0BvGKALzJppa//NExD8e6dpMAZuYAPUQQ0LRvZSLLWtmU62Q02pOnpXR2ZaC0Et62RuqtBf6aSSJufaQaAXwmoUYtNpqHyspeEqNUklTk0LLN0UB4RFonHiAOgPxIz4rk6IxdLdE+rky//NExBYWaR6cAYx4AJkEZGb7MYPZTTPCVoxUPW9vOeW/1j7tPjSGQEs81///vH/99/wWerE7il+kiCL4mcBGfpp6VghQL+8n31KYnLxUmTAKoILC4xClrMBmrttYyT0E//NExA8VeRacAcZ4AIMFD2xXj6OcQ0v5PBXjJQKiaz8L63u2pkaVmP4rt1AibrbW8Z//3qTFwcckVUDXnrTwANgyXFAiMcx9dK3jiH+j+zZjM1uRp4+Ys49ug4DAkIEh//NExAwS6OqgAMsYcN10vC2CdC0/jODypweMr34DiFuI9fLSsWkUaRgOR8WByH9XERVhowuVavV2WRvQYInqMPRbAZ84mz+/+ztrsNLUEGxUzYLLGcCiYaEhoiNqaoaf//NExBMXOU6gAMvYlDBs9NqrLHtSK2FEjxIMmUo5LptirCmMJgU5czxEnI9tN94pDJVwKA3qHoG3y84yo63TObTmqbTq/L/sv2Q/bGvT///vJbfr///XspuIJ1SgLSKY//NExAkSQU6kAVhgAYTJFtwBIlnQw/2V7mOGFr8rWqbtZ3T3mXddyj4glw/B4MiEP0Ygmo4h6SR9bLK1pth6tpmems1nenN6celdzIoksFkL/RnBJ16tgYG1mTQVORXK//NExBMWIwKUAZgoAf/jmnxosKIrCOqndYDCzCwujWVHBhcCKhe/w+LkUDhz/S3QgmUjJ//+xBMeoIH3An///5CA5FFBNHIxP////9GIJpnPWpWdZgPsa0uxEsQER904//NExA0R8UakAdgwAPEY3r99/v4a5/N/vx47f//s+n2WEQCEMyPmNBjFf2xBiFGZEb/GMhSADH6EOOnfZtiXTRlQM+v///WtmyUAs3KTLkbsFPFEWjPm8DFd8yYu87r1//NExBgSQVKgAMrSlB9vmXcO7v2Olc+WJD8QYoBkggm1qO1IQ29qS5BzGnWvONcwuMvKzeTiIZ///9H//+idh4pKVQPQdyQ0OKCER5mfalFrWryTaqMZVfv7HJbn90lm//NExCIRWUqgAMpSlL2TAlAwNgKJqj25vZdLc8mWzqAtdyi1jOooMIxDpMkn///yKp0dHJ1h1YHRjoqhjsG0HF1SzsDd72fHUun6297u/u+/LfJ0UUhFTAVE926rI6O6//NExC8SqVaYAMpYlPfXpynv9Sz9fmtaVbXLlzztTf///UtX73f/1V2gJWRZ5W4prjpXVUCU4oqLoctIounsrlKuhZU3+vfzd9Vfsd7wqnNSxbO6RoV8zff/viJ59Zxn//NExDcR8UKYAMqecOdwJocYEgiUJ///9CU///+hlRB1EwlKD7O0YXrrPFkf1LKAAxiWJ4kYix9qdrQXtXbTP6+9umDjxdFAcFdO6rPnJXvKKtBlRYVDRuOFyQVFCX////NExEISAPKYAMJYcP9rP9f/6LgwCJiMNAbEhESlYDNBzwwgNCNEiBZBCY78r1bm9ZNibrvbEwTIA4ZJyAQVaQkrCg+XPXPOPMX6szPz/Q9e5GJGCYOl6vAbFHAAATEC//NExE0Q4RacAMrYcVBnRi+OJ1EWAljFMaFw9Qy1qFJcwqYS6jmnBuyAehGuRH7ELIhiV6x9JuBeCvLdZPc5mhCa1bJUKBiFwhsW0MGhKAwyJfJhbYOWjI5l9mgSSH7q//NExFwPkOqgAMsScLBYd3Swb/qDtLSwaeqF43diyyXrsxVzb+l8lztFRaHQIfXmaEL///////+mhaqUjogPd0zp5tRxsNgUAtOYHahi8S+EYVvkawTftaQ0dAuO/oYd//NExHASiO6YANYMcJbBUuhUYmqfZygtJZ66ldlGSWGlE+F/+ncbeFWJMbN8yZMvOMuiJPtcMuAFA5wkI8DWCTgaSpg/iYD0KDoaCNwOO8LiTWMvzvAYbWzrU1BkKhI8//NExHgQCIacAMZwSWzAMGRzigHDQLvGCGr////9SrsfD3bwEVFq4DByzdjEpIhjBYPkV51dvzMiSFKjuVQ8wfJhobLelEDSPKj1fw/n6/W+7/f/v7rlO5TmcJs66v/X//NExIoSGH6YAM6wSFeGuHYea5ZapoAO6lIIvi7oLAE0w3hC7moEgAddn6XLvy8OWWCggzopmsWhLu0/016z3jfRP9bdm0vojkMcxn8G06TRdQv////66s2Nli3ANKEZ//NExJQSMVaYAM4GlSSDoktc0kRwRpIvoQEHuGmBY0OwGqMMXB3AATwc0dIjlIgI7zxw1Wd2qdkmr3xe+ZS9LL8sY1bXJHoqBWwWK712f///9WiYWUeEiMQMaQnyoQNq//NExJ4QkTqcAMYEcGq2DoZThAiipUJhaFhgcQ3NIYhBjElRduzfw1DNujpc+d/v/3t3eOX/38+9PI9++fDwcMfnuVFUOyBUQUEQy0iu7///9d2msjow6aFBQw+JAMzg//NExK4TgVqUANUGlNWKLhiEev8ahgaiBASFaRYNkgOBrT0NZIthkSUrs0DTYtDEqq67jzuW8e2cN7/uXIPnznKj74eey+3fXf1+k4F6UcXCeAyaFToKHXf///XpeW01//NExLMU8V6QAM4GlNVpJKGj5MFxQ345QcMnBE+zGg0eCjGhciHEq1yto+hf8xFLETIFwVyvJhI52Barq4T2dnmX5dxx7rn//dLB1GhQ8u84dKHSPbOpV64oqE1qLi1C//NExLIXyWKAANYMlH///qWypYsqLXglnO/TjQytAIZGQBxO/qwicrJhUCAYhNUIE2M8R0wQwhTz8VDWratVMatn2INM5SmYq0MS9Gme3+2gqxkKwEcRABNtIBUIm9////NExKUWSVZ4AN4GlP7PVu9v/6IxrIFYjVVTsQTRCSqIMqQAQpBYuForFoqgJAKTQRLTJJHUegqjOXdZW1EQUPPO1g0BTsQnc6vWEztYKnjodER4Gnw1/////wVqCsD6//NExJ4UcUZgANvEcGo/XZurzdCcxt1MGNKJFWQFxwSioTBeqIyR0XCIeGLSARRR8WovFUuWpLGSau/yW3v7J2y9dA/l3J9fbremALyehoEsVx/IQXLzchIzUr4ZeFwY//NExJ8SEH5EANMYSCIAnDBMekLxSxE3tx1CVbWLVOPKF58+kg0Y5jY2kMLKJYfNCdh9yyEaNQldFkc69S6l0SQgZRitTNCCxpXUkQ6qFEkVBUYDQcEQGAoTPBoSiJYy//NExKkQMJYAAHmGTHnEZVyzsios8VOyUt8m0qlQSeRaBgKw68lV/WWnh5EkPAs68hV/qio5nZM/q67j7i5UN2QMnDLMmlgmIQYKDz58mUU5dxwghd/6lOOEC63v9KnH//NExLsR+F3wAHpMKAMES63nyBRVVxwgXW95JCrmpXecIIU97UqmV3MRHyHKqWuXaBEowwlQaqJMGhEDT+keLoDAnOA+ODAkOGxwoLoMDRYu8QOFEm1CpIwARe9nVNjW//NExMYR+EnkAHpGJJgaLJez///3irQwNE5c2IEhQcfahiFKQiq2re2nzL9E97LbYCnA0JV2amxrFX+73d7Mzu1zvZmyEJOd3OeQn1kIhzkhw50CE5Qptfw9oAYAGQ94//NExNER+E3sAMJMJH+7e34OD2R9GJsVBKXTl0EqAsA7QNMFwHIEfK4TA0TQa38HbA9Q+EGyAcLn0odeDb1GS9oIOQpyWW1eL1mFV8Y1qNtLQXtjHZu/IzWTgk0+2WeR//NExNwRcE3sAHjGJDciktbDil2iRliRGSjh+om0XjEjjRIZAaATTCQUcWWtJAu1G8qSJZRQdLBJyXImqxIk5VJc3I1HSR1mkZKNVKR3vPmnMe6pSNyEjnLhCAdQznUu//NExOkU6fXgADDEmSID9Stra7LZ4PAeLiSoBskehKJj0GgmWkaZiecwztyPjiCuDwPVI6xF9j6zK5AyPAjwMM8M88M8M2UioYAUlnHjjCxg49AeQkPwHsyH4Tt4H4Te//NExOgkAx3YAHpMvJH8k9b65FlqqhI4KWXPVOzeRsmFkAgQMpk4WTf4YYQQguGIoCAJvWbhcPj0jvADDDHIZUbP6IXNoQEKX1EHKtgNubtfsd6KPnAdRMeCGWy9WyUL//NExKsYEJngAMJMTfnBhD8xuIQchBgU4F1ypHBUV2WSPlmNhFteVNHKetUV+6dW2l42gkGS12TRahZtB2zRivjsxkiXIkIra+VWR+33KRgSaFQ5dMnezq89zBCiMfHT//NExJ0PYGXkAMJMKJ8Cgy3dcdAr6Hx+CBGDNSpyM4SNbUjl2cYJARdhAvhlhgvUoBkuM4JmcRkDgdYOMCFlEmW3ZGNhoe8hx3DX+Upn+f7672vntf132EXv295bftTB//NExLIbWgHcAMJGmUQZr533z3rvUUUUXL+/n/tvQEaymE7KmUTgqXWat6bnJ+W5Y8NQwNDImsMvLMmv/8POHFUqtJShw8/5zhzbKrr/yy/+ZGR/JY8s2NWVlMjdHRyc//NExJcVAInwAMJGTa4ahqGyxx0t/e4oQaENlGmmmi0K0000ssssih5ZahNS8+7X3/i8oIwTRtqICBiYQAACcOBvuBuOBA4CAYLg+BwfeIAwIAwsH3ic+UDEEIneXPwx//NExJYXWjXoAMDGuRBW+f91tcg36av+3o9/KTR3DUqRZAXVIjK/4JLjTSqLPp5jDn7ddpvANHJwIJ6V1glGA+pkRKPzp80QzJR5V05OJTIuqq86rRLBj7OqaaudZl6A//NExIsRuHnUAMJGSDbhTFOSibWCgygJjejimJQt5VJDY2JmboUihKJ9pLAR7qSxFKoyNSZ2dKpmF1Tg6EKwywGTupiYrOChoxMFgV0ozqKKRTInMJYoaYTFkKW7OfHn//NExJciIxXMANMGufGLXZQ1mkF1jQFSUGTJpQiENURkq0ERG7WyVSKzbraQsVhQnCqM6AS4NFMgz4MQ2oY9xoaw/E5wm4FzhtwG5FeG7I9c2MtGNqGY3mO6Zo7rsZfd//NExGEbUZ3YAMpGldlsbxWi/r+O8qqtelUIAAbo0TQh7a4sDaBK4imZXaQPWkdUI44yAJ8IOhBgOAs8CNUJzgSNjYmXIk6zzXMHqP0DsSZgW6mu3aP9ups1CS2wFVIt//NExEYSiI3wAHpGTFnQqZQqIepwj40CaF0NVacSwGmiAkkBpBDw9+6Qe83L/9OJdwghDCCKIAi9QDLmhxd7qTjS9RSF4DZn3nxdE4XVdScSzFnH1oTkDQONnNj/y/RV//NExE4TSMYEAHmGcAKhSSSacg1RD0AEeGS6wVFiSVbMU8sdLVs4zflAzVVqlVL/USdBp8Gga5a/8qdLArfPCI9+Vd69T4iPSz/rPFep4K8sAUBUHhrHASyYW1BkmISI//NExFMQ+OX8AGGGcGQ8XICNdibhQUMDBAnQ1YKCBgwVBMy4VZ4qKirf//1irP/pGCwqRMhIXFSJmtnxUVFmoqFmmosLIkxBTUUzLjEwMKqqqqqqqqqqqqqqqqqqqqqq//NExGIR8J0kAGJGTKqqqqqqqqqqqqqqqqqqqqqqqqqqqqqqqqqqqqqqqqqqqqqqqqqqqqqqqqqqqqqqqqqqqqqqqqqqqqqqqqqqqqqqqqqqqqqqqqqqqqqqqqqqqqqq//NExAAQExn4AUUQAAIHCTh8Pi5///2/kOd+pzkIRuQhzv+Rv//+3+v/////////Oc5zv/6nIQhCEIQQBgYGBgYGBgYGAAAAAAAAACGVh12zO5bDAkcHBwsOp+H2hQFI//NExBIWKmo0AZwQACWWsIep86rswFkZfH441fpvZlHD/0aS2d/+6o0szuUxP+ZZXOaUxELdTN/++jO0s6KkWroQ4ctW0KI7Qwl9b4iBMLhN4jD6RQyV7F/8z+////////NExAwVEyqsAYU4AP///9pg/N/+Nydhwg4+NB8ZEsTFDSv/6EKMePkyx7iw4qMFxLCEfEcTACEw7//zzyBjOQZzGPRsUiIHg7GgLhHFolhOEgOxKaol//////////////NExAoU0wrEAcEoAa6aWnRnap5UVWMaRHZCkHmKZxMpQEHEEhJxw8Ti+QPkdhrR85UFBYwKcSldXExdxYXIpmc6B1IkZTsMZhESQQcxzFGFZCDCDL7qI9TtnP+bN6Lb//NExAkUQobAAAiMuf13etPZ2b5FHRP/////7vv/2vLeMd23P2dipZ2TOhbNJfSok5Fn5F7ReYolaM5tTlpIjY1NvlUc2vaisKqodkNy8mJRCsn/+u3QqcDTl2n8paeA//NExAsVUWK0AMGGlB3I/D9vh6ek09aM//Qh7vWjfhXPToYnvSaEDEFXdgiHAkrnE8/k3fdzghhwKiyj0SyLioCHiIDIrkQVUHUJCp1mFTrKtdPVV9T6qscCB1YCUwST//NExAgUEWK0AMvSlF0DNUDzoeto4c85LWZI3XUTEOasJZ02xviP4LNCYirhqUZCo0fkCT2bKt6u6LI/KQkkiZtUpCm89QovOyC7QP+umP//7FtaqiqzkODjVlhTtRrj//NExAoSIWK4AMvSlFQDoQnBQf/c9ZSVPh123Xkcflw14Xyy/kAtQ3zUkfLHOiTpmvEchYJZReEiKHTd7z07qoMWEmUPZ1X///65GudkBPiixHk2H3OLZ+23lHwfTdzI//NExBQReVq8AMNSlKGWVlCop1GedzhfjGJE+NIOQl5NbsKk80JiCIkYISSHudJztmf/8oYqghKLabrP///R1MlQhgDMZjV4DlhNkiHSKLUftb72T+8R9eSbttPlUfMX//NExCESoWK0AMPSlF0xvBdix4LsLY6yKPNAb1YciIis7Id9b8b/f/P091TNykT7JtSf//9hVcLLAg+t7rw1BYgMq9OFVVmkfmIwGjOZGvOHshGkHzmNwroF8M0bm4a9//NExCkR8WKwAMwUlBSDIaRkHXKCLeAczDAvQvUi211HLDLHjytP//+m36nGYKowKqbqEXnYkQGERQtMaan8i73zn16z+Svsr95cY/hbyujHsuQjD2CYTTo4UI4hsSKg//NExDQSKVqwAMPUlIxyRPc7HumqZDQhaRHlTiv//7FvSvyaSHozkfBROV8RKoQ3CYHF8KLd2T9qt4E/hwt5Yo7vTQwD67QNYozp6drOuzT+kquiz0SOiwq4RKQT///f//NExD4RsPKwAMvYcLkf1f0/ObRaYm5wmjRCwUKdq3t////lCH//9f////1/+1f+lJc7Jox7Izu1CuQhmdjqczTnzuUWIV91MQEwslXU5w4sxDoSJA0Oc5wMWPpaAGXL//NExEoRYxrAADBEvf/////S1Ns5OYa97GU6I7GmmuOEkZhWhMuQNLmsaRPFIyUKCqGRYHKFBgmG0EIuNJGjwjKKRYNHEcqDwoJhLB+LCJhCyH///////////p2kfSNx//NExFcR8xq4ABAOvVVkUznQg62pUUUJnVFpxah0DUsYZE0jOWZaVbB/RlQrHDxc0+jgnDoGwfniAMcTifkQAoQeOgzP+6or24Gk4jfY35BFcDMCMcv/wUzf///t///r//NExGIRMxq8AAgQvf3dfdf7mef4+a753drxs1pYuo1HaUclKPInY8tZJ0UdY0p4XOnO1xUy8MVsOjp2ZQ6cgFQwktnNKNkbC0Js0lSB4cWSbLFICDSjTsWiFpzUZKBZ//NExHAV+xq4ABBMve4iSh1pmUhJ5tGhRafxkIf6zI3q8bNvaibnu/vefF2Y2cipXjvj70MdZ1EuMUFapN2XorN97D1bz2lpdiThHZfjNkd8vQVJ5gchWjq/6tiqdCp7//NExGsXgbqsACmMlYpSNrmOOqLMOTCMObn8bMUPGF3LftLPtWKCAoEolhzjI3ECAxqEyhNAVzTUkoANBwQVHnATCaWAs8g5Ool13FhxXuYMQXFokmzS/VwLzpJUdluq//NExGAVqXawAGMGlKOj0hm71esXgk7iuCMiqUKqC0ElXDGCkYWBPhG3jOXw4IjnFb91kefdMuqCikEByKczJFMPhruKDu+RqBzG2iAUNSRz///9KEsIVd/XHMjy8M30//NExFwUyWq0AMvKlFObtdJV7/0CFC4pwIwXp0O+WnLIXVnkjwFgL54bgsbukO7OGPP8diTPCx2FDnUQH52/E9w/qKYxrKP//7/9SssY0ENB/nFcsdQjHOoziFC/q9oK//NExFsRmW64AMSKlA2oVYdS1czJu7dovTtUa1dlUNqa4cjzvY6u8x3NS7vcLVnaczXAUdYBiqgeFpwK22qJIHjovyV+m4ioIMORwxGBpXD5hofq+jQwCQgEQFI8U4pT//NExGcSqU6oAMYKlUynTJpbGlVW91KSAtutabym72r6j48r/aHPz/5G+0gw0TDep664seF/t//9FCp1HHAgAbv2HRBgkBvIYqzQBKC5gOYUZOZ41qXDaeZyeUGRrCTU//NExG8SSOqMAOYScMphK/kfIjKiVVRPOminAqZQN36bO5Z1X///tts/NPTVel2i+pmeaaoCrWUVAKm8+KsZkILCsGjl7xtmPDei6uWKDFh3bFXj5j08tM3SarxRqiew//NExHgRCOaEANvUcI0UBwQOeND+0/l4qDPR+JvxSsYY7///XKUf//6VsR5VMw65MxA3YeMxgsc6VqKggQg7KOhbDRyaFgecfhvc4JcU309TVs7mJMPSsLgUODxfUmif//NExIYT4VKQANvQlGABkGbBieNGEmhJWJLtyaFDBUSCjE2Kf//+kmH/sFWiv9cFyZC7SYWrYi5hlJXThL0A1UPCH0sgkHCe7B3OC74tZAdq+jaPUV2lQvzYwPP2R5Qr//NExIkXYVaYANtSlOpOxAQMoAUP6Bx1Jk87CBFWk3J1H//963F/po/+2RSRQpVLWlGSqBnaEvWY9qpGszIHJOfNhs/TBryv8wv0Pifi+R7X5HldF+MNU6huect55Wzb//NExH4S6VqgANKWlP7c9w3ndXFFvFmxG1gH4nX0qHuNRN///yomLHP1O/6Yu1t78vXGVr4BPBIiJwEaQBUjsbMqFrbeO+sqByzZUf4l38RfRs/+8dFvrN5b2J8SAE4h//NExIUVmVqgANLelF9qC0M/2Ke7/6hwVbguhBUJopGG2bQZmNVaofiEzVtFd///7gr9f//UkpQZUrOTMTQsSYTTvsArbexkClzkgXPiDTIttG3uAhkf5arUbGXUN245//NExIEWqV6kANPelLxcN6rVMIlBMefhJA9klcE4uWFjZYTGzuDk8b3t29TR6VjvfnWKQ4srUqWGrY2zGXN///sYOG3DsACYEz1TtLquzwDKmKA6wUCYLsYBEyZOxlYE//NExHkXKVqoANPelOLOGBbcaztDAhjQxFvPNQp8b5KltVs5pKJ+PiE62424jMIBsVHLf6ilX12Z/UmWbQRxMOl0M///5JWmRoAn4S7J85NRJjSYAgBY2pKBdK8SQ4cx//NExG8VUVK0AMvSlFLq1PqbCfS6pgqRqLglTyT7MhK9AY4sO0loxulSrMJAXMTH5amvXpna+zfNp1TFvKfFKq4DYEyjjLrU/uvmPET49iFGwFwaJPzKjtKVgJxvQtRH//NExGwSyWbAAHvMlUspcDqQxGGkk5NyTSUnrjcyxXo6oY4MWBAb4z70L88y2Tfw0cRmPorOAfT1rJ5eUvNj9cmwgriTAbriPccTcX1Un4iXEviheoeXF0ScGIICWbiW//NExHMR4W7EAHvGlLWVVeey33z3+vHaCtkyWFcc0itTXSN/0SggowEAencqwqiMtmYVh5BcHabl8GNX6BKJ0C1xOGUiFHhvkm0kJBYAGVHIlXHi8oMsb7rDdnRZwWAq//NExH4SkRbAAHvYcZxFXxpVam9CxB4tRYmZXmqrbGmots8UnRujCeL5spIeUpdUYxF903I5xYXXk1a3hUVFMU4oQOe0SC9LIFoRMvSbgtvJdWbtY44RlXTpEUnSJVlK//NExIYQsW68AMMKldn///+4Wok8IZcB13wSMiUGx2djc1yBUidODn7vKrfuf1ZlY2sS6QMOCQDSdFGJPBqRxpIpeKligdCq1dInUYHWAIeL//7L2+1Hd//YL36aygkR//NExJYSMQKsAMPScFpRtfHQFeVU22aVUqR5QTQWCKaEcqj9yZunZb9rNqMFXriIkIywMUoLppxy46oNE4DE4ZZaOKIYCIHIHDKbv//k9Hqs//6qy6QLJ74KOFBK8RJi//NExKASYQ6kAMmMcGhxELxks2D23hJTZb9+BP5NZa58QJ8LiJlctOHyXlJniwPO06esbNykYqGaptr+q317T2kn1LMzev4tx6h1KbYMKKEU7gESdDrm0zgnNEk703Td//NExKkSYO6oAMpScOz+FP7a80/j77NN0Mc7jLpOOE+0HZzGzYCRqDa3LvPRmXn/uM5MGOoWzmbha///+qj9as+v6UuvOWTFjwMw7tOkWx3tLPlXxst83at9r34Oss2///NExLIRqW6wAMPSlTfCtr0FhvRERFg0nCOICAwJtGA+qDwP1qt060Pq/uX1BAHlTaNCxCdd///U8fXGSCJA/KOCCaNLkCeoGhtC2K1JdZs1xmd92aW2B6zPU/qWxtJG//NExL4SmWKwAMPWlLxBJJ2Nj1Bh0kFMKinb2V6xQp9b/rrOtWtv4+a4rBpWLvL3Eqp51gD/oIcIZE2nyNJkELMy2KGsZjNnHHcql3d4/z93X/9ek5Q842eakQBIvAdA//NExMYTWV6wAMPWlGnhkNSdRpWnj+0ShKoXKgjMMSsppi7YAU14tEj8AYgqFrlFgCqNBXUOM+sVgaoWlKrhc+I/K5gAwQBiQuUAmjolg2MBcBTHYZlMDowD8AVqOeJs//NExMsSSV6oAMMelT7LpqJw8mmnEEhwpOTRCXR9k1ppvRLR86RhIGf/0iYNPYeBpSIpnEC9//bt9zyZmktlKUzGH//7LToIF9JB1dFMquRQhyJsbFBZRJ9OndmNjnPJ//NExNQOkPKIAVhYAKCjlIfhxNCQY8+aEmmeFQaA9ka65+SJhv/QM4nK8/9cvCgL+IeSsugGRCA/wOBWi5jjZ5G5leSw8MDA2kHOtyLecbknFi7++NbzLu0k2aUxTV39//NExOwksypsAZiYAPDHnFPvP9/jHxbf3XEfQhW3TrsQ0oXC4fUnJo3p5FcbbYmmNOsXj0qIKoKVQOMihrW+7ADgjmZjgIbwJnJKi6qF4ExJ+4CjwvQsSdj6IM/DIIMy//NExKwfuaKQAdp4AEeA0zV+vEvu0ObVgtRxiUCdbJKLiHupUaY8Ivoe1EX4IIhCtJe5w6eqFx3yo1jO4aEOEAl6rbDrW2tCIjxnAh///8rYAhcluJ2j///1qqWsOOhg//NExIAeiWaYANYelBx/xKrNjAGUpWNHiMvx6zBNEuYTLfunaSmfWTKhNl9gw99fSZsulKPTm1oCook60gqwDf1KpyqlgWsq+wopwTxA1vphbzndWrNs3+39tskGZljx//NExFgZkWaoAM4elFueQm+4TAP//9aj7PujquZLxF+UVCgZetoZ5QSDMw/WDYB7uhonntMjy23DH3cHw4NQGseEEKDNTDrwUpjMS/h+yu+Lrsc5UQYsSf5VETH++2+s//NExEQS8Wq0AMPSlY50ayk/aFvG5msgSrerM//FYTtMjY1LQOAh1SzRngk0+DQvKQtogjDNXlX80/8f+/8urzl1qExzhVBjxAs/agcdRMcom0TOUu7JBNf+Jqiyj7t4//NExEsP8Wa8AMPKlcTQirQGCqfVGSst51o3LMhLAPtKL5cxesLOja53u8C1K/0tFbvCbsHdBic3DC3iZvocRXMK8BkBVcLg45m1M4rnStPd+m6KRlStiJpeSCDJVTke//NExF4QyWa8AMPGlTFUhooA0HIes2xukZVZysMKDC3BlxfOt5xs82vkbWwPWTBBQoSqZaeNwVhW6Sgz1aq1BIeKQvuEiZkxRezkhwouKGce+IsS4+yUk5XRBSUkmPES//NExG0SiWq4AMPGlIOovwZphGUwwnJ7rVoWdWrr+32IjVkYfQzDc4BHALpbcFYYsBLAVcZVtuSf4LBRnJAsiGWDARwCJKgQLMIPTNnmNqw0dWYS9TxS8DlRFdMkhuXP//NExHUSqWqoAMPGlNPrFebeL2Wr9tn9ly/fMRiShQ7mv+pb/iiPdCiwtC8AFXjqzsmHj6QxfxkLQCgAdEE1BGHF+FIgUGfJlpGG6TaLO0fquV1mFxzBr1nSY5mXw4zd//NExH0R+QKEANYMcVDCkBH//EX////t9rW/0f/lajEYNMVlE6KojDAQOXEkweOTC51DD4VAoUBAtwECORhcAPs1xv274NFa1bvfcKjxRzmafKpBQDGEok+vu/rGddfp//NExIgRkOpkANvGcEu6G0VUt/oqMoQ0Dp8zQ7gE5TP7SNplIycIhoSmXACYIAREDwwLgoBt8nNRRZdgk5adHkU4CIGFCd3sgkqJOCvidjAJL2UkySkDQqGApJWdaOy6//NExJQSEGZYAVwQAIchKGxcTV6v6jxmmXC4xKVruh+jU2XGKaqb0FLWqvv/ZBevdNMzqRLiCBh6+9f7LXXoX+s3TUybsSg9DRdsxfMEKgcDHYhllzdOgYeGADCIAaBj//NExJ4h+x5YAZxoAFdgV+25vGPQbTgKwFVMwUgFsJQmkukmQRhicXT5vMUDMyWg5dMRxJm49DBZKKegZ1oO5ddFJaC3qatdJ12VQRR0lXV/Ta3Vd2pVdBteg1dWtT00//NExGkhGw6YAZpoAVL009NbH13+rTTfMTiSbOyCk0EqXUfqSNIQGypwkejdpQwyDRRoV6CYOHAsgX2CoZ/Jc2eZay38RYe4kFpQs7uxeG4qSikfNuqo+f8sj92qTppO//NExDcYENKUAdpIAJ4mONZYWNWxUTGRR6W/Si5Pt9R0CmQgg45Lg9S0qkNORCTFhIelNTyqqm5KNmCTZmYG14EticCchrhipaucaFLFLMVTiPO0eK0MIBC4wQ0Ba18F//NExCkaWU6QANvMlIAOBoK9mnibk1SHe9IlIESKLPJAjqb58fP/lvpXb79u1OYUTKFHWSCy+/s/4ACAqB3nMXCh4Auc3Ulr0Lwi1zV1xmi8ImaMoZqhh40yuWob7+81//NExBIWYXqsAMJElRejU1WaLGuHio5UsvP/ebD59/UqKV//1+krPMqFdLVOgARfQRejPfmkEL//nniLh5cfzn2M//D4HU+5I7X/IPAIFSCPv0Y+RUywAheCJlUK7CX///NExAsUAxq4AEhGvP//5Ym///////////2GxyrA1sNCjMIsh1+QAUyPkzCmVFym7IidQEpohQ90rmIQhEVwiw1UUDYktgYKwG+HxYGUDqLgsseNf/////J+y411cx2K//NExA4RuxbAAAgKuVM1kSVRgwOKeYqnRmqLuQQFDC6HESymOIMhnUYYp2mEUOpyGONUziIgLDhBg6UOCIFFilYaLFONzv5kNov/+ZmJA+n////////////l/vn6kbiY//NExBoR2wLEAAhGucy55NY84GP6S022JbEZgpHRTNpcsHnHUKEQUjg0BoywdteMgdAxijJgoyhIHTWvMMAdgx3NjbjoJZmHAULFjb93NlsDdwQisEAFAXHrLBd1vFKa//NExCUSGIq4AHsGTGpnXFd9vllPUduYrInYd1P0HoNB31GGBokoKuBqwJPgzJB1Ss88Q0BWKlTbIlotdX4NTtNsLze1J+hrjBHujo5Mwm5WIGw/ezNv+a/w8Wvb+9vl//NExC8QwVK0AMvGlSRu4niHi0DOEUkMqiwEIHHA2rS7mNw2b0o0CJjJNEyHEewbAFg0sdxAFlUQQ3c2xlnotEEzBo1PHH3in1ItpzYi2TUdq9RXOKtFXhMF1e4dxMVW//NExD8QaUKoANYKcB1crV12jBD044hAxS4QUBUFUpDBAcEE6KiVzXoBjC5gSJ+GHOu02GmlAEConBa9Nvzzu8cccv7//vHm/0f/9VGMKIaMzUtm/Yz8KcDKAg6l+GDJ//NExFASWUqEAN4GlNTFiAKeIx8ecxua3yoAMLBhGYmqKZkIIoAsRNLIkyHFpZr7on9K9PZxRmKGVEdHKCMoIUHSIelf////01xgoJMHGRvtMJBy6iiqLMKqAodkrK3u//NExFkQeUJYANpEcKLAz4wuZqU8V1Qg5Z8iXD8CBcPpNoJBwUafEACDJcYNNsX72UdDF7MZcjN6U/9valUFdkIUPjlxCy0zOSC9U7lnvLgMOFwIKNA8jnRNU7rdxO3H//NExGoR0IJIANsMSCLMFYeEjvVxyC4wOEGZo5BgoyJRQ1h5CTw5Xv9SZqbaEFgBik5EZksFxXDm+bx3jjzn46zs75xFUv+0EayPlWiMyd+hlXcEyhaWYLGnaJ21wUq///NExHUPqXJMANDGlJxfdR79X02r0U1ZuEJhsDfYn/w+0zMUD/0ksUKf/mBIEoXRyDT4w49zdicOcZYkv3UMHWClAZAGYBByV/NMwLjDeTB5lIY5B/mibtysxHmUyUYK//NExIkP6SZAAVoQAK/9SG/cL8NhcHGcMjSTP/0LoX6FNIeBSKQLYYEgMAOQRskBzf//9N9Bvlh8ZBsShALyJsTCieJAoozCWyG8hLPXipwYsaionQY54CqI87L4GEFL//NExJwgeyqIAZhoAAKnSABtnrgNf7JIvK4hG1eSM/hTQHcC2LQAKwvw6TGMhZZzkQxvUzlTS6ZJoSgZJEWq+2lztEY8+O1u/Z/v0z8Vj+BA1BvNnMgYG2/97XaMDFgj//NExG0duWagAdp4AJZ6bQCW/9u7ui+nvP0f+61iuYJcDszzI7G7SocgaJNrHBUWaEDRiLy5vhRtpsJhQs7DMGBRJbzKxDCBmnbFRzCQDDr79MlpaqnM5TMAd2caQYKp//NExEkhsW6UANZelEWaStYCxmLAEcDU7XZ1uO55n1kixRo7ukBoOppLeeyHNqFoS9XCdiun74Onv//sSBA2hz2xUwVMGT///piJwoEOpqaPq3AhkbyJggASyrFQUawl//NExBUXoWakAM4YlHKBlCurL/jQqeujrKYMR4TheBTEFSkVKhJityZncdwFf3Tzuqk9bDGtC4Wa4LmoESqdrN00ct1nJzHI9fJ1mD3tgsp///+qz9S1xlYiCHYhqsHQ//NExAkU4VaYANPMlMYoeHDUcziog4M4QgDo41FNp8uxCksO8uwMYrAAoAyeCfAYj7VKmQ6fXrl699YvxC7VVN5YBWUOOS//mcbf/9yrIka3CQlMf//+hWTx8C6Ddogw//NExAgQoH54ANPeSDhcgCkKO4WGi1A/DsACinPB+MOEZZGh4C1kxF4bx9trfM+8evpbdSdEQNHv2+9z1bP////64nB/lP6lU0VjBD4/VQHLUERnGhrAT0GhbnBSiQtq//NExBgVwOaEANYGcA77X3FQ5k11FhAgNArlJJx4TLIYp6aV558pnsUJ+np+iIgtwMCO/qcKicp4uBAr////KOB9ZsezU+5jaFU3EZdAojFGvuoxJ+Cto4gBrgWRnHQL//NExBQSUVKYANZElNNMwjdUgJQijTDgvGNDxV0ZflnC8N0HP/v/rD+5/r+62TVzIVTB3+3f6EUjLCIFv////8QGFZbHB0BMvaGbwkyMFGnVyQsIkYykDPNCrHgK9Cx0//NExB0SeUqYANzKlJoMGgloUY1HSSUwLTLN2330H+tqGoHjOIizoTfV/uWoMZA06Z///9dLvi0XGrEbCgUdcur8WHMUl0SIKTqNgGW2iqQPDcAhqQVQTEgbQGPLisGz//NExCYSmVaQAN0KlBQJZBZVqQep6n36WbGagZ52q1TaatcQHwg7HAzA9///6nK+0jVW9/RhiPRMhYKYIZKZEw21kzRFGgRwFK2FdbohsxFXZtRiSLvO7S8ylVm/LeZa//NExC4SqUKEAN5EcH9DP83ytQUqGX9V9WKWokJA0BgqR/////OiZ5FCMKDDBB40uqNpOCgLMxWDlUYwcOU3MnAgwFY0pc/qaTUoKavDyHJg8HWNXO1RQUiAg7372rc6//NExDYSiHZYAVsQABSy/nhKWSRUe00//3/v9wiV9f/11TBjw1spMkCAWNGToIsjKHN6LD6eJq5KCQGl+jjAUATPys1J9QsBbSAywcNuJ1ukaG8AZuLjDVgGlI/6bBv4//NExD4hMypYAZugAOMg5Hil9Ku13zVZ9RTK+v/RzdNA0M1Ek36v/EKDsGwReykP9dlf/03LhcNEEEG1/Q//fe3+X1Fch5Jl8gZBwy2QYcAzY55xYnrbEjVYWV1eilrJ//NExAwSeNacAc94AGrd6zN0kB7DO4lw3n5Uk0ajlQZ6RmWPGeXxEgRImNUpSkSiGiz8bo73p0bxcccZLDX63o////RSH3pDimMSeH+phNFa0smZ2dimn/f+5eSaWMmC//NExBUSiN6gAHpecAEagoBElR4/Wl/AXDxiVCvSvldQa0Z3LOI5wJCcWS0iK2xOcV6/oKC70egWkqWLkF//+uzG1YbhwylowxMCBDLGknzAHDUHi8zasrvxe+pzrhIh//NExB0ZEVaYANPYlNQE5qE4WST56n0wdR5KRIo5VkgPhPGIoE4jIiLaWsQyOvBcnxEiJpZ2U3J2Z+33tNNpNlnWP/u/b/DX/PStI9n6A/d9/vq6VeR0+vfgckhussJM//NExAsUYVKkAMMWlKEioTmxrzsT3Tz0OqGWqMR3gewxqdqTw5KukpGHAyEEMieEhcKw6moCYeQQg1IAfzpratbfjbcnNvupQ3cbHHJUg89///6Fi6UqoEKAOIHaBhzc//NExAwRIOagAVhgARdRuTs34trGr9bH8tZdq41ncXW2vbJyeoQNgqFIDS4Ti8IQ/EkGpoOROZXXWon/8XIqbNCSkhQ3FRQIGBYS7ApX9YO+0MSFftvPlJY3b6DQgRXy//NExBoW4v6YAZg4AIJZ+ResiqmThufGqhKQdvrnnzBLIC8TDn88+TfOQHgyTIEP/99kPHjSgkGEB3///8eYbnxsWj4/X/////LlM+9RtfhJ+EnMCNKRRAPxolGZJuf5//NExBERsUKgAdhAAK5vn7/Pve7z004r+I0ogxgXlC4Nz7mbIUYaVF0tMlJXUPlyNHyeHQGn+yARqEZ3u/29HZ//raFOwqgv6CrlwFU4JJfRj0Sbha1yDaaEt462hLdr//NExB0Q6VqkAMoSlP+rLaCChGBgDgoWjN+X20FZXivNcwhHMQzqdys44PSTMRd2////SsXeJylOgHiwE0Xx4VYZk0SbWk3hMnpdFXbad3sc+o+7piaqBKIAsByH5nRh//NExCwSMU6gAMrYlHwtwrKM/bt5a/ppAr+D4JSzAgMG9oQFe53//9RipCEUnCIUA6MdBRsbsaQdGwGKwN+VrJOMxtRe2bNwv9SzKpQsEgdA+GjR5dqT1LTkleWtGMqz//NExDYROVacAMoSlO+X2zFI9LUtNURP///61aYhjFqlKinZsZPJAAfG8iQV9q3OS9KmM6LnK3nlurauaMWyRca0hUoCslDnuUWJKaXNOmVoX664301eV8a////0J/3O//NExEQSIU6UAMtWlP/vv1a1mCR1SghDDwnCEJbXzWaRzLwQ4BRjcO7RhX9uV2305wqWfa9EhCbRCsgAsnFkYeIG4rIFV82X/938//+fHaHGBb///+/////rphgUO8Up//NExE4SAT6YAMpScDiGhI6lYJnxJokMEnAfBizCZIsQ9nWNU5fVzcxPe9PXqoQn0cVSZQnMPLXEvDlzYmWPuOEEJLoAi3v///9Cr/2f/9a1n2AD6owEaBbkBQGKAS+c//NExFkSYOqcAMpYcAEWUmiPq2dKtSBhmPDTb9au+oi2pZPQ2keFCYiJYhmEJJPhkzNmee5To4r23SlfBgcXI////////6lKh0qEghSyIJDucYEFBAMULJCuEHKR1bfz//NExGISWO6cAMvScEqyAH9zTEsK89kL7Jat8j0wJQKXP9IyFd2IMUOES4fNcUDwWFnKQ9+w8QkkVaUZGAZuoeYpI4oIE0o8DJhYAphCckCrZKGMv8rFDyM9cQoEiBd0//NExGsRCN6YANYGcJFNm/1BNHTWNPS8lOxv2P1XShSUSDsmKGW41uhf////9arTdzZiIJEctm5KGBRMLAwVrFC5sGyNJd1ByChYbDRUA9U1BO4SBJeBujrwmXRTC/zE//NExHkRyPKYANYGcPy4RmvOG5bZfIu3bdxaBC/ogmcGJtOt/9qig0XxgAuaLjvMJhdMgsaXIWjNPauSBkqG7C3wZ4AC4XeCAgB2y+LnMRql8yOrMVd9qH8PfvL3s72b//NExIQSYRqUANYGcSUv8ssFQkKMdq////7NVZc6BxtIkCEU3wGjgx9cblEGyvAwIS/gEvqqJnJrFYS+EzqrJtS2rDFaaz5UJWoPOrVYtVmgIlGIBMYHgUEJu5Cf///9//NExI0SGUqUAMzGlGqkYyIKL9pegLRDpCJJhTGwS/gh/SAU/o9AWuIkARsNDHUBfwpQgAcwvjdNS8RNSmr1Uk/7zL8+f+ZyEdMs5vXKPcZI7Q9jdbTPDi2RiCjBlBvo//NExJcRGIKUAM5wSAIV5mZhGDT2/B0rqAgCui6hjIlGF/oQs0Vjir74SiW1sO4b/ePOZa3z9fzSZFJn35M+9ZnVi6zPRJKERhOCJK72////tSqSpKHfGzQx9I4gwEXI//NExKURmVqUANTGlScwjVHTNNNQFAIiCoCk0FgiiTKYJWQCBQrzOnnnYzJ5uk1vLL/w1vLvMv/H3KKb96XfP4tckPjPBSBkUYwp0QWAAOhU4j///9cHAIBJTpxoRCxv//NExLEUGWqQAM4GlAdrtMpFkJRjQmgKMMD4fR/RpZIHDMeOI8ITCJX4QSthcB0nLay/7szWFX7me+9w1fu3td130evmU23MVs5kv455qGZ6dVWx6hSR84j52ji3GAIl//NExLMVeWaIAM4GlDUiDjCTszgwUEEhUUUFmOtyWqicisZZ9MxMRYYhIQ1I/V5ClLAy1qrL2ltrVNY1UjKUowUSAiN5IGSJIKhI6PCQFCYaDoKA1LD1kGWf///lXLU5//NExLAXMYJ0AN5MlRzClw2602QIBNx5wJKgMRLrDSH+Uh5oEykNSS7LkpMmYHgyAwKg+KD6FELGiRoecU8WsAvF2BJo5n7miPi///RZ/u/29KpfpVMr5yaaBmbQfURK//NExKYUYNJkANPGcAxBO09AUVjFXZ2wURq9pMCBkBGg6ABE2AgoiWPM13dQoIqjwCRe7O09CR39e2l5KIn9fu28AwlT5UB8DHZ2U9lCsWtNITIyRzFMmqtbcqEZpIid//NExKcRiIIYANPSSKX3QE9K6t8HL3Hipcg089qmkLXPWclT2LNKv1XGaKKVsxZAmtisgAqVOvVZuqPqABY6BaByGElDaQg+CwueeeWTQtTHOru5iAgJBhASAM2PBZ4H//NExLMQuKH4AMGGTGi5sLEAAQYkX9ptpgIGGfx97Her60f+9v7NiVo/tALGi6jtops3cBgj8t0dCjF4uFRAXEYfSSJ6VEgHqdu5/GwsqefgdIUVSxxwE6lGlviGND3e//NExMMTANn0AHpGcGSW1LSo6kxOZDf/Q1goUFBQUVv//6lcwNQuUspXwxavSGtcpZeHgYPgYM1qEpR8DNkfAzbLiCddAFQjqtyxoU1l3ZhyjJEGmyElSImgwEYCJgEY//NExMoP6I3gAHoGTFahQkHQVKhIOgqVGB0Slhh4kp7//////9elbjqV4iW48Iirg6IirjxMqMPCVWUZAdRISYyLj4kFYADBKxEZGRkZEZX//dmdszOMMBD+ZFRUOGzJ//NExN0bqRnQANMMcZMmQIDn5oy7+/mNBoyZ0PUJjJo0g0bAbPpMGjmOEa5tjjACcEBM0R7aky/N24KZZE5+bnwDmkChIdJ6gj1Axa86QPUhVo6Y81HN0nJBcZIF2nTU//NExMER4HnMAMJGSIsTSi2ZNIGSuD6QtqQPqdISn4LTjGw+b9sg93h+xEOTa30xC9uidQ0Hpxh9EH10zFRzJC2wpAxW8mcQdikCe4xAtP89ZDO5OU95ij77k6QcHho4//NExMwQQN1kAEjEcPGlbe0rvwO/dCkgJBymt6GDBiEiCCyKRBAhwnHBggJzdpcPjwfD+Lh9AgtgBlliBAzUyP4XanakfRtR0jKHaBjN1OlGmgNACykMkNleuk7anLfN//NExN4iOwXQAMpMuUrbzRnCRSp3ocNlCok1YibFAgFKFwrDw2kyYB9Q6WZTJDpWUKgVxWoSrV4zhPWqJ4aZ01mJxyuPiCbYlA8zl6GuE6Q9oZ/eY6mdPzBFdsecjqj6//NExKgRoI3kAMJGTEpSQfuvNpsva8Vn9ndsMlnpnZ5e+2ftN+Plt80y8cjGI0jJ6i0xNJJ9eMvjd6gplyEggNXWed+kLCkhPSijMbMERMeAYGROgAqmFTanxRGkXToC//NExLQhEt3gAMpMuQzSPdscbssMPbFzRhSBQ3XHV+pnt1UMyJfL8R1RtxHJdmmfrHCLUkuNDD4HVsQzQxT3PNKtRVmb/eXGdZTQzn8t1u6dmbGWabpZTJTLd5HaYosn//NExIIRKInwAMGGTFIGRKpsg8hwYPixQmrxhyzZlXqmzZcOOlxxNdPznf17PNe7VaoC6DmLq/cU3VdwBkAxGDElODTZYhjYMRj3g8NIlTyRrEHkuFbkuFbvddalaVIU//NExJAYScnoAMJGleZqnzbTaEfqv//7z4IAgCAIAdo+JWEjQ5tWlYHBI6UEMLjnQ51hFGhBJM4y0at1LGIgNaVFiLDDQmNSpSft1qTsa61yVf+tSfxccWLAYgSd8XpM//NExIEQcHX0AHmGSMIpNwf5nsmnbL9FuIWs4i+ixKPIvKRmGKlUNIvGLt6WXjVJax66LlU2qosXS4eqi3TZocLX/uVLSVl61NS5FQjQBYHSXIXBUKB8aAmJXzWEjZRh//NExJIPYGX8AHjGKB0ubI9wBlFhzIDYoTgMHxRwsA5QJHEijlGWFCzpx0yck3TiRYvtpVk6OU01XVVOZ5z5/5NYMueuIACGiUMtbnPv/RysBnkyYsnzjIfWzLtPd03M//NExKcP2IH0AMGGSLiJMOLAAARTkSZUO6gQKOF8UBBs3g+OObOzxQXF8ocX6f35d4Pn/5DMKjGNAyRhTHyGPSl+DFFLIKxShxWqxyEQXD0HVAwaJ3BETjRgVxbWUTbK//NExLoSAInsAHpGTESc6TMYNsEqr0ZZCq1DD6kUjKM4zOSiXV2ACLGGEUcMt4QisNiwinAMR5hHO5XYlMWRVkMyNKfnxluhmUTOEbTILlnCfNKplmFZzUOWRZDk1OY1//NExMUSCO38AMGGcMJyXpqOPSRosYxR9DmLSU4ZNnrTwCgFBVEhnEgjDoSBkBEw0FQkBRKRDQVGgISh0JDB4CJHgqMliLQqM8ejnXf/V//9FUxBTUUzLjEwMFVVVVVV//NExM8f4pIAAMpGuVVVVVVVVVVVVVVVVVVVVVVVVVVVVVVVVVVVVVVVVVVVVVVVVVVVVVVVVVVVVVVVVVVVVVVVVVVVVVVVVVVVVVVVVVVVVVVVVVVVVVVVVVVVVVVV//NExKIQGG34AHsGKFVVVVVVVVVVVVVVVVVVVVVVVVVVVVVVVVVVVVVVVVVVVVVVVVVVVVVVVVVVVVVVVVVVVVVVVVVVVVVVVVVVVVVVVVVVVVVVVVVVVVVVVVVVVVVV//NExAAPwxn4AUIQAAAAJOBgYs//P/OQjfIc5/2yEIQjPznP///kb9jnOf//////////X/+chMhCEEAYGBgYGBgYGBgAAAAAAAAAhpa+5sqWHBR84QLF0/D7fQ1LKTLC//NExBQVKwI4AZsQARqvnt7BnUhT+qWOIbuk26qiuf+exDqpKf6vq7aIphf/nZXOzsjkq7p//nb/Q6GMpLdv3T/dioxSLaT3Rh22QqXqRQWV3IX/mGN+f///////b+38//NExBIXGyqoAYVQANmEc3/4/J7EBIXH48Ix0WxcUISv/6ElGPH5OOHuLBMVHCcRYgSMQYuAkG4o//88nJCRnJGcxj0bEkQApBvFQF4LsTRDhTheA1i01SX///////////NExAgS6t7IAcEoAf///pz2dqnqiqxjSI7IUjupnEylEBxBIzjh54vkD5HYa15yoKCxgU4lK6uNO4sLkUzOdA6kSMp2GMwiJIIOnWkYIATKI7U7Zz/mVja0W3+prvPT//NExA8WEpa8AAiMudnZu0hx0Qn/////7vv77XmOgp3rc/Z2KmpZM6FsxE9yVEpIlOxF7ReYokmijm1OWkiExoWVknUSinPVTslEqHZDcvJgaIVk/76q7dEIwcue+MWb//NExAkSwPK4AMGGcHHH8oQGnh6e3etH//QjLt4hnybmg5nzQqiK4cxAkIBt9LRQIiRY4IHgVbPRLIuKgIeIgN5ENKDqCwVO8KnWfp+r6rOBBGhhEWij3TzKzANaHqNC//NExBEWAWKwAMvSlIw2hkazpy2vUtdxq3LM0GB+5+CvQnwk7WpQhjBVQQpA8ORL+SwsyCodaLMyIiO4iSu1vhLoj2EI5gyfmWiNaJP//0lnBz3rs5Dgo9hYU7UovPEL//NExAwR4Vq4AMvSlKkJwWvz2abKYt5JvV14UP9x/efr/u0JfA7ikhKb9YOdMSbzuphj0RbtP5Z3vf295Luh+doOIjjP//6pOuddwppoogHU0TSz1PnracNHsQtxZFCV//NExBcSiWqwAMtWlBZURsWzyHkvmhvBgG5MIIECkSQy7Kgd3BFqBZDA9HIMbmDPUf7vNPHqs0XyCr1tP//9VNX7pAoO7ON2CBzzKDxiBckVpzNgjeE0eR15IvlVmssm//NExB8SiV60AMPWlLMXfbqcgTypAkDHsgrRD1WCUfgP8uFrbR/P3BfcV6d5TNj1FGxzIX///8gqwqkIgdOXVRUFiRme9fFN2z0gj/kbg3uDasxrSW0j9QSz5UJ1iUAc//NExCcSKVq4AMLSlAbXNUoiEMYqRMFSRtUdJ9le5vuWf+4TtzdSi3Imbb///137DKw9KR0gMHlMZAyqeWa25P9kFvaP+Hm/Dm8rR9rfxTWHS1KLObWXRctwBtrNlthb//NExDERqWa0AMvWlCfBrcVXx6q3H/wx1q3vS4O6H///10ruiVqVFWaCHT0OHtDbSwkjvsDvMV95N+8XUBhi3pPr3Nl4ySA+FJ6kf+I6exlbNK0ZefXHLvSrj3W4HQ0H//NExD0SCP6wAMPYcFjmv//1v7Wf2f/0Vfgco6ZmKPhiVM16/4/N+3/loGMX////////X/5K7/6NaeiSMdGQh3ahToRCc53ap6neHEM+6uRGOjLqcOLkOYhWO9TnDix6//NExEcRqxrAAHiEvbBRDzf///////9LKmyzjGzDXvLGfRD2NU1yhIxkFZxMmQNLrYseVJlCgqNDBAMKKBYXCdBSMmkjR4Ro1IDQ4fNEQoKBLB+QLCLh///////////0//NExFMSMxa4ABAOue0jukioWrIpnOhBNbUqKYTNKi1J1DipGD4MiVRrLFLRXsP6MWKOOHi6n0cE4dB0Li4kGOJxP2JAoQeOEj/jI38FJyvu/ILuBmSv//VTf/////c9//NExF0RQxq8AAgQvfc3E7VXPpa281yNh0irhULhLNaBxR1G4qMHSsOLSONuBUYNQepxUo6MqymMsyTbKqrCy0gcmULD0kkYSqY2kGjPkPLDkMknqZwQCIlKrE3tN2h3//NExGsVMxq4AAhQvMPdypKSuzKQ5c1KT788M/1mlzH8jc4hOv3M+oekLARJad8zQozZcjHFVVCnJRPGexjNS9soeh3zb/v1VWMK2N8FcFd4tFFfyqCJgkqcconPzp+7//NExGkXYq6sADGGua9mY+bLkU2kJIKmQQYQiCYATU2yrCeCC2Pt1KaTtJR2GdHU9Zoa2gwDU5D4ViTGT9MyezkEI0qnrw+Jm39/nd7KOG9QkprPmRMLFbboxBcWlJsP//NExF4XicaoAMJMlFXlsiATGeFE+/UaxWicurMMc19VRkgDkjqTbsSdabRwNbGYy2X9V03I/f+LrFKUpo3NTSuMLkEICoSQMGNSy2cl1/WoMhs3S6MVQRJUWt2/o/os//NExFIU+YqsAMPGlEfW/xkUcxVxhMN7bZ/v2d7qtCoGtPbBaw19kbWraq9NBwMTOoKv1mFN4EHVN437499Z3aSvgV0834+vOIRzz6QmOOFGBkyQVYv///66f8vyQtAE//NExFESoRLAAVh4AElynSzlAAnqr8t0oKnoIVIIQxoJIBXgspiSsksqZDqyESgIUccFimAbDZWYKpbLm0XAJnsNuwqeoZTM1JdVxlUZuSmpTZSOJxZ+pdH6Ju0ImJFQ//NExFkhmaawAZjAAEPQDEYrPT9DSz+b6z1HclVSNQ/Gp6aj/YzQarY/rX//2quuDJ35tam+ztod/TWVShISHXDmhG8eLMH0eDYDVisgo1cXQxlMPthL6QRqC1JY/gnm//NExCUSWR68Ac94AYbVBhsd6+7R/mn+q6+N7zu1/LAo3fEamK3xO08poEQmFYrbv6qzEhTzTo6Wpk8qDD0SOw9wzgPyofFk5p4Y0xunI9RJDEUISScnomJlvgdIlOlJ//NExC4RsUawAMPMcbzff+dq3y+VhqGHqOn5sVUz/2ySjtrBnpqbjgJ+DqKYYqcCCwZEydNMNVgMKl2dzPBJ6lIJdUpqVZXZYcwxoHGsECA5MmSJk+TspCCRBSUIopJI//NExDoRMO6gAMvMcRx2/1Tz9bMSJg+SrZlVQPgohkQMslorCHD0Uqd5E8hUgxCgihQYqjWRLrBZHJEojZGgfeRCSjoGxO4VkbB1eKxR2wz/3fu99w9ZSiAeDjGf///S//NExEgSIT6oAMpScJrCSljxsLSKLCsWzoJQNKTS6GrG1TflH0ntTy2X2rvj/5UiFRIRAkEyp4f8ekb6a84bfV7j6c9Uj689PB3aDCww7fT6nyZ///82isp1EIBh2zxA//NExFISYVqoAMJelIUDJKw4Br2Ls56iFDNR6kzVZ66hxoRD6CofOiD9+tO1hyvX+ZlKYLEMsn91vXrnFUwWHKo8YXcr///gQZ///7lVu0BKGCXJXLTFhSglqLqo5Pyb//NExFsSGVqsANFYlPWNbzM9n86062U9DTPR/E7WTQ9bHQZ5gtuHfeh6F5AEvxSqVD/I0ag1HJyEqD////dcj///1uX4wJowiXgQl1514TcIdS9P24ByX0u4e5f/A+W///NExGUR+V6sAMtWlH4dv76hovMM70t1OQ3SQONco7pottF+tnkTba+et/f5jLPsziv///XR1VTuAW6bx0jvan2S2V4DVNvwv3LaJtU//1wmrUQy90naCh8blWQ7alJU//NExHAReVa4AMvSlOXfqnhIN7COoDMOCs2IX64W5f5hkFDoPNog2Qj///4s5xkYeaflC0b3VZZ24QEfnMRcEE+P8WvCkK3beg4sqPRu21CqnOVlVObzThJuNIFaQB+W//NExH0SeV64AMPQlDGQgRsHxyjA9QfUuUyL/8TUi2o80Cpq5gSlcbdZQrOILqv6THopIBASzaEYMaCh1dlW7oSM8fMPLcANFleG1Fb09P4db28Dagg6FDqyAUipYfS9//NExIYSUVK8AMPQlfJ46EpNaQ5zznsVqSmhVVoBOjAlkVKLwnWMSbbKBW6JGzbU6V01nVOpGWukKclIDVSSxrNXz2sL1qTO2tTa/azDK1thcIOhEQf/ubFJwrE0qubJ//NExI8SiWa8AMPQlXKzdOA0LjSt5PQeWkvFuTWLg0VTdq9FV8K6NAZlTYkrrhKpqZWgpNIL2ntrP1o71mntge8Q6A0DTp4q46ZAyv//9/66tQGQZq4nFzOtLH1uXpcT//NExJcQWPrAAIvYcWMoUABorEyzYptJXYXGr0uHScIvSPGkE9J4ahhTfCoQNsHD7UT/0FUBoBTiv//QzpvXYp///1V1qwGaoIDXVfJb/W7r8xZABCFAs2hRIX1BzquG//NExKgRYQa0AMPYcMM/UjP6o5gEoJPTAZNdk11RcnabyJ0eLi71za3AKk1Q1jv//c32PJt//+thhd3CSoi3ZVkIi/UnyIpUGCBMM2zymSeNHXCUw3RMyaq1TYUmswIv//NExLURmPqkAMpMcEgy1JgysI5ITkI/iyFrFISb0b4JOAsNnlSzKMxHGZ7WeVLqI5Y4RDXIK5ZJJkOan////0zMcUG1Hzl6b2//XI3oVSrtQq9QN1JQmSmVGyZWkU+T//NExMER4PakAMJMcBtpsFcFRF6nWcLqbCk+X8XqabDZ8szrZzKnjuV0EcqpsLaPjnGwPis4IqPj2vIUdDiOjnTb+WfQ8dug9dVtz7OdU3//44i1yP///1X6hLhvKYUM//NExMwaGiKgANPOmNCkgIE02fJFwL8v5sjSwWeYW8xHN3Z9b2V9ta2Zk1OI4UsACAaJxQJnmHskyURUk5qVXik/DfufbuSaaGSUXyDZb///VJK1ZR+RglY0aW0YeeVs//NExLYW6XaoAMvYlMw0VHja73eY38+MRsXi5hxcS6pi8OmV9ubHAnMUV8fAkEUxsPsBgWoy9H735tYGa/XetNbXceXpWbu9NjXdUKfRZTLDuuQEADDPujwyYdJsUJpq//NExK0TKV60AMMSlLMVtgi1aMa3Ft236xXskejMulkXKQkyaVROVK6ZbQYtcb/+6/+uN5/z4NLQgTAQdd///0pDxdxswIMnJKYwYNOHikIi0qfTAoeq4S7LuVNfq8yy//NExLMSWVqwAMPYlf+a1mcta078vXWmLo8hSOIETAdlzz1EsV3/3h38GxVYbHjaQ8T3Y8XxCqIOUwXSl20+VFy+ey+jfmXdg5YlYSEijHa7Fg4BgA5wFBACUCZAAaUz//NExLwSaUakAMJecCCgADAfCCYE8Mg0hVR8If5RvpizHoxkWEt/W7G6mpJFwehkaHf+mbmluzEYYQbCw8bGi//9Naf60HRRU6bKM0jD//3UkggXG1MtNWyicdMzUulw//NExMUQYN54AVlgAaKRQPF47Wwzwo+PIIBwYxiYWmDQ4xxw35EyxgClzHhVdQDamIBaZ2ISCbmpbaeBVQjTVZunuWosgKg/Qj4MM5jfHrQTeqzxXkIYF0SRxXhNEe1o//NExNYiKyp8AZhoAHvpIkSlM+J6azbWM33DnpTv2OeVjc8S3//9cWz9QgLDX57xZBsWPrTTq/uff9VK1bFcsGicZSDJoiWUw6UL9P8vcF5pBFzlLhUGIGV5KGCTrsgo//NExKAfEZqQAdp4AAkL0g4eLRIIHo1gjLHSKSGUClr6t2e2ldqDsYJkUqTKWfJFNwS7FgOYyhDHI53cfFK1Y6vJa3x4yshM58YXlbmE4QtqSlJT7V//6rCxkMq9q5Tt//NExHYdQXKcANZelHJDCbG8m8nPTNGDkJMo6GkTslADKSyrfT5SNemEjXpYdlJOXsBWfL44gfImQuJZmXtl9WHZ/k1zpT0s3iYYMhUAA6CIwJ9ykm1Fpz+fqzVZYaac//NExFQYIWasAM4SlNNObB8UV///Sn60XpXV0lUXfrWw4Vu+hL3KACRimRCxbl5bLXLdInjzFePc1NJFHxQLQ/R1aHvCv+UK/K5+prOW3yd1l+sBedA31/Eqx/vix7Jd//NExEYU4XqwAMYSlKGspZvtG7tjr///2f61/FuROa1SqsxwXRnmSBe2Si1HiwBA0DAJg/u3li3UdWTnJghScPBahwLdv18V+MlsZpXRkBqHMCHdSCBRBF+5oGgLQg2L//NExEUR+Wq4AMPGlMcN0vtkA5VUZSwkMMlsIIXpXh/jpSJpOSnRzpsQg6sHOfxyFGT02S9H65tkHMCFi9c/Wecyv2Z2JtDIGACx6XewshqhsB6ihx/////orIBsOJEB//NExFASgWq8AHvGlCloNw4oJRToeXxbWhNSen68iM6VYT+YkPRx3H6my5G6/w14tXMTds/6rC028++5a8HggVB/LnoRNKiOMavrwEmwAdil2KrizmSrwlJCAzSCiTkc//NExFkQuW68AHvGlacnSuNw4leW5HEoGS+DRPocMB/SNa1I17Wx/868M+5btOXPZfK7B63X/N7o4kxW6lR2Va6qwUPB8nWHKsUQEKcpFqxJ1g6KtiVz9Ia9gPnhfVKZ//NExGkSiWqwAHvMlYQYd4YInRCSEi2nS8V14Oq1xCvXW94tlZ/C+rtgOqxjaqdLbCk3+2FJVU8RA2mnFxgIqeGsAICERuXzDEBeJiRC5Zc5rrsrqdpu9KwJmw6tOlZD//NExHERyWKgAMPGla1ZxZqBotLbORrKrGlZq1kMhWcYHREJHE2+n/yiJ0pOKh4JGBiCcaAphIpm0AQBgCZdHyaxftvyoDEonMaphxGAcR2joRI4oTDfMVTKq1M5+j/0//NExHwSaUZ0AN4KcZrqWCHOUSJuOu/t////aKo///RVMQCjJnI9RhEQ8cs7iEhIn1oSAlQALgTyJ2pwR13JMyqVww9z+2bW7ILDh1tVNy1lcpv9NarPS9uO/0+jbT32//NExIURSPpoAOPEcPmNSjJ+AzlkNFgT2msCX50YYJPTXDExBkIGAAcWOy7LJIUpC8OcfWVqg28nyLqdfXADALRBAAWPrXatyGEQHyGrx337PVTlczNybJ/69S38gjOs//NExJIQWGpcAVsQAIGT5c/7d+tCpBi+8n+r1P1KV+unPF83MC4aFy5cb+r231U9/5pMC4gVDM+V0EC+b12A4GDHRdAVqGkhOA/5bdvxE2azYiDuP5GUvoobQQkR0gIj//NExKMf+yZgAZuQAFNIUj50BVxMNR3kojLPLTEwNnGh09baWPsXWhqWsfWaucc9kKw+umxxdQ13vteb/j/uHweOw26jb/zce3jpr/t9cUcTY5R56XzEX8LONG8bZ3R1//NExHYhcxqUAZpYAd38Sx8R9/T4+n8UyE0bRpFfQXAjZUcywBBI0ZuxrOBwecgBAEKMHFk1I0xay/qMb/jICRBCwpMCFx3TtQy/4BCQ7FhcOcjtxpxw2xZyNEqRcbB4//NExEMfCiqIAdtAAfRel/dKdYurm2h4aRyT3/963Btx98939bfHv/XrM8O9djqIvSZ4ravhq85Xlr+DJseFxOexTzaoaiqGmEhSPASGy4KMDEGSGQKI0QQWjjfqyzSt//NExBkY0UqUANvGlDHTokrkhwCkeR2hUiWQZfRc0PYoES8fWq2iSS5ve3EAwpm55zz/QnpyZIpizGABAkSEG3QOkuv/91Iod4CQ5RUig0xKH6Wt4gXm6t1gskSNEU1m//NExAgUQIqwAMNSTKNYhcC6bD2SpNPMs1010wy0uUJkmeZhNi7VDzqHv/6BG4PghB8oJwICADAhzIIrD6z+IJSflHF3iwYn17ibb4IBguwH1g+RfhiKwaXJTCFl8bjH//NExAoVKw64AEhGuf///hD///////////n/t5mWxSZNDD0nDubmFsn5kCAHEcyruEWCHQOOTqVeQ2BnzLFizVBAU6LDCEFuyZCVIYDMOHBBA0A3QYwNJce9f////7////NExAgOqxrEAAgGvP5mhmikaSGffyM/rKPmdNGsoVSIV5AxREgTMs6FtUEDFMRBw6i66IbiQxMqKhiMHQ7DkqDrwWf/+wG0S/A/5f////////L755zt1VZ3IJRibTJ8//NExCASQw7AAAhGuRLCZjxsL5k3SCNRJucCsoaBVs6tVayNqoFU4QoKAqnYQMSKrrDWhahb3QwwBODHVc5+GQG2gMRfNHPT7tjIZ754OfBByDA9Y2GjG5/It9KXrAJ3//NExCoSIIK4AHpMSM9ncRWHcGjzSoaJNEp06tQNHkrO0TqVgq4tRh34Krrn0J2UJC63cMu12RDBh1La5uicT5XkQhUdiJeywxI0OYbi4KrckGvx84lxu+/97/eebz3W//NExDQSUU60AMPMlPitNtHU6/etPWjws1gZHl2f////cqqastzPdBoFIQlo2SVBsC/A6Z+nEQDSKUL5po8wkLgWdElYAxUXolssl/CNWu4Y/uta1v//DL+c91vnM02f//NExD0SkVaoAM4MlT3si2bX03JsFNvpUOXqzeswj0/A8IGGTHMzMcNMQBcEqkU9kGbxmo03gjx7CFGWIaTk1QH0GU+P5jZYW7eZZteW2cfGp8//2cbu6Ls1VsslP8zV//NExEUScUaAANPMcVgr5grGLPg4OMACTi8cFLLsGHhiFSbypVSM3oK8kehGUYpQuWCywaNK5OCK629//2W/+7DhrNjgqKsAsGNreczUkYKGWgZvZ///3//+mjB0RIgU//NExE4SIUpUANpGlA09Q4By+mkttXleNLDRacLhnP1BFEMaT0ubjPzrstmPSQrureHkDwdBIgHlMic4ZPxd1Xqos+n//0/27useijeixQeFABx2S5nrh2luZXd/rFFi//NExFgQ4PZIANmEcLRmcSCISEtJDQy86h0i7j5rXcNpWJVPeWPDDiIpF6LVZg9GTE1KBwe5qTqKDQ7/sd3Uut9XpjQoYxgOgoygdDAGJuzzPLLHfP/XMPxyy7rmi3tV//NExGcScVZMANDMlPNrSS/KbVUdKtnwulKta7Kjr08cjsYpiLGVNa7ap3TqFUv7df76KjV2cJdAPR3/lgbgdTD+wnWjK8lT5KDuDkkn5UShfIAjYXw8Nfy+gI2MG4X4//NExHAQ0XpAAVsQAJoK6J2Fd+fRN1l9xyj6OAnEEp/9DpnS4eQQJJv+m60/QHmZn5wzJUoP/+0l31NQQjzGIXCeWF5i+bmRKmv//puaGBonlw0Z0zfSNETBEwRPF6o0//NExH8gQyqQAY9oACaep2ConEtcFFlhhGUErBZpjRjqhvCYGZFwAwigOaSWfX42ZnaG6/HeVUTNjT6AwDowKWrN40ACa6X6X7EHbgaKxJlD8xp9Icr0rvyeWxyHI1LX//NExFEh0WqcAdrAANIcm4Yxt2KLPtLaqY0FjX2N5x+R1rMzbyoabDcosTj/9RY1FzDIDKmjSMaOSZG5vd/vzrp1ZWqzlMheZD+BVIFYrFu5qx8c8xCgSFWm6BqH5riE//NExBwZKWakANYYlGtWW3UR5ZgosvWkL7p2LeloXejjbsQnHb4WcqeT8yIeTQ3dTjcdXRWA5dkNvYOVsLWzT5gS9ggJTKx27RZHUMt///pDRqyumL3VtnhnUyiyyYeJ//NExAoT8VqsAM4SlIYBKoCCzuCyUUrtEcOtWVbnnQttH1h0VaVsQIWzXCnjlvPHn/LefM9/ybbImojZ7JjB+1P8v9PPf/Wl1J1MtLFHiH///6mjhlT5xaEUA7zmWEoC//NExA0VqWaUANvQlB0EDQCNFgXkYKsC6qICRCHKQ85xDzkBvC/ABoQUnT0fQmTG479tbxuv9re0J1U1qJpQUiILSbW3tarPztaMUK0xNMLMPd////9CSFBoAyFk5BEH//NExAkRkHZ0ANZwSAVb41JbIYVMcBqeTWAMMqK7HIq6LPk+mJDRX1eeJyCiuTQOg20stX3gydMiv+oKJ9KnCD////4ITX1OL/rqgpZ4WRDhFwiISQDg9tEiAKyeepRW//NExBUTWIaEAN5wSL9h+VX0hAM46pbsFvL3skpWz0cNxClxlFXo6yJzcMVlHE/8Pl4YuQukYe///X+uvYNQUz0qtFBZFZi8hONxVbU2YAmGUgbWlYTgip5p9TuKG4W6//NExBoRoVaYAN0ElAgEicSXAgiGTOk8Scuk2gkXm/TqU21R9GqIOpRf76fU8oQZIij///9z/jB5haWmeE152cl6hSCMnAnPTWOjQ2XSVR2nJgLLwNyGHgigBrIToS5G//NExCYSOVaUAN0KlI7k5FUpw3+s216+TGPgYyhMW+j0LpqKY8cgwVlP///Zf9UouzabxpdsqhBj6RQIh0EuzCpm/lCpLhmA9GI8UDbgAg0Q03H29AnnmD/7a++mpWg0//NExDARCVqYANUElHP0pf8rEBiSEMgg7n///9Yv+17lVXchwAl5us8ND6Jhhy2DjFcplBWWRfh+n8ohrgSIg2OisgAoAGhxqZkCpm6U3R3+r/avxIe5S/T/TVAMURuE//NExD4SCUqIAN0KlE////fOu/BUh/UqXeXCMWNc5IozEABMRlxNoMC5gAQmKxAChkjuYMBoKAsJbAYFAy9kEJggFqhTmeaR4WsIBCr4GS/ySYNHT3+pdxb////88hyK//NExEgR4HpoAVwYADMjM99AMhnzkWIzZTOMKh5DBIYaKMBwgGHUbHga7NQ87Ka4BsSJhO9CXYo0AKXq0DOvXYP9CELS+NbpjF8Z8R/H/xH+vnOLfHvjGqYzjdL43nGP//NExFMfyXpIAZt4AF9b7ziuJsG2wAJXnsOlyAJhQUMHBMEJ5DToIlilmSbBQqcCtwCsaH+6sLPLVSfhYKY6V6PANZRmbU4Fhgw4RoYjALIAtgQRwF9cQjC9o1B2Fw2B//NExCYY0dqUAY+QAL3EHDNlQDugP7FGJg67qmRo63JY1RKZP/stXWiql+667dBFSVlf9b1IP9j6i438n9pRP6L/ephh2wDqWLpVJ2CMtrcE2SQTsqyk1Hb9sq4TPPvD//NExBUVoO6YAcl4ADDRQ8gpFDKZ0IQxiWjvNFyQiSD05Bp6RdYj4iw45gWgmKtGODYMCrkKyNSmGAUJAONXVmK8YlX2J9G91i3rIp049aWuMpnOavCGXiLOGEEAl1rs//NExBEVQT6cAMpYcOxcxBUjbIydumM+ppEUxsVgZDgUB0CpiPosJsJJdQ2V5XXnGHqQ8nKdTp3ZmcpN7T/zuwMMB4EP1KDvLf7EvT/2/9nqn4MMKwvUhwNIN5AA4gnZ//NExA8U2U6oAMsQlLCNWNV5FmZlmFbAsVusrvXrkx7Q8eRHJSE8wAeI5dBuNxzJbBgUAwAAACgoBQIYu5rs7/1x6fcTVD1GnUQGjn///zv9CrLMAMdYUAmSjEQiZS0E//NExA4SSUqoAVhgAbQuVTxyfu2d2c5Va+t3VrFlF63LxNaye2FIgFs1BIqlVYgjqfCCgDyoWH2tXz5mcmbTnzWdrK2kLtFu1QBQNQGCcbpAq+DxRCRBq63QVSkEFfds//NExBcYWwqIAZk4ANLFz48mVEt0R0nD6qfUIQKiQw3cwueNCBgyTYw43ffiWcYoji/Hr6mt4kKeNyZhf//8cMdDFG5////8xkMtZ9v////8889zCaBtClV2tKGpNCAA//NExAgTaRKwAZgQAIRymokQ95dd1Nfew5+XnRrV9G9HeRmnQDA0RzsMgMoMxnFoEAQEoDS0FTwmOFMDvAAZHBJRVjqmvYAxwsXCs88td9Pv/12aYkBx5w0oCIIZVCcm//NExA0ScU6gAdlIALzKYdfCK4c+vvHLVn8+Ydhdy+b/82bChVCsaDYBCx5uTEIUjuUc9JMQJ1TkWXwfyBZM00QIaBQf///9H6WgQ7l/mZk58BAoESWlLFocZbjl5Fuy//NExBYRGVqkAMoSlC6Xe/ay1vX6uUkjhECoQguMjqNK5tyVXU+525oJNMqtLQ75JyKKh+cWNev///0KpiQsW0IBQWgrKc6yVw4jG2DaffHWm1RsNmp3tpbZbv5jSQs0//NExCQR+VKcAMrelESoNhoHC+xO3P4MCA5QL7/hfemGb7hTVpWFiedhpmKdT///05pBknwVIH6iIcI0Xyc4TqJwTr1fzOaerq881C2tNTXcH3G7jFo3F4bvB1MrPHbB//NExC8SqU6UAMrSlHxOf2t8U3Wxc/Pp4rNLEwD///6Uiv/f/sYxiUquoYRujiAQiyADYzgPQXWl/JwVXvPU1eT8vm5qGw3rOzksck4gcFrYpI9zeNX7jsWuAogsAgy7//NExDcQyO6YAMrYcIGCwqcZ///+d///9VWbJEgzFPY8RWdEW0AC2xMcDCH0PBmlf4sebzByzuvA4hUs/781bEszA+jHdpWdmJPZLdfdgXJ2m8NUIKjwILhcHQu4m3////NExEYSSO6YAMsYcP+n9CqWkqBeshBMcyVkzrMxBu2AGfDyBgERTokLPDpJd0/4eKnCIcCuCYRgH4nHkIwuSPEMVTU1OOzB2JeSukiGpUctDjDLf///////6E2yKhB7//NExE8SqOacAMsScLuyRpG8Fk7AjFKGKmPjFGkkdSMbg54ovHnZutCmlIN3LXsPSfawlmzVpUKETOkaQPSuphoqMFjAM4rI4jl+09KVoOX7lzvFvINkbwqEIV5EBBmG//NExFcSoTqUANYKcRmixQwcEOOhUYnA9K1Igl3GEa5GiRGAi6ibZHRaVB8dkFSj669ppZ9JkOTBcgH/tZV/1Uxle0dViBARCwhspsUkpMGDTpCyseOGCmmWBPsBj044//NExF8Q0IqYAM6wTTgdpitBBUieF7J7pirsijlSKJV+XtpzptcuZHPKpqft2UnnRBHlzciHLCoBHbUqiUVDOqwJmn4cLChVk6DJKXBJU5SMDjd4v3Ek6i9gUGZ5oOBE//NExG4SWUaUANYGcMD2bG98zdi1eRb7u3JR5/e92ve6ehgR2VkzTsDVi1n31pqUygD3vcWCBctnoRwxQkgT6dIpyTDStU3buLMFsxE0XcT4NEFH9yIw7OdethZzdqzb//NExHcRYUaUANYEcPvSuWu19p4IMPQkLCrwoIwsGP////rqxjYuKxaXjccaTWQsWUHttfADKbMNAhwnAQiBRCmADcSgXQvsOwgQ8JESNJpZ66L3b2y8znL353JgjoVh//NExIQR0RKUAM5EcBLHHCpjKBlS22d1vr4NTmCABCZIETYyFSPMXiEzCUQwFMwAh1W8rOlx3EtCBiYfw+pAnCMlr5Ytm/Ln5frv2e6s/r/z9J9t+965f8f51q0e3xhW//NExI8RmVaYAMxGlVg1iEWFc8lpecpxYL////1MQyearQp4nLEUmTBpIGm1ArEDCi9DUGDBn4QXjMbLQckggINh0tyZNJpiDhQh7NxExzVBHQX7Dz6QDCKel7Zxzyz1//NExJsXWXqIANZMlGqmudz3vJhKcmqjsavv9bbudTQpRXzFcTZZDEFjOIUyqUpugzipcVb///6rSY+ZWYFVJ19BkQZne4dlMMaNuEbobEQXUMsNtFuGdprq2BhRoJH6//NExJAbAYKAAN5SlIA8sDGMOgdTzius4rpR6P1b3a35U+71/V79fhlqrSwi5eNsK1mh9y9Rki7VY1FcpDRIUDCcESZeILD5izZj///oUmtFNVsmAsouADhuYuUICDEQ//NExHcaGY54ANZMlGFQAkD5cYGHAoCWDV6sCqVFkxkUtVijFCw6CY67roy+IwLnzWXdY/ut3+b5l3xNJQJkOT6SlkszBGxnO0BIGREgqrsyqqhhSZ/VFCpzPJ+rZuEY//NExGEV4Yp0AN4GlZKTFmCIeW1cgL01RXimJSXFwZlKfIR0mrFPmLChvsxREBUpaHWnjwKkQkCvVs6wFLB0FS1eIXcspDAlDMS+yXUuf7do8C1FcPhSOInhJ2vLW+ee//NExFwQOHpgANPeSGlTEQVSOYeDQoeebKisVET2yoCaRtc56wCVXtrYnp3rATNB6xm50s963Ut+7VUUpC8VgaqCP7a5HCSC90MrB0BI6goYHC45iViYBisBXxgXuUtW//NExG4SGJYAAMmMTMs3X6Rq6+QigsamlE1Psios+w6bkwAfSZFnC8awBrNLYhqFIskTaN96dIXNExkogXSQYJqKDAYsbJipJoFUNFBQFzx9pQssXhgo6QMs2Pie6sPg//NExHgR4HH8AGGGSAV+3uX7TdC0j2xcHxd/cQA4PjyZpGkYcFEylVjaNLI/FgJGy+ZQ6IDofDIELlzAuNJBRJBLFwmYFAMDQ5EUNs0+O3qSscRBoKEhpIa2Ov1t2gqA//NExIMSMF34AHpGKFj7e0ax/7tWpgNA0iRC5NIkA4DBxI40iInkhKIiScqRK+QIki2dIkiCf/rKgIedPCIqAh546RKrc/ztS3Hg0SLLGHjx1mqMU86RKrGBU6QLFRi6//NExI0RaEn0AMGGJAYoRQeSHIGc0JR4edaQSkjdHI0zBGdptVX9VX1Vf2j+0/2lXk6vBy3rLeo/1Xer//3+VfwM+gM+GJ9GZ67vfVblV+VXppvTTyuGxEHciDqRFQ4C//NExJoRoDHsAHmMAPCpFvHrQZyEEOAoAQGhp77loODhazCCHMDFYPicPggc4nk+r8hf6VOaXU5vLqOEOwufBBTtc+Ud0y9VW+14gcHlTYyDQBzknTr1UIeGJ3aNCdM7//NExKYUGFXsAHpMJVaNHDNEECxnYmR4NHwbmPZe+Py4jpZ8CfzP9+CRw8Rxn/9IjHiB3Wv/iN4gdtIzw8i/U3+jfwwfAiM8Mf/n6YzvYf8CPgwqJJqILwWbfe6tD9V6//NExKgQoHHgAHoMSOU2bNNeCT/Jln6jGqop8rUnV3cqn/qdcrylaTGq7QMdVGMm79NuNVJmwvZt2voWcKmc+OrjlTEUX1znbTsO806oNdY33NY/pe3Pd/2dr+0aYWdY//NExLgWCKXsAHsGTdtOc5r8Dyt4QoZMEhhAHijrTD2Wfd6oIBAg603T35Sm3VY1i1Z5tO90SpjzrkEal2sYparWe7TN3FHCCD6wuJAwCAQDCgdtDRoCISpCSv1+mRsx//NExLIWqWnwAMGGlYS/rnsnoX0eCQS0cDBxGrI+v0KZOuwQMIV0Cmr61sFr28UhG24ancvGvLcgt3SX3N+yiznbh1f1vec8z3rfVdq1nn6+N63Gr5Ws5v11NztlqfKW//NExKoSGHHgAMJMSMWb6RU1nbhyT8kvSyLdFWnnPySTsS2zUWwJlMun1LcKK6oRBNBwgL+KZKbSJ9XJHGgFGqlGCJHDgEkWRIuajgdQIQkDRUNAqMPajwlGBpX///////NExLQgoxHUANJMuZWHSrvJFjwlGndR0RDwVKnSPDpU6DMXBUlvAOI5+7gYAhc+JwcBAEAQDHlwfeJz+sH3lHZQ5wxnCjogUclDkuo5Lvy7+H/B/BwufOA+cPggXD0o//NExIQRuH3cAMGMSHPEGTVDCiEYHSAkv+sMw6ApbPv65LszMsnZmZq2n8Qk+0Ukjikkl0VOFUncFAyKu5qKDVHc0iqHLrXlTVZqS5RyktNS2UcpLkSWzNEqkjTyxIl5//NExJAQmC3oAHsGAMlHkiXmTiM0SqZ5xuNVa/Y0ipiS3RgFAKJxKwUJgAhOEkjQCRiZqtmZmt/aqedecpLZR2UfWuiDVQQ42zVoUwbaAWhL1lE7FH3gqRQkvqAQh77O//NExKAhSxXYAMGMuSOGrQvWVcjUla0XqwpuradHoIGr1xg1Mlgz7QKdBSHmNDN4ZPxge8APQIS7BciEkzNTVICpqBCy4rma0Ytc9CrMdpqapQaoiMgFdRypE7Msf5kL//NExG0XoW3kAMJGlB8hZWaVZVZWaUSGNWBiY1EiIRCUBCUAgICgICgUYPGBQeMHuc86eOnWHbGsskpVH9X+tR6xbwEsAfjHRBkPbErIW0pxQagMDzbRtzR6gFBPSBil//NExGEQIInMAMJGTBAgsKAgSYuK26ICdJBFG9QgDBPqiCCBAwmKGILismT3IiCAAIREE09diBCPj3sR3t9/bPd57v8xCLu9aMeyCGds93EQ97Eds7QQIEI//iI/93d3//NExHMgAvHgAHpMuHdx/4iO13bRDnhc/h94QYU2PAUVqxlwWWsyWLLJdHXJoo1LrUxSwTFQyKUOZLalZCS0qKWBUuhVgiWJkU4IoiINKskRqtQxcQmZocNMCtecYsjF//NExEYgMpXoAMJMuVMS1FtIybczn5yTInWqp5uNs0bCT1+yVU7L5HK8yx090c/n1RxLe+VM988nUajSbiXKLF/9W6i/sJ4tDA0PVgoIEDRyMplUjs///2MUSGjSPYwi//NExBgSqgF4ABlEmBIIhYgLiHZ/9yoit9EX/2cpgoIEHI+YoIEpHZ/9ymBgyB41/pCQuRxUWJGgqKEsWFdQukxBTUUzLjEwMKqqqqqqqqqqqqqqqqqqqqqqqqqqqqqq//NExAAQ4xn4AUIQAAAAIynOc5Cfzv/IT+f+5CZCEIQ5/7f//kIQhCN/q5G///////9CEb/8hCNqchCEIQhCAYGBgYGBgYGBgAAAAAAAAAhllrtmqo4kJH2gAsZW4feZ//NExA8VYkY4AZsQAPbt/LCNXc6c9g047HdMz0FkU/yZlO50b81WszEev870oyBjPdf+9r0K1CFmZF//VCIyuq6DhB4qEWslYqjXlDgcumnkwXj1JBd7//////////9v//NExAwU6yqwAYU4AP/mzD5v/MjcnYcIFxuNCouEsTFFK//oQox43Jljy4sOUYLiWEI+FxMAgmHf/+eeQIM5BnMY9GxSIgeDsaAuB+LRLCcSAdiUYiX///////////////NExAsTiwbMAcEoAeeztU8rKrGNIhmQpB7qZxMpQ4zCSOOFjqL5A+Q7DWj5yoKCyAU5pXVxMXcWFyKZnOQOpGGU7DGYREkELnMyFZCDAJHVYfPZ/8oRSOTr/N7nL7r4//NExA8V4vbEAAhMuQ2Rf8////73vd/XmGUp3bc/KtinZ2HlQHMgSe5I4U5pV8i+ovMUcsib9qZscobFjysw7To1yaqdqmHa8ymT2mY1zLypzreYPwX6N8Q847wGSGnG//NExAoUImLAAHiEuEY95+qdKV3ZS2z91RN73borfRTRjK9P5pmLZ7GNKzoej1l0FFqFIZ1QzhpX7ZgpWQzyxSKJp3oDEuxpbKoIiW9Tyyk8KHql5NsBODJMKFihhZ1f//NExAwVQVqwAMvSlLDJp2jwUu3GvBV7lmzXq1XK9k5vTYy4kUEXk/OprbRb2KdscbSFE4kDPVDZiQjF0MEF4UZa7H9wzJIJHTz+QYeOf//6Fm0DOiu9u4Z785ogab6j//NExAoSMVK0AMvYlI4dDz5/Yx8hi78C3y+31fF7Y91l9rw0bFXAxDKjrto1Kb7KTvYLK3Q7ztcm0FrbHM33mKrambtuVLPf///LLeXHpBFEzQDrjiPMg0YM8a3BlE5E//NExBQRyVqwAMtOlDOmX8rfIC1DM2QWWM55YxgVZ+CSGsaxtgvRxMLEE4HYnb4offJVKi6aJSKVf///3Lcj9Kr9tgMB2kxU5ShrF9zzIealYfj0QzfqD+v7fr5Vf8Kb//NExB8RuUq0AMvWlN4mWwSQ4rD4R95FS3RNpJZNbimPqJLd9+hez4lsppPNzUNCZf///xnDBkZ7kPnESo/Bb5FWMiXzqrk/n9Ew1IHWWb9czdrcvhS/ruuTMU9GsBOj//NExCsSqVKwAMvalHXTqTxXPqC8JuJ4N0nnPzWo30s6UqyUZh8PE///+9VCs0zAQPg8saMIRcbmliVCK7cYDpYz6Mfh5yRyGGslUKyLZRPrF8IemYAN1mHWSKAujiuF//NExDMSmVKwAMxalO3OB+U6JG+tqzbXy2olayTcT///9Vn9VcrqshVDUoS6VDeLD6OyxkOt1R8vtYgf9y8B7W7GW1BsmCWGQ/DeCwgkh3ltIB5LBsHSkmVSxBWq/2zd//NExDsRoUK8AMPWcH/0lFJETpAU///+pfxZ8Lul0RHkx1gBKZzowlRCtitmAjM4pftFPCaZOgIAwXMLAihYGwRVLKrpKizjUUaJzL0/Df//fq8z/yu8fUk1QGY///+h//NExEcRsVK4AMJSlOVE9B66ZLdjxrwAi4DEviYooFmAqLQ0PjaU7jKvMRyISaZrF5RJMl2FUBcKqUx5sjuaaDyg+EYV3p4mq//nqP4HqNoSAyS////UksEFhYDmVUxj//NExFMSeUKoAMvQcDGgLgnBEhAJgIZUjLwbo2tRoHIXIRwR1KF+U5krsQ1Zyy4tCv/jddW//5lKFEsh3Kqf/80zy4Y9/////p///ophzJTUjk0zKozziFpCo8KiioPM//NExFwSIVKUANPElEkzmCQMESHfWXK6a2F8HeWFRPzprqEy6ArrPJIxwlrhxC9J1gsF0qc9H///Rd1xAJTJnp/q6YdggyhzByEYUgmQHymhn2YboAocSfIeRCjAOwlY//NExGYSQHZ8ANaeSIQUrmohcNQ+0dOwVzPoMCf/7OdQ2/SsSrL0I///6Uv8cWFwfDjGf2tTZoVAIMLJIYwoLjigFIgKZ1JhpoGmEg0AmyoYBCcYgALgAQcJ1wOAXHgW//NExHAReHJ8AN5eSAQwqAsmINicfK5y///p6naIj+v8iAmKUwIrEyf/////+lSKRremsrmEwaFxUc9FO5iPQtPSZTFhwGKuwHSHtNY6TJQMwsIMPBVZjdfTwVMNkskR//NExH0XKm58AOKEuAZBTPf2GrGp/6uf4c9///7TEQ7um1f+iFODBIHgcMK///1lxckhZ14oIjaw/bR0/qqlfozBAJgcLlBm6iGAQJNDiSMkAQSOJYCADAxpBANAgwUp//NExHMUIUaEAN5EcAJyCiIWkDTGNRrf/9fqh7sf///ZzpO3//////9c+0336q6BzlFdNZ1hBjLEGJDOjK3hOEEiZ14EhamCPomEL0zHGSXtiPCcJrIDuyRq89/1LsUj//NExHUSGmaQANnEuPzJILBYf///6nF/ve0RD2V+hXnh0wtFIoBJcG06XY4EnCLhhYGwQwIHb5TEeIJHAaQY6BNTQ6RXRLpuo+ylv//+2tJSFf//aroRpf///////o+O//NExH8PYIKQAN4aSKn30x3BLJu/oYYfUdkxqIX+Y4liWmggNRUCbKYcMikjhwChgfU8BBQrBEQ6Un2IR5QTOnkqX2+9fPRnBLX//XY6mQoJBX///lWhQHneVWEAYAw5//NExJQScmKQANtEuGu/yialtvqI7cehUEBjyEAuYkATA5Uz8EVKmExWhgNSNAwwMTBSpG+rMKinKPKbnsPzdd3EEL2YqiZmCjsJPNe6twiE4DAvp///pFn/jEbvf7ls//NExJ0ToVKMANyElKl125Gm1mAFzBraisRZM2ysuxmJNh/OMwCo8xbqbwYZNYupDiMtyEKqWRku81jP9rRPWnzDhsuk399WxZfo09f//s/UK/n+mQ1qcVpQ4CHODyuR//NExKETsOKIAN4KcBD5jRI/YWAjJgBisVAIzEwGrPxFQnJhMuIVjgo0hEQXgcDDZcEydJPmJo0a4rI29Uh9z+omKOkws8n///9H//pzJT+ihpuJYcHcerwUVNBTKB0F//NExKUSGL6MANYeTCmabEHnY+Y0H/sqVemKu7Jxc6X3snda9ssJMmCKSokjAX0I2TuY8qYaWSO3s8O/9PrM8CJPAgY3SLHUCgfwHghE3//+ZJkAgcNuQyqwMFenh9B3//NExK8TMNaUANpScKhoYQwCVdUiww2vKX0wIWh47kEgFgmzuU/1LGp11rwXP6Ztd655guFPBj4ci8MiKG+hhulKI2xsLRqkRLw2FsxXWKtrND2sxsP2fLadCgdHSdbH//NExLUZyUaYANMecApbp///5hZ0ya0TK2TqfZsvHJhkuhSM6eE5QkxxFVwmS9VwMVufhrvQQvTMvNOBHnVNvctql3QJ5lhSA/sqBGI2V6H6GBjMBY1lJ2ykS8fB1V1D//NExKAYuVKcANvelGnWB69UaxVy0SDiX//+9ZwhTqlZD9Fy5OZn10XWMuPChl2I6uCNcWbkaQY4lfP/cy/0n/h7+2z+ix8t/+XDNyY7eMoqu3h1JS8JL+5/0ODEIMzK//NExJAWKVKcANrelKmJuLVSg5q6JsphKDc6P4eqQ062//////9fPOIvy1n/yq+hpZpmJ1OTMkGHghbNeY3kEYSuhl8NTp7EBCIlGC1KM0eGzvX6fxDVkVQJwnCqL+eQ//NExIoWchqkANPamPSzPCpCk8WmSEeNLyWdMwn7u0hWuVTNUrH9Lw2dPl7K4+YhaZ///yTQqMXDNDwCFnJWiXZlKVIICg6g2JWlIQMQJxPyCyqcy3FjaXGOp2ZXqNOW//NExIMWoVqsAMvYlIxwSuixlxa1edLDZ87jiA6RA6NIkzhqzg3/7RuINvfIlBrJ4q4U4If//+vDyAyurbVWpVWltOkSwbcnLQzFILuGGQ54nbKMuapP9DjiZi/qUlZ5//NExHsUwWK4AMPMlA+R3qImSmU80dzYZaavOJLxPFGl4DkQlMYEqv/m1Dv+zaQKSTw346HXzq0EWi5KByyYu1ycUhy1L4HCXkkYpT5cty4P14hC4QRc1lVivoQhiJY4//NExHsUeWK8AMPMlX3NzrfdcZ0UXOW9KVSIS4Yag3yTMn//5fzvbo30ddPU1cSgu51wJWpvupS/TmAcUMTJ8YAsTskD5rKaMdjNQ8J0yXJpIApmo5LN8a8C3371hHD///NExHwSSXLEAHvMlNfM7jyJAJ4r9KWnK/9RXS57VFdIuc2l1YB0aTYU/N2PKXnBRNMEWGyKXUWO0SqzMLUjnRtYKwUrCMHEiF5UseNP8XwpkL04phAOgIwCm2ohlnC0//NExIUSIW7AAHvMldj3UKCYcYMpZcZk2gZIzBCK3HpdMOFNgkESwGxskHFEck2Ba6utxy7hzT6zNiwdMClw8htRKrprJSayRq1J+OVdNFjw2EjTRKsFQWET2K///R+h//NExI8RIXK8AHvGlZU9ZwErrY0g/F4y51WKRtw4TCInRosal1n/dS3aaiaqSRsjSkcTBkE7uIMwrk2t5au8ojDAB3mlGBabe+xj//7v+iihdIc6eL0ZJipB0rttntYe//NExJ0ScRasAMMScImQwGX827flfoZ0Pnv45ckxEAikUUcpLUTj5DoWioCQvUGA2NDgPAQ65H//9R31qq0wF+D3LRCBTisns2eYEsYbfjaBi2CDc4v8/vrus/5x8D5s//NExKYQwRKgAMpMcAcQH4B+uCwQeMC3VP2qbpBtt5hvaR76/h/Drx1R1qO5so05//+fUl/3f/+qzxXWTdzQFqemxG2WR8JX+Eb02Lvw0durl6T5b9dr1h78vvdN9ELn//NExLYPyPKoAMmMcEf4vrApOpj2EsPMEh5snfLs7F7b0zXf7X64zrceU3sdkM///0SX6LlCK7SBvhYs/GDEa8o6BmV84t2xHdrjYUk+X37h7xvAjeH8ODNKbzm8Jgjn//NExMkTsWasAMLSlII7hwFLJLlszUrDGt8mjut0mj07OVm6E9di1HvKq///7V3KnCmVJ0g660k4SF6ysTbOVe6SVu2bxD8s33N4t+5fFuuI2z3cZhpPWEIcxJgiZVyg//NExM0TgW6wAMPYlLCphxUdGvNrH8uqwre3+8Q5qrisVutaLUt///1qr1hAwaczwzDZaSyA1oQWAp80lN+K+9awo24NaVri265+K4fRtNryDtmOUKkEwEICo8AeIdIb//NExNITaV6wAMPYlI/TuW8X17eG98mrYfya0eV///9NeshEVUhQRkyX8AkwP1HNCUwhmzlSelvdpaamta7/48t619rWti27Yu6Yn+0kqhbSZEuTqKOplktfVv/86//+//NExNcTWWKsAMPelHf/+6xREWAst1IsHcIDLUVAKxYaQjJysCPvHhkdInNDry3i4aRrBcCFp5mITEOGbFzk+LnGTWIkCMGJ4UYMaDjSTM4jgbxDSeJwOMFaBx5Dh2Jq//NExNwSaVakAMPWlNU2IebqKcmUVKPJbp9pgpbmaKai8arM/ZuouEVLxOlp3UYpDInCXPuir/9BlLoKahUepuzq1f29q35o5hQMUFmS2QP6SKnniYWXEziBu1WIu6SR//NExOUSKUJ0AVh4AETVNnMcqAylYQxqEzwcLkDCtzjp2dF5EaIHVXatG052h3lKG9htMdNHeBnVRsAHBkivgQ0mTwOOOcJcHGEo2+EZa6jE4YYZO1bZjfLtVx4Gv94h//NExO8lyyqAAZiIAFN43m+6PIt77pE3DV8ajzRhqiKpX/+scIz3oWfen/r/0reJAZGs8wKmiYxVEBt/a4iOnBJRNWQBiQJMo0WXhQPvypAyy/okBOtJL1v8u4BMNoW6//NExKod+WqUAdp4AHgmGlMroWsvpKJVDFi4h79hOR4cxbEQN4c5O1lHMl72w3v3r55PamG9+9XR+OaqXD9wgyN78JhcGLf//wJ7FvEN+4Qqk41OSjMzyVRDk4shxCYG//NExIUcqWagANZelKLPjPVt65fd16dFSxMJf5TbE3km1qp9zCCNpl9VWxlHnXzlL8YZUX1e6y2Novq4QuLByBEd3aX1CpxzHStKxH9054vSmCw6O17Nn9Hf//7BRcbh//NExGUYoXKoAM4YlFEsixhorHbnFDt4gEMgpgJwedHQz9EaZdmCrNMoTkkYINM2iau5W3dl6P8Te0fUTedeKTA8RLGBTvsWL1f5uiJkh0Ux3Efs9fgHqDwmKNCsvxaY//NExFUSYXK0AMPQlI1jolN8CNGbBzKpTnFmxnuKkOJ6/EfPFQE4Q6PNGxEfYpnWbWI+Ku0RxKEBDWIooW1b5m7KyODzSy7VUZSpHqds/MNAltpRdzX0VCixhhHlKh6V//NExF4ROVq8AHvGlaJEnySOg8joL6aRey6R00/ZbwpPGrq+fi312yfWx514rZqwhHF4/77Jmujsmeh+WtWsgDDBHeBGjEYhLsTo0hFBMSUC4u0NLiqECZS2gztWiws4//NExGwSeXK4AMPMlL8SUbJ+IJiguoXgbiy6385q0ZIUYtTCnAE88UNU6WR4rCCoDUGNTbWrEwXp+i2LjMwQVbuXFXykGGBawpcaSSDmZCbMxbCxC3ktL4MkhShLceSh//NExHUSYV60AHvGlXsF7Fg6ktu1s5/xVKWLGu2uw5LhRPnlt4qmQIV2BcmNkCCa8SF/zk1IHAIiWSECC4oyhPtub2SViLXHWX2isz4kCpEhIhcpSvWBpU5UppcLVUKK//NExH4ScVqkAMPGlT8yKa2Ma5UGSC1AWa5Ed///ZqJGQr7VBQKBgNOaCcwwOTmgnMRA0wGUlhTCogZKFger0RwZx2FxZBwpAK5XgEJJXtFc2tat1fXpTete2aZymDHD//NExIcSkUZ4AN4GcQMtT9M71f/9X/o7f//6VTCBoxSaM8sQEXGj2JjpCIlEv0AQseC5AUASqyhUUa/KYvFpFfi09kWPCAOD6tDKHRdIoS+uL5Hv17/MW/Qjymz/2fZu//NExI8SkO5gAOPEcLNCMM1DIn4x9oMcNSwFk4AYYBF3zHg9mYQjA4jidO/VIVgKEg46iLlw8AewxMBIehuIBizBcAhf6kGuM0NAghIid/1Ld1TNEmBjCqh1/Q8ghZJ8//NExJcRaGJYAVsAAIoanyl//+To4yKHk3MyfM///v+blw2MBzBppqTUxn//+rbb+M2T5dLCJRKBTLpseNSbJ+q0ro1/0SFhYcdRFOgwuDpaEomIQwvuxkz1zlg2R4Co//NExKQhEypoAZuIADEgdhzXAi1UEhCLLB5ibMFc8OSCjSTVNOQ0PijZqIpzkp5le1ZolH+bi0q/7vfZquGsd9X132nP/XNTevVj12GU7yrfxHVwnlcJcxc1G8I91F98//NExHIe+t6IAdpAAcXcMQN23YDNmhPF8zWOBokSigK7UkOrDmjV4lrmKJFUWO4Y6vBnLZfQOhK2ZWIYoLPYUSbA//tDl4Zq70UDh4j4GjaROKhkx70O/90n73qKNsrt//NExEkUqN6UANPGcJnUpXU1Diwid1KJraAOIZgAKyBeIcpQI0OCCFNwQgJn/keFKpzHk5odgoEmXE5SwS8XlTJBw1/vvD9/fd71b7jWxzr0mr9FSUc7hOZ653vd//95//NExEkeqlqMAN4KucRmuSWInMEwAHOjOR3erdGIird//19JdrnYrnKybGouPUPcZIMiUyUpSst4HJyHd7/trSUAuLi6UlCLwguhFSv1hvH92ZhJxwkpQHyBGLRMJ7mn//NExCEZEu6oAMHGuU550059aqxrU////8nyzsG0LdNxbuOivFamrugQolnHiABITv/E4Wii55OCF76ACIRHuf8fNK2ek02LTcw7CL0Aj4bVPFISjwlCZjjNm///f/////NExA8VYxq0ADhMvf//////++pnGqUXhkmZvF9mmDnbm02lTB2q8ncw2Vp+dcl0NEGLY3D8s+LKhoxCEHT14spPPHQ/TxGeB3eoASix8XpNFPKVJk73/3///+/f//ef//NExAwSIxq8AAgMvVtZbO0c5zuZjwjsIG0o9DWovGhj1XEj6bX3eglRk5BIqm0x40rA8RIc7KIEWQlNRQtRbkhgyiBG9NsGsNVylzVDuV5z+gAx5+WZ1y//8L////////NExBYRmv7AAAhGuP//60ubXcKZGeauxbUkLDGmzFWJjJoSmzrRIIyYnJjNqAmdPea8pepH3tygUOhZMgrGu2AwGDgUMqXIwSEZ4h5xv1er49yAkQEAoYgKGExGfZwm//NExCIQ0IK4AMPSSIYdDCkm2lWwwpxd5MXP0FDgjeuz/X/BV3tsv9OsNf+DRWrHV0022C1qYOPvPqDYTLAZNNJgM1iZsbK8I0YsGAMdWn8aIxmZ8wRvmuswM6zv/Gv7//NExDEScWK0AMvMlJ8NvLr4hWRMutHtH57VAZZxUtq+O///96KtUoQPwlmwBWEFRaLLjaKF8MsmdGxQICYPm3vLItNaWSoFhUcwitA2OWOt813XP/H//H/P/r+Eta5Y//NExDoRyUqkAM4Mler0CkeyWfJcqklpcW7VU54IkhxZsRRJJRVctqxA3rIyIg8mNsbT8ALjoNMOkP4Uogo9ADkq18nLjmR8YMtVh//P19qs6RWEGHUMdYMWXUMSJIEy//NExEURiUZ0ANPGcNWqCBUDgKBQ8YqhhQOlyJ01WSiIImJhWHCV/pTi0kEipjCGC0FRxQ47uGv5+P7/b36tLYro7AnUpk3sUSjBg7/W7/////9NMUBSZ4GQw33ZCIQv//NExFERKU5UAOIElJsNhMeJANbCVJQiKJWdhIyAYhAST5wWO0jWPBALrD7UCcBA2dLmFPBNhIIIKDWqXQNr3d6WfY/X0baV9f2aVT9nHAy7Z3DFt3lf2c7zLf28pyzE//NExF8SkHJEANpGSFJyaAxeB3nKlh3Yu1BuNTBcQWzIKZVitSCowwBQqgjRl4uKhhLgk3QTGaJxdUW7PV/v+Kf0KjGYjTFAAGMuKcZw7N7Leu9/e8ccv3vHGlOB0Ks1//NExGcSSTZIAMmGcKzYKkq3QK7QTK4Dkh4XkWBJSEmAkULXKp13dBG5H0C/z99rWFUVIbVD0mB0AGLzsSFCQCEa67YGdJX6Y/nCa8Mf8NJeaDcO8QjX/1nksPbiFYIx//NExHAQmGZAAVoQAIFH/5IRs/5oQiBoQxr//vtjjmcNUjc+dJLv//3w5A4fvealBafQKUrZ////Fe9rqQOSzYUEvcbJkommY7v////9mcl73v9jjj/P0UrPPNMCq1NM//NExIAgMyqUAY9YALHCQveb+KDhq7X8AzcMAp+mRlmRUBYKXcMgOWu0kAgWSvk/bAlNZdaZfArW0544vosggBR+EJyy6WtA68ah2CopD85KYfmKCKXa0bwtS2VSynpJ//NExFIfsWqgAdrAAH2qWV5YVL1ftPh3eFenldNKLEXpKSpZt529Bch///Fx48c56bwOJ3o//Y3bpb3zpzmUN3BAOFj06zE1gBMV9zRnQ4zWGUkppNohWyWW0o0K/WBA//NExCYauW6gANYelBvnYC1mKv0quEMYtafXKrNr2prbtxrKUKukI+XumYsL1JlEqnJnZdyxrRk/NmWL6PbYVjPMr1qDKx03ePv///WLFTn7FM7qqRp1xqGCCB6NvOHY//NExA4U0VaoAM4WlNIo+TW1dkhVYbbP01u1E3IXlLFLZeQALwwJXUpkOWEu78ov/Vy/5c7MDzkB0nUAOj7RBs5j2X073OkwPWaM4ODgW///+irVgRhzjvlLxQQIApME//NExA0TkPqcANYQcFUzUJRITHEP163HTabIYnCKOBIUtVhaUwCM7r+sRlVPMAumm9a4OvbyV4OUYccSMFpdaWPYKiIKA6EgaO/////kakdVAjBeTvPR46CWDWX2SXaE//NExBEQmO54ANPEcJ1MrfF9XR+o14T9CFkHMjidMR06ezQp4WWQ1vdS/0qhwpVu1e1y3bdv////opdISEP1WEVGYIwe6oTPRkMYxMGMH/UWNUmBTCFI8SB9XvLUBfcP//NExCEYoqqAANREuZwM0UEIMF4TYyo9jnsdIuZGJut1p03ZftQ6lFxBBCr//2JbRkyvmOrJ1////////8llkdUR2GNOIfx55L383vNitX2lIqJCB1SzZ4YOEGxATXW///NExBESIVKUAN0ElDh0t07DYlPFE1Ay5EQBLoBCQcCRDjpqgRE/LL9833ariMG8wcdAYv6c+r5GgDXCOOf///L/teI1itRuZwdTU5aAUYDWv6rk/EZx8ofkJGAhCgYE//NExBsROVKYANUKlHEgMABKAQIbsNtpHPOnvrS16mrH43jHUJ/pr+gqUTD2gqJ3///+7+gwLL0rFAB9oa9E0wbtKBDrgBsbRLBVRduh1gJQgiIjnAEBAM4LGCUhzCep//NExCkSKVqYANUElJO0C63r6tXbZ8KxGFIR9df5VOJU4diAzX///9Cv1LillU2Qkh4ZNDQVHQUEKuLRgpXSUWOyJTKoGPgbAhc6GBALnFnE+M8S5sxxmLySdX0V/al9//NExDMSKV6MANzElC9jI/0/9ShRmQCLDGn///9R3+HVuIoKhgYAMvAMiUFHprmZo5gCVnAolDM3yMxQMyA0ui+pZ1GlEMy6YIZMprzV+O0V8kDJMeAT67tRIsVevt8J//NExD0SiH5gAVowAAoRhoOnSX///FXfU/TVMPpY2mgzAAaOWkk0ElzSYqMmAQxMASqB05VnJzQ01qTwxF4wAUNRistQTIUd6CjmTDKLFzjHH6bHznpmZtSV5bsPdRNR//NExEUdkUpEAZxYARU8KOddTNm3q/grEGCkorf5Y4UQk9vdrDhK0zvqZfD/rcfyiF8YrP8nptDef96+dqVVEjQBczIWnRpnKI4I4SJDU2oBtCeoGGRAR2LGO8MBBABA//NExCEa0dKQAY+QAAZQAKgufG2aQRqBexUyGB5RAwwyPW7ZIFpJ5PGpIJJpp66leYGL1of9STJspSDKX/6RhdteowQPGDn7yFvTc9V3+9wlFW6qxOLElZNwft/JKlyr//NExAgS8OKcAcl4AFsK8OtLWianBk0mBqencdinVxkIMb5fkaeEVPo6M+xebMR/vDyYTn4RU8XvMJULvmddS1KCa7H461yL1Xr//+hO2Tetp7goQ4KVCDQlv1A1B6FY//NExA8WaTqYAMJecHa/bdo51a/XnN69Cp5UTJk20gdCDHee93NUq0sKGpdIqFUUYJLOTqaJjX3/9fELOdfHpnyrChtMr4hTz2SRTkt6r299jdj/ur0wouXyWtOlugtR//NExAgSwUqoAMsQlEwkKAjlmBDC/pue0ePSe0T0+jWrnEtV7iFx0Zl2QPnRHMB4Ih+IDKMAOwC4OA0AIMg3W5+OH5pKSJl1swixgQ///+mbUrBrlY0A4sVMQ6kU3X22//NExBARsT6oAVh4Abx+p7nOWtzVrOzjWyr2nmzb5pmk7cfotqcUS/AXLIpjyUJkt0ZW1ZfCv9f/G/X4z//C3B0VSkow0kxb4wRoyw0xIQkFExyXKegN1pQ4m5Nl2wPU//NExBwYalKEAZpQAJ2hmVH49uPRWC8GmQAhCsIgoUGxRHIoXbiwKx6TLN4qBeEh5xk+vnt5ceMNJif//kjE5ASPr///+eeSNB8Tg5//8Hz5PJ1pcCjJ1yJilZbVlOvA//NExA0UIWqwAZgoABRHO7zDdFgX5lT/RdzCiFxFinQHIdGY50EhFiCxnQROqPK2rqJL1cOGZKEzENFgqktumAIZqGLUlSNOtzrNTPFgVX6F6qmLhOUAIVjIXBqresua//NExA8RCVqgAdlgAdOHZx5Ux3Z3r961+79TbzkzM7kDKd5wtGoeCWn/L9/UfvF/80t56KKO9LxTZ1xWhnDbVHbrKqhYLSER3N9pg5DqVgBYaF5q+qTv2hmNqmThd0XS//NExB0RUVKgAMoMlP+IccaPIEcRQDALAEnTJKa6RkzNqEgZE0qk/TbIk4CJkQ+IgxX///qqvkA5FYOAj6KHUBLOUCQ42zrOG+au8ho27WWjhev+HpaNsG4QgBQDDU1l//NExCoRoUqgAMoSlG5KSKX8/p7rchr7eeGSSbVRCIr///6Vp///9raarI6k7DWCdAYLByjGQd09qzJaD3WZl43XXWmq6mp44tLUqieShmfH2S1pxz7Red63budGW07c//NExDYQ2UaYAMoWcMesjRBDv///jv6///01uqqEcJAQBnYENgGlAYip0b3XBU/dOWovz+f727Za+t97JalrUzpVLVhm0rsv+lYOacjMrKgiGGDhAoJsIf///t///+lK//NExEURKPaYAMrYcKpUMCHXSA779App9DFWK0XcUZLoz6Jg11NKya+39o7q9exjI2CosFFBRcpKHRZpq2cvpXE3tRyfzRBhhYut7Xv///////9NpKqySnBy6H5KlVBS//NExFMSEPKcAMsYcK0sK4rqBkxWCYJH0QEiF9U9R2RFGt21Tn+m+qBAZQCzQhojcNSWMwbkGpB57DC262rWpz7xUaz////////7WJqGVpD29sAPAuoLGmhiSRoIxiVi//NExF0SYO6cAMvScDlA9rxESldBGfOPyKIWxAmCUBtHeTQ4xbTFKymjA1nlA2AkOQIoPTzuSIpQAQN////////7G6aGBUqBtSGRw0LbFChNIwbBAcIcwtYdcnu9TPY+//NExGYScOqYANPGcIKQ+iJLkjlWAQYs5+0fJCxWmf6rETR7s9TPnUYdRmWBgYVCueuMte046a8O+92aGCZlgyhpAybQwohnAFQkw4wpY7gqBS+UOIbQwl/TCrC3hAUO//NExG8SaPKQANYGcWI6EW4i2GGIenJThiPDy29FnaTtmWZ1yM6hx3J//NqHIdof1az6AcWBRzVr5UBSgEAYC/Y0Yeam6hq1HBQoa6pssRM8OgYEo8QmGO3ZZZvY8P3u//NExHgSIUKUANYGcZ/TfWs7WNaVBjM6NVgcTLWuyhXscI2rawIaG4IRS6AABCMxwcxlk4CAGHFKkE64QBUFLKhTgJULKY07UxYpbWXO//73/71//+pfvnr5EeZIzhmq//NExIIQUT6cAM4EcNOWQS6G6GDYNdrasxM+VVqKhQm0SEeFwR0h4vVmInSCQbhGEVgrA54BgBc3C/o4xlTiiVN1oUtqLpO3t259vP+/sDVQyF8mrqIEosDyg7If//////NExJMSqV6YAM4GlUXjoGJoNaJCIKqRlAcNBU9DDLVQBYMDlrIBEgpJqodcvAwJA6aVFQB5qFtakZysVcMO/rufM+477+utmtPfP8ymz390i+q1+ye9epRg6jb5tLh2//NExJsSKUqYAMSGlNV1kXDPUy6Jl44K4iAEbAWwwLpjHkjAHiUinSNDy1oqEaB5lpmXADizHEMwNCxhLLX/btfhVumzw1vHHPHuOufh93DljbIC8yhWZHinDE/FShgM//NExKUUkWqQANZMlSiQMBcmEBoohVfHzv///99SlQ4FSCPhIAqHB7qYIDmShKFBgR0ZAAmJHRMZoPmFgyThiOgRMI2dswazgRW4s1rbOlAl2xJvHageW0X9xv8wvzN7//NExKUY0Y6EANZGlF3u9XNEonKZHF+NtEzIdyjjZ1LZxIlzCYo9yREA3cFoA12S6JQfd//+xZaH5CaY5tIeHgIug/KM3GjHhMECwkPoroBUW08gqJBAUvltU9i3w5Uz//NExJQceYpwAN5MlJk/QclTyxn7YbGFhqR9r+9d3jyrzK/jzLuOePhjCjBjDGFJmUoUarBVWiYepMFFY0UmwpqTYUBBQK//7f00B3lVDHp7tVUZGON4djOw0vsvZyo0//NExHUZyYJkAN4GlK3OLDM7ALEXoCPCZKc0n6hXSHOWa4rCfbrr/Wa4t84tu0baqqrFWMdLn+3wMsaqU1bWBhRyz7RD/////4lVJGIIlnLxp3dl9erK71VgTLW22YES//NExGASkWJQAMvGlEw6BRliberSs12MHaVga+doWgQUBgUWDJiMCpOtFaU1Fq4aFM9UjWh1KTe3o7KhUnTrpqUDXEeIYLgp3hpWdh+ZEeWZJLm4nC5pDPSWae4lFTxl//NExGgSINX8AMJGcCF3hVE8YfJCjpZYrW54HYeYSeSQpST58zpFdhiiv1Pq/u7K20oGoSbTBbs9zu1I613RS0QZcEgMK0GSWHAxGQY1YyCiQVIliYaEpGIolGhMi0qs//NExHIQ6IX4AHpMSAss+eIlnqPTs6VjIa5HniMSqf9JZ9/runUV/DtdOqV/Qhc7bwwHxPAKMtlDEzJWDpRbYTBgIiAPhFIIg44IgN4WE84IFOJrPk1OIFHHy8+UnCl5//NExIESqJnoAMGGTDvRsvr///p/637qFQCQQRGowuDpEw2Kw6ISATDQNIVpBZ1wXAMyxZIkvKYlv8ohoCgq8RHkiGs7DrKa3a2JxUimtbnZGmtzp6R0Vunh5Ek8rU80//NExIkQUGXoAMJMKHgrJGgZGEngyKkngUVIKiGhziOEZLcYovJi/deUH5wLORVrsXSkyARgMIg0ZckBhYWxc0a///+7QOS+KmgvgMVMnJMACxmLEAI2kIkHxYyEWQIL//NExJoVSJ3kAMJMTBk5QBBaHoRw8DdigLkDAAB0FSwLFg2sVNiu9D123Mf/pfSKgcQgQm6LEwiByBMaHDj02qJir+j3JdFQOKjiYhcauLkAsNIBEcTzSQiUDCsWSLXA//NExJcSMG3oAHsMKKBM5a46zgyGKVq9PXl1WUGhRojjEhJxDTVn08ak8NOa/z6XiSJlpS37+8fXp4qWbxUsnJyDgIJxmWSoOAhhYkNtRgwMYUDMTDWHkqCgEM4kUv2G//NExKESADnYAGJGBCWqExTVqisDQyYKCQUAghYlnWkKUprBAoKgoGQEDFgIZxm7qCcSGdQ1WjQtATAOWlCRTRXyfFmr+3HRhN+87VugFAXMHRZo0PSqEERehY5nFmZ1//NExKwgsxngAMGGvVXZVqGa9WvlamGlYuGXCmRhZUFaw0FLAYxMFR0FKGg5CgsBjMwVHICoJxyAgaOJZQqGoaxxKhgaOJagiNQzoYlgzkYlqg7KGDEtI5LDAgWVESmN//NExHwfopXYAMoGuSSxWihBjKrcj44j4rrl8w1+ejAoZC5PIgJ6IGF0baiDVEEUbcAEgATizQQSCK7xEqFXNEKiMPgER2aQQPzeAR+nwOjx+Dh+bRkfz5M3q4ef+Hz8//NExFAYKQXIAMJGcWPn8wRn4j2fk9369/f+//+dOCNEAe7b3FHFRS4+zsNeilRwYxbnoHFVPB9nUhUzJEmhjSKDLWuMMLSXTUxCujPt4wTpwgQVFdNnLpquFhB6KwQw//NExEIgAxHYAMpGuYdBmcWHEIAAwQQJVDu25mRWeY6ISG6Tt4eZ26T51yaIsRFcDbEBzIJxw5uHzCIphxifaouN0w7IIQ0CJ0OPc0F8XMsiUy5rTNaSRyqOQTSVyIIA//NExBUXGVHsAMGElSUyKAOvSVLQqllrNluQme9RMcl5EH1Md7I7VVX2tmpQF8VBcVvm77nWfY1/bO6x+pUW3lTfmt7cnsP6uK1zdXeNVLqze9F3ShFBuGRcLiIKl05k//NExAsROF30AGJGKOaIjiibEiBID4PCUwtswXC4AD4ozUmKIMRe2tqVMF4fUzBCfW0o4XcXPlHCiX6VBgo4Tqcjtv//RC8heq1/pK4TbReRQaIoFouaViutjFDJRJSi//NExBkQ6JHwAMJGTFFSECOjDzAisRKQWePOnbVyq+Sh2R+RgrEtPJJDTCOpERKIoQzcr/f/eLoCQEzudGlbn5iUPy9shDXKKH4k05zQAQw4pw6miwXsDBkIi4Mnxgba//NExCgR2JXsAMJGTHA5DyIZLsCCmi0gt5C5NyO3YvV33us2/+d8kmRlVMLVCqAx0ArtisQeaVREimmOpiKTZKtFVxCgwUGLQBwRmJUHToNC5gkBnnRKZPEjAsRKqQBl//NExDMScJHUAMJGTLgqp50Uc9d7EWJWhSnjf/2pXQqv3f+lBJxZR0wImi0i7CChedSbD6OUQG5cimYYtj5CTChntqrDEUfJ4JKpG/72k5Jpvup9Ji8qM0lW6yaZuMLw//NExDwcWoH0AMJGuYEIU7KcOmnKeaO7k/DgzIlMlYGLlzKwAvC+U4ToRE8KmXnZ6IWe+dHMR4OMrST4fPh4/hlUimJiBhAGSFqkiNgFRgiSsxoMBOGAgICcKAgLCUFV//NExB0SKG38AHpEKANNERUFTpVx6JjwKjSzoNFTp4Suyx7ktQNawVOkcO+rkhK7DvBUFTv//qDtZZZYZKGChgYIOgsUrWVHQj//7LLLmytZY5Kyyx0NlDAwQNHQSygg//NExCcSSTjMABjGcXAweDVVDkVVURclVUORVVVL//////0007S00w1CtNIlLTSqTEFNRTMuMTAwqqqqqqqqqqqqqqqqqqqqqqqqqqqqqqqqqqqqqqqqqqqqqqqqqqqq//NExAAP0xn4AUIQAAAAIynOc5Cfz/5CZCEIQ5z6nO5G/v/t//9v/////////8hCEIQjf+hCEbyE6EIQDFnOBgYGBgYAAAAAAAAAIZWMu2ZpKoYGjhIGFh9bftoT7Ulj//NExBMXUyo0AZwQACwf6btTrswEdRCk8UfRXffmQyqZ0X92uz6HdP91dXYEYznIf/kfvVVIYTdARf/3tuy56kfkIjmfqrmSzftKaZVdpX0I55TsO1wZ1UgtuX//9v////NExAgUKyqwAYU4AP//////7TB+b/8bk5g4QcbjQfFwliYoaV//QhRjx8mQPcgcaMFxuIo+I5QBBcY//888wxnMuYx6NikRBkH44C4RxaLxLEgJyTIl//////////////NExAoUywrIAcEoAa6ac6M7VPKyqxjSIYqFIPdTOJlKHGYSGOOFhNRfIHyHYa0fOVBQWMBTiUrjXExdxYXFFMznIHUjDKdhjMIiSCFzmYYVkIMIMP3Vn57P/li8tf5v//NExAkTWobIAAhMuc5fdfm5f/////3ff39d4ZWO7bn7OxTs7JlYuOae5KjnNa+RfUXmKOWjP2pm0lDYseVmVp0a9qKwqqh2UNNYmYiFbfa+CrwLnwo5d7E1nX8/3f9W//NExA4V0l68AEiGuen6O92S7JQirk0UM4xlMcnz9syXI4rNVEmj7GVxPsKVqAiAx0IBMG1Onr7BVKMZicUConn72AxJbvnZdFMJTQrctZxjV+IoXfkqxwIAg2ixX5Uz//NExAkTSVK0AMMMlEtGduMAEJAxqb16Gb2q1Wbsbrl+YizYHZovxCAgtklmnwBH7Zzs2AAjzyoYg+XH+fmYzmTgJIHPEWq/+wiW9oxxpUrNVb2csOZWMTZCywWNKJGc//NExA4R2Vq0AMrQlMyztj4MRAQ1Otpl5O4MC3yngiGckED6RuQI4tQV5CW8QD5cBNHDPsXyJa9/aug1uHaY1hb///3q/SrXIbD5oVXESrJ4k9wbk91LGudvRtvE+X+v//NExBkSeVq0AMvSlAIuuz6wwW/jWgDAQpnJGMZ6/ZmkiRFbaJZQME0wvLzrevmVHwuOKK5yXevEFP///inG43EFspaALGfvFho9KzMNm/DHtO+lvJ1dOLLYxs5b2zc9//NExCIQGVq8AMMMlbguEzxXOPPBtsBosQLQMGJW371UXkN+0zZiUIJLomq9XHAgFDOTRZOWTIMuaF2Tt7psWvlY9HXw9z2yuIF/i/ordsCVOLB0DFevzLoDiJAaZXRC//NExDQSSVq0AMvSlJjrOTlNdbZy/8b1lOaBzC7sb///9VXWypBPPqh49agEJTcmEQQmrZzMraX3de6YLZG7Rj8o99J/RGRiGBYdgQDlESEYpLjyGBchOmxSd3LnFeTN//NExD0SGVa0AMMSldR3cyFsGFzb2HhFCvwIFEWq5UFRKesL1u1TKdXsquWRtUr/POlG24zW3w81GlCWQYAUmAsFgtMIOMIrWpbIxnWyOQ6srW+Ycg4o+AN1B53///VV//NExEcRiVq0AMpMlNzAzFHpIYSyvk3zKUcx9FBaK5l095Rrw9MxXrZxucbvINucTKIACg6GwinMqqtkLZYnF0k4HTtWml4eEVqiiWSMkvczd///kMoiaUr9IDChaUG7//NExFMSAV6sAMpSlAV2XNypq2+SdZZsLWvfPzHXw0HHlFDBUgCzg9Ut6dRd7z+2ZRkfUW+M7N3KxFK6TTI9Dv//72C/+7/7EsdD/YHLGg+UiB8X99nOEBfszq/Vuubb//NExF4RuVakAMISlPZ2cwQCDErLs2/6lcf/cY1J7k8gvacmjZCMrnkK0g4dd///e5n1qnf+qv9FtYD5z9FV4eOrE2Uim5rKM/dXJ1+ev7tgIri1be2npDoQBOWFMcBQ//NExGoQqVqcAMCSlOMwFjlBQ99KP91U6NJCyBTrQ7d6exNz7UqZpD8AjBBg1ydNgaQ0Mtrvd2q9aNb2pT+u8XQIEuF5vrpf5P78aURkBLBhx2EyKrFkYh5cetqWOudb//NExHoP6VaYAMhElO8jOmMSnAqLFxcxpWu9WNOk0506YVqqoJWcUzFiCARCXTM+vVGzN1rzTOVN7/eeepZ4/c8/We+li5OoFHkQGDzdMQ6DG4lfblOcmYOGlHaRCBIk//NExI0UEU6QAMlSlDmjDUjAbLalqu6X/cauHgiE1paK2ToFCRpIwdPJIMJ/CDTuMsOHAOUpBIDAbYDdSHIeFrObE+0Hlkq1qai2X5i955iBwll5uHvIogkgXk6BmQoa//NExI8X8U6QANJMlBBGJNhC7GvKWS9w0iyL/NLvirncr///VipQb64UOmnn20Xt863Zpqe8fKr6hfADxtGPkMichxnU2Phum3Fx/pMcKf+neIYVnY4EwmvOsVk01lHH//NExIIVcU6UANLSlNt6gDKkTcpXFm7z//+/8vwurcSu////ImzjPWZMNSr+xNWWO2bo2RD1TBtpQMxXtcuaUPncY9i7OGlVhqRjAIxOI4zLAuTKTlG7avL/2N5eWQmE//NExH8TSTKYAMsScEIooXNc5nFrGAVr2P///+j+kXSpaehyMxmAEZEBWY2GJhmLC6YxKwxi4PjWVbcXm44XI+xARckPLijCFV2wwNvuSlUIEISJHiLLPTdEQOHiX/////NExIQRMNaUANPScLtrfp7v/F9aTVEAeZfsh3QYCpnECwNFiYWVOhmYcYlAiawylGoVcNMfRBxaVwzLLbRcw4E+q9TlOGvsxHsYUNCrJ7QnVOp/fM/+N//u6f9369Mc//NExJIRqIqEANveTA8t2cBEmUi5jBScQqgMSmYYlW6HILcmK9QqNhZMdQSLRMMEpYKplsNGRKdO6fu3K/P9VvW1ulV+tjahpiyzp66EfUkaKSDGIGTIgI2J5NxmwwIC//NExJ4SeM5gANvGcAcjIxW+HsVm4KAA0m9ECx4hWyhbH0Qycy48P2e5TujUYhgHw/W0p/03f9f7D+04fIal2ROqXSkoDYndKAZRiHWtw/FH3l8fwmcLWEBvo3RVtgPd//NExKcRAGZMAN4SKPqFXHeh4wwu1RCZWVPrbWrlhj2xysavV6HxpobcddsXy/keZp8wmSCwvWcyIdoIVnbLvX17pAhLR3TwHJ1lxkf/t2z7d63/vSE69xEIO9t+7RH8//NExLYRCK5YAMpMTE58u+37RO3vZ0GZB8459MBGGMfueqeICBOY6Q12NmVfhj/i84vGr2+fnqjFIozynsJ4DhcfHqhCVO1iL5HEvSedkMEwZow8RycR6T0BVGgPuP1b//NExMQhYsJ4AMPMucsnH8tOd56DnY+vmPuVd5HiHsgaEZqpWpAhboRcR/7+v9ykdp0PbX4e4y27V89FG5LZ9Z7T2frXd6rN/zNlZyk4jq9rhPa5Kp+hWwez2RI5CIHp//NExJEhUw6MANMMud8e571q9w3HrHgqj4YmTXlj4wx7s/1/E3lSTK1sJ+5luDEEwXi9Kjwl+POxIeHojzj1jwSDBIseRKA4LC4IChpQ8yn/01avbp9zq9m9bEQAFQgV//NExF4bShaYANPOmEnZc+8PaFVH0qSmzcgixFWKSVAgb30MqZkSLpIqNZeICEhMIQuAL36U6k+8nHy/k9yq438ePn7l/+wiiv1BQ2EnFJJA1qd2pB8EwjPFdEnxjjLM//NExEMe+lqQAN4auGovujxlUGsgIAXkTopJFYdgMc4gDrKazAof////r7dtFaKjVbKdderpZ2ODZfmLLkNQLkwALKQL0vyqmUvwLGkbQPNZq0kzrlIuVSjn12H4YxOF//NExBoXAVqkANYYlH6iHcePl/Yj3DeGsHqpZpShMH5UKmznmBPUNjmgVOwHZQTjGcNH6YP23Pu1PShwBQMsSFRWwVNR///yIgOt/R//6MNYGv49+EPArWml53Yj89I8//NExBEVoV6oAMvYlAtS71GNGXUfa4WK2L/nMM1tv0nBilvVulII3EhjYH7RfAcq0V3dqod4Eyznn3ewu+Htmm8kbg8eDKhcZrME////gUod/preb0G5M5XSPb2ml5pQ//NExA0SQUq8AMPMlbWbGWXe2kceFGM6o2W6LIcjNjqxyRBwKpsLmeNMHohUBkZqQGHIPayYGpAWo8nV53vZvc/avDoIMH0oFP3DQ2aXUi4LtVlkdmUEbyWDABOpU00M//NExBcSCVLAAMPMlbMB3qFPqLoel0ahhcDWud5cnFYjvcwH0l/q7LrI+FHBZo4UjF/vcv3//lrvJP44EZ1Vpz5Ce0fBtbSaN2Z7M9Q4K05AvBwrBbFp2T9wybkzakNn//NExCERmRrAAHvYceHKBojgfNqPrarF2XzLs7SCl4MfZuw2iUwzSnxw6/mVaE9IgTSKrYRwX1RhrLed2l2WKOX8fsUZSChkvVKnSSqbjpdM50sq4USKQJ/Ly6c5Hrpk//NExC0SIW7AAHvMlbSZxJmJ198PF0JA0A81lPbXlP/23Jt83HhqTbrGYFZQJAbPq8EurakMnqPGtyWsrKZWDpVMRWzNVcNsWjNYqAedViCtP1FFX5uvfe2b85HNfhiQ//NExDcSiP60AMPYcPCYFCdrhIGgdMkjQFcj//+L/pVVyloB2t2JqRpIZ3MQ1badpCZD4aJiako1PIVPWppNrbK2EJhRdoGzpgFa1X7wyAoAQCZFH7DsAuEyiq3f//9X//NExD8QIPaoAMJMcN6lygMKciTcoVWfKndmKxt5Ch4NzcIHcxmdGZY3qW9a8mFGPJZpSCdyoNi8gyNJg4BwYLIa4vMv2lSwHWvb//oam62hF3/9Gm4y/qwo/OwyNzLa//NExFER+PakAMoMcHpA+lFghJZeCGcoxuHV12crN9uvddIk+BuIeEmRbnGsOo2mgwCKnCdmpxMCFD7Q88Wu///X+1///67P1sFLsUn2oaRcVrujI3tygy9EhcoXyusw//NExFwQsO6wAMLScL3VmlynyQdwTjJwClriYcwGTQquFHUJ4kfGf4zx315e5zYvudqY49///XJ15kQCIvXR078yhN5KKbFDyPkq1hSRcLrfi/Mffl1lm/ia7htsQ2DA//NExGwRGWq0AMLQlDLbkQIzwoXXIxNhQ+2dE0181evTMFN9eo7MuzBz6TFwdX///oWvJBioWOlYURZvBZi0y5TsLmPnYf3UiX8ip02T9r+GByww18OLAg6ycU6LIM0i//NExHoS4Vq0AMPSlHhdzQBgIUZhinUpD+jKtOKqd1vWvh7FeXpSL8WhRYTYw3Y2qM50Drv//9q1xnTNqZOjeZqRfoLAmSkrkVNBzrqX7l08zQL5kjbpG3GtR8+q+9bb//NExIEWYV6oAMvelKK5nmjpllMozBvCzjuLlUyi9Rk6cuMsuL/51a80LeK19qwo1GKLeDNsNL///7CCgZrJxUkoRgFoAAaIcpQhBZuEEtNBJXJy61R6vbXPrrPMxfvf//NExHoVaVqcAMvelM1hWlZXGraiWQuTSP1JCTJt63ssmRtzSKdGbKlj3lf///////K1S2R8MdQm6NgEM0wKhbReiFbCHEZxEXfl+Dkhk14bBBkfxC3kYDobjIeszISt//NExHcSWOp8AMsecByGj1ixmgmZ1OQRKQEIVDpX0eQJWN/DV+/83f5jqZjimvEA4kour6IrkYjlMFBhwHOg0yr5EJ/Qk9rqdTk6N3zoTeSemed+dyC7s5yDTV2IRNMV//NExIAgas54AMPKuSPaic4IaYaWVcYgcMiUzAgeZlOFBxg0oQvXOyiVQK4OeARgOh4LuL92MAp3ZoQlY7cCRAIgzzyFwOJ2dSopKjMJ9VvyUIyAT8dEUkZL1s/GTV9f//NExFEeeWKUANPelBSSHPeBf0ppXv9qxV2UjJMxvwIbY1sRXO/+gVPhu5NYqZCD3vfqRbqRpLhA1Jl3jI4STytKkarOuyENmQVEwGO1+UMeh+ClFYPgFGR5HSLwNcji//NExCob4WqgANZelFnEW7h0D0LaQcqQEwaESlrMXo4/q6rH9lpQRTSLw4oSLWo1eXBkja8rBEhQ7433z1+rWJ5VmYMOL/caIkIN///pPq7k3IXGsSLZRjTDzrcQRMsw//NExA0UEWq0AMPSlQFH28mwVIb8QjJe4ySHXmhDMHcXeOnQWjAcwl4rc+mqicbo55gvKkbvoXLCvFTAb65PvXu0EKz+EpNGVUR5lWWrL3DV3kvET5Jq6FF60iH2hC1X//NExA8TMW60AMYWlB6ysxMuyz2Bu11rZ6Z3frIEJZSJHKQspkyzDGz92Q/9zn3Tmj7ltEy7FJlKE+8nvcduL4PVmOxxykTRkGepwzTcDK3slz8qq4v0zTFXbPgClWKK//NExBUSaWq4AMPMlB22C01ajx8xGmWIOwfsSKUu6vt5bt+mv0f0e1dyq4jYPJXZmnnb/32X1FsX32XPPM////9C/MkEzfOA1nagOB7rpoDqNkYQ5RN5noSpzi0xm83P//NExB4RMVK8AMPGlQ6yWl/OIcLGtIa9zu9nuqZ1iukyz+lTWs8pAzCgzv96ROOOqaoLrt1Co6Ho8nQ90QVVl0rXRE2dqWm6mw5W5Itzw71SoUGoTuFdO98Qlr2wwd6z//NExCwRiWK4AMPKlGzLrf/ymRzIlEdmM4kqkB1Z71JYcqi1TRsO1ZihN55AImN+7Ze5TJxgIMvgKLRxoEAquYuw5m7YmBRlYZSa0C7Two+vy1mi6AZ2m7Jdt/9ZWtWz//NExDgSISakAMYMcS/Vy+6W1vJaUl/tyIijNHDFcIYAnerL/MvkFhgyzB0BBEHMS6wjFFomXvQ2z/t7EC7reDiBYy90HWmvpAsOO9UqzvmpRpS/WwfCzGoAooITQ2d7//NExEIRsPKAANYGcMSnAahpjQEWDdm8EAxiG6DiUwalMmBSoCvS/INBz9B2tZ8o843p2ATpHHKS00UbMxK5mrvW9q1Z+uyK4EFChQESGWP1VDl2////t7upJgkqAoRM//NExE4SiPJoANvEcAp2Oti8yuPTTcKGRcZQKQ8P1s0CfoGBzTU9pEoY1N9ZhuS6nWl2dWr4dDv1JAa7WFQVMVK9DkO//8Up1u+hdXdr3Odu+mo0ImDBytKlIMos4y+B//NExFYSEG5YAVwQAE4Y1yIxIOhiqAgEMjCQtG78oWNE12MEJBajUxRB1jqOR0GqSdx/HUYBrV60HUgaEgeN7PQXdrSXTczHufbdOtJJ1tj3dBRog37K9lr0nZ2QTTWt//NExGAgiyZYAZxoAGpSm6rmntdd/tWaT6DG9bfdSmX/63SqW+pmTWmmbku6CRpVChQOIFTh60CtmdS8sPQ+XYEmAsTD9vGXQ4y0sSNwMAllwBIEY2kknS83E6DyUsc8//NExDAd+taYAZlYAd72G5pfKyxLTrm9kU9jjSbimudN+yue4r7Y6PZH//w/+O7z9f//z8Uz2Mnq6XttwlxcVHbGRX1Wyo/qf5XfEtdZyNDfs/m9tqVkIIqg4uCBpjlT//NExAsUCNqYAdpAACICyChot4tMziGqG1FmKUqlTUIBS4decm5+oIYTzSjq66S5aY3mqybG9HFJ7UKPQEfoN///Hm0VKOtex0ote3eZpWKnTFWOusZJUUYmWjFVp4jF//NExA0UMT6YANPGcByWYkEiaLMlp9M6gkMNyJ8Bi6GgsiwpoQsXNnj7HEbJiEZzLRDMGHYOgK0//v8/vEQgRF7vp/+3auNeTs3JXv/6EzRB7MEPiJeSPC3q5dRZuEP///NExA8TUYKwAMIElPyaNxqPJsoyhkSCMTCT/Edd/fdKU///1uszqe29XOeEOH4nPwfEFb0+6MVhY4cy7xOpwfamQKDeXPgDPoaH1ZUA8A0bnTMmjdSTv/j/MTiF//////NExBQWwx60AFhMvP///r///zPYvCu/8RryKgvDdSLemlslLGyYb4XpTXB95N1qRaJhvyAJWxh69a0MgIZ6II1OQpR9GEIUYalk3CloBDnYWnK37k4f//////ys7aO7//NExAwOmxLEAAgEuBFMTIiEU5rISgzO7QZw6KjGNRjijiiquzutTzkFCHuWKIYpGQjFFEOplFDO4xFqHJ/QjL8+O/j/ku9f//n/////+8y8v7w93sXIqYtJHLJ1NgLj//NExCQSWxbAAAhGuTkGq0zlUUy4MHsFIUHo1rF0zsJ83gqr7ZMD18CmDIMrhOQOJFyV1peC8DkVEFVyKNdKBjc8AAhMOBmlAwOGEQGw0vUOTzl9r6//Se3/p3VP/b4V//NExC0SAaK4AHjElMWw1bW5zRKdKqPEgoxi3C8sDUSkfUIk88JXGftTBvgnzWeERAca6FHBYsOVlkK1xhkriRhyNri8EkfocH4S2R82Rf8/+PrH3j9flJKkSlxGCA0Z//NExDgSKVa0AMPGlBcrsjoCAA0EKeDCv//+r/iqxuPoaGrZnbhQRLLEtzPyQqOtRCEuDeOcmzxZAYmlPilg/fQf1o0l2713rfCX753n/PrPmWi/pro2Yffh1boKRARE//NExEIRwUasAMvMcBl3///qcZpIBMDjU4Eg5hweWRXsXtQ9MWOSIJbGrlwoae5MXrPkwonBT9gQaXMMw9MxmlluXBUaqpQ2hxv/1VUYzNllEyl/xmYMKll8FjDRBSww//NExE4SMUaEAN4GcVFz9kkzsMLZl4F0MCZwYWRDQecJyo3a4BNICM9rIzr7Q+iRodX1y5W5f1avpM6iSjqFZit5jYYWc2GxWe/////s+/+uMHhsxIACAJHD4IFgMKAF//NExFgSMUZUANvEcA5KXOtASxo0pCjzONBDOCAjR9tLHvs+uj/RmQjs8gaDQFhkyD40LeuvqMW+LdPTbt6ddVf7EaoWhAoQFAZxu4QtWGh7C3cmc8RmmasWUeiKfpXt//NExGIRcRJIAODEcG1fZmtm/y3vcydx3y8OuF99bAM6LTXw4fDRAFiZlAWBMmQD5yqv1//6f/11N9UDUIUDGHaI1Oq+8tx3a+rz9YVhh4RIFkCIDED6AmGCjJdynrCp//NExG8R2SpMANGMcGsDR6dKuiI8BiRUtcJrRpml7gNZaQYuye4uklf6EJ1cUVQ0Ty1weOoZ/20UEtR4z/dTjMS6nJcnC+KmAvIcZ7KNCoIwFeIOFnfqQqNBWwiwuAfQ//NExHoR8EpAAVoYAPv80Tti7IARdMnCv/TTfsRQhpJkcOYQQSn/1ummm1kyuQwzYmDMoJl3/9SF7KZk00x1E6So+jU6cKYncskSIt//6qmuqz/njxgR5cQIOxEUi+dW//NExIUhiyqEAZmQAEmqjL+PqZKQAiLuiIoUIEcm/MqrBp4SYg4WYcaqZuKp21d5YiCRlrWmWMkh8t4r5pDlBPgO47h2nMQA7WaiMT87VFcXcfD+8aWeBLI8iK+0lWWP//NExFEfKWqgAdp4AJhQ4+3mdVxrWYE0rJDkeRN0gRHtLP57Ev9FzgiSUzJIaHA0CrnVYmHP77jFx3EjCyZRokQMlp1kG8Fg4C0YvQGKsUlwaKxIVVl+0zCGQyGbRwYN//NExCcaEWqkANYYlEIXaXGft4RBJLqW1n5s0DYZbjTw9a2OC70o/PFweyylAOTXYFtsiXPHarJ2snDK1kS3WqKqtqq8wHf//9DlfW5qFfmk7zH6jcUAoAsI18wKlxS5//NExBEWaW6kAM4WlPE3VG22SBEk0zKC3s7ggU/1KpWrVDbEyKtHdbKwXC5vHCIRb/h3vzZN6Hc5gJRdi9ZhQj7vVUun3xdplB6B4Xs3Wmj53f///1p/LTinwcpMLfNA//NExAoT4VaYANYMlXSgyYE2RM15MeRFTleyH12slgxyoagifVtXMFggos89KAVs09KYdx/H/1llul5+X86vVSiAk4pq157PlV//5lFkmnCKIKpREviF7hk1QsDIR5SB//NExA0QqIZwANYeSE+zGNT6Qs6sRQZr0vjMZbsaSPE6WhHiKJanncKFD1AqKuUDQ59lA4OgqGv96xKdQw7/////VVgFOADOef4C3HTwoEbgSaRUCAVCH6pk32lNNQXg//NExB0YKo58AMzEuSAylBKAAxQuMIUHgpmBgQc3Lo4z5og1b9b6kF/UqtNP///9f5FRmcQdU/////9//t2qYGEZGw9hgYGTqq/zyNf/8TrajsNqanw9JgNfMtiNsBWY//NExA8RoPKQANYEcCoQ2+smb3HjYvQDoT3F7GaESx6FD8Lq8kFvk1j9VpqmmrvtBCKgif1g+QCAnv///+I/xgx1P/6KpKFJYy+17HAEOQWiSERqTY5CIdUXJLoFSIN7//NExBsPiU6YANUElA7SPABYhoKIpMvOoiTygr6D76uJorWAnDjtfRdW+xkYCcAE1aCgIQ5tcEPuSac6RRGmjjcTysUvqx3iVBqnICZgmLAzYYg6A8FeSiWT/erq19HT//NExC8QwVaYANUKlFNhx4nouT9cKeNLiUn///939KXrdWNFnDsFtszYDUksiAYOFVcyoLiq+5DKxSYDISmLQBsuI1GwSguIrSeRQNUrJfW3/bK7HZCt39em9A5ZiiSR//NExD8SAVaQANzElB///61Ld+OJGEay+5iMocGXCx8YSEGIEwcRmFEp9UmExotknVHy/rQWYiNR1I+8AMuv26Wl3S+JTGR/xKn+p4dWGlu/////sOwaDEAckMFQAYwy//NExEoQQHp0AN4wSClCKoKIGHIOqZBCBiMoksOxx3pc/TSmEuZK4rGvqoTb9cYBajVNPtytlV/2lv/1u+7d9H+xfChgCJaYQ85ncO0q60nm7xYIdF80g3tfhZouAuE4//NExFwP+GpQAVoAAC1A2SBqSoe0H/EJD5ME4mA0XD0hkRc4fIBhyIWtjbL6fGUSO1igSJExOfmDV0UE3Wn/tWz1vNDzost225opaKCK6aRoeMjdGzf/6qbfXdJq91Vf//NExG8g2yKEAZigAf/ugbIm7OowXTdDamaVG6zEwTNINT02I7Mo6pDomu0VhjViY041pN0WIfRTnaa0x1KRVtrdKyFsxVWSTSRG9z1mV/kJMCD5cHwbSXEMALX0MQND//NExD4UEOaYAcZ4ACZYRCzeJ7NOpf3t/3MSvip/clW22EyxBV5PEFyLof0uA9j/iuc56wj2DENxdVgsJjpo4FQidAxpQjZJYuOJjhA1zSODF+SSYTWxx0RXC4sEAxTb//NExEARiO6gAMJScNX17+zLdCqtJzg1c8cRNVBYIkiO4tgZnxvhPximqjoawtKdag2ZWCKqVYjV5tVSH0JaizLKs4x+LxoHIeJoNSwgDIDsdQE4ex4Nzyr3x7NvRvOz//NExEwXgVqcAMvWlD/BMyRSzti0f//+q5/7v/6F6Ym5ZppLiFpEBDAcW9ivVjXHdx1Pds6vWsquNzvW6sPPRTdauKY4iQPIKio6OVI8kockq4SktVry6tcmZmZtO26s//NExEESKU6sAVhgAezkPNXxmQnlMEqzhVYBOBki+YCYGUrgjCAKRmPC6TIsRCwkoM/LO6rFukPIEbFzNi4bmo5o1Qb1UWSgOabmx4hhLBBizwonhXRbByR2jqJI6cOk//NExEsg+n5wAZuAAKlYiKjpATySjOaJFFfTOD2XCqeQRk0bLWq5xK7IIo/3Uv/u2y3frRR1df/s13/SMlHizBERPJ3/KHoU1IALdQTgQ7iYS2BC7kA67z8NmGkbJ93W//NExBoX8l6oAZgoAJ4qB3iiCjGUhTFcUe8gmCDxQXFTiSOPHpZ59yCjnItGM+dk9ToINMUY90FhZmKd5CERXtkd0Vlz1OrncQIAwv/pS57Ft666/hT2MiTRKxLgVG6r//NExA0RUU6kAdhIAH0/A9F+f3f1jhj+P77Uazfv335tTemjJiAZKGKx/yoLJSqfhJhNiKVy+VBZTsIU2zKf//+j///66qFAotfgYsDcgpkJJN2twwzXe+0u9s3x9vt7//NExBoQ0VKkAMrMlKGOn/pyr7MjhBDqDBIZSdJLYg0butRwISckFnHb0KPSCzCSzWBT///6asY0TlKKHkO+Ql/os9PNypohlqy2LOhZaFlZuqu+uWasfQoDUFgkAkea//NExCkRGVKgAMoSlGTE8muold7WUnIixDPdvKPpuch7Nh5n///YknWyOkkdQ7AGFjooCCiALdh9NWiaf/YNM03024pWlbjmO+4bZtBS4UWgDHDA4pUqL0pX39lupk9j//NExDcSCUqUAMrMlOO3mnkCRDpJKP//+5v9Bj/0Kr5K6NbCoAfW2EXglB5ksEEg6Nln1NT6hTNe5N4mzrNPH83t9d9ltsdjiXyCVcBptMc5Imfk6//69+H3Ky8Sbtin//NExEESIVKUAMvSlEnor///xZi6oCSqqiS4b6NAk7Ozw5u4EI5ADggkwQbQIFbPxrvJJ8PJiCOUbFDgbeSlC5c8bJjCGtYZkKkq5sAtF2EgxZ///+j+5///18hwEWsV//NExEsReOqcAMIScFTeAjJAFaMtRH4RYC0CGNmzSEsQLWD3FGHmDmvK58YIIguRMkPcQ4h6TKbC4q5ulfvXc97nM0sIHxVCrO4PyigxwFs4LwugYVMMmyAEohVtC6cH//NExFgP6OqgAMsScG3Mpl/0614bR/ctNdrCwj6qZOEy6yFEl0hnDTQbAyg0UCiWEo9znvPPPkWVqpAOEgiCMgjfg3OJk0LCqJTsLbVbQQMiOn7uukw2UoOjuk0QpFjP//NExGsRMOqYAM4EcJF2l3MpqvrZu3lGpaJlr1dasZzChEEBsw52dOtIpTrXeEsOJhipZxnOGJMQgAMteOLwOOAECkklZ9VdSIhW04K3ThHSlAYYabJpJWvfdN/njfdQ//NExHkReOqUANYEcOr0fihN66oMO/u/7LzEVKPMMZBPYxCwhNIhjHaA4z+szEVGjQ7Sa6pUBi0S+ROk1EQ1aTFr0os0HQEHqVLudPVt6g0JTT4uUKBFwj4VkaYjmJYL//NExIYQAIKUAM5wSSUtmuAA4lFNKE2DmGJFKcF5VKEGTcQuoOnQwYcxOUxmQy2YuZ85r/z/e9f3n/+Z2+RxeHn1AWpZcMiODamCuCqs9Iz2193BuB2RA236lQHja2KF//NExJkPMHqUAM4wSIc5KQKCI/AoYAVhZMB6IxoBCg2MDtFyjvKBNpzRkfVv9e1d1sy7uljlO1N7lQU4JAOd1G6A27G4qFA4cMECG+MJyZXAZ0AyWbBAV9qCIIoagQUu//NExK8SCVqYAM4GlZcFpweZOrnVpxWJyCYty/z+fvmq3/e/X/qxaOPO2lHnZqCguwtlWQVWDKBfGWKnGq8rPLqVmP///8vXhCboaRDwSFRA4kEHQAyYmFi4LCRqYA8B//NExLkRsVaYAMyElQmQKEQSEmjQFolcGiPpWAWibAKooZQGtlcbTZE8tuNzlJvmFnG/esW89d5XzU9pJW6Oxi/YSjPwlM40uhjtodSJGiBUqohELbhylNiomq04PM////NExMUWeY6IANZOlPb6FqakqlUEgSlgAwQZg4GYgwMNGRiIGMvFgKAmQlJlAyIwlACVTQusNjD4h29AWYLLizKA2CHUZkzOWPPD1Par53dZXc7OeHa2GNiBaHPW3zt3//NExL4cKY58AN6SlLN+wlCSSp5hZv7BpKcFYPEpCUaFTNtSRuK1z/Uu///dakuI2Ga1plrmE4H+ImEnGJagBIl+KChY2sOZIGmsVhFTImsEBDQMAdcI9o807NI+3s80//NExKAc8ZJ4AN5SlNlr9Vpd+Xf3a1Tdpu67c5/NNYjBvK37/Pp2tlwtkXnDcLk04kDeoJQDbTokUNc7//+tlNUDRT18ASNM/MNuWMeE6YEE/yCq7i3L8RlrSuLkSI2i//NExH8XyWZwANYMlFx+oasxprxbXkvrOq4xnXxmm//jq6ycOWdb/zVpS+NtAqIKb+LF8mN2NfKGV5jjRiRYYUL/jgQdFjBAYMX/XQ78QgN6meqNMacOGJeQJkDzAImh//NExHIR+U5gANPGlXiTsQVLrYpHcWFluGjepTZVa3rO/t//9PrqJwjDYJXjebWERWXHQ1TNSfWTN5I1ANwYkSLYgy0KJQXMnAGUEwGHSB56EuDJdjVKJlV0Rq7trXPR//NExH0Q0IoQANYMTG7Frlld6OmypP6+Ycn3kjSRZiWbyvzC4RLpOLmGjRluLj54wpmFibHEzQ8w8y41NQFAVFH//sst00WpYmimlxR4EgONjri7ijyh8BnAPAkMwzD1//NExIwSAInsAMLGTDetxnLgtx2tv+78NjENLJhYOFkxAjdxYGBi0cD4Pg+ccD4Pg5Lg+D4YlwfBx0Tg+YrE4edWD5jFwJpJnNaOPMaWu0s45G3/HoU5NhcxEmJQD/q+//NExJcQ6H3sAMJESGuNLuNOfSB3apIHjkzTj4e0TFEazKNsiSPlptMJ9pJ61PhGD1tarajWylKt+VspSmZQ2hzMptDbOTObI8NHbOU3myOxO7EOCpo6mjsTyk4Kjo7E//NExKYSIHHcAMGGSI7ILBUdIo4R2R4yOCIcJWdKyOxO8IcJGAxYGMLKCUqFsaSNQcKD2xWMDKdsXcfJvPjj5cOvdafDrz5M+PMn1zrzJ82rD8+OPtrPjj58O+8yfDnv//NExLAeWuXUANJGuTJ8+OfLp15MOvdefDrz7bw44+SeG45d82XH3HTZceba+LB02suuOlx4/5suuNOmy482X+uOmx42adLjx/zZdcbLjlw42XnXHRcePNOhYufabLpp//NExIkScCncAGGGAbLjl5026gIIHEEZzedTIBAaCzumlTDIdWHe9wIEr90gJC4baFDm7bIDBGTlHI4k6xIqjrJ4jfCH/8MXbUYvYJIEydJi6YSQRR7DwhAARQN4iHAA//NExJIREAXMAAAAAWDi4m7hACgZ/XYAEO/7i4IV/SgZoX6E78T4iVzQt4AEBmnANgAQ718DFoAFXc3AzCABOLehwNgARQM56jWwb0SvCw17oXqXqxqZrYoHlk1mWvs7//NExKAiExnQAMJGvdEw1O2wdFJMDSNKkTZChk9plY1OM1cImUT7aRlYkzErgimhg15qyPnlpnsio7ZpZvRinyrN2W2fVvEREQzfW8REGRd7r4zd8qphsQLmtyGUgLdM//NExGohev3YAMJMuZ2tM3Ef5anRh9LmknyNTLLWnd2UyKoiCukuL9EfCCzoCJFKW+g6agmU01HGJ/GmluYpMUlQ6EuWY/1VvBJqWV3rPD/475TNrM+4zazPreH1svw8//NExDcbsxnkAMGGvTFSO00rwnMJSV0KsWj8I+ak5amUSrRNXXnmR2Nk5amVlKjVSAozw8dKgU8Z+MNui0xECUeILDRRA1QWIODTq3NJxfB921xIL0Sk2KkMki4SCxBq//NExBsUuK3kAMJGTCloZaCD9Q8hRU6KjA8g8LLEcyh61NWMARI8EhwFT9DAqMAqWN/bensVROisih4talcyVHCyngIqE+E3CCBznQwF/REwIDZMgISZhM+TwYRogcIQ//NExBsRMJnEAHpGTEBsisVMXAGEAsUJipom8BxZTf/////X0X2LtcamlsF2CZxqaLsF2CZwcjlU9gHsvsk4ny3S2yOlXRGIvCJG8lFSI4VECBVA2moZaxVFmJVsGH5b//NExCkbkbHcAMJGle7ug+hiOsrwGcofccZ4TPA8V0sHUXKwhwjUyeKaSmTpWGA6UhZQtGFkZyPpS4yq+eAlza1PL5yCQdtKVYmT6VFlaaSA5upQELiUzbhI4yymBJKJ//NExA0S+J3sAMJGTJCVPTJZUuiii2gMClQspG1RBUJAVRkJFhYWHsiMqOeeaApZTjxFjHqfSMq2JofNUojHWVIkn3NcL17dFbrGVwxAcZ1G8bSfkbZC6RiS9jgCoUo6//NExBQRQGH4AHpGKAJlBOQfC2HECx9geOjjo8uMaWQ4uqVS5Is8VLzEexaHkj0Y9RWkpan//+rShjWhVw8AOgbhGylY00osbBiygNBOEswkayghyprVDPApFQEkJFSK//NExCISKJHsAHmGTMzYtiTusyjs8WeiOklPSdU9ri1tNq7JaeWWniqVnhLPOJKfJaOSUiYkARDMnc0hZUXYcKOcIcXSRGk9j5Mjs0eDRcDcWQcWBnAAAIoGPdLkll4z//NExCwQUPn8AEiGcP5ogKlyo8vd2OQzZtPyf20pUUSr4yojgSAwHaxWwlUsJCqosADYiAZhCc1BzlVKzoDRIhA5BgPHBEXMQqUPBwXXLNjSiRUc0arE7hwTFDZDQx9j//NExD0SQKIEAGDGTM667i14Q/+Qf67HjS6iYpA4oNa4xBpGbTUTiUElgqJyTzs42zDC0jKWGFcT7GAoBAIKnbXHjp78JHrR5EkyPAVYCAoCeeOpR/+SIHv+sBfbUipM//NExEcRUNnkAHmGcEFNRTMuMTAwqqqqqqqqqqqqqqqqqqqqqqqqqqqqqqqqqqqqqqqqqqqqqqqqqqqqqqqqqqqqqqqqqqqqqqqqqqqqqqqqqqqqqqqqqqqqqqqqqqqq//NExAAQyxIAAEhEuRYiCAbBAFxEFQmJwQLrMvYXk0wGJZYPX8/qBEOP8H//Pajf19////////oSQhGn/9rW+TIQhznOc4GBiwAAABBAggQqOhawMXDgSGB7rupI5bTV//NExA8QOE40AVsQAKvYtY5Z8t5DEIOGnpOcbwst99xeQbQfQQ6kLHkCCs/zg1kvR+UOJ7uooNWs5f2oWh8nKQ44i887vc76t7dTf/zb/f9H9E7f2/muYRzf/j8nmEBI//NExCEZyyqgAYdQAHiuKgzFIX4jDAhGP/6ElGPH5OND3FgmKiYNwvwXRFhdiQAMFsLH//kZOSDxiYeM5jHo2IELgNwKYqATAvigGsGsGgEMQxIqL/////////////pa//NExAwUGvbEAcEoAXRnJU9UVWMaRHZCkcxTOEylAQcQSEnFB4nF8gfEHYa0fOUwoLGBVErOphpzCwuRTMY6B1IkZTsJMwiJIIOY7lGFYIATNbQ1MmznvzZvRbf6pc09//NExA4U2oa8AAiMuT2MzdlJHN5/////5ff/tZjPmO7b/2dipqWTOMWzSXiVEpI07I+0XmKJWjObU5aSITFJt5qjm32orCiVDshuXkxKIVk//0qr13wIRxadnbwNFAQE//NExA0VKUK0AMJMcHyMgDP4Rv6jHn4W36QMeoSfumEG1kAcBkG2OT1z0MeFE07uiDn79f3/e7p4HPmywgBUWnpKRrGDxEBvIhpRtCQqd4VO//1fVbObXSP2ixJwH5Tf//NExAsVOWKwAMvYlArbMxlBJY6oZ9IuLtdzdr+W5lphZ11jXW8Pgx29tPoh0NF1qJ8cKGqxofXVoHKskK9T1+qx6YJnXNSvbQfNZOps+oU///oWcR/QsVxwwNJolEkl//NExAkTgWawAMtWlPrBDTsr20JdnQhrC68itKzSZDfjzym0dqUQERShBgQZmO80zENPEByOaRD2ckiuhIzzAv4rzWKIVzh3rSIdat///1WTyblUqoLLuU49NRuMcys5//NExA4SeVq0AMvSlHVYL/GOL21323Xy4ay++WDWYu+1b6QMeiSDfiwVRlBnYDbHFLeBUn8c9I9o3/H9r8VMUQo+q2t///+qKe2Vgg/8ilIKRDjcTnhfnGVTnlJZWXcm//NExBcRCVK4AMLMlF6tZJ9y3C/BexIBYfGC4HBZkdBh8ctigEhoET2rv1Et/3eWQNQ/SDAq3///iirGoh+aJUr2ZocUbsQ6kwNNyK+wmNZNyc9ZZWSrqH5q3mIyXKgv//NExCURuVqwAMtQlMNheIoeErD6iQa2ogowPA39Oavx316fJkCoiUxcj///7SvG2SlncC/iBFHGH0hEWJ+HT60zgafGW41Ly90i2pT/ZqY+gbAiTXBxH2WXexd+rasl//NExDESIPqoAMpYcGLS7QmRUSXLB060ydOhR3//9T1f///+pVbmFgR7IUVnDMpqUGgQksWf4OwW1x801rF1K1c1XbPTo+FuBhLd2+Z20iYFOCoeFS1GVhpuj//pyR7Z//NExDsRGPZ4AMIMcP//Jc8p4qGolSomOguIMYKS1EoUITEAceBTAgsEhiXVfPHe8f/H//X8+Pl995L/HJJgsGrKmfLUN5Sm/OmcRJ6dEKrkiq0B0SnbDyXbH/6P///2//NExEkSgQJMAVtIAGsGyRmKKa+vHkmR1QgZqTBBk1IOB5Al/21Zq3cZeXF2Ow+HC6IhZdihYjGHi4OuHaLjyRrjA29uSKh6eLySwqbcuOSWHOcWrxlVaEzMnyr9JNDI//NExFIhOyY0AZtAABkow+1ZO+6RDyW+rp3VNqR0bl44pO9R+XUu0tF2Vmba2ZZE38WMFu4juVlvtJyktqWhiwUmKbOYLzP2i/k0IGmpqN3ZzTW/Z81rb2/sfaYhio39//NExCAZiyqUAYg4ALdLj6GSbCWJe32JvqeXYfOEePmDAQDd//x8mNFc4gYNz2UYB4C8DCgWAJF4LwoaAz//zGQxjtj+2w0CQsBcUDovYuBdTxYqF//////////6/7fd//NExAwVewbAAcEoAbznec7nvEGMQ7DCtE2YhxrqrKJiaMHBAEQSKgmICjlHjBxnFARBESJnD5mDgocgiJCMPjR4wcIFEOpCBxg4xDuQkXKggKuji/oTP//////5yn////NExAkTwvrMAAhMuf7bM////2K7NnjKP1y/cOW7P62m5O9pub+itoJ/4Wdl6RjDtSM1aV9DDmLdIzEr0+ir9KB3x5Il1RKuV85r5lMz73McnZgn8r//paVK//1YyPsl//NExA0UKrLMAAiGuavztnDjrCTrlMy6cJYoGHdQxpCegm6hZ81HeDFsSIoEJlgJrQeFXdRxgJ5hkOTCUSWuPQB2xjpmGG5nrmBpVRPihV/q/7f//+//q6l9Juu3ODc7//NExA8Q4lrQAAiGuLBP//POm1jjxlopl2K5EpN7dzDSJSasmrHIpqgOqtVCU3E3KwMHJERlQ04jGqHPi+oRWDq6yoDxGEipIbot+pL/1/lFJEjLhse3qjkSCxNG5//v//NExB4R4aLAADhGlDZnPQUK6a6qTfsBUUWIuFIFMrJCoiuImYcYVGmIdVwaWJRj2Olnyx4iusbEfLug9tkuGQAGXlg8bz82oXqtjL3L0vKNQjK/lWuiZIgMAYCiPKVW//NExCkSSVqwAMpMlF0dhqU3v0nZBxBj//6fdG2uaTXqQV+/lv/12br///SKVbf0wgME4rMlMGsMloIw4jff4uJZEVmPJVqyWeo9mAwJrJgb5gYBQAZp7ND63nBatcJ6//NExDISSVKsAMtYlEycLXavE3sOHuxxd+F9TXCwqHHf///KKqSbYwAKwc+nYANAlTgn4JQTVt5q+J8QZv428w3L6a5t7xX5Ym9/OVAzl90ayVtxbnASvATCnO0SNBbV//NExDsSWVKkANPQlLPu1rBARS40RbLX/3XdFZXadgnWKxJWxgrHj9dorJWQMUszoIVkLme37a2CydsEfBMpur17pKCEVu9s7ZsZdt2MYQPNrA5qfYoP6PN////9f/Uq//NExEQQyT6gAMlMcN2oiOehhdNBIWCbSNvW1wRDAE9x2snS8wif8PNDRxoB8dZvBuT6s4cZBw0dNf8duvjZ6bwTOE1JSYNPkYldR///Y9S1/6chxyujt0WXbtBaEpfT//NExFMRuTasAMjWcLzrYg7/GojoFbONkYfrPlrM3rK40ZeHAGxHY0Ak/KibFCgd3glu9Cu0/hCrUJp7Nx1rOk3///////6VywriKGNP6KgKspDSGJE1ps3eE8eeSisz//NExF8RoVKkANQWlOW+TLatRBWlMLqi2dGuCNNZyXNUJc42Jt647m9/+u9DBrZg/OOsNcv///85///+tcfpxEqUjWZQCXCaRuFMiHO/4+8k+hqPcpaj1RMP0w/lFRuC//NExGsR4VaoANRSlIRzMkYJ54E3ogDPyaB1oyKoQM3BTJzEYq80B+wf///7Vhy////9Kq1V0jJPBJ9IGFmNlkxmaUWMsGkOc2eX8qO+VfX6bNdvfbowPdUgbspDwaYb//NExHYSWVKsAMtSlGDcH8wF8FS5WVkfOjs1IpGXL8vh+vWQ5FOoaVe0gML5zbzrVLxsTSuhQDv//+louc///6naarNtyDX5kIJc+JuBDMWRhYwaWOhe2AsgjGwlAap4//NExH8YUV6kANPelLsSeNDY2dZgbStKopQsEsNtPQmg6k4YABgCqdEoAxgDJkHiS5qUiuOVchRghHCAECPmJhEBfDYbCwLQ2LERQXDMSAXgmBcjMFIvEUSkhY6r//////NExHAfqiacANPUmP/0tOUkNYpRZ2l//0VcjaK62Qx1FRD1ZgxLSPqKTDioCyRjEiILCy/5xS3WSLRYc7aQ7pQYwxNdqzuMAVtocUx1gQIAmIEClVRMNBVsL7M6b55y//NExEQeYWqgANYelAhPjsVp5P0MPlINw51UXtzZIMGBK4uFWTxJO/jM9EMZ3NLR2l44RokwPHP//4YEzCknD7mCNblKtMHrQpaBcWKOmlTDtUcKXW2QgCBRJxosJxQ2//NExB0ZGW6wAM4SlP0ul9Hyb56Za0JnMMMVTSehIdrrBHZnnmeK7AsdsUteTLYjs0UTFQOBYSgHJg2wi/xxs1OG/IxR2mJHpkDGHZ01un//+NT9Cq7N1BVJ84WMGM1G//NExAsSmWrEAHvGlOqE3x9E6FkBOsxezxViEHkqzjOlnOMyW0uA+i6HyyM0WJBtHha1j6Bw2cmNCEAYEBgwynYjXb/sSMUGyFmDtVWsgKBCmwcM0hjaIAzQiIqTA5Wo//NExBMSaXLAAHvMlDHLywmtZFqaOzmVCLqoXEk6VbSHQWy0Jx8Cv38lVSORJaTk2TCyJSCWbk03/fM8ZJbavLSkx0LEwPIXr4EfZIFfUncx8Ifgc0TRE5X0ZzBWdEp3//NExBwSoW60AHvKlCHFiMeWigL1DLbhqMTTHW2u1isI2FXGuoYcaMoWaYNiXoszWqSEcXGNPJ///9iK7MiDr9wbEtwZFtur0aAi1+JeIxs2azWtF1Ia9B6QqagTKorN//NExCQRyR6wAMMScIZbKJrudj5tS+7tLKsxjlxvH0tNLSIMgFYhCQ6Lv///96EUVa0BlnwPPLBoFlFE79iCqoFES5hUuRuJUDm5TnOE6jf3O33no6xaBt2SCINVSE4W//NExC8RCQKkAMpMcHHGuCgNBJdKJtCrjwMU7H//3WvClCrsyKHk505I1wUbuUM0W4BiIfTVRa4/uwro6qf8PXnVJLk/KEnE6rZAYSm9+NKEbaqTCmAkXn1CosGAibQs//NExD0SgP6oAMpScC6f//orY3vpQv//64/nZCRn2FZ0SL5AM88SXslBfmDeoWuVHlHLUX0iliZL/2g/C8i08XsgXNDEGIXNATOYQh5QsuApVDazWw/7S+Pls+rL+6ox//NExEYUWWqsAMsQlGHDH//1K/eq7//9Ne6UUI9YjoUoag45cdCKvYrqCI11y4947yxzdcfwtebff/Kvmqb1oQ/Ii5FuSKA0P2RbUDyi0QeqbcnnZZw3ipee02Sqe01m//NExEcT0WqwAMPWlClLd///U9H6lcbgwgelMkLYjikEyaUCwbfKPXXGss28xPAvukX0jeHby+VXqmCkrMYwzJL43UrykfJydczQkd4uvFLG0pacmd+91rbrTDKgaq0Q//NExEoR6Va0AMPYlSWpKKCChRVyehyH1WMCyVNN2c3VPbddvi7fbpD132829I2FzNMvl5iHgQ6EKAY6PHpSbSnpE7Sja46xqmdeNrwv7Y77b19V9u8lhY9///1Vp6QM//NExFUUWV6oAMvelLF0hChE5L4WEAUNcMKEgqLXK8Z1Wv4Zf+t8UbKSSSSSdKZGzkkUkhPiwQUC9HiE1DdMhzJomqnU/+tkvrRRouovOpU6FBJ1jDUg86X4HkGHC3ww//NExFYRUVaUAVhoAIqgjD3trCmg2i5OGZuQYBoIKXTVrN1lkcJJkwDQMZEOIsMsQAmykRhES6BoCQW/iHkRYnjBJFnN2TUtxc5XNEkUlrRV01INessF0nVOSf/6vlMr//NExGMhMypsAZigALpEEK61Fz////tUgtBP///7+zWzBmJtInxzz5kOQVSWJ9ltFTGSlHOYF9S1wOCIZpdpzrKIhBgy4YXYhAMbchm8Pxt35923fn40yK05SXuJQj1w//NExDEeoa6MAdp4AE30IVAaxYITgYkR8hdXJPqO7Oaa01HI0QolMU1Sm8RNYxTX9NYeY0/xF+NX38b/9a18Gmba34olO/15RP6nUl+21pBRFwrN23FVyyKqwsDgrIUB//NExAkS6VqwAMvQlUPWQ6FE1ghyHaeoBUcWpRRmtSbuaGrE3nbUdOe5lR2EmsRqROoCnz4nwKzASyMAowkDgpIwz/ipZOfuux2YdZh+nrLC6SsgnCGiaecBsbiz1GuM//NExBAT8V60AMPSlY48AD375Qu6jtR+DZiYTox7jlTa5DhVz05ns7Ehe7PokKPRZpikUOuKEBcEDCpA36xVRiMP/GMF1WCiWqJSAl76o6INvLoJTQxlpc69fDEKI1Rh//NExBMVEW6wAMYSlOnH1oyv8GwwRuqoxz0JlihL2tnqkBZHqtP5zMOY40vN0u9fOW28FopAvvCmaj9NMe/1p1ovvKzpvKImOdu////6au8ZGL+n4goLYvog8oBC6ktj//NExBESgWq0AMPQlLQeWF0E/5g81uSei7DDcVwBUQWSpQUssbwFTrL7+S8b5HkTuCq4E6wTyWJt/zoQTWgcD5EOsYatycdEI1rbgxT+UYUladBaMmgMNpNthAks3nW4//NExBoRiW68AMPGlKkOBabzlkgkYbYT1PO82xSfO6/GcntmVaI6kjaG4YSIEjp8J6yA4QLMGRA0VfzKhYHlCRkDTbnWnrWM/zIEvSckjEKXJ/tjccirY0ecJpnEOFUG//NExCYRcWK8AMPGlUE6Ymd7jfpeudY/1c5kUp0lQ1R6GQxv+px8jxZEM0rt3NGAEDKGOnfVllLSEFXECgofboSVDkpEZ0krWAvBvE8Oc5yKCMj0ry05MNd1lpGtn//R//NExDMR4VawAMPGlbPr5HHwpwZmyAcMfPXQVgRuNG3JxX9ZkdrL3EOhc51AU8hPgtVJCtImYdo6ifEm4Q1CQ/wgr8A1CMgLoRpTn8hUjNnW/iv+vn/FqOyFzGgVDIsx//NExD4RwVKUAMvElYCdDfmfhWTRW1bgahmbryg5kdCJCpgjUZ6ACENDg9qBMGJkR84S2K4t49Q9QkqGjvCMmS+kakOc4M29m7vXa5bXi5WiUBUPkFh7HfijiTv///j1//NExEoSYO5wANvQcGpmECGdYDg8MRl/GDgEZFDBcQLA0SDRCAEA40wfiyK8eIM1p0oX0kLFoXtje+2jv/b92UoI3Xb8f/7kfr9lur/dTp/6ehUQCRiTcY/smYiYi+wa//NExFMRUO5cAOPEcA4iWwcUqkDBJ2gSDNUYdMPq4sRhqgtXeXdNTirkW7edtTFak0OS33/V///9abvus9C1YuXSBp8mbDwU4pdmk9EpGYAEDmdm3DWTyrnJMc7mpdMA//NExGAPoGZYAVsAABwl8ljBBmHKPREwC2mBuvdBi6eMi+fQISRdOepjyFE3rLycum36lrTTvSd1zah39N266DOy1Iv/T7XU9OggxcRSLlBFBdZdRUpL/U36Fk3WufRR//NExHQfUwKQAZpoAUzfosdPaA2wnJWlkgUwCQBeJukS+DGtysc1gCBpVbbNGWkW4yl/OvEhmteGMLsUcHWpVS4rp4rjhpHKRC4yxlrQnMsDgbKGPU1P//zOla22IWNi//NExEkUWMqUAdpAAOmqdIW6zoNdCok0EzdHHnFAUYO5jQGYMVnJFxQJuELCFLfsQUuOTKGpcSimAWnBYUlajm7q68IcnM+3s8PypO0/1t41c69TDdHzfOMv0qr850iV//NExEockiKMAN4EmSysQ62T0dbqzUbb+39NOjKjxTFX16/vMyocF8frn+s7vamnSUQ/XVWqh5o4pxDijcAIkHj8AGJerin2Z3uU91ygPFRrGT2jcSofytGgGmqFOwZ+//NExCocof6YANPGmfF6aiz6x5fSJHk24wZ9crf/sJHzPmwMQJBAwE47mmhGhOEQqcU0KKlhU+9hWFhBHH7WQh/xXzL0lD9vn/+6u1HSZ4I6dwDPrbqisAUHMOM4W0ja//NExAoUQxq4AFiGvf///DOUqt///////r+X/OVBfDdPOhFgQTiHFojvDT9wnbn2IhPuZMMHPCL7uz+mSWOADeSIIyNP/3Di2EAlcxQhBCAxYGLnctmCPFf//y////////NExAwU8xa4ABBQuf///////8Xc/x2i5zrk7JCTzZQxKsaPpKFZOSriRRBiREKPNSWEuLn0WOjspGFRgwqBFFB2ojoFMOC2umGOH6q5THqxghnIIjmrkiABf////f////NExAsRGxLEAAhGuf///////PQvLn/5bIhq5E91uxBlUFXWLQaEZFMh5GrcBqjX2pRnL4uRsKitupTb2BswplUhIkoLKHXOFARwYjrDAyMKicoxYWCAJnxp8QDGPqJL//NExBkROD68AGPSBEkiqfxWn/YpmoCyTKeGlhJ4dngVFXQ6kREyJJYaBp7Bi3V7YNHlPDR4rKgq5lke0l0Yq0USeu2NA05KJRsBoodOiCHqHRbFWytZfFPOphmM0NjQ//NExCcRsUa0AMPGcMpa8NbM9dzVDJq/BC4gmCxDqUmQLHDg6fKJJf//9n+moO3DyDWfmKmppWH0An6paSOF+lIjLCNjo5YDMaEPAfhps6DckeUimYLWlz2gfzXmzcPV//NExDMRmU6sAMwKlDDkh6qgVpGw60QAzqHh5C7///1VtwyQnDvmAMWRBAgUDFVKTCjjEoiYE3BMKUq0noBqr005E9ISaIXosMVFEKfxaxfmv+cW//+Pq3M5WUpdmUuy//NExD8RWVKUANPElXfDCoMBLiowsBT1EgI5CAMKA2Hg0cMNAlVgUIhYdHgh439oldCAkh0uZcezJ6Mcy1JbwXtfXNt4/9v/+rUppQCcgErKBCvaj5FYKAuV///3fXWf//NExEwSmU5cANvElAEfigkfSimMBBADoBR4JUuYcwFltaI2HZSOIw6BRIosQys6/391V2TTtMxCFVEdzvbyxQVCxr0ZWcnf9qea2P3it/X/+tU34EzpRFc9C9J1rUEw//NExFQRkUpIANlElCZ09NbuWLfd+1lBgsOUapdmPH9zWd97d/GtGOxe7BAstf7tAsn6MTbfum00Fy6EGTEaqsSIXS6Uor8z6i6w1EpQatgQdHXBs2cb2W+a3+dqtf1T//NExGASQU5IANGMlGUp5zZ087WJVns1buGneiSgbu2pEpTupcMjW1VUkZmol5UWHKAsM3x/b3KS/oZaN/47UOUaZLR5r6HcqdX/FGWIYqP/85ydZzxkCHlcAHoAyw47//NExGoSoXpAAVkYAMi5PyDhsIZGC5wSb5w0UaRCYW0MuCMz/6DJoLTKgpMyLw8jkf005u1yRJouDvHeMwO7/oey3k2MwM0JwL44y6O8of/+yHsxECfFwEUJsnDVxwFA//NExHIiKyp8AZiYAKpLf///upkPJs+fWkQAnC4gZFknSGGikrYk3Qj8icWMIxUulCVqGBMeSQXHQBmKOwJ3YfvQ3ppcFNdcNrcoZjTMwnoKsC+R4agnA61I2tafYFRA//NExDwcUV6kAdl4ALrtnj0lzKwOH7a/uuEI1WK/+3ld7xn6zujybLzW9eIFz4fwp//gFxiYOuSHIoPIAJP/2dFaKqXb1HwrM3BVdisw8ZxkskTqCsKXVlbZZ6VUpfda//NExB0YSWqoAM4SlLIY+yCRYF73JijtoUNtAIwyvjKYlLtvBa7KKlrQYJmlR7lAYFSIECdPJtNWilM3GOS1Gi8ThKiTNxVR523///937mvMVdWX3CSzzR8lNrrfgKmS//NExA4V0V6oANYWlNtaeswAxj9hO0WbTRhEmrgstfsTgxdHrwGHr1qTaxaTDePNRX/l3/QeqSjzh3LPQA0Tmqfu85fN+atyWPqyZs5h3E7v//+R/wbVqx4kGgcxExGB//NExAkSEPqgANPMcREAGgSFAOorFd0W8WGApiUlhVhxQE4SsQ05x4AB4vLcEOEyj8Fjd/c3Hmd+U8zhyOGAJLmo8Ox//yvMVBgqaZVG1hYMDn6boChFPAwBIwybAMSg//NExBMP0O50ANYEcGZMPQGsNs5tyfZWRkyygM5JJ8S7q1YZv2qW93dqlZStt7TlZoICd2v9glCaVUnIPMQGOcGWHARQxBcyYkxYk1ygtaYUKzsuWveRQSAQ5AAMxgE///NExCYYAnZ4ANTEuAD9j7C0ccggZYMES+5iV0HboIIbU06Hugz6H/++e//1e1yX0/////tt/T9ThGkwAAiQWc5JC597cgrKSjpg7SloUMGNwkytPMxZwNeu1OMjb8pC//NExBkSSVKUANTGlEIAghcRBgSqBbaRAiTdiKnzpMn/qQVulbd9yhAbwGL//+F8LnYHdWEGTn////9CDSqksSc4Uoe6SkjmGAUCI7nLiFTCIweR4agBoBpNkSAwRAFD//NExCIQsVaYAN0KlMiUyJZGPOofU+rW+R6itBR4mb6tv+PwEdRgjT///7LvrsesoEyFTh1zDDsSP0mRwlEthYs0opUSAgUBZUTIY3A04YUsdGuix0v0ymj9T/bU1C0N//NExDIR4VKYAN0ElJxqm1bR6as6gniBRgi7///1/1kTQUqKQCMhByZCzheYqnBiEzgCmplgizh9GQyBEBfwKGTBrcPASyyQPrKZWmaG36P6OuZpxVZW+X/iJSBY90Fh//NExD0RYVaUANzKlFPf//+t6fzOmmbluAY3N7wBg8ERzRBUoQKELUlQwGsKFUjGElTINGwNgAFCyhqQ5XCNdl7c5ZiiLJfDsRKArP6wE0JKeDR3///hv+RKhpX9dQsL//NExEoR2IJwANYeSBjoMBj80OVDAww81NaJ0AJdUKD5hwG/FNKaC/StyTFxkEZr0mTyzUG0+7Xln9tS0Ic/r939Ndmz/9m+y39rFrUu6rEDWj0FlFDIFsF41WhQuPbE//NExFUQYGZQAVsYAMlm0SWDk4dNwIAwbBQGcGCAoGWKgZMcT6GBz0oCg8ZNIDJmgFAIhwgh9bsgwWtmpA3K36032m71o/0N6a5opSKSP/L5ugXGM30DUwNzc2SSN//9//NExGYhQyp8AZigAHbsn3XME3SfV//63Z0FNQQmjL0SmmiVjqSybQSTNjSWuLoYq4sCos5pePaalKSasT1tKsvgSEpDiFuK08DfNlHsj19MZc+H+p95Y39+/zuHg+Ed//NExDQT0O6YAcl4AMQYaiormOmNMEwC40H2fIYH1fnP98g1Wo3QqpXRsAGhDFtvLmzq+Y6456dtVX8+McwLBQ8IgnGwhSMnJhBwJM6MEpMsK1SW/O1rgmxdweAuocv0//NExDcQ+O6gAHoScG/2L7qV7i3LdW//29Z/pScL4G1kAJZT2IEjmKIgEOSEEPw/zajop2KI6jxXl29hfu5p2NUMDKlIgr7MlmWMo1Qrz2UBoB8QyUPhxB+tUm8503/I//NExEYWAUqgAMvYlLL0mlbn9GHfYFwJ///60nGf6YxGD4GFvIB1NwMK1WMWMAW1kFrcq7nq9LsrdLnj7a2GBG1DBK4yDsdQpAMkGY+FwnoRB0mj8UjN46hl2Zmdncm0//NExEESsVaoAVhgAe9N+2l2ubv0NFY3+qOTYgvQntCxmymBrs59KMRFjJQ4ygrMaLguFBwa7rcpl16j7Q8qrMWtWue/zDW4I66yiF7ku1NGxIKaqV813O8yFsMCQ69t//NExEkgyX5sAZvAAIfWExRiVm3dgGrDtq1vdzHljlas8KxZBze8sJPT/+H47zw/v3dKCj2WIxympB0Jh16vrR+KMw7b9XRVeeHU0GbjGAYivMuPAiKjX+/l9vD3tV3M//NExBgWEiqoAZgYADv39c3zIWZEBimDue1iE7mGHuqMLQMq//+zoykQRX0n9Pm5OebOluovXHz/z//Y8xzLnhQYFWGSwy78OOX3dONVrKVGtMQKnB5IxIwDZa2SRxuF//NExBIQwU6kAdhAAGWe8+Z5a53P9Y6W/1/MQluJLEcFInDRizdXCLzTTCjHPPIIVKcsZRkCKQMJt/1//4z0dzTCZWZ9rHAZ4LNMDY7Zapfz6m2mPvmGfdU6Gz/slNSz//NExCIRoVagAMrSlOWjkYhwA5XG2nUvNSvH+yhEjLqe0F5M44Q6Fk6VkiG2///2WrWmKg4lAnaZCi8zjAcJHlrrvtrdnuqNOQdpcdqjRNL9/KKUMOIEIQgSAgSvgblD//NExC4RYU6gAMoSlBZSfj7+spqUTSn0utAvFw9FYuv///yRZckySeBdgL1EQYlgnqcIEIVplr4dxzkm9J0rq81C2trdd67jdxW4PxsBsFoSnCV1pjZUm5mJiYrrflRq//NExDsSaVqYAMrQlJNoo3G7aP///Z9P/6lKWptMgj1HFAhFkALJd07gE+1TweBVd+eY17T8n5uactDes17KschRCcsFI5g1EuxnY/eWVPHVjtOnPy2Tk98zs/b1xgMC//NExEQSOUaUAMrYcIz///oRzIEAzVHY6w2vDXdw3y1hgIQxAKDxV6Zjj82rUyGSgswlCttjzmCbwBkwbQmDagnwns2pGSq9Y0a6hzloc7//////+pSMlVBAeOgmeVGx//NExE4Q+OqYAMpScCccMwK0SByIawGh4ho2BtpxinTuUJxuIqHrx+Sx/ffSiEciZHRUz1jbTrDC7tEL5jC1C08mfBhqP///7v///1Xg6CHr7cRcQ/AcTaIFljLRJGVu//NExF0SaO6cAMsYcAsIWYz+ffCTSRT11k9MxCVrndtmsdSTclW6UhgMAhVhOH86nZ9caybA3rSire5ukklCVIW8nuTciEcBCctIAUsMOff0Z7gYKgCKEKNtPVSljPob//NExGYRoOqYANYMcIJZQmQw1QESMmigCcq9T8nLyTnIiqlndmdxJgEopmd2st/TpBsNKoSQlwUKZOPnoeBA+bMkQX4PgBrY4OPMrBtOfZINYcMssQzHR+NYodaLSR2B//NExHIRST6UANYEcXsu4ClqRWhR8aKFgZCQNk1lEmHLAwKipw0T/////1VyixSPODkLYoGEpwCAHFgogAxQ9zBzVCSpQnArcFATqhzAUYGmR9Q4zkvkUdvfP6P/i5N3//NExH8SqIKUANZwSPfa9N6lu2ojsuzXTKrqQMXJJ6GAmsyNLigIsm5xoEiiJqOK1I3IpqbF34sMIL1FpgOFlKxH3oIflssxqby339//9/////SmlKLWlC2dGtZ4tCQS//NExIcQwIKQAM6wSScbpc44EpyxIYTXaWDmI+CUDdFQRH9Q0CHRobRyYCKgJcXfAIiLalj1O/bmamW+5N6qjN2buqLrS+jOcEcVflgnJnS85/7Vm3LNk3KBRVGmzGUw//NExJcRoVKYAM4ElesFmSgdpQyg6RdY6FEUYlNjYVXUDUAe+uUQGz11rGcAznZj9d/ffrc1z9/+/P7d47f35v+TQiqP7eibyQ5eyUxyMkgZFzZr////GB6MM8MXhEhi//NExKMQ0RaYAM4EccE4ZMMRMTCBoBCgYYEgkQgDCoIHV8GMkRBKHnmoMkHFUc4zflrHnhpiMw9MmlncMNYfn2lu5fn/86xuRe/MpniN3ZcxKxByC6PdjywBeBZY0Okq//NExLIWAWaMANZMlI0GguXDX///8rWGhRWyKEDgawEJNLvNwDgA4QstwaU8YMkDERiBoCCA0GIAxZs1nUFQHUiuJbmci/CRLQJK2z0XJZaq97hjrGpzC3rL7vurBumy//NExK0ZkW6EAN5MlFX7zZitisJHnPNbh0ErASCKB5w8wcgbslOZsLw5///rZeLpAypRUdNAv0YEmb4orYYQuiaYkYjygPMcFEQBTZpZoMcB5gSwCwA+BkxzSTHNHYMc//NExJkaiZJ8ANZMlEEWQVIrWutZqcelRtcLGJiZ/1hnShq1EnN6zEwRqOKBQSlVgKHP///6KhkCMQNDlSYxgzNABwCHItoc0cV1peoBRUK44xylwDOE1ANQGFxb1DE1//NExIEV0Vp8ANRGlGxAZp/qW/3aXLPokMmz1MrSVFeDSniVjWrZ////kk0ZJHDpGfNm6PlQAWSAwZF0wwNraAVXJ8BqkeN0sJdkJakOVTarZn0asKNmuox+2qxjZtVg//NExHwR6M5sANvGcGMBAoSDtfWV5UsPcRIqQgKqF7NrFoB1KtWJ/RSxvOSQB0E7QImF5Jx6WMhCdH89Vn6DhsVEYJAJAq65ho2RORUVgUOIAbm2XXlTmP7Nft30b607//NExIcQWNpAANPGcD/rCDsNVC16WUADAFHEcTqFijjRkrc0KGhoNiwejz5s6TJEx6wqZvVWm7X5JSGbEU91V2l2kVzLEVsfUh9qG6Wpue561UnQyKmLdXthMZp+g5o0//NExJgRwNH4AMGGcCRInFSZJbiRgoVXOKtUYJCOARKbFBdASIjmNAwobqga+KJPdhbSqvev3N6F+7/tT/WqOZHDJAEFFAoGJ3LpTFh9Vy6G7Qtqr0weH1x9EcTWSsVl//NExKQQuFn4AMJMJAUDwyPBOQj09jQTNLdKho1WojhCu01EiYeXodHXdDkzYOPWt1GFc1lKMo8u0p1M+WOZS3UYV5daDU5e1spnu1QrGwxkOy7c41BTCUAm5DU81K+i//NExLQPyI3gAMGGTBTIgC60uy/JHoLE1gIvO3UEPNwVcwLDTtACDTSwqFRNqpEJI7JEijlEiQoKCkoMdFBeApsIK8KOxBfBTchnhT8RvxXeK+E/zviu838lMwE+GZlq//NExMcg2eHMANsMmcs2XLTDd+L5Qw7DOGuQ4oneEyZOgQAAAhfcmDgMBk0/BhAgQQ7x3c8IAIL/DgYGBuXECACFom7nEQW/1w4tzkEAQnFvEAPvWD4OHIIBjwTB98Hw//NExJYPIG3UAMJMKUHKBA54Ph+sHAQwQP+D4PoieO4cLjg6lKMugs5cTdIouJgjju65LotAfc/Hw3MhqKJeJ55B6U0E84jSPLE6ZesSnLpynQqtLlx1rSFuye0Q12a5//NExKwAAANIAAAAAI2uRkTNpI1ySRVVml5KOwb3jX1GSr/xKjrn1lzE7NqYusk9LTlbrHMrvrKPlrybzc2WZOPm0Up4v98PvvkW1wcZdaQLWV5g87B09TYgARha1sSC//NExP8aKWnMAMGGlCXCrluzPmTQNAL70eFPF5k2OkhM2OsH5vqEYnEkLjqcnrz+twl3Q2sj1etMhgRTIlyGCI82Khr8fWmpeml27Zu5iXRdGtnNeJhJ1HWiYiUs1Ake//NExOkjWw3UAMsMuUTESlupl/GmTjiMnMS5u1N7mq6XVq8qJtodzLbn7jrslg1iSI0kkSWR6XR0ugMR31C7btw1YyhynBiHEWviApBQ60hJhZRwVcNW9Y+hyqb10aLf//NExK4h6xXcAMpMufot2zmy/a4bZe29VkatDDw64WuuWidHDkpqEJDSBe2UdcmHYzUIgoBVRwUlUAgwqqFAS6JBURA1Bo8JQ2sFYNHSwdgtEp1R2InqfdW5T6q/LS2V//NExHkP0HHwAMGGSJWnT6P0+io7GBw01RXwSPWMhpNsgacwTNwIzA+L/1jSobKKlgwukiJF1FSdRdZuC9O2Fy2E6xtRN81E35Os86yoPgxb4cWlCCLQgjIOLzDi3MIg//NExIwP0HnYAMGGSEIOQQYOYcdCDjpAAugZSgbvABHgAiEHdyd3NEACRAAjoGZUDPgAUohEot3givEgiu4iD8EHghE9AFjikFKUEL+vEnuuxnzMILexs8udyL1Y+F0R//NExJ8g6tXUAMpGuADJgTmCATtEp9EeaTmgkg1Cag40dTTWjCeoPCk9qNN4vCUdad51PYRjsoKh0CycK+RLtsMzhmXpUltDNimHwwUqURSOBnjinCOJ9B6RmEFqajjG//NExG4hix3cAMJGvBSYhWWxCl8SJlUErH0MrVQQUERgwjw8QipIYEGSBlzDIxIIDlVaUSi9XuYGHVwm4fQWRuRH5JT9T7pTzU5500P3PP0Lf02LJLCQjS6Vi68n0/pv//NExDoUiiHsAMDGmPv8qi80eFDIWllYZCgWckc6NfG42t//zNUOSIQtcZywWG4xTYgSVIVEMmiz2WZpBsVGDIxhj3Rmx1BMNsFwCdB0qSFXko485SVUsS5j2XTV+imn//NExDoQiKHwAMJGTE/Xo9qv7O/0KgDGhLMmJEJOsfUVcF3kR/PLs7pXhpXQnYQEEBx0I0UABd5hZwmQTOPsFNEo7PnO5+GCZCMGgQTiAgoBgS85Jh+ouRY3RSiHIvBM//NExEoRKN30AEjGcLShYy8w6w4UcWMOGBuHDueYXqe7/Rf8ACe5QMAROYLAVBIDLajFMwxgxkm8ja9IuTA7bRxXsOPAvYuoLpc1rtdyjn9aN4QoQ5CpdWtm1t/XRKBi//NExFgSKM4EAGCGcCRIoz6ryi1bWqs1VVWBlVYwYCAgZAQNPyQif7yoKgqGoNA0DQdiIGj0FQVBV2oGn4K/qBoO1gr/xL9VPC7pTEFNRTMuMTAwVVVVVVVVVVVVVVVV//NExGISaNXwAHmGcFVVVVVVVVVVVVVVVVVVVVVVVVVVVVVVVVVVVVVVVVVVVVVVVVVVVVVVVVVVVVVVVVVVVVVVVVVVVVVVVVVVVVVVVVVVVVVVVVVVVVVVVVVVVVVV//NExGsAsAQAAOAAAFVVVVVVVVVVVVVVVVVVVVVVVVVVVVVVVVVVVVVVVVVVVVVVVVVVVVVVVVVVVVVVVVVVVVVVVVVVVVVVVVVVVVVVVVVVVVVVVVVVVVVVVVVVVVVV//NExAAPSxn4AUIQAAAAJOHAznb/O/6kI35zv+3IQhGO//////Y5z/////////yN+p3//IShCEIQDAwMDAwMDAwMAAAAAAAAAEMqir7mcyuHBI4SAhYhT8Pt9DWFJawj//NExBUVywo0AZwQAVT5cORgJ1EoN78ha/JQyq45j/7EZGs4T/d8ispnZV/8zIzq8jobcv/+s6faysQxKXOVPWZLfrVJzLsRU0sc42kpk9VILK+Xq79v8xv//////2////NExBAWUyqoAYU4AObMH5v/MjcnjhBxuNBWMiWJh5Sv/6EKMo3Jlh8mJBIbhxMHYQj4RiYAASwZ//55MgQZyDOYx6NhUFgJgFg8AUC8Mg7AuDgAsSmVJf////////////NExAkTowbIAcEoAf/+nPZ2qeqKrGNIjshSO6mcTKUODmEhJxw88XyB8jkGtHzlQUFjApxKV1cTO4sLkUzOdA6kSMp2GMwiJIITHMwxmQgwCZUj1O2c/5s3otv9XS9a//NExA0U4obAAAiMuX3t8ijon/////933/7XeOgp3bc/Z2KdnZMqFsxp7kqJORKfkXtF5iiS0SObU5aSITGjysw7To17UVhRKh2Q3LyYGiFZP++l/ZfcDHe/cxO2pO4E//NExAwUEbq4AMGElIK9PqbTy7vx/3yIj3e3dlCCGJ3H3V7HyNOcx7qif7u7HciIxjSlkzdS6G4UBDxEBiu5IKqDqCwVOsxU6yrWgivVV9T6lcbgwmaREMtJAJkBO8Y2//NExA4UoV6wAMvSlI5VVJ95+JlifQTo3li9md7ZMLNcqjbarq8XBXMRxmpmqxqCSVZ/cIJcsO4B4/JMkqybOn/WUmg9hurPx6bxW///84Xehb1trgvbIMjGDiE8JPlA//NExA4SCWK0AMvUlBI18rj4vuHwpflS/rnfXmj0WcZVOcFuWLh3mJ4ZifANLqJrx8WqHEGI+x6iiS+X2xripUSXy////xMqrVSwIjvQZhBUbkgUhd/CWq1+dGysYLIm//NExBgRuWK4AMtWlIH5UWVEu8pKWKqLgoRILGcf0o1XAJRzIpzwY1RorS9C+F/fwZ8Hn6Jfyvb///vR7eixGHJ6pfGG8UQCYOxNJ596t+VbH/ieznqR/vtX8G/XKkiI//NExCQQ0V68AMvQlZGKj4Jdr8OSKGhWxpovAhh5V1WrscnH90SZKi1cHuSVs1lUTNKMx4ZpIZGMoF73K6yMcGdTEJB/tv8R1htt8Lf7VusQXlHwJ5wbje8ogxSQel7I//NExDMSmVa0AMPWlIP6JJBirn2r+2+KlpzSJ9QbHCr1f//9asNswNRu5VLVpY5MyH0oH9Q3nXSUxDQ7XXt9uWPlU7ypY+2pV3XQk88oB6sbkR9wZkzKSHgggahh85yz//NExDsSUVqwAMvWlJZ7r+fKfRbcmtiX///6KqeqVAD1aWc0UwDS6L0F9kqn7HgA0eHK2yUmu222pnatHSpbUGwsJl1ASnDRC3FV1kJLC6lZC7VWfiLxKNDpaplXCC57//NExEQPoP6kAMsScKiROVRgxAUD32IhgkXZUfAebn7V7trS8X1trsOrAeBOJJ0rJpqWGxBLoxEysPJqSoR0rYf27f/r9vDZOupVMvBRJRYQeivLbFANVBB5mwFDkaoZ//NExFgQwUZkANMWcRANVz1LLXzY0jocKOZEIChlAba2U4/O9XGbZiw8GXKeGhiEgYkAaf0EftV/d/qfp1f0VTRDwzgIMCAzjG1J1+l9upYvSz8e/vuOv5lrWtf7MVZY//NExGgRyPJIANjScJGKIAEe7alLiQs2UGYFTY9bE1IRV03Lb69yd4o1LP/r9XWqGji4xgOnUfcQWh71XCnLcW2/1SQIpS7HPlMZsEoI1DJ/Hkny4QwQMQgy4kfxWg4D//NExHMQiN5AAVsoACKJBzAdhEhHo7vyo6jAgBEBvUSgeIf/K5gaG6kEzchx0hSHEsMp/0EEEG6Z4jWL6i+XHMP/3qQZ+m6Z0+YF8uHFKY1q///36b6b6C0HQQVQPmp0//NExIMhOyp0AZqIAMS7E9LjqZkpA8D3kUTRt6hcIxy/FIXw5T4Q0lSVAeSBHAnY6WbqAX1fnS1MfpT848sad3VMo0r1YVx4sQ3L0YQD9ero1E+dvtLFpLLrTad6ES33//NExFEgYiaYAc9gAUSEUwRMTS1JpO035pMznUf9jr5X6dO0p3Xm94bIx1AkRDgV5lnYTf4/328Ht/XxH8UUuaMeG+45YisdUtefRuD0hDo4Eo4IxBeXq0qKGhUlz/vT//NExCIYiXaoADMMlSOB2NMFMQ5Fh1CiUHXSAIJU5nxpSYouVkOaoCPAAQZQElbcjB92BjpHc/6AzuXejhcYslPLPUkY1nVfD11v//6qudgoySB2Irk5DLJPWibX4fpG//NExBIW4YqsAMPGlNIWhbkiB6Fg5hyHAeCIQtC1QXIy4FNM+I82Xt8TYx8n+ZRBjoLYCUFMUKgn82yyVIZYwVCDChdJwZIsJd6HSXAahdFlFykWMq667nMISiMOPFEn//NExAkUgW64AMYMlDa2yUMLyrJOvNONhL5PzSykWO7s7LS+EatRNLS/p64GwwoKXmrmP5by3n1WmQ7giPNKJVWVXQb/f3v+kPuoVp+SFn//6quigsnncU3ytGfHiY5U//NExAoRMW68AMYOlL72qf5kMEv4x0tLVrV2O27lOxOz91O2zqZaBvHJ++8yh/v7w13FRBo8EmFWVBVzjNV2uhV83HX///5OzyxGVyZ3K81tLCSNYC0Ei3wdZqbah3IL//NExBgR8Va0AMvOlDgb1szITH/Qhzw2B/PNwBuM/ye1/hhdDBa7iYJ0MFABrur5Q/Ujs+PPsXln////opy43cZnl8ZQ6RkBKfMNNXMwPVE8okqp2xFyjeGhtO1nVGov//NExCMRURKkANPYcCOjNLw9vUCx0fRjyBlipKPtTP5kIhKrLr0u70z1mgKd74dqe+ddoHyDS0AryKxfhDDFYhyIISu8ftNN0b7UxeRYi482Dbd4252T9pt2ubmlAieU//NExDARUO6cAMmScBgThYE+p9es+QprKdZ/awp2////5CqrNvQY+ABpEvlIKFEQCCLKxKLHRd+UlGU6/fOXtuW5tWogRLlAYJgsKMHHAAcqAGpoDucllk7Uu6Esc4fU//NExD0RwU6kANJKlM5Wz/+q3///9GurPQ6DSI2pizgis1M2gikNvl+hnHyb5jol7WXufzhmyx0CwoLJ4LvvkAcuAfl5pmvZHGohcx7L+ug2FirHUQPJ///+XH3er/+q//NExEkSYU6gANQSlLrG5AIJ7EqaB9xBONFwHH2M95sn1ype898N5Tr5/UdKZHqASxUQ1AEGchCpqOJvC/OYrMxmQNTQXCBAQxXI1Yrozn///U1d3hAYM1VjsQQYUiUV//NExFIRaVasAMrSlHd1TKn1NmroL36Qf217L/0g3+/hcpNIAAGcCgrka0NX6u3qq2Hmsw3T6fKfZdbm14Ga7Y8RoD2Fcer9zQEkzarQF65ioQAJ+xeYZw55xkdEkU0i//NExF8RWVawAMpelZ1fOck3Fj1G1ZZQwnHJ6VhuC1w7IstWIFC6IW+KKapqvqFGQjnH2Gz7f///ov+bDL2NOwvbc2mtDUNKGMtbyfiNs7OtqlWIZmVPssFjfNsR6rmt//NExGwRcVK8AMMQlECvOVvnUMWLHfO44wUUfKZdDzhgEgf8f0zt//8Z767WWAQR+9aA3ivQbhdTn4aTa3h1h0iuBEB1CHh5LEdaYQ9fNNUHIljpVB7mAXYng+y4n4n2//NExHkSgVLAAMPMlRhrLVOxajQLFtKj7RsiBHjgcQp4iaY57+9n1zM5D+88L6VV5mSFZ/SJoSehZNZeNrVMuSLsYCWKBnBtppgLAZSfOKhdyVKImBnk1JCmCHmTtXvG//NExIIUWW68AHvMlCgO5faeFJlO9cniFA20JyRknqEV1ZQl8yeyhUWErmrmFqmtiswgLhcmoTexVxdjBg6DfhBtnCylgFKkM+Kvj+cj/OKEVLKpQkRpDDQhiVN9JvDf//NExIMU2Xa8AMPSlHzBrUdROZKk0dQOiRJSUfh+WnLv3ztnISXVLIkTKla6szAVUxSbUCzbrYyYxajr6VSQtEMLVPALdaD6n78J7trRgdpw7P5/c3nCV3eFrR0m9zcc//NExIIToXK4AHvMlMwSgWAdKHZLSbrpZ/j5zcdsmMI6yQw/TaaWheNC2Gy9OUEvZ14r1Czn1Q485CYhMcze7P/psREs0DSp08qGcUOzNg1GPr+TRMRDqnJjc/z/vLf9//NExIYSqXK0AMPMlP+cfJlEekYad//qFqezdKqmmSHF/KZojf2Yo89xlAEJFzoDrDohXiLevh7ec7fzBTCzFgNYghZ92evoqtdBRwmHdCwVFlBM1NHVf//b2aL03f/0//NExI4SqXaoAMpMlHqqzxLGLv+lI9+EPr/9qZWXbVX0Uq9METMH+lPBvpshJfOtBcqjcHh+YPDki5NBA3pI7Cf9TTRUQLcH0ODxe680z///Z///9FXWySNRnIkCango//NExJYREP6oAMoMcLqFTIya8uV5a90t106yu/4FfSfwpvD/Y3GyccoJpq5hG+FSgEBaQ/OkGxthydizZG4h1kfXlTkzk7lXROVs//+1SWfo/ZJKRF1CBBvqojXa9MiA//NExKQRiQKsAMvScPYvhBDlk93Kre4+LPhdb7V8rvXefp36LdnYsL2QJhMzDOxgLyzASljMOJSBRqMazJ1I3exYtyPOFszacPEf//1SRVXLY5co/ECxZoDtiLqeMeER//NExLATgW6wAMvQlBj2MauOFGSOSTyt51lmFSdx5KYSlZkCyOh8BS1eJ+ulAXR70l8K2N9/yb7bF8L/G/fXbI0Nithla9P//+RUqx5IEO01wvWuFJcy4X6qhH5Vds6b//NExLUUUWasAMvalBRZkjbgxc2jahW3BrSFb49ntYDNZIDiMoTVrRB7srxlgwGaNmv//tbNa41/vdazRnuO5WMFUY5VlawuQGLJWqMgxFj6NwGOJtAfQn0Zhi1r/81t//NExLYTeVqsAMNelH9MwYuLUtGw5W8jkxRkwBiVb1FKJPPL0fRo1j2KuZqWDRGHVVzMMMWMOnToZI4j+xNiKw7WIDeCWueoDHCiPJWxZjJxBpFDlYPQsH+hbGI4LQYB//NExLsR+U6kAMPelYpCzYJyPNSpqOr2DwokLCYw80R5v79y3sgd+8ddSKGTEkDorl73sUqn+5PvrQguPfoPSfsycz/7//IQ/Mu/0HniD0YieRQzywB5h/F45CFcIe2T//NExMYQ0PZ8AMvecGTFBDDl0gBoOb2CKGAqLLVJitLLXyppSFcpaomA/jP3nrwIppLXxLbt8noZANcdEaRBCmKOb9vA4FJuM01CXRGxRXyndhfjrVZPC8PVffG/eHH8//NExNUesa58AMvQlQiYgUzvMKaNFVkkzPDjPNeJ/9f/59Xo2v99VYEcQFXi2hg8N+Wtcwz8MLGk1aKsQK0UsFbhaHD7aGJFSuAzNQyYvSDmEmLbBKkoYc0ChR1W/cUT//NExK0hkZ6QANYelKS27IYeGouEIuPqtTURf6kiT729Ra9VEud0xWCuCdztouDhGY5swNWT8fLzdpYcFSQGJFvGJjmewH8YTvd//+ocRZ/GKt1iAUSUswWrduVCQN6P//NExHkaiWakANYelBJI06lCHh2RyBGRrIvOmUKvBB+MkMQZ1oLW55niZSMTfn9XUSpUGdwI1tVDSoHys5ybVbPZweOSVLUic4L3puZxgrtRZqW5VVbpzjDkgK4wQQFF//NExGETMWq0AMvWlNHzPos3OCbq3gnxNIr0GhEUqSj1g3yw79c/D3q8tUCw5SQg8bbF6rf9sNeRxjOYqjFEVfKGsIvJDDm3ILOs6XwatieAgZuPqdsNBa2k1VyeKeDH//NExGcRiWa8AMPQlRY3Tei5/L/Dm9LfBH3kzh6ok7nNgqEHeiu5ykINaODgSu4t2ItWo6uGrHHI7ACVL8umFm8lIGjandGXCMRzGTgvS0TMgyDQ95GltikGtbf4+TS6//NExHMQGVq8AHvKlV3ZRhjYERBRQeoXyaGPM5SuG7NZCYPKj4hC5sYS0eVfZdZ+ourQxCuCOq5IE5Rh0GNCJ/USQfocRPj3WLxoONy/UbGdY+lhnc1fMgoKCT2GIMqm//NExIURAUq8AMPGlVqbC9ROw+FKz9q/LTNiTOEJsYektmj6hWZBqvB0UHGvKTpwURdSWkwdkjI0BmHeThZJUu4rE+jQcf6zWv3/XDHw63TwvqYUs+N5calhRVBFXTVy//NExJQSoV60AMPGlcYBH66gYaabygTC4E54xtRYooE5ZXJpJk5gwjsPcUgIaoiWmEay4OU6U8/1Y2uXVLWdLJSNVwFRAosHD388VREETAJWOYh4yaKTFrmMDhQyUCB4//NExJwR6VKgAMvGlcQgBYQByUAiEGTyExX0saGtGFvsoM61Wkp5biGFjVrzUVf9HLIcgosrX3Pu/X//+pjf/6n0aTXB2NL1EwD2DENGNFgA3pAzSIVIQiYFGg6DTPwt//NExKcP8PJ8ANPGcEvEx083kbUmAyio8jvOB5Xo2H6+bV3RRDkATFp7Z31CKA6A0T2vmb74t8HmbFKpD9jdmyqyZM1L3dPrtsy+5jr5hk77+mP2Mn7ur6Z62ybrpe3y//NExLoSgO5gAVwQAPffLV9ro97bz8R/9O2xxP9+xlMk5Uonqk6DOAUqB1pi8mtC/b3IPy0woG1fyxH5HBq+DYhCeFBqXEADolyutKAbmhMIh5yBubon9I1OB4aYFA64//NExMMh2w5QAZxYAUKfxvUQpxAQT4jZVdf7mPWfdthFtz+z+viLt/3bnsZF0z9//v79lO7dUrPfNftrtzz91f/uq/v30fexlaFbpZ8o7ZNFLHKVpW6mpGTFhY0DdInC//NExI4gWwqUAZlYAVEUeIhIZxeOyzF/YHmmWx9uyRblyuDe23h9pNTC4ulQcPEhUuddNdRrrHj////8t/Te+tR6gfPL8kuhqKVGFSiCYRAYGvUR0BomGF65kaB2NDWC//NExF8RsIacAdlIABDuSpvDzhRgVV1CCqEAO40B6EMi1QvxJT2q28doYIVCFPv3P/37/7jO9WnyZMAAkhPc5X/9tDSTwuG48YeOockXUZsQSzK0NPp0qs34MXaBRlxz//NExGsYiUKQANvMcDK5a7MjchhIlIl2YYU+ExG519ohqVohpFoXAuxFnAfjPPbPxrEaJqNqSDqSWS0PdYVK21n//5zOP2/b6t4nAPIyM8IZrSTJp3Z92xDO37Yem9+H//NExFsg+v6YANPMuWzXu4fYd8IDKftE3sbrPvu7/eyevdxn9nrbLtjEO56fZ9snXhPbgJYhzdlbj1JrSGJK7YXuv/a0pa+gZylK3+//////6PXu/D/wVoiPrMlrPNIa//NExCocAxqoAHiSvV36VpASJm5sLeCS4rfhG+pz5AjgwtOes2tkfU5HDJG2jfFqu1CEmGFKtYgJFZJqNGEaSrVJUKCNYjR6UKog3bxI8cPD6pUoHFl//////72OxSEI//NExA0RQxbAAAgKuHYqK7FIYRZCmDjKpXKqEEtmIw4pCuNJlGEoLqQRScjFMKmU5iocaY4qPFRckFGCwgDjhpVId2GkxOc3N//5Tx/m0X///////+//YNI5CGY1FMqM//NExBsRkxLEAAhEuXww6GI4tbss5SIUKCUiijWO5tnaYpTDlVFEFMVwtKVxZHEiWVApAR3CqRWV1szwEsNOE1qN+cEsK10wGDlNIIGEOZKcABx7rPAvCRD9DOtvoYch//NExCcQ4Ia4AHsMSP36kHodEJ09LFpY1kpUlzroKy3OwVdaGq2iWmJV32bPBXOiqspCBxnZEPQF5to+057zAJNGaiAF5qOQJxsTIt5WPoTBG/1/m3zv++D5VSHpSw8V//NExDYR0U60AMPGlAGhgbHeG8NQgDQYOpAX///6FZrcBnXtUiYqKGg5qoAdUeLpU90RYb8T5CngyAD1ZT4BcHTpSg3WXtUf+3/ffwZv6/LmagtiAs8PGYoGy0OKsgWB//NExEEScV6oAMvKlHGOg1rf////qWHyMKFZxSKJAIgBzDhkeDTAwpFgzVEAxlat5zKmJZ2H12tgYM3EuCYgtAh7ThSOW4ZVQp/GY+L///9Umdaqwwqk0bOMDUBiu0ou//NExEoSGUaIAN4GccmLgIKAD5xQwIGIAcqjCKwwChUJNCVRY1HgUE46FgBMCoiNyCwFLsIWb9SqFeXpv835SqUQiSnGWZDIolCwdNOPIv////66ajAoCKoaAInOdMEw//NExFQSETpYANpEcGhdoEFl+ZXBqizfqSqueg1UEkSVYa8zO1jhZlP/ROptONi3rDgea+VDxoTnBcTUaM9Xr1I6uKOVmNP6/+2hlNUDc0UCQYdvMZMA059opZv8x/HL//NExF4SiPJEAOGGcKICUBDALOirXBhoZVVKo6srIdIwxW6+eyJhXJN0Q6NkOMhoosCLFEGAGxHUcV39/r////6VFDyEgalOp9rq46eHbHCIKiVIlBSZUJTJxaiKD5mP//NExGYR4VZMANDGlAVEJsOlnkCwlNijlJNhVUa10YixFqf9Kk/o29Hq+j0qUJ68MqExl5/+WQ2grDX/D+luORwkZeHgIwIsOHyXTpDlHqIwLD5ogMsuMF1CiBVCSh4///NExHEPWCpEAVkYADTPF9MsKB4+CQBO/9Bi4aMgcKRi5JkoMH/21IG+tYmBIy+cOx///Tdboc0Wbpj0YT0YIkymXR7jgDhHcX///TTZOtO6E3dszLhmYLHGOI3HETT5//NExIYiMyqIAZhoAKD2QpSwVG44mQFU1pDMxDlA2XmnCZVQwXAZVERVWUWkc580xC7jC5ina/DhOB+HGSEAFhFg0AMYk4u5gHO0qBXwnkc66TNiMgzrtzlYllXx0mj8//NExFAhaiagAdl4AEF7G8N881JrWcXw8b4cdgrJAg7xef6r61////////////////z65rBzHsTQiKAYcKjf//RvTa+T1nnFL+CqYkb68DwHRphZk0oQ6Z4Bjz9dY0Jv//NExB0XqW6oAM4YlLd0urUkTCwiYhWldVZAAivzfmZdlEHZlvIhjj5b6BSfeVx2aKgYDt7a22QuunFa7WaUVWsaLnDiPX6WyGf////4usMmUAsy5j/kB15o2DECno0i//NExBEVkWqoANYQlPgYZD9Im0JCs3EIbNRYSRzCIDazYhKqlL/caatbpu7jXe6pfzlV4hHZANrLAMg8Hx3tva717M54e4uNqBXqjmb///2u+qrT6kqI74lYg6NAJgaJ//NExA0UwVKYANYKlBgS5kxqUN4gEl8ZRLEVm+gBhryviqaOJuiESFU5J3JazSR93b28v7S0uF2l5vHGIh1jtEVUpSK22sv1KoiCsYPFg7///+iH2NAVceNcvEEJwwM1//NExA0RuOZ4ANYEcPMpPNaQZqsECRN/IIW7VyciyjSZ0oSOVE7sxcr73V8ShlTL/6sjChQNHv9YwEztCv////+birJ//9dNCbMHNTj1MeR7hgxUZ0SIJTIiozgWS8dW//NExBkWSOqAAN4GcBtd7ojIkLU7REhdCkUzmGwFTRSJ1s6Sx16eaUWfnxE657mgQ5/6ym55EuDIp//5P/2oSWChhAVWXUAKRiBdlYoqm4CCxM22hElRQZvC4hNcw7QB//NExBIRcUKUANZEcLVrsXUUqyslUIkK6gwXhLp1GlPxlagetlN9/1P7tQ7ynoEEItv/++BjnzwDf///6k/qD6axHSAMbzGwSUmnRhGFawyqJ+SC11Z+ikBBELMJwEIk//NExB8SEUqYANUKlAyZQPePDvJGUHRlz60nq/bXUfgOVjvpk76lYLFo0VDQLf///ehP6nHaKq84FwE6M6XHHzHn8v7gABw2MOldEpDQ6QMcgcQwAX+A3EeTgsmgSimM//NExCkSgVaUANzKlA7q16kdLVqmrnE0Qgq9Wp00ecjxFLAywz///zZSzyrj61G2vDKydYHqWoIDMTwWH3gM9SCYPY6o3SygLxA5HEEQwGB0OBYqhcxedy6dOF51or+v//NExDISGV6IANzElP/evVv9v1KxgIUYMBHKFBI9///1f6U1FB4CkJrlOcQtmDDhlqEcGYJ9pggY1RcMRCgUBN+tEuzBCbxgwaJBq6nmd2Q9x+qCFRLr+SlgqE7qutpU//NExDwRcH5cAVsYABqVDX//u//6dKE0BrA1YCl0peQAAmmHojBW6l211AaPNKKM57OUkQC85PEqi5PIAbUibhls0VdrQOAUEIxyB3Krv7jgJsZgihEGUkpdevJ8zd68//NExEkgmypQAZugAOM62u9ke7Jud9VHq1q1F9QpQ6blxCaWoX7rX1Xt63LiDfm9rfar66bb9fmCBPl8nzRcZsi5XLA5hooOuH5VA+DBYuOlyckDk6hKOIg0AMhMYwT4//NExBkY2pqcAYxoAIAwgVwF6JWOckgB0MkL6Ygt4KAcAx0adM6U7MxfJAuMtP0EH99F/77P10UmsmizepHtqUmmiium////67uvofruqaSLtGlOis+D1cgFgTjzOiRc//NExAgSuRagAchgAFT0nq9GtBiqJ3LBXO1o5FcLARP7q05mQEQ9qNQkcdWGUtOyKaflJpm9MPirEODb0P6LnVEFGHIfXmntpYqz//883AyNuCfcm5RbMAvKLmJh2gGG//NExBAV8UacAMMecAIAt4c2YK5+9Gxx2jgcuhH50eE0ETE5IJ1xC/lGxLps0oIi4Tlbwoy2twm+eSJr1z/8e+8Y/vukDe/El7Kv0f530FKvV//1JuVjpl0R1ICdFwvJ//NExAsUQVaoAMMWlHTMAZasL/ztQ9/Vqg9eXtWgZPy9ZJCpOYkEvqQ7EoD47DmkNSeWh7NA1IAEAbiMobGkLTXzyyWMj44Tsxfluxcv///6BIt93iO6CIQKyLATnOTW//NExA0SIU6kAVh4AZhapgzuzudrLVbCXd3rOrzUXwYsKN8bw+XahbD1H7s5X5+o2Cbqwh0FuVtL6tbf//zrH9vjeLRq/MLcKgc043HSFlHvQvGhNs2shaA7NJud+RUv//NExBcX4vqMAZg4ATFPEsaiqhITk0MNCAmYODUJWNKoN0NUVwDweMa3nt4oIReaXT/+TY8EDxuJH//7E1G5Mmw3G////4jl1eVPep//////kH4KcYpIP6A3Qm0Gogjc//NExAoR8RqkAdIoADIAHhGozxLFMt1XdNO72zE8/9RgcUCFFw+c9GnMIOqGs9zDEGqOCcNBokI+7blVAJ86zY+eR2XLqfY+z/+u61kXIaQa0QkEMMA92IyWCnhywxfF//NExBUSYVqgAMrSlJ2Kd3vmNjWVFe3o8paBTYghgyWYSdsu3BfLlaOyE+WJ6VtrKcqKKFTIefBnhBn///////6azIAgxGgOMF0zRJQpBIdR0F/a75qGyzI3bxTrctMf//NExB4Q4VKkAMoSlKKOkkXCUwB0AaMynJ/VtWd/5a3WkWkltuqdFXB9xRpR73///9CawJNP2MvOYhVZfhR80Eii1qeHu715NZfUXVzDHP31H7LebH0Eh3DvAWFYeWZS//NExC0SmUqcAMLSlLSdJPUdy+oai7Yyb961BE4pa4JAlH///+j///9FFZWS0FC5BGwccLFvIcG3XfceOvJzqvJm9msx+6F3xrc7d0qQTVCtYSyAaUouLonNmGHV9oxd//NExDUSmVKUAMrWlCXD3bcpWiiqpOsT///4xP1I/9dX/QqiHYC/yAoC5AoPrABj2lwj5LAdfY5K/z7NLdN9f2nVtO62sZRzQETg2FAeYImy9OfFjIPnUSFeSQREKVf///NExD0REPaYAMMScP/o/3f/+jqqxhROOo4EgywHHUhgKKIFgoaIEYdUdFbourJLF9XfAxZukGMWiFAYeD6RaoCl4mgYXR2XgkG32sahCQAPFRQ7///////9CULq6Qii//NExEsR0OqgAMpScM8tIBhxoSRfwxWnmTCIwEMMiB2kRgYVOrkvFmJykOBiAstgosH3lRLEVUdtKNE2mYk2s9OKS++ihKCX////////e1hmqn0IEICAEIszpaFlCanF//NExFYR4OqgAMsScBu3phcoRRBCBvkahrxEMQhcYkqQALENCfKABeOYM1QMyjR9HdLgv+szL9uRYVjD6zkMuIWyiVjxKBk1pkQQ8AvUnMOYDiEVMAWUFAGUBDy8wd9///NExGESGPqUANPMcJCuRJFw4QEa4SSLeA4aJKKLuU7k15bb08PKjac6SzkaK8MCHMTUmGAp39iv0ZRxjpVAM5VbR7iuQFVgxQLtGQGGAQmsgBhhLZda7U42QhcZaIAx//NExGsRsP6UANYGcQxQy1uqRLLH9i0QjWFbNf7S7q9yl9z1aOYnHjt/hMe6e8yWQ0cpzITEpRrVuEZKxipCsR6gd6uohAb1G1LxwyCQQkSKGTay5sLnpHjZtZOyj3UK//NExHcReIaUAM6wSb2NWq8Riw1ahwjaKBdja1WLKymEqlAdppojVQeFhz8ZBgBqJaiyQ2toKexeVcoxIQHLviNI0aOtayj1zGpf/L1dDa7pautW35amPkd2RXkEiQZN//NExIQQKIKYAM5wSK1bv///9VSVisFGh4UDMKADcTLAZRdKzG0KC0yRaSPpzBwa5wr4ugxEZwqBdquJM6UjmLQIhhinOeq54u5z249oPskxOJAACQIlJBF3///9apO///NExJYSoUaQANYEcCeKyhBdc+RGhDgqESZZvuMuXgURM8LaA5UiDNiyAJQ0NUxT7XTQutT35bdv85l+t5673Wv/PR8l+Tkvycgcwy9NnMMJgkUwAw6BfTLyVX3LyHsV//NExJ4SGHqUAM5wSKvTBJyhEKizPhkMzIDzECRICaUgNAwMCVGWuMz2slLxJoNKr1kcOOdLIrBNSX5WtZYY/jU1W5lv9eVvvl9n7987+5vLMSL/iooy1krQLUNMZ/Lc//NExKgTyWKQAM4GlaLGX///+lOLqk1SxwB6wKGfcizwgSGjCHXMOFAaJ9WDMrCykWQARQt6BqAFULOJoh5MnxzSfKRLspFn1tZW97cMjh7Zd9r6kq8/pMVIGJzZjYoT//NExKsYCYKEANYMlE67IjMRSh14wZQWmUAZhBKgEEIIDgJUCYReIcVUNJiTgAdCag3SEnwZS6c1LNGhPa/B63pExznfgEOLLcRvQSSBa3EA0eK5K/////ullTebzKVC//NExJ0S+VqAAMxGlXZnAVmBVETcyRUtgY0EIMAVExH6mCFHagU8JIdG56tWCUnJqVSdRsgIePJB0NBwOho8dOnjvIoZRs0//jFPkKkYk8UojL8W8DoBiqQ8G2ijg08E//NExKQS0NJoANvGcCSIZiUqakykQUwIkAqZUAJlASKuLBoNTslO+swgY+Vcp6EK8Jf//RdJSzDr52SVFrOU4S3jEMhEsjOcRQJjBh72MgMGwnNRO4M02JQucGQGUoOC//NExKsQcIIwANPYSMNPIGqayTcBHTSQg6KqIdhnNFH+xKdOq+1j95E4LWKJpVHvHPrVH2HguI7S2oo/l0zBBCj3BgYqggYU9kLBBmcKYcKLDUg4SjBE4OtYgsP3GySE//NExLwRELH8AMGGTEfc5NCGJuAF6EOTom9yXo13GF0IdevSiys7xdU/pAKAy1rQF9LSghszQXHdN6aGei09VlpsuHy5sXNkZ2oqx17aNdRhzqlt3CDDClQzPmQSqDnT//NExMoSUH34AHmGSLvybIZwdNjdVqrmO4NdVJhTgwsUSUY6FYhI0DMStVVAzainCrs2oowYWhTY2KLGxjgXJPCxUhcOUYtk9Siy7aoERNw0HUiWItdf2HaWnNIgEAgE//NExNMSEIHkAHmGSAIBAgJj1VQEMBAQEwNPLA0DQNAy5QNA0CoKnawVBUFQVxKCoLB3WIgaBrlgaBrxUFfiX65CRCkVCUOhAGwIEhskAwgNhI44hwiDJoBhEQmjYqIT//NExN0dijHUANJGuUaWKmjT1sNGnZo3//7vd//6DRkIipo2AwiQNGQTFQ4bMgmKmjIDFTMYFAbMw9p9a8+7X4puoFCS5qMJIGOogQZ126hmwAEHQ4s0rm7+4G/AieRD//NExLkRsIHUAMGGSN0BnjAjwB3XiPA35vM8P+O/3D/gfz/+B///4O8/9x35nmCA+BHZaIjxIBnAZZLCKhnAdhIiTJZnPtRWsBk2JAxjEkUEJWi21Bg1pDFIAqC4lEZt//NExMURgFUcAEpGJOYSFBRI/NxWhyXC7acxFLaatzKf//i9L7KBFufZRTW8DBxQNIFOterX1JPu12IMgfuYi3HBgcVFkIGCrJITOFkI1ZRJsxNoiQ0yySapaFp1LTQR//NExNIW0M3gAMJGcVH3KBWsy2UcMSsqAS06gSmQVCgfQjSdGHRe0o/VPEnx/61vVxly9sa+/E3vtds7/1LtPW+oe2MLt6MUXSEpzZiFsZh7raJ1BDeek8IcnDK1OeAc//NExMkQKI3kAHmGTLCgAaBhj6Pazp26aap5Y4UxHKKSDWKWRFEgLCZHskbBI50zZ9PlTOlz/s/J9mv6KqZYcKTWMMmYOEdMoqPEcKxxUGiGFZ0UWsKA8WWOsJKTwmsw//NExNshItncAMpMuYalFDORoY9lhoZL1nJobKRmHxXOCeXfeZSsANmUAGAg4XW5C8olWq8XRMGMOIk0UAzQUc7ju4SIzxMICM2w65LGuTdF2sVF3EJtDkOA0JLOih4R//NExKkcwq3gAMGGuTw04OJeVO6rX+/XvfRHPYVEqnVlbnSqSgJrr0lj0wE2XPj6NyNgpToYah0Ogg2GwAfKi5o8ERdCbWixCi9DnJPyKq9/1JcsPxGUQt95zE8otyA+//NExIkTKIHwAHmESCq3zjZO9XcKyaGqvN0JkZfKwDBseDCCyxwqD3GGoPJxZ4LAwEyiVEQYcZWfcqBliVAaCDwCswWDqTwvUjqqjVkhgdSDRUJqFmbHAZBhbZF6WLaL//NExI8SKGnwAMJGKKNKPF8WXcbVCiCh612uv9GKWWRM4kChRJZCmgCmLU5QZEYWrcWaRMqPloogNtY8YtLhZiWteMotmRTUpCc0Mxrdt/+jo9Xv3LoVCyCDFsPFfVis//NExJkTUGH0AGGGKFetnkmPgINC0vyacKhBERAhBxcTvUGA9E6KkvaCcQOFwi1LHXfS9MxsH11dv+IMf5R25fY9zDT10hFykAaBDwyk4k2tNE6ACDya/SKJ6lMXQ7w2//NExJ4QUIX0AMGGSEJa5w7UAMWaCzCIXE5o6IBQMF3rB/DG/XbV/+mn7GNLh/NnMUcJ9qHCnooaOgqGZUOcw0PJkEJjQogFPS27rdX5B3HHi0fL5aJZyNA+LSeW+jPz//NExK8QeInsAHmGTLssMGD8wWxvktEeJpQi43Erb04ptyQwhr/mj8VnGDT9STtI4NT7arPpyCi1spPfpmO0Y/vCjKjIsvnTutke+t17iHfXzdcqcbci194ztH2U4abQ//NExMARIL34AHpGTIbbwXAN3bHiId4Z6C4fJEaYCyWANUWI7SWxMNAKiRLTSNeSIkEBNWbVVgYUIg6CowGREeEowqAjwKuBVR4Sw0WqeJSx5T1q//roTEFNRTMuMTAw//NExM4iOpX8ANMMuVVVVVVVVVVVVVVVVVVVVVVVVVVVVVVVVVVVVVVVVVVVVVVVVVVVVVVVVVVVVVVVVVVVVVVVVVVVVVVVVVVVVVVVVVVVVVVVVVVVVVVVVVVVVVVV//NExJgPAJIEAHmGTFVVVVVVVVVVVVVVVVVVVVVVVVVVVVVVVVVVVVVVVVVVVVVVVVVVVVVVVVVVVVVVVVVVVVVVVVVVVVVVVVVVVVVVVVVVVVVVVVVVVVVVVVVVVVVV//NExAAQsxIAAEhEuQgWHBOKAHFQpCYnDBdZl8J07IyX+DcfMeSyBz////0JYjf6vJ//////X9pJCf39v7yMRiEIQ5znOcDFnAAAAEEACCE51pBxkQBIOE3Xfijnaa5X//NExBAQ+Eo0AVsYALF/HKv9sCsc1NiU9tb3idqaJ/TAY5NnMico25xO/Pt2hjD4ReGGMvvNRzcwLn/2oa4zPyYooMci+cvsv53n///Nnfd//onb+381zCOb/0j8nmEB//NExB8ZoyqgAYdQACE4rioK4pC/EYXEIx//Qkox4/H40PPFgmIxMG4X4LorhdiQAMFsLH//kZOSDxi48ZzGPRsSQuAtgUxEATBdiaDWBeDQCGIYyiX///////////////NExAsUuwrIAcEoAdT2dqnlZVKY1kMVCsPdTOHylDhWEhjjhY6i+QPkOwm0fOVBQWGAU4lK4m4mLuLC4opmc5A6kYZTsMZhESQQcxzFGFZCDCDD95+ezn/KhZy1/35y//NExAsUuvbEAAhMufuvo3L/////+77+/rvDKU7tufs7FOzsmVi4Y0+yVHOaVfIvqLzlHLIm/ambSUNix5WYdp0a6aqdqeHa8ymT2m8vF5U50nmH4PqE4/nB4yf4vVLO//NExAsVGl68AGCGuZ2Zz/q3T6obdjXboq/RTRjHMc//2zK5HqzVRJo+xldfYUp0KIbqCjDanTy9gqlGMxOKBUTz87AYkt3zueawlNCty9Os1/EULvyV5iQLOpIm/oJa//NExAkTiV60AMMMlKbRYGxItP7HIRxokQvLL1gctuPVOIrL/3jDXQPrmxAiyi/OQ80rSlYXWctFjx0lKrv/F+iD6CYx6Q5bqP+oZPfvQzuc1aqdlymISkatFgMkVG1A//NExA0UOWqsANPWlKrkeL149H9dBzYSW/JB+U7r2aPBVH5//IS018G8HPuyu3A7jLkhPBPciCpnahk55M4JVffBDdCneoIDlSoX///rmVvTuVUpganTSgwUGzQcWJyY//NExA8ROV60AMtOlGwrtS6sYVORGyPj88rLKijkpWMUPbDWAnjdZNx8WTA7BYzCIG5xbG+VLfLY1F6oHY1t///70N4OmfRSOlHbxmEjGVXW6rqc57U7dn5ga7fvyqjW//NExB0RaVK4AMPSlB3++ieCa918Rjv7P9KiSFI/TQYYLA23/Xi3O2P73rZ6PzSbDAV///9Vs9hknYkFOIAxouBUQTsGe3K3Y66b/ZXa+JvBZtezh4M2/CZJS+kEZDmH//NExCoSoVq0AMvQlBDrjZAnLB3TlF8ApE6xfK3KPbRzTsLFllHGKSxP///iNamNMeofx4vYPXS8RDAiGEU8zZ9yxe94vw7xRdzeA2/qbepG/Le0n1U6CBWYABInj8Cc//NExDISgWasAMvUlA4YK4NzFBKCm/Jso/uMnSIawjtUt///6YfqENT4CSigDTAuMl+BjGFDUwqPNyQaliKqs2yzTFCxMXNPCjvVa9gJ4nVDmEmJMiS2lxcGJlxhiV09//NExDsSUUacAMIecXX/+a69rf+urWtBTRSe1VBF9GAF5hkeUCibw8PuEmKglMgG1uCgwpgICUoarl3yM2T3retUNLQ6H4xSllLxTNR5WvPV9c8kC7fOnREyIqVKMjCy//NExEQQGO5kANjYcIQQqDmsXQCShQOR3bsWSuJfS+itc/+/z+fl////X7x5NnFLSmrIokYCg8Expm6/gYDB4ApS3O+3/9P/d/q1LjMXQ5RNM8mjsR8/oPOVFAYBQzI7//NExFYQcNJMAVswAG4CRFLrXG6qx7tjGLiZsSMj5tSlNWZM7nhufb9Zv9TfUXV86/xeTVt5t33o/LjXBeWDOoMvfUv85vxhBuzz2YA2IdOtvZemVUea5jRcx94Yj//m//NExGcbyRI8AZt4AdHXT+5kju9L1VlqqD5y5iYLLYBQgZaOSbkzdc8AAYKzKcEJAHMaZFw5UMIg3cALwrgtw4DruTBWeOsiBfGfQtlZNFcvEQPl0n/1amYiC6CCfvfp//NExEoiOx6AAZiQAdS01GB84zU7fKpNHDbRzcm0Tc0Pmibf/W+yb3qWdoGhsaEwTjGiy4km7qb/6ki8myl3cyXS2TPOYGBcWaOeLq52U7tOPjXK6cyf1Ga4fFhNSGha//NExBQXKnagAcxAAXQFxI4N2ZJxw17KUo8k8QKFFLaFtX60qf8c739W/CU6/P3z//111//N//el/P1PU9RVy8b3OiMi9kVc5Y+DcIvYsbfyebJ9n1UaTAcsKF0iBt5h//NExAoUqrKkAEmEuNHZdCSg1ljQASkggRFajt6bk8zUN24OJlEWw6sZ8re3ZtaIBtJZJqLpXpv//5v/pmbo+spa3IZcxHtRSpadSO8j3cw3uC7DC1qtiVFzzFX4yNNx//NExAoReLqkAM4MTKACAgi81almNDA8odOTW5fRrpFEprIA1/541md2wrEAckCiAynSWHHaUf///02jSTklcRWkYlDXXHa+KZXNiIiE96YhbiUhwh4+Hj5O3FfmvZPs//NExBcR2N6YANYGcEBVQWVKIVVm87OH2a2qbZe23lTMzO7IokrupDXit7W///6LkMjEPuumwEzq0aL1ccq9cEJCJla/gsOgLAYisKHUU/KCslihXdUaqJLl8YRykNuH//NExCIRCNqYAN4EcG/lS5ZXc/99ld7rVKCIkON7HlFAE4gPJ///9yRAHfxRY4jVtNkEOU/5RQcRAjtH2WFgAaw01Z+kk7EymTTyYUPBFHBZyAtSxA+UbgfuGGktR2Vs//NExDARqNKUANYEcHx3KAMFRWn06yxpf///0NeT/NgQa79ahlwgtBN8kYi0o5Ydf8aBJOI5FxVfbUHVcpysAy1C8bxfljWVpOPGsN6xbe+cUe1k+Rk67FEBf6cmDzjr//NExDwQuNacANPScH///9Zf+lfkrUoPABWo4YlEVqhCaLb09GvZjbVMdUxCYluIhHWVSCNqKTTIEWCARD8CIfH0dZuUDeT15Zwxn/9M+JuYOLONEAsBnf//967XfoW1//NExEwSoT6oANJWcIuEdMfA8ACF8ySluq4xdsSB8bo0wdeop5+VpoebNRHC6TgbtzF9Id7HWtf7je3KVGtwSzlNHQdBj///5en6kpZ/0XqVs/JTgJrF0ZSDySxgpXB///NExFQREUKsANFWcNz/ML5v7+D/q39+ifhIE95qCwkaKTWSWY3Cefj/ZHNU8TyaTnSJhCFQEFBZdse7///yCf9C3vh+qt5Qjqhpnw9fSEfrG5zL6WaZnrMs6fqQzpbM//NExGIQ6UqsANLSlASw2TDYCVd4o3lB3skrww5ydL9ME64QXa8z2DwNL0xE32v///5JR1b/3//+mt5VAGhV9OwDfS+Ullmo3889AaLk+d9nlbdN3Lq00rKxrH1UAc3J//NExHESoV6sAMtWlIPAECaSBvo0kWqRxRVqbaGM1pTjWrrTXbQMoHIpHP///XXCq+xsoxaYHClfXWkGhapCbUPc5YKFEBwHm6dzjCOjBpVsl6wS1SxIDC5AClViQt88//NExHkR2Vq0AMrSlBuxBHggLJ4XnvPEu957/ids95taIt///9LdQhCAWRehHhzk8jsplBojGAQPeOQHeqEPMtrXCUUWlwhrUThhVDAgFWLeYzMW88hcVSuzmQ6BAVTO//NExIQSeVq0AMsMlNikxEikjDxEQI2Xw2sqVJzbr+MnrXCacm1HOn3t////+qq947kI7LRU7Urtcvy/qAsSCylKU6iRuMDjCBOppium7JoMBdFv1NmUIYKdqoqjSZdB//NExI0W0Wq0AMPSlPlYWJvHDjpU77VJZZtS9gbKM1XSsXGTmqeJRt6OQ9/drbWJ5JfOfWsJgbmN5I7iYa2eCwR6jSjn////x6VVwoSXNmgSAeaZTupMCYMZYWGClQWk//NExIQbmXKsAMYelLxuDBrcbTDb1kCfLgpGLRZyiemq0wDASKe9TR7n3hqNRCnlPa1Ncvqt1Ye0Ki8gnaAKEA2Kil+9Glj8NPnI4bOuLuUJar2HnODgVu///Lfapc7G//NExGgZYW6wAMYYlGlfULeNoWnaHmLIJItm4b7xMA0Xh0I7Bb3E/49j5ZVKXI8YgtipU9qt3kcfh7TCWpy+uTUWI0wMRtshKC+0962jZ00spIqVKNcyzKqzMDNIw9bE//NExFUTSXK4AHvMlTdO9vspxSCtkJkhUYjKaXS1hsZssvuxbXJ00QY+vIzisYvL17bpOmNNsN4NaNjudlnqWpD2rBeJQ2ADoeJ////9dbUtMf2C10zbEZg64z6nBYC+//NExFoSGRq0AMPWcNEqpE4sTsIrUlkf8n77LNhVTWFzkO6aqbLF75esJTAWjyoxhEtpqNAF54iMb//oR9FCpoLBmolHEF3PZnGbMufhIiE/RDhqSB1zvMq7/8zrOlmK//NExGQQqPaoAMJScDuYYgEDXJj03sqzFkfu14ty1bktHtLiAByjl+j/2Xp97cnd/+xd2irG+tUjLnEOcJ6joyehWsOzCjkgHcqS1RvZsTv+oVFvLR6dpMPChsjRzFRR//NExHQSERakAMpMcAKM4kgSuUV31NuyIEcQrD5keLiC1X//8mWt+7//1df9EghOXiSjxTBPwiLoSwjP5QY66QaMHprLXP/P2v4Xpv5vSPBPl3Mr1trHaM2iOaJEQzhx//NExH4SeQ6oAMpScJKCEyZW0HtVX598QotsiEKzj3qtJW///QKGz/6Vx0OEHnXSEc3g/S9tJehKJvKBzLNfoNpPaZ8J1benTq52s9oKT8C5WJ5+i5JVe+espPpS20tS//NExIcUIW6sAMvWlLal65s7+3pGZBcOvNf//+jO4SSdbNer53BEerAYdKeq2KUJuY1pndK8/UnuY+8rOtG8QLQcDUUE02wKGZstljcax4usfz6vG98f78vy36xAGgWl//NExIkRgUa4AMJYcPojDaIiGlmWlD6M50pSkVPVZSyuly7i0Zc9lz3vgwqQcUi/wrt7rS5aFg9TiQsL4iEMIuAbhe5EiqYi5i6rn6+Zq5m1je9T5iRpW+LI9BlFblAp//NExJYQoU64AMLelaupCgzYCaXtS2EA2EhAWIzGWqtLzmWPN4444vUl3R2kkfQHskPg3E4J8E6F0C9JQYYyPmJqiiyWp9JbdRk9Tl024NFKC6RvmA4RCwIWM8A/CXbC//NExKYT4VakAMveles/ZRYDo52zb9YeTspTzcDIg3wPkVqdJA8AYwH3BlAbNlVyKkwQp9TH4IAE+C+C5wcw0RSdHZ9hlhOhUIoQQi9Sa9+3KpfL5aL6Z3/r/ybHGKAH//NExKkRmUqQAVhoAYJ9jMn0W///+mzKNHMGoIJ/////6ci6SyWNiCEmUCIDjLhpnVzGlwBxBCGYqZqphw4BNOqQygjCYNpBM154cm3LZJGYw/kMuHF5dCzIHap3NXid//NExLUhOypsAZmQAI8zfIWBqQxNkJQROy9P0E3Na2yHOXOdXlzSkiELG/Nf/ftmPje9ZvjL+BFj+eBmPut/elfX3ru24UrqXR4RakINZ5Yq8CAI4WJ4q24AbnLOvc6R//NExIMiMaqMAdl4ACrlpJNWTZQ/wzshT6lkRrnaED8SAq6Atg0SeUkAZMO0uVCCGSUS9IytBm80kaGAayVBNcgFAYzZYMBQtwUgCWEf1MpyIy/EYkLhH4nTASSTH4dB//NExE0gaW6UANYelJAvg5CSGOaDRGh4jMDjCVkWBfVmBWth+HKpDnVyjU8Jnh0j8CB///7EEDSYomxRAl//1ZlCyrkqRk9Ru5MupyQCiPdWUJinOmScOLx9ltqOID4v//NExB4ZUXaoANZelJJdV6dHd+44nnXfYWSisSTVn8Gx160WkHx3mp3DSeiUXKoiwx0OD8kjJmPfbJExNjOKQoN25dv21sePXnq4b89Bn//+Af3aKtYpvCy60Et23Sq6//NExAsSAWq8AMPMleUJcSxQhglPkZTqqJMe5uqCLBPKCiRDHRylZHfKKkFxc/BpmuMdD0+SRTOFtRMnvhtQam/fa1mm9dq0gwv+Q+Ruo5QlzY6nT+Kaz5VgNgzpxdGG//NExBYSiWa4AMPQlId662wEt1ILjtrIejYAd0+qV8Nm3iL/LW367nRQQzIgD96oYv1u0IKyhluWOoYdJf////XV3wZYRVx2R8L5DoTADRYUWCuXUAWqRSFxYVOcUI/C//NExB4RyWq8AHvMldyHG4O00TfOKZ5GpSXV6b+t7qcfdf19fYO8M6YvEK+d/seMfF1qkYESqqzhmjWehnduHazG4VKdEfH05lQJqo0OcTkQ1mU6HM6JLkS8sQ6bKzDR//NExCkSmXK4AHvGlAMePBzNb/XlOoVJUNg9oe6EEpBS71ME8BdC5isx/////RXtQlZD3CJtEn471Cjk0pYq6mQBml5FcQlfQUU7zmVxcyGk2FtM8yxYTRkkvvGfAvWv//NExDESoWawAMPMlc4xWS2e/O1rou+teFB/Cv/1OdRj8ytRkOCVrsIMzV6mOqAVe5dVmCRyVYXQJGa8upDlpOrk3jrOwVZOAriiAxIaZgmUrEzbhWg6zFrXWvi3Pbnk//NExDkR+VKgAMPGlNY8NlVVWXb/KqFGgpYlKhIFMBFh+eMfBTdpJSRjyvLwKKgoGJANEmVPZAsRoHXlSwKQL+hFWSvDGZA9MsjM7a7ur+WW+d/9d13bSk4kCAwIyM6P//NExEQSqUp0AN4ElEf/0MCLfI0MAiGDOddCqVGV6ZEIg2WBxsBCVdaZZEekoHfDHcqhT1wBrgNIKJP2UtVdeF847X9PqVjOUpoEKcoY+Al/27////36Per//+odCBgZ//NExEwSAPJkANvEcC51oXJCm034YqBRUOo0FFThwEZKTCBsCKVImjPKyPpPNxjFNfyv1QKIWnWlm82y6RHOGfuRp/Wr6FU6PhVXDSn/9Mz93Qo02DPiszFu87OGHBk0//NExFcSWG5YAVwYANlzFg5aoZOiABMZFzIgAMAXo7Dj/s3M2YtZAQbfAV7a6oYILpPk7/455EyCIm9+pDatEwNBWglAiGrX7Nnk0icQQIv9XqqvrIuVy4g7GZuYfqvV//NExGAfkypgAZuAAP7+XDyzM3NEakGNP//+/0/MDQuEwaF8zNyKGjJFxCphBE0DIi/5D8Y1EXgoFDhAgMUMUHecOu21uVjCEiYBYCWnwkAIQO8tJjLGMPNkjRI1nEDp//NExDQeWyKcAZloAX5ktbGZxaJ9kErmZ5M1rpoKrVZBrWfvRdqnqf9+tdqlIpa/19ntb1uzrddfUlWpmPqXW9rWUttJaLnt12ZfXR1qZBNRsrV4kbjYiRZCX2NepS6M//NExA0TsHqYAdowABmgeMSuGQ0c9/uNJ7MrmXQ6SMqm7rxCUXTTQYNBdMALIn1AMGBphCW7t4sQHoKVd///6bUoUmygZcVXQ5PYK2rRqZUz0Y+g4e85kIDQkdDByxIo//NExBEWOUqYANPKlOU0mfxs8uslEmrJS8oI5jnDUKouZzoW8iRf8UpmHndMYrUXiwI45LHW3PZFul6EcaJkEQcFOxJBP/98g65WlUlWIF3+5D2X1N2gs9CqUoLQLGhg//NExAsTGIawAMPSSIG7GP62rfT34hzWvStqgipr20LNsmiT5r/1sUJ2azaWggCDs5sGh9Gq0MEM4SEBwnFGQQMKCMAAeGCbAIGFBgm9NYpEyYIiTIiqKbOf///8Qhf///NExBEWYwq0AEhMuf///////////375ORT/1TvXt3Tlo0v4pOWf41nQQP3WtUTUZya4MU3RjXzXwnjP3KaDDe9I/T1wT1a9dVC0U1oaQArM6yyU9VWzV4f//////27///NExAoQyxrAAAgMvT99+TrTkzXftOctu1JeWdKMfLiNaKO1GOrMgpB85/2EsYSjmoWHlKnpbOfd+yCbjDZipGGmOJo2haopqvLP//yQX+V65J///z////+/3y/zuTGW//NExBkRow7AAAhGuUzyw4cKeaZhmKLQg94exMsrVd4ioHIs6W3TNWsCyAhQMYGJl7wMpqgoqh0SJnq8pZAHCGqtdibkLUqmCOEklj5vcUCh06YIxW2wKAIQKQMXFKaE//NExCURAIa4AHvSSIXsXWGBjE8+sMFHXf71nSuGgafeIkVktmkf/LbeV+uzlQGylDE8tlKiRRoAQLThMfZE+hDnlZVwEktgWc3mI7RzGS9gsX+a/xLWtT/Njl+MbB4c//NExDQSAVK0AMvGlKWHjMHjAoeLJgQHkFZRNX///0/ryrMoOrVtX3EIYli7a/DtSZRfUTR9KhgFnUS+GSCVkQGoAJRolUdIWgkIcKJOstWrUttLR6PsawedVZVCQGOj//NExD8R+VKoAMxKleUrMARmYWorY4HcwwlEOjSi16AECCoACzAAcSBjKEUHGIF4sR5QUkALlQXUyBYiUlQAPkLYGxVVhRsGUsqPQ3f/Yz3mQrOXs+UBYwNqB2slQ6tf//NExEoRoUKAANvEcUDz7BcST4JMFEDCQJE4kDjLzgoGyal+cp07Fj0TzMxRlSzRMxI0N7s2lun30dlmuxQqhlcGGSuHTISAQSIi3///b60xqPAMDQqHjkbcC4ObquZa//NExFYRcQ5UANvEcDSxaA6JPQ9lkT+x1KeEfN3T805O9NCzc5z7ESNkCEW2LH+dxYuDn1ub6EusR3P7kW1LR/IKp1XOxyozZsBOEbzZQRIKy7Uqpv5+WvuQkwqsLABV//NExGMSSUZEAOGGcHCcbOE/0lZfK+Hxmjtruqp9PhtGHio3LQ24mdQdwDoDiz2hF//YlVUzX40xAxgww6BScph4YIwYeLgRB140PCIs0UNsfUsu5QUKuc5SzgfUoQnV//NExGwQCVZQANDMlICXRGG0NWlltVJ7VU4PfilsxZ9iU0/UajYfuXlVwGh/GmQ6qxr+fzEvpJPbMngPyfAJQIVe8fDpmnnh+M+mS8Qh9AnNTYdIELS4gnxVebLnU5XN//NExH4QeB5AAVoYAMdhOkqbf/5IYc0KOQ5JrkUv//61CRSp+zRId11MFzXf///1LYo+nZoaUcYuikastJtLpf////7KQOQgaUynsNK824epc2qpMKuqdMDtjJp0iDC4//NExI8hUyqYAZhYAJSGUIAGAVeboRYINCMOkV2C2B4IZSQZXfBUtZ8mK0QLAnmgwyzugU+tAvGLIi7dQ5IyJYaHLs7fnIVCIzDEvfZ+ZFK5bSV7c/Sc1FZHPUNZ97Eu//NExFwgCXasAZnAAKeXXd9sZc7zLKWTlvDHtPyU5X7//+1j91LFBbLvWTPM+75VNNWy1lJQ5UNxWWhU6HKV0iEOcckgGU5NS5AR1WFSkFSHsnAqIsx4kAF6YdgAZIgZ//NExC4d6WqcAdrIAG0YFDQ5QQAARNAa5TSr/wQ5cVqv/GrUTcam02S3pfccjU2tqT1JJjlqW/hLIt3Kd/cF0W4DgqXYOzh2blVq3aIts//+tgr+oGSS/FwwH9C4DJWX//NExAkSeVqsAMvWlQ3YBr9HOrbGjJ+i+GTCRASmaGgmVuJ4GjYGYI28ybyiv6466csy6/m5TOwwm9i8hWJE2u/UPcu/uU1uCVbKPVu5pW5DDUb+PyKCTHkCYGVUQwWW//NExBIWgWKQANYMlA4SMDVIw1D6Qr8vtGY2xZBVpKMJjMZxMFdBUzLqelhmi3nrtW9+P4/jp/OHEsOCluRBUfX+f//zPc3GBsYGJaaRAQa///6P61yKnBi09ytAIKJR//NExAsRiIZ0ANZwSCZOCDThyKtwiyM1HArYYHd5dSQzhgwqGr8uFD1PYs1r+N0lr+oKA0Ff+PGEfQIDn////tQY/pWBOEMQKoMVvAhscEnCwqpmWAAFCDsg1s8aSiKG//NExBcSeH6EAN5eSFh9PIBQKWNolgfZIHA6JF+VQQYFDB64CLRDCgGBzRP/vJzneWcZ////7Yu0wnWx5oKN06CdRCPvpSil5hNSRr4AASfbMUEJ5RVs+xUg3Rw2fAXw//NExCAQ2PaUANYEcEgwcqX8sxG/Wzov9CavM+TVEYWrGEN/AgCBcJRv///4If5tSozNN1NtqdtsAp4TCYsIwhv8aJFO7s8YjHASpk+HtgZUGA0dZh7yKPQPfUvbVx+N//NExC8RwVaYANUKlCyB1lQs/Vs3yKpwgPFBQWkP///l/5hy6aCPlUKAj69TymXjg8qv0FwU40iXHOpjXoNwApGI0MGgpcFwmQoQ2WZkjlP6uv9LJqWgRLEzZsY/1aEx//NExDsR+VqUAN0KlFnF8PlL///9X+QUGx2CJ0CiZyLo15CQZcygo5WSYwBAIqg1iaPNEOeBh8AxoMbgAhAVSooE+01NUJs9H9LR1tTXOMFqp+2bR6lYwRHmCRc7///5//NExEYSYU6QANzKlG/aqVVfadxk1yeo6hyaZSjDpMJCZhgec5A7ZoGEBgWfRNCgSsQIGZirgh6T36WxTfWtB4Gq/EVglAoaLf8ShMAiIWPf//+d/qeHajQEwzOOUz21//NExE8RwHpwAN4wSAzAQzRwDNgUGSGHSwYOfpQJ1pVDzgxXB2tRqJT1QCh485arl9CtKk7q9p2y5j1Zn+rVXZcjc1T7Edq0elrf0HJEmERlOJA+7yQ+3qGCtzbXJyHm//NExFsRuGZMAVoQALcIhs6MuVwQhQsPCxYUmAsDAQPFLquAkEDdgeoPYAUkTUG640E0003JknrGwtAwC4XCo/1K8iaCaRgj/0HTUkyzc9QT/5qpZy7OkpE5QN0mV/+z//NExGcgiyKEAZigAf+1ZgnTSQ7/9P/d0XdE2cwL60vWuhTMzcznhdVuOOCe6I7gS8z+5TN7m1qZodhrJ0bxfiXCzklQbBJh6kjBOpQKiXcOPSJbvabp5CaWxAERQa8a//NExDcTgOacAcx4ACABu8r8kEQAI3a91SNu2+z5Lc6/mWuomGFme51SuNhjTHDh5AGx+MOdrd7N/lN+OWGQ6MjIqgRIY+gsGIlENwyPBJxe2Y/rBgd3mG/MxOJZsQD3//NExDwUGO6cAMMYcCWDY5X1qJIgYtd6NOhX//pJFuihSl3s+Po6OOeQrOjJMgVMb3OqsQwMpYBxVDBet1Vdr0baC16QuW+rlzDrvFDz7tu0V14wp9fDGUx1XiiQ58Cg//NExD4iEV6IANYwlKezJKeNL/Yyg+1sDDV2KjRrfNXEvgqPy+rP7rZ5z9eX3p+PWc5+vK6WXzURzjdiVy6rXAer//yZMRggCZHYZrcZYivWy2QMxjHa6rsNHWQmIXoB//NExAgUeVKgAVl4ANcFTQYQimXjAxriPPjnTdvdmJdbwyu2cG5ig+MrYt3rkwpo6x8mAdpoo4/jyOkmSLQKFH6sOk9H77638ev8XeZvrbbNdliN7lWFKyRxXJUXBdEW//NExAkUgXqEAZpAAJkNxEPC4ZDJHctq0x2rL8/zo4bUX6IyKKeMEIzlQEgZEYIA5OEEg5HcXCMspmqt5b7Lflx7TjuueP8XLz4Qz/5RKv/6JjR//+iPNqiGwUsJGDQf//NExAoTaRawAZgQADb/RBR1xe/n2/rX3Ur/2yoAmeg1kDhXVnsc0sgIEGhg2GhAHAdQCbXgM0y+fnSQADKyMrC71GRVK0hiQfKxZ95d36tKqogihjOgw4OZJBx+N+of//NExA8R6U6kAdlIAJS8c9lz+8uc5h+v3zx8P8/9yqeMoigqoPlimQZ6cPKDP/RpauoglTsuGIkBLqyRAdEa////b///RZ5lAdy+hiQtmBAIZMwDOIuJf141XVJqVeXb//NExBoRAVakAMoWlL7nn5x7DxliiATAGF5ujZTpWk+J7zq6Rm43zGlLguye0inUjtHUf//9CJSSIJWsrPMBQM10FNwcVKlG3ViePHSeQ9z3dbriKdP8ts6xpk8lFgVA//NExCkQqU6gAMrQlOA2Np1oY8D7vrOoSYo63HvLKQKjcPP///9S6SzDyZK+nMMEhojBRuBx2tZuh/ZOl9A5ZztJ1scZR9fmkxUPM+MVwm9gLqGOFEkkCcVutTarth9z//NExDkSkUqUAMtQlNqYorJNGTv///xzG/QQZ/6q6pSOqDa44WDzGGG0DBBrvskSgwZ/3Dk/pX9ig/ZyPVGXm29PS35eULT8TExoAcQZgPCBQUdj+K9Wuo5vfSNh8yx3//NExEESeVaUAMsQlP///QVf+7//0dvMP3qoBsrsB3WRnYLHC4ScGhM4YKm4n+6mrjqr6Y5vsdBETwAAgB8mAoTCYkLBsqgUThFo+YepDwgfpLAyQLtZ////T93/9a2k//NExEoSMOqYAMpScB0ouZaR9HJxqLiGsiXQJiTMXDIuImSxI+aq1DscTio4LJLLQUJQuqVDCIRuSNWapDEPaN4c6T7d37jzWpNJStWaJDaJhCHNGOe8WNzZglrohXWp//NExFQQEPKgAMMScKiBFM1SEacyDIZqL8om6QGpNgCxlgFU31fiTwjFbsJwR0wQrAVCMLYNh8H/7zTDXWPWjbWVCISGZEBJxgi/QIAckgVKXmgMjTMq0RoYQ3jdFGJe//NExGYRoOqYANYGcSx37AIVKggqdqCRTJG2xD0XuT9unMN5U452rV1GCxh1lFKdn1nCYbWiQYB21NAAs7RgyshAoMSTBdkc0CyBBHGi9e11NDFAi12ajcwCRFOld/LC//NExHIRoPaUANYGcH8b/vTma3STe8sspSpWdw9WvSYhghdKU1qOkoIzpNUYJiK4MIJBRcdOgaGRAjshEbzAgIIBsdEJwIjDQwFxgK6NQM5Dwyg9D5NFEu5yj6Nd6vnz//NExH4Q6UaUANYEcL5816bwhqF6f1SvB6GDraF1jL7DHTatoJyTYUYVhtg98LBjZjXioA19ySIxnIgDA1aZIOdeduUrs0dmr3869zKvS8tP9v7jg6YUwNCkYQdT//////NExI0SmU6UANTGlPWq68Jl5tZKowCdjDWyZCyYUjiA2AYuJCMyvFbgWShLOi41Mi30CSp18YjfxseXTen2rtRb597KWyPW5IUNHhFKcy291duMb4APC0GgknLwabHj//NExJUQyRqUAM5EcLTGNcpwq7CL0FpXlAkEm2DJgaSC1m5jJLZq70VYLpt2v/H9fqz/9/ff7O0Zm2tZqGQItFmI8XibHKZheJzmRRaOaN2qghYM4EsX8Oi5q4QjIZ0I//NExKQQiT6YAM4EcaYKYphog3YyIUKCIAgpuCqlM00IXM+8GwCMoWpRqe9TV2X5kcDyG929zLdy5vLLeeWWVe0sQ10sjvvZfx6X1FvZ3ZYtg62UNSKPLwghrFqQzbd2//NExLQUSXaMANZKlX///86IqkhAoRlLIAgEwpyFksw8oSLMFCzJxQKDAwQhgoBgUiAQ6hnEFPARQcYisDo3lWpgs8kjOXviFHKs/x/LlqzQ3t5fZ+xIpOCH668il1oQ//NExLUZ0Y6AAN5SlHynIqqw0r7ppqCOByJUdeRJvco+EaZboHDzf//9c0SEqDauuk/QMBHcC4JATajcKEZiwWMg5hQOMgBhoUYeAJGvA/bKk3WIhVhnUydoMllj/xWn//NExKAcIYp0AN4SlJc7VaNarbrbq41fx5v/5/3olVbbhxWPmxmxrL/+NSGUkWakpVRKQVd///+uMpTPpxOYjMobASUtyChLgA0IYAGYQOCgrew1Dw8kBVxh4cmwHQfM//NExIIWsYpsAN4GlLRVqq1Cr8XKwq1MZ6mMpeb39/+YyBjP78XzQYbVZqKJRheeAW9nKek/WKBA6NUeCgICxWZke1SEqyktpspHQrpoRKepMsxrCrKUcVOhyvlue/LJ//NExHoQyVpUANIEldCe/9H6U02SSgZKpUoyBCjJOizisTNoxnmyGsVdAxkRS9+3t1aMihwwAkhMTPaEgoiWB3oY5NgCRyT9R5l60s43pCHS1/Ks7Po9/RUpiNGOQpOK//NExIkPmNIAAMDGcLAATcGoEScAYZHHcUlABs0GCgPOeUAAbKOUWdABgFxAEEh9DW1qpSgwsHz4Ph9RxTi4np5Hd+nOQx/G9TO05F03palEXDhiZoIxfBysJIPBF9g2//NExJ0QmJXwAHpMTETUNqNZW7ItK+KYa8dONcIgodEQUe16qVEd6Q68FTYlDRw8KMWJWWnXNccZZttbF7P+xliKBkeqFdNEsjiMo5qJljgY4WZCaotjQCHhy0BNYBOu//NExK0RsG34AHmGKFEnKfv/TlWyp2KmFCJ6iJ5YbY1yiR1RuwGlkj0AtgrSzZ0WOkXqBpguCrBKCowOVQAURkSPWY21SC4EdaNfnLYlXvfWBDiaHEmdDFIaVHM5ZrJT//NExLkSiLXwAMGGTP/6dWfyNvWWWQyMjVtWseVDPMmX2alyk3DWHSm1L6TXNWpWOZaGJbNgseA0HInGFLFYLSMNVGlOxKuqS8UKCGB8hBQPYFiASEDkZppXUXBAnEBR//NExMESiE3kAHmGJGFgiFgsET5wPB8gTIEPHDURYaBAGRZSQDAWCIOACsCCcThg+Ef/3PHO6SBM4cf//GjlGgDcJ+K4WBemVCfFhgkYuBG0nDF0g5kjh2voaKRYRqT4//NExMkX4rHkAMCGuagcHzgneLWhFZNbYsXEhxYPpTU0ocCLQf3yTlyfKbtHLvkBnrUDeBwRg61YqYTW2idBB5Dih23JoD0qkFDgSAxgWmYKhFR5YoBWnRKJTpEgZrJS//NExLwR4FnsAGJGJKGmlSQTnWgqE4MuROxKCriDrP6mSzK747HEXqIii0MWhQcwMIwDkV09GNuQowtOAQyYQxLUkQfKBgCHAfu8ks+UOK8vBCGLdsMFwwXerVE7hO8o//NExMcRYKH0AHpGTO5NwPyFWF1h+c/bdZ71KgFoUgCyshUqUWmGxvjazgR+L1+5OVSQyykMJTVZaYPOklCN5eKJb2WezHpJe478hX+ZkcqU1U6RcnleTqlktOedOQ3p//NExNQToHX0AHpGSCkt5HPOJvkrrSSGZFEpwq8pJm0WldCr8IQSamvxE4gcbAz1Adgy3VMQYly7FtISoU6aIanH2Qhklisi2KqFAQFmY6qqFY9EoKg0erBbxE/O///P//NExNgQCFXoAMJMJE7kolyriqpU6s6dWGsFYK4lcJSrhKdUPDRUNYKrBZU/cOzAMhWBpbE2dwfGATBM0FBQSRFZOxaNt4ACEYATos2h9QYWHlh9QYUGFh9Z9RwucB8+//NExOoaqpXgAMpGuQgcBAaD6g+o4XPlz5RxRxd5epdf///Lyku4TxBBBYPqEJh6ApziININAdLWLOyzZc7TnNa7TTLpPQKohYmcCAIoWjAfFBAbRE7JkQTQprsH30mP//NExNISkJXYAHpGTFXNDSCBnz0s6GKxQGFZC2CA0SByDuzCyxeaCHhKZMCEQMACMO8VuEEod3EHgyOBH/F3IQCQAERxZjEUGQnHeE32w2mcOkQiERG0NVSDK7tLt3Bt//NExNoU2InUAMJGTFUFqAVPT7aiwr3SeCrFqNlAKuQYlFOYPsBHAzAKWFhwkW6dnkMDQ4iLJOsiutwuMDoFPAEWCijx2ylCEFSxsqfMAk8TD6oovTRbalhbfDpaFIkC//NExNkhiw3cAMpGuREp4EQy5CJTChxIQhHA0GGEBATQ6QAADB8XUeSPancbF0GGImBRDoogYwst2ueE3oUeJO7EvJWb1xebfi5MxmxZhhJuqL0CkFiCDAAAn4KA4T+f//NExKUTeIX0AHmGSKNfEkP9cMqPhbFjLLjpLTFd7napYFrmOr6a3Dhzasay5UOUzPEtyjHH/G7kFzNergBhnCEAA0lZzqsAjoMyAddwrVAPU0pChAKB0wAgjoQIKL33//NExKoSaG3wAGJGKPKDGhG/Yr3Su9HLqFxwhCNTZAVDUEHSDoPiiFKUMIcFILhShpyySAMapcESUhZcFRNRbc9Jb+lGVf+qp6hQESMBlwNA0ewVBWJQ1ER0KA0HYaWo//NExLMhawnoAHsGufQaDpUFj2InazqUfBrlQV88Igalf90lJEThIEBmHkIv//4xp3VhVblVVlKOrYWmuhQotcCAhcQoUlIOlEAC5YsgISYRBQ4qgkSOGEJSzgYcSMWZ//NExIAQ+Kn0AEmGTAuAYGVREIxEAv+gMSBVTEFNRTMuMTAwVVVVVVVVVVVVVVVVVVVVVVVVVVVVVVVVVVVVVVVVVVVVVVVVVVVVVVVVVVVVVVVVVVVVVVVVVVVVVVVV//NExI8SUNx8ADYwcFVVVVVVVVVVVVVVVVVVVVVVVVVVVVVVVVVVVVVVVVVVVVVVVVVVVVVVVVVVVVVVVVVVVVVVVVVVVVVVVVVVVVVVVVVVVVVVVVVVVVVVVVVVVVVV//NExAAP2w4AAGBEuSIVigI5IDslEkZjuJCdp2NZuNMBknB/jjnngkq/////9Nr8+////////b6NPP//0bkIQhznOc5znAAAAAAAgAo51pARMMBIYHuu4k/FZdQZ2L9W//NExBMRUFI0AVsYALZ8v38RGZACVMKdpOs+XSQl1OD5l1NBBLVbT7YpcXSp0pVopVPyitp/8g1vHXi9anH6akUOmu5iL7L+h39Tf/nJ//39E7f2/muYRzf/j8nmEBIT//NExCAYuyqkAYdQAIrioRikRYuGBCQ//oSUY8fk40PcWCYhEwnEWC6PxBjACQbh9//55OSDxjiRnMY9GxAiAC2BTFQFoLsTRDg1heA1i00l//////////////////////NExBAV8xrAAcFAAOfj463inTl9UmaZtIaoVB7K1h2pocDkKKsw4vP8gXItBtY/LUow5ghcW1Hyw09jhcyWHM8CozKOl6KqiSoItnZRijoQYjUXpSPU7Zz/mzei2/13//NExAsVaoa8AAiMuTOensZm7SHHRCZ/////5fe77XyPGO7bn7OxU1LJnQspjT3SolJFnYi9ovMUStFHNqctJEJjQsrMOok1PaisKJUOyG5eTEohWT3X0u1RCEFHe+o7//NExAgS+Qq4AMFGcA/E2yhiFKBxep3Od5Ca23vo5oEQOBiyFizRP6RF04kMIgLh+biibxQEgoCpKeiWRcVAQ8RAb0hpR5CQqdZhU6z9P1fVvaHIS+kRbqUdv0zIjjjN//NExA8UwWawAMvSlNVxhtORn0zltemxt1WE41gtmLM+spCA+GG/axyTXkn0sORVQbxzFRNnKoJB+4qN+TfpvdEjsHIYPeSGZWz//96LtqXKnaYUHjWyWJ+mAAXoKCTk//NExA8UoWasANPWlO8VjvaN6a6QcuuNeiz7Jf9c6w47yzuoYfaquNIveVWgpcHvYOnkfjiYVshAtsrObxq+PKLkzOriMdeI5zzxf///Qlyl/sYJ83oAHqziZZ7LGqio//NExA8R+WK4AMPSlDHSl1hm/jf7r9RvAjeBbyzab2C57ixM1S+TzECJMilSqsDxrSCXXuK8tuXrMSQx5Ayoh/Ykr///1N7IAiLGygQS5lach0gS+Clh8tjyxy5dy7kT//NExBoRAVK0AMtUlCJlTTrRpF5APoyGIgLp4oFLhxohqBfY/yx8sfMfaULYmORDcDHUf//9y+eSIHg+SAY/mOOGiRlw0zu7MvLt5O3m29Os/Tz9S3gilsBWIFACzTc7//NExCkRaWK4AMLMlGwL89E8mATwfLxJsJNiTf5GxFhrKDk6XYd///9N/AlWIhMiBRj0wMYLRrMFaljH4vY7ebfi/tv7VvvN5p8sUaCX6M2ibPaGo5YGYrCXU0rKparV//NExDYSkV6wAMvSlKW6o/Ut/zrZyzNkLWstIPGv//9yVcrw7YfDcENq9AaVDTrCOzzbpakdrYJXpXoLatb633kmGgi0UgG6Q72FjUKf4mbVHZ2zsjXWNUk+/nrPWZ2q//NExD4SWXKoAMLSlEkUEmppk2//k7+hSvo5lDbUR+Ply1f/4v///bsSE0RUS2u1EdGf6/dnp0Zeff8OL4Rg58Ojv+C1IPd2qJnmfA90jpPz8AAI4e+S3/gY//926qIo//NExEcREcK4AHhElbJf8/55ZG0/QJXxQACMOUeCgYHCGDMjiImhD0gq1yFBCiCcciUHANwYtxZ01KmACkIwXmwJIJPqs54dIsCO3GNBHpSS09XL///t/H7f9n1u13rL//NExFURyurAAAgGuWP8PLvv7u95bTNThu7eFwUf0Lom5pDH7eShl3qyn58lNC9mH/3P2n5MkXb4Udmd1VDP+PrKL//////////zFb9/8/f/cz4yduinay63aRpnihuY//NExGAQWrrIAAgMuejhko65edy2lsVysY3xatZTdBDopR/zdmEHxE6Wvr6mjJtSCJJXkDyhuz+41f///zRT/er/3GZ8//e9Y7sVmmQkeu5p2NNfz2fWYXe02m71LqD///NExHESipbMAAhMuYiadm2RbKtZmrSLyMqJ4cxS30+inaoPnHmXqju2cTUKUviRVS////+v/6KVL5b6/O2cOOsJOuXsXeEMEGBh3UMcm9BN1C+TIfilsUIgIuwE1t1X//NExHkSUq7MAABMuXUyZ5shwuVS1x6EM8Y6ZsNzPXcGlVM8XK/1rlAwm3S+ty+/////+z/m3XbuIo7un9zXuZRJHCQsxhZzrGgENGiyywNTq8OzLhKNDUyJbhEakYlD//NExIISMrLMAAiGuVIwDHPr1CL1qs71GZ88trCgwk4wbjxPla3lLRm997ZrEH97njNcmU+hCQDHoMNUOMURypqHHjoM6nd4gQZ4BApFDN+o9s/9P9a///9Nu3ElzSsQ//NExIwQSXrIAEhKlD2ymagnT2PFnaWvb5qiq95J72g+881JaelqeIxK9TF9PE9SqZYsU1MsqhbNEJ5CiRIvHfaGOLal5Wsq5CIkSsGli73JIHYJJUABUpMIGWULOQCi//NExJ0Q6WK0AMmGlDCFYg5Yq5XlE7gxaZzFrmsauLsLjK8ZoVFwRHRUaVOkpZohMlmkNilg6uF+QUEiugyXJQYFDgOZqCHFSwhCDUmkKAxffFoRe1ImOSVnMZqV8ast//NExKwRoVKoAMvSlPpccsceNnihtpGB6kCCsokcGJKEVYUdLlpBml/PoQPGJ7f//+d/+y13oXRDES04CXEOZ+jvfYh6wyR1//LViy91LTJRZNQuaEqS5ugO4fhmEyQZ//NExLgRIOaEANvScTUxBNxkFId4O8rE4HMLdk3Wm49TElzQxPiVieIjuYvN+qpNbS0kjIlzpue/bdWmpbS9TRLiE3Mt/+aGCCnQtU1JBEwNztI8o0br//1rSQZzB7rQ//NExMYScTpcAVsYANA4+mtSBmSCkC6qlcMpGmwWjat/k9TXnXhmlkLByP5qW/9yxrKZv5boF+MpHJtf8u2ymLYIERKC5uvbx1S1VYpKTkNJym/k/SlOYYco2/G425P9//NExM8hiyqMAZloAC4Sna/75tqNlcKpqXR0rYs4qQZHpprClZUQQBSTwhKUxibBTG2OEJ6OdZrCMipMhyi1WWnyKcct6KnWXRmGMSgHSqHyFroHCEsmg6KRkQh4khLh//NExJsXYU6cAdpgACtCbhO3RGdJ3NiUOF4khKEDYHEHAXC8RSm6n//////1M1S1rMTdzpq2QWgbV5xxSxYokxMVoJa6RgEgDray7ZAsk1eg3CBgGkHbpb3Hwzf18vv8//NExJAcWh6UANyamC38UVm/Ai/sEPUOOEVGXgHwBVSrAWxU+OnI9zhQGUksaCcSYw4JOUSTHGMOUXWPMZJNDlhaiVJong4UlFxH/////1avQSQMERGJLtSVC7v9cycL//NExHEc+hqYANvamKFaUrc2wghgE7H3bsZAQDzE2VRMw0PgfC6jM4RaO/U+fly3nqevhtOPRm3IqSxTtwfTcniRi+ZdP3n2uzKfP0/nSkNFPOR+FoooysfPttyE6gty//NExFAZUWKgANvelAbrhKLWIET///Flg4KO9VX/6K8zeurmUZDzlaJ6GTnJXWmGHLT2bcODqGcE+KOG/Di7gKyNiAyW1meycOg6mMt49kJiG4OFxlblC9eRFdfbhGhx//NExD0VSVKwAMPelNXPqRI2r036Ze0gNadhvVdOBAu3///nxtXn5mCNWpJR4s7VVuNxW8aQjQ/Gt544KfNmc4vN3KJDmhghwHAIK4CoKR1hWNrSYcJUYibZyIwgb/nz//NExDoROVa8AMMMlXZv5+3yLRkzqyJmwweMFWhV1PeQ8rp08OcFuhKQEwEC2rEtCUiAjN60h0h+KFhLeAwJAoBQVYTFRYorVNuSdscxzDLRfsNfN9Xk6+/34JU3JMUW//NExEgSMUbAAMPScW7HTGR6mMffzs2znCOMUebAIQhSvIQLU3H41zQjhYVYf6VPwvrRFJQl1AqFdIyT6kzjNmjVIPtkjRpYIKhBvlbWZ//ttOZZbZ6M5SrOz3BE6Lug//NExFISkWrAAMPMlXJRs3Kh8/WyWxRzodHZmXKvMmKp1dO3Qo7MB10SzdKud1e72/fPvba//0efa2K4dFAshNKgMWLDgZAw7////13DY6kjbtI2U7fmiwbu6Xx+5bzc//NExFoRqP7AAHvYcHrWcLg2zV8bDay6bXqhQ1ghBFw0b1FCeQzbprpswx+kRsEwss2nFHxFSJmExJd//9X+hflYgDnABNMgFvqRsk5UeEToBEfSma9WeQ5mZLPeI0vU//NExGYRYPawAMPScM0NACOAgVcH/CC1eC/SPIsB2OLdqEGUnRYqKFwwab//qm7qu16Xf//U5Sq1NiiR3HupLky9V0hJRBAcB9WbI8SErMyQKwqbzTXpNcf0Q5RBzioB//NExHMSiPqkANJMcEemQKM3puncpbcS+ufwOuLvD6gGXJnwA5n//+j///9bUx/tUdME7jVCkNduF48dL3hOQ0H1HhenC/WlWZ5U1RvUZqchsZCyLxNCvOhwqwgHZAQS//NExHsSeRaoAMvMcKKtIpdF3Mx9+nM2xFsNCa3//9jHoe4NbG1pHDA0TOXQcpraJt/R7Y22LP61vTj8Ot5vrDZP8O/KoMwDdlgDoXVA+skHzgkE27EFGvwcuSuufQnT//NExIQRcVK0AMNQlDbkzrUedv///lpJxqDsw7UrTsTXjiDZZfkBl0p7aj1hbmtNG8LXbI3hxfSNvL6zYfrK3lUom0jU48B6uTkpbcuN0TnXzXKfPxWn/37ZDVtqy9pb//NExJESMVq0AMvWlBAI3///6afpBG2J3BAkPHRMG1hEUSVtiuO8ZhZzJG3d7SX0li+kb7xuAzWfnKysgwS0NoNU3j/Fta2Qtr10nt3g6+N7gxaybx9+Tdm2LFbfFhcK//NExJsTgVqwAMPYlJX///rLKpNKjw8AFBgGiCQlDpyBRkQY6B5ye+lpaGK2cv5+uw65bDv2w6LQJ5oNpYA6NgBgdEOBCGp0pOmxselsQ7mt1/t3OtqLpO9biVVTY3bh//NExKAUiVqoAMvelAnpUBDQGMN9IaLMMIvUh+YAEiq69qr6dNRoXCBhcO+xo6CADcD5DELD0SgTIzJFVuTSyDhiwLKAHAN9G0kknWpJFthG7JnikQTMGZtSr5keTYwJ//NExKASCVaIAVhYAMIn9X/6CZRImpN2f///2mboIIXZdP1f///+iXycURQk2MCeNEDQMaCBFSJYAwgd4k/cB0aeIKYGvXwJ8N0Y8HtHSRHAfMjYRgYQcg/DAjzD+bid//NExKofcyJoAZmIAZHDkhawW8LeJkPcYY2ZQO4oEYzYojwRQJA+y5fQNE1rZw55fN0FIUkVLT3RXorTNy51HXTu+5uYoo0VaNFH/f1rvepXurqV/TpIGbWcwc6SUIXO//NExH8gapqYAZpoAHt/UiQkbAcQIjPCCoqAwxBIATRhyBiBoCTEUgBO1Cizingk4TNDhesoexriiU4/Bqk8E0DEM0sJbwoZ1AvxYgDY2jBXaGHouCfHoj2ZbKE51SfJ//NExFAfCXKoAZp4AJo/1XPS3eIdaRskE8I0yRmyJ4kTNdbtRWwnKN54iGtK27d/o/bQNxZlWNm0VYMcILvBUN7I6HRPM2MwS6FQ44RwyGOFlhpyyo7J6OfREikNKRsG//NExCYaEWqoAdl4AGgThwIkES5miDFJe+QpYmSCFx5lrTUr4+1VEqup2JLnQvLQ/FZlnvt5jut4t8QY87DHlU1Y7dDf2j7Mf//8d+LrSlXtlyg9uFYkwFeyuhzpkQOp//NExBAVsWawAM4SlDFdwBKuFVOjtlVezksFZoXiVbMOELPzbkqaB8Jqi1lA/cb/NsTiVzFVI4FW0hG7xbkRIZSbz1C4I00KFpI3kTmBI5////+p1IIOAzQ9BlRIYUls//NExAwSgWa4AHxOlAOEHRUrAv6IqyodEVNlD6GTWT4b2gmHSkKgUR6nDPJx53QvYjUrjgyhodMMjggx/RcpUUHx8hcXlz/////os5Q6R5oqiJONZS+ciYjOyW6GOSau//NExBUSeWa4AMPGlERmbJkTtZ3KpqJC+PwQwNJmXB07zC3DjVvv400Q0SG4IULYK4gckMSEE+e5qriKCBhdTFsQ7ogALduJkObcTQlUFhcKQV4f4XyXU4mqUOQtqURB//NExB4SCUa0AMPMcTlGmAF8OZCQwm5gBwkhC6R1prt7b23d8h4guCinlkxKEz//BWwcAklBmNW49IKuHRhQctWAtQlmuQcaxBlbBF1LkuAmSGIeSkmRgjFGsGpOARYB//NExCgSKU6kAMPElWh/LVITl8Vr6xc118b6Znlyw5SiZnRHhntlqAsCHyOx4r7lHAGZcIwQ2B1UDAILj6tiISwStoYmQQw119OTT5l/WQiEhfqOwLhTT1ulrU1mots///NExDIQ8PaAAN4McO//7lV581YSROY4ShQr6WiodnfApEfSDAUCNLsAMhGAHxrI8NCRhAiWlV9pUEtUh/qgXE/R8kFFxVLL5ZYttf5XTr6+YyBRIUoUBKv+ujAw0zed//NExEEO4PZoANvEcDg5I0JENy8RklNLYCoBGBC5dJpZfhljWYdi0Fx69TWqoiCg27mmdDgKVBpp5/0o9ur9n+3/b+7//00ESzUmCECaVqZWWdEMHCXpZP1XjayzCc2s//NExFgPqFpYAVsQAMaQz58uByBHBV/Mi4yAg4AN3Ht8uGg80GKAwgW4Y46fmizcoGbiXj0SKBAJ/9SEvvNCcSajQvMZf9BBC7bF0kSiZoLWib//2rflw0pl4l0C4TCi//NExGwhgyp8AZpoAGZJj4Nh4e///603b/y+aHS4amhambmpucNWmXJNiBkRCILAxUzGE1JhEejjudWALlp341JWXxqN5W7gLIBpFs757r0XBt5uRzod8fozz3q///+v//NExDkRUNKgAdkwAJ1yWLskQ7Z7viD7RZWndgzoIiUMSAYN+wS0CCq73QeerY/pqIrUerhFibuBpCYOCkQxrnxnfz/T51vNa52p0IYtXr/s3dm6nHcLO/////7bA0sf//NExEYSUUqcANPElNCnelWnfEVmixyMjzRX6NwlyWc15Uf1PhdVwvR4SFejazKYfaAyrJiWPldkW0KZAR3V0dv/aXfKdRRBatcB38Mkk+kexP+qG//r/2z4O2eIA7L+//NExE8X4UagANPEcV8HeW++hFqT8+fngf0AABG1ljxmQ5dFsDLm2fUvbCqKGrX/+XUFjFKyOpkAUClDqNWaUpU6NytX/9H/sUv3eS8pzmppHKAyagEi8W9cgRXmME4o//NExEIhkxqgAMFSvYTIIkEW2rKMMvOk6PFCeiCy6ZvCiM0wQE4uogI3wYgm2mhRrkEC7Ki0W0a5xWkMBWjIIEalliU0zBtUgJgpGyQjOo3x1ZUZmeG//////+N5a9y+//NExA4Sgxq4ABAMve7HZjN2bGPaV+PumnOpjIKMLLOKj6bjykXa4w2kEMYasg1YqUs+H3Nkg1Gnc8EkmeiYcf5IGMhwesPJCxzV/19f7wA/4N//////////+/t87Nut//NExBcU8xq8AAhMvezG204Kyqtu1kLLO85bJi40CPm/CUYT84EMbSDb4p2Q6GHJUWUf9pM65YlsIlEThxNIxACCxxnCSLkQ0lGoRioBhY9yD2XbarM2xJ1FFdutLtua//NExBYRst68ADiEuY6//9f/9e+5nb+UtOxSlVjSsUKylZ2qVHWY0v1Q3zO0xus2pWT5jGMBOrTCmgrRp3XHi8QDoMDIZWkZAb9AhCQsNUywjbM7Od4iiwVijsJIq0wW//NExCIR4VKwAMPKlAjwGZkz97172/z//V7nZ4g0/DlHDjOfRnQQBJA5hlLf///b/Nk158lMRB+aVsFnN5/BVtCLTSE5YjeIuPJtL+BaSj0uwHnsQRqakCHrMHf8m8Yn//NExC0SIVKsANPKlP8/bVrDWOcdizMQBUjXw8U6AUY4eZAsV///+RVy6RbJxXRMKWk2OWNdBAsxCEmEjiek6ZxXQE1CiUltCQroICAEikqZtUNHz6N/1SZmMmOqvDOM//NExDcR4T6YANPGcdVVSLLCkGZj2MKoCRU4FRDVUiVAoLHp5DeYMBpgmMCL2QUCgokECIDkMffUco7AA1DobjlOiUhbiOXSRN0lqLyfo//2Ne9kdAzMBDkZH5rK2oyV//NExEIQiVJkANtElCoxeAx4UTRxOKGAQo6wqBFfMBLcwYu6Ho1RsLBEeyh0cHTCoqApWG9U0/dEL5/nzarPcku8I7LDZRs0z//fUHHX0f+zZpocNwEkCATNinQ45gmg//NExFIRIVJIAOFGlHmzn7N9OtbKqM9zQY2LZFOsry06ek6aRCekBmCIzWhhnMggKGwASBkIgU2MONPy97kej93/t///9dUvsCqy4hmyF+mkQ9TU9ru+VceZXd1f5vHm//NExGARiRpMANmGcOlAqpAjbwtheJWUkzzJlX4eSsakwoCbkZtSbgYxoKnKQ4x8kt3QSgHZ+n3f39rZhmuPMFN4aNngOiBr63v6HMfr9IJ1L+2HSD7Ef+3A/MDBBEAw//NExGwSgVJIAVkYAB/1qYG4xYwNswOqwwv+1uFuwDhilxaxBMn/7fgahBjAiAg8UgKUFKf//h7YdOLjKROEXEJxS5F////zInBoCzxkxOg5g4BcB4uDv/////yYKguc//NExHUgkypcAZmYALZoMwQQ8HqF03FyFQ3VX/NrhMMKKoYW0x3S4IGKg0xkapmkI2hjAA0MVSMT6Huc6rH0ekWDO56T6FuAVY0x9DUiubeuJXuZolEa/UGv30ejdePf//NExEUgSjqsAZp4AN4fYD8gR6Wm1b7zqmMRNaxe8Gla4iyW/vnHx////////93veeuPrW9fXt9fGIXGrSLNFIuJgTMc8ivZ9Sq5El1HSi12dXYJHP0/wOzXS5KeYsDS//NExBYXgV6wAdl4ALwJF0cvTndW80hptLHyGKpvEnHi8DgAwsUVOOWWNdOUKDBgw2a0BwfXVkN6n1E9iPN/7rqkGv177ivHkN68mjR4+AYMO///6cay2TUahmCCBivk//NExAsTiVasAM4QlTII0d7MAGbFchwiSVKsHD2O1dzmbGYTK0BaQMtghKOat017L35x+PWvr2vE/iDbg+FHkLm8NoSuMbnrEaBhpuWyQN3Vt2xQo+MYYCwQjFGgDAOC//NExA8VMV6gAM4QlPAJFPWoW8sPQ4wagja9ZbEIFanBSnkHpAQDByXF3MRarhZ/981dpecy7RTSULIJQFTFKHr//ar/MM6Cw+YKkYLBZP///klgDWTC9DktA4cY+AQA//NExA0Q6VJ8AVo4AVxTYvDLBVEmbctZNan6jEX4R1Y4/4IAgoCzVwQCh8aiM7Os7fO0zs1pxJDn6/N1+rHR0atYqCoRsDCpXKYOuJHWBn0tzGVENCfa9kz8JpN3MWRA//NExBwZiyqEAZiYAORBzTIC0RSAh60sum7SCkXZP++6n/09eeOv/+mupDvO/+mXEm+kXE3sr///7of1NnF/e/+boGhuYGCKjZk5xHZA4boHlMiaIKNFVY7HRQkfpsiE//NExAgRkN6UAdooAFpjMChJWYQCYWadEOrmqpvGbqLgsEgRDog2oE7SpKbKWBgkBhCbo2SpObTQXGN2eQUcKBz///+UU72KcTn6FX0mRGKGpscHqKBWUAQAXpGGMzoc//NExBQSUVqUAN0KlH1nkgPPALjwWMjoFngjJjFJ0OXKqQ1jR2JHXqbX9Z7EdR+DZmo2+nZoTPCzUB6f///kvqpk1aGIDoWZq3P+zkzkXGlxtR1DFwl/KdWOoN0ELMWE//NExB0SEVaUAN0KlLAFTYAoY3SE6m8fj1yv3q6vqRxj4tIC40dvs/3oHB8aLyByf///7F/qWSpVgSXISDplNjkHmqJ48IrBmBKZkgK+jG3MuhyYBWSVDqAdLgKBHgdA//NExCcSUVqQANzKlMkbIE8tzV7JfW1ff8roaYpWp/0oZzKAKOcdCX///1EvyQBVBQpCSaHceNEAkQjImcRDSc0zs9XEwkBQKCZdC0JLuQWJ8BpC6hGWB9JusGLC3zvi//NExDAP2H5wANZeSF5ar/Eqx4KA0r/////y0moRLIKVAshHXGJnIaoGHLIkGkoUZEVgIddKV4S2xKYMpWktrletsCpUKG7/UOgJT79K3I51GOZ5Fh3oW5LPtrTUhT1r//NExEMSqGJIAVsIADH5g693Q6hNBABp6P4GvLU+pXC1zJvJgiosM2ysodpM5PAMFAKGA1eOUBYsDaSDOmBlCAAxANsJ4AbUBbIDdUQxTc3RJEny+MyZlwiZf/RqSabl//NExEsh6yJ8AZigAPSWiV/7J2oGCCzM0ZNX/KJBy09NBcrqIqXzdFdL/9TVNv0ELJpp1V1///dlpqNFmlMvqbd2Y2SZIzWXUEKYG7SU7MojEvySsXiCRLhcpRTE5wXE//NExBYQwNqgAch4AKlVLtXt7Zp8yQH/cLRPfFZ4/CIuOl2C4fYF803+aNMp6ne54YXP///vZMsZ6u3l0BSE0Z1IjGtjdxZvTm76VzRpqh9BAbFwGiAFQCT0WlWjp1Co//NExCYQ+O6kAHoYcJhdiaYi7JrOtPFFjUGxRT0yTPtXsQTc/v9F3///0e2R2rPAAEQMWrAgDHBAMs3tJkoZsqtBNRR7DlSM0mXUmNlMFAAyehWKzE0JuIShGFxKH5wj//NExDURkVKoAMpQlNrdy/8Vx/x6Mg65tDH////FlZQwAY22FK8XKsg8FcFDcHFdR/b2p3Cl7MU3bXbn3HGnWn4F0TTp6WRrQBesFwkDyrBqPAglw/JR+hur651pmZmZ//NExEESqUqoAVhgAe2vz8vZ8UreGYoxbKPkFjPwIyyVMuZxRkAVaZmKGgCRhg+YmBkoEEAKlSKzNmsalUSZFD3K2NNYdZ9WQKHUuLcZBKM5dTIjmQ4UGkiio7SsStyD//NExEkiKYpoAZvAACxyRZR517sHymUY4SSz9779qNU+vx44MCQZErWP/N2bOG9fzCx/93hjeySNfVQ+5BYsFRSOczudxW8teoWPf1VR6oSgUghLCxX4whmMI4Pr/MPs//NExBMUodKoAZgYAG1lhxM6X//5wQBsRsCrxUbggvQUhAAAVKETvCs9Gsfhwv+mlP/JxAVwwljkYNin3QwIR55zyyzqlL/wwQxUtqWZgQjMhAOwBxwpgDhWmtDtrv5///NExBMSeVqgAdlIAHCz9vHPn81hqeTrZf5/qU5R46yA5I5Fj7nUFobkc2SBCSOUQSYm330RxKn0JJiUGf//9hRf0ybpAMhi3c9QLZkwK8dJWp44KzuZr7rTqGsmbud9//NExBwR4VagAMrSlDG/zLzsHTI3G4PAFgoTMyP+OtpaxUbi8rMZxUx2owVQkYhbCsVkdH////jalJYKKNyqOHsLkOJFehURk7EaWC/xys6re1lzw5y29sR8y86aOTJx//NExCcRuUqcAMrSlDSOGYGkbkl0MYtqsVl/WuoqzqeJ9KpPVkq0CyP///sRrjoBTm0gN1JDA7NOc6wn4VdG3Sz7lmSNXU1eN1bpqOLlZCVTbDZwGLDMSJpi3UdVW/u///NExDMR2U6UAMrSlPINTyG/La08wu0qZKL///9Jb8gtaqRwx98lKHtdEZTIzkEZfAGLi/gw3tPU54ubk5B+WRfcrKF6ZMQHYgLQ2C4RBU9z2HQfNc82iW//zWsnZ27///NExD4RyVKYAMrQlP//f///0ISilFXx0ce2QaM8GGwEpSGXGughLWeVUTERtjwfiP4lLeTUu5PGHYj1lzpAMCMYEfETitFl6XXQU3Fwuk0ZSsSMDyP///////9amCVV//NExEkRaPacAMvScEaRnBaUKBoL9j1qapgBESQKDBs0KduHyq7TP0PzPS+qDhYwiK7q81cCK5JoxFDdhG0gOn3MSf6VoojVON2aHA4kkRlMwAdlJ7piyDDgtKh4n5iL//NExFYP6OacAMsYcLSi7cF5CYCAoXBWHIf5NTTMBEGMoQDG1pvnla3N7DmP6OFlRz++yhqCiqN1CelEA5B4EBwskMCF5DdiHmBWr+t3bNQrMgpHORIA3aQzYMDgsha9//NExGkP2OKgANPMcMhmWXaJSL5BUbzvnmTdpCxG+hEvWAUJW3/////VipKUZQLPgX25wXQbQUgZiSagtwqBl4IQoLLknWuImLXQADTwqJNeBm2uwzboeTWQ977tMs33//NExHwReO6YAM4GcLy5ogrOf/igQGhIuf+1qJPB3tL8imA4uFxoYcFEQQERRO0bYOg2rxcwc9rZcNk53YWcCtmvxeHpTDVndvG9s+8lapu/R1y7SmcgY95VBkCk1Ps///NExIkQ4IKYAM5wSf///2ySqpbDcLzgEcH/JuiUSyhRE7cjlAOGFClDNUjEgAEIBQTOjMFQRItgsTkMSl9LRlgy5jFrtapVjKp0TE5cCoFQXLscfaM/////VYw+ASs9//NExJgSaRqUANYEcKyEPPZmEOtfnTdHa+DWlWImh6AnwEjDTAzAAdjXCzw7RySgVCeRRdmf1KZ/9/dunppK96upKqoIAvcmv////9J/mNmWpkwMYClgxKRUkPG4LM8K//NExKESKHqQAM5ySEz4AAIOmD9QGmC/AUkGMAEFA7GFFD2iJqIObF4idR6vfQWz9eS590dumeUJNa90MIRyWUo6JUx3///+xyl6KoFigijgMPNHNqDUUTAzwDDxgwEZ//NExKsROVKYAMyElOlAXFAUiGIgwUDAsWPIGwgZyZqCgsMotEqC5SZDws1b+K09NyvhvuF7LCr+u/lvasqHjen5dt2mvJqTyUxykZIUmmoaSFPyF+smCpxP///l7yrU//NExLkUUWqQANTElKKLmCHxwyyniY3JmVBJi5yZsFqLmdhgNGQVHKTMXAJCQmnZMYeAKgpJGZTILkIRy1qOk2sCNadiJYVresu3c5nVWxy99bzlqN0jkw1bU0tSjOMm//NExLoZ8YKAAN5MlFxmkKbGQkrpUjFWBYjkX07JZuj/NZrrfb///+xixABHw/UkAQtABjOKjpsZ0YGQsdUrMWC0T0jA4LEgGCkTU+UNl9mApMRAKtWNuDKH+pHBoqG9//NExKUc2Zp0AN6SlGu6/et9u47x138daxK6XXrZh87Pnn76a/TxU0VXAVlWGw6ZDQKlhIj//+nv1FBTS7IDlRhhgZiJg5MAQmPArLWWIDwcKkbFgNMWZRluV0BRK5hf//NExIQXeWJ0AN4MlDLK4TZq917/y5VLZtHgWHjQsrSmeZU8GQoDRJj5Jbv///ypaji7KnBskmUINTiUJmgGIeF1CAotmj4HOLQL4TEL4XUgZcEGlVErWJramyPM+lwa//NExHkSYNpgANvGcLRyZZZTJljkwUSA4aBlT3/zKmra39XVKEhM9VTEanKPD4kkw1RyhBWgw45kY50SJh4XUQFAMeDUXMJHocMZImxzA0arSHb269gGQ5q9lKbuz/11//NExIIReNogAMvGcLkbc2gxVOpVDmDFRRB1atsT9WIRdGRqm1USKa4Mk04R3MiUCCzJ1JasG0qHPDSGpGRq3U76dVI+5iFcYr+Fx730t4QY6hntbWTNmAUeFR+JvW+L//NExI8Q0In8AHmGTNLwwCNItXXOnU057u444oSoTB82acJwfF2GwOF9bdYv0m9Jvi4u2sXbzYGzZt/F0vWJQWN9YvSDIKi/8GgaNjviHAn+X+60ATkTlZseGijZtJhV//NExJ4QwIX0AHpMSE16IJhzECgUceFXMdmHwCwDMaZFDZAXSFC6BiRy2jmPc02xqGJrSrXfjO329FUEPKEoBoW4MJAMPBU0QkpYmTCSgpiVkYJabgoaCjQaLCiwskqJ//NExK4RuHXoAMJGSLZYbJFTjTjThs0sXHLH/7zvOPc803///////6pMQU1FMy4xMDCqqqqqqqqqqqqqqqqqqqqqqqqqqqqqqqqqqqqqqqqqqqqqqqqqqqqqPxeNsOYI//NExLoQSJ3kAMpGTAQYZYsY4AvSIOI8BfwuI0x2HIjKmam4eEgCBoE4BxHJYNwoKYNyeZiGI9jAzOxLEdGcHiwwBufsOUOBIJnZzBIJjk0uYExylMBwGFwQQPAZOyab//NExMsQGG3MAMJMKZMnZMnpBCzyaZhCDCAW0QYCEM/YgQQ/54Qh2w8mTuIcmTu755O7vTCEWTtoiCCGxEGEMveYQj/2TQz9yae3Dnk7e/BO7vYIRVqhJAHBRQQwVuK6//NExKwAAANIAAAAANcyV8Mw+6dlm7pXoYgonig+ODBYP60vrHVXiWzkUke9YkJTV15ZF6277zMDbNr0ia+YK0yweOzDxwR6iE2NXSruMZErImFyH0wpzwWZaUVu8uLd//NExP8oKxW4ANMMuB4MWYQqRAepKLlwiO+IJkc2hC/dhuuCI032KnAaThZySecLFdUWiX3UsUvUokbxSiUYvtE41GaZ+RgJFBkBgAsDCA06zswUCJkdyQWTopZqQNsN//NExLEgAuncANMGuQ7IO5kRUlUHmCjJIxmpLoqg841SYrMtuXss6WRkZEZNey2XsMjMjIyP5QVlipmVIWRp5Sx4tbLVyHFoxOQ5AEDDVNVgHNcqPQLG4t8msIAqIWkT//NExIQbsvngAMDGuTC5Mk6EpW82TboLeA/q8ztpEWh5A4BFITuFDQSa4UQ9qWJHtTStqVV0+1VmjTqFUlZG8aocWte88PcpMqlKUTnhmXtkbixGVwRCoRFRXMgJsaLN//NExGgT8PnsAMmGcMNWWn6aiwZ3G2sNiE0qMeoIp0JmRwkhI6aeLEmHppZGeYZkYUal0lbAMlbRJbK6bKpH/10KA3ElwwcQfdsDaS+kAQWN4K2mJChZyTAc6OANTEaU//NExGsTGN3oAMJGcF6zQOOKBsuQRIWu2Rvy/wfL9bg/OWLPggBKS5d4IQ/PqCIEAY8CFAIgTwzDCwsPAigGoByCKmmhI4lSv6zunhq8GEAMePGHlpAYdlMWhDFQYUOC//NExHEU0JHkAMJGTIFkIZQxEAUF1Ivues332tfTaORFkKPFqsYxqzjgFYtKUMCo1L1vFTDTy2DhKUFUn6BSBlA2lWStC1MABpGu0ihQeOWSOCwuUGk2sCYGShz1HWNF//NExHATsHnwAMGGSD8UXUtogGnBwRD5c+YoEDgfUyisMCd+bECX4HKDOt23R+5FJQMdyLwq4ytdWGk4wlrq1WmVQhWHQCOiqJJHcr2LFOqdFqpItWdOipgDSJJzXjVC//NExHQQ6En4AHmGJDTcxou48JSoifKqHhJMUF2NbLCrPqUjiOE4mAAFg8QyehiW+Z2BAhD+Ie7aNjH3+4Qnf/jslNCeAZggkQRPJkAwTW+Jz8gu6XHBEo6t9PB+Jwf9//NExIMRYHH8AHmGSHP6hg1/bbpen9wfVKqmGAB0nLSZUZai+tLEa0evzxIjbNoCIbGnG1GWO18mtFO5qLqsNF0GJNoVF8jTMuljbHoOCahvGcIYrIz5ZYZmR+Rrlnk0//NExJASAOH8AGGGcM3l27GyOewlukVjoRvKvV/MTJMdTRZ/bd9UTdIGyuEPZWULAqIAbAkAw2LBoCHApiREwcChxIYWAhnEhkFBoKgImEgZARIYBSJ0chgSApJgzCoC//NExJsaYfoAAMJGmSQ9HF0+0eWCYCQzQwY2P//7P/1EdKpMQU1FMy4xMDCqqqqqqqqqqqqqqqqqqqqqqqqqqqqqqqqqqqqqqqqqqqqqqqqqqqqqqqqqqqqqqqqqqqqq//NExIQRiHXkAEmGSKqqqqqqqqqqqqqqqqqqqqqqqqqqqqqqqqqqqqqqqqqqqqqqqqqqqqqqqqqqqqqqqqqqqqqqqqqqqqqqqqqqqqqqqqqqqqqqqqqqqqqqqqqqqqqq//NExAASoxH8AGCEuRsVhsFYkAXJRJGY7iQV1y2NxvBbORUbJt953nneSRka0/1f//79v1P////////28lCHqc56u2jfakhCEOc5zhwMDFgAAAAAAAAAhTnWkBEwwEhw//NExAgQcE40AVsYAFuO4kjkNNNXbF/GtvC/kdJDwG+xlYqKqNl8/UTl2e3eQvW8ushrQk4QsdWz7lTHP6esL2vfvodet6VFDpF3ZF9l/Q7+rf77///9E7f2/muYRzf///NExBkYMyqkAYdQAI/J5hASHiuPCMUiLFxQhIf/0JKMePycaHuLBMVEwnEWFyPxBjACQbh9//55OSDxnJGcxj0bEkQAWwK4qAtBdigL8GsLwGsWmSX///////////+u//NExAsU4wrEAcEoAZpadGclT1IqsY0iGZCkHmKZwmUoCDiCQk44eJxfIHyOw1o+cqCgsYFOJSurjRdxYXIpmc6B1IkZTsJMwiJIIOY7lGFZCDCDL7Uj1O2c/5s3otv9//NExAoUQobAAAiMuXd609nZvkOOif/////3ff/tfG8Y7tufs7FTTsmdC2aT3SolJFn6L2i8xRK0Z+1OWkiNjU2zKo5te1FYVVQ7Ibl5MSiFbf/67dCpwVOLfDFmncBr//NExAwUMQK0AMIGcJHwXn0WfYufcJ/WYku5xM6yJmRm/EQgZFd2nBxRz5uKMJLHAkFAVJT0SxEZKgIeIgMV3CIFVBRBYKnWYVOs8qgj1VfVqbOA5GjZEWwk3zzNGG7p//NExA4VUWawAMvSlHU6VnNoZazhP16lrzZblnUGB8Oe4K9IxDDU6lDMTkFOSSIhzDuykOMiEJtImZERGuqKKprfVU8xEyOYhH9ROwFVs///mku6VZ2mFCYlknE2wYCo//NExAsVQWKsANPYlJR45gR8rCm9nSedXPaN2p16rHhKPfVv7zeUnNk3Rn7EiKWyuVcwCT+j5fhz+E9N8Hr7XQZTL/q9MquqNL9inFbjeWnJ///3lvrp51rBGjRQAGM0//NExAkSAWq0AMvWlE7Z2m2LbJb+0XN0hrtVfJF+Vd++/fa7bnMpXQyyL3MxpbTDbkh7gmn4D4Zwp6rOS768pnOr5BmWmXTr////lf2QGGm3lHlfz6WhkRGZtSVryZ5f//NExBQQsWK4AMLQlVm3qVlbdM7ydqV8xBCPEUAYdRQELgGqwHN4gCzAMZhArLWnHfX20lM4tKCrMOZZ5sqHQz8qKy7jLwkmcmVQY6L+Rqi7mbLKLybWZtZ0xjlh0NsR//NExCQR6Vq4AMtSlCdDYHmkgNT0GpoEPon/R5BD4Fc6eVn6cbLsqEDUFBwZ///8iteVLPN2Wk0q5I0mbactUOEw5es3bLem+1/vI3ixvm2Hs9DtezFGnp1xTAAKOG44//NExC8SQV60AMPMlCBSQQAjlZZx2kKrP+1KopGSyTnnF2O///3J7gQ+hE0KIKHVABImDFy+sh+VXj1enWe9Tg/uLvPcF2kIJqQDUIhHWGsU7lqt0NfNExYmOXmZ/Ld2//NExDkRCWasAMLMlJwvEPiib0///rYK1fBBZKOQW44mwHMGSYjF/Nfy6//0eZ1AWQZOOGnRrHmTnpCMwgawRl6gGs+cDAfRJF5DD7i5Q6XWFwQuDEh1AgJy70dRx/pV//NExEcRkMK0AHnETJSARgTwu3///////vl5H955aGzeSBFfFAALD8eDgwOEIDRHEAgmIIfILXchwhRBJiyKvANwYtxZ0xKUwAcQMYK4tgSYk+qznh0gmADtyGgjwUkt//NExFMU6uq8ABBGuTrJ///7f5+3/Z9btdtC2P8PLvv7u95rS9Thu7eFwUf0Nom5pDH7eShl3qyn58lNC9mH/3P2n5MkXacKOzO6rjP/fWov//////////MVt7/5+/+5//NExFIQYrrIAAgMuZ8ZO3RTtZdbtI0zxQ3MdHDJR1y87ltjYrlYxfi1aym6CHRqP+Xswg+InS19fU0ZNqQRJK8geUN2f3H///80U/3q/9xmfP/3vYO7FZpkJHruadjT//NExGMSgpbMAAhMuV+/Z9Zhd7TabvUuoP+KNOzbItlWszVpF5GVBvHGKW+n0VbVB848mvVHdpcTUKUviReVL////6//opUvlvr87Zw46oSdcvMunCEhBIMO6hjkJ+N1//NExGwSmq7MAABMuQs5Mh+KWxIigQ0sBNVuFXdRxmebIcLBVS1x6Ec8Y6ZsNzPXcGlVM8XK/1W5A45Pf/////qvpMt125wc66Zv//+19fUnOZYolmpbPbv8ycrGrv6J//NExHQS0rLMAAiGuVVk5T1nyt/nZwuZmZ/zXRd87HGpEVBUNOIwCoc+JdQisHVqzwnhhJR5+flyuIxuG8v0p1tT9OZ17tQg6ng4Ntn/ZvrPmXKGE5BzW7a3j9sc46G5//NExHsSmlrIABCMuEk9LZao8KRTntNq9xHyo3Peer+r09ytsBhrRQukq8jfH4FuM9T6ypJQjvhl83d28D1NXZN4pnecL4hEpwJxELL6wO9RUhk0VFl0kVUmRNTMBp6y//NExIMROWK4AMHMlK7yiyqIjREquz0qd5k4ATDPIEDFBZ0xoPMFAnGWCCoI261ItcOiqe/RdHuOu80us09LS5pa6dFcAUWmSd3zkpDgVQNYS4SBLnXam8nU/k2pgGCt//NExJESGVKkANMSlJ52VYm3YseHvwYJJcZtVN2qM7pZNBiz1KK5Z5FaEBwSCsP2BoYQKGA+ADC4otwKK7sKChl8i57i9/6CiLeD5AuD5cCQ+pwfDAndEAYW+yIHSlJd//NExJsSiUqAANsMlOXDFBf/+mo5/nxAZ7AlGaDVgJWZeICY1RMLu3GqAYMu86qIz05HWIaH6spHGC3KyfUF5S0RkfHaIePJEiyADwr0SfiGNqyXdVQUmXtzeHoOCknz//NExKMWuRaEAMoQcLrE+8fV1PH3YtiUu2Od8SRHftEQu5S6fsqR/u/9qeyrqo1LWXGuGhMjNBU2OXN2+2IQgmWJ3rR4uIZ6667Wt4XVPkxt/Bq68KbyBMQsguBgnlHO//NExJsaMVqUANvelLJrqQ4LaazVi4Egrnn/PtEE1pQ/GbyIY+u2GGjdJweO7sUVTv//9YXAjvTbb/7FVaWnaQa+4jRGiUyYZs7/S8g01v8ljzQZJ1kqllNpmS1ZuSNM//NExIUYSVqYANvelMWUM4NNQ5AIIYRwcgPhiyJyP4CvWcsZrRIE1qw0VfL9Rb3AvSAXw4rnOOZwrtCQGa///lpk3/QqrzDCwZKrpiQWAwGKqMRUwkdL8xrC3/GctZbP//NExHYWiVagANQelOjl+dsXyo3Xg4zx5M0pajhgKcIpDvFH/JP3SGFTxyJXewJLuF22wwRSmSrBoAiIpNEoAp65F7///9aIO/sR/mjEJpazuioYbIIvRBQQep53srW6//NExG4WOV6YANvYlBg7/Rv2vb8plfSLaP42IDIY0rYAKYafG6S6SIo3CjaomNXk8ZplOlab3ExRVejDXPZcxyRR4EIlM14Tvt5//3rcNf9dP//0KpxwDBIjMcQqBWOO//NExGgXCVaUANvelBEtbTL6MWMSCkLty3nab99/v/+KqHNVZ/y8WNAiYDSJEIQCiWF5mMy8ltQx93HLuOe7zyuCJoHiWrpqRSF0YybCNQWQmqLLOglLmVAoGmJl+G4E//NExF4RUUKQAVpIALrv8yZN/4z+R9pCZZ4wRQ8GliAAgEIVCEPDKuEBwWFEEKgFiRJh72716B4DAiA0IUQxgKybx3//+IZ4pSTCQWNJFij40//9PqlvccsmerHSe1US//NExGsfkmqcAZpAATB7f/mP/CT2A9EBVzp/Lzc5wsmqs8vGLxsRf2Mg5ghdAL/tB/61fv17f/c/9Vp/mJ/6a/vuz5CKWGgSSJHa3dr01izHH9cb1d/fEkT4pn4kdazE//NExD8SUUqkAdp4ALznU++v/+hez0oqu0jhmCpizeQtwMPSRofSQFAPv5jVeQZd5R8ku95d6B35PeeEDBUAEIFRDBNHfu+1DU6itR5nEBYR136fmx42JFIhr3b08tQF//NExEgUSVakANLelGXb///86///9FXtV9jMcGjrOYV1eWtF0RN/ie5LL4P+n+j6Zn8u1R3k2kxcTUUx/qnMPfgPbXy519lc5WXbdPl/FxE3nKfYlVHVk+oEQ9///0GF//NExEkSSVqwAMrelKrn2TeiKaX2F0PfWXIPgr1550j2tsJF/XBoe0DK+HcGNGgJAD01A4MQAgowIq0yTQgFJrRkxEGSjEt3WZyqMIkkEEyNVediBsDJq6HNJGcgMAnD//NExFIQ2Va4AMLMleLloZvNEV91stqJx2ixd2MQsHidskGhWCQPC2aLCGdIVAtGSZE+VoSFomu8bt9n+b/9zKQ+J4NEH///pfxeooXTVWoV8H8hmwsuCHbJOLSdA9ca//NExGEScVa8AMMMlGYFzEiuTG4K9fZz8XCcUqIY0MVzqG+c31b00dS5v4mSPEGJIS8fnvjZ//O1bOWtNxTS1gniFQyRusph6nzSdxyWowSQwxxknQm6cTykYVQrlS3I//NExGoSKU7EAMPMlWMReEqVTVNmBqB7Qc4rnU9r+uc1j1libjR8X+afzf8PFSQASF+F7AKcQYbPFqMhocF4gaLnBHYZC8UK7Uh7rlJMUAmZ6llk6S5MiocKSTRX1vvO//NExHQRqSbIAHvecSS+zzkRuIWBoFgT2zlt57/32Xy8a+VXO8nFiVDFukyaabZ5FPMe6NsVrBQSqMRr5Tmkq0gnnM5GJWCxJcnZPWdbfvqQIM1813dsQeb29dsDYUET//NExIARoW7EAFvMlTb7lM7Z99M3wpoadh62le+SEkbppIx99pFDjhR4BJJJARBkEhFBiIwlEMUlCNBR0OXiULkMAVaSRKSDynSPe5N9rbOpSZeqtxNG0+51uWsPW56g//NExIwR0VbAAHvMlSkHr8rt+SrcMCKq9xgLaN1eTOTyybQA5CErmo/nItLqj/jTRp1s16yxacUElhUHiciQ4jRUsttXNKqr7qvSDpw6G+LkVhpwh///9v0xVVWWpHAM//NExJcSiRa4AMMYcYmsxhQWhfhr9K7UIAKoYaFhS28VTolrMWR4r/LLLDbppFTQwTYjvAlGehaHwotEwlIKSAF3pn26P///gO/0f//WzfAC0JcUyGUskT7afxmhhgiY//NExJ8RyQawAMMScEw6TeKpEiX5fufq8hNN+rjiRZiaN7U2YX9b/fBBs6fqQcaqKETRmz//7BrKEXr2///uQuq1SgVJNmnHVyuaTFmW5Ao+VyDqTGig+VRtWf1UNVe4//NExKoRORqoAMJQcF9PzG2CQ4Yk2hHEh0gSfaDWkV9Exr4lizX1E3N+/ZU77QpogDBNX//7J48myj//6NAuupqOli9yZovQ20tLJR5HcM6n4hZ7egaRnW1z8Mnos+Hj//NExLgRUQKsAMoScMCfy7wiI8M43jIM6JMKHtaqwkLQFBHY0vTDjRsrljmxS3r/S+XfzGrCriDoXG0///vDP6a3TmEeRPxQzRoOYAEmv2MzhAEy9XNtHpdN1x3DXaDH//NExMUUYVqsAMLWlFJNfHc/h79U2ckltR4WpdYm/UsGRvW8uTOuCtnYlThCHKI3+jn2+a7VTELHa9Svn+0dhPsuV62It3//6S7k/PIqsukCNh56SmBC+7xAOPo4+Rk2//NExMYU8WasAMvelCPb2nWnCIn0hObNO16W0B3lS/bLluQe0WdT8HaP9JA2AX5+BGXI3D3y/KWAcxQidxgcaJsgK1LSAuwiSYsFEeMRCHqOTn//////3rkdn///Rpq3//NExMUX0WqkAM4elHTzRWJkh1Qk2YAAZ0QAiS7M1dwgK6PvOLRsWnrbFo3kjZ1/CfuM71lYYBOiTAzh1SBqkOTxoqmCyxfXXrjebW9t/+0bEKNCgxavVBVAMOTnNKFR//NExLgY4h6gAMvUmA94FBwtKbAZngIoglBQqDr/Mq2sceZf+su4jbzX/+2rxX14t205lWFSGCrFUPlNTvo1QW/+Nmhb/FivHLQ1GciwIyXJUcStFyE3NoiHkQ6yFjeL//NExKcTOVacAMPelfJpm4rcrkEKouETsXC4aE4IICkxCcGzhDQhUO+AsCKZhWIInyIMZAH0IKi5SHlM3f2TXTctkmboni5/TTWmgZrUosLPHf/OMonD3WeJYcog6jBT//NExK0Q+OZwAVl4AT//q9SF/WtSbWas7//9zh5AuTRqa3bdN1oHky7uFWYGFCjAIJHkpA6otCtkZqhwRaNIwEJON2gUAYGcokrf+V5rrnMsUxWeg5NyCYjT+NjW+oGr//NExLwhqxKEAY+QAWIIwCVLWU2aGpi2J+IcZG87lMEfRabd7Vam/8Wdy6xjngoHC4E5K9f+rn/+V2N1Zf361iH4RG7e96yudOVJOf4A3SgefD1RQPmkan0fs/gMRK0F//NExIgheYqcAZrAAJfQjZKmGRIZQiQyeDHC5hVIeZi5r6GlKytbMGvym6ldD8FCRSAGjAZjwKrAUMEiBZStVMRBL7xtrK0sc1QzUqhFaaZfH5S3CTP6oE01yUeL8JZS//NExFUgqXaYAdrAANvrDuVHO3YAsXq2Go/J5dI4Rk3GFyKD4pjHpy9fvexf//1iiVijGuLrFE///029ca2Lg37jI89hxyhZLeJQhN+kcNlihJCMoNJIOyW5STjTBkcM//NExCUbCWqkANZYlCHwcI7ijQGHUDLSsmflYJz6V0W8vxKL4TVHSOrG30sDY4pBQB4dSOBIlnnTxikWWdczZiXLSqWHHUyVOcvFKI+5P//8t9+LKt3B04RqVxxOvXkw//NExAsT4WqwAMPQlbVGYC0dEGcHmOUAeeOc5rm4aNI4cawdgBYayvCnTU7HXwFVikXdJagi3dnxVRcBIoYC5EVZEK+L9axa5FoIFXFzjQ9BusPIUyDH1XZLw1uMIVUz//NExA4SeWq4AMPMlXAApTor4hqtNNZo0FigG4Sowh6DTLqLmbi6ZKbhtUKl64xbFv892/xrZ1FebA4DFbn+NtWptRtykGPIT/zGCyOwkpB9Ox+bgNNangZdJKBijiNA//NExBcScXK4AMPMlLDDRZflEkFy6Ow6jQGGcpP2KeA+jUtXefr0+X6hmxrq8mPOSaPOTit7Pzexf5XYv2j2qc8BwlM3QeDUXJPNzZ1J0Z2myALowkJQ1PrhRpctp3qY//NExCASoWq0AMPMlNskhCiRGSXoyj9UsSaLJCn1XH1uzv77549Y8NNttq3je/9cuYQ9IuVR+IXFngMK/oCGoQsharKGGQ0W0T6chFJpGEdRvnjBMVOEtRAupsHwIqKT//NExCgRsVaoAMPGlQYLa6zF34W7fH/9SpaxtDJrgzh7MBVk/CpRB0lExcVzAuDB4kXlN0HnhHSkwMEMfEC6owAkQKN5kyYJOU0vl5BUjEFGX4FUP5OxV0dUaDFWeTGX//NExDQR2QKAANvGcHljHJVlgwQUbGFYsSiJwudLAz1qMLAhlzOTQgSeGQw4NEDGVpBOYsas6FAlkgfUqqPKMYhyBepAARDiVr2I+kcvr6cxqP01pobYyggJaBgWiv5X//NExD8RaP5kANvEcP///u///10soYAQZxorDw0NotwOPBhoqiQMLQFANbVChWxS6QLC2FpQYw5tqeTf2z0JDmpfjCqFoO3BQa4Jf6ON0v+ruvq0IZ8hbIbnv172+lUy//NExEwSkG5YAVwAAPrE2M1wbMzQ6aFC+ZfQ5hYBJhmWAmj3LQUA3Nh+AJpS99HZiepgDDAc4JG1S0XwAwC+F8us+rUqJeMGM4JOG/2aqrlBNabq129b6yGSA8CXN3L///NExFQh0yZcAZxoALN9dW9JA4aZgaGGvX1aNHUvQXQQQQRJMc5uS5wlDdFa9+rW+v/V+tNyYUDMkymSg9DQwZVmYObLUG6WILFb4VwOLhkcPU0pbUadR3GlRHmjGhwB//NExB8XqNagAZl4AMCNjQofyftK4T3+Id85jQcxoW91g2QGHkWFg0dFWNXO3KWLEn9XUBNSLnDx9DwKKgo6AgZeay7b/S3smxIlCVpnQhBGtmFGAkCnLKPOWDx4Q5bk//NExBMV0NKQAdpIAFCbhw08NeDE84HYGUAIOFA4YDafFYAiRseTX+bK63INS6uW77dow9MhXrSuAxcXAxpjNsXNf/6QwPhBDopG0Flae/qm6p5yTD6SiymWbKSJH7Rs//NExA4VyU6UANPElGcNG3dapOZTFHEvatFdYEyHKfZpFuIg8CeEILg13tr1zXUeWS2s/IQQMLM4dnp/Wv7RI4sMOUKAnvZ+r6/nL01dBJq7QQs1J/VVrTYx8aJUReSi//NExAkUIIawAMNMSJkRTCGRIqNbUJwj7bsFM44FUplAcN1MKiqgl/yqh4JrJlw8QD5x0MNOF4gDGs+X8MFHCCcISgYcULg+HlOg+CAYrseJz7Vh9WPBaASJJEkSMS////NExAsVAxq4ADhMvf+Ff////////5/+fPmff15TufLF+tvdpUIZFzeeJ72VNaZmpQ5d2hy0/zECoz/Sbns7mNBDHuz04VcY9wZvxvhN1lnhZhBtPdd7tBPf///x//////NExAoUQxq8ABBMvf///////v87f7b/6/rN3/XzNuyisKJkcuur7BOaeuepOOWMTnTC8Dw9lnV2P+7cUZzZ0KSPcmfUtJhE3T16iogeULHmGE8l66ey/l/wJ/L8v/////NExAwQKxLIAAhGuf/////////9UszhmzZ8SnVv2V19NCdD+pSN19BRF+1bhy6GUQddlNlNySCaSqRClDowMBtC+g9gHHdfaESywUwPvLKbeTwcnUR9wmPiqPCVQUEr//NExB4SgIa4AGMMSG6lP5Ek7QKKernhgdsJB0TG98SwEoGnlt1r4NZISltkGgaGGsOFQEOBoqdo5apSDhkUDJ/EzsC4gmMBNM2mlV2GqdFZigyj6dCRsTNDAfGlbMqL//NExCcRMU6wAMvQlXxG+Y9fe3+N8L6Qz2uW2xGrB58D9RemUI1ktBObFtZ0JgYKLEQEQ4KgYWnoaIGNG6LZeItkwK4GFTIYwCCjyT4Q2HGIpjNjYmBnr5q86ezLm0bD//NExDUSmWKoANSKlLiYpiTyB9s1RV6gYsBWRRXd/////TVm7ujAM0chKdVYAljLiGnqrG1kGhDC3BzEFN4lQBEkEKEeHkHCP0SUIy80iTJ17FKssxnVq9St6cKJtwzl//NExD0RiUKIANPEcdWgRkOA0JRWWSoEB5QLmAGp2nmGDTkmDAaj7QSUNNEVxJJQ5XFybWER1LVeq1hgukKne+29xpi10/r11pcMgJPDbRUs8Fg6Eg8w2j///+n/oiIJ//NExEkRsPpYANvEcJhwNI9Gk6YLD64tJm1SIwZE0Asi0Gp5GsRX/LQ3kiOzEZ3OeuzdUtjBSBgVEjnjlAdQcKrWlXZbkP+ggMSm7p//2/SmM1HwCLpkmQQo0WuXDlep//NExFURcPpIAOGEcFMK/44B2xbKoYYSKEBWIqT5MRZFw9puNh3zU9iZ2FBUH12bBsXKoRVC4UNCq1AMa7ZdQNVXR9f3emoAPIBAYLwAAIFxyGk86nSS2nTXospJHBsC//NExGISEU5IANjGlKETqGtSFZVKwoBRpiSEQGVfUFCKoHUknQitBjdqSxC7O8X0vRKovHoo0r1Vg72ovud0op/8Dq4W+oL/yywlApnzo5ymACOCOCH8FsEwKBfQGBJo//NExGwRGHpAAVQQAPP5Lm5KIGgXgRscAcwJ3+S6fhzx+LCaQyQ/9Dc4Spigs2HZ/6dBk9h9JAhnDQ4cY3//0EGZaaGgYj3GEL54fBgS0ZY5DUav//Q7vdPUz5BNyXL5//NExHog2yqIAZhoACBJFE2dS0B3kgp9W1Q5HQSA5FJSUyDqZb2KDSg2KkAFAoABwFOpkKQ7MWjNYXAxeEzbQ3VDUBoDrDUD0AowhRYYovCTvFQqiCKBjYGKBYvkSG1Z//NExEkeeWacAdp4ALxUQsYRBYMYVlI0isvAYJt5tqRgdRmBQPIb+FNjEQ29///5UXHMoDaiQoFGwY//+tXXIfOqHrZoBR4lHlMzcjkLkhRCql1tKcPdMt3LtSKsoArF//NExCIZ6WakANYYlEzS2lzksETl1Q8rwDWdaPQHLbDSKvIm/2PJJDJ2JS6AfzVYAhDWnZtac3bqqyx1IntXpD5CRnsR42thaDb///6RZqPXFEK7QJKnM8/r0CJyTzoo//NExA0VmWKoAMvSlDkRcmjRzDvbsOArm8Jemqxwmo6vBDuY+wA2A0vUkB+csNU+mp7juvlvcemi2BvVREZ42RP93kGvTOeX66HID1pot1fFf///Of01kNOICR0pqcBY//NExAkUGVqUANPQlSRZUHBUFjfsg402IkCtWkRdBcjWIChJ+n+cA9gRkF0AnLAnompJZsWgwq/4tutcf5SJoo6wlBaaSorX7Nev3/ygtZJpqiy0qmDLCmR4GbXFqyEc//NExAsSiIp0ANPeTGQBjgMKDzvF4ZwCcSdhLsijBMRgVBVhok+HEW1iYkKa3HXmFQ9DoNcGntEQF/3kRCYHmIyKf////Lqxqjn7tVVRJo5gon/iDq0jAcIrAqmVCn/o//NExBMVKIqEAM4eTApuM/DEGNLRYGmWOCRQAzAzzqUa5VSrkzuWerYWQGAufOAQa5BH2e4uty8WSAjH//1O/Uh5AWWgRNvGlF1FhiScYrLxChk1OSHFgjOkRswhiW1P//NExBESYUKUANYEcIbHShTX3lhgZeWqjahAz4mbBrswu1HoA/tPe+bV7s8mo+DsHSZX9eftoxw4sVPAV////1Evxx04muUKCA4A3RoWWDX1DF1hEfGwD6cE+pHp0CKM//NExBoSEVaYAN0KlDIpbAoMA0Q8Q03EBCex5qKrb1vv9asYaQVKUIGdG22/KWUerBhYgxn///r/TJKqsS1fwHZ1xt2CIEWSlxghwIQmH6FGq8T4EEocERcCCAFlZbMR//NExCQSWVqUAN0KlG8tTAkblvVr7b9HPo0QDtRNvvpo9QoehAUggNUPu///12/jC6E1i0ECGGchQiuFihwWwGJAECbUAhyYkoS8M2SwNhg84toHkwX2HsgpEUUCaPIm//NExC0Q8VaQANTElE//+ttPQyOV//+pWMYCMYMf/////kplSkAIaatdnVPZhA4ZyjGVjpgAWZcdolAI9pVgkcuLuTRAgCgmTdUFhmM9zxrBAKVi+j+vt/9vb/5pYVzY//NExDwPgUpkAVsQAS8UMlpR4HMILTgjYDmh6AsZmFBiCDhqAVrGPBFZmUWpgSHhweQUbRbPtA7pC3QCiHe5u6ULQBGg54xE+/RiFyTGmRQ9S1oKWpS2NE6aCCzic4pV//NExFEgyypMAZuYAHT5crYzcr/e+qrZ5MMam6B9BmZ1Ua9T2fdev+6b0NXTutuzI+6vepd+gy3N6CCzcvqPKgyJLCONtaC4ybdH9SRh3hVeOwTcHuE8gI7JEiwnoZ4T//NExCAZAdKYAYyQAIMiBXBYyiYBcwGdh4hPhcc2sTZPutR8ihsZoN9L3MjroLQ/V6GtBA8qvZ/3rb7GBoxk5+9PnhEaYpf6+hEa/MpWEjAVNqkZJvrVtSRpP/+WlFOU//NExA8VyNqcAcl4ABYNDyYWy+nIdACMQ1CXw3iaoUxvT0UL9zS2W5SxoEfUoCCYCNES5FgAHCxQmkpZ0BCoCihgUdWpRpcks8ZcRdNUCu/+729KRtWUsKNaIt6t5IhZ//NExAoTMUqgAMpQlG1pakhLdp91KeogQIEcrXmxIoporQmg02aFQiKOOkgIkMCc28IsiEDSgWB5Qvtc38cxD/UXzM3dloEP6n//////9qWeiYbOuoYCIsqchkLvCpIR//NExBAWOU6gAMsYlAMueG9MQsqrLizCdqTxlk5cXCSlMx1JgrMgdBs8IhWXpExeJAxCsCYKBwLR3JCdtrq/M9Wd79pNqVu2xi1U42JjH///agb+9la6jOTNWHEcEmkh//NExAoR4UKoAVhgAcDdZYZAzLoRa3lqrjnLccM8su0uNxVtPwXXLhpBqRB2EYQTkruCS8UieyWVyVytrf0zM7XLfvTss5kfCppaHPx+AeIEqwgpa5RNXVe9yXduRWdc//NExBUV4l6IAZk4AKvbW1PzRUbmmgHlBwbiUCgkkRORYaDxgPyYBBh6En7He44QQwxkO9E+NzmG43PIf//3JnnmK5n///+QZycoGP//4fpQzMcgWUTXQF55MkdQDNfn//NExBAWAbaoAZgwALu9vmqOJY3+Yc8ve/I++D+8NBPfqR1NI/P/Hu78O+pHVv/7xl40mxzb//MZHc/m97RC8ao3D4SImDRM24MFTTNX7OVeAAyz6qsVKNWWBoCQwgul//NExAsRiVakAdlIAPVfO44/OfljvLXfz3n+fhGEYZX9RgylAsQKgWCQjbjOM5MYxFTK1NgqtE/0fU9TUKwPLEeLvJ3f//6U1ejBAdSQBAsNjRmhsMLA9Cshtohralqh//NExBcRkU6gAMoSlNs7P9zcs8fxpmMJhYWBSCoPA1haC3m7WLh9TPKnrd3eXSkURDBMU6YJhlzv//9SlbpYgJlU3g86LlIcjDzn5e2kb3np0nvfcrzs3K87vH+owTxu//NExCMSeVaYAMpWlMTKABPASuHTRLprjViNP3Urm9L05s1tSyqCp6tKud///+7+3//q1JaSwFArpC5aqZF0Ohk3TXFQSQJ9uhI99eMxnlDMZ7fzvs9RUdJB4QaQXszp//NExCwRsUaYAMmWcEOPeeZDIr3TUtlvE70bR0Wi4X///9Sv///1KtEKkMqLj4yywsA1k4Cl1lm4HA8ipJTvR9m93MnHMra/vytpxJEy2HyYQDLiMhNoVHE6vQsBrNjh//NExDgQeO6cAMsScEdaHiqXo///+hOdIRB926n5UtIJxgXOULIGkUwqHJG4ijUXdNeCWqObPwJE16jUAUASgNi5oXXGig4uA6qDbZQRvf/nn4Z9/9fLXbQ7///6f/////NExEkSiUKcAMJScPUq06ZXGlMaQ9EgKa2BJYwAAii8jb2ibgIGRASpuzj27S4eqdbbkIEiJGaVBkiF6WbIXpiVIXXINIeV6Q1+5rGIBJJkqn////////1VxJS4Y6S+//NExFESmOqgAMvScAWjY8AjL9CJo9wU9AoUOVTjmlnvE5sqXPPpgQIzayommOjq9KPTopivaDDnaEtI6d5t0KrAPToYL1DvfbyQjDwYLCG4MEm0ItExqmaA1BdiSYlW//NExFkSQPKUANYMcGL4UcmiBqIwO4yBbhayRBGwJoGoCMgJAux9oM7o6uiwRueSmxneQyJClJ23Ekmzw7P+dRhYEZqo3A3jYoBeXZkYdIpqaoQwEepwaDiUEQHQtPXg//NExGMRwPaYAMvGceeQkBzzOoZCzNrMtjUji1HUySer3XLnDzuVzkjQ8jpuxtaWJQTkhCte+hW3HDdGlooqPF3CQtpwMZZIlqcArHkjhYCZC/QXXAJcAcAIAAHrFiFz//NExG8RkUKYAM4GcBAx9kTRYzW1VS9a/79nZrM72ohXOW2qikIKvCHGX13B6wBiqMYBM4aTQ8LLsZNRNEoLkDXzyApSEVJHIDASImQ0lULN56GpfKanNd+Vnv/7XTdb//NExHsRwVacAMzElVJTlOQy7IrjmDoVEI17UK////7FKrrpGKZDwaIGELzq0xZtHipAHh18DAIHE9CA5JBEgLpFyAZWCYIihlsPUsnqW205o7Uy7U21o0jxLq0FiHgV//NExIcSCUacAM4EcEYs5gmW5////9qVVaj+niwlCXXPkBtktRIZLc30HoQ4EQ7MAYIIFFzGEaoIBHh65V1rpm4Pi9ud3nzn/+95f+tfv9dkrFC26fOs1FMikcjMgoRQ//NExJESSVaYANTElKEoNjCzQDMC3///94cWYMFgB8larDIEyhOWAZpwSJ5mg5jAIKSGlGMODgTlkTzQ8EIBwyeiKrRFywY68Sij+yj62fe/zPfcr//z++K8sbNXXLRa//NExJoVOWKQAM4GlFk0aRsNGWCQQoZRCiIG7MFkDP///6jAIoKGkJoBBJhlAHTQhGzwVoysXMDBgwyMUETAwUwMoNBBBkEMDCo0qwCgIWDQcQA+sngY1x/JeRGwmOFG//NExJgYIYKEANYGlP9V9bZxeuYO85rFpWvx4mq+/34Nc16PYmPcBlDqiJWLRRVilUqlp2//////6rVqmdxqwlFG4pULlwJ+DowUwZKBg2VhgjBTFAVkCDxAJgYRMCBV//NExIobWm5sANvKuGluQmx5MQ8g1IMVEI+Zyc38eKzQ//uudSWpj5/zkSqOpr3/+eUXse2F3EmRhSPDkIWn7/+z/qtuaaO6v/qVBJkbzTHNsAKOkASCFWhHotM6igSx//NExG8WUVpgANvGlIPg5A6oMrsl4RmxBJrBlHZc9rLpbUv+rqpQ+l0v/jKXGbUBPE0KfC6CgpuLv/+gqn8EQ4aR6ZbVlVFT0OKAnGS8GC9kTGdSdqgffesgsoVQgOGw//NExGgRGSZIANsGcQgdTCagA8UOj2JDzDNiVUtxRFwHXqu/29G9au5/9KOuihSzWVqGs6rhubmIBATV6FVBIkpmZwFCQiuSBAQBCwAMRkr6Xi/FGRQMHNSHamGdu3/6//NExHYQ4Jn0AMJMTM28Li6MPv8L/m7KKgqgEY121uQ6zpga8PmEBA2pkwo+MQocwwaEhMGbnb2u/JEDqSIISGRDETHrRx5QAHvABDtKKE6KPi1Uftd212tp36QL+xAd//NExIUPUJ30AHjGTMsAKPUUIW0QohIIBC2lELi9suqC6jSNX7kCUjcamQ0YbNGIs6uztDM6hn///rQ/ia4KCeS2u16GZwKTw2KroX+ez93s/2JfmJ/2Y32dX9lD+7M6//NExJoW0Q3wAHjGcd27r/s78pXe1SfCbGUdgigEotMkkjQmCQFOgqIsNHtn/qKjHCISlnh0SiIeHQ0IgKEw0DRUBBIOiUBDg6JREs8GiP/7Nx6oc+WWBEJg5Goax4HM//NExJERqDH0AMJMAXAlp0jbF6NCEERkYBgIy//////ssslln5KytZZbKjkasysFBAwQcJKhyUJBiVQYXt/1U2/////6aaaP/6aqqqokodYcByljhIY2qsHTMCBaZiB4//NExJ0QOD3kAHsMBIDjhFAzCEACcQCcgQD5APkQwHwwfPhELBEeOGqMwIlQAaUJ0UNSyx8I1gev9H/9//6KBHQvRpZb0OG5S72sqyL3hiJN3475RqHh6vXJhxJ6Oxyd//NExK8SMZEQAGBGldFnn60/V4qd7LF9+3sP8ExYUWdDKNwDorIUMlYHBnCMNKODBphMY6LYLMIqC9B1YosexxgiCULBkmjQ4EkLg06A9uf+VR94b2jaN8DvGcRhzgdc//NExLkRIHHMAHmGSInRyaozMTwrBThkkCSUCuIsZYz12Ydhl2mHV4deoCpNiffcTH3GY4iT6r2apktUpVqufZohnK27bO332TlmfhZ6vVZrXBhWUSutqtFUuqrNqXqr//NExMcd4cHcAMMGlTHf6rGeZ/WY7TO2Mxu5juCaQzNx0BBsmZ3RAgJiQUOgJBCApWEoCQYQEZjxggIQIQMDkUYIEKQ1ITJgAgaw7CFnr0fliTdog5cghUBP7NZAgLxL//NExKIhgxXQAMsGuYDekA/qwfWSaMPRKJzciUTWey2hmpcNa2KcPUX1i+RpXjuawqTw6aUqxU05TzecU807FPOa5UnnKVW90LIKVo3UqrVVJ60golUbpVRNYMfmqkCF//NExG8dyw3YAMpGuTbSlWAjYMKQ1SSECkKtDuodmIP29kIdd5HrIkQwNqBBOJCE0jZ1GggZg2WVJmswzSqQLiJh0o80Qx9TY2+U2bvk+2AcoDAFkhvLN6a+HpwyFHds//NExEoZSRngANJMcYbvv4EzDTHcP1TXZ+TP590SM9T8PQdPeO/N7apOohI0JncGxyQPy/ogEQmFyIREXadjc0BQ2EhQYUYlCtNoCIuWCgiA4VeUIjmoc1dy9iffVT/X//NExDcSKI3cAMJGTKLbhR6upiXN9C2pezeKB0DNRSpKMAHMADFgdkOLu3Ai8WQ15bIF/5P+9MEA2CqMOiAVoWEIVFaNYTkB4yWbMyNlFWCAkJZJFE4OxE3BLoGclTEt//NExEEgGm3YANJMuUkMZx7GMX51cGV2NT3Sd1zdxabFWfc6zFvrytq8U7+F+Ju/Gx5bZ+mfMmfka2TXUZTdTlPZ5ocGfW2/3xO3sQokgdBhjGWhTw0FlscoHk91IQKO//NExBMPCG3wAMsGKDwCJwoMTA8CAXJAuARpGbJBosPsljqmV56zYpL3fcjxf0VXbEf//p31VQYVdi+1usSt5SmaKCYhQsipuEyVWATEm3MJEhY0FAaJGg6oClZA8BVm//NExCkQOHXsAMJMSGeW4rIwksjcvkrlf23lv+/I93ludy1XJA/HgAi0ExHTCQ4EEBxYQAIDF13fwQIOACEg4XRAhkQQw8nbEBwIE8mQwscLoygDeJ6hhRwPoyAnkeT///NExDsSMLXcAGDMTCf+XKOBCTpBBYfIP9WiBik+HOLehwzAqIw0/KqjUaZhkQaw9kzQVCQ1JRMYO3iK22U3E0jusKd89SX3rn3JmG2yuZHqCYMU5Mo2AwpZpxDeGUhD//NExEUiMtXsAMMMuTr6ZZ4hEIBIwmllnuEI+1nnEDsuzV3toLQ3O7Qhd7uU/7RNZffI1s2azSE7h2RMH//VtFUg+RTRaUGRNlIPaJVnZYxWgn6QUW0I6GCBEDpNJROj//NExA8RCG38AHsGKKrVokBAThqqgICAh0SnSUS9QNWEKl4dJAqCx5YKnREDS/lg1g0DIa6f+JQVBV3EX/w7/EoK1UxBTUUzLjEwMFVVVVVVVVVVVVVVVVVVVVVVVVVV//NExB0AAANIAAAAAFVVVVVVVVVVVVVVVVVVVVVVVVVVVVVVVVVVVVVVVVVVVVVVVVVVVVVVVVVVVVVVVVVVVVVVVVVVVVVVVVVVVVVVVVVVVVVVVVVVVVVVVVVVVVVV//NExAAQ0xIAAGCEuSgVigO4kB2ViSRx/EhO0tjcvgudFRtGko36v+jIyE/////SQn/Pb///////ajf1//+QkhCEOc5znAwMWAAAAACAAQIVO3ezHQAUDwcNuuyyRxWX//NExA8Q0E4wAVsQAE1XsWsbmdi30Yhd6lDOK9RM+T6wIUUifqIbezU6RCHYkP8T1ATIdtKRykAiF1jc5WigoXpVKKHORfOX/MT+/R//2/v/f0Tt/b+a5hHN/6R+ToYQ//NExB4ZWyqgAYdQABITiuKgzFIX4jC4hGP/6DyjHj8fjQ9xYJiomDcL8F0VwuxIAGDcPv//IyckHjEw8ZzGPRsSQuAtgUxEATAvigGsC8GgEMQxiiX///////////+u//NExAsU2wrEAcEoAZpadGdqnqRVYxpEMyFIPMUzh8pQEHEEhJxw8Ti+QPkdhrR85UFBYwKcSldXGi7iwuRTM50DqRIynYYzCIkgg5jmKMKyEGEGX3Uj1O2c/5s3otv9//NExAoUeobAAAiMuXc09PYzN8hx0T/////+77/9rzHjHdtz9nYp2dkzoWzGnulRJyLPyL2i8xRK0Z+1OWkiNjR7ZlUdGvaisKJUOyly8mJRCtv/9PUGeAGyb3XCEPFc//NExAsTwP64AHjGcEERhPk4tK7nOFSIkLc/ccwgAgMATzc+17ESUcGB44ENTD6YgBoQhNxas6oOQ0HRYOnjtEGXCJ50KCVWWEqvtGP7LL+Rs1hhE1iIitEAmPEzoAZL//NExA8VyV6wAMvSlFYy1WfxXbVGqqLZbN9yi2UmdUaNyyVgHKzNQuitbS7qGJAHaTSlNyKgETZIz0iAlrkGptugpsIGeRkUOIJzbOlf//8SCgi+1VWdvvkJjZNKAia+//NExAoVIWqsANPYlExMysGKWlSWtmbfVln4Sv7R+j8dT667r0gzbIwQ2RjCUNTUy0aHXsNflUi0VlmqG60mMeYNJl+ZXuyPdatD7Engmr3o///reUf+lcK5AcHU3l9A//NExAgSYVqwAMvWlGHo2WCDadyY9e6rHLw2jyOvI4/LZ+wfvN9u1zONXakB02scd4Sih+8V+LT+rUqH+E/Z5q95qvapGgpOFTn//9FxdfqlhyG+mZi1pUsOauwmsrDz//NExBEQ0Va0AMLSlWO68R67Wyj8hdBvr8N0wdmRiEx9SIQfpgvkRWZ0ui5GpLw85SpA1UM9SliLVyFxAhQClebJRChvJF+PbWiNpQraUeXCDUYOo1zfK2WbVGGcyRNj//NExCARaV64AMtSlKG2NqIlgcR86tZGZwjl6DOICXKZ8E4zf//0pQYatbIKaIH///9S5okUPq2O1dXBpQm7FwU4vrOsMEXrj+u8w43b65tX0r1IzSHLttE/NJPHATUN//NExC0SUWKwAMPSlaEqflZOSnSLaYjaSJI9KrlXim12yiFU+hOrdITq7gVHiaKuKPtvMgm9C6WEozfbkq2Oq83rNvLeTDybxOo/MAaeQYBzAoH3FAa5X/Gog6Zsuzoz//NExDYSaWqoAMrSlJaPOi3N/h8JcmlPmPBDgtd//+9F3gQsKDU8OPNK0ANLjGyWwF6Zc1S70ehoJ3lChgKeeYFJh0QgoV8OEtRJQufoicQFC+tx+6XNT7J+JMpU7iAI//NExD8QoMawAMCEcJ/8QJVIqB0pE9hGY47////7XL/75bCX/sWmhm3kgRXzAARBzj49A2IQ2jiAQQkIXkru6DhCiDGLIq8DuDFuLOmvTADABBxdziYx9rU94g0AK3Ia//NExE8U+uq4ADhGuQjwdJJO7l//+3+ft/2fW8XbQuD8MuXfW7y95ZUm1OG7t4XBR7IXRNzSGP28lDLvVlPz5KaF7Jj/1n7T8mSLtOFVB6SNBN86kxUv//////////H///NExE4Q2r7EAAgMuN8vvmRZQW9Ei3HBsZsJaVGEl0iCKp0GXQcJCGwRQGSOJODTECNWT8GaoIpCQyx8eMRl9SCJJXkDyhuz+4o///////0U//v/cZn/7d72DuxWahCR//NExF0Rqo7MAAhGueuzatnNfv2vWYHvarTf1LqCf+GnZdkYw7rM1aR+IYdBfHGKW+npFW1QTfHk16o7uV3E1ClL4mPKL////6//opUvl6fn5w6TtOa953rO+t5MLJn2//NExGkTYr7MAAhMuWlVDd+ZUPGevHldtivWREg0tbGVcvhs5crUStuchrfTCzc89bkE6ZWzunBvMeuYGlVE+KFX+//Lf/nPyKI7Hrs7xG//593du6sqw7JGvVT2d/nn//NExG4UOrLMAAiMuSv69/TmKguaPOiJS2IdKYPdGS5jJTsi/l2OrPrLhgsQyVZnjS/1qflC5S1bqnnQQr///6f/+zSm82bVtiuAsoE3/nmnDc4QoCQPieqjU9gJ4x2N//NExHASWnLQAABMuUtjOTI/MrSlRvXQUR5MUPEoDU8K5f/CugrD7O3kd+Q2XtX8boUwRVuSovYqyQ242PhBn/53b//vN3QFEU0hxEXQvsxI0h4TLxOCwIBkUAp0l0qh//NExHkRylrIABCGudLHv2lqFGc1ISOpV/5WlccR3ffwC1FHE9GTPUTgjj0Ncv/5Prgt+DvoO9NvL64VaweBtLTQD4ERckxP+45NTfuflxMKSUkRsw2M15IdTJ3pp03///NExIQQgSa4AMCGcP/4aWYVmZ68Y/aApL3JVnCYkQ2jVuZyDBBFKDy1ZpvjZg+Lo2CZz1x6Ow9F8cm7l0kC4yX0OkZ8cmMTK1bXSsfbAdHy685tT1KpOjJ4UK2qVRds//NExJURkVasAMrSlMLTTrawBJRCHhySYqHPcXBbVB5T72zcshq1WjUu7+PPrZ7Udau4114DIpnh+B1iJKYPu+ta1lq+WouXTXedmszM7lrwWagUSiYVS8BYRlUsOqGW//NExKESiUacANGYcSoKeEyDf95Uv8zN0zMxHD1mpfQKnGUXjJJq4wjMpAS8J6GIfgtn5aXFnTdACUCSifhThVhLv5kPQ8aUIwBeHCZmJLFH/l83ZTMtNM+kPEd5nMyW//NExKkSQT5wAVtgAFf/pu6EuGllIKRNncrLiSZvNn//9k0EKGm+/Mmcml6mgamZfNEz9XRmhgGcUiTDHmcMEhVdXFb2h0We9bw7/0+v1v7b215/+XttjaRlicBxPBTH//NExLMhmyqAAZpoAOsSgexMpCRpekZQ8ouTt5rEHCt7aA3MTHXnZUbQVHiosr9WUOieAGmlUOXXTQnASlH+YYtAsLO2aSIfeURi4HX2PSsEBTlVfg7mnqd+Vgz2zfqh//NExH8XsU6cAdpIAB/pb/j/r/+BlPKinhFTwRP4/osZkTzR/EvdELcFTEhPnRii3RSElc8RQOZkiEwJVEwKGr//Wj72/urvo1JG6U6zKXo9+gpTa2/Zq9b0Tr9sTjFv//NExHMderqQANvauWMnYrsrXwc7aK8boI104kKSvgMaB0saOkkOHw3GzIjddep8H//Aaf4n6Zm3UH3BcQdovFW1DpS2pH+9Czq2Npb9ROKPIYP4vnDwporCukgLEBCX//NExFAdml6QANvauMlgdZimYL////69X98yatJbImmrX2VnlF0IYzU9AmS06gHysGJNVaWaSnNOwVM2EFRhMmHo/DYIH4/lczxdmjKHe8sFrGc1Db30RbEExsh91GoP//NExCwZmiKUANzamGIpB1iFaQZKIiQkmKlOPwlKjoXUpqTHEtieLRBweDUxGkhMxl//////r1LzFDO0WqP3E/1SlKnreqKKrTajw7LQRPhQTGvR5IMBgQp/nZ7I0tZO//NExBgT+VKcANxWlGcNMgbTpPa9Q+3iVCZJFgBv6HoDb5BJLKFoaVqxcGd7iP5JZyMKaI5lyTO7///TOrf+3/3FpK7Xs1m4mn3rNi4gIHGAv5EBCMlmQ1GMb5Q3EUnU//NExBsREUagANHacDGvULJmHcBjrIoJyHGgsTJFzhGmImr6ei9ZznqiXaYkCWd///5y9f961b9mBj6kSaf0VQN9F5qFg6/M/rvWUNF6jd5w3qL768rZzocooHBYAZ4j//NExCkR0UqkAMtQlKgtP2NvIBffCXDvkn3reKg3dg5EdAcd///7lf//+tWzXaQc/g8pTLLP2B/6ddJEZn8w+S/LdF8vZ1XesbXOlgrKNhYBTqSKmuOtTluSbzpJMx0h//NExDQR2VakAMtalOTGoj4hcZGZv///7kuKfqcv/7lqs0DRQrTVzacAFnYpQVCYp/2tRc1lvMMwKuZntWZj06haCRSIYBQLX4nrJfelgkRzrv0Xi3oCY9rG9MA6zig9//NExD8R+VqoANQYlLLECS7///9Lk/xjxyU80ytoT3TVHaJkz9SdzA1qLjznMswKNSC5gWOYByCtALeHoYGQckldV3DyeTxzAcJl0v73+yOCwYlhBcz///0CwZX+U4O3//NExEoRYVK0AMNMlMtwGDjrrxmHODyJpShXkl8InFhwaadoP4vU7K/mDB6yxWtCcQlMAkDFeyFzCgoIWYRRVMw+NyfeS/r+q8Vn+CsVnf///vFVxybCBmY4LAU9Etsu//NExFcSoU60AMsSlAsRlgYODh8Bmn8aZlpHJz+y7VUOzI7nYE+X9Boc5Ig7UJixI0a9IVlU6UrZMDdExMx6fnfb/bs0+TIFBFIhZa8t4J10QdQ0IOxOQ+B9GmSpDmMB//NExF8SoUq8AMPMlVz8JWtq470uonDChIOk2w9S+nMbSGLCy9aojL9RdeM0axTtNQMqyuYrNR1P9u7d9lCKPXVQNNZChrDcSXUNGaPwyYJfzRL4XkXIQgYsqHsCKRiu//NExGcSeVLAAHvMlUevsq0hAk3R587jT63Dt5vJvexzf6YqbJhkBiol7iFbj//3FPjTqyuqhWrdhwXXib7RcWEh/PdVNZLlMPtHsSdZ1yV1j/UKeM1DT9HEZQt7CpUr//NExHAR0WrEAHvMlVmnjR6y/GchTMcleg92JxsH1ncnvkbeN1XZzEnNvdWaYD0s3B5RzV+zynJw+LMpXgMGSAL52oGZcpShhKKCptmiWJXmRDXnLLdaDvdrVXqsdTwx//NExHsRiWrEAHvGlXLApHjg8YerDXzdd/iNlXjGm9FQEWpVwqAZtPGFXae7UsnoARy8bqy0C3P1RHamZXNtZYKue5cY2cu6ACx+lH1WcL3dvBtsvXf66mU0c2v+NgqR//NExIcSkWq4AHvMlaqRYCnWgkp/////0q8yA5Q8xpZ9dc1mHmsxgRgysVIhWRoXM1btnC/HIvuOzl1QagsHdZsQo26shrIfZTMgqCB1NL172IZof//6Raktc1GVNVBG//NExI8R+RK0AMPYcOl3BSE6K8ffbIsSEqfWEBlW41fvN8fl0/abKySw6QtfH2HUVksZurLZX5mh0T3oWfFS55DHNaWRf//pl0T8WHFLP/+6hb0KwtFyCtM6Ojp+rynt//NExJoQuQKsAMJMcIQsXQmuNAxQjzpQuO2gyp+5/G+j8izCYGx8HQm3Zhy1yRMRhDxq0EEuVPrWF4jFz5o694z//9f///+mzoCSJOK6qqrXERktvLIiOkPwd9C7MI+T//NExKoSmQqoAMpMcAKZx+YIsQrzX7MbUiP0EXx5FC0KhjwBjh9FhGgo+x09xGlr/d1e9OUU7rtxVfEFVId//+8gr13UwO+ZpKhApvpIZhP68QwuEXJH8nF5FT2rWGy2//NExLIRsRawAMJScF/rLl7vtwP2BVQj8L01C3jpbwFlmSee0U/Ymsvk2v2mGsw9TZnux2uLWKrmImsRbe2VaigFcWPKXiA0/fAXVR1J7vJ+31xB1JXy79d+J/G3RVTo//NExL4TqWawAMsSlIZoZ3OcINQAYBwKPnQaQhsUoA+hp0blKLUlJbd5OKiFC2i1TxfEb///0KWmuhaMmJWDFmXgLsGiFHRgQSCsxr6JtjK0mu1tfYItldR/LH1kREuA//NExMIS8WKwAMPYlRUAYSo8TVXpUlzcnYsVuZrZ1/r23b2rv23bOJXsKWLUaAmf//8idh3jKwYWfvhlTDIMkoWgJYkic81WpLt/llvmWX7pbsuz8zME7aWegOjKKAQg//NExMkTYWKwAMPSlEgPNrVp7Jie8KRDnVKPRE8KPKulXaJ7///7iSfoQYddNMeqXSTEbgwUeG0tRVFv8IedsWjBDYmhDhcAlEOSGP1xHg6zIZsG841iDgQtRgbKFnid//NExM4TeVakAMpelMgpNEQDFQlEiozJuiy+QQmz6luPRdIkkTH+6CZ10yokktIzKf/5omgbrew5ghcgBQMJ80//3/6lMlYwbQV//+1M0qOGmh1LPInTq2LhNmxYM2qO//NExNMSgOp8AVhgAMFmjuCVAoOZrZyjllImMFALgAqiw8NFwE1InMO/DSmDTK9SWR1lZqspkIYuwh4m47BYBSjPGmhaoFsUzGydTKxZbmRQJkcZkQSdoXaBSSJ5d7km//NExNwh4yqAAZiIAKYp8a8CJpjc6v4997pEpUhoMhICsPU/v4YBwn/qZ8NPO1zyaqLopHImspCxsOX4DpYmmNyfo/4tcYqKEyQ43dWOgUqUhcXyqSKq2l6JhmKKjko+//NExKceAWqQAdl4AIGel8gcinRq3P+/UiYhZhmVz0uMNBqsH0TgGCKLQjIBOUq679oUb5xFF1rMStjIiEdERQhmytJrlH5j//7zRa3osVXGmHMxNywVWQwamhYujGCQ//NExIIcWXKcANYYlPNzR/4eP1GB3ADgqtoOX3oRF02w5OK04y+zeVBZqkpWcT2CjUixeKDuYQf6S+eamzuQuzaDVk2I1NuBq6Qr0P35P09rRRx6n+4bUrPRJRNwtqd///NExGMbCXacAM5elP9dxZ7LieSuD6rDSbpOjBbKkMGjunffQDRpJKACY5Jq3+MUv6Vkx0qrI+q2NnsO05mcFa+Sd+pRf9/0J0NxKoG2UBJeF8VtNL7VLROXjosqSoN7//NExEkSeWq0AMYOlNPf0pNXCZTx5KVXZvUlFfZgHCyPA3tvym3g/4sAmTkiw1UZ+SNxoze7du9tevwTRG3WutDgTGM5iXDhjy4pRXKjIpIQopn1JWDVhivmq3jfVUQW//NExFIRMW68AMPGlUSxdwjx5K8WNVnO2OaLNJPMpKjvMslrQZ5hIc4LUTMWJmtM/4xzI/KGUfDQYsSgGYY/9TohmDmwnoiDFeVxw8hsJQUrd6abWHb3JZtEeImRlkJY//NExGASEW68AHvGlUv6QRSEHEh51OZMz+GsSo0T6bcanvJmbOf94dpZVu0soR1ZQEVFV2qKgsI5B1DiVW6q1JRklOztC143ClbJI8yAvi6KexJhhngpEDdIIlPpwyzz//NExGoSCW64AMPElSbEKDBNHbC2wI2rYvXW95/0rM6kSpDJTk1SCiAf9uogfo2Kwoq02VWfUwAfK1DefUQMAViJd1hyFRhDhWhqRMUNQ0vqngkDJaFGGCGCaUUKkE6m//NExHQSCWKwAMPGlZmqxCgIVV1ClrzmqqpQyypKX7YUSVbWGmyo0ZJKCwGCWw4VDMTAD53IWDjHXIICgCWDVEMA85EZVRPeKetieoUZoEsoh9Lk6VM+Zgous6GmsQwY//NExH4R2RqUAMvGcAwNBUFA8F5j6pU7d///9v5J//+iL9GDwCdbLBgUng8qgoEiptBQ9BIQL2ITgSAVsD8dAQJJnqoSfGu3SxX0JXOMl/6eql/temymchhQ/3O7vT////NExIkScHpsANveSE/rml7q//R6KjCAGMKDc5QXDA4WNPp4yQHDEwxMKAaPAgCuMqknGvlxZdKr0ih7OWgIKHzwao/dWQqkNmixvvfi/+111l39nopZ//1VC7AOpIMA//NExJISAPZcAOPEcBugGA/mVWtMRIfURglxNW39gxe8DDceEgDwC4B4UQLoDYsM5gjiaw8KjqCxfiEMEcWxbAbEMDcWFf8nUwfkZMOFUIRbOf9iZXLTCY4gLpf/tYyx//NExJ0Q2FpYAVwQAPnER/0//Qw92IzjKMi5BQw40fsd//48MJ31uYex77HWsxhAxjk5ypq0ZemnejYEcIqKKQ72ykuC8+cOYNlklCudbmKExflLPznVj0G+3OYyTmJG//NExKwf2yqIAZlQAJidWZtnCgnGPrWpproYLM6NH/3mUo2zoV1NIDLXpSgKhtFoHAR+0et0lHzeQwPbFBh/TLFAstNDQQWQmCS+hxk0AoSXfWBEkx4LiMYW9lqEaREe//NExH8VAM6YAdowAEV3ulf09J969refd/Zwyq1K1akm4xbncO6/e///5+TkWRTiZhomBGGjxcXZ9bunXP76bv99q73aS6qrWrutm1OJjIWw9GWdnP3Cw/NnNwFNbtWO//NExH4fCm6IANYKubZDAVhNu/Zol7Fm4moysFh1Q6/hR/fcq6mPuy7bOkRYT+O8D8hJK3K96WvAxJLLExWBjxdt3tVk3jV//revarz53txPc0HPEahjOmg567aWziED//NExFQgswKUANPMucnsS1+IiOfeP/vhCGQiPu772s73+m71AjLvdiPj/X8RGOntp1ET+1v87M2MyBNdywAFwXR/EmjoolUSOrdZ+a1/VjIoks6PT7f//////lv/lPKz//NExCQakx6wAHiSvLSTcZsKI8IS0X5U3/Y6na6s1E2r2oSjWLtY3UsJ0CDwFaU9XOLvcxU1NpWsf0H2GePbXUi3NulPCEmLmjeuSTNkAoDCCL7VIjZh3///yL////////NExAwToxq8AAhMvP/////v2//b/c+w1a8/X9vdtTR/N+Wy6gyJZu/tnUm8wiTdtlC7wtjMwnU5AYHgOYiqVys8gM0mLNIEEbPawQnJzoUeKXQP//8AP9f///////////NExBASUxrEAAhGvPpcynLHxbqkK8RCcrM1KCwoI1XBDAyIIahlNMGAgR1oO6wShwrmtCkxOMOyDoZA0Mh3UThRNzECYlXsWD2B+O9lj52uWfZlR2K6neh5w9G3uV+V//NExBkSWhq8AGCEmV21b//lSn/2V/7/MUxnlM5XbqUuVjTeWVpRJwKSG2vLkd/RQ36Pf+PpYT+POi/8VCrWLcjwlAdKk91KonaBMx7SEnqazDQkBFQT9P5lhCeDwbkW//NExCISWUKwAMPGcGs0PtshxC5WtP6fZkmZJlKkADwVSuu7o4GwkEwLvehv//8WFjLvsXW1uSGzVCKReJRRUegSVKy5yhSxPlwQYJaXAB5KRMA+ATsdoFBLaBjq1F7X//NExCsQ8U6wAMtKlNny6cbQYPzs4kGslqjFUIjHQPHS07///6V4YVLztPwgypcDBYQhZuYcsbF8ClRKxDXiHKoJKhagA1gGIgxYh8qBHH8LceWGKM8uUpWloY2blQ1D//NExDoSUUaYANPKcRjPESpKhjFYpWKAoFTE2ZVBZDmFCw81UAysBgEmFAUPKamGCpnCePEp8k1jMrMXYuJ0xF80YqHK6HuJi0J9btq37e3QRAUowtLPinSuqrAxSjEI//NExEMQGQJkANvKcYTBwFLynKmqShFYBQZ/S/wXAQJADfjEqs0GIypI5Y13qO/1NZt6undqM78M4USWExFrS6h6jr3tPbme//9N+/0atDUJb7XpMgDjOQIQjhytcCi5//NExFUSQP5IAOGEcD1f6gqy3Kthz0xVTECzHLYQII3fnnFOfkxX3KJQgcy+uiEDc6RVlFucBuKOh4H2PXZlMg3X69n//7X0r9U49QKAjABTQUxJS1N9/pMKW9vWsK2e//NExF8SOU5IANjGlFljjvlyNS5VUqR/1SY9fPZgzGUjMOFE0qcOsWFBEbEpkXO1ICYNEud79y+O1U5urs7bN0UVKxaKIOIa0pFf96BA1Bjz/yu2GHZNyDl4nBjQsSDj//NExGkSkPpAAVoYAHyKFo3NQXMOlJMTb8vubmBoJsGTC6sUsLD+TibrdAWscwnx5EgGJ/QW7s6YucoEEFHGPLwuD/2V+UxZYsBmXDhoaE3//b/xqDQIOTbl8uF8h4fG//NExHEiAyZ8AZiQADJkQ///b/+XBzzEuGY8EDIuRUiZcLBUpWjFQEpGGlX2BJKKSxWIGZYHmGWODQwM2yi78dhbws3a4+8TeeHCfnkYgt4cYMcKgTAJAX5UwGNdKBQM//NExDwdwWakAdl4ADZ/DkiahsDhJSLe6kVFJZ9+SJar/XxTHkgYfudav/nMOwq2Ig71htZ1wlBoGnv6QaC6EcccX/6fkX2I5t0AXrJqckVfuVDgCGbYhUISwXttrhQ6//NExBgXYWKsAM4MlLvQjjGZQ0xp1uiWbSswEgMGqAgjZ5DJX+ps4Iq4RCM5ZygccALwEFBQWDAoSkjls1nGyypdnRMI5Q8iaTiibCH///uf+MWpVYEcEa50EGEENtAY//NExA0VQWKoANYWlAEjrSscKDyeeqCNS/uJKY/cSipoYFBRVpaPSoes+XzIcaXuW355qV8+bs5g2sfuwfIViYlb16p3zvt9Mt1B03RIX2rr///9yb1IKtmTUpeFDgNN//NExAsS0WKcAMvGlAAAXQ5d9IiYYxeqVrp6wHc5dHoSoyeFeQW4EiAYoHB/HVHrbfr/a3+dSNdXIGjgKz11L//qkcHPpMGH///+r/qVUyU2M5/NgtIgJn4BIJTqNcrM//NExBIRKN50ANPEcDgFgGkgaKMaUNbTmnN3Q3jTIKqEOfJBVRq1wZ2//6lYGCwVDQaPf5Ysp+//////7kVfWlhGEGMEdhSAsREIUmqyboJsKBFhknp5szSvWEXPAANq//NExCAaiqJ8AMxEuQnMVEWsDpDoBZ4goI7HWX0C+XC/7pqLjL6DKa2ySC3Rf/6vrXq/Z6IJFEK5F+3/////0bT6Ene5FMDdTKgUVEihPn+AcJXELLsZ1YlNjJY5S2Ly//NExAgRmU6YANTElAMvPTWT6AqQ4BtCqnZnIyUNwMxDhHgYdgsYnxzR6cxLK1F9KvqWuvT1vo0GO5Rf/btq9RboInP///tu+RGCqqthYc6sMRKbuYY9gYnWkIwgDtSB//NExBQSeVqUANzElNDqlFKXA4sA/IzwTSAt4O0UAxIRKcG0fUVNPpPQ1r0M5ZBsHnbXTXVDQZncfCPf///psV+NHZRGkBJziAjSpUZQuCSG1YQi4mFOjaR3uFECqkFA//NExB0SaVqUAN0KlIQ4LJQZCLRNCcjRRmQtRP6++nrfR2ejYGwjo+v7YVjQOc4ddX///qDrn+ZVSviYiSGltwh0zjsIio2LQAcavTLhUZDgM1Q40MRhZsBiqiuLhPKK//NExCYRMVqUANTElGXkEUv9kvqd0fNQGUit++n0M4IGhyATiL////9hZ6It1GjF5Q9mGMHAzHgIwNNMUBwASmQjRETqJGFgEHzimSlzKUGTCgVms+w2W8ptAIwEBG/N//NExDQSAUZwAVsQAP/8rKVvv1/0VAIMw0eq///6f7PqEDcagSmmRwgWTKGg98jNBHDTRAxgOMCAxZCY6xUdAWKNhgyHB6kPVCcjOisgxMV3nXt4d6Xtj6h4+YOoESJr//NExD8eQTpIAZt4ARemM49fr4+c1tj73JXMqeouU8Zx4i9fq1/l3/WY+NFrSfsXTrTUuM6zbFPItbhwr3+mUjcAv6+W//0zx1D/L8/SsRVtKHNzg/UaeHzMuhnDnnwH//NExBkX6cqYAY9oAOAYgwpYJUE/EYEwNC4BEAwjkMQWQDaGBNETc8nQJc0dEfDBJZf/X1W0EP/eutl0K//WpS7dbF80Hzf6v/6f9AwBA92uNgNNLEMw81MnkYSMeYba//NExAwTORagAch4AE05BVQfDSnTrYSYuDmXhzsS+LUyI6keRX7m9fwId7U8/l+rU/9L4h7NkmtUJFm/a5CmvWkP/1toHu+3X+h3i4/Qp3gMFjwZXkVgxxSz4CAnxH1U//NExBIUiOqcAMMecF6zvmlKLIGmOOzl4hmAZMJKSaMhs1Y105QlMzQ4alhzs98U3PDyKk7EAY9YYBt4K3+jg0ads+sSt6vQ5z7P+zTVwlZm8oDRRABepGmPepQ1wQqx//NExBIW8V6gAMvWlEn4Fuoe4wFFIhkdvZpnjO1K1VKNSIplOZjLvIgyUFQeJYzLPQ308XgDgpkcHZAGZe0qph/v5uUOl5nctBTaqjE2sObf//9Uld+tm09wsJB8CkfU//NExAkSaVKoAVhgAC5y5kECEidUPuLz+6u8t3t4ctar/G7rD0aWqc9EknJAVMhoJak2RDyOQ5EsSSKestUv3TMzPz323PyHII6reZlaBPZ9HCxppmhy7DSg9vAwJlTw//NExBIWqlKIAZlQALPXHkGV6G75pZXdCAtVoGdSJlUwSRaFYNiNTRZLs5yKevkT9lEQSMYYxqP8w5++Zt//+eTkhl1c/////JB4cDAPmv//jkE5QMVJ9XymgBGWKGQV//NExAoSGWasAZgoAHwFjs0AyKt/v8v97ZP15CEc5XqpjuSUICjGIj8UZHOqlO/nrdEHkWgoUAREHx1gBCpVClj6XVeaKuXq/b6NCpoZKCgLSQOmr0aPCRVAW+jbJu38//NExBQR+VKgAdlIAGvyv3eX61/c787lkPn805qqMmDgSARGQQTancW1fGrjhyagr035PupHqJYkMSjgiX///9fEhAJs2MgdSADUfU1C5N5otuJ83Ga6QstFaW9QtX8V//NExB8SoVqgAMoYlJZIyFCEEBDCkzjYa21ZfhY7dbaXOHT636x65Ldj7k3Pc17Uf//6mm////6FiLGicpJQHilgASyEI5ihRVr1eBN/B3LZX1u+tlvqHTzscm1R0nB0//NExCcReVacAMrWlAGgJyUlJ08dPLmpy39UclVJJrb/rPlKEO1nP///+1J6FgB89AUNWLIFuxGyGOKbt/i1b+3N52c8tY7y1jSvxzFPz+dd6qho3IBbKYVVQLGzsdVF//NExDQR+U6YAVlgABv86c/82trb89/92w1ZBp3///qXMhANG9MiOSUCsc2Uc1Ls0gRCeNGTRRgcRZbLmnytk0eVckSaXadZaQNbw8pt42q2aR4qF0cjgrDuJqcqbbyQ//NExD8d4XKQAZp4AIfZWk+kVlYr+d+/j73k3WCNXT7O4kf6922C/z75iM1H22f6fqCGalGUvkTtAr6wOO+NaT8JCUQhJbI4aDimPBJ8aLSvsF5CIoVARYbHJ86Oaxyl//NExBoQeO6gAdlIAfqi+5hnxJye9unZNQcLjyQVTB5MYE6YMKj6zNL2po79ZdifzrBdd1CmIGhhCoMkRHwUq2AftOAOSaoLjPSOhG6c2uP/lf1smacczomH4HGEZ8iX//NExCsPeOKgAMMScFQZwifupGqZ5iZNShYv3Mfmky3BI0ayM0DwrmkRSEgpgjaQaVpj4CbqQ9+M96HRMJIoAzEYRhOh2FmNAhROlyGXXKloIs+Xsn0+04ock60ESFrW//NExEASOPKYANPScOhCl3q/////1JkgCA4qsh2usmGgk8DBeFpwBeG3rGIpUKbkIXJSQ0GAUaBVJoaYqVbrdGXRiVcpnM7ZUUsiiy9zOmDxOMj2BAyiBxOXePe+2iqo//NExEoSEP6YAM4GcLyPEVk5qPKMiJEWIUSFGAoCdQyB6mLEIIR3ZsMDL1pfmpCRQ0VxpE/kpjGFW/aTPyJ7P+TMySS3UqrlLRyQ52QjBkBkLuoq3dNBqHAq42kMhjLv//NExFQR0UaYAM4GcA4SEMCMQNXfdO0ZgshkYQXCxAQuHEgFoEsEpDwQ0k0TFK/6/67n3nkUh88oCWp3rV1qkEypS9qarSE2z08RGIbpbbBVaNtHMikSPADS8jTQsdz1//NExF8Q4VacAMzGlFUDCRUM9lsrDLTdyJPvOy21jzOl70qsIvNJeXz4fJ3YSIBhTM/dIooDYJjjO8VquMjMRJFh8yI1EAo7BDumIFxFjfkqGYFL4BxQlBAUCWQXwEUg//NExG4SUUaYAM4Gce8lg6FzMgbnSpvVWhUntV7376efnzgM62vUaAdYX1DCRQD////+itNyM7QWGRkNAVzFKAxJdohkBQyJ6mkRTsfSgDhqlVhDHLGfWNZy/Kgx5e0x//NExHcSoWKUANUGlFGM3MQu/vB4DhIwWEZgyKgoDTj8X////+Mqh+VnZQtBEK5JtgRizDDEqR6ChJM12XuCRFTDEQxGULoA4ktkHnva8/0Uqw5jjl970em+1dqNWuzp//NExH8RUIaYAM5wSP70MY0MKhMkF0q/////q0VeDgnkANRMpOFmRICMINWoXaXe54oDLLgBiMIGSAjF6AHKGsBjbY3DGca1zeba1SqjmVWyrppqzIngqAIAyLyQu6hX//NExIwSKUaIANYEcP//+8+0UQpSgzao9xAVdiEKrIzFaSRqCCBDWLIl0eRTiumwlR/R1jKpgSUs9ezaQw6grxR4VBXuuIUHXDBcBCQJMAJJT////rb+eQoGJzsbzsI1//NExJYSgTaAANPEcIqFINCI/mEDqQRVdxUz/qAvaIR+EoAwBi0uhElFaElH29b69lazn1632/WRwolCoZWR/0/SVk1KyUDG5L///+hTQKHZioDjeluWBaxEylFPJWm9//NExJ8RGIZsANPeSHtIGyM6I7GOo0aKhswGhw4a8Eyb1YoVcx72ybrrCArsag+kUukFCN6GyjEnKeirJ1hhKJcngSJQiFwkk1cuQ1sDTnKqvWNGpBltY1Kr/mfJonbw//NExK0RwWZQANMElLjKTG21Ii717D2ufd7MjBGpnJ3UjsMSIA4ZUQQCqUHXG4wFnrAROtNXasZEpVRFq2oat8RVLsJsZT9OqFHHJAxLZyMbAQrXYCYRHg0Ij0qGhFiV//NExLkRwJ38AMJKTN9lR7lg7WGhEegqdDtYK/qPc9Lcse+t3K5WGqzpXEo4KkWFIaMzfpxAHCwMAgNkxIRrCAMEOAB2GeQuEFkdmf///////uyOiyOcjIWQFkchYYWR//NExMUU2a38AGDGlMEPkLA5FHIGCyCMBSTlgcikDQyciEEUk5EaRSRgMWRGFkE4HIWWujkD5CyOSjLYu+rhqbyv0AQY00wmgHIkjaAwclK1P0tz///+r13VVLK1VVLo//NExMQPOG3wAHmGKKq+lSVX+rVdb/5//////uv/9FTKr/aRKKqmGqDVw1URKGqiBqxKIGqhqgxIfRYEiIWJmlz8AAGHQudEAoEVxBRBBOBulSwfLvg/fE/SoMZQMKBA//NExNoYIGHcANJGKeROGJcPxOD8oD7ygIYIHIIYnf4f6f9RzWGPLn8Hz4gVJmi5SYDJiaRE9e8CtQfvsqfp743GXyfgV2ktElHSQ4rBSDmck0xUsZzXt1txzvfs5+Fa//NExMwUqEXkAMGMJdzxt9KVNHbjbdIHJr2oD2gEKLJrKFuQBCFj1tdFCGTJk3Wumc898u3eZyDC3/yDDGyI/ZmswyHva7mM55PWya5Z9+FKuZxojGlHDCo9rVlHVyyd//NExMwRUG3cAHpGKM4WAf4vi5I54jVSssgQAJQEG5DLa/sHF1CjFBBjxak2gD1Ich0XKnTZUBiVR4NFXCIe0kWDolH5U7d7YV1CJQi4ieL9Dt1OkO8UKxDXBzwwox3x//NExNkhuxnYAMJMvZBKSYC8Siq5rLMqVmsMNNdSJD+FpJJ5VPiP5OMI3CUrYVF11IVqrKFlZEoLupzl5ux9eri6Wo6+hrqQVRQiQawObNpfJNvJX1lyYdkdGMQN5c07//NExKUSeHHoAHjGSCXdkrpN9LqCpVEw2m5s1Xr70r9v4rI8w8T3mu1Y/X9t7eoZ88x/OeW/rddI9KozNAO+he4Ra5UCt0aa+4LmOXMxmCn9lFcUGxKbiVICphKAqVJp//NExK4iGwXQANMMuTyh9tlVJWFzxl8bgm6drW1soNY+ME/OEylk5VFINtntDqWWbZZUqV5nmkJyR82KaET2oSRJR30zROmcTgxYPyMgRZuUNinmZXik941SVR7VCqgV//NExHgdCxXcAMpGuCfdyWuzgqBI/IiNBQETGAgSDoKjA4o8u3/3FpFbi3///U8is6IodKuDhY8JVBos8FVnREs6VnivtXrcSLPWPiwmdRHZoBR082qqXvozB8oCYJAd//NExFYQOEnUAMJGJDPG0/QUKkwYmFCE3YAGTh5sgik4UYIDGsLrMYjKMJEk6i5urWQdBF2sJyIwAgY6WKLRwY+4QoTrFFyxHsI0cyN5wRym8pphCzSwjQoL7CNLHrzi//NExGgfKxXQAMpGuHDrm5lodfc66G77nX0r1zr6F13DnQR2UweUEgxCAZAsEkXDTTmLKdTN+JvRbfYcFYPEwqFZRkoJBmLxhomNoFpsHXak0WY1RuFumlFNjafC8guz//NExD4g0xnYANJGvW7a3wb+uTuShRBfBNIqT7E9xcQSLwyJMcsSepKyMT1zIleRUlciU8HCP1q0yKvoFQw5jEHYjBZ6BbuyQWyEHIcwhOOEKRUgo+WBSO4YMgBUbDqE//NExA0PiFn0AHjGJGsgNQ6NKpo3/+zS2LVssFqyth2lG+kkwoFYwUaLCqB4o4WDairIVd+KsWpFz2IWlwsqCndiZFIjVXMmVA4GLxAUievcMMAQYFDhAAKHXHEzA5yC//NExCERIFn4AHpMJHWPirTKmoZZ212uFl7JR+ndQjOsUubJoc9wBTaHGLdOI0RhihGoFmmHhdJ2Y1ekoeSrpQ8bZpW81oIObLl6qFQaJSI0IlTqhZrrCrybNzU1Nofx//NExC8QuJX0AMGGTF7y2tiH51bbiUrJaXL1TOVY3utXtTJc8FHZ8yS2yiBWcSC4AEAQYDjye60YfqBmVD/c9FFhBFvpX7EJFNEQnfwgDD8nCL6UkClEnx0mQJrewoZZ//NExD8SSQoEAMGGcKtRz9u+/Tl/38gqbkOcx8iYrEbB/BmG4sikRCqMUOUTG8vgYy41XuYViwFSWAQNBUFQ2GioiAzoiVLHkhqJSIaoWGv0eme2SU9//+sNVSE4jMHy//NExEgQiLoEAHpGTFIiEaGi5A25oSwUKCDiDLza55NYX5MoYHY6GTLJY5GrWwyNWWSo5GrWxyNWCggThkyCwuIzJmKpqFxX/1Cwr+oWFf/1qkxBTUUzLjEwMKqqqqqq//NExFgSSXFgAEjGlKqqqqqqqqqqqqqqqqqqqqqqqqqqqqqqqqqqqqqqqqqqqqqqqqqqqqqqqqqqqqqqqqqqqqqqqqqqqqqqqqqqqqqqqqqqqqqqqqqqqqqqqqqqqqqq//NExAAR4xYAAGCEuSgdEQdyQHZKJJHHcSE7Tsbm2Fscio2jUo396vam0hzv+ShG///IRv3vb///////kbtz++QjU7/kIQ5znOc4GLAAAAABAQQRhTt3kxkEFA0IF3HZ//NExAsSKE4wAVsQAGSOKy6ar0l/GtvG/faHt5w5rLrILTn6HkAGay9TqjnlxGQy8kxk4IIPlMmcL7wxrWxD+Xa5zHiyqEH0JlxyRQyV3Ii+3+nbqb/////6dv/+bMH5//NExBUWKyqoAYU4AL/8bk5g4QcRxoPjIliYoOjv/6EKMeNyZA9yBIqLCYPwhG4jigAQmHf/+eeYQZyDOYx6NikRA2A8aAKCMYCcJwcAHiU1Jf///////////66aWnRj//NExA8WYxrAAcEoAJKnlIqsY0iGZCkHmKZwHKKgIOIJCTjhYTg+IB8Qcg1o+JlEhQWMBTh6Uephou4sLiimHGOQOpEhZTsJMwiJIIOY5ijCjkIMIZhOlSPU7Zz/mzei//NExAgUGobAAAiMudv9d3rT2dm+RR0T/////+77/9r43jHdtz9nYqWdkzoWzSW6VEpIs/R9ovMUdaM/anLSRGxqbfKo5te1FYVVx2Q3LyYlEK2//0rt0QhBx5F8MUVO//NExAoS+PK4AMGGcPo1yZC08u9u9aI//iMu3iGeCSuLIWZ84lJCocxARCAbftFDgkWDwQFAVJWRLIuKgIeIgN3JDSg6gsFTvFQn/T9X1bOA5WXMfVhI+U2yqQPyyto4//NExBEWuWasAMvSlGG0MjQnFp2vUttxq3KmLBYP3PwUQ1K4L9fRIXjZLEcpA8ORTYkiFmRCKqWI1CwrmqOvpE3+/SISOIQ5AhJusrxec///hwsd6XKQs0wwLFrE4o6W//NExAkUSWawANPWlFKJuwuAg7Bf97R/TXTDl2rX7R4SP31L/F337rIyUHYXZD7vkvpDfcjtmDNioon7MDJyrNQh748wqDdax6LMgfhf///iRRxP9FXDNaBHLJoIAzs4//NExAoSkWawAMvWlOmfYfKdYWf4i3HaYn8kf4h/qTWF79e122bBmqrVgR7hhSdhRWIx+BbUGI53FsyTfNPmvWyksiB95LPUt///rcQV+6SGF2cJcPPz0sBblDcTsy2N//NExBIRuVq0AMtSlDj4fqLayllbLL7Umk88wsxeLhFB2LUO/Fw2xZtqwfzgvDJ77NeZ/Pf83ex2tHp6bW////tUwulVBEusnen1pHcDbl0obve8kXBO8ovb5oe1b3tp//NExB4SAWK4AMLSlP0oDk6KADkQJLFhckO9QhjTt0bxVHmpytG71H+MVE2YI1ljzSTPX///6NYkIxF3WLBKll1hovdR5JBdwHrSI1Rnl7KWTHmL0XWXyxQQSSggxWQK//NExCkRaWqwAMtOlBZAsHuUVzwLVKVG1gxQa5uXoFjo3LTmlN3//+1V7xAojKpyFMeJmWnA6azJZd9w+na5R79dlh3snJXfe33MeSXo4AKRSoCxgMuyW2a7CUcNRQWp//NExDYSYV6sAMsMlMlu/6/joyairUZEbwn///WIjn6F+R3CBN5+rMMlM8V9v//4v//5yFMMUyLF68tnff2etGSjKQ7i/umHPIcAKBi0IpztVKFd7HfnpSeHOWEaaQcd//NExD8Taj64AHhEueeGABEPH8AP/wCe//Iy2oYpqX/be/b/Mzab40GPfSIFafjJskWTbFHUy0DI8Yt4Nl7xIzGQI8PijS2J2anael6jjrIJIK0r9dFRQ3deTrXz2KRg//NExEQTOurAAAgMuYXXathDrKDLT////////5/G/j9v+z63iz9ZZRbmPk3/3m7zWmanDb28LgovoWxNzSGP28lDLvVlPxclVAfZMf/c/afkyRtnko7M7qqGf8fW//////NExEoRwrrIAABMuff//mRiy5dI+80LKO6iR4LVjM1PWGMREpRRjtLJddRnhYWpSPGmRatM9TVCqiWWPj7qmtaMtK+g+h0r+4o////+3/9WNm63vvOcyoYMe2y9nOJA//NExFYP6o7QAABGucUzkHh4SExgs6GYwiKltVnoXpZ5DGRVKUrtUua6XdSpNVBaRtso8YXZBTQr7GmqQjviaqSHODYXLIh8KXOs6/z/4c/6+SELe89s8z+1T+1UWjmN//NExGkSMlbEAAiKufDcOJFkbU4Krm4zJMe08Fj3I74ie0St32PVQ5KgN/RrdBVFf9h5geePpyKDP/GZii3Z/////8hCFMymq9bWtT+VVRIjNUSSK1s5wNszJtNsuo3O//NExHMQqXasAHhMlMkPcSWYcSonkOku6v0Zbyvr/q+tAY3B0YXNAYMIBICJsFLGJtT/////vRrWpNM9StKhnZShjUqQxnM4YCd1BChwGGiUBQEBeyLikqZYS8jUitee//NExIMQ8XJ0AMBMlP6v9iU04AiSmyJBwE50sOf5ZazSIMaD/8Orja4/rIUcgZD93BtcG55JCx/3rFIB6hJCEgpToqU/ZQn8gBUGUKpbtSdb6e8rFw8GNAsMFsD4N6////NExJIQsWJQAVQQAODfAsoHoaoeuJOKAMRwf/6v+YEELorciZMFQ3KwhILAKA1/V0/1W3/kVHGOeV0BYD5FC+UhmBcZsXEJh4kwVTf//9r1L/Wy9f/9av/2RWZGq20e//NExKIiMypQAZqAAK/pIkvLhLIpl8xNTxqVl4kCgSbKQYcJmgOZRfNzcoRzny4kTDyZIssjkwkwtZJDyHoVj0HGaGAwQ5x4jBkskIKajyTc3UxmmbmaSBffmKZxZwxK//NExGwhayqkAYpoAAPYxMzBAcAyMRYWaY+l4cBMJYfxnKJ0TseaA/////////////////7vRNVszqcchs+hyKYYeWFTk56nmjw6cxx41MYsSjQiceYOHjw8aY5fdjRI//NExDkTWxa8AcE4ADjQuN2IMWGp6ITKiWN1NNFIlmDxlRv+Ov/MfG+vx8////////////8P/99VmZ5/+63wYjjOTQRXgmN73YnJ9zlG8ruirOT9QJxXqUHJPtAvmKnl//NExD4WExq4AAhSvYjKLob0zEVG1MJ0BsyfKrFCBJApqrCxILtl1Wr+OAUVbfYskZbapW8ulFcMR2nspyMRV8t0bt/+l0LmX/////+8z1y2/zU5tbzh/1m/aw1W1SvD//NExDgUkxK8AGCGuatlKAR8jpZeN+rGuShRmvDRYxqqwCWMKbDJVcatQR0Eyw7UQSLvdaPg0YgFVgkuu7VG2JpluzEGuW7MQeedrOHCoFWhvljUbpqcJ5lJNvL/Gfum//NExDgVISK0AMYecGlb03XdMSzbrJNvM9BSkLOCIHFQfJnGu///bZ6F/VKieizfso9UmEkMQWW2NCSLtpZD/89fFrvGxUeMkVzS8p1eX91KvPmL3/Q//Lnsbulkqdx1//NExDYRYWK8AMYMlTk5xwecav3auelM2jPPUnXG4+I768epWKE16Vr491ItpSAMKgWwawG9FZg+Idjwyc4dH0FPPoj7D3VImT5WPZYeo2yhfHXoBhLDLyo5lGyrXFhd//NExEMSkWawAMyOlGGdSVf///rVvzr9D7hQtLkdQ6ZPJywEKqsuXxdkKhKoFkOp9HCQnDdYFiZVSFqGNvYLmtu+yKP/9Go46SXwrcrW3a3yj8qf5ySgo5EFdFK40UgC//NExEsRqUakAMvMcUYtphhYIMTZKZmDDaPogmAxLlVeSPZjWUTk/JIyaLVpoeNS6i0m79Ly3iUTVhh+QJ3kgzwCoiyjpD9dX8l//71vV9F/YGU4OXXH5qtathsUsLpp//NExFcRuPKIAOYQcEgYtd+uTSvMBypc5ouIaOxptaN+Sn9f6vWfeHN+/wnvARAmaCgNNs++Pr3uPHeIzD0+XP///+3/GqSgekq9VBZpsZgBokLfdsZb2R/sB6vpBuvo//NExGMSOUqQANPMlJZySZ+P3V/PlTIRH1+nBb+jJzB1d97G6yIoZ+6fLMQkoQoSB////1/9v/3qzsQGIKY0vnIkCECQUzgVAmHdgDPg40P5LR+2z1JNKhES0QAz/O8t//NExG0RgU6kANLMlBu/uPmjDMIAI/wY20ZFKiAm2lGf///6h/9Df/cuxVXlmLB0BGdIfMspflJKguXl+ARZwNPlF8m/vX9i3x9lOwrHSdK1OWvux2zDOeLqkT5YFDWh//NExHoRSV6oANHSlPi5ZcSsv2xzalYsx8quLd+Hf//+XcjC7BBY2cqu8BiByGoMggZLVVy7pMZjOt+3VQY2kCd1OoWQJKj4RWBQDIVPMM/h+5Opnex3/q09aFp7utlG//NExIcSgV6oAMrelN2Jyj133E2///6jCrGUMnnLNazCBo1qYLGwNV8qMMQyYDHJJFRZxKOyGOWlIp89egaP882SKPWhpvliDROF4kFc5Fyx8oeE2GBGZmTCnVKa1eDS//NExJASGVa0AMpYlNkvm7sJMdySSPHyGBb//9SkoTXcxMBKkWUULeJdPglGuB50Ky/CQ4qMcAjOAgFZmlK8Yo5S7GAQ2utU7jK3qrsSRlTrTjRzfiGHRjF6Ux7Calc9//NExJoWWWKwAMPSlKDp9OxeBwMEzIAGKFQulBtm0anqdMXAoqsu8w1NBGNNzBefV//6ob+29SqBBLGDFT4jbQnybc3BSS6qMNSMkC+CcGGGcd5hkGdGSaR0FMS1zLUJ//NExJMaiXKsAM4SlEAwCdoUWLJisr5lZWd7FpiM7m7pvrsaNs0IYox+otJEG+/m4xOMCyWIpYfRqKJ////9a/xuvDDVFFiOpENmMNlhoQvBHCEpE/E8hBxM6OlXJbi9//NExHsWwWq4AHvSlJvbHwdKEISyuEr2HWebGPM+XNQX5h0FpBembqUVPr/fudT1jIsWnNn5xkE1kO9G4MfaeeQzShkZyVSLjh+1PZbydjkep5SoH4LCxC5OGC8RFqrb//NExHMSOWLEAHvMlT01uHWg/nWXxOitcCwU3jlqpP/H/N7Nz/S+ZzjxE23mwsWfVRvbdjVWDsWo52GlTDOjH8j4SO1iJBZtPs4h5P1o3BmOVQRFNEtiDTWs5bZrUISQ//NExH0SMW68AHvMlZyK98+dbHz43+53+1pT6SmHC6rseKkkgUVVxZhux2K0wHixYyWiDjRKll2s0q7ZqZYkVskleBYIhFCooPFqykUmWVYKbqO0Nuhw2ojS+EwVKiZn//NExIcRiXK4AMPMlP//Xavj///11ZVGTJhV7mX5sUraVlUIEcH54EbGndHG1f9lLM2p1TBgCDAYMKKohXLCwcemOgI1BocQQzU0Y0+DZg6Fv//qU70GBd6v/+rfWuzY//NExJMSCSKsAMsQcBJol2EipNHl+06jQsRQkPQI6wjeQ8qH0vP5YyneLdN2mGEYHrMioSUyf1DWE7bbEfmQqk9bsFRjg2BggfJK///Ux/u///8VxlQgYk1KSQduVkx6//NExJ0R6QaoAMpGcIQAHm2JJPRYvHo6ius/UfnXm7TOdJaVlBAiDcZhhH4C5pYfVIWoDxaQ7XJ7Efc7q9/asvcfJdied///ySq/MCPjaVgoie6EY8ggw/Ukv+JPlm1l//NExKgSQR6wAMIScJvLTyT+m+4/ELyrGUylbkzWngfmxBDnRzkA9ASH+g20XXl199fu+HvE/UH4xuMX///qnkX5kuWlDaLLxgYEgrNEsFRW63bFW8l67PTyC0u11GvU//NExLISMWK0AMNQlGCbNClCKwJFYLBUGADhkQAFJSQeRnEXnHxzYwvyzM+wnckL1FgMeH///9ajoT5kiSnQBjJ2DTmyOku9wgUJwiRMRfvh1M0nVXrOa2xeK91etC6n//NExLwSaWqwAMPSlAl2BVJcYI/WI6svdVhPtul+0W3mnAvjQXJkQXoNuQAkHWIJFGvEaai11KQw1Usm3Zyq7rU28cccfyr058ztOXR5mukkmtqDMdYCcCQ/LYSzR48S//NExMUSeVKwAMJSlN1h2LT1T+j//////6pUipAxmkLoIQa+BfBKGMT5/HBuG4M0vyZTJ8QQD0RplYnhco5g5hULRHgJoWhh6o2A40boXQN0HQYL0Czx3FcwICLJJUaJ//NExM4QQPaYAMGecaF9/HeT5uXGY1MWY4bIaG6KzqJurWZlFNNum/pk+TpFGN15QLJMjrKpfdav/9k9mfRTbUk1SLK/a3903ZBCarN3S9BZoggUDZzqKJdXiMPmRcOJ//NExOARsOpoAVlgAKrDNbGr0LQcGBTS8Rb0DDxcueqOco4bm1b2/nYvSTC7Eu6u4MASA8BTAVDcd87QoCcOFnCLpDKrpoY50+0LxbHUBQV/+M5hx/D3fN9Q7RPJDhv+//NExOwkwyKEAY+IAccfUPeOiZ4lGLR/1Z8p9pf8B14PGpeMDxpfTihkmVuizwB22/FAoTOTsJo6rIUK6NQ2VafovnPpGyKPKBpWN2UzWPXWFfu1BLsUEan9XU42IUoJ//NExKwaQWqYAdl4AAnyQTh3i2HIxkEUFr728o+mrjGrSt7xTotwTjBGcNQnsooc///sB5FNvYkLBadZP1S6nf0rPaaKFnRWOmgUspWDSa6uzKZVtefjIJ+lRlX/HRAG//NExJYa6WagANYelEVC6Uv3DNNjVin1aTls6sR6qKTdA+00I0EIbJokprP8qS86J1NZaRLyRL9D///9KssXCH10b6pAWKBOjkRIHy+oSYSnIyyYMKXGy1uphA7toZiM//NExH0WWW6wAMYSlG0vK3ZXZypce1f67J+XD8taopH0yE7vhls7Kv9h1rvWKWXnGTgu5gm+JWp443PC+pvyaSIb6ZAexevBZ0B2oisVQGU4NqOixS0C2C6JbvLfLj7x//NExHYSMWq4AMPSlb3hby85WQYl7G7gEv7EEF7H/nuS7kmidu1WOu+Qpl2MELeyaQ07rIGhZOGEzKrBSW1FlyYi+HKoVGjpl0LjdtNua0aJSV7fVr5rlGzIpENSVhQV//NExIAR8W64AMPMlYwgISHcU/3YJFCQK6gtgZFaxtjA3vokCoPzafT3VJU7X0rTQFgCVKw8FU3o5tVx0pQ5i4joLaIUhSPRMGPmSs0v3jP031/Pb4+LrU6qKncT8/ld//NExIsSIW64AMPGlY/WvlswFc7GwwHCS54B4NIwCHm5ruhSM7qyAhyIVJyrteS6XLae6KNcmhTQi8EmOqDBpquLb1//+ro8rKyGqRmHoeMDbeZjpGGQVoVRjK2qtgAL//NExJUScWK4AMPMlWSml6pVbkvU9G6JViIQsJuyDyOJ8S4+S8vSwoYJi3C4rqKDBCtZYLDFq9t4Vrbtv51UqtXh7YapTnwMBHCy1KgOx/qQUTkqVTEYYdiIBgWb4mBw//NExJ4RqW60AMPKlZmIKosChAGmcIAkeDUQHSsl1UqJRcouIQQw0JL8W5n6QR2c1JmUgx/V1KbNg1xYUSwCyg0Hcqp9aOovsOv53qYKlBpliYKUGuswgAzMitHwEC6u//NExKoSiWqgAMPGlUfQvSVDPJiF6rzoCRD1Bqjygvp3uH269S/X7dspgolwoOxfVZVWGf//R/////5WMTKTNdU5ZTMebjy840UtEKaPGkhAwCmy3F3XqiUWf2ZpLWEa//NExLIRgPZ4ANvGcKa1sSiNQ8jPteha9CUOq63Vfb4p9X+zFa+wUcyV/GPZo7HKTTOHk5UlM8sDZR011COjGgAAKXEIK4Y4XGUgUps0EuMSBFb6pUXAtAWfFHvqVWB3//NExL8R8OZcANvEcGA05ABpLrvsuLkPCtBcBfbV+8WAWeOMgZEzfb6/YcBpPmhmRHv27/i5z5Bz8vl83NPb//X5NjjJAvuX3NDIqJk5/vpW//1cuScaXGcuEwQQ2Jgq//NExMoR6GZUAVsAACoCxrDDk5wkFlD1pi6pgGAyw2wG7w7Eq7JHSZgSo4xlg4A3RwAtgLg8jqR5AnmbIubKUXy0plqh2EsVGx8rKJIl1dSc3TOmtkUkVLcupJ6VFmWq//NExNUgiypgAZuQANpOjVVd/0L1fWpLVvdFa0Xo07PsipcvLSqdFaJlWcZ1tat2rZTb017KR0n5sUGlWUfqRwiygxUMAITdGgmAAZRhA4FAIgJF6MNYhQF9nUnRkJWY//NExKUguvaYAZloAYrDg+GB7jPzUZwCw0ExMaIx9rBR8A1YQBHQrFXsXEY4SstJx9cyt3/YxZQQxe3GCo2N3mYqYbqomoj52Xi7+ufiKpLuOq6a4jen349TtziZc1Dp//NExHUgEmaEAdtAAf8VBuQT+V4PWnp81XWWYZuPgb0dsw2Ja+DB87YeAQPJBIBk/I/WUyY42VPljzpqaSFG4HGImMpEBAcR8ovT9t/2phT2u7t36/3punpqsxR17v4c//NExEcgynKIAN4Kufw/Xe/rNxke1hUTGi5AMBBFXox3NKaqatp992X6rP6oqmaYjmJciTrUcUURBFmQGY5+WBn79rw5zLHRGCr5KSdJ05Lhe+GAUpp1+RYb1GC9xaMe//NExBYXyhqsAMFGmewmFCodFSC7Oi4qi3OWuhrIs////L/vSPKNN3ObhzdzDunoWmh8SFTLR3d3poiBCQIIAPMHj7+Zv0a3oyAiSpgzRmB/HaDI6cfVWIoSmic5xFdr//NExAkUQxq8ADhMvX//5///////////8/+fWeH3c5Kbq4evebJTRheo00NT+M2Md7IOXzVobp6Ti33wXjUg+vH2cPzUYujHZm1oqLvJMJ4Ml6i0pykqy//////3M+7x//NExAsRKxrAAAgQvR1erR2gxImtV3mx3wzi7wtJB91I4/UspKmmF2IrRKosesljxSzJHjS+TixxkLRQ88WggTB0MCKhkrJ1/P/+/Ii/uU+v//5f///+X//+v3MjzJyF//NExBkRmvbEAAhGuZqxyRztkMjMKUBkKXbBmxER0MpwlBOWtLVKhxM17BVME8hDkwkBDMGpMKyq9DXCuwgyKDiR+04DiUEZUzAfdszfy1NX85q/46Jz95473da97US3//NExCURyRa0AMMEcOnvU4NvBBQfaivlX4dFwVg0ey2IqgrURfUrRLP/Kpv2Pw0qxrZH1rTcoLIt2oyBerkdaOLd9ZxnXgBUMU4u4olc9BNnDXTb8e3xW28a/1b0m9qo//NExDAR0U60AMPGlKQU7BZMGrGx+R4cI5jmQbET///+1T/66q0xGBfVZ8AEAYKGljKjohZ3VUeX88bQxyHVFkFjMhOA3TycH6Vf4gM3+f8Pv91/t8uXiq2fDpWCgM6D//NExDsRUWKoAMvKlU1BbCIFY4dagtxqa0/4VYB8Ms0YMcn0ugwpQSCG1jERJAKxF8jmHEdJgiwnsa4hJdAbynRrCrXqt1euPr7+Le3+ue38Ph7NFhkwrZqX4YUrCV1C//NExEgSUU6AANPGlb6qSvDjYBARrG0YCCl5AwWfZAiFwMyQtFhlLEJbJ9EiVNIT9xesL3WJ5cRt0Nf///dARhQjYeIoUiDqQSfe/////10xcBKB0wYQOdlzLAAMAqWQ//NExFEQKP5YANvEcMw1mdlf2saDwqowQIyrRbS8ypwjpQvyQoiDnpabN/kM++7nSkoQIti/J/p0f8x/7/KqBBAQU353DrbilDfxzqZa/LUMFQKGrBWZWFVf/YXUPOtS//NExGMQWUpIANjGlD/FEwbMTYfxwQoKMahUY0PoVg08QjWlgiw8zflfR7I2M7iOoEMQAMySL9QqX6q97+X/3Vf/x5rvavCIViHGFy14SPCUjYlbCsTKDz3qBqs6YFni//NExHQQMUpMAMjGlCbOoVTLMNJlYEfodd9e7d/vVqoeTYIiOQczorf8UYITZR3/4/Fy9CRnHPJ9xKAhARbyXJxNAANBvAXUBdX9E3N00xN4rgN4xO4+vyfOGhcRTLw3//NExIYRYG48AVoYAMipYGiXv6b+xOj6IgNoliDmn/Tv+PA4ycPkEIAVRmy7///9ikRAsFo3LRXJwgw8iyyA//+t3//igySIkdTJxSAswZg8OebF+oJaMh6AuhLVcwVB//NExJMh4yp4AZiIAEPC9smM7QDYm6G11UaajM0JbNXaXQl4pxDcAx6HTQCOE9LsHIEADdAIwwx0K+IvKg51HGcT8VmlcwNkVnu3tSERGFX6gQWS1GxkdPX/+Jr9sZPK//NExF4eoWqgAdl4AKDNM0iZf7sqFQVd32u682+wfjgofHIrcr/099C6hm2o0eqbZ0F2ZE1hhBs8pgxowvWZeuJFX4WWcsRR1UUgwscUUGs2XqLXM1aMAOHgqfKHgLaX//NExDYfUWqYANYelKrk8umKvAu3OUunGbNOTtGwVWZMU5x5qlFh1l5VuXCm5IcycUNYkb4eOatbTTaGA3F2qWRtiWhgqAf//xVRIUsSsxeHGf/6qrnumC/nukpVXduH//NExAsUaWasAMvWlALr3cXjDHIvQzwGl8iAaM2TLPF+egZLIMAG+0aJkh0/i/rqNuWF/APZWWtQKF8Wtqy35rUb7vh1qmzqL2waHrVc////yv9djMeJCp3gDKwuFCwo//NExAwVWV6cANYQlHhyIgC2wTDqX6ls1Hk5XVlDJqSYWDUFh9Pgxib1wizyl2+wzYzy7+dXW+f+PLWpQWpRCCLkGtcXyvUetfqMeUOhiQCz///RO/1KaWyshGnmYpDC//NExAkREIp4ANYeTJREmgXGGLNAaqBNCWNFpYduQqPNiSaTaTOISLKBosDOzMzDAcsTgKs78JFgaLHlP1cs8a5H/////3f6qlZE5QDPOPNNOFHQpgERrDilBK4cCDEW//NExBcVwI58ANZYTN2VvO8btKkfdVMQmBDg1hJCcNmDK948osq9QRB+hMIFDCf+IAwyLRcEy6m////58vCpMwKgIWDZlYwCpaoqeiSrIhABOZUTwgsAUiaa+gNiGdVn//NExBMQcH6YANZwSMZlj90sHAo95WuHFbE4m8sP0tJGKn1jmUKvMrOFkicuAzf+Kg+LGL///+in+XUilkyn8K84OfwEyBrxUEJ0+dRJqwopFjoDwoGhCDMjqAwBsQcm//NExCQSkVaYANUKlFMbVIi6NRr+jUvW9YtkNIBWION6myfUTbHGGi4qyP///rCjvmGkKo3MEIM4txt2UmhdjU1fpYijbxcNpY/DMIT4IgY+wvWBsQQwjQWYVpgVss6u//NExCwRmVqYANUElI76+hu1S4Z6j7bt9sOJZBDqHYp///7y/6ZhVYRDRcg7ZRbM7Rqh+vV4QYtmUCLaMziUbFJhQAWVCWAFlD3iQHIG0cRK6SjQ2e/qX1a2qWugUBsZ//NExDgSmUqQANzElP1L/QoCzAQgSA2e///+d/iVIuoeI0TTHYo48+MbAAEFmEHQcRGTI5nI8HASHxhYUj885dVKhJMwMMMTDFvw7EpdWl11xlnbOdtROiJ5bU/qxEo8//NExEASOHZwAVsYAMJ///9X+t8O1zQwaNrGAz8BDhgcMPNAzkFTJgmElKYEHw8HAcTFkpgoZQ9AD5y4kqHsBYmB+5xGme+s1mzW3pAu9/rjP1843aFC3fVMWtrV91/+//NExEofcYpEAZx4Ab+aWH8+1PW1a/5x/uDXV53ocIj3eo7nOibtrzNuBxgf89DsXdWc86Wif5O1kJuD/53sTvFgGOaRXu0eqyEItzN1OKBwTiuRuhmybK44iJA2gOeJ//NExB8YMc6YAY+YAPRQJFyLm5OEFFwDwXQCdAmAxFnoM+fnrE0iTpXS/UqrL62Xb/0afTqU+361pHn+kov5//6EHwI9jvu5hqras01QXbDJKPt9lZ108ufr138vVzPA//NExBEVsWaoAYZ4AGxShqm9uXY+S5KtQHUqDqXD+DGsomSFWA5q1WwYmf//v/V7atrG6fO//refn/W/DO81eAJ9EydoZMf8bUh/yim+gld3m62r2N00sAz71iUeyd7L//NExA0TyPKsAZh4APh+u6zSNmC9j+shJkRSVWFAocLhXxDXTMZYeLaavF034hxcUh+01gyNCgbknhikczPYsRY80oz+uHfIaP9ccn9X9CoYMdQkHIbGaAjAKGX4HGtT//NExBAVQU6wAZhgABXQ8GnwjFE8lxWkc9QsK8Lx5CZjqqYPQjNCw4IZmvTq8D9ehlcqpUQ7jcdn5mZ9ZTsyV9/pmdf+2ZykT7y4XN//+f+v6khy+o62ZxpblA4YhVjM//NExA4VcU6sAZl4ADIDFgw1g1amhVe5qsWrFGbYu8wKPWSM9iPYtstoaork+bBpC4k6H0TceKihYY2qJnfjXQ2m86s71j495IVN/4hQYJlJ1///ohzIDmCwwBTCxKCB//NExAsT+V6MAZlYAA0lw0C7MMTkzLq1qxg50xw83tKzojtpzi+KXByYPXHkmoPYu7We5Wm3VNr/j3sqamq/j/zgnGl/+HwfNp//4Ez///Ll0VEmcPspqIVgQMVwgOLo//NExA4UEZKsAZgoAKTXv/v55FIPvbEtf8QD4WjrO5WECGMc5CDxxkdrTZylKLrm1RZSRytsPHs4+GT4ESSc45k3gk19Y8dyv4jP3f7W+hWZQmmoFMAjB/AaiJaTbTIg//NExBASqVKgAdlIAMM/Pus+Wt54713L8lDwys/91NpUu4UASTEUWlV/BOEJQupzkhFayN7l7hGDjaxcVrsYOb/X//2f6P9S6mQHUs8BrctIL0KYZYq2BxaS9tzz2rv3//NExBgQqVakAMrSlNdPdMcbPqmsVpPHZYkAyKIum5iTC2Svds9rm1jcjdx5XRnTpqjPZ////NW8SJLVVXOkBAWY4SGZiiP5Actf/H9aGNVzvUb1CpPdcseUcKCAHQKw//NExCgSOVagAMoQlCgfECCBZVMY0ri5djyjkKpNtJMPNPKNGOn///1lf///1JWWJp4qJj05Au/BUPJuGjS+Phe6UXgyU9efWmtaKi/lydWWlCw9gmkGEcaTA8cWUfS7//NExDIR4T6YAMrWcF22Yms6yevg8ubA8ZEz0f///////qqKjsy3yBEfCHCQdQzUb0ZuRHykanawK/SvR611f3XfrkcKvbhNlQqUbQAyGAJML2JonYH4LXD/57v5VfK///NExD0SOTqUAMsScHicPidqP///////16EdMLvTtOhJMAE0x5q4CkYPBV5hBjcl+TKTtKnUhqvs5Lmn8LTQiEAr4MCcOdzI0PG2HeXswIWRGEn1CwOkTX/////t//99//NExEcSCPKcAMLYcHQqlrrk7aUxzCzhgiNfMw9EkGZNoNFLrieCjKqDKfwnKsfXeUhMp1wIB6Vz1DJUIU2VOJlLSDJotK+F6StkJ91jTzbEoKLFKo4MlQ6UhOOSFb4M//NExFERUOqcAMvYcEr0GBdO0CdQ8wKhR4bRJHQLcgJftlmFlMeRNAdNPlhaAJ2ViyKVPfMhoLSK5TvKCclInfbHbpj3MayKCxcuiuq4QOmIAVCTPchsemf4L3rUNlMf//NExF4SkPqUANYScCXAIts+V+zJltoOO86SsiNRlBB5TAUBTWoBfLHKN+CmVLKkTT16MoFANy/r9nnu64JgGmK21kXwbU9B7paFX6Co9oANz4MgADGiiHJpiRyv0ZRJ//NExGYRsUKUAM4GcOw4BvTOVtf9wZZTTm72I1+ZrSvOZUrzSkqE1XV47d6Ts44kFCiHaKVO4AnVbjMqC/CHIMRtDBBNeZjJYYNn4kR/B0LQ1hQhYMGHffsME4kxF8KX//NExHIRgUKYAM4GcCz1k29DX303dEsyzUeWpTjEN+rCAg99ra7V7KhXJtUEoeh0CoK9EJgRmmWatK8cJER2RgiB4qws+FDhRSrHFdiUS2jl13eBz8lkv9mZWffM7cia//NExH8RSR6YANYEcS2K9TiBSCGGQQAh1id3///+pSqCBQHNN0zCAEZIDdkOWAQhNgChkKEGQGPBg5QYOcpdGJRBGBMo2lIUFGdkH1nrDo3hCxtEO7TJI1KtDVumrYdv//NExIwSyUaYAM4GcGVWWY1c8e5VqW1KVuxfyjT4WpionBUkHVCjDJbVFyE+KnjSJx+6MyQJRPtrBhn//aj9gbBwcKU9k8pX6aJn6VxxAyCnNOI6sCXkYCBmvAINBTY1//NExJMfMYZ4AN6SlFB1qYSLmenClRgRMBhEkBja2BIQYMeZaMNFlHgURYYsK5sw0GksSLvebprdaM4Xsvs4YWs6elzuY1+Z1MqlXmWOFDofDyo3PNPFKigJgoC0ZDwI//NExGkhSnJ4AN6OuZYWBYRDwyh4sNMnKe7L///////dazEMuUAFO61VpXDOVkIWCUs08GGgAypDBwQSlZfAaSTPBtK9CYYQNhgEZORJJiEudIasCOCyIo3ZPuCINbya//NExDYfqnJ4AN6KuJfhWv42cauXKvcv/HVyvutXu4d1d3U/essO91TC7DBphrMJio4XCJwUQAURIKCIsUYxQ8a5j////////lqplURMJCgu9or+n1J70Jp7N6PwqZFt//NExAoUIV58ANTElMlsY0wBALziopxgCCRtZqK3IMDYNAdUA5IfwGx4WkojtNSdKpqx+p0NtL66syH6dW9avPsvKxRLAhzEgm4Isf////OvXiiqCwGFxk+FyNhIjYBk//NExAwVcWZoANvGlAyYGCQiFS1i5VwvBFpW+zaOkaZsC1CkqU3leyKFscF1Grv1+M+m//nO/g5iuL/9z/9qFRSoCsqlXSMJoVlQNq////jhdUqIjxauBCVIDizxM0HA//NExAkSWNpUAMPGcE1QwxgYOqaFv6ewhyjLifA4j2HqQpcrKuhssRhcYUbetSq9KGpKsNSYUYVCR5R5MselnxwFQVCR3QV/Jf//nfK1LVDpFvPA6UO2JyWYW9iMOpBI//NExBIQwPH8AMGGcNBQkJzEPNFRFOHBgwTGeektiSlmX45m3oJLxddxtdNiUrXUg22jO06EJv6HUeb//xchhRChxnUGeEY39AwERCSJH42yxySVHhEAUiIOmlmAVF4N//NExCISKIH4AGDMSANA1TDTcYSB4WNP6FqePIgsK0Vxl5ZWwqE7J7rYWPpr99U9aZaVWgKhLdWmLxB1oz2MiUDTEoWR7BUoIcqJUqIgqdEqg6CohcHSrm/1Uzq03fyM//NExCwSEHHsAMGGSGIIrcQIj3ERQe4iofIrzy96KnkiyjxIss8VTOrqNIU63HtciYAw3JG3SBwN4QQAECd5c4HwQdHAg4QB/EAZ4nc3LnwQBAEBwYxIcwfdwTD9QIPl//NExDYR2FXsAMJGJAMYgDHy/iD6gxf8TwQB94gDFQCpTNzWkwJPySTzASJG1iyPmWnhSWHYZGRrRWePFVKBoc9JFzipWRFVA0FComEU6dlQC6iefLA0+DQdjQafKqqV//NExEETOJnwAMGGTPyoB+JiP2B2DQNPKgHyGsLeWA80olkJQ4/kywE0CygMQIJq3/Kk0p4dlDAwYRy5Y5l/xWBCRosLCN2NFaxUWxZvFhVkVFP6hdmzxRuLM/iot/9d//NExEcRqN2MAHmGcAVBqDfFjZlZFYMHyAkuoBwMd+h3CCOIAG8PieoMIKLPxP0Z/6N+p0ovIZxtZ+oc6XyZDOH498ougT5MhccrHOlFTxHnJyLHfK9JZJKQRjJxpAft//NExFMQIGnsAHpGKMkulYWCRRKThH4DgVhsBDxUiTOvGuUtiXOFRstYm5dOzdp69H/Tt3M3tddUx6XVqjAZCidvvo4luciASZRkbTJsussxCwQhHCGai/osqlcBedtm//NExGUQSJHsAMJGTHn9f1fipmz9Bnh9kZiM9Y/Rf+/+/ndp/v/f508qqqqh0w4cAMwW0rtX9dg9pJVEqidNPaYDTFhNyft0L0H0mwfE9EfVJ5roZqWgwvBkYKBBBwlD//NExHYVsJHsAMJGTe0aVLh14fJNhEqcYUU4mnW8+ko6iyp2vZfU6j3d/7NXQnf11TRsvw1+QL5ZrHYRIiaAJT0UwVLJaWNRyFBhOQpcLDClY4miTYCAzQkNERFwhKnl//NExHIQiJ3sAMJGTLiTTQlTLWrMkZUrrQSlU1K6U166Mtq9Nf9SFCBDF0HQpy5sRyOgoJCMnkKHI2w4HAAg4tEiEHeBHRliI8DgZpCJg8RHzSMniBEfDNt5k+tde776//NExIISKLHoAMJGTO+9x8ms/959v1wc0gb8upYERAxYOspKubbZ2Xch1Ucw+tLA46g4YFtALBgO8AlROoi8YHaw8Q6abKEOjRwdNn62/q3GXa1ek7cu8xL0VWP+Hfcg//NExIwQwIHMAHpGSWLuVgdGIOkBLmFA4ZA2qjyqHFPsIIh4pQQmaDJk1dEjoPXh0PEKbqHaUITpylRLyFUzM4M7IS00cyJ2edqOOVU6MUaBqMiArJ4l9k84efR41AZW//NExJwiCxnUANMGvOTBW4OglWDE4StCeepSKcmS4vNqH1q46jOn3D6i6+sNurpXbB0J7NcZc/VuV81F8521M17JLa4OqjcReB2xJRHIo01ykt2jVYyyLaXmncjnRhKr//NExGYhcoXUAMsMuZajWJd5pKmWbOHbj7MzVoyA2CzdhUqIKFmothgLkK9tM3xLBrMwd+IHS9eR+r7gwc/1uPDwVPJExCZ2JY1G0kUctmtuNS8rjVTjV5K4RlZNSZXJ//NExDMbQd3YAMJGmKk1QwzkwUmUEJZ0FAyMLRLVAKoYZ1YKTWKGMmCjNaJIiIkWB1YCeWNLAUY9Z23/oYNInSpECiIWApAUMJgmGxWjkQCsEw3uQBABlpmEECCD8whn//NExBkYodXgAEmGmYcnWQ9tnh7wwg988nu88W7xNQ7JTSvT3ysEQngimn8LQnMwhOZOf00zQg6ogfH3mknEEWs/z0HEUiTf66WIwI/u6WYjwJ2TOnj1nUAywAshwmji//NExAkTKSIIAHjGcLdqN6jAgUDgbmC3A3eCAOF3tcohBzyrwqgAIQAA8pySlEJzos1JTEm9ZnmbqgfvMGaCZvid7yjrvZKOL11orec0WtECHyTwCETMA5NRDmZmXROn//NExA8TKMoAAHmGcDCSlzzSVkWSc0iReDqrVJoKoCX61WFKCwdoWGgoeuqfsWGpYNFh7j0sDQNSz6g6SiLgq5VgK/2g0o99Z3EtALgUIkA3ycHObhvl8ChOgbcTCkRA//NExBURgJFQAHpMTKgqDgjJB41IiccWZbOUWYGZkFhcRmQELCvWK/QKigt//xUU/+oWFSLq2fWKigt/6hZMQU1FMy4xMDBVVVVVVVVVVVVVVVVVVVVVVVVVVVVVVVVV//NExAASmxnwAUgoAQFAaGSWLi4u6QiIiIju7u7vf//7f////znO7f//byEIQ5znOc57f///////5znIQhCEDgcDgfD4fD4fD4fD4fAAAAAAAAA4HA40isLmyfBch3b1//NExAgTWxp0AZI4ASHuv+339v/0Gg+XP/5hmzGKT/q98xBQYPGjgO/+Yzqf4lmBAEobFwkDg0//6f4jlC43PGg0EgmPuZ//+/2/nuImpNTxxHUBFf////////////+P//NExA0UutqkAcJAAf///4/0q5/hFLe1u0mCxe4Q8YOLvMPcaeKClFBBR9rLwQKFxUJM9W8ULnxUy8sKTYpU6ddcInfTi76PCS/HYvfjwADD14AE3/////////+bP/9d//NExA0U+t60ABBMuesf7GePjk2UnFOn5gt1EksMK1A6Sk1ylYvoiBhRzOQWXpP8wmdsFtqbW9GVxtpZi3Wenqz4fc22RrlJTbFZk0xnTpZGCBBHa///////n/y/1vWf//NExAwUIr7AAAhMuf/9v2dNvbvSZZAwYi5+1n5lwY7OyZmLMYDs8lRXNKvm3SNvlHLRLfamVpIDcPHmRjachrpqZ4p2lrz100xhphBSd5g/BQ///r/dv/9LK7dnPk9C//NExA4WAwbAAAiMuQWLTx97f+vWG97gDSOF4pLCeNuF8j2oKnbIoHfTKYCctZ9+fyjZko7dRtIy0fDNVl4WimZD12fKfZ6qXM/azWp3rY9NP7RRTdXk6UA4AQPlQSCf//NExAkSela8AFhGuW+/6jfX//jdS+UvC6C3CjNl9OMbugo2YUGFQKX1UtnZylVJspsTGUsOt//2aoxnqeYndF67/6a09QKKNup3z/6owybmC0nfgBfqAZqUBPO3o5uS//NExBISEPaoAMmQcGPS5edtfKkr6bSxTjDzVBUL001s68KtCxKjAMWew7iICkhoLKRsuROv0L8jsd7SclPElP//+uqaixhiqcoWhg4CQJsDqJUwSiqxFlLq3DAqwYcS//NExBwRaU50ANjGlFmpdExjvWoJxjYUFdDYU1WKCAmRhQZqFgXKqRKscKUAhKjWjD3PNXR/XRLuZgOYgCd12BhqsV1kyDzPEHmnT2P/+sf//1/5fOR1Xzh7Kvx1I/+k//NExCkQ6PJQAVoYABhYwDAygXLEQoRMHodJP20CIS/V6bP+7///QjBWRlEbJeJ+D4EimzDdlqPAgYg5/f9OiiT+FzHwYB7UK0gkZCGAHOp1NVs4w48wVsFfI7rZPqRV//NExDge+ypQAZpoAFgOsStIFvGDVQR1Xe3CrnzQvkweAWHVt2/iXlMc5+tJBCqvX/rVd/MDQlHuSBoShggXFf//6//NJcRTJcuHjRaZLmBpFjgrj3VDdv36+//+//////NExA8Vcyq0AYU4AP/z1/T99zO7KOjzkHMFhp85yphEiW+T/OQfPF5QmeVOc4wwuDWGSSiQwrEcz9/8fPY5jzzI+7HlcdJkRwYB4WLhxIaAkHC1BN////////////////NExAwQ2xa8AcIoAP//p02bbIdiFIRaIxkQRq5aMR1UWIhSB9412cTOQ6uxxYeRjjImYih9w4OGQOMOUAxY5BZJDMLqP//////X////////r//76bpImUerEtcjEQ5m//NExBsRYxrEAAhKvSjBpxiIOe49xLU7qH4iJiFI1xNSDGHiiDSsNFhM7iAOzCIqPGGcPmD4uPpvIOcheSWg1w/zWRq/KV9bp/X+X+hf///60nfq3dbPyovnblj5SmeV//NExCgRuwa8ADBEuWVlN3IKRJnZ1aWYCFBRIUtUDHkdHDAQoomiWDGAiuXl6XJMDx351AS9Io+5Z8cyVUg3EC+3HcHZuGRHiq9QMbBlPsQ8gHH9ecdPHb+SvvPUi3Op//NExDQScR64AMPYcDjl9vfPpv62/SfuBAOKcCBL///dq63LccKnoIzmETZytHxrJOXAvwEWLKIK+8pT/aTMqsgrh1MyICUKqdtS+Np/Xld7/j6+bb083iA6thsfb3ev//NExD0RyR68AMPecYc5tjY3CpMC2ooqx1KTi9OHKnHrW/oCJuV0hagbugCqfr5TexPHcq4J/rASwUnyieKq0qs/Xe/2o1Q88wrUHHRAJvLZAQfvoLWCRUguJit///////NExEgSMWa0AMPKlKLLGJHce3SECMeMP+1gqmkwkYjKqyroVSNivzYS1ERHVj8dg8mMzELeR5oOLNap95t73B/I5GEXYFnICku1fnJb6/hLWPI+jcXVllO1g9ekBQy1//NExFISCVasAMvMlKKiaYOAK+UyBooBjlWJ46ZHr44maITX0FOZ1QhodI/m1kciaW1cT1Ygx4iWNB+UQXHkks+0r//rX7WadBd3///1KoDlCq5zWyPDbwEBqBjxsbug//NExFwSiTqIANvQcFOXrfNUakokbysIm+8KJY1DECnzC0mPZBp7wDiOIAEJPBAhLAmsrFX//f//+RTav///VR+qwrwQZnc7lM1UikWLQCKNC5KseR8O6IyvIGWqkauP//NExGQRcT6MANvQcNnzXBedcVD74KoRVWj0BO6Ud9IIRBM3KLf8P2iTMFDCTn///////prGs2Eh7x3qMhNVnIgYMs1DP5PQHid1BoyEvjPR9+WxJegW5oHjGblA/Oxw//NExHERYU6kANLSlElkBaGjh8bZRrBVnCh7RXR///cuvtvLf/nEvXRV5XbsaTwlHDZAWBw3ctIU7FKTGYux81hQQ54Nfpb6f/n9R2kCNcPiruC1jFJUEQPPQjcbaADC//NExH4RyVqkANKOlOlSO7YlThGA6no///7y36//0d61hMWLkG+55ggGtchKjCgWHl/ggUTTNV4iX8ER279PFiZHiYj2goTv43MbihREsBVKOeeLBQnOFFHGSXluraOY//NExIkSYUqgANJOlNQSARV3///iv+iefxFcx7LKJaKsGMCUGpKySkMBha8k7O5RSC5rpXR0BPthjvlVrNmA9BUKMqhtYkQMtzQZcUc4SVXIDoXDhz8+UAYRD+U///5v//NExJISQUaMANvKcPlVvzIqBDLUEMNgJWUGBwCE8OBqyDEorMyBxf7WUnJNfUeHtd0FRynKDW2v3XcbP+ag9fBsb6v7YUgX6WFISAeErvLHhF+JswvbnlRV4gMnTikb//NExJwSoO6MANvScPjD7WeX/QQ5YzmO/7sUm4kySWTTdXnt1Inb1ZvJR//80Lyhi8SQwpFf/HLam0+GIssegWNLCnJsI8Qy5cYC7mTt1AMiEbNyOGBBtrafhQNy2rS5//NExKQguW6MAOYwlPhVXp/U7JF+CQnNQXF9xwsIUmbtgv+RV0G+/Qkocj5SJR76B6AzEYigSo+skHsJcUJOJRahjDYuCFufGsRSmEEVY1f/////21oZXdRvZao6IjqP//NExHQgIiqQAN5amPyYSaDYeEQmB8EgKWr+Txug7U5YOiVtVW7ksNPmWNLEhV+o2BzuV1hu6iEJ5jAW+xCh5Xhu19dp9FAYXO4EvdBdOoY+ydTt7MzQy/iZRm86y80v//NExEYXCV6oANYelBvSArdQHk3pLXt8m4DjaA8j2///8URVzoHsjQzsRqo4Acglzwan1DGH8LtA6yr9frPyrt5U8bwDkcpRH4WVwTqNBBLZMECdkEtJ6AtLWIO5e2EJ//NExDwRgVa4AJvWlfv0za2HDvS7AFznYgD80VOi/jlBCteFOgXabRHxjZbD9cYanjZY1bW67iw1fE+WdtZxzuDGnzSg6U7lyMsfRncwuCQujfeX7nU51X/3YP1daQ+t//NExEkSYVK8AMPSlbXW2qET61C7Fuo8WdSDmDQ2K+nKtaCuzqxiVjDlgcXKd+yv0Q4o9HtCFK5lYMP5LRzdKnMk4C1BMO9/v7iPn/fvksmyTJmAowEgMZ+TNlufD1Tn//NExFIReU7EAMPMlTKJ8aq4IIYKDQSExEMjMja1CgWBYgNASDoLHQUmOkMG2r3bn9yMKVpJZjlNt+fPV/5//PLrbnG0lxE9JKPKQmFGJzpvl3xoLBEWpGnytEFOElg4//NExF8RqV7IAU9IAUhxYQCwFrFFB6ilCcwwtEEtCm8IoCqEk2QuwWtTrLtAVjC2UPNSQ3jYbvQyCESHKLYXa8NzzvTkjhT7t3brlzLGnZVBspkNFNxOKTr+5XsL0jk7//NExGshqcawAZjAAL1XlBKpzkNUOHM////+fz///+ri/931t+r//0IhKg6pSDQI2CEMMMBX24caV+kSKMXAGHTkEglwBTHGCfEMCRkiDAN8P4UQNUYpJwggV5wiMFvA//NExDcdecK4AZh4AZcap04gsrcrH75ljIfGnYIjbMhSHMTWxLluRylfMDWn0Cxv/ttyrWq0aGwNze2M16Mj5kccW3v//+vt///EHRlCEHOb4g5tH0X9CjtM40YYao7R//NExBQW+XbEAY94APp3CxikEEUjK4RRxIloL2ZaCo8bxXkWfqyZROqZlvGVLjAtGfuPe0gQNUrXMqdnkjQYDO5Zm38agQo+JYNn25K1hYfQam+n0kaF0JASkcwsh4mS//NExAsUoXLEAY9gAFjdLKOMYUgt5Tp4/B6HloDmlstlqMnGINyWaJx7HyNWvHgpOstRIHOVuTkayCzqM8jZss7qdsCY621rbe7HRZO0WQff7Us8mhZwxQ+ScD0A3y6k//NExAsUKU7AAY94AOiFFEaBlD1J8l54F8WEkhSuOVqjsEt4MWkFXQ4q5vjWSWwKVelQue9hRU3M/tZmg4hb76LF1u0STHvvUla4rbeoIjfRd0UlIWYYmwMdWki2iVbf//NExA0UYXK4AZhgAT4qzLUeGLKXRJKKGThC509WvLXH73YY9662JcyPBcWOONgJKi6MTgPkYSSovfVUg6HmpypiZbbYp3+m3dNoa901gyOopZTGQxjBnKGj+jfKWxLJ//NExA4SIU60AdhIAY4wh5soDs0NLepabs/vPHF8nLZXm30MCAmCgBQTAOGRWiH1CGBtCXgfWK/I3e1uR87/qEoRXsGhoaVVp6UDmg5eY+ajSte6fHvbT+rZpDbXrorc//NExBgSKV6sAMPYlTcvB+Y3l3iL8b8umBlbVUy2Kx8K+YJK1g+QizZea4nd/pbrzNafM9SawTjutu5FISL7hxEsEFAUBy+wcs5aZi5nYeuTVybi3V5Nu7bl0s9Npa/K//NExCIR+WKkAMsSlc48wfnAWj6ahKPtAStEieKZipZGGUKTVRz/Jb8/9bJWORjG6a2LWSgiPBFRomMEmDDQgGEZpIILAxgoeouQAheUM4FpZKpOZJr7JYWH6Ik33pkl//NExC0RaOZ8ANsScPLgtNZsEThm0MehgdYb1QHnr/wM5n///0KKrBn+kLQANQxolvTjGxJeDQ6Ex1QRRkWIXHOlGH6aCcT0sJlY8RPa+7FbejBlGlFurUtpy/9I2Hkj//NExDoRaO6AANPScKAbq/KEws7/////XcZIBfB4I0AZJcWwSRjzrAKDabfxQdExGtP0aK66K7P5v5DexwxCOASCy70SyJ4xTGKY8fZA9iGf9973///2idykATGbv//9//NExEcR2VKkAMMMlAq5dZ4JkS2YHkKVZIQ/K5UymT1jvc4yYZMPnkKM8kiv4db51eveLpvJgjDJ24RtRyZhMWYeIPFAUrf//vsft//D5BvdMMCQQ///+urKZLAjEeao//NExFISkVKwAMvMlAvXKZQjyNHmnSUn2omKICv0wqOl2aoXVdP23WWhyC0d8EEn3THb8D2ZIhYSFlgqxuf/41Rrf/3c76xewnaa1YhYmCg+hCw9t7Ce48mzqL4+oLlD//NExFoRIWKwAMMMlBKEE6nnCl04vnDD9KRuwdgDV8fUfnZaVglc0fFzCkHCqEP0eh2nMdR1p4yjEB7P//6kI/oqxoEnT0Cl4VDQfEU8WpTjwL1wYBjW45nuVeyj2r00//NExGgSUWKsANMOlG21ra86sOACQaksvGz7MGKJVBc2sJGGiiUf/+2nP/9mH+vBW4h6tb/FpnAHHSz5dmIgkkOGgdrygstlQhQoiIiZFTUGpMMszZjNzkbYhGBCS6Sw//NExHERGVKwAMMMldlsRY4q5wwweFxIDB0pf+/2qysrQ6ZDC///9/+lhDPxmHDEwtgHgr+CAFMVAmuEoyEAIBxGTi4Wh4CSwqE8kvHqIllZyOr3VMkZ/DRppvGuqo9D//NExH8SMV6oAMpKlI4Dh6wtJR4RztUGCiR3yq0ks6fQaoYanm0wBi52dL6muDpihIbePFQgNbDBCGGCCcMYSAVxJo0X4tBNRvC7Gevpoh4co6iXNr/N/OsC5saldorV//NExIkSePKIANsYcNkhOMp+QIyoSJJk6B2EmB9nkQBoeNFq4gfP/+vj/X3/95vjcsePExubU+6f///rRREBAuxTagKFYeZHRTTTVYIMXkQwST0PzHICMQiAVCKpZGPo//NExJIbqY50ANvelA1xug8j4Al2sEynw0TfDULkB8mmUDN21ScTkp1c5EqiMygXLOc0pEiQI8UoKRKoguFSGIQbrCVB8ZEyKmJPE0m5dOstVf22bWcPm6Zw+W5Mos5i//NExHYfqZJoAOPilBL//Td9Zi9k0kfDBRjOOA0xjMwNyBATTKZKGgiZjHxhEEkQ0MLgE1olbkvMyhV6erXHZdp2m2f5wnShKsTXpfPZwo2FxGUDVHhR9Ncducm6Erqp//NExEoZuQpoAOYecLNFFIUbw/TlTtPdle5Mvf9zRYiSFAMZt////R/Xa8CIA0ATNGGBsqLBGTMxgJ+3NBxUynhrvI5IGohDCoopPISMhJmhwKYxH028mIrhmcwP0aiY//NExDYUiP50ANvYcMs6cTErL6MRPCgdlI7Ica9AVA/+0CB8FhMDgESqboIVIBLhhVEZ6EGCCQOFgglYsgOestkrXQF9gX3FpwWSpVYfVdIS1N0+1RZo9AzDsSplTqIs//NExDYSUQZ8ANsScCJNsYHhgXQEzGtTDqf+NcPHlVqqTlMPEgdiGi1wGYDLQSKmXikqJiR1CIlJKAwPwoH4Jz0z4n8qfLTA6oane/ZwLnrU2ElI7F8Wpky4pQAZTDJc//NExD8SiP50ANsScJV4gkGXf9aikNHUVVcmPxJxQWZrumzBJkRWQgJngqSAIjAVpF4RPGInKg6UIC840vVauruajz1d/toNLPReXlOMYXitMmS54BYEKcLX50I/9Yy4//NExEcSMQZoANsScCZVYkIuU3QPNC4QEnmApRf4xsQTBAIUo4i0dmsA/tjEvI7RHMTNnIlNemyWYREDGNrRKsoq0aK4kDtOJn1dH9VAxH/////9amsmHap0hAOsZzIs//NExFERWQZgANsKcGJHCzS+I0YMMZzSkm2NiAiYnItJ1wXg/M3MyyYiysIqWaPwnQLiDwwQit3+1yyo5eXp//7+/v+jXTBRsxnROuSzGQszE4M2LACTpFymfWPKwgPt//NExF4Q6QZcANpGcLkL28zTXRilO145tOQ77yt1tKqYRkOPAYXmXf0JuSu8XRtZ1f/xS7Pf2uoVKDczjlMszjPRk9WPFSMaiQg7HBgeEqEs2xDgcU+fbUlnI/8xnacc//NExG0RUPZYANpEcHVNZtEy/r+tHsmo6BHmSa6P03qchNmj92QWxftdE6gs56vb7Pb0KkazAQyPwF0xIFjcQsBzyFEQY5AZMGDJxZgJwuG4qygXg/A5ybpMy08glNZl//NExHoTSOpYANvEcMs0KyLYq1O8FBAJhOHTrVSOtCmr9dG5zv6Ix8suKMYEiZOK2WPTRqpTswOGD5Z/MPg4xPdDBwcJQYaNAKhQjEKipYAwhqgBG1G/PoqS3NCahQ3U//NExH8U4H5YAOYeSJe0PP171p0/k3UKoSLC328XRv6vyump+khR7aBH/yJZ1lGqBQvIQmesag8LTEq6NbAAwKCRgYJGgQKvM/RXG1p8kg1ijwDDVBYrEJHP4Z1c8b39//NExH4TcOZcAOPEcOfq7F7WmraKgqqn1vWohpeP7A9X/9yuq67ZvtRu/Ture4QMGu0NqGOCZkptjjJKpgcOg+Xzi0uruu/70BhoUXBDC4MhyE4QhPmnGYGTVPAdsEVu//NExIMUAOpYAOZEcEMiH4ZDesQDkUFGCK/Y4sfUN/e/3nGY8An8nOmhGgG9f3ZJ7n7oL////+nNOJwjc/iaI7mQcy9Cd94AVIlFnu6aE6EaPuL3iunpwg4upJ49ddVU//NExIYgqvp8AMvGucfqzAwVDgawbJ3ChGbmTpIhgCJDcRhis9LEowmiPSUPYk5GEj3Uh2U1pu9SV86mss9U1mORq5JZmkltetKOZZZWu/nreOeP50tHXU4FcwbMK/L///NExFYgSpKIAN4GuTMvK/37/3+fOl9KZXNc0WWGH7QymrOAoKBggoaqlqwbeHIx9y/UXz6bgv2qvL7Mt1PmDEQI4rQHXCUKa70AnatwXCQjJy5tLVCh4wA8gA3kEllF//NExCcbUiKMANYEmelFL78MTFmX56x3vdrG1arYY01St2fxv5V957T7VlIrutYNxDkdbTX6f/v//++68FYfD1+fqC9ZTpUR5rrt1/aeHtFVt37q20QeCAN+AQoFaiUh//NExAwUAUacAVpYALiY8KNW4m0eEcnZHMt3vzKqsVqxpNV4mABIPBKIRQsZd17HsupuEXvL9F0d+z/7+oj4rp+jZT6bq/+6v15DYKsL3fYS0cI8qN0d4Ac+CDWbiImf//NExA8Vmyq0AZlQAEPZzlf87+Q9ODAlPFxIpwsiYapcGhlKuZNoetDp7Hrr837p9HM9CiGWs7VP/7P26ueev9u//+mYnXRf/7t//RfmoeYpzpQq9REBpIjopmrI2d////NExAsUsyrIAYsoAP+v///////snyf+R1u7MphlzuScjuwsVnRFZSVmLVIm7FIIOA7kKYo6OGHQp5FIrqiGWdjaM7D3iDCQiIu2JHOpRgxRAfIYQRTZh/////////////NExAsVExq8AcEoAf//76NohHU5x5RU6Op2FRj0EzMR6OIKNQhA5QglYRECAjqwIQHKJi5WODKcEdlndk3DhGHiTjxQ4qEw8QTEVEmO4oEw8YPiIiNV5fv/9+YoRoHk//NExAkUaw7AAAhMubKRvX////////8///f/68+vl7eIPZltUufiRcOkYt23UrQyJjdWSacL8w+S/yqy26O+I1zTqW2ZB2tZzAGqnz67qNMf/uSqMHrejsE0PC+KSgBo//NExAoQiIK8AHjGSCHNE5YXcjBvIBmDwkEbhcQorv9i/9Q70vOmYarcCh6IgKdRLHuoeFaj26IpIjPNEWJQVDUhKiUJ1bGEFHbWLA4zYBLtykhLOUndlpEsGKbKOwew//NExBoSMV6sAMvQlHRZJg20swpgeum4EXG84/1v+n+J+K9H5Zek8tuB309YgGwwOTWeqnf//8meb9Q9zsOGdT48nLIJBjUvrFWs3SIfpCEAaCzUClWGsCx0nB8hmBRz//NExCQRUU6oAMwOlKodB+5b/KXT5ftkmxamRqNSeT1L5wdQLsXYp3///Zf65ZWtQqzDPhZUfWQZhHGIKHZoPCRn2JhprlcAFKKwgUAz8yOAVELEtQ7j1Zc1e2lrO1bH//NExDERQVqgANTOlHQvq2KBc0hq1R8MzRa+LZD///ronJ5lpoZOPKrvR80sSeeRgQ7DRR7a5IKi2nCWAxRo1IoDdIGQyfQGOUgmLNTzHU2dbXrFNWxnNjWwlxPjsIhk//NExD8SkVqYAN0KlKEiUF5D///6/uuFlZuOI7mMTYOG4YnSKseyeVCGhLeU4wDijlwrgaziYkcKyEpDIpEMII6QxiWlq631ahXGtvoGY1tWydsLFaB8YLWf//9VP6mm//NExEcRcUqYANzKlH9VWM2gggycVLY0EffOPkpsDq2BL6gAeJiGAWQeYZ4D9UqGgdYPcE7lsaa3lRquYdHOcRPhxoUKNFG20bTh14wYtR1n///b/roVpZ9rhv4Q0hco//NExFQSkVqYANzKlLAEGkEK19iNIYQDLqJNItaPyHuoZZAgp3pUASxzNwbKm1h/r41/Cm/hb+AfQfh8a4wHajZu/6PiLPO3f//9v6l9GwEgRMDyMwEA4qXcM5Ad8qoo//NExFwSMU6cANPKlAwiEj90WUbdQVk+D/L1BoikvKdycVdLRZKyPNu7OQ/p2fTjirzgGrTYJhVLDpD7Cv/////UXQqGndIQY5CAHjZwRwqBznNQ6YCEJcxtO/co0Jsi//NExGYSWPaMAOPYcAmtcPEd4hgLUjA45i+0ohyGNbBmUGGt1GCRYFAMnEAUTcBA7//o//+NV+uW0sDHtUtnfsLMh41InPBRVQQcCTOst5czKXJBynkOQ6GJjUbWnS3m//NExG8RwP6QANvScFt6IAIIjZM6adHM01u2MUz5gZdYfPXXqggYLn+jkMv////6aqsUBMUybhc6wYK7JzEIICmDHhgMTM+vBwQEDDmMIjlVwwFRJaAECUzTTRzWbivo//NExHsS0P6cANPYcFBUZwqKDAiEgHEAE9/VudikOMhc933wqzERg8nlxDW3LB3QxOHgKJjEEy8OKtLQrrrGH4y1YSFpyO7Zi8oVFdUiJD1XLsd//8K2+Ma+lH/myZAe//NExIIhmXqYANZYlEChcpHVlENkH44SsIZyihTPQCQyVbIEEVEswSmnUAweSttC5H1TRNt+VK1AEAzzEQqgRICBRAUeDhgESHCJrQh5HjhmFSGJW47Vl6wputMcCO0m//NExE4fiXagAM5elOJhOnWVaSPA726K4oetI5QVZonf7ZkZMdKMiE9Vcc2HjYucSZW4Nr///+4mpjP/9aqkhhAAzZuiP8DrBurWRddmA0RofTnDiuiIhymMpxPelW4r//NExCIXwXq0AVh4ANaiytO0H8gwC8K0do6k6hm4yfetb6e1tzvZYFpK3fZs6wnMsiWbZftszEcc31qJhsvAjV7yzyLAbKx43QoKYOAwh6CZhwsrYey7L6nkYEhSohJO//NExBYXeXbEAY94AJToUnz1JcSovxIjmdpw+lDFO8zRwqN8X5aQ6HeJEmco29zsUbNbXrl5WLM9YXkkaG9dMsGbeIUPOd01W0kL/dZNy79Dv///0yFqkRxZbZeI0Nhz//NExAsUOUK4AZh4AOsMvTZyVuWDeB/YzNQyEnweLOyPokdDTOFfRzdGpAxViZkJgPYE7je+sOo09KQnJxZaT1tjGL2mktn2tL3r6F8BcuN//9CUQAZUBNc370wNLp+L//NExA0UiRKcAdlgAOU3NSuA5NnB2Tw8jUag/lqHnJ3vvToHTs2PAJI6FaE5dSRMrKWZp0VLQ1m1o3XrgILFRiphsaVZeq17v/69DivNyqf/9NV+4SbO4sY7azFnRBfE//NExA0U8R6YAMsYcG4EaYGJGSuCWUlTSsruY7Z5z++tdldSGH+stCUQTM4NnVbCRx0+w4q82w4tm1pa340GsoIhpcUY5jQpcmj//SyvadX//6Rdmo+MWoV1EPHU6pnA//NExAwRERKsAMoQcJK0hwsSKUofjbP7MiX3uUrdpfKFMkG8KGxQG7jyKUUGKLzAolJcn4IXNKOJCqAgkoxv///f///61eW0JpRew7y4M1NJbiMGkHZTuVReVp8jh7z///NExBoReW60AMPOlBP768Dfgb2h+JV1AYynwIoPGEBsKER8UjMR8/HNdq6MstHLlXl4j///3s/W3WRAIjSkZDFbiE6RWyU96vFv4iyh2mB3O+hx+Leuq7H2xzMjMQwh//NExCcQoVK4AMMSlbmJ8nFZlcRVz8UZE+bvX9eGS9/3dyua2Y10bFq7JCXj/XBIltYADRi6d4L0TBneI2UgZxQlYECxADcUxEAgy0IBsNIxYmszfIUS7MCMMmUYZeze//NExDcQaPKwAMJSccVf/6GpeeVFRkktnoZNtlC0sEIC6pgjJIJymTsJFHYS6cniOa06ypsfpMDPQIzyapAB2L1CQ5RaDBTyxqMyjNWUSYkAgqXzy3z//9q7V/3nlqyV//NExEgR0UKYAMvMcYcdspAL3mjkjQ4GQJzPAIYNQrM6DVIXvYu2dLx5V5lpyQqAdIIHTVG1+SOXQ1b9/B26EPme592IRg4YjEITyUb9TuDOj/////yCmYKIdlqQSHCM//NExFMSaUaMANYEcHndMRtPBI458heDpptNBbGnRH0hQNdTtA06nh9IjNw3ahFW5YWJfdMy/389bdwZC30SEQRNPOEcUWwZJVXmiFImIskITQ9JtDwkAoTRciWNjDMQ//NExFwRWUakAM4GcXOmmvC1SjQ2+ZAD1uehyYxFZuHLHZZh+f7/96/8//e/792u2u2iOYY5AyXd/iOuGQZcSkM15ssKXrgz4iHcn0afjg4etVCGyaJkBxFo3D6D1DVA//NExGkSoVawAM4MlXBDmBKQ4w6dLTnD1eiaWPaGZtpmOzF6MgWFrlBjqwsUiLGJC9EMClr9/ZUM2/Y2nF7Y3P27YYa+3MvdFptTOBX3UutzaAp+pwlenDK3jsyufvfv//NExHERwVK0AMSOlfP8f1//zUbn3/5691ea9nAMmcXD47XzFueRuzX5qfwKhItk6j3StZcigBjtG+iNqEl8BkuSjOCRSEJPAvg7R5hniFIJP1f3i0zXO65//yqO96d5//NExH0SAWq4AMYMlE9MRUPAsr7KIFERMyC6FKa1+aq7MoE4q/5M6XRllzppXWc0RmMAOgNIS4SUbQrg7ShIMTEkIOYJWAZgAQO4/Vc+XMetpJb2rnG952syWVlShu54//NExIgRyVa8AMPKlUtxEGygLMudtM7LHsI04WmpjIQPGQt////sRZRwm4rYPARqkqQTD0uVqKwFzool9AiEsmi0hhaaj6pcNNFAP0KCeZSkenIE04ZfGtL7tmnxm9W8//NExJMWqWqwAMPSlLPfL+VvKnx3+s+Xd3ft2cMdU8Suz87SZYfe3Rdkl67U+JflO/f+ujhy8Uux6YRJi3IEIOElLJRxVAKHlkBUQWKNMpLgOiIhTBPLNsQUMBJi6Q4U//NExIsYcXaoAVjAAVml20xE4U6XLjZfIFVSKpygQ4CBaKf3bt4yiXYyq/G8qacp79blyYdqal0dtQa/lW1SZUUbxtQ9N2YdpLNLKso1HasmtSyejGc5jv////6uGP////NExHwhOcakAZnAAP/X6/+b+M//0jJUOaYwbzInFqT7gLsBh5lDirgWLMpkVKGBjfSQfKRwEoGNoB5MKhAUIz0kRDDDBhRgwgIlxJOVTggZ5q48s0CL1qOnnJRYivK3//NExEogSYKUAZnIAGrZv1qva+9SuLP1Wl0axlrlU1m/asRunoa8smIeqdhmWSmHZZV1Yp6W1e59XB2CvLhD/Nf///XVa8VIR8T5LfDRAhSB1gmimbCDoguMGADHhE4k//NExBsVuRp4Adp4AY2ClNm1ctmghCJ6iQRHMwgtNVCaAjIWhGE7FYo3rW2/bdfXG9Y3Lr23TF5cZi3rjcKNvn8GygtS0HLf4i1phEJHNwMVCGBzKYEGg6TVGjE4eXKp//NExBcTmQpkAOYGcJMkIQOVGlfPC+T6q0EImZrBCwoBdWQ2Kd/dS7s/h0s++s4dIKMEuwCAxAx9ywzTzX///RWnu3VVAo4F5s8FmMJRARQmMkxqKwm+MDM0MNEkCEUz//NExBsSUHpYAN4eSOup3m4nQQUlQEIdVdOmaSfpEjCLxFbJ8seCi2y6f6m+zRS91H71Norq57R922bVGBYYoFJ6gqGAQ0Zxmw8MTDgLMpBAiCIJArDTAQLXUqZibSWu//NExCQSiFpUAVwQAEDOSw6JSsIi8NAO35WiPcBnA1p0Vp7vUS/0+OexRL0tpk+3N/b0qgCGFBIjLmICAWGNBFNZWEE48v5LzLOZnmAuvVGCGQI2FOaDJbhwjnpEsSRT//NExCwdgxqMAZpoAT32TcuGYcaZLlo8vzU3U6DHTdlmBr/ZNB9Rstndkv+hqZN6DvTTup//1vQsmgfQZ2bMy4gXTQwQM///QtU7UGTWn1KNUnW8vp7zqtxMqcoXJAQV//NExAkQaK6cAdkYAFUYJCDSFOkEc3uWWXRbeNPYp+VOHP7pcdigjKaw56psLCh9kkTGEn/dSWT+j////jww9/ij6Eq/XYi0ow2IOBK2m6HpxpCHIBtbXm1OO9iSlshp//NExBoSqUaYANPEcOAxRGIHMDQVq6fqh32u9kVdXajmQzh1Vziypr//0qmEa/qVb/9X3sX0rnwB+hX67EqmjgjiDxx6AuwvNGM6UKB0+5tv7dJD/JJGh5qCaq0DJGSA//NExCIQuUqkANLElEx/z/L9lZxvHF1HVhc6f//d1d5jh2n+59P//3fsV/9P0dyiFGSpGeLHAXS9TOWN6ro9DUAhUIg1sLTy3f/2FlnVKJoPk0MT2A/fdEBy43kAI4QO//NExDIQ6G64AHvEKCYYKNKANhAH8Hx01rrLmhOXQkUrGAi0b/////UvbIZ8lU4oSQm6uhx3WrqhZCIpjRR2dUIxHH2JFyBiMolZzBwXIyNdFs7lIInNGIyi5x4BKX////NExEEPew7AABAKuf//8b/5+/zt7T14xvrRPaHfsXfzdjKlmL86278Tqd+3RxWf9TT5Z70xXhAqGUlHbKOorH5RZbawZcNZxSh/9a/dP6KGVtfJ6uXT///////7/3v+//NExFYP+xrEAAgMvW3sdWPSJP8iWTUuWVtY6w1wpGvBSrkKcByrrxlLk1mtJVXM16s8puqrqgVpqrVFYKAQu3DBCKxZ3vKzd+bzA4Y11yRouYHDqr/TH9Iws+VPYTLP//NExGkQowrEAAiGuTxUaIi1nLNPDLX71OWG9zSOGuRXUiInnmTo2s8EdQOkGIxhBGRHsNiLrAoh+4ZWO8c1AwRyzDDcl0EgOk/jeRsesKm8//Gf8V/zbQvQyinoXCPI//NExHkQIIK0AEjMSI6Z8S0XMOge9H///U5H0OVVs5XDhI96GTckpnbC81pt5n6okjQICLxKgLyBajIxBfzzlgWI2Om7bZx6HQfn5l1jupQUdgkoXxSCAPAAT4Q8c/////NExIsSCUqoAMvGlPWtt8lZ5TDZ5SKv29c0lJmrmM3lCaDFiVC1AAXSDlYDoAOCNBjxORiw1C2iWW1tU2lr6atpgy56hxNAFqtCHw3Ey7v////6lal+EEZIxRwwAgg5//NExJUQ8VaoANSGlC4FRxD20mEYeGRIxgQsA7ePv8GnSK0zGvzOJ5bku/t+2nbbttkeo7Eu+AzoJgoQah////q/ySmlsuEcSUudkgYNQzOhCKGtvI8BQ6W7bVIXEA1+//NExKQRUVagANTElCoK+BhGIKEy4KeNs3QGcXJUr/W+2n2z9W1zmyNQu++NcTjB6krL/////rOK5p9ToOnViQwgGi0CqzmHyRuOjLLJ8kO6+pDMGBQRR4RQDMS3J08r//NExLEQcUKYAN5KcBQ0fz9Xz9dG21MymhbJ1NF+lAo00JIley7///ot/GrV1i8Rw601QqPNtNsAPKFjkLQdSyJgRUL2FIdgBKQgxWAcMAKYrMiBT50t1Gm2mbaGh837//NExMISAU6YAN0OlNaG7i9ZfoDg+Erz6keIuWI3kXf////9SqW4lOF8o3SF8luPMSnBxz9PSBYK2YXehbTLAAarZnpM7olFpAJopZW61rcb5/8/6T/t8/Xeyv23tvYZ//NExM0RkUagANZOcFz98A6PEfvXMBSLiCWgiOcw8c///12MU6eh0ELJImSIXrlxCIHid+MGUS2JsYnSvj5VApaktMxevEEOBPJZetiGOcOa/fP1Rc+l79zvCfqs1D/A//NExNkSmV6oAM0QlP78oiDAa9AbbmPUIe2CicklFnltF///+3+t6O2XzDxcK0sxWvKNFBfGCgSWi9OlKPKhu+TDonoIUOfVakAs0i+wueBpQ6E7nYvfnPc1cv/nfylN//NExOEUKWKoAM4MlLXv6t6i1aBHCg83Sx/fLFFD65sU6uu6CSfQ/////piqoqAcDOKJyYKFWKLOVlZN5kADFkE0IKOfm8KWWMFKP3LrFHytp2qLT+YhHC8Hbr9g2x+c//NExOMWAWakANZWlB//Sd5x3iSewd3A8L9UG8ivlJH//+ihMHTWxKZ0efu////t9mjKuKEHhDKWdg0lThuZZgeGjgiOHh6zIJc8Fw4E21ILFe4k1Y42ThYxvjkR6nEd//NExN4V6WqsANYSlH2j5aMt6o/fd6TdA1emQB94uId6hs+Tt5gXfXBrUEnfJNqzt5Kif0AmR15ayZgJhIsAhFE0wkVbdxUhlhrb9lNE/iPrCLcoXqlO1yXRrOLkiUqr//NExNkWAXKoAM4SlJvQ6duZ2XNYvxWqMsWqjSYKCkRq0Ucjt5zz//5Yldo4VZ///6KbeIdQnliKngEZhp5tBLSjwNg5vme+ekpW28qyx2iPd6OxV0by5u2QCA6UbSCQ//NExNQUsV6oAMvWlRIIlccvLlOgc2G8RyXER2nP/OJB+/B8oCcEChc5///RlEXW4E5KEDIzBkczMBfZJQPFWWUIgGG09N4OXHY6CCOp1ZVFUdJjEUtqOSCorcrG91YQ//NExNQUsVKQANvMlJkRJQwMBEgV6VBIXKosSyZrIIlDlHOo1yHChUySQumPqsVz1aPfNcTVclYxMDeqmZhc9zR+Cn//44EQ4JCa+Lh4Pos/x0BiMoZCMQLlmGj9l4P4//NExNQTePqUANPYcMNHp1x0jkmXzsJ7KsyroVYYO80DO46+Wmj2fjz999YDDFsizcaEqDp9PVTb9otvUeg7kyzTqwmJo6yxdbVlDVrLMfakiPlXb//////18/VR6v////NExNkfqW6QAN4elPpqvZUp3klm0tgmZxl0TRHK/Orh+gnc1M8rcZXH0es/yh3gEyPrroJv7Ok2/CPH7LhHWcJegIMay6FI6jJ89pNvmTUTSsmvUb1f//3lZLuTb//d//NExK0W0iagANYamKqF1b9VuRz16sdwQIC91OyYwAdelhxLOhYUdXARNaNnusUjgLp66aAUdQiITTiFjXdWsCqVpNSRRwKNkoDDb5XnRUNgI0R///89d7lqomwDKCMU//NExKQUyWakANPalMnGhNNDJRYtsRISQZauxt4ghambAwDGspDh1k9JqKyNhgOXYlRz7eW6PLte2+thTl4fU4oIbJ2ZMDZ/9f///9v+lFWW0Y4DnJFI8EIIwyAbx4xQ//NExKMSWPKkANMScHVb3XayzeG2Bu7baRLrjoTtJKJbRE7SYBx5GRiddAYqslWbOcfrtm5CSh8gGpi8HNNf3f////8WLAgC8QIGkQ1sHGjSCzgQMYsqsAkaXzYOKGqr//NExKwSCPaMANvYcJgCCE53JfLlKFHGlK8QJIawhbjmUsTmxAEeGokSECohgEXo6SWXmpvdGIcpHImrliin5+3Dl7kNx+SyiktX9RCAcIF7h+eeeGqt23bpp3PKJRPk//NExLYSAP6UAVtIAKKfv/////Z/////715/5RD+oV9CP//8VpXVhdVaeo1Ip25sTZ8ZShRA7S+g+2WcvcV8qWBOtpbFtPl6eFQXE6B+0ZJYL+LSL6Rtxs4+r4rPHkke//NExMEhocaoAZnAAEesBu1u8lKZ3/vFqWzSl7R8JEVCu3j6yYZqwUKufluYsUuzETM/JRyNivPFhPKEfKwlmFQFhSIAueM5bexvqftrN162bN+3+q8uetu98uWr8/PT//NExI0TaV7AAc94AW7N/N1yY/QqHTlnUEIVE1wIeunJc7JkNGGLlLcpEpVKLv2DDoBWZAqycqexaNDBvUGRoCQTzCMAqVS5nSjBct/2TxKeu1pqCZRSxqUuxQymjllL//NExJIRsW7EAU9gAKf6JRKX0MscuvORuWROngeIVcq1umppnvZmtGpm5LrN+WSqilc7jjvn///Z1l////nY7/u9TvLglRzCAULyIGEACuQYNBRny9mWLcAIQrVB6KM8//NExJ4g6cq0AZjAAHfDMNxW8+ghAzpRRpstVsYqDAxCnbkiEuu9eoaraQxPRSklt+9ymwhjVFSR6ccXKOSTcQrV4jdu/fuQxqjsUkvrZX73Mt2aXLGk5fx+pT/ze/3///NExG0iEcaoAZjAAPf5zn//1MDDvWPJurY0QnlKet7da25Z/6Xw+tWGW6kb2uoDGzuHDkBTENUM061mahdBM3MpbKIv81fLTVgihPLOwmhEgmVSegQp90dn43sfpilx//NExDcRaP6wAdhIACmnlqOssYXe9kt///+ssoUoaJodpdWUE0VNZlU8JBUBykRZAIHgxXenJLnFtLKw3Flmlg0TjNFthM66SGSTSisVpA2EQ0FQP16SDY+qmjfd/0f1//NExEQRCP6kAMGScNXTGABQnBypbys3MNDxYoNESmtISZFQq7EcldQriSVerLKYOgdD6+6ST0FaJmkypBYFECj3ElGUDDg2wsGmRJGWf/uvX66F+UnE6oZUzms+jaQQ//NExFIRYQacAMpQcKYSADQD5kmiosUQ5bXU71BuzlntdpRBHTDQfJmFLhekjK8yAFD7RGbCDFOD5soLmgiw2xqf///+hdWwFGD4LJl9nmOXS1+MBvdoQqUIbQMtnK+x//NExF8RIPKoAMIScHk/vrN6YTHB8pAbaKAYYHHcS0DhMGnFi9P71xp8aLrc1BF0N3HwGa///43+AUWSi8NStMuBXrU0n4BkVQ7AgjyPIPg7zRVGkDOQQEi8QobC4PEy//NExG0RQW6wAMLQlABVCWbIw8WOzXLIrWlf/+5m5mequUr1UKBhm68QNwYqStqrLZlNkq10wkWNL4eyjnw3Er8clUov3o3HH8j0OSJ3CNCFTVB8DKGCM8RdVUyRHCYo//NExHsQwUq4AMJSlfNbtbl5///dx/37iphwpMqdFQgmLU5MoqlwozQQiECAszLzVngXx05uXlSFY8EFLaIcJ6CSWyeA5RMSCrNJAXCx3G11JNTUioqSKkPKqKrzxtf///NExIsR2TqsAMYScdfkmgptJoqGmCGHOmXDGdGjVARBDLAq5gaRvBRMlOUE1FA2TwIXchalCqCqQLQVkwuy1/Ow3T6w/t56Slucn8UjHn5ZG/98dqeftasBCO5ejdQO//NExJYSgTaQANPQcUMwAKiuJIZ+asYXMWlbdSx74aWGY6IElBkui1IO+rE5r6PvPWKfin9O0++XC08+/S3cyrUOenCgRxhmHmbV1xL9GC4XvnaRFeKCAIwZxFbgdM+w//NExJ8Q2O6IANYGcbUp0yCxHWH6AgBvl2AagrHiEOnsCau9fXtTG///tsySIqGszjCAYscnkOHMMLlDgB/F5sqJUQzIAwvN3WOVRw7VqdkqTccEZFXza/ZO6QJQ0CMi//NExK4RUTqgAM4GcZMWBk/9v6G/vn/n/4/vn6z8upz9CXmmFZQXb0heGAKC2YAgN4do6t5lTJQjyqdNnTdisHlh72UyHYKri6BkUgvATUxQCmEAi0CeS4HXDtvIWced//NExLsRoUqwAMPElT8sPU+vqfN6nULavqZqD8HhGu57YvCRc4QunmT2ratKn////sXVwujN48TsUHKw4gFhE1YuKK1VyASAOcjOc2l+m6gkUHu2DTpQoTA8qzAYwXor//NExMcR2Wq0AMYGlVsrblIvn86fWWMu1U3+61MTnsZQfOTOLum0xBGBMQQCT4ztARTIhSjGCjAbBWAsIqQ+cErff///0qc24yrlABMsPa2SKd6KESqRjItJU6CZPAvI//NExNIUSXaoAMTWlABr+o2AoLTUy1BmhDAHoTcC0EgjABOmkdOLSegt9sSrtHdw5lhljnvvLn8w39+tleyywrROOuC8VBKbWrHcpfZlMvxzlmE7P2oH1Wt77eQ93/////NExNMagY6gAM4SlOhrkhAA2xJNDTEhhkxcgVAhuDmMSFDBoCbaNgVAWIGHQ1QAjRWXkgIImLoEgMAPJ0unkjRpuiG/9ENRUsmX4qy+/MWYvP3a8/KOauWbFPqfiji8//NExLwa+YKkAVjAAKennJcy6/f+Xy5nWE3G4nKoxR01JFaekpKeH7Uaicy7NHY/Dv///nfw5o/+gn6iB/yBnV/+ihl5kSglNMCCACaBgqrCMaJ5cdC1qZiiEEN4xCEM//NExKMhYaakAZjAABtwgkGFYWhoWbCKQI5ZZ4DJllgt+WcktUOQHUUsnqGlytZyy/TVbkYsVKTmVa12UOdcp6TCedSksfSTkoi1yNdppPTWrUUnaN+LE/SSi1KIxF6b//NExHAhIcKoAZjAALl3///t2Od///7Zd/6W+kIfT//5ChIMW2EDIPFAiRunpDkoCTgITQmBhREuASizglEYxCLI0cvMqsFSJrIIUuF4qXpkMTq5KmBhWVStaa4oYg+n//NExD4hYcagAZnAALVumppRPclVuKdxp8L81NUkBOtKpdBOUEv5TRjOQSuf7ah6bsS2kxsyqmjUE3fqWJRep5yrV/P///pbmP6//+v0//t9P1/5ai+QgAVKnBYUQC1x//NExAsU8T6gAZh4ALRJLYuOgkSTUISuBSV+qQjZKFckSek5OlxSzIagNkXFYlD9JwwwFK5wdbpqrj/WLb6/mgMVNV8HVa6xr6/piFSFCo46AW4oP6JjRj9xgRIG0GNK//NExAoUMPJwAdpAAAIDlQchmIAyFoWGmWFlrUAMUpqatYjUuzs5YRq1qLAmIoKnB004aIsmqv8Nft69GjGFg+OFnlnIkjqLRZH/v//+zxZ8js+uMQ0erNeg7/i2bR1F//NExAwSYWJQAMsGlAs0upkK+nzzlMpd5CYj7nmnl2poFRdCltt0xK63d6a9sztshxSqoOZm1Xsb/z4fM1/Et0/9/23f1IyP//66POeNE1bYdRDBBUruyCWyiXU3mkbU//NExBUQUPJAANDGcEpCvl3Ah2cofkG7Zxmdsjk8dpdfdkT634Q1P3GulSP2aV/c5Z2hm+vsqoJGqilE7FDBEANYtayKRVUA61ATCY2cQwKLJnAETc5bm6XPfSNndpgW//NExCYQQCI8AVkYAFVJGvIW1+etfoNKgPeA1OXse33l1Rc8iy0Q6iwK+hKM3oS4Xcs850MAONP//0rkBn3A1I0EAoA4x+0KBgMUYAOQALBK7/gZQsA0QAGCBtg7Ff/H//NExDgbqxpUAZmgARmROE2MuRP//J8vm5QHMNBzPt/fy0mLnLxECfTkH////N2TL6ZfTTTTt/XV///6ZvTd0J43TrUP1x5NYj8kQn0Wnz3x3iUSKTW1y9q9bDsc1yzn//NExBwW0RKkAYx4AHF2JkoWNmQs+jjSqsm4qHjGxRinPWdzj4+/rd67/8S91SJRL2JJipQD7xhxUiGihb/R0jRXfz5/6HXDdTnl45UNpaScszMt7lFixNA6LQkSkZ0f//NExBMQYNakAcVgANBxEw+Nw8GIRLOLZagfaefcZ8sDwhyqVLEFaS+3+KsSJ7p7ZU046h+nT//p0q6FecR8m6GFGCrDVmUAKww1sEGFGGGNtJRKCHKcyeJH4drzYORF//NExCQSON6kAHpYcBxLRR51qzND7KLJn3AKlNrTZVbooYDVrU/ldVHU/0e7zH+jyVatQjOxeDikBS4zdAJgsAghJyK4UEOvq8KTM2U6nb+NSnC9qIRDBlabSUrzaNg4//NExC4RgVKwAMMKlBMPgcEYcGKIpn9bEPeyZiEGtE7P////6770iCEYHdVgS6GAIpEysOveCTCA5ZCxbz84wgrNCQoWiwwbyJWp7ByLv4D8MjFfJfP/+3t4x33wzzyq//NExDsRcUaoAMpMcBR/NvV///A9P/+is+OVB5pfBBrTYYCaal2JcDKC4iMxwduMiI9V0zcZ6FyD7Lm/EcSkAcmy5swiWH9P1ijKvXlD1ar9sszvmczrz+bk3h9ZkTeh//NExEgSGUawAMPYcfXdpeIHQfKeLwRaBBEi2s6YQZ7vRA1vBMkI1BDocIIshjlmHIq2JDn01eNqEkUOz6aR2gYnjEgiHbP/3t83Xh5OMKLYDDRn///0quVWqAGeFSgR//NExFISSUa4AMvMcLSXEOjAYLAeymFQIXp4XKziCI9iYZcJAok3yg0ZlDWt6pr/7x1+73/v94nqnQIiYBF0T6wln5bOgYOADMYQEOQWmrKN5k4w8DfgiBhwWXFuzHG3//NExFsSQVqwAM4GlZKSljWj3ATXcMNSZKnLcA+VAXEvqBnbmbea6/r/bf+PytMbNzZXXwz0yhWghRkBiShB0IoukpmYojnJQJhgMYaAFgPUxLKvcDR5M93H7fm1BXlT//NExGURYWKgANPElKN4sQfozBjQSVMDEzQmZ9jdc+usW3///3/tb1R+0rBhTgjYaeDP/////XUwwFGAEaEzm9YxoEMGADDxYmB06RgFBQK5EiqT3N1d6yq0s1ds1eYC//NExHISWU50ANvElKlyEfkiakrxg4oL02SamkXN9f//bst//+gDAoLfTGEYzohNQIAyKWEvPhYZw4/6/33gepKzgYiFlZYU/fAVcLJA3wGzj6TarDZHGO0gwpT9W2GJ//NExHsQQIZQAVswAAckR+IPJwn6lP/tFEFlmxqRcri5+/6vrjcE4BcwVJBCKGhBH///+ThoQwiBvNGJwwPEQ/1//XX/y+6JugeL58WM0L40xzDyNhoDSJtUcIERFWuW//NExI0gKypUAZuQAKSdNijdSaPOwimXxDKppJ7kYTgK9fFl2o0CloRWosC4nIHLJKmbakhBUeC7+jqCQb1YyaUZevMKhY8ygI45yTPNRWkotunyi7doSJ1FJzhOG/zr//NExF8iCxqkAYlIAS2pyRR8IZWSWrGEUbZbixCez809ggyDWb/OdtX7WvbaqX+5O55+mimK1WMC4B4QDFGLm2etWOdk3duyM/3YuarSh0hLUdyOQikKBRcYU2VpXdJX//NExCkRkXasAccoAEFlI40WUdGu2FCUrXkgywq5DVxbyrM7ahXg092BlZfYyONuMQDfhMoeKAI2oOBSpnQ8qwkg6L3AnIyIlj+xeWGkMzVuHZLXMqKvMiWOZWMS2JA9//NExDUfUiKcANMUmKN9ZYcDCpVEdWOAThfoMRDmBdjIwuJ4qHkcgFg0fASCEKiQALG5wliHnEZdaOv+c/v//9rWdihww+JUHBYYUST66fpQwOZ8ghWz86EppQWl9gsq//NExAoU6VqsAMvYlJ6ojrTCt4wHN4Cc313T9c17ert5U779u3k3xxR2oXAUqrGZ6LCQcxYJ7VhAD20NybbFhOj0uPexvUOH+Oy0favSRjz3//+okUDqr4Ss4oX/lBKW//NExAkT+V6sAMvWlBzGMbEX6Z85XoM9IKn4cf5XLe1LfTe2XwwQcMBaSvAgAjTlQuiqewa3Jh7PWSBk5xBrRu+DVu38/Vks6ioSTrWnnv///4iRxzZ+fuREevALLnIH//NExAwRYOqgAMsYcRVYpLYVrni0xc4BUVWo8hpbHAbXXDipUjl7pKL4++PQEg+bjdlwQicvPWnaCEWg13RX+FcCoqSMdCVVwiBBhFPINRZthkWGS3zV0th5iRuEdOhV//NExBkR8UZsANvScbhOX1y+LbrTdmK+pI7KWIj6QaBXyUCxpMhFLjWcUxZ16yyK/KUc/91vyt+ylio1FCkFIDoH6iREYlQAMBCigKdGLmFCYOCQwPaUtuL+GbaSuWVq//NExCQRSOZQANoScMmCxolUco3KWxvonsopuALCwrMKPEmFhE1qP9///93/9CoyKDS0ZggdnEnOgaw5l0NStwmdRZGsY89CpnGDJopjW9DknitiWfy3vuocyeXUx9B6//NExDESgPJAAOBMcLZSxGIVN5lhgdtWjGmwiKX+R1Hcutvue2s4B+BwaIA42OQAQMlDA0zmkATg+NMaBiUFjDpwwki+o4hwSrapiBvemgiipJlW9SnvWpyCiK51TURW//NExDoRMCY8AVsYAP3LaLkEOIvcltWqHShAOouxIlIyKND3ieTz/bkvP4VZuVj6OQaB0UXDTUO0vqEqCxJMcqkE8iGozFhLidjhSRMfuamCCY7zg/EsiYD0Nd/NDpcQ//NExEghOyqMAY9oAHUfTRJUvJ1/8vm60jRexk5utNTG6H/6aaSKlM9JG7oOcOnETEvolz//1oOikymOpNQQzV0EFqNmTL6TIGexWoDh3UwUuUNNOkrbV80cwR1/boHj//NExBYR0H6gAdkQAIagNabB30nlGlNJTS08EKAAEHyZcaKkUEgCRNJKu4Fv+Tq///00XQnxQvIz332oi3qVxmFpmO0hy+KMgN9GIg1KMCTIlIXyun1Xsko5DewHBJy3//NExCERmOqcANYKcOVMkd+07EC72H000XV2IIFwmxA4K1ntfXB4CAIX////v+iaf/1Kh6IqHGw/BBZ9SUAZ9e8UkEJMa4I2ETxaq8GBnDYXlPRygATlwryVENOOQBA5//NExC0SiO6cANPWcL98EBVoEJe4t2B8i4J8ab/basiXPEH////Sn710VZNIlODlSAmRGcDoSbKMCw254iOzOAmapFpQZLiYurMSA3pCqWuXlcO2BXJ5yUqhcVMYKasx//NExDUWmVqQANvWlDDG2bogewKj7qANH5Y75jlvtr/0TWrJNtg2uz///hI9/I6v/u0qYCocIRKas8pjMQl1BgemdCsnTFjARTEhTJ4yyuzfaqCNkkkQcRZJxHJ1MfQu//NExC0Xalp8AOREuRZE4y0SgqcHGtE+TiqK2qMTEppmqJkarTKzUH//3/v6+u6P///6rUyTPm/WqgqCny1/mshUCNI+jNwJZrpmILJQBtbHQcxoCgW07KDpUTxkzojs//NExCIZgVKMANvSlFG445ZE9E/hz/6/wz5zBhyVb2Fz+Y3UV5zwjNqLgm0wu3+u3BMVtwKEmAQ5S+z//qGAoNTUGKxAPEb72fW+IM+cDwPrjErVUMZgAc8OW2ALJy9L//NExA8VWVacANtWlA/BhAHW+uFOpw/C0qHcUKh+P6es271mJTUsTYgKw3+fsgjvsfyCggM4BuuCZyYJvVCgjJWO0vS7///QVPlnemC/+tzWhLGqs1nZNW8XRh6ATVba//NExAwSkVaoAMqWlA1H7FmqPkfIkhgNaj8tiu+Zq30HhdFCuSlB2Ba99bBsX9S+R1nWQJeTedg2D9ZLD0tSZBL3///8uY/Whv/6qrtRuYAsqbyikNAEr3CQCnxv4NRx//NExBQSMU6sANNSlM7ZZrS09A12qWZLckB2mw7AigCs6vKC49lrGYx0VNcnJc129TZcLkpCXIUILg1///////+msX3QM1YJj1KSEDAB5ArYWDpMFFDktLg2a5AVPIGW//NExB4SgUakANJScZQ2SURylmxnA+KYAiAwGhUBwNLjwpFR9Eqi1sUksfcfkr9s3kfFQmatDaUKZk/ZgS8blIlYEiYADdkC/gqLKpKUgCA1NNHROSzKJGMg9doYp7iF//NExCcRQOqIANsMcB1rWvv/za5LcEkUB1YUimjO187lgKWBd3///6f9yVVVHjBaMObnIKgcSd5mMDEAhMEhwwYD0MUVy+o4hxGTDLEoVhSotrexJG6vm1rDfKqvH7vL//NExDURuOJ4AOPMcFmvWECQUmdfb/u////1J/DT0YdSpM7/DRTkw1/M3KDBQ4wA1AxCpWw1XYDeWAwBcS5mMQo0lCr26HBcGZlgva//v3zW9/7WmywGiYYkW1lf9v////NExEEQ6Op0ANvMcP+wcn+Bgw9wNHQwNU1IEzb08Z0yJ04R5KwuxEXwNkcvn45iIPKo5EdYrZK53kFfFglWOQ94bB5FFGIFZ84XQRJugN8+H+gekhMi15FXs1LfS9Pa//NExFAVwNZ8ANMGcMou/+vlH5mcLvHHla9jQkYFIQq+mcigqDmor8ADBE1Bqq9sCzsjClC113gZuRKabj9Wh7hY/fvSv3o60OohS/9ac7sQ4MDH2dv//6F3/tA9jQ4D//NExEwSKUKEAN5EcDSRmGGbvBCwLUzeEEfDCXkkH1HgSVllxYbxG4m1KQo4uO+agj8v3edyWVqTFCzpxzU4mxXcWDQRZ/gMOKAwuc///9hRn6SSvQYBGuIqFKJMCCb1//NExFYSaNaMANYGcHgFTpMJngeGkXWZNKYW5wFmFKZhFwWrOBnN5Fq9yQibb7O2ZnX30DTLMkpyn91hcKw//////prqtx8x6qViNCPMWVHHIv4Mp4fgJieUpngQcmHF//NExF8Q0N6YANPMcLILaGyuEdDRPS4oYXdCC+MbehbUjIDY4sblATm6HQmB+4iT8vv/qb338vl59hy9dhz///9aP6P//rp9GGHJbhljbKRCcdA3cFJT7xavT02pjCvM//NExG4VIVKcANPWlGpRlhPZ0dIlTZaftAhHxbFR2UhiVCgsMuLg6mBFTRI2HaRWn5mb7vWplJnoKWpeJj2OESGUag0HDw4OFZJqiJxIoanJqxrWRgJxoGA8Hka1n8eR//NExGwS+VaoAVhgAWmtRyL1x6HwVNDbSYXG7rWW9YatFVaNq2q2FuRoqrFjtPWcHOf6A1qv4WeaWtJlbQWcQxUrzOchiONDKaVpMOUdWPU9iPR536e/qs4UXqT1rdaL//NExHMh0XKYAZrAAL5P7Uvnv9P0BKrt21iLDHzrv6v61aUYFFBm+AT0OhcFZrCwdaWAwl9erXb9mLQRLrbz4wTqkno4qoyHuCGpIfD8w024k1ZjehrtZnYZmByfK1fb//NExD4VwVKkAdl4AZmZHJmetcKTf3fdZYUm9bzmbvojLatIBwu08pHayw6g3cCDX8RoU1MHkW4hlA6NlyV5emJKq5wMqiOol4xfEKLoeRACQ3FpteqvQlrcZcUzEJEx//NExDoWgVqcAMvQlCONB5Adk0NkHtPTkWVbL+UxxhYitLEyC5lDf//8U/VoxLEDkEqoK3ohIDlUC/SfpwWEJDONtlqrTRTyqYnz59CV1lbFVumFkGQqDKwqJiJpZqmp//NExDMVMO6UAMPScE6fVJb4pksVWIUIhyn6AuZUKB0gAa0KXL39H+W/0f/39yVhOZNExPB82xWWEW7ebf6wTEcJkzMwiAACWeA2mNP2ZOL+Tav+yIjf+R1sq3c8ivZN//NExDEUIl6YAHhEuVFJkyIeQod0VkTo1TrqQR/PTa/23UYw3ahDAY7D7b1VMFdwZHoyt///n+Vf////////z/99ELIikS+gAF1fZCQ1TA2SJNAhG7vndTyhHxBAQogg//NExDMRyxKoABBGuMjeSmUiJfiO4s4RP0OaIxJvbBnDqgrO3///P/88r1HTdM8mWjueLmMOcagianyWhd1YsOGCQQjFgh3ks2LsezJjcuGhBSCSss+3ttTJsHxmY7Dh//NExD4R+xqwABAQvUXOIJHxEwS2Q60fT////////3P/u91t3QrW+1pR5Ul9yKRZ5xqVFOSPqMJIdf5SA56IS46j+/nBvcZl9DEBSSUiEsZVSCB00xpoYnADPizhBSQB//NExEkSqxqwABAMvS0yB///////52+fZZv7eP8bvnuNx7d6lJorJxV2ykfcnSj7gkV2ZlwebhJNGSs2VgcGsiURSJJpKIQlBpUvB9oGIOba0DXTNf////////////////NExFEROxq4AAgMvP/f/r42x4aox9+f405j4+1kaf71UeyiRR+bRZ9xZxhiaajD3d2TTRUh9fAw20V/UELP5ZWskhBEmVJZYePVn////l/////////////////75r5+//NExF8SUxK4AAgMuc+v9an/tr7/M+1dUnUdbdFizl8rLzMwrbvnGNNscbKJnWCI0tBmguYPg1RI9qZjyAikHtFlIH////////t//n/z9//j9y7507epsGDteavMIQms//NExGgSYx68AAhMvJE2Yk4isOUUWYhkS17t5GDZTTkiRS3Ak+ylDE0iiwxMSTgkPFUbvBcWci4P///////7ppRujbORBdiMQcZhxNSIKGc4iPmUhTkDiDY1I9zOICYC//NExHESOyK0AAgMvJg9KHBAOCAhco0XYcQeFQGEx0Rh0oQOLlEBgmOYrb/v/////7JJBEuY+yuqhHYWdsKwQ4ZHLVRjWdXQokLObcdDKR1KZ0sIHZxJC2LMcqoaQUsC//NExHsRaw64ABAKuRbbMFQCFKjVgH+IWdQ9CMY3PkCoDm0mLR8OaE7olGeDA+pQ3Z2f/6r+oKPFQEEhwGaFWETTQqZOpoay0VOiVh0thpCnoOrAw8qErZJuVY+QCybM//NExIgPExK4AAgEuUpoYKr1AAZDYz50oBGpig0AFCSvVA7065zK1xLQX6vNZzMGWr7TlYWLGZy8r9U1Lnvdjs/y9ftdrbA4MPJmHoHJyhW5qErpU0zQe5jH2Y4ZDxkH//NExJ4RcH6sAHpGSBBtBtn/I//+r//+haIhLhzJE4PPruMEBVTMsQYmPhCIGYFe4qWqoyUE3BIktRZEhHVhBAItmIkly24s0iTvS2Ge5cxqap93v1u9kSUb4sjoMeJA//NExKsY4UqUANYMlABJu0FlwkkgjnhFaRppVsU+SsZt/0qJDA8BEEZRg5CAMGiBhwaWxh7gCMAROwaIoxPEGLe0qkTEKxr9MmyaZjJDcpdeVQ/nS2+d/mOHO6z/WGUP//NExJoXKWKUANYMlROtkwVUP8iYRoCt5bxKIyiRpjQRUZbns/cQjEtcM85dcsI0mworVKFURphrPxZa74UBRrSpKCHqGkVVR9B7xEhAq2nIdF/JbMYVvy5rH7OeOe/y//NExJAVOU6YANYMld69l3Pp6fS+i63WBkyJ+Ia6zSZEHghcF4X4xFnrarzCjLLcoK2P4mSRHrJB060jdgQMT2V/TqHQ6wZaghJFBUhtG0JxocgmHPpe5pP9kj/sUewi//NExI4WGWKUANZMlUj5kVtMxIQHuv9w6sJLSJ6Hb5zUyM0PaxMWwUfSejAcIleXtCcHIEIzeJOhhImJVYEY9AajmjzrDZbMpgTCmvY4fvfM+87r//T/L7t4zYftjtR4//NExIgSAUagAM4GcYAj5XjxVqG0WkxYSp3xytWtESpy67gi6jsghVm6NwRfHjFHU9EkIcRxLkIIjiVlxhGpBNFXlV/pzC7n+H7/Hv6/Wf/+4nLdtePjv/rNqR9FwluF//NExJMTyVKYAM4MlXSPAjUyqioXOvRvaqV0jJQmhDAIBOZQhMJg8GkhSlEA0aKRwKqbxuoY+TqUja1KTkds8ecfCNUW6n/z8ubsflz//ertTeu9dcXEQ6LqjCRFEFEQ//NExJYTmWKYAM4MlXKETGD8U8zSanKd09wSIkVGA6btEjCcUwIGZxmI1TEQsGHNE8BqBWHWBexMAPkPRHiykS+VZnU9NlLqa+jO1avbavnRGFqsMeJPHHCYoQOxyBs4//NExJoT4V6UANYKlU9qqyo/nYNdMJOgMaGlUEAY530b1mxNLl+BgDXVVxCpVzXy+NiK2Y3FcamWHf7zHvc8f5/d+ujTOSZXuXvm1M+ZKEZYQZGEqZNEymIJhn5GIJjJ//NExJ0S0WKQAMzKlRwSPCotFlrgBcuBYVuUhKlKYTUhYBSaoho4d1ZVqjGrXfa0JRt3ZqU3u+W/G/FS3Z54oN2m350LGjFgTD8zIQjMHjMj6cWCvwXKQ0AuHk1sKKUR//NExKQSMWaQAM4GlTEBxXYSlZOYCYxYbLk49tuN1wvKgbc5Sz1ePWoRoDjzqJk8ZYdaREuuVEZtEnSO5hRkZyCGFCpMAw2glfN+ZqeqxmimEmMkuwuSFMSujb8Fli1g//NExK4QIHqEANPeScX1rC3/7ev/qySto+bfKyOX6S8zlaFE9PI1gUUGkC5LozlfGs4VSUILEsMOJH6g6MTCiPVAQsgVKgVbVKW6XYSCzhjCgqg+fWYOvoeCG1z9b3Ct//NExMAQsJ5wANPWTA7+3KbLeXz8Zr9iVRDxOhwHSXptUKOUsgqbkzKU+jpZMQ4MJJ9eDbCUSIZVRX1iSc+1/HKMO0N5yyebtbfP3Q6v9dy2nXk644y9/u/vp0BrVuU///NExNAQ2WZIANvElFbqpftbqJJ79YwZEW1lkTxpK8W0lsRPHVFfbKyAQpTX06P0Y1Y6sbVTUBXY6WqkzNqeWzGoVoruiooLwKf+Q2KN+KbboLkNhHf8Y6KKCvxYCsgr//NExN8REJoEAMDGTP/hNgsJ/zf//+R0L/xf8UVIOqjRAa2uhY78SJ8oWTCkNEpYPllUBAvBsQOJFCVDBWBhKCYeNAUGQaFhYHDRkYG1NLzM0uuU9WrXVffcqK3XLit8//NExO0VIIn0AHpGTdLizSky4ypojYZMmlhwVYBJqiYAgjGFpdHEzq1WApAG0F5LkTEkOLVI4SvkGf/d/f/PX2vY1zzbWNONGLqDZppb2nFDRUss1q6aEKZRTPASefRW//NExOsVeSXoAHiGcdP0u796/6qb2ua9z13HVSPNh1UGFTELpLxb2XYw1L4er3s6W5a34YwEZmNVomMeFJv2pHYTH6xrzXb75f9L/ar9JnX4bOWsNZmsP6Skf1Y0ZqsF//NExOgU4IncANJGTFVqAoBGqoAoBHqQE7epNS+xlI84alsaktJjX4TUmsNVRljiQzrKMxjIItYwTG/EHIdwOCBEk0zAAEJs5MBk9jGjLJ38cwgcHAgUDBMQBiJz4YKL//NExOcU6HHkAHmGSQ/WGEqcJMhc1VGc/E/5d8p5ys/04P/iA5L1FoFvIpClUsI1NLKRYaERFKb2nZJ4s7hgwUHsMMQgECoTaIg69TANGCIZWl8X33VM/p/6/RWLb+pl//NExOYZWxnkAMDGvc7tat3RUBkqC10eKmbAOwFwSdbRUN0OsYeh1nFfx3XNn5KHowWj6JzAcFarpUOmDKTBYRVbV1NTmKAwL7cPWu9HjaNW9Ht0OGnwwwy9rGKR3aS+//NExNMRmJngAMGMTJhRhz90fXQhGPB1lwdBWxSSdLmJVtFymbTwkxsLdK8s5zNN0vF0ah0aPZdSVSB0xZJyrUUihtGteHSZqUnJ4kbDpTR8rNCx1Vpi/hUA8YtQ+r8Z//NExN8QGI3kAHpETEqaLGpxpVJLt0lYjCCYoeiWTSLEsWcSg25BNzmWE1r6yjGGbY3qKdRWEfCDEoGVqJY7G7ghjUzZzS9JKO4l+ENffiIuSOiaOhEcU60lm9fM+OLd//NExPEkmxHQANMMud3PJ3FuHrkw9su3fC9/QO2xYioHKP4CDCQ2kJzWBLNlCsugbyiWVt0HN1Mo1zshsk3MspuWhY/xo543b3vC9/lf5VPJP2l/g56lNuG+yY5Nc1xz//NExLEcGnnkAMJGue805zfcZf+nnsb7rXOd8YdyAiBYNRIG46gIuGk4OIFCWiERmTJUVFTJgqtc0K13srnsUe+9vPEu3JK2oU+0DXliQCkQETCUiEjJ1aRdxJYCY5Ea//NExJMUMHHwAHpGSUeeTYbOfhoCSCYC2DgZFG2RSiI+Qspi1w0f2gYQIECBSiES4c837/XcQCGUHvUMc9onB9wPh/IAhD4Y/kLCCMoCCP+cOM2fl/5BJUbJyF/GK1k5//NExJURKEX0AGGGJDpYTmjJ5yUugmHR1nKvkZBl5RaNo1rJdvnfLInWYFYRK3CT1frnP+aNeSEoCCZaPcHQE0SqNFToaYVXjSJao0KmTodI1x5EyY1Kxz/5IqymtQsd//NExKMRsN34AHmGcEC7DyUiTvxRISIhEQOg6ICcw2yiQpJTq6uAwQJ0MjWWoZMrBQwIOhkahgdFRUVFRYPGgqKf1iniplwsLs//mjQMigkf//qF+LJMQU1FMy4xMDCq//NExK8WYRn4AHmMcKqqqqqqqqqqqqqqqqqqqqqqqqqqqqqqqqqqqqqqqqqqqqqqqqqqqqqqqqqqqqqqqqqqqqqqqqqqqqqqqqqqqqqqqqqqqqqqqqqqqqqqqqqqqqqq//NExKgSqQGoAEpGcKqqqqqqqqqqqqqqqqqqqqqqqqqqqqqqqqqqqqqqqqqqqqqqqqqqqqqqqqqqqqqqqqqqqqqqqqqqqqqqqqqqqqqqqqqqqqqqqqqqqqqqqqqqqqqq//NExAARYxX8AGBEuRYmIgN0IezIxI47mCeCL1m+0Obvy//6l+b/AqpRv///72+Rr9avb//5/3kk/O///eQhCEIQhznDgYGBgYGAAAAAAAAAEYU8GBDEIhDQUJue2k9L//NExA0QgEowAVsYAGmrZ0mWOv5fArDJQ+yt5/lL2Fxq5RIWoelZRNTpB0LO6b8WRb0rNGzljAs1fZ6IZx1tuBGrejFEiiO9yIf/3ZfCd/8/tUfNzA0BXwcwJjzxvUEx//NExB4Z0yqEAZhoAA7GomX0KakCAJgIyC3AsP/xzjDuioe//9iiS8nk48b//b8YQzY0QSQNFf///mBKJIGjJLMSooK///7/+aOmSZkXjqBfKZKDnNmVCo0f9/ylFxEi//NExAkUEV6oAckwAGyGcLgvMnI7+wZAgEAirf6gTA1yhQbU01Pm46tJr0nvdmQbL/jYy2zL339YgGwzDIHEBqfyjkOii+94gW/i7vt7r6Nmxwxi1SUSB0MWYz4+JnZN//NExAsSSXqwAUtAAEsLh5FzUmliALh0CINXQ7Y0YEy+4ycW+hrlqk3UY+JmaqY+qvb4SdI5oZMsUKAU8XLiSVPuUgSktnX7a9LFqhdH4Ow0BOgqGdwjJw7C5scc5FQZ//NExBQUCRbEAY94AWWKr9baWLRDBejhWbx4ijQtVnIul0mDre5+bvKbpRnjxIlK/P+b7vXO2NvbTit/07hA/nBirmP2k93guVWE3AXzhXQVcqSQ2GbpjtYtlDdPaClh//NExBYVoRq8Ac94ACjUJCn2MUNShONmG8dB3DzsSpCXrYo4aYeRHf7yBLjcGPd/DhZq+eNkdwcb5pmUgHoQJn1C4cBMQngTJhv///6F5NjEV71kQK2CtcoetQrBO5qE//NExBIWgXq4AMPMlBAmVthAuu2smDIT4sbWii9wlcjDdE1PMvwsJxvivormiCw1tDg1DaW5FIoBDJAI/ymaYYcfbXtR5PmT5aCrSPZIvhJX///66bsQqAPyGE2ZBklx//NExAsSOPawAHsecUsDBKUQgKlmTotaXi1pJPYFz3GWepOUknleJMWKGhqpbmaNmFaV7WFG3BttWvWxXTsTLHEhn76SdTeEmOdkszAJCrc96VYcd9k9GdPooINqQHnS//NExBUSWPaoAMMScGfnB51jh1+LsPOOwTSgwYIyeZRBDL1BWZWTQZlddscBhdLn4gcGGvJsahJ0ZdxZbLV/o/0V51LUD4nXpLOTrSjAFWplQXxiaUyxWEh+4TbfL1/a//NExB4QuP64AMPYcDsmoOFsRs2YgpY6XkiJll55z6rK1hVobieN5yR8TeQGgcQziB7VVOw7RoJSDQurNqrDY7VAX/BCHzGTafOnJSOVqomr2PKpoamG8K+o9HK54bn8//NExC4SOPq0AMMecGYmez6dnliu7QnOgceJACzHmw0WSDJtif//1f5LjmkM5kURwuibKYcFLYoctYA9p4Yr9FukPN6RvycTAPRbaTAGUPMwzZqdOcqyXOSklUyeuSuF//NExDgSOQKsANLYcHU9QWBsOnmnf//+O/Z//6cmvfYOCD28tiAZDh+8zEx4DltoS18CxatBS/wlvVtafli9B6LHD0JvRI0Sl/XJr5UcpUjMDtyu2e8j//+rU+5FFn9P//NExEIRCPKgANvWcHf1VbawZdM/pQICRRJUeZU0PlY2m/DWGDDec3Iv1Ld+oM0IlURDMItIXXR9HjBPEh05/////pwOLh8DtyJCizsvXD6mGLHKCjUNIKaguySFjaAy//NExFARAPagAVooABCI4DRVsasLqTcFQJbn8DYnWIRtDPuCWzRSZSNbv5qv//PJsn+3fw53////+//p9/+/Y//79OX31TINmHLOUyItB0Nuk3JGkVUSsWFxMNig3HYf//NExF8hqyqkAZpYAB0LjsZE0di4N7QPsr0DhocfUpmqbXoHPNHjQVj8SiWTzUPZOB2IwaIDCGOJMEOsUjps7Xdf/////////////mMeefrVlRWtU9SZnV1PJzxbNFk4//NExCsb8yq8AY1QAFcjJSkWxcUPFQsKhcZkDD8kH4zI3LiGYYlScf5x48IQvzwvDiuFkQRwnGkopFgqKwXCDUQGK5MQCEEGIVigZi4hHgqhNh9TQcHfnn2q/T7/+v77//NExA4U2wbAAccoAX//////11//3+dlG2KLIYzjHOY5CkQzHcSFjNIY4RQUExIWnIQeUgiLgyGMo0OqIMYQAwsJC7ACpCkOMDwMGDA6HR2IkRUg8HA4GnpsPpe50WeM//NExA0VgwKwAEDEuY2kWYfc3IyEGMe6IPLFjaZZ//ZEDjKn6f/WyPSsz/MVrGyl8owFzBjKxSlLUqsYxpqsGNYolt6K8tS06GmUTcoJyiUVAESVF43taPm7epL3wV5J//NExAoUmW6sAMsGlOXMoet/oBa+hLxAGQ6HwkRJj31mPrNHfl5wnHw/hJfxQOZ86fBF0G3Ax0TREIcWLIr8Td33f0TMICYXeCH//reC8g8lPijikur93DxqD8VOlY9T//NExAoUkWq0AMPMlASI1lSIWSrgEYc6sYduIY34umo3dbgC+01E9jWws+Awbtd9a9RZjMcmSs8LRshPKxLkJ3/5E1ibXdeycDDLkf/+lIuGXDEW+qrm8jiXL1kLevzS//NExAoRsW68AMPGlHvOSVFdmvMAw9xmVa0pz6zgzGa6LJc+4siFSu0Jrln16f4VaLEkLRoFjgaK7NCbO/PrLvDi+HM6/////6q3kOjETHOdQv8zeAFtI/N0A2hKYLAJ//NExBYSMRqwAMPYcTDqgpIl0Z+QVK1PhCcMquyzACnrggk2rpKezaz85fu5qusLvfW/1d2jz3k//0kZsnwKlr3lhJjHGr6N7Q5CnelfCSiAgHBp+/yiDIiNZpu8UvIu//NExCAROPawAMPYcM01G+AQFCgqEyL27zfd2Pct2U+WFnXXg4tZZDtwncfujLP//x/VpwTiGnaZEx5p1RNIGWx0MThOIqWxi8D82bjJLWTCM8oLdq1KWDurgvhfu6jm//NExC4SgWK0AM4OlH++nfm8KiVgvJOBgSsgPHrqdUm2+fQgbHzqk5DKhVmEOZqoFwPxio6rRlKQ1EtpwsVt6dqlv+qT7UXlB+mwtm7KCZlnbJ3yygyZ18P8+S4yoowa//NExDcSOV6wAMYUlVoIi0XDPMyrVJNNC+KcevKnYscFgzlCi90hFpdJbt7fRkZDYrkooG9fEuweuSU99ZdqUJvwdSuU4v4P7Z7JJ77uH/e+cVkA1QZkAQDVLlacvqZ0//NExEERwVK0AM4KlRUyEFk6vfjwoXOkEIgCwaXzfpoDw1ULDDGJHKTwyl7FHgWdKp8va0l8i9yA56kExeqLWqqGoY4UokT+wVagoeoqCoOX/NVKfqsAgIOhRf5VwZ+I//NExE0SSUKgANYGcYsOqZVSJ3mAIYcHw0vomDKdwWaXppbUUrJkwJUfAiVjgyJ5/jNv//8s632p+8nuN+1jehUTrmScGjJV/pYj////Z+9Kq+pUH3xQBOisk0UFg8vO//NExFYRqPaMAN4ScGQl4QRuBFHErqNF6IVoeQ1yqjaoGpvC4AdumjMP6SKy7xCSpIvI8aRUBgFimgvPCTl8/kJC////9NWreWWfcDLjg4ZIx7nc9aZsyACoKMBcCRnt//NExGISCPKQAN4QcFQRvcSgBpkh3mkoMOrWlUglD4Cc1CHWAo0+6ZpbaUMxjcpm5v3qgm6Y6HMtwjiR1jYxJ61MJavsmeX/aH+y/rm+OXEWssNxhU////tNAgUOEROx//NExGwdiV6MAN4YlE0g4FGf1rvi68mqfKNoYH3tA8YNeFEEwEib8dBDGfgzAIhu2DkK/VHAcoRuPGOEgybGl1nBQJtcpZKMaRGrJ3kdYXpSVF7VR4/ZpbUI7EW6Xq6W//NExEgg8l6IAN4UuKxTUeQHSD8F/9/f/MkTKQklQvGhNFhCICYTEIgVupRv/////8/Q840hLu7UOc45XQiDE2BP9lzz8XE8Xr/IfOphcunFR4tYbQVAmxSkUmLtjUJr//NExBcX+VqcANPWlLO04YzAI643Rbhp+aaxInCEwGAXXL5gENrz1Ys9XuuA1YaEk6woAJNDQyEF/7zvsri+0y24Tbarijv//0REXI+LPN//sR3rW1GOw4IxM7lmelRs//NExAoUwPqQANvecGVtFdchIIgAVARCrFC+c2MINFV4mx1Oa/DcUgxS3V8RPIcLcZV/qNdicnsF8/u9e5VzUvK5lWEMWpFdZTUeoSqeHZ3///Xu+6pxV9AwlAfqnCju//NExAoSWP6MANvecGOHREFIvhiK5zDALi1GM8epVOQ/VazqByZ1wm0MVqHNmm6TMK9qzz6nnxEgZeN13i65uo4iz0qy2mqHzX7voQqJKKmdWmyGpDmjphDkKBjFFWTp//NExBMRePqQANMScBaBwYnhUHpKQiSqFo+8pPT9aSAkMx7XQGKWqMZZmxzJNYk31kax0RcsE1YOJEPpfPunF+voehacIXbD2mUiE6HjBNCsAgHL9BxAgGCcGwKSnAgC//NExCAaQWqYAMvSlATAJ6TsR9RiPhQw4AMoHJ6P+VniZtlumkr8+kPz9oPNNViByUEcFIRJ0xW9fLXnTCgYQI5oyDqMIIiQYon//9N6ERigE6//4+nb4Dxn2LaLjfdV//NExAoTmVasAVhoAK4i4YZC4S4qXjWV8p9QEzZ7G0ZOlfKBwCxV6BFAHUFMSRJG67KraulVpUdrVspKpE46zI2PJGdbIHTpxmNTxmYhA6bxikeAVNBo1GLzll0AhdRU//NExA4UwWKsAZiYAIhsXyELSBIZMOeoGEdGkgGhF4DiANYAbCG0BfoISiPSBIvIubpsUEns9l9rv9kTNT9E18yNnNE0TdCfdJBBqjEmxD+b65S1kDoZSbGNeWAW8qkX//NExA4SoUqkAdg4AME5RzCZA98iIKLRoSpJToIxOmRhU5EaeWIh4qE7DWydbP+5y1v1/NsSEymkp0VlipI4sUBprraf///6VqqTx4z/d4G8FmP0Jnh4L3buM3B5iGJk//NExBYRkUKgAMZEcQ7B0JocolUHhDABngFAL7Ru1D0vlNJZs5l6rK1eyLtRL0TvRwjsd7RJAZSybj3312qHZUaK0kCFzBsgQMCggYgEa4sCBBJsO0BYZW50U5UsgYMz//NExCISATqUANYGcS11rqhuhhmXxmUWM8PnzYlkbMyWRyJbDOh8xji1GbP1IMEowX+dcZih4S41lC5Q1NFPtnAdkhS+HuRRFPV0jHSGqw9QjApZzDWcHFAOCJf+va+///NExC0SEQqIANPMcPO/Gy3Qc0hhrwSQYB2SmUXJFfIIgK////9/xWqSIdQZjmOhKEoUYmuLYMTHVYEJwYBx1LHkVbqArnA3lpnJiKmifOR7JH9es2P8r3ZzlBK5o0Dx//NExDcRkPKMANvScHJDJgjIgyHGf3////Vb+qq1D5gEKdCJqdAUENABIJBAwJEmIjBFTJU5KBEWMiCO6YlFixVHxKaxrphK4Sn2a8vctSjib5iE0mF2URblDTfpR/////NExEMR2PqMANsScPsFX/0VirVCF1BZEmGSARmgO8Be4MQZiJCrzCOJku/ZKuCjsrlBpmVGoW6Vc0n5F09lnlG7qChdADwyF1XuCZb+x/6v//rt+kwxSpt2gQfPtQIg//NExE4RWPaQANvScKjMI1wQodNAEg/FiSeayEo7wsmFHlfPGd2vbjWRR6A4Aw2mFyfo28qFVCHQG34Kzeuc+GPJghB8+X///2yGnwPVs7mAr/CtIfEUH6AqjmWpq3lh//NExFsSCPacANMScCo6lWk1UeydVyz1Fxe5k5BQ0dgM/5l+zmR1bIFNHE0tf/t5y///UNUKykCKf///P///1NTS1i9RisVBZIBgOG9dEsM4za9+uqDpb3R1j9M/MBlF//NExGURuVawAMsMlDVA+x0uoQgTs8uD/dYv2ItsDzQHQL40f/4m//TazGUVHsDL///9KXX///v+qpXKmUmyzb4Q+KkA0FprXQUCKFQNiLXQdG9kICyzS8MpsNLctLrT//NExHESoVaoANMQlJFXvZ7XKy0qs0dU86Fh6ytWgI9q4NKBqSv///1Qab9VNbNgs+JrIdNq8VePgTB3/ApgGEcfBVLHYRMmjEEZmsn6eeUShms73yV34ln1fKRJ7wPN//NExHkRmO6YANsYcM0YQNkQmcbPh3//a7//0It9SHoVij1lQFGBYEYEBTYVDzLAEYhEpCPF9LxG4+sWD9hxlIdcOzezNkRum/mfW4UrhlRZKthWWWbAoNUWpvZd//y7//NExIURUO6MANvScNv/65Wj55SLPGQjpzq+BpVfBkRUJK7RQsMJimCgCjLnRSkzTisWzSiQqMTfFZmXWr7r+H2dV5y87QoE0IyakUE6mti//7ltT//rcHlWHLYeGWIu//NExJIRePaQAOPWcKiO+ZJisHIzVoQ7eQAjNwzfpUByKiclmGGovwnGQWAnYvEKIC1gAM4QGcNNTq5haWCJ4O3r6JSlpcekmMysefBlcL01/7+yVrkI1TocX3lHmYQC//NExJ8SeOqMANvScGJCokJksdqXX/9f/qzrVmZvRVVR+d4nJqqKjUVoxiwa9qcXx/pFiMPFkTpkJpscNMQAhCGAAwOPN3SEKUdFKb0nMJXlegQOVbWERCLNZLUyUfJj//NExKgeor6EANPKuaBmN/NMgu8qdy+g/G/Z/Oe3cnu3L7ShgWRnbVbzOt2+j8zlqHFavlhWYFlc4shzb//7YUCHXQ0wPB5n9q6VlEfHIDmndiJkbz1vya0IFBU4HFCY//NExIAaoVqQAN4YlP60dJLc8XXnM1N3luPiDwyGLm9q34mr/uFrXKfHWEm/VN+A7LzReSgQMEgSzVey/M95706TG8tVHtaEFaX///7BX+KKrUpCATrxpqpEBMpoGuUy//NExGgWGVqgAM4WlGbGCQH6yFLsKAWmxzNYjgRaJB1OmAfDwSx/HReS9bTOrHI6U9yZy0ggDFgTvDZ/3+1n/b2p9Eue2p8pzlCRge6YQ6rNoQKJtYcUxabZrE0hSi1n//NExGISeVqwAMsMlXNj1o9EtpKqKYrCojJTI9CcPGjCgEKJwxyjGr69rd2K6o8LuPk3Bgvh/BCt+XD7ZCpiC8TyFbJD+zE45yiiZT2EKGMonNojH7DkUW/mvt/9eLLE//NExGsVaVqwAMJElGEJya3zmYrzAfzl35twNmfESWgakgEgpBuLyMaB0nCQMjwuKJmmCAMCyjOEWDr7zVGVEDok7GkCrfIF4CfD5SNKpjTBQG1OgWdQogmiFDArbRsU//NExGggCw6oAHhSubEENiulPCfVNdJiCPCR7y85qK4g+MaBh9URG0f/////////t9ZCbuUUkKfuMK4wH7cPzaRGSQ3I82dsWRzUhCC7RLImZgzT9RGses5d6A1gaxuD//NExDoYsx64AAiSvNFKUCsWDPitTCNpZdCpauFVsd9R0ljz7ZWMNJVEeoquWprwhOa8JzUx//n5FaSsbKLMQSaAOYJK2jFA7CXEIhJ4IKuMhXNgR9G5kZkyIQPVGScN//NExCoOUnrMAAAGubEbcwAg+rwTzB9YDsRTttX/////v/5TIP///7Sz/KeZmaxOh8M7t8zl0rT+q7hp268NMwTRbDZh3yu2500bv6z5mNeM37RZTRPtKX0fCaYdN67P//NExEMRKorMAABMudhC/5///p//fn9dpbWTOMZSueXDa0hPhiEG7MJInUjjO5KJjKKUiOZrqvwdPITB1VVZ6vD1on8EZEbc2OBiqrBTPnFTucC5f/e88NeMETNuM8HO//NExFESAqbEAAiGuYNXrhUZ3+dCNv1/yEZTooDhxm1Wvm5lz5wAALCmSbmzWKbNBz4nXa2CrkQVKgriwVJWtcWjjYdPFSMl/U+SRyXK41U53qaUiOlpzgu2PJXvu/cZ//NExFwSOV60AHlGlHpHqzbJms9m+cXWLJKHcL6eJMm+6r8+pYG+r/8xvVBrPbEfrueu3uXkUNtPVr4efMr///6bv6nm5QficImxi8WHsTotJIe4dnSSoj/rNMvtWWZ7//NExGYScWqsAMtelDnEZUsSUVkiRDkm3Ed6qmv3U/zbEEhMfC6QfxE/gtOtmtix6O/iLyrv//rqh1Wty2c8BR7GD5FD1HjFj7/K3bC88xP5Ry6fqIOZNOG84IEemYHB//NExG8SUWKsAMtelHDH325b+E/vpKP+yZkIE5+Ejtbha+WLUMvqryxHHujFq7//+uTVx7iLoaLpALKI96ZChKd+52gFdowHaDfGBegt4za4pqEschmFCdBEHNWObzi+//NExHgSkWKoANNelFQg/LnYjCD2jbfFcjzemMpw+Xwtf///W5b/qc90xGTsWmGjT7ccEReTd19Y0VEQ/WhlT0ydmOdNE4gLx9BGmSDIz01Jgw83BO2El9JAnVBVfH6l//NExIAR8WKoANKWlOqys2WuD7Bb///JX////Qqlnh0sf0eWBASEn1ASRwJGfMvKo0Atvp5n5Nc2cb5WTQ6EYGwhgIn0q6qutdE8sHUCXxdwKuPUL91/9eMSKpzN01ir//NExIsR2WKoANNWlD9DzLlkyLIbMzxqWe19MU24WiN+jG4swqUurEJ+zjjqm5/5d//10/UpcwEDdjOXq6shgYkNFt3//0M/oPZICgXhSe5Uj+KgLJiwFnVVQIsCQkkY//NExJYTcPKgAMmQcB1BqspwhuZqf36a9/8okuPRJaD8exAN6NJfzBaLoLUqh/3prN3Y0T/spBBd01m5qiZlz/lxlugfMzdZuaDILB5g7BBx+AMP/9OgXEDTemaEwS8L//NExJsQWPZ4AVkQAMByB0Am4K+JWO4kUwWj//1m63lhfc3umm+JQSgVchkiE/AZhYJsNAFEFuHMHOoWiCxm50bJ/yEvv////+a6/n////+P//69n8RPexpomfXpaGHX//NExKwhmyqIAZhoAJdnTE+w/ZicMzhAD4jRNYZh4RHs0JYLlzSYwRUieUm5DIy42VWRIV557x4HSaZwknUDYdpqSiEbJ0dR4jEOQpKaQZOIJMtK2GheZDuLSpUlk9pu//NExHgfuxqwAcJYAfhR5qXljCEEZfrtDURNZshiQmpCR/5aAzP72/+Y4x/v///eP+3aymkRaZiB6l6dVQ8TTXFuYy4r5SZSXjnWVppblyp6a5Rck5VVNHFF4bubmY7m//NExEwXSva8ABhMuVO+s3JOVr4c2qyqpyLYKSFNqgfmdy4zOIrbhhaSRC9QZ6gxALpo77JLDYfsgV+ORmnXyblahEt7/7/3ksGEYICMMoCEFmuSdMFRilpEoibAK2oF//NExEET0ZK0ABmGlFNbkIMNW7SIrIUNUZ4GamE153pkuMeXSCacnilMzhYUSHkk7jbTKRIGIMzeCiJyYm6BKZSWoW2f59LsM5mFCBl4zC4SiCYSEioZQZZT/6vuimvf//NExEQQwaK0ABmGlMFGAzFK+btu/S0zKBEuZvRHYICIYJCwSHHfVtuKIvICBAXLiNt8bX8104xfsOxG15icLxn62Ii5lRZ44WH//9C6P9FN5uSBWCzLdxOSXcj6JcLa//NExFQRKO60AMMScOxEmLZdhKxYRpHjXR6T6uc8WCGAAYqwA4LGYsdVIczG+MGsw1jrEO/I4yLvW9dUobEZ2v//+hX774mP49WaYYqKZhgqlSAjdPApzbc2MsO2onqN//NExGIRURq8AMPQcI8hKWmRQp6iZMIuXYxNTh0/NGLq7FbI8NkNFQlMcC0ihpB1Q/OXv9W6/nEo5Y9jkfPIWRJrTYXXnoykgXbjgUHoSGfxEMDY/snZ/FQvwYcCQCDy//NExG8SIXKsAMPOlGRtyQOt/fc575eUesNEQ1BFo7HVwjn4rf///+QVQv3HAxQ9i3whU/ljoI+zfCsRErcelS+T3YdVjtzL2PxjEmbOpaOYL8vbKoVM4TrmSu5L4+Pq//NExHkQ6OakAMMScAtjPtua2e0aJ8/fvqO/IONwwwUq3qZHZkTbVKy9T2EBBSTNrPgDSVrKCkxhrGlvD4UPyyhYU4UpzeKe5iWgmfE3hIaxU2Dh0HwHLcX9tS/bQtNK//NExIgSERqwAMYecHObH9///+v9SUdpiNSnKgspxWmLXzmogDm2eyRsvNaT5vbeOlyxpm97KyEcC5ytLd7akoe3P6SV4QQENOD75YCYEaQc338G/H6TW/7m8Bq9EGQD//NExJIRgW60AMPOlGCv6XMRVuU+08xDXIfWVPs41q06TTu339s2qWdiiKgBQELGCkBSguGQsXPSOhZ9bGSrM0SYZIQyWJmtaafS7+PZW/IKEdgLfEhgX0DEzKkbeBkV//NExJ8R8Vq0AM4QlZnIJNAxjuzUPyLKrDoHY0nkINxyoD2O4sN1iImqubHqjkPCxveN4OwH4J8ubEzkslcm7zyqbU6//1nwTzd7HwgmqeW///p5Mo/XRuSSBeumQB4z//NExKoSAP6oAVlIAVv///74qq8++2G76Pr9LMlqf/////X//L7/99cvQk+cPrwmltyPmX5pFv6hwEsit0Zpw5hZrW4TzTsc1al+PzVX/iVWxJMy72CsSHzoGgMDZoAB//NExLUhQyKUAZlYAciHk6/lREXedn08n+UhY2Ts/j5xZ8kdKCJ/bwNz1ksOQ1Kk/d/1XhRlfTWHnVTqOAOBaaXAkmduLzbthYqBzzAltfby/1IfD5LNZ4QR39PVf3cg//NExIMWmR6cAdpgAB59y/9Oi+9uEtBKJQ9KmYP29k2vO3ynTfhO4DaVT3H0ezKMKOKwmRKBaD6KJGWYDCC/KQYkzIegiDdAuH6n/////6uymNDY6m7a61epa3q/V/tV//NExHsh2t6MAN4auUFIqeicS4CSIQAo2wqGb7TDVZRJCJDpCZ8NPu2QwxKGhGepG9q2D4JNH2fNfAj4hubL4aYcr3tui/AVhfB2klNMCfEcFuNA0V08ZHiXU6FnC4Na//NExEYdiWKUANvelLlNs3DfJy3rpcvYcsWkViVy8pUOTT1PK1kdPgoHHf//coF0CzEWslP/qYqtoo9KjdW1LxAYPpNKFLfiNuZgG4gMLFk1QQRO8KgGAK0D4BhMRopS//NExCIVWVqYANJSlECqepsunHMkWVFRZCAYDwDGyxrURtdgwgHjAiDSJ9IY/LyUv7yVu9uWRLs4SEr///+d/Sp1EAhhTodaAiwmDSEz8GBQeYeKgANRFYir+ljjSXth//NExB8R2PKMAVtIAIfx3ohFZi9L4zEyE5W9KCSUl2Mgk0ndfWp/yMBobH2k9GTX8V////1VKqwHJySA44goL1MyRBRgSplAw0I8zxx/o8mG+6ljdx3qLgr5fJgBQEGF//NExCocUcacAZqAANKzTQrjOE4PYaoGgN8AIW7qNCKHlIlsAoFgIcMoRAvpNyqUU2x9CkBwDjJgnP77tTK5gThF1GBv//+bu7xTqz5n40A///+H1SBC6K8/yBktZCxM//NExAsTgXLMAY9gAMaLYfozzbTpzGSPowOIBLqemQlNn6s+OXmBOAyVj4UklT/dhNrkbynIeavN3O7a1vnVgfetX5/urOd3bX52tYnj3+nKJLZGGFEZlS2qOIhvTiiP//NExBARYQbEAc94AYIShpP5llmSEd4ldHOysLMvKtYI5RJ2NZyxB1Nu+rxveubfXhbvFlfZgB1aM77Y8EBEwlMZpXjAKTsNmGf6xFPucsVDeZCoexBxQCVKwzpl5d7B//NExB0RYW7AAU9YASGCw8FQGzYEM+IzlD7j+vzyyo45rWzW5PtMuZRfN7e/ZJzv2a0rY7WlFRAwiAtD8cGjIxxDO/I1dJHMDLtXEXmvoaElcB/AaohIsISkHMQERwEg//NExCobiXq0AZh4AECqkC9jdYjvEQDrOqNqsXCucoL16paQZH+IT5Rv7wnzNarc+bVI1QnXmi5gQn/uwwnz99F1HfNbBCye4UdpAP9X1nfKqiQBqxdhCCRl3Uh5Iwle//NExA4T8XbEAY9gADk4YkPIVsnwAhBEdCXJwtA6JInjKyCTB9Ft1xaEVhjuvOzk8utNa/RylX9lpu9rWamWov76dnd2y1fp3LPWMu0+OgzQpgJgSErhxHGN4l6Gn+nC//NExBEWmV68AY94AEJMBvj1nWborxzlwLwi0LQaHVMkvQ8FalDDS6sUx8HFEhVtFhfer3jb3PnEeJNCi5fx6Xn3mLJTEXV7VtGiXvq94mll0izNCOKVAfwPokgFMR4U//NExAkTcQ68AY9gAIUg5S2HNEWDwHqH4k1YhwqA8VQ2EuyFRaJQ5gcKp+TB8SVOC84otXLVf3KNTvTjTb0MVIX4cc8CrAISCQGeFzQf6P//oQbKYSoCUDgzDATzLYph//NExA4TyT6cAZl4ACu1swbggNRRpYcr/KuTl1a8+NqZCh2xnuGR3jcHcsGSNam9fNf/SkKNiFG+tfP9Kff/krWBXneCTn0//0o//531qjOpFAF1FnYs/UAzTmv9GJ6V//NExBEUIl6AAZkoAFek3LcTGR6GE2UAQBHMoyEx+0aKpzoOeQ5UVysQ7o9RokjP1+n/fNWuv/IRGuSTzaX//29hMCJZ//yiEMUGwToeLgeUrNerem2/v2Wvaq3quSTf//NExBMSOsqcAcUQAf+n/93+7tJehEfTRm1PCM4QchGkIis5DvI1wggkhCZzndTtJkUxKC0Y6Kc+5+ERxw+QOII/ERgTo//////1/////////P//y6ZHz3lsun+amjKy//NExB0ROu60ABBGuYZAoMqZBIQKrCBFTwSCzQskdIkRRbJ+6U8o5KL1HDulQgQkDXL0FiACJ/////////+dt+Pl5e+r76YQoiTa4LSYhq9qTD9pzt+0ZZJCKnD4Nhv7//NExCsSGxqwABAMvWBL6qDJBqCO3YvCnLk48saQjAcgNklaKZIgD0VklRmt/////////Pn/27/9+aaGZ0qd71tXk67zszMnRi7eqPOPcHWBl1RwdoNTOgUDjclw+4qC//NExDUR4xqwABAMvXgFRhx5aJpSHA+8VgGWWeFk6VV/////////z7jf737Zm33in06TcTe5jfOKnJ5OKh8bWd02MNltwrL3T0UMToxE+6dbjdEFyZLCB5KQnpmC4NnC//NExEARGxq4AAgMvHJM4ykKBv/////////b//fXp/vmnZ96Ut2vn5k+XzEH7m7FYdSeQVFh3idIkz9q2YpDD8Jn0KqJ0rTqNEoECdwWiCPoWcFjy9lTVV////7///////NExE4RSx64ABAMvP//////////8///f7v/ys7PlszY3NnfH1R9YXOsjinPbtB/6E1mNks1zOPjYeio2D7Rk6mNJHhFaWgVNUmqKKz////////5vfv93/s3deVn1rdE//NExFsSAx68AAhMvJPM282QUPSMzbltROONfzUSbx6h9lyhJL94isIkFzXSGrIGEt6NokMS2ASU9Cz1YP//////6d0aiuyiLmZHciLFynFmZjEEhJWijjWQ04gyHFpX//NExGYQYx64AAAMvCTIrmU6mIhkQcYrMOirGMLzFcoYOOMDgweHosPsmFo0Y////rJF/P/t/////////3yv0v/lCnHh9q+ZsxrMcSe6rGU9WKR+qolfYCvSJVWtZ1Vs//NExHcQqwa8AAgKuWkaMwYCFOOJHdUcd3mCGIEyLmAtmsXcwh0DDAxjjNNVwKMDhsFBRHrisVigECQgmPB+JWMkK1rE4X6mWWh96W/4NDjwKnfU/c7qeHf8r9vXGLxC//NExIcQOtK0AAhGueV2QFMYrQ02CQTdcwZwX0pinHNvazzkFLclDX4NXHLkVLhQegXdYkk9u/3v3tY/39b1yNTMasYBAph7TyTId7sYRiYGhDkzWuq6KggV3bKGqF0A//NExJkQ+IKoAHvSSOPuOYQpCAD4SOIBQCtvGGMYQCnqkCpV/jtBYhqOHfIHqaQC/0AvLGpPzDPmedJNV96/WONJZlzZFCjziSOK6cmHTu1UyssCBkMQonkS6U+GfIcH//NExKgSkVKgAMYGlEjNbLlpHIqqW5hR6UJwBXjBAQxdgObcRZCEKspgmsJNAYLEmpdUyS4wBI1t8ahmXsJimAEmBAoMoWPsxJ7XdmrWN2UUlPhynyoJindPVZ8yynQ3//NExLAWwWqUANYMlRUbFkSS8QikfIxYMQyIxNQzGGJBF46j6IyYnJFrpw+vpzuvS3jB0PO////clCl1fYv6cwDIJTVBUMZ1ogqnMDDDXgkrARHNA5XJQoZGV/gxuBlZ//NExKgg2YaAAN6YlIVYEIH1A5QAHzWSjCCjBglcylIp0HGdTGKVbNSthas3b1f+Z2UPl9n3nEsD7z58l9c8bLwrCUFyUP4+0Ssl8dieBsKQ4VlweYird1VRFKz4Bx2j//NExHcfsYKAAN6YlP//+OLm3vQtdFlByaG9BiKkDt9u5kiIkKY+1J6gU8OtD2TgUuNKFUPHGw0yNC0N8eMTKO/nNiAAWIzgAhBBwR9Vi0liI0dNe7dnpdSVr+Gqlyu8//NExEsh6Yp8AN6YlLqz7sbCE37SWG6N5mo9joZAdPjxBbHwrDysjFrhIIxLEopHhaM4apr3PoGAYO//9pFHoAohMCMJGB6NTFrGHxLalk/weXk6nI0QT+BWtY5iF6Ub//NExBYWMYKQANYSlfwFspCcErNIDlg5heUxyUQlK9Iab6clM5rWf8z5by7zH//CNVK/KEo3m7t/UmzwZOFI7ixyR4hKYZSUk5OF5ka7yeqotgx9oSCEoMwiCASAKPOM//NExBAWgYaQANZMlIzwcrDrRDGmLMCaGDBA6q90TgFdcCDi1nH+c+rDvdb/Xfy5vX7///89Z61r7b83tjocD+lZhBtIEh/kYdoRS8bKrGOc7///5VUWlzMTIwxYS9Bk//NExAkTSW6UANTKlIrLJwmWs+GVjJqUWFzoeQNnJ0QqChh+A04IiRgXRQMRhIEc823raY7VZt6ZNN6tVlHIzTFYRjR7BIqibMOsLWs////01ZRFjwdHg3bB70814WNi//NExA4SoWKQAM4GlGLLqeaWsyYQQIXXB0C6kMDotXCqia1uV01Jd/fO4d/HmGXN/3L810NM4cyv5WH1NekQYzAUMYHBcaRXPJWiWDOOySuCgkSHMoARFiKdLuzAN0vp//NExBYQqNKMANPEcW4uRvgqiBhIkAJoQ5TwNqtbZ3kLdWfYrmaamkLk7z7X/rr3/gXBhJoP86lN2kghwvBY6IhUzMsXsPAbDCwDhNDGAwoawH6LMPUUZXAYJYFyyOpO//NExCYSMHZ4ANvYSFtz9ICw0aGDobFUESrB19FqhUAodYSWgRPdEoiHj2////YiMPHDEnU5h3M0DTFh8BBAkLKWpDF2T4uw8zaPIuJbjBSZQAYlWoYsFWq2NUVdFAKV//NExDAQyHZgANveSBVyCpVxAl/ExIFZIRKBolnancrVLjDERtIVA49Z2XCbG0VyIWyGmSy6CtZWVZTq7puNWRND1XY1spGUChIRCw8lTLNCaRdyxFtPJ32T1/0ENX////NExD8QaNYEAMJGcFu/WhPStUT0uCQc3OomwxKbEIpAMYpEMGZ8wPAQnLLeZHnQOaDxEToYQE6lhjcaoMv9wz6jiCakFy73P2E0dKdbVBgL4gLgQac2ILlKCTACoeRP//NExFASYHH4AHpGSEhLgrm85QXOqMc4qK3RQsKUocZvZmrGpMBG0SjA7ELrjfowVLKWdiy8SxE90s9x4GqjzVqf/pQVdWs6wNcq57+KVQCtXOFNbcO4gACAAgACBEFu//NExFkRyK3sAHoGTA+biqQuHwfDAAY6xAQQPJj2vtSLoGRnoWkfHehSFX+laVXeilf9qFVfpWo6ZkbEc06mQRdvnwrCxW3JyQLvF6MEnoES8SYDAmBBIH2AYidGoE5E//NExGQO2FHoAHjGJONGlUhQ2x/oaYb//9oz+wej41AxLByWuHJY7sHJITSw0FQjYFLZSziYi5k0LYCslQ2n3H9ZNnEhArClGBMqkUa3HnrOiSplLXGS3X1c7CzDqbrv//NExHsReHXkAMpMSJ6cPeSp933f2/u+Tmbl4JacxHBDI5BWCknLC6cLhipHzH7//+yyIWpEOVUaJG5ZG5miAWie6kiAm4womOqGLCoI1jY4BqDj2sHtFntVUqXp2Xb0//NExIgWqLHkAMMGTdCKPqjNfVVX+fvfey21tllNAQSszvNbb57qLCIrPHlhlSUcHUJI2VDMEoBSAUlnlnrjFuUy9jmudN06Mp2JqW+suqeCzEuadJCpseRaSUJZEslQ//NExIAPaHX0AMGGSLrcuM0L3E07hCgkRLm9DQyyqiaVAJHO+SRR7CwMljyoifWG8SurDRY9UDWDT1gs9YKuiU6Ij0sHagaKuLDw1iV1R4O5X//o8O4ifKoD/M1hpqF4//NExJUSMHH0AMGGSBAK2r/ij/yhhkAw84jpyKzLyAkIzhkE2oo2E3wXJ9xdlGlFHPcXVNoF35LGy7TkdRqOo0otwqVhYADFDOjghQgDBKZOEBCRYADZTEBAo4gPFYhA//NExJ8RKFngAHpMJHYYXLCIOCV05q6U0/ppYn/EsSzKJwnlKFpTRyhGgcyexTIOyi3lNRdJejG0NlEBDp6F4V0OizF4GsQG6cUemWUVLEAMKjJ4LsIIEAYwhPBvFEkB//NExK0g4w3YAMJGuSYy4T4kswYyGG/JZzvWNfWmY9bJVxQkKbDAq7KDNiBV2tdiCWx6/Z6PvvPR5Y+cR5wXnBDzQ6cGDsG/Fvcbiutj4MeoT6F4qeHHivlK1SbgSBYw//NExHwdij3cAMpGuWmMUtpKlMrBMgHiACTCI1FA2iiJEAWHIETqbWOX2O4ju4A5CoUPBNc+6lXq9dtk79wcpMxhsg5pCUj8gxs+tXte+fMbEPpqYtatLY9vnC/1Wex2//NExFgWsLXsAHpGTVomlTDTROEqW8Ws8kQqHzMzQWeLPTQe9u3c9CZyOZ6ImVcwgGwAAEBgboBnwQLg/B+4CBgu8MCAMFwsCYgOCccDwQLtSUOB9DzFK4g8Umf7kGEj//NExFAVaN34AHmGcJnU4U0PQizQiEv4dyywOoJGfBL9pUMotUj2Q7SRuX2L47GjolQPCkqtLykzb3uvVaVDfeLCDUydVFU6LLSP3UcEbtaXWGdJyDhAMU4QGGwweDiV//NExE0hcuH0AMMGuWakbC00AzEVlMxnU1ZTDE6tyNUw1dKwxoYtN0QKymyRHSuXC2RyhCzNlGNBfbIQdpa4RdpiAkHMwj9RAao0wkKcAoiEwiA0HwMsIiVGktBVULBU//NExBoRSF3sAHpMKDoaDq3NDoaDsOiURPPOlg6dLfKkuEzodOv+SI/WdOx7iRH/7eVW4O5IisZVTEFNRTMuMTAwVVVVVVVVVVVVVVVVVVVVVVVVVVVVVVVVVVVVVVVV//NExAAP+xYAAEhEuQQQkQMAmoC4qHQIFZAm06THGzGS3JQf//yV/v/3nr5Kbf+9v/v9v//b/////+SQhCEIc5znOHAzgAAEACAAgjA7N1CDYqiplIylI/sYi8tltbOz//NExBMR2EYwAVsYAGsa2ZUKmQ2G1Ky9aam3voNd+g/miCE3rWQQjzhdhzKIKEyjgIOEFZCT05Ry25t/OLRCIfJ1DCxUAkg4RWQbYby0A2/hiQZfs8LDw6gnz601nhqA//NExB4ZOypwAZKQAN4AP1+pB7hswW8BewLQxqfp/FxEiblw8X//8qF83L6ROH///y4iaGBoZk+6X///6CB9BBJCt0Ff////7U06kGHPLZBBOaRoUqoxQoVF2QWNJJob//NExAwUoO6gAclgAMjC8fNWKy1DmsRUi4uwrRaKySP5ieMgYUpz846W61ijbj8nEBwBvDKBxgmtJT7BCdNOFkKphBao95oOX9f/+xbDhdjHDGDa7TAxRyYX4ZQyR42n//NExAwUKN6kAMJecLIEwISkgrqMeb9T2fbpAaD019MKiwuGE/CQN7U8Xa9hufRHjyuYILMLERCCpInMASWOfZVRdJitg06583VP9aPHf/sdTcKclcN51WHEy52WuoWH//NExA4VWVqsAMvelAMNnYAkOMqPrCcY22+NZ/AgxVfFyq4tW5RRhzjbVp2oNlUqtVy0d6FQyjQb1edWtLv5/+6y79cb3Dxldz1hzfzf///olyX9KsJksFikFAwXGg0Q//NExAsVKVKsANMYlP8FwIENr1m4XeuKXpSH0FV13z2JekVWUuRHZNSEMmH4AZ6S0ZJaJ6IXFYQUIkJS286uQtpMz/7vX53aTZFWy3awYBP//+RnhL9Fq1hyo3wIfNI1//NExAkTQUqkAMsKlKS3xqXgpp93+nLuTVXtaesznfWzLsVp2rXKgLINhyQRJUtQ0UBQBYSCzh0Fdm9DSt6shnIAQtDR76//+l/9aiOl3/1rgpVRUyK5s6aCgwpEgZEx//NExA8RKLKAAVgwAMgZxYlD2eF+U95l/cdf7blVVU9GkAp4SeHQ6DIiGETnboUeKiF1/Kq5U7/DWHSX+Gv//I68qhaNYexWUEovXOrH/3T7dju/Il/+h/9f9pjXU84W//NExB0YuyqcAYtQAD/MMMY89xbEOKgXoKyT/o3PPcwRZCMxXEOULHjn//P91c8hEWSDxRoNCcP0KAv//+9jz6GE+Y3G4/EOSFAtiuUYjFc4UEH/////V+z1cjKOfA4o//NExA0S0vrAAcAoASygc6C7MxTMjEEyIHULdKnP7q1UI5aM0lGeMUg9nSlRkYLtZKEjUIx5mEJGQ5mFhgucoxmjqDRsWdCCxj6WVZAsyqBn/k+v/mU5/hgzmEfa6zoN//NExBQRIo7AAAhEuXu7GLQ2Z6pVmZndr+36/8z6EajoKujmfKrCc0jmM4VlKyhjvHURjlAslAZNXlXp8GX+AOAw7AuDMkAgP7Cj6awKUlgSvSwN3ajvyEZbOpf+tFMY//NExCIROS64AGBEcDBUxQEla7/r9bt0itzCN6GnWMInnHiooVQBkNGwKYNRKeRQrR0V3WXMGURD1YBbvxBise6zD54N6vspyoYHfRaNoYnVNQImnzVIpFmZJqHmNi4Z//NExDARyNaoAMmScEJCgOFRgv///Ov7WOJLs0KsVqv9xGWHVZI3cykEDp0tB60lwm2Z5MmXHDBgO1/Q5Dzw5NJFTmEM/ahboqZrN112TGsB9Zk6oVQ9jEonr2dbdFn8//NExDsSiOaUANMYcEoiHBUFREHE////7NjnSKqdlQULAerv6CG9TG0Ci4WZ5kLCLW/VqrmEVQh6MFC24+2RrJw52QqJrX5H+I5ZWMQNnEC1UJg5iG7HjB22LCikeigp//NExEMSQOqMANvYcP///rS/6qawzoPBydMkDDIrCRYdS5tcsbP7ZG+w8xhC3Jlu416v1d2pDrt05IHAfCOw+MHuRTIlfX2iJ1UuWwpoeXZx3////9XGYIRQWNG5SOGw//NExE0QuVKsANJQlLkgiPT7nrkCYlQw5UUZh3+m6k3/c/X/R7MMIEgQOAMH2rLLzWFa6qDVo5s2MYR7OEKueNHiqAxaS9sKwyZCA0IOvo2KfiqyVKpbWffumPkJD2vK//NExF0RGVq0AMpSlS/g5zXw/llSQQ+KEMBIPwD4eROmZNtLIHITiBY0xCpwq7Zzf4rqqNmj5oosnirV/GPHfOVQsOc+u+h4D9t4ZPmgMwoGC+me4P1lC/KXqTKg7zhi//NExGsRiVa4AMrSlTMNkQ9irVBxqyC4owKxAQbCCuTLsfJfqytdBq656sZt///61c6iqY6yXzKXUYl4oRXU+tNa1t+j5tLz3L+l87+YG72i3vnUCZRObcSFSl8L6/AZ//NExHcR0V60AMLSlADphxl0LPBwS0aWnz3uPn3WPNdA6po3EJWuKuaQ/CQy0vu4spRvWK6JcNkk/JTppk5Svuy3TNbZlmH4p/9ovKawmuCMFY0kAIGCYkSFcUIgZVJk//NExIISSV64AMPMlZpuMa8z+VPZ/Zy6xttGKtBgCIrtcgPFMESKrC2nVwvFirwu1POH0aXLsPTaYJly17fB81xfAuKg/EkiBMRAmD5syGFSxJM6ToUGShaHY1iW+PuF//NExIsSoVK4AMMSlcHyYXs1STPctcSBaJAYAVpyGKWQxx0ACslZku3yrlXWZnHGLag3rFtbeq09feeC34WkaRoqgPECGFBpepzFio4qkOhaRri7GrnOXEGSaNxZ26Co//NExJMSOWK4AMMSlVaCt7ytObmu5QRmIyL4K6s5GkLY6ncVndtS2Y6e1dFxiYjsFESAFHCp5MmoVUNSONUrSrk3Wz5evCWLdXE8tmzThu9qmkZiZEsSFtlUGhNAU+JB//NExJ0RsUq0AHvQlauQoWERvLTZxKarV7rdfFw7l5V6lsrtDQLEwq1KiJEqzFmObm2rk15rKRONmkrn2325KnJWkR5NugjCJboFF0Zg4CBqxpDP2YUopDUa101N9HuZ//NExKkRmWK0AMLSldGUUFom2OqHWKOUUMJai2SppQmAMJ3pEKUqpSnZ//////1VdtwA1IOqDboTF6E1VhET3ZakBUZGo4xZEZFRu7/t6q7nCg1Eu6OFOWgk0etwMWqx//NExLUQYQqcAMrScZ3iISWDRgCCETbmcoEf/QxOQ01C//7ohRclKomhgPeC826LSFkMMb+PIAWox+U0gYoJBWztPe+X/zXpTYgw4CYdHbRP/4ZKEYLiAQOjsICGIECq//NExMYQmUqMAMCGlEUnUL///OA5ax9ddP/1vcm9g2p2F1Bu9cjlV6BQWTDqTU0vl6XJ/xMeAwuJEZ97oxf/rQ9nT2JLaZ//79/GG6yDSnsTPKE43THAuGzRkd//9BQw//NExNYSmUKMAMHEcNZnHmP/XzZja20hiw4GCHmSnCYTMiPcMvQnLasqb3cP3c4HFMYqcJu0unH8PKntJjCgggvYa8tPV89dwuQpymGFAsMFBM4oQCxgUCskC57Bwb07//NExN4SkVKQAMDGlCzXX/////////xDz112nFp9ZEPcDhZTrWd59x9JVUdJqpyoYysnJLW9IBSQiQOjAj6wxzONFDHu1XnvMRPVGSQ6CoDogOrZvnyP/+0R0Dyxe/T0//NExOYSuVqIAMlMlPCBEgOYEImGye5pJH//ly4RCxqvHFIZ/9yW7OuhgoVsZIMJgLByQBWr+64ll4ebFGUXUrmXPMypX9SIZhYLA4aJKl7u8nv3/1DDhxmklimkhJNg//NExO4aCnKIAMoQuMExhokJGkB0KN//+cKLOHKsuhUn//QpzE2/SmHClzXNpNp0Eiw1JTOpVsfAu6j+H44rWKV5/e2pnIGiwQB5k/tbSf3K/9VjS6Spk60uiUIDoyJz//NExNgTgWacAMlMlCTk2IFQXMM///QAVhF+3eOI3s/UhaqkujEFEdwhCug9/QYLGgEVZjP5W+RlqjsyRKNPNP/NDceICGgoDgRQnsjzOcg2PZ6c+7SJYeoKM+XWTJ7l//NExN0T6VqgAMlSlHWLS49p1wh///0FTQgdubcnZ/0XiaqzWHLzYMhAycHn2JWgjtbgS/thj+DjGI/xX2f/Nd2x/W225j+UItGH4TiUrc9v2l7lejmihbEWkz5jsS2t//NExOATyVqkAMoSlFYbrl4wPUNEtoOfsnP9f8Alqr+IgHh5AWEJVERJ+G9Uau9nsPCCltKfwsrt/9VQw4YOMxISc98xaYSim3b6l457L9zBKkZe0Hj3l4AIBsEBULAE//NExOMUkVakANIYlJA+FlHIYA+ogWPi9rLmkP/+hjfTx0oqf6bu2xwBKukwazB4kryhB4Zqo0ETRr+/pQmdE8sE5OqcEjEpZVEjEl9ucIWjI5qZupzlJAZSDQJHgmMU//NExOMTkVakAMvYlNJFj29G/JQOKqEpUU+n3K/tUzza/TMztGSgVDimR3Qa94fIRDiY7taxvdRs2aVF4oNNX2qH03THaOI0JEJyBnltMOJ/qUzfXFP9dvexfJETJWJj//NExOcVOU6gANDMlBGucqSh8UDyCBIbdVm/+//4FJGV///XVcKFVA0PoSCX2MmSbTuYoAV7rcdP+HytEs91co+4v+PkmWiO0LQ4khv+EvevTE2WHH69ar0/VutGi3gx//NExOUUqUKoAMiScDtxzySK5MTViz///9Szrv4q//qql6WSvsiCZjHhhq9yZBgyG4lIFQ4SG8t0kn/MDbOYHMjLZTUp2oKySgf0BkPDTAY4V2xRiUWZAkB+ziK5GZMM//NExOUVqVKkANNYlCYtEHPWIGv//////02dIx76uu6jzD9n+Rex41aLk1rCiaceBeVkXlWOcskq+bEQ4ONb1EiUcB0coqEl0EVo4LdSOvNZDdAhBahB3ynLV7LJgCxx//NExOEUMVqkANLelEKr81BY6VYpAF///4lcDSD2zHI/8zfToopxXpFAwahtBiQFMmEAnMGDRvWRDJGTMrCLe7nUhudrKFGXhKJ1BogPmr9BESgHBY1xDQxAuhLRYQho//NExOMW6lacANqauHjHoASJUBI/+z/xVKbedLAElVys4ConMe1ceUBYABg4VGlhXfZYDZFAZPckEWhzisMoqsLBnSABRYgIEf9b9jCc1Ycuzc0SyADOh9SmvA4gOOY+//NExNoTIUqcANHQlL0osk96f+/UKGLewWPmjf//oXwbmFhky7oNwAFNhYGM0UA40LamJAkra1MtzU/FrAcCIeqsljqU/kZGkl3bL/4hU1isfLytJltWONn7G+tFaqyR//NExOAS6NKEAOPGcHH1pON79OA4JQ7BuKJRJQNA4CCCwFxOZiHD/c8T1zeOfifte4mm6juqqGqRp5DSHZinpCaJLy6tNaV3V6TG/9w5E3Bk/YDeqOS2t1WQSdXJp+I2//NExOcUsMKEAOZSTNWpMlNDPS5jyew1Cq5QTBX2iiLSaqJWM0SdPun+Xmv7/wmfFEju8pKTjs9hT+Ef89LfeNqCDBCahc0yROrTJwjZTLw5iVTM0hzn0DI0V//t/1fV//NExOcjEsaMANvQudXWx1bGStFdm3etzOYbnf/9/9+hRroBaSlYU53V3UaOM61AYg7ZhiqF8FysIE2vqBY0h+GXrLMntq1m/bJMpY7yAidCAMvrb6YVLTeZocD6tXjm//NExK0dolqYANPauTs84nrsBzbF4qmblI2Cf//+aeTN2djv/tuqc4kq1jIjSNKE5yuI1HupUOZGHFpY8Fb2PRyjtjbW94mbx9UgTXvTMO795lXm4p2sV8kSHXZlmZ+v//NExIkUiVaoANNYlDi6gQd7vPBeKdsVUdqzb0hWo/YYqkesuprAc////qJ1qafEz5G2qpHhhODCDCJdzF9mK8c5DrMBbHLv3V29x9GD6vqOrHqkYDcP1WlGaT582AKG//NExIkVWV6wAMvelEnQD6My+0h1oTtKyS1O4N3PfC+iWn2JzaWNDm///8aq3q8Jdk0cVhnZI20NPG266XpEzOmctihisD17Amq2u9MLuInWJQF7gOZguMsd9Do9iQRi//NExIYUiVq0AMvSlDGtYKWnCZMrMfMdv8/d2n7b4fsN+qVR5SyljaIaD2wFa9YzwfiPlEcqFGSmTzTrKo1ScacaSdromTo0oafcYD9wbL6xjFyipZpmTsUlwJNQ3wa7//NExIYSAVrEAMPMlc7G/72XZctN6hVl1d8SFhflZEX/lRuMIvLgZ7Wb5AS4qeJAVCiV6eJIjqGweABnA7BBJhefNs023Fucy1bm3OY4pVMTbV9aW3t+ub4mWQy9eUpd//NExJESeW7EAHvMlYDviKAXGQcQEFvFbEk2vwWuhF0BHL5pKpcBiRIRMguDtDjbhGxNzPFwLuCDHuXMriegp2gqT5OhCjoiKew48v3ywOA+k+u8rRfGs8FXuOfiQQuZ//NExJoRaWrIAU9YAGVy1yvIjqNRjYWeK5xoESAyLOY9n2bs0V5nX//8R3CHyghA5R9D/ji7Uf/9XxSgZEDUERZpJqzgzaklTqyR04zp94Ff2Arcd1uZ5VXPWej9dZox//NExKcggZ6wAZh4AEJWSWySLWiq+zbnbbWbLu5VLCqWUEwSzv6+g0JMcNDWSVemgEK3r1l6NPKroVoMVASR0jraGBwpGjy+1H6q/HD/KrxuJESFhswsXafByraBOb1G//NExHgRuQKwAdhgAUFwuZiwoxzXC9yT4HOHRZzv///X0tUIi6NHmCUDeV073kjyqp/A1giMxLHurslstKFL+KkLh7E+yAwzYUZGmNOtxTnFRAtNGC4eIHkO1CRYXEAh//NExIQRePKoAMrScAyNd//+ic9Vq/zUNIz4PskxbZQxymGWB4yPL7QlK7Koti+Y5x+dWUxumL7spHFxqyyAw8Om21serVfxlijV+g3WfBoyHBKDxoKlQYQPY9v//6UK//NExJERwPqwAMJScLvbJN7kNpY5DAnVqvct3Ky9pXe0v9KF8oczWdj7HOxF9yvEnELU4GxMWDxwcB7BAQ5h6ltLtEG6X17poa7jqMEHS8ckGCKUyMpcWkCpm+uAwct+//NExJ0SgRa0AMMYcDXwmvmB8RfmN4E/l17a9sYTkaQ0Xso3FooBk1KD+SCbBIJzim9tybnZS+/rYi1i2gdpC2f//9LdASYSikgOC96wBinL42GGo7tLRhb3ndL2W9K3//NExKYQeVa4AMMQlde2pbKk5AA6cP4BpBlelW0nUZvb9NjNaj7ebeutZi63v/0jY0+zaDlin///9dWXxQBaRyIWAYy9jWw3sZLBDbQLveXK3Pxxs7x/811mta11WsGu//NExLcR+WK0AMPWlKVl1FwxK5mN4Q5RFuR1axdvdZ1//n51j//+utwb4fbyM4/NebEQMIPl4QMvKqAnBmTfkyxiaP8ERuh670OOraTQVsTusxPNSSAKMhFAFkTisFNA//NExMISSVawAMLelA0gHpmRyXC8j6AiB6oEgNw7y68wko5oitAd5LmjGadNNNbpXW1Gbpn3Qoe3q635pdU361stdTr3o6/rqbq/9WvR//10fW5sXKCDFAzDR6pzk5mB//NExMsRQVaYAVh4AThCCANW8z8Kqv2bQhBIGfiMYvbD5fMRlDhNCSGQTyXHISxoCgSC8hPg2hLyAIAMGMKSi3PgZwc0flrEuG0k3Wiba3TUyzBRsQkl7IKfSTQWbJ01//NExNkgSxpcAZpoASRm69buXz76BicYzUrugavZv27dVT/V11X6u6VlZ1VO/TcxnFomSRU7zQeRJyAYHxkIAL7gIp/NIYbfNxwDImwwakiKkrAdiRZ4DjS7QXfdxkbW//NExKog+tqQAZhoAJkitaYDS3ih1XaxVuJFxtNdW1dRWpWJ14cmoy5bIIjGYWxBiLzQ9CHblsv/W82XOJvdawuVrdbKhv/UsVL2fMaemkcxY1lZguBZWRkf5z7z8o/f//NExHkf8W6kAZnAAG5I0////63sZIBRM5gyeyAGy9ZALiwIz4Bpl2UuSsOJOy89qAlWTvqj7BB/v+EQ2JIB9sdU7PYu0Sqlx4LJiEx3gqSHBMyTRfTzj3f7xn1d7+/i//NExEwW4WasAdl4AB37FErO4VgR/Bo49///3oWlmCwuIwJmNEz1p/SEymgEVrIkbRCIfXhExJeckUVy2pRZoVetDjgyxOCVoyox7s3Mazr/uU85dMfT/paKwFqJgQJ8//NExEMVwWqoAM4SlSxPy09QoM8Pyl8vC2RJWj9xMdF8/S+R8l6ZVg3kofYzEA6eoCgFFgWcm2WMWq+E/NoWZyXyKQMco1VmWL8zfMn8tatosl1LgqH2IB2MaTzdP7RB//NExD8RqW64AMPQlVrLHITCIP4y38ADTajwMV0+jBqdw0wovNggoxyIQzsasfn+eyrQ89TELYSE+lYcC0zw3DUdx1ebWrYyt+/5nzugdB7sDlsbuf9vNTUNRjczLdXy//NExEsSSWa8AMPMlYhZDY4k6ypE+/JGnlwUhCmcbgtRyHSpY6hep9UIQfz5hLccpSKVtjue/PPAtvGaaXVXp7Pt7HpAYKAh7fpIJqNyuOMgVtWSQDi9PkN5fLE+MNiO//NExFQRkWq8AHvGlfFijoMOlxHoTqHqlTohRIhqNBIFcT4jJomodS9PH1CpbW9fHsqle6le8zKPqw0FYJIr0dMswdYUCGpaVa8BC04CCim/R3ijKFhm4Iw2072SpAJC//NExGASEVq4AHvKlYSmnZvpU5C+nqVyHkjENT4sKNXLLJnFa29Lb+cW2NSsfhK6pZrAY2v+TOwo6ksFZ2tqfwVRA7xYEMFlYNAInok2aAb5zATw4kycrYkoCmRzMeJV//NExGoSGWasAMPGlQYSLAdTKOU6XjFHFBPxQJb+fpbntAsVhKaM/4UVtw0VTzESlM3CQQAM4WZFXmWiSkyIxgXxDgqRAOYY5PPnBE4/ql0Ag5LEa0RltNHpPMzutl8O//NExHQQOIaQAMveSTGWutLbqrqAgTA1JPdu5LWW/////UowiAjCRJOmBYxATzTBUMOBY9qAiMBUijUFyS9lDVEM1wpXM0jGJKlHO0NlGiFTwVqrcdTgqKkW0X3p3+ju//NExIYSGPZoAOYGcP/0f1+z/6YmKCwhGj+Jkg6azdnIHRrXYukQVXczVbRTqBYdvH7k6YaDw82xzLn2EqAmATFmbTR1av9hfLIff17WMfVKIp1f9vVVW+YDgzgTeJLC//NExJAQ8GpcAOaeKABU6SXQfXrHIEkz7xeIQ5gVwbn5cHQviO84VABACGjdjhZva2vX2JClfsB5W917+Gb+c2vtTaUpSinPIShGXJfIyERs5znfO/yN1O/+p6vujVc5//NExJ8QiFpUAN6eJM4GLiDLn6wI4EFHAfPg/tid+JxziarKNmQw4kPlQENeLGWA5cAx2BgcMFGgshavFmWP03UUgph8gDZtk4i7b8r8uYTlHi4bcrrapbnadhRGZtZH//NExK8cSjp8AMsEuNBvSn3e+85xu3+3wrbLf+oqCO3aeR5fbs1/8ut25TPPJPyfBdEGEI3GnWq/uRQbpHkauhPBoOE2InkDpJkYlLrclWKseNccBJeGBgwOJQOMNaDn//NExJAfmq6IANvGuUtLYmCggsGROUZryEgN3wuhV0PkqDiVl6dLX4hFH5lzsYfT9/ty1TTNfHK5yhv0Od2X1uWZnu7X5b1+/55GSXUoogQFBo1nfolDkKRTf9vfS90z//NExGQgsn6EAN4KuavVmQZHIwtKWZ7usolMLusSIzPd7D5T3ElNVDue7nF5k/DBeIBLiOwxPM4aUaPFCxvAoGAZFue23Fj8eSqhL7ITonDQhQ09oQ4dWpnkMyOtbzy5//NExDQeQVKIAN4QlXct09yZ3bvXRYPRFHhChBTDv/jxylUsTu8i5aOQJSqbvtzGj999///z4/yy+PU4r+hEz1GRdUxHj1jz56lPN037wWlz8MrINYNRl6LTULwgu1eb//NExA4TEVKsAMJElH6v/j12Ok/EmrKEzJ0Fk8nP3kv5ZdZd9S5aHp/6ftXrD2rGm4Ph6QW/l+qs1+USt5NNB8mfrt8+UKHC7wGIFXmICJGKSMWjuKqlv//55MhH+X////NExBQXixqwAFhMvf///8Eb8edxHN3eyLqmitfLMJoP0HMlnUHQP3FoYW+7Ms5OO7O925D5Zx+YVUfbbXKKyDFGRkE2EDPaeJoIpkdgtNDDj3NHhZbKqlcJu1///83///NExAgUIxq8ABBMvf////////////+P/j4WzH1tFHY5ka4JrMe6n7fZnax6ajIdldP7iS02+6QMaWPNeVSpPD6Hy03WIVI1Z4+6MJKsCQAxadEzmUootcpf//sDL/+f//NExAoRaw7EAAhGuf//////////9PGi3PZYe0IXNaS34PRVPMgyR64k1Zl0VmDQ26Yqlx86R4CWIdrCh4o8WgM1g6Myk4YdJa5EC4D7a05S7UV8Wj9qMZwocEsbSVzX//NExBcRsaq4AGCElF5jWdv/31b/32o7F/WhitRRjYVOg0Jsi4Ys6HWEZYs4NB1jssa1ubnjCyLioTO3Jd3naPEw80aeMkAsV/hmJ/LZvPUbT5iOpZ2VAvKPzPNtVPyC//NExCMR2U6sAMPElEGLElxn7r96t9f4ZKvqOyi2oPozoIejZRbQBVOX///5UXNfpQrKZUeBt5wKF9DODZRMEK8wYiN4IhjZPmQEBPohuhjS4Yg1o0NSKi9bK2rWY831//NExC4RWVqoANSOlHvj2pDQvic+ce85qAchqil3Hicj///ytaWXOSalmNLYGqgbU+cuFGoHcPzbGB4t6BOhAOUYiegGNbl0viLGBsRAt1lr9T6HL6F8q2O6HYpL4m0L//NExDsRSVqgANUOlLwtnjhfG1P///UqsxxPcyKHCC92LJqwI8kqAgmJlLmUagIUDmhCgPQolgEwIGvAEHQI0YhxIY5DT7an31mcvm8llGzXz+9RAXqIHxrW////sv/R//NExEgR+V6YAN0OlKOIpbGXRgOKnJRmM1LZdXJRYM6YRTDAIHaMSRAcUImbBi0DVDA7CUbxcRFfXnO2c7cMxB83BMZxLk14SSoHbDbf//+i2z1VqpyjZwffwmRKmMiO//NExFMRyVqYAN0KlKkEbC1ADZmrA6DCpTI92KeIEI3Vp26EwYpXjML/xF8mJti+grjGqFndAXd/y9uOUGZC////v/RRicGFQDC+qAgNoLSBKdWKvIwccQQI9xPaSfQ4//NExF4QuT6cAM4KcBxqphAnOhRBfD9iiLGVvBFu1nsrntnPIXlzmbwEyaIJtQzF+uJjxWV///61iLsioMcI6Bi0w0VBjTwuPQ4QCgsK4yzzZH2fsWOZ7NmGjrSJxRvc//NExG4RoPqUANvScMPK7XmjzzSlNGlK1OkoNTRhsAgmI3gmDy/////60o/WpLyh4L9utGy3AtKedr4BJw2KAGHigQx1OBAA4dHZPSvRCQMyeAOTiZAbDcGM/t06uezV//NExHoRuPqQANvScLqSSCxYhkIbOH2h/2Thd83////qpqgFhmQLL5HRppRyCyWgsYAoAzIszYIeGmEEEK01IkXySsLkLJd1/mOrPTHUpjaUVsi0BXpPCUC9isi9JNfg//NExIYRwPacANMScEj0FxeL00gjBLVnylW2S0ZkpP0oECJwDOlrWwP2SFvdVzAc0cEtwcA8RldUpSNfd+gYlP/+pTupYSFKf//TlojAASimkjDufIQMY6CUuY0xvC5A//NExJIfgX6cANYYlJAtoLwR6INyGZJI21HGQPdVlKH4QgIUTkyyEpqRjhrlk1Evh7drv2rFKYiT3dwZFh+5zRIuIcaPX/WKRpYcKs8Pb15Ebg4QEa////66GCEJxUAI//NExGcYIWq4AU94AFINkhUc0i1ulq4fYmv4REQRiqZQFjHMqNSGiVCJrgm5IUGXVBxx0iZCkxogdkIzMoJk6zIGNxCBI9DnxHDtaXM6lVl/Yi/k2+7NJe/cxHqRr8Pz//NExFkiIcawAZjAAPLnatQFWf6il9+G4fz3y9GZZOPzat4v7QS6CZVbzz/n//9x7v+f/5Wv6SH3fCf+ihIRXBgAOYOIDALcZw9BMmRgH8O04QlZyD9AdR2DHJKIGSgm//NExCMbEXq8AY94AOQdThHgOosx1DqDAN0vBiCKCnEvWlbtlalPGjMkNHv3CJiZXLlWzOcVXwGlqiyVVryd9G3FYYDHnV8R2CaniRX92Z5URcBmcoZqZ3MTshJAR6jq//NExAkUkXbIAY9gAEayJ0/46dNlDTATRxhUOw7EUrHxPPFZ2mII5IRkXyUqWrkzVoLPIdfZqeo2tpElOX7NatanI8bYy9L/N+p1s+1mdmeraYvKkOaqlsZMEmdMCT5f//NExAkUWUawAdhIANcCBqV6rjc5BUgaGWcxGllknvyn8rdIsi5RFaHY4FgKEY4RBu1mE4SlGOxitSFim3yjFjZx8a9ZcKeDQuCQFFRR4CFbv//2/VW3EDOAeg4Rfunl//NExAoUCP6oAMMScEtey2OKFMKT9KgXTEtcZc01Tqvzk1pTVbplDYsZGRUgDWFj6OTcjuTVNl2WhGLKChBwQUHAASCIfAZE3to//9HpoV//+PWq7iWJj2M03VR5ug4k//NExAwR2P6wAMPYcEU5RS2JdZblpV7bNWsyfObWiYvSZpnpIEqtOwXpdFad4sIVTnZMGFqtnBACwiF03mlkw8ASggcf///ylcOo6i8Lz0sAvTyQNNdD+aLJ51VcbwxO//NExBcRwPq4AMPYcBqzh8P94zusU2v0l0/ZUEdkBIRrisS3nj3GjO1j1fUILKgm+pw4KOHAyDoWMf//6t5qGC5s5XLu2o6CQG0sgdWjEE8MNxx7wx/EPW5I/sz7kZ63//NExCMSWRK0AMvecGi780MvyBOVUJWoEBVRGpljt8znOxZ9aeDRbMSFSIVC4Lkkf//9SsJsscLhuwoAYRMuaiakpqtuBZa4CnQmI9YrPaUfvYMFdPobyyuLDE6AkXwe//NExCwSEP6oAMPYcQDFoyszVaY8ySVEZWRnqYtVx7f4vL+paioaJFdqrYlRSKEshReOFyMKER8h1VRkm/UGABRxAzD10QIdjEMofRA/kEH+vSkwAMb/On/nvHl5YRqY//NExDYSOU6sAMGGlIEOZBNYo2cFUH1CxLgQEwiKs9PPFQ48lnqULCoJWKkTNiqshQixNrXn/a3zUGSD8n7xpoDv8cojF4KIRbj6ORjIfTeYm9ZoicLHWPRBZIlOvqrQ//NExEAR2T60AMYacdetWXHDMnZq5UTfOoovwuHUrMTUYnxhSV9RrBiX2XnenJA9fMarWTrcMHrWiePvwEbrJ/b7ZP1FtA1UNFpAPq2uPa8jk8VtKOtiv//9dNWzWWSL//NExEsRiVq0AMPOlLJ3NIi/sYDSwwItL2txxeuFdtu4PDO6nbW3jeXFpbDkE4B1G2u652p68zRnspaW3eqZLljPb83u7QTaAOeKGytCz22I/Bd9wkTWltnAXpEhwFPR//NExFcRKRq4AMYYcJdjWXjpVXXBxR1Ilp2MvLo/zxeOhvGVWLXD2vrvOP7Vz62rCfajWpu3+N0jbxKhZUInXUWmUfCrJxDOOGauYKAmMKiaYAqTKw03WmaRyuTMO3M5//NExGURaR6sAMPecG3J6GV9kURuj9iJ6Pit4On19Rs5r/XH1bG/7bijiR5T+0KvERIuqRMpqKsAYYYEoI5DSH8GAQFJhudl6FMGazUcZTBsjJBtMdxKyo0UEiC3A5BF//NExHIRAPaEAVl4AHrLjGi3MBtIJRHZV73e49iVKQ8jEcH9NSBot3HxAS8gomw+f//nhyEsRiXJckCUHn///9ioYCSboj3KZUNgmZI///7v/59ReJpgXBLymXC4slR7//NExIEgmyp8AZloAJLqay3AQxmbECiU0zfdFTEfWYgw4iIf9dcMNLXe69PTwRGWdsTjkdcsLgAmwL8J+YC1JRMyWqWlIqSdaaaMvqSZKSZukl2VWnQapOt3MCQNDM0Q//NExFEgeiaUAdloAUXWzulR0kqSWii2k9JaLo+ttSVFT1nlOlcygHCcfMCgIh+PjJuqk8RQL/+G4uqSmhWvAyLBGwsdUeNiH2tkAAZTSmPBbixNPL1D0xpPJFVYFoFc//NExCIXiV6UAN4SlMigwv4LClzBweKTyVtsd5/9e13U93dnuDDVMNdt0yMRNzf/ct7WZOVMEVCBeLRMooddAt///qYgLJX6NaqieMLLhlBXAiQw13LfU0OCZiIDmCAM//NExBYXIV6QAN4SlIGrkB6vqGLizegSlPz43ambAaFQNSPlR/jl+8s68W7Xy/Oe82qooymA56yNT0tsy0rOSqbMSwpYKAZJWybW3xN///9X/DKahplg5GIt6hxMRBx5//NExAwVaVaYAVp4ACMBAc0B+PvcnzZux61K41TTrWoej8sk9oSZFmqdUCHCt8ferWrXX+NV1fVc1iXrrdf/X1rT5+q6vlxxmNrL4aGE10f//R0fX+9FAsY2YZRJE8vo//NExAkSqTqAAZooACQMMnFkzIgAgMxJz70co6mPDB4JuRTu4kEUSLbZEXVu2TMzsoxF7o33Dsoswq2hAELNYj6ncRdn+joLWqZ/++2YQnMwuZ0Pt//V/+S3/+//uy3U//NExBEVoyq4AYIoANqdUZcgM4fQOCYaNEggHDuc9+ITmyO4sHlDvGf+Sp0Irh9GRJBY5BUYIhoOICzK9Nvt6SHQXZVciMfGlOyh4SHDx5g8BEoE9O8y7a1s19qnOrr+//NExA0Q2xK8AcIoAY/d7/0/6+rUOVjA4shRjmfK+sqPZ6Zt19Nfpr/U32KW6IVS2Md7XVby72ehrTVeilRzNawdYVWyZC/LGwab2ORX7dQc7a40WZ9S5QkIRj3TVybS//NExBwSaUqsAHoElMTXo5vvYpf6U22MinElQHckUDoqZ2+/8yo8QrgV5ZXO1rqApgkJUlg0JTol8OqtKDqYB0T1BcuYHQSZ5p4yIlCnGheZFt0pIBkMqIWGIvDGKefc//NExCURgUacAMvGcAZ2q48nYUSER5YihCj0OZn/nLFhGfZReHZDVe3//9X66Z2fBb8eBigssIxTTOf4x3QcaywyYKufUQqCdaypI6vLckh8ESWwpbv5kXtRRJ5H1YSm//NExDIQgUKgAMvGceIUEokXU/vVOpzvRGFXPtumHQoJI2DnOEFlpWocBdj0Om9awHLb5ibZmHnJPbGwYHj7LNSjEAZzNgZIXbO1O93ieTpWBx4Pg+/J1+fB8Hz632Zy//NExEMSII6kAMPSTL6gQB/+ikArROScgqXWJGkl//wrX////////////OOWYYmeU9hAZ+ZvxUP0sLZWN/enTKKHeIhZuRHtubuZ6HeunCjhKHNwhTy3NTpiPyHRbCjL//NExE0SexK0AGhGuF/////8f/+v2y5k9W0QPtHYxv/isW6v9qExEJzE1Kp5PXs42kTSrhOEsSh+6ZSZRrR1jD5ysZBZ9AYOLutXSggp4LSQhZf///////////////mt//NExFYR4x6wAAgMvA3pcf00eXbWO+GR3+qpvku15Sl1ksE5CGLd9qDUbjnA+znOK6BFMOJSYgvuTPW5aDHGQkFjzFniij7SDwD/////+5m9LpY7uoi47VcahAxKdFKk//NExGESgxa0AAgMuVWiLGXBJywaHM22NTmoZjR6DZQoxSSyhF6H3qhYpRIu5wiBGSUUeWHAVOPHDHKUgQoKNGIf//////9lau1yK+XucTQXO7KPEpmHNFThwiKw68YQ//NExGoSqxq0AAgQvVRYriMYIKTOZApDC7jgHFiDaVMwSEBA4dEyBguY4fgMLChRUPhYTFobdQr///////f/iY4p3hSEyeR6frTjiKUbS747U+nHXLCSRRBwnXGiqyog//NExHISGw64ABAKuZ8i6CtKJDxGqmGwOKMLI0E0SLjgUykCiDBOeDriUVOtF//////////////////6zPdtPj0/NPPucIMOrXbS6jKepPxy+5/LPNsbcyzqndajE1Jo//NExHwSMyK0AAgQvFoOjAQCvhI17RMCUCTblhikn0VlgRqRr////l///////////////wpP6kSVjcHOjfaWO4enKWa2Uda4ESmMpjCo9xQwfVZaOQYM7k5pLIuopwws//NExIYScxK4AAgMuRMqBVoohAYKkVIEIQjciv//0Z3dv/5dP////s1tP1ZDkHVmdaVRWDPQxioqzFlMjmAnYymvdRMoI0yt0M+Y1ClKhpWzGVDGMqkMZ5gzmClhk+IA//NExI8RMwa8AAhGuRhGkCkAQKBqkyiVr6ghZoMaGMImMjwxYYi+afMOpFQwDVA4CAD+HyhekmyeTcL6FMny4CViSk0iboustWLhogRU1nSK0kmy4aUEFGRRLqSzHSTR//NExJ0SKwKwAUIQATyKBhNGtPkVYxamYIEyY1GrIs1/Wgj+x5FRSSpGSaJ2pSv6P/qsddlF1I0FAeH3dUXqlIoZASJQoXFruHBqWpmhgUBg6SBuQsHRZQLp7ibKyVYn//NExKchUpKYAZqQAGkT5IEEGekw6+AIkaTF2umnc1b+DVqxetdZ1mNa+Yng5bLP4tdy/EfDrwvTwu1+Se89pq2Pde2t1Y8MDICLBgLMKHoZMFBKwkdI3EEAFQAqnaBI//NExHQWSVaYAdp4AZAGD2jlZ2chGGuiFDsH2YjCGdkaqb80MLmoXlv9fWwu83/83eVIbeytjBBFEHuZiAhxhMxUGEjCA3JSMhOjO3L1zgQpda4bS9URFsXCz6TANoG1//NExG0WsV6UAN4QlQLBB5IFS4tqsbNFx4AwEDcLcoPShyobfmfqz/r+9+/ny27775MVtWz5OVenrE3Nt6tMifJ+CBAw7X6VpU7hU7pHe0IQYUKQ4oDUOR56xZYNtEtq//NExGUTEUacAM4McSaUhZLREdl4i2xNAS0yUwNSTXMbdTmrrkX+dmXLvYRHLmJBCEvm8ZAWCaT2t7KaiYC6eMGUw2QgJNsxEn3nCjCr1bUuIIRLj7Ol6QEHjSlMwHNa//NExGsReUagAMYGcUyyUxTC3/D/nVubRl0R93booUEQo5aHCkqCJU8rp99N3KSdWkd0ifgIanplEGhipgOPkZIG76Mr/ToQFp6gAYd2lhYfdmKVZzd7uu/vePf7/f/9//NExHgRKUagAM4EcRpkU7lOZ/Iag0cvKsY6gmCVDZ7H0pJKBNZzIWPlw2JGOercGPtKCrT8NxEIhlQsCHGBl4BV4gsBhsKILOFLGhkSCj9JNfdbbenfpX8/8/YdAzld//NExIYR+VacAM4GlaimEBkegpRSTT6N1f6dz8vFSwzrYBEpFgyzUfVcnjAABzS4KQD6k4AqQcQEDD5LwzpqTBiou00trKQenvdXai29/M8ShCvIxoqEFEUYsHfmFrKP//NExJESSWKYAMzGlat5xSC1gMFGgT+A47AI8EdNKsMCvk2wzgY0B0FvgEcMWhb8MiQQZoni6VDQl3bay1UUktqmV7W2v72q1a54J3CqGaPpp7jwHVVyB12BthADOKWb//NExJoRaVqUAMzElQEgVOBZq/RkCli5CxoCKNkEZGESkl5wPZ0JTq4ixJ5PvWfbOabtr6t+VaHzpfD2/vGrfKsPPBuqGy9sfxUVDDAoU549HQkmLFGUemIl2lTUzdXo//NExKcSSV6QANQElYJlRyoSI8sNY+Sau15mVzDhm+df51Wta71/X7+WWrL/6lmMWqlo+QCMFOSFQ10///8NdSo2tYLzTYEgyWTNQUuMcJMOUEBsZHgYQRBwfomQ+T0U//NExLARkVKAANPGlWsKlmRKQUawjkNRS4Z3CNXmrRyZY4lg1QyFKwOhkJIejzNrxYWQBRS/9VUYoGFfHUpkIMDGDIY80biVGg2DAHDZV5wPj0lAGLmTZhLkjmE3C6jy//NExLwSSVZoANvElK1mu4XZk7hhsulDD5N6BoBa9gtXOIYLq2NrO1K5BUXUwoxaFWFASgr7IqEVk42iQXGYYZ13MQ7zIRPiI+9wbYfSgTPUklNqiS1S+9FGvsvRIqet//NExMUSSN4gANPGcMImCpUBD2TpmWtuxaom56WIAiBw4XYLJEKKAJzlFOG4QxDID5UBWV17y8zTn6swQgQATRA5hUXD50WYLvFEChgEzYXD4XMBAMBCXbu/5+t8o6X2//NExM4SqEn4AHjMJKNn31diLmpvUijp6DvojOLjNlACHibxJYK3IlyprbOoaWrVfuCG5F4vFk/IYxOENtwdjY4aTnwlMMnml1a6p1O8+uao9HA1nO32nV+bzk7evTk2//NExNYSYGHwAHpGKHpz8Iy+MWRydw5KknhKTcp8ciVm85ZrPBGN5J0astE58sihR0sOczZJSuTLItKkSk3JOpKz5OlSzTNOnFyZZtdcmLcl1IwWadiKZa4AOiGhDjcL//NExN8RQHXgAHsGSDU4oSHcHpdQsFuY8VpeGaeeQToEGc0o9bnfc0Tt+pxA+/EaRB88g8//aQTyf5Yi07UeBHk8iWIv3hnJ/+5/P//va9PGWuyTyRyrWOUlChUVAUZJ//NExO0ksx3QANMMvFRFSqauw2MS3KloItEZM/1OAi0fzrBTAkwk8yyRZJ0fVPLTW/zlPstpsJPnotEksjCXdkjUQZZF88lJGqJQk7aaUkbZEpZsbJUEi0Tlm5+RMCiw//NExK0U6GnYAHsMKZOSn1ZEwKLRafzrIwSjXmGkgZLL84oaKG5JUQSaKhRYWTxQ0WoDQIQmkKLgQhENLtORzHIpbV6G5U7klfsRi4oVegTNkDSBdpAm2QMoLbhdMJtr//NExKwfWj3YAMGMub0EZ/+FMLvUyfz34Xtfb2Hn4e4e6jD9hOEHJ0Qw9R6ZiDk6IaZB6ZRByck9iHTYhRB78Z7m6h7bP2y9ibbf/D7GQ9t/D2fpCbaP4g9ZBRPYvmIH//NExIEhSxnQAMJMvaYIpMtVLXiR2dthi0WgOJz2NhcNk8UijjVzrsACHdkEBgykoCBwSAglYfUyD7y79YfC5Q491AupBxRAYyUYs313G29Of+ohV7mNx6V5skosNTnj//NExE4SWIHkAMJGSAaBDwIRgk5UxVmNLlFOzV+22iMw7jSSs4Nh7LpNJRUZSsHC89Wq4oB51jkjx/X2UdVqFaOB9hVL652Jhe5Mo3lYoT5y8xfRujJRlNii6MxrPhp8//NExFchSvHYANMMucnV2uNe6QY4+NpdK+PPbf7lF9iZ9tD1E+XanvPXf33z7FU8drvGj5DXv6lPvTNVZ+Jhtyf9NGGnYeB+5VlHgDKcD3B1wguEBOovCVsqs5JeE7me//NExCQXATHsAMmGcbyGTRbx3j+cJShFj9JU0aNfKegORY3GyN6Mr1muww6FXEGxsNNuPfIxqne09lXX2L5rbB+L6n47LaD35dVdWXBAgDIjShAcTKcFrVFCguAhUJRG//NExBsRMGH0AMGGKHSxSAkAs84TSSpQMuVbTHIqcoCJnzFWr26JJxpKbbxZKJNDWPUtCW3sqSeiGn4Icllaw0IQ0uSwmQiQwqVUAjaODp1Yw7Ue4arOsLDjxYCuLCUz//NExCkRcGHsAHpGKAZIw6GlHg1WGpY88sPcJiskIsO7///+SzzVBU6tMoUN4Ka5Mz4CARFULm6TRsAKgcDMg4uFAGBBOaBAmGA+oMKCLyjhA4RoghD6z9Z8TnxO6J4O//NExDYQeGnoAMJGKCgxyhwo7ok7f///0G+EiJ6w3K3cBGaMjaVwj0KoGTGAFKIIcfUfSwubSGGFCEmoyFguCIXqGOBRwq8QrLJLJB54YeQe1zVLWupzXNex7Omj//ZY//NExEcScG30AMJGKNa0Wgu8cK2O+7D2Q7EY/OV6MckhFLj32/1J7t1YVeGb8h2VdmVYFU2xLhwdJAkPFToNLhNRU64OoEQ5bWLW26esr/rZ+z3f7npJKK0foBEepPjv//NExFASKPHwAMGGcFiLOlRLJlVQ/B6oEHgMTGxQaIw21oeYknEp4UIqavxXM7zSm62U6X2vhXfZ29i6uvT2OvS+5DnvQivTJMAUZCjDYk/OxyZimguFADRCpvk5Qk0r//NExFoP6HHwAHpGSBBzsEV+EdHSKgyKl1vL1JXmUPYy85zRo3lNySHLs/3nP8eQ0eshYVST4f06mQ5DowhEtIkTWqkKJpE08yaCpfuRnsdn51TKLeSISDoKjgKGlgsP//NExG0P+NYMAHjGcAVOiI7ZLHg71nQalj3EoKu4l4i8O/PLO8jPfSo6KuE4fyQ2e1MxBTbDA6NzMLA14xlzCzLEH2NA0AY0mzejQATNMuNVIxulhTBtWMpMQU1FMy4x//NExIASGMH4AHpMTDAwqqqqqqqqqqqqqqqqqqqqqqqqqqqqqqqqqqqqqqqqqqqqqqqqqqqqqqqqqqqqqqqqqqqqqqqqqqqqqqqqqqqqqqqqqqqqqqqqqqqqqqqqqqqq//NExIoL4DgAAO+8BKqqqqqqqqqqqqqqqqqqqqqqqqqqqqqqqqqqqqqqqqqqqqqqqqqqqqqqqqqqqqqqqqqqqqqqqqqqqqqqqqqqqqqqqqqqqqqqqqqqqqqqqqqqqqqq//NExAAQMxYAAEhEuQQQkQMBdIFxUOgQKyBNp0mONmMjIxsEl/z/5L+bqv3/vb//f/3//////J//X/3kkYhCEOc5znOHFgAAQAAAAQRhOzdQw6IRcycVTsf2HIvLZbWz//NExBIRsEYwAVsYALNNjcuiEKgmZBZ/WzvPvepxAHJc0gcSQUizxBurOZRLNigic/8QEEkH3RWH7Is5j1VorIZlEhRQMo6qWpil/4YIwqaf/M2xxLp4CkwwgHuekibm//NExB4Z+ypoAZiYAOTg1gBkAdy/3w+IL6ByghOSf/5fSYnDRP//IgUyuRcyJw2///Jg0LhcNDMi7v///+ggbmBo6FboK/////0KadSCAuclyCB65PE4ehrs6QAsXCuM//NExAkUuRKsAYlgABHGE4y1ekpevR2Q6RAdeS+ZuLMEk5ZNcqHo4MsWPykdu2+/zMu3+fmF9Tk6RYUg0LsetrU0HWsZFBjf3O7iYjo/nvUFiQE+ZBAbZk6ATgWyeFwR//NExAkUcN6kAc9gACJuljrWlBXV77pneN1xfG3liopQndCyZTAckgHH4MIZecPi07WjL6GJkiIiDIKgATTA40WIKt/RdJssGuOvm6p/rRP6v9Pu36GrZJJzxYX/IQDK//NExAoVGUKoAMpecF2kuxQMmad0PBz0IGyIMaq26RGbaG20KRHGYjQV0YWxtYC/0evE5RvHrtMQRx5+Te+M++fb1h79Iv8tu8m4OFz////RH0/YXt/9aqWVDBoTg9jM//NExAgTEVKwAMvSlMQqReKkNEnsyud/Kz4F/RU+kTd1/+AzWYJbq8TaVqLrMwH4y3RYWWFAFmCAXujroQ3+Nzzbl+o+einF0Vt0e///8VMkKrF1wzyHcMEmgqFrEhN5//NExA4T4U6sAMvSlBgV34Z/Bhi3fW8amL6pAfXao14UKza1uj6FyQSKf1gsTMZCwFFBchI0iLJbX//+VtSzxcrBFTSUSKf+z/9df7t2in2pQp0aIj26KWKqReJrVu9y//NExBESQMqcAVgwANd7jZ/n75/4/Vf1s+aNQBhxqPnfRLQEBYNHlag7qDs8DQdfyp3kg1uiEFSoa//O8GgaBr/WoGnqVyDHs2jJUAyVLl/nZisVne/h+Nn+/t52rnVM//NExBsZOyqEAZhQAHdtV2Vf/Wx7iI/0tuTDMfjwQoF4sf/b8LsfiJC7BrIGJxp//t/nkIX4sCILCwIgfhTuQAv//+9ld/meJ4/C/JCgF4i0LD8WzhQZUWv///////////NExAkS2uLAAcEQAWfMRlGdTixA4cWeLZqmZGIHIgChWdKnP7q1UI+jEkkZ6Kzs6UVQUIOyMlCQaEY9GI5GnMUUgs6hGIgyIDDu+QafSyqQDYSqBn//X/zLn+Gs8x98//NExBARQo7EAAhEudZ7KdZiuFRDUM9UqzMzu1/b9Zk/M/I0joKujmfKrFzPcxhwrKVlDHetCjDVAskAMmryr0+L3g+wQSLzMFRly1cTex0RvBgwObK8hlUOlaPOfsrs//NExB4R+TK4AMBEcODL/1WDMYMYXwVYzan9vktEs8kq9MaVUpQGQWhJgTMhUahpYNGXLBZDkcbmyfSiGSx5y+rKRe2YNQ0oNwNeCvyvyl/R2iifC0OdIpcTSoxh0tmD//NExCkSeT6oAMmScP1mPdf7//4+LGxv6nqqBoLId//+dr4q4kuuM7Fe/6pYKLm0Jh+gDqiAyGUHMWyGJZc7IjDhZdztqW03KvcJX3fNjykaR8LQxNkg1m5e8gVAAg0M//NExDIRSTqcANPQcKEeFgcvr/7f/HlHRCT////rR/VVsNzBjIdsLrMlhqQizRRsicovTBH4thZIWiAweVOOkToyuif71B3C/mp/JJ+0dig3pMAlciOJsvAZBT9l4qOJ//NExD8R4OaQANvWcKnf//9by+r+tZVERmQ1U3+pSiuDaAKEoX1G6wvweHMVBDEwY/GW+Wb/r+G9KHTJ9LsQEAJzGgNtyIQ3qEnbus9Q8IQueeeqo2039JNGPP////Qq//NExEoSSVaoAMpSlPsP2J7PfMgQFp/GMCy/Zma4oCe/INbSnlR+l8s+Kg33lBPwyKTYFhdyrCOqDa5UgYy76qkEUW/HbWimYJypxN+vDH///qTVwyZidCEJpiQ51p2C//NExFMRiVq0AMrSlMaqp9txn8PpnojDyr89w5m05XPIJI/ngyALBEBKDYSRIRRCSFtVwFvIlZ00xiqBSTU7jsiIjIyFGgMufTblWCjPpuVCVJ5asgDzKemciRMIok6B//NExF8SOV60AMrSlQq1F/Nfy306lPiQTD6QlAZSDwBOEYrPYjJqKBgX2aK5vz0zUK9nWPY49HMzWIWN///6l86iqYFdI5lLt+LaHRktqJri/yGp0/LNbvfkP3fd1tr5//NExGkSOV6wAMrSlO/WiqySw6EIQxVsHjDAi6scoINFJRBT1KCK97N6lA1IhNFoDv///WrGswkPzOPGnjxeZdWEVEvIViIDVh8lhFqoSqcbnDZ1teKBlE0JAaAgAoiC//NExHMR2Va4AMMMlIIHnmExXAioSNDWyZUG0pC9f6fE4tM8w3Aimr+ah5Nh/xCtbtGOTf5+wadZuEfccLnd1dve/93zi+ZLe2cQcxla9b3T4tw3QyC6BhDLkzMEbLlf//NExH4RYVq4AMJMlTLej8WE4+vcpUaVXpaRq1C+6sWihd4R0qBM6VwhQS4l0sBUZlExfZBDnFap9x3M1Nsj+pk4x7ljgkXA2WjxR8Tyxj7VvetObfYz9pbpxx1+9Nih//NExIsSUWKwAMPSlXrBg+r///TV5gLhg5I0i08ZG6jHDF0o812zs2R2WbPxFLo311xdzA01RLhKtQX9Rpevkt/nRkwkdaq1rx5LFKROqn0tp0v///f///s+pc2FAbeB//NExJQSCVqoAMLYlIY2ZUgNDJm5s9ay99+1jEsGMXalStm/ylUp2YFIlkVYz55z//G2qYpan9MYm9Wkx1LoGDif//vONHiSzsJ/+iq5dr0UqpZXBFy3FYhNy0HvtfYd//NExJ4RYWaoAMIMlFn9AILDrnKce67+3/keVFYwsQdo7sv6PWhCw1RcgmPhsPFw+PsJOZ1/+OGhETkAiT3LQ0g1W3R6v03sRAM7/rID1HZKEGp12v5QbzzMCS1Uq89P//NExKsSSWKYAMiMlPrzzuOAW19fu6Iws4NxwhFHHDMcZBIqDYlmLP/72QA44kpci9pL+9qF2kHcvNQEs2EAnLfI3IHyl0LdWc4ohAuZrZPU/7kZqkGMACUtJ/6UZCO4//NExLQR6UKQAMnKcEPAAwRhZgE5HM12X/////+tnEI269BZZhxb/6GljxV2XRWC0UepBUB54CafnWxxSV6tM1XR/5daMc4YdSaEKif2YYwqIHMJiI4B1IBxSKClmfb///NExL8Q8VqcAMiElP//t/9XZR5AZe/1Je7/OrvQpd+Q6EUFgRxDSFluaTe5TA+U0SYXiL172eV/KdSnUpISQLH2PX1P+///dUutJNlCoMkowSkpYeNqvbMv///khoAF//NExM4Q8iKgAMCEmJ6V2FFMYEUf2pXCPkMgHBZMMniUPFndDg1WneK9WBWfBHKPkn7P733/9+VQsIZ4WB0Oy6iaFz2P6mnFhqcHBKNheC4qD4JgNBcEwEQejUHxsld///NExN0SIh6kAMlKmP/0/7p0rmZF2IuWODZ45igwVAoYRv45A4N3UK0tEYo4Y1vmyGVFQLNI2vfYgm94iDugfeZrHofevY6iLtF1CJSPHYOnN3L3mZ2k66fxpchiP1pN//NExOcSoVqkAMlSlFw+B6wfLl8EH//9ksQIg+Y1UCjzX9LlPUI6+YIQztkm4JEWqsd6uk3fqyb1BRdVB8uMeY9W+YPuUUiIdA9lQMMS+yREnrf8nKRJFQnTWREgVPAD//NExO8Y+iKcANIOmHnQQXQqEwWZ//+toMNAoZZchciBj//pis+sQ6AHSge4xQOIj5zFZWbTepHyDgnHlRUymUfIMp+QPFxeeC46kwfUOyXb5k8ki6ofSM5qPdaQUI6p//NExN4UYVqoANFYlBODgQSE2VWe//////fZ6k3WZNxiWoSEV1WrqtW9JYjeEpiWpVHMnaUb+CNWU6iL0hhZJrUM38KiHe4dPvrUNK5+K/9I5UF9MK2yYiRltiAhJvfF//NExN8UAVKoAMlSlCfKhIQg5HGCEH4yCoGAsPEcWDU4W0X/////9dyRhg2aVZLRkq1rj1/7I8qJrGyKKrMuWBPR2dWIBdYUMJ59hGNns5rtIM0yEc2WZP1tpN9Np1Gs//NExOIXQiKcANqamIJ+42VFJBR18zHRlUBaecOkIQgYRLAqLDzQYcPDza//////3Zh2w8YZrdQZnfz1w8ew2wVOC1OOQSSiRo+G3SWmHhI0gwUvMx8MWdOxqdSD+SlE//NExNgYUiacANrOmEW0nM6xs2ao10MzXmqpwmksmhjaGN5/UsvOQlA01UcpcUueFQzJEDR53//3ySQVMNsZaVaGv/1u6oQlQYNO5zmRAYjtMMOK0DBlvRwYjwrjZdAW//NExMkWeiKcANNOmLFbAD1G7E7iUPyLuAThxbD8n3i/e4Ujt0RkwSaWHEl6J8s8NZlC1nvZ//9hUSxQa3SEwWe9CmstXMAA88cSAUlEAYUQBg4ADwMU0MPg1Dc5jpfN//NExMIVQU6QANtSlMLkZCjXB/mWtNqvnbVA2Rca3u+iaDDAgAO4dkscB0tFmz//o3Kr1f/F7vQpjVWAJKtA5+zwURX+AI0MUkFcj+AACjxWg59nbwuv4Hq7YDkjVSbJ//NExMAT2MZ8AOPMcB1cXZG49N6hxcQoVcM63Vti0j1ze0CPuBr/5p3+4CICBywbq4/tCzhw0G8QKLcvzcfx9/37/1Nx+/M/L1L7puesLq73zdS4vdDB+9N6V/6cvPSD//NExMMSqMaEAOPGcJyxccWcHpHydWW3xp4DbSgnewLgpF1rPd4EHS7qW293eVw1rgt7TEgVi61RZ2zuRT8zFmbR7hLvTy+JWvZaA7GiWBSIGAcg3YwEoUZCAIs4wxqu//NExMsgYs6EAOPQuVmaX///++3+taSlG55kk2rqZDWySJxFFbtV7Vddal5m8tqfb06ypJ9/DxxGmViFCYUFK5MYUIUAKOU9aEzMlHRyNMzXLmTG1az7pFBahji2N1MO//NExJwbqsKUANtauYfQs4zZ1Pvc37+LKpFfDepiLeBLDyfkKEwoltityVm1H///rgqZDp/VVb2fZ2yA1mrC5XOzWV3CAsSIh2lIc0U6arLKw0OuwYrEr8F3sZ2vkOhA//NExIAXgWagANNelAuLsaAHPBwD5vap5fDb/lzKHjroaPKoDm9IH9sjWUL5PVvIe9Ch///9x96P//9epqk1zwbmf7N9KRCUODONkJkFvmwphyl9DHZSE5k3dfeCKL7x//NExHUU2WKsAMoYlN3E9oPbsIZRcBoaQBwRxGbCnmfMNIggyhaySeSXQLLI/Pw8ZWydzl1rAL///+ils1mYjaZNVWZqq8dBaUNi0sHAUxyDf0wrtm1VbgR1Ar37Yr2d//NExHQT8Va0AMMSlJrth9JtcnsvxncWI3O0CjzMIlrClJgpDMLT5tvFvP7+XS8w8pGDqHaV+R9lK/G+s2N+dTns0oshReJAByiNYdFwijsuPCiTC64sDUQx/AwPSESY//NExHcTEVq8AMPMlWTXH4sp8hOsVEMYQcDAiEIZoCrMRFkT1KQkWOuMwYkgpLaYJjtqmgJN6fp6Kw7E4J8mjcJMhi8cilRq/kEgkkYPrhWDQ/A2oVLvM3vbuu61mrXs//NExH0R8VLEAHsGlWrTvNjM4lutdWaq+/WYg2apCFFH6SGBZBqa/yF4YFjsFqXLJUcUpRQCrlVQI9Tot+wVpThF2hUCKwBEnumYypOZAEsRIkGJS96pSv1NZBZ+JDXs//NExIgScWLEAU9YAVBBUqsSmUuu/uUZpIvC4VGKSz8bgKAb0ZhmHHza1L5NXr34pGJiV0m/r/GaktlMcsxqZ3n3////8suf///0ohDNv+mpPHxRekxAPDcFKVhoq1IV//NExJEhMcKwAZjAADgQouReSWtR3KVJM6tcJHz1UxRCQlkR9V1atFMZURNHo2ntP2NyjCUk4yaJgWy1OeIlREdcha1EDYaFkY8JGF212iP1Hh3rGTTAqqAWVFZfRtFR//NExF8QYPq4Ac9IAKuw1dqyiCVpGND4sJkPU8iUuEpx0ihdmRd4mW51EtBQ6KuuPv//2o/8YrLIj1hjzCB8PFZqa81K0DAFqIZoC7L2tVy2rYjX6phpne5+6BAyyZs+//NExHARqP6sAMsQcLQNqWwKxyLnzZToMtXuQiE21rS7//2pWe8kirUQItDyZSXXkr+QDK1ppZD0KmHipVAfHJ9p3F83s3w8LpJiaOFCBknH0iisp0wg9vv5OdbqQIZw//NExHwQ4RaoAMJMcKCQBn1kECtP//3A+LX////YivkopuN3C6m42hfmxBQulf/Fg+2UFuS7hD1tVeCj37z2PBawgXAkA5OFgGgOFUi8XFSxxRCpUHnaVxvdIOi1MNhz//NExIsSYRqsAMLScJoV///2KtyoCGaFMIc7Ci5EK4IPR667m5He16bbJvF/LN4G8S+Wf13hJ/JFRiqaMAKYwPcgdQGMwMSMXaszg3eszGG4gSon6dNV+wWSeR0wgU+k//NExJQRsWK0AMLQlPqctlB22K0Ez8Cr33cfmj2OdMc0elz9e/Sc0TB+MxWgBwIpYdWWESsHo0Lmo/aza1en35yCjkEmwbHFKq1CFu3WejWJQkwrWwkbbVkki9dbxN4E//NExKAQyVK0AMPQlW774n9J++xj7pvKu69HnF1ZjsI2TwLkYrGyB7HFFh9hOvrrz1urjz1nlpJ12ZMMp///6obdMEuSuIUg5IWIA1KvUVZVBUPSLmONrdam7Vx1l2D3//NExK8RCVq0AMMQlT7a720iwlB6PglAJJgeIYAUB6g9ypqw2PNr/dba//+UVkWya0FVNhvBP4z0A4V0hTmadPBxLtAmJDHrbpH5Z1r9Q1L0yPqJYTA8oyTQWpJQKQHL//NExL0SgVqsAMPWlBgxGzMRkSQDEGWYKLwnAww8yCF7HoYG6SzikkTY+ipEvlM+aMti4gyD1JLRrutFNN071f/pS+fL5fN0NCqpSvt/+ggy3QU3T/1f9f9eveaIy+Xz//NExMYRWVqcAVhYAX4rAVjyeB4fQSHnLyI9tJhxZ5vKteB3mlKv5QwT8c5UThZj0JUlhgSshDwHaMUeQ1l0vlQBvCaFwmFRuBiDCjacTJ5IFIuFNmp7ughWi6KJkg6m//NExNMgsxJgAZpoAU3rdS1WWgtzRO5mkXDz7ZKoF0/Qziy6eZm+u319aS/VrU9/u69BnQdBN//osrWv62UyZ3FVyjoUOHpnSBqcR2MlBhyJxl1l+oPa83vWWTd1mE5K//NExKMhExqQAZhoAZtKTjjuCQbYh2jrnC1qNkNVNvjfjx1c627iwVJAgIS5Ls3FZRCHjyv/9Y97/Nf7U08pRy1DkpSJQSrmBDIe3iOJhW48RLzC1wWCKtxB4JA4TU87//NExHEV2WaoAdl4AcnxSNKj/bykJQ4Sw79tdDjt3Zap6pEnHlcZpqKrfxpSBBNxMKiRA2BInDQCgW1UKXvvdGPuoKoGpvMEqWKoG29BFn//9KLtkdEN/pkOqImLPF9X//NExGwXsW6sAMYSlGQgOtFWC86PJKGj6oPeoEyopXYc0DJQx77q5Vn115Wfksi3ZhH4yDcJ24naRfTgWYuPBfwckeS/KWRPpNhIf2wa6RP3F1l5D//+1Xpq/cqIvdlK//NExGAWUW6sAMYWlFDyJKtxgpFrTMwYS0hgRVmQrb4N9whlSsqcV5VH4PQeUiurRt1e1fj/Ku0cvIi3PBl4nO4UgXPfu1NNeDoPLuiOe/gvgTUEb5ithKFmAORHIgIa//NExFkSAWq4AMPMlWif4StyQxdtp/l+dsRooWgyatA+IaEKhRQ4DdiHBzjecbhEp5NvTSjCgcIMmg6z7VBQjbTDCQq3Ks0BdKKorJjsu/LmhL0dR/GaSIuhzKNC4rOq//NExGQSUWq8AHvGldDUiipjgOdOmIP9FsDuLaS9Nb1XP1tTerxuKZWCRxMPSUKQisdldlGDI2psUgkrGJOYq4PFkPxqNAuSLLEWMlTOi9q9kUywpmNXDQI0ZkT2MyLG//NExG0RQW68AHvKlWxElHazRj1e9Kqp6Ne1CpkDpqX0U1s9VB0WVSTc3Eb3soodgOZIAlmuSYC4AaQSJfGWMOmgIIQrRIxAzQFNY8wwzSKL0wC6yihZYEoLSlzhUaZC//NExHsSYWK8AU+AAKZTOEARZ6DRWyy6ABt3azo5yWUkSta7lG712xan8+V5fL7stjOri7q2d6lpH/zlEko4fiNnK7AMqlzWpTemaCtPzlmxU///n/ZpSOWD7vxR/xni//NExIQiCaKcAZnAAM3///XVm4BH3DKAGFI1lS2lG1Hkd1Z0AUeTBplBrLKpa/LvO86rTWrrrBtARoeC8PUxOVqdkEk2bdJG9qNKjStalY2HTcS5T3G1U9WHBUuJphG6//NExE4RoRqgAdhoAQoABhkDAwSKTqABQQII6A2ngGqQ8elQGi0CfOwUpPgE4vYOVCjlUMKNBiwlfe68WFiruaHdobMNFfiiSz6CpoXFDhoRQpqKUI3A9dnMpRTOjowg//NExFoR4IqEANPeTUjKwVORSaECAHmbqMPRabYJMk4PIJVI9lvanvqj7f8z5TFRVcZDAdazi4wr/u/9X+j/T/6VScMDAU8QNkRDA1MMUAVqwHKGIHgIWrYBBtZpT3sc//NExGURoPZkANvEcAcDECpaBIAyk58Fw2KpK8UYmeWXIgq+r26f/cnvd7uvpzzXTN12jW2v6VICkZhacdPxmQvA48lJYOlJngaXyXE1JQ6jn60PS90n1jcro6vgMgSb//NExHESKGpYAOaYKGVmCfwKVuid9uQTR9U7R211bxagzll6WqNqrfTqdZ36xaoy6BObfQaYGZjZuuWb2ZBcEFhIBGKN5EYGLiaVkmeyFg4Pb8vpniLGrCgA+Qdj6eqs//NExHsSUGJUAVsAAIGVxZbK6/LxOEDJ9BPX9DGYNHHAeTarV3tcZgnFGBcNDR76u/+Zk+ThogpBr1X29e/trOm5cQNDdJAn1Ghur9fu/f/rt1IpuZl83QMzcnDMnxgG//NExIQggypgAZuAAESsEFDMnwtOYYNBIkZkGLGC0qScnq0zdGUNmHwmMAywvZMBzBvFhoYpF8dolhSMxhRbEqiSZqy1jgJM6gcUxKlpoZrW6qaSRkbmlR9JBa6kGsp0//NExFUgQkKYAZpoAVm2betHb6VJfupCr213WnTe/VRMk7ufSOIA0Fbu8Bfvd9kUxL03+74AY9BHlSaRq2FIDdTrIpAuoe5bAUdYv2O6gJp9Mz1FCWsNR/dezrlFhB2D//NExCcQ+IKcAdkYAEZqCTCAoCgql7U/TzJpn+5n/0rT/Nrv/p9qGpsTnoyAYZRJXmZR6JD5UY18NC7K7InZNMLlVSnRsV0hTkrlhlcKxNRFt1dWed3UWCgKI9ielxgk//NExDYQqMqcANPEcDf2f//S936de/Z17kLcfJKRZSICIAiKjo6qDygq+u9673LOwsz6AZDwGVgq1yVOYsIJKuFV/6XGVnnrlFgcHzkvKOQtdivGwxrN6HL8cn1vKWKM//NExEYRiIasAMvSSFXEcIaMVSI5HNZoxpdY//3T/KJIZ////////////9/7VIktDgiBs3kRGSU5UlI8O/OI/12QIghwZpAhc70OLsPMqxgwuOG9R18P+JHXiYNq7QTz//NExFITmpq0AHiGuX//+X//////////////fP91pev31pbdzC9jG9+ENr9CJ2v/vu9/6jbFIEOl57yRtC7RZsZvkRXT1o36hZm0q71BoKZMmhLVzXr///y///////////NExFYSSxrAABBMvf/////zy4SXIw2LsPG0wzatCLXSfuRXkt8ojn3iwkUhnWmT5QQMJgWcJBkqrQSoyqDYNipI0yVoIDT//0CMDOT+j////z////+/SY//5YQY1Ajq//NExF8QOxbIAAhGubQ9WgYV7Nw5Iq8h/aVXY5s6WNfX/5QvRT2f5NfJGz9LC0QaSsbqyjxRnNqA0T1fq8JIAEGJGQxUP6QolGASIrDgOhwQwnO+q2QNigXMJefG1ny4//NExHEQcorAAAiGueKD0mwfSKg8XC5RyPhV3/+yvRQlFKLm3QOdhCyRMxGUKtoYaBar25LaPDdwlt6kACYiMYPI6Jnp2ZrWJ/j/wd/Ff8mZVqjmo4rFXxRmlLofUKGO//NExIIRMIqwAMPYTIJKtISX///fd+VpzmFZQp/YzcgwyR+QQyI4xpR7/UqN4aaomQIcfKYQoBupkNUAzxomyI55aqMdXOPm3LZXu2NdS+FizxF3F2BxZFCxh0rJf//9//NExJASAVqsAMvOlFXUta8bRMPRm9cs4JB34iI2hHzaFGSoRFhSJ8DAkyuaCegLgiTPDGm6ZiMqnl7U2ro6j68bxbQfoK4lq2Ej0MGYS3f//9l/68o6koYnPAoodt/S//NExJsSGVqgANSOlLUIQ+hbsPBmb2BwNFHKZaAGCCBzgdcDDIA2hijNESULeY9PV1ceapDU/HXoZ21bXKB9h0WSU////12/qZDKlMTd2w7S80Ag8XWjghWmBOR2sVAI//NExKURwV6cANUKlIcgbgL8RZx0gCuA2JJjUDSSWTI4hWlzq1PmGsJ9cTDaBwfje/bXh2pFTHVu///7LfKLWos7iPZolCY6Ho6FQVMwCEkGVGBIplQehjaiVqFCDFMl//NExLERsU6YAN0OlIjBLzJKH0AGiSq0MY4qwhG6VfEh3A/ySuRhz2CxCyg2eKnr/EUGoaqdZiShYyJPDFYIaqDBAZuGqcE4BRqxeboY50J4BLOUpPy86lLszXSRP3V2//NExL0SaWKYANSKlPntZrMqpun7GDms8ueXihG1UCg7Pmczde76/rV//+1ol+2fTWeSAZCTx6UaPHaMKaiJbfpO4IVVvw36PeDnBXNLpDxer85vppQF3EOKoehKO39m//NExMYR4PaUANvQcB3AiOV38CFSS3ftkJ5BjKx6ZY3V8+DJVjrRwWr6CNltjW//+g2j8gdLqrs4BdzG0WyYJ50vJ5iEM0hgdcXZCoA8iYI51i8SARnQyFKsvm1yeZ2w//NExNETqQqIAOPYcIWEVG3qoxGEGMCIFyEOav3slz8Tkb7foX7sVowgOtYdJ0rFCEbH5yGxSGw3NcLtEBJtzh7SIBIQKMoiSBGTm5hkTmjb//9LhZO42oYHnsv//9z1//NExNUWCQKIANvecNWpEApkCHa+JMnVHWVOyX/AAVmkyU/AuFCIFPXzBafbyKyNccpYd/nZS7kSWyghAhgLhpawJdcfGo8tJQ9qz9WYnZ2V535fQ0l6cjcy91JHZPnM//NExM8fCW6YAM4SlGVyH68/fzywwn6emvU8qrRirKX/u36e6aOF7////ehCYZ2kJDIhI9I9uCsS4HfQ2TtCALbXII3K2gSIHIlqCjyhrTIQCQRiAoCUY0tBMv+0FDl9//NExKUcQXKsAVjAAFXhcEwVL8WXInKKJ24OqTExOwFLqKMzMbgBzJqxG33ht1nUgCYr3YMf2zEZNP0UDvpB1HXlcTgR3JRL+TOFu5DNBY7z////PLD///+0Ff/5Qv4o//NExIchucKwAZjAAK8ZGiOyHAjUseaSMdfVXHsIlSBU88Rfp3kK7Ke7kqo2oDFtVIdOy2AghzHvFKZnVUVjdSsnj9vq1+WNt74s8BbamPSHaj0w6gsmIPzWXF32Jp5H//NExFMYEXq0Adh4AHCh9W+8WDpRa9////oqwboOjccIEwRfDfy9nNdkcmiTmNGXfF0+Ifhlz3haxLXVlZMn5zHkxCTOhPhxmiTRPn6c6ZkizUeS1jxYEWaA3XfLb5PM//NExEUZeW6wAVh4AApsssTNZ4MCs+MZreuou5IWH0d8+kgkjA06bN///+cSLQYcIRySAGCIIhoRPtaa/V3w83rL5I+KhrawkMM01AQg8UohMt0GTwnhVNeltMaa1auB//NExDIeeaKsAZl4AEwmiiVGYSaLmq2k0kKZvOwQ21xb36cPhdM8beI6lboUat9P9vVfrUV/DbYGv8WhVj6j/X/9YpXWCiv5fpDC8OOhLQ29N39n0o1NAWNQVZKoZt7I//NExAsSGQaoAdlAAIS6o7D6wiZisPzkMx9/aKhszWHU6lVRilscMF7JCh6g1BWqiqojvYqYuPgvBUk4e27agk0q2g/b///cxiF1xnwQYifAqMq96Z18qBYMI0xLVpWH//NExBUSgRasAMMScNo7fZtT6ftKW7M3JJdhG0qF3CAKHBIyshXt0VIJ3ZPCE/ja6cGAOJzQsHXnzf//9+7q///oy4QoGp1mwrip3pSvo6QEG5wWCI2reYLVEzF3jGvW//NExB4RgPa4AMPScPaf8ZybUYJiA8NrB4LqCBpBFWhBJhYsXAAiGh0nFUCgVEiHFnf//+jPjlD48nlKEFiwIgqTITR3p+saXLzNGX4cv59ek+Y1CJpKA+wkBPRJABM8//NExCsRGUK4AMvWcNyNlRx6hrED/PPakbb+/rhVYbW4OXf//10qs3B1ZzY6i0EH4ci4JKrRbCoL1dJmrRrMX4UVKK3WUzExIt7qsdsLjCejGcLsihkfAGVQFasHUOB6//NExDkR8WKsAMPQlejR/KcD6uL/4nkrkronyprRBURplLnpbtVVCXbSrdUPJ9M72HGmgTw2P/c0d/nEkBkrMlg0GhUjJPKaWdWctZ69qvERoacBwmxmgeQP9j/d26+q//NExEQSOO6kAMPScM////qTpdDAJwJUsyFjrceEQIOWkaOgZJeXgbjhgc7vbal8NzHmCgpqiFxGs/ReNpfUd6oXN1J7HD22KM1CbsYPfw/nV3t//wztwtRjsmapXR0O//NExE4SeU6sAMvSlSFilOFw6WZLmMeyFGFAeGcIvEgFwj4JAlsthXdsFTlcAtX7AH4qdrlK+h9ZwxY4maKBJqBIlA4siNXjj05qRakbmuPtnaDV1VIQB55VHVUKeOCR//NExFcSiVqwAMvOlamiIFpGLSwCvrcAXe+1LV10p67A0VqJ6Os+JAj9wlbXLPF9q6tXEDe8vYvfsssdxzn/EHVM6//3XMIWGPcIwqPQEnVYbDiXQCgRErK2BnRLVurm//NExF8SgUK0AMYecZF1yu6pItyC3V5AbTa7YI3NJwW5mpnV2xypB1jNc2vjVsabrw4t6Qd+uvCvr7YkpcXLKpApUM5HKCZkoDJUwdwAiJ8qHhgK8nzh2M4VZTO8mpdT//NExGgRyRasAM4ecUpjMtHEshKRVRjRLBj2a7M2/Jt+1635ZpdfauyAiz10JSGjx0ZX///1VTPGB64OETOMd0RpHIi+6OrUEHwi2K3uaKAy1iKDFtkwsQBOwGTRWlRv//NExHMSSP6EAVlgABlwboBxgytL7tFvGYEYCyRH60C8vb45ZDiQHWLjOb/rVyXMSJkEIoeNP/f/LhKEgX1GDGX///4swdhKkmTggGUiIF8myf/////5mT5FC4aETM0y//NExHwg0ypsAZmQAC5FyfIIRQ0VpIUIGDoIVvTnMlMFNxMxEjSIRofxrky/8Pz9mYjErkeUBsrcsSQFoDwJ4NiBqao1oHjGbG1BJ3SNzEzUipN3ddanUmt0nqputbus//NExEsfIjacAdloAcLM1SVSltSv6KSK0EjV2XRqXUrMjpqXd1PSeukkbLQ+x/hXPq09+MLzpcfgupY6tbmlgp0QuoP6fS+FAJoqg8OaYe+eaQqq1gzFbabaNUaj6o7k//NExCEYMVqUANYSlE1ZIGZ4NIdq6ZzI+vy7Ejx7f/5q1cpLXa+W5taVM71GjhlE9H/OpQZlVxgr1zY6wUBGaMo1ABf//+w+Y+KPAqHKcAoucWENPBAsaQOtBTuOUIqV//NExBMXAV6UAN4MlJ0DAGimEwHOquI80ymmmbcGDMXh1BIHxgWXttWwvd/Hm7XNY5br/hk88k5MBMwxLt3qYQSu6vQmAgHBQcA2emjyP///UtH0oYmXSoYnAYTkjNEu//NExAoSaU6cAVloAUjAYSdSMAJGL2tySFZR/ucBvzOwwy6XOWBJDChyxxJmBi11pF08yT7qtupaSDmq1P2STdetqj5ks0onExs+vgIxJTJNfQCnJkiEACpAIpdiOdKx//NExBMV+qKEAZlQAWTWf7Omv7Jh6BlzyFzYhRVHikVfj0icw+v+cY/na/5xGTOQj6pV1830Ix8PjjUU7//845Hc4iPIjzCH///8x+6HSIucFVilKEtVX8zP/////r////NExA4UQyqwAYY4AP/zDHsYJ3/ZyhA09TSpQCgqFoPgn/6Gcwy5diRFo+6//ql9bqlFQ84RzlUfF47//57mcxqMf5UgccKhsaVOGwyNC5EgJI7MbMD/nyqc0DMSrXXI//NExBARkVa4AcEQAev6em37ZfQKqWcO4lio10xqYtfsV1vv3V6dTbpAoPlKNoTfLGP69258C059S33EG+lHtEiaGdWSA6G35DFfKauX6jUcus8PlHCMaJiOspFWUyWw//NExBwSYUKsAEpGcMjv9LVf/k9v9u4wpwSzpKGnGhgNNt0CkFag1JZ4BFg9sTPXXHlLALn6aIKkQWWZbkMRlmnjUUcQxCEwWksIbQqLV5ueJC0aMRJC6TyeXB+ZA+zr//NExCUQIO6gAMsGcLLb98sl6byIRpiKlVw020+DDgqGBu7sX////qVwy953xKRHcoKFDGkKpxi6lLdMc52vRy2SOzMx6mjcsljAwuwRcexEJp1BJ3rWqtVBSTIvRcxU//NExDcR0VKgAVhoAWSK0vakqkpF1sybIGya5gnVEUcxwYxw40Z0wKRwjZmQh2ATY8AABNBZgrgOO7mXAuoW4E/GCGEL6zJwHsRA8lg+jaQ0SkWu5eJrl0qL5cUyZcZN//NExEIiKyaYAZpoAE6Bui7GxodTugZGyHUXjEepkmjQdBE+283NzX/1JVu2m6BMHIVFxjP31Um6l/ql8voqY+ummgf///9d22600U3LhotkFom6DGMCPQ0KRiTjVJSS//NExAwVAyq8AY0oAD//0L/6//////zp+n3dDKXY8PvOg8SDgvSDiIsguc8Xsl2sogYYkWoyGMYeNHmE3U0WTdCbnfn0OyKdiKp2vuVriiodQ6gfEaxf//////////////NExAsQqw68AcEQAf/pSjrapmR2lQzByKruZYzENmeVGI5HK5ZTCVMiBlcEYqC2ndlIDspiyGODnghgpmvYYjMhAlLFCBkv/////fZ/Zr++GmCbzbMyGdtzyytXGetQ//NExBsSixqwAAgMvYUxpdIQVBplEzFyYUYgTSY2Ah4Jz/KjBoYgYprJiTwS0UKfTybJqEmNgbU6bT7Hqq////7////////////////b/zrzP9Nf23Ky77+G7/biZiId//NExCMSGx68AAhMvPMX0yti/k/J5Fo5xjNro/Jjlk1nHIfbKqi4NJFmGrX5HC1ObaNVl////////f//73+d27f+uY0mEa+50ymttm5zSaRZB3hwL2brLhSvRbtTmbo5//NExC0RQx64AAgMvP2agDS3InuWpNEpRaBZ0F8cK0MRYKNo7AZf//////+up/4SPr+IdWlIY6WG6bj5HlD3R2Vky4aRm6bzNTYglWbB7qRHsMEmaMGiU0Gp7uacGBYS//NExDsQyxq4ABAQvZ8zFig8uhtSqgP////////////////n//3d7/7vf0i6jv5Q0mSKy8uDiZTRtZ0jzWNLvolNWaqiyFRNLAkjiLN7t0ifPPk9aT0eGSkjho0cRGBI//NExEoSqw64AAgMuX0f////////////3///3v/6Z4YrM5cPcspB/I+diva2+UzmMde73RMcwtE2IOePparlWKZWEW5jqII90nwkXiVJLYjslVKT5A5iHS5Ov/6Ms2f///NExFIRww64AAgMuT/1//5/////1u8/z/fMMoMEtKgP2gIQDKONmh68Y7xmpmtRjaggwaz2kMmVQpKpOWGHXVmygMBFO+gJ42CkySplJgIO5FjJwNwboMcGwBkCQH6q//NExF4SitqwABBGuelJIkisgs7d6FBwKMAEFGPfNggd9rGSfd4q/8qRgVYLEtasiSXrduK8Gu3yvpVtnhQS1eJlC27uibkHDw88YCDXSp8PKggT/QXAr0NnkjvwC/0B//NExGYRSI6kAHvSTDHXpL9rnQ7vbFp2kiwNct8Id5wlFGNHgdQ2Rut51mG03oBAbDtsVvd97bXFpZTNQ4hTaL+OAEDjhlOPZENHMeEkjYGWyB2q8RlsBHkZEwPk5lWw//NExHMSoUagAM4GcaxAc86+fj51jf388K7ceoCHqKRikGcyPsBK4ohSGF2gKgaHkGm2hMoB3dECaWIMlB4iygVeXpaw+qR1RgbHxGIFPQQg7ECONInSx+cxkPzbVPyO//NExHsRwUqkAMPGlXkvlwslapghAU9yhMgVwT01cq3v4u0RRzDpoHxccFYuomki+p0Aw0vBzikHPFnBewdINnBngI0GCaiSEVHcgVj08i1VVWuqr73m1O94bAzChyFk//NExIcSKUKgAM4GcVhQah4LGQYpNCqQplGjPqmMLIXIhxHl6HoGjpzGldAo4g0GD3vGVNWSKDGA1yboXYa3qxw80x6X8sxm3nY13/1lzLv91r61mf+tas+47MbQWwdA//NExJER8U6kAMzGlLqrOTgUpEgkWSYw4U+0umvzZkOS/SEsEmECzMJEcDEGTMg0EhtlKlwgJDQtpAQ5iJJBJiRj2xv0Ja8ACG/dJf23xz+f3v6127YtVuY4bxyk3FV8//NExJwWAWKUANYMlZSpOiklrpJ3EeEwVB0tNSRwZQoB82sQIUiBeLBqK1TdBqB3///9ZW56KnYUdM9rWEjBwJcLamHpaFo6DmdggyCGPvCGiaQPD1jEwChGMDzePkqD//NExJcbUYqEANaSlAs4DX2fBw57F8u5nIbdWpjjz6PUqwyt9u/VPWh22OtGp5KNQb6SpgOrGl0NTFKMUlAqjMIgJ4yuqSaiYWRtaxgc////OlLjrUq01YfbscKYoWIm//NExHwcyY58AN6SlMDjL1DS17x0aTFW6jQ8mGr7Bwj/pVJJLQEcaOAgYEppUsLOyt1dyrL7P8/+Z5c/D8+Z1dzdRld8evFM+YSg1dv2SYFksNgMxaBYcOOjbv///3MY//NExFsXCWKIANZMlIUqf16jrZa4IXoS3YaWjYgBd1L8OFdRVVdrLxIKJ4hUHCRkQ2noenpRKbk7zPHX/zeeOGPP/f6Kx13pvTa7Is78sKUo7gqCoZtygbjVloVjP84h//NExFESiWaQAM4ElQDSbWiFwl1EAaPyDaGrwOVAwXULyDnCeg3QBZF42JMujlJxKoJ2f7fv0MpULNtf8rGm8ylQqPQM4aQRaVX///+tM+iNt/OYINmoNWkFRalkoRyb//NExFkRsWKEAMtElGiCyW8fXagPMyQ/gCIIMX1UuPtWvr8Z1823j/2+d45qstMuX//9mOt/xu7VSDMv////+pUGgJDjUVvhBQCACLCtCDYzMxAGlgrQwhJRzFmRgoCx//NExGURUWJkANPGlJqmkuWBzZWKSPSeLbLao5MrWo1jiWC0EwyCwaTQBRQPD2Mb/30//6v/1BGBoFKeR2vlbbCAYIPKOEdwxjuQlSOhXSDYHLMAYbMCBwsMjVKJkUnb//NExHISON4YAMPGcI6o2ocjoy8vpS0ko6JEDxY0V1/T/aUDgUeBRVIFWRTVGEXqAN4WJTo03jKFDiOU7EtoCRhQGGFFWoChMRQ6Eg1Iix5bhKlMSpE0O35YKgE6vkiI//NExHwSCHn4AHmGSJSAizx46eUelSxUqM+HWtZU9bvxMgeMKCLeKCMsjGMrf8DAIBgUMZNGjABAhGPdpkIDCwfBwMROH3f/6jmUBB0QAgciAEAxKAgCGCAIOg4CDpcE//NExIYR6HXsAHmGSB2BKjpzi3gVBy9AknrBrFHBij79hMAzMJlNcnxok0aRnPMzMy7Xkvk20RNxNtlzcTbZba31vfxvrf/Hav//M1X/8zNb+75L/Wd8l82HuJPhRjpo//NExJEQEHXQAMJMSBE8xEmWmQNJkESZSyBpMgiTMUQNTIEQsQiFmpkDSZiJMxZA1MySZiiDrMlMBLpNwYsA9FwEaJywKphcFdI5PaRq0tVhJn//+VFZoq////////////NExKMgOunUANGMufrdWMrGQysZWMrlYysY5VYysZWDEFFRTFUqKYLJopiqKFMVYXIyA6iQkxkXHxIK0CdGJJppppMA///+0mvMjIjQ//+WViHMjI1YYccQ6GRkZo8s//NExHURcnHMAHhEuVMiMjJlHGGFhkyZMA42nmjZlyTJp///QZU5kioWao7hPC0pFCAZdEmIR2R0LvySKVA2MCSkBcn8y5PVKILmuxaOe0gz0gjO0cmOjSY6ibcJptwt//NExIIR4d1oAEhGmCQPZ0D6lMyaQMmkAelJkElJmIpwfScH0hZkkzypJmF0QPmkD6lMyZTMnUD6yD6yzJuDJDA4jCIwS1RbhHpfqTiP8/gfA+caehlSww0DGHH7nhQe//NExI0gAknUAMpMuSZcTxXQOL7iQAwgO4Iaq+LBE4/iAADwgeFwcWaUyCKD7y7zSizJ9q1qVQiLX9Frd6v3//v1IQBcO6oFI32caO3pTKreIUBEkGZRIIeATjGGHWUT//NExGAQsKXsAMJGTDil8akbGrUSGBiAEE4kM4wEDcSGcSwNEVBrnf/9dKSmKgJVFMlmSygw8ksVVC0UxWCVhVY/13tu4/p3m/J2FxL5VxI6YrCFKhQgsxtnlh6KIRch//NExHAZCRnoAMDGcSVYgARQUEDAwoJTgWCwYBxAfACHpTMk1m5fL5qt7+rtz9LqcheyNYpTRZD2IecS45vYh7Cc42fah7EPkyqgrEwKEs9llPKZCRuAMgjKk2cLXBLj//NExF4RwFX0AMJGJBgmHhQwCglTJNcsOC5k4RCJl4ot0cqaUlD1RHMrYlzHlJ5Tb9dOqkPiOMhlEQalF3Vm5BcS4aIEl0MDC6eOgB+IgvtSk8BGYaGi7AApBccsLRUW//NExGoPYHX0AMGKSJNluxVqJJLUe+9zHsJqYUk0UaK0qoWl/9iBZCVGKgWIDiQlNFuLk8hBEmTFICwYCcFjx1cqdBoeCxUNA0FQ6sNEf5KwtEqg0WeJXHVP/16n1uLL//NExH8SUKnwAMJGTDolGB0qdBUYHRK8NKPf92ezpZ4bNsLwyS9koVM8TCYIaPM/PocAXJBDoPwsZONE4q8ux+/OB8Tlx5/kxAIBhwMidb3/KKccJl3vPlKvDEmt9j////NExIgSQEXoAHpEJOfL1dAz4ScN1DQTTDKRZAOOoKhyRwQYS5RkYupkzSUYtLEiq3N1+0fYlR9RphZTjqBuM9ld1E8pVqNZltT2JU4lohoGwOrERs8H2a9PVwEl6OAQ//NExJIQeHX0AHmGSFJO5GSgZJ8OIonJOixIk1ORRERUChqCqw1BU7PAq4seDRESvUeDUse7IifcDUqMfBmVdiX8lrOxEvDqUoUFN9wdteDIVvvxNNP3G5XWlkEJCDFJ//NExKMQAFn8AHpGJOJ2VKAgIPWh4uD6NOGO9kJuIBAghJBykLKLpWeC9ekI2Mtv7a2zsg5mOyFmSn75iHMYvJ4gPzf/sHh+AjCP9QgP/z/4r8mzICMd/9abPa1+HiLD//NExLYSqKXgAMGMTBLsW08bMMXFYTM4mClQKvdjwooGAoxl7MxqqrAFfYMKZs6TN/qQZiWREoaKwVnVgq5U7qBXfyow7/ezEsl/h0SupiVNBRR6C5qap2ejThIEBHmJ//NExL4acaH4AMGMlakpONNKLh2LKLLMvNmjTjiynlBAwkdDJlYGFBVLLLSMjVgoIEJA8puWCQuKu+sU////r6xUW/ULKkxBTUUzLjEwMKqqqqqqqqqqqqqqqqqqqqqq//NExKcRKRIAAHjGcKqqqqqqqqqqqqqqqqqqqqqqqqqqqqqqqqqqqqqqqqqqqqqqqqqqqqqqqqqqqqqqqqqqqqqqqqqqqqqqqqqqqqqqqqqqqqqqqqqqqqqqqqqqqqqq//NExLURyUlMADGGlKqqqqqqqqqqqqqqqqqqqqqqqqqqqqqqqqqqqqqqqqqqqqqqqqqqqqqqqqqqqqqqqqqqqqqqqqqqqqqqqqqqqqqqqqqqqqqqqqqqqqqqqqqqqqqq//NExAAQoxIAAEhEuQCCkVAwCZQBxUOgQKyA606SDjZjIMxwa/4/+X//9v///7/pRp613b////////3kYhCEIQ4GcOcOBhxYAAAAAAAAAIU7N1CDYqiplYyh0dmHIHls//NExBARKFowAVsQAGabO9TWa138ct1CoFIqY1+3B82X1r37CYRNZ8ENLhYN+yrRL6S/SraAJS0TJ5dfYk+L4ZzaFjQIGMcVAKFHf/bZyACpf+HDcJ6egtMRiDd4znut//NExB4ZYypoAZiYADNwCrhIAG4AHEf/hZWUBiCy0v/2eRREv//5UL5uTZsTh///8mDQwLhoZkXN3////QNDcwNHQ//////qQTTeo0GbLZOB65WJymkNdnSAaLhXGC/h//NExAsUARKsAYlgADjL16ym16OyWjgHVyXzNxZgkpWSzNRaKIaWPykdu///My7f5+YX1OTpaKQaF2VtanOtYyKDG/ud3Ey9H896gsSAnzIIDXx+gXxtiEFgO8camMuE//NExA4U0OakAc9gAKiXN94pr43LJul4DxGXtT8TTLXjkQAUM2oCCXli4jV5ZCvLsNiJYiDIKmBNMDkFmKnf0XSZCRGuOvm6oWprMT+q/9Pu+irdkqNnyI199BxEHFLr//NExA0UMUqsAMpWlAUIkm/NucyXJkMyjPI2tUVTZL0iFEYie2B4aCogOojobFSYAhGSAuG5wpJ+5b+bjqWfPKfBoZbziz////jC5RP02f+qpY8WHwHA7oXBNtJ1kbDl//NExA8VcVKsAMvSlDpdSwXO+u3VNsuX8m8q621ItP40XsazHbg/TlLeOZTMjGqleihSJAXDCIkHElUVVf9S8mcuUvntbXF6ZR4HP//+iFEsV0RWxlZDecSPQcy3NXhm//NExAwTSTakAMjScKBdFrrjBULEilVcSGOBlAQjiQzVyVIUmgGeWF0KJE0RBqaqFksaiuS//+XvPef/2yGgaGjPTehTv/7ks5NQWv70VVFh0c4lQEwKHnQ+zRHIYNde//NExBESYOJ4AVkYAARwWIw7YpqarlWzx5j+P9I1JgKsFGokEBOtjmc1aAQVBJNrcq5JIGTvxL3EsVO3khU7JM/Whh35ZRxkASE4KDmX3/Pkf//83/7f6/7TOp5wkf6G//NExBoXMyqgAYk4ABjHnwnEsRAcgmZ/0bnnzAfjorEcNlCx4x//z9XdXJjoPzBoeLBYLwacUAX//7ux5OYYTyBnJjcSxYOAmI5SVEc4OHH/////v2fdGUZ8DEGUWdBb//NExBAQourEAcAQATNMyMQORAFC3TOf3VqoR12a1GelnZ0pUFBHayUaDQjHmZJGQ7sKQ5ygmaNQGDisAKv1lUQOCIHU5hRlMv+T//2ZLP8Ms5hH663Qa93KYqIbR1VK//NExCASAo7AAChEubMzO7X9v1/5n0Jo6Cp0cz5VYTm3MjhWUrKGO8dRGOUCyQAyavKvT4v9JtC5MmwIDJc3MAERjCGe9GoWhdMqZUcYEQkLvKCA4CAuJgVfqIKBYGgq//NExCsRmI64AMHGTC2LK9//r+RXYm9jTrGMY55UUKtSg66DLkRKeQrdcckDaZaVRghWuvknHz0AniAuJeJbzyVTSaYOnGCNch6uEOwe3h0YwRBTPS1H8P/xfD/PwdYc//NExDcQeTaoAMqQcBM/////XJf//+kdiTMRDwBKdE4LiDbm0olUDPEHJzBA36wGKwi/TkrOlUKKkoonhkfdLX+SfRI5IkSNUQmxCCJEhQl3yT73fh0GhKd////qtQKY//NExEgRQO6UANMScAhB4oKmzITDC5dDtgkKGgSUlEt9cETNouE2TNvgzljC+Ymvv+n8kfwYFOpHCVG7mKFX3qq44taV9SyYRDBf///5eT+qlfkhYPCsERsGKO2l18Q5//NExFYR4OaYANvecIwyefqgD8/BsPnRD6RWc0Wc3wz1DnJzKgCB8LgVq4VJb5lc58K/5p2320L8/SYV910V46rzYY///9Fn0uZw4ewL8SsQHr3rM8JqaLN2MMeSHmBh//NExGESeVKsAMrYlFrXwWe30b4ngez+FI/sG4GIKmPSSCJUGIcg/7GKkkOt/cMVFEEg0T7Rs+3///0VqYxINro/nCsms+xomvfhGoQpYyqBSKFI3yvSN8wapN44igdH//NExGoRWVa0AMrSlIBuHiSG3rCIkqySyxOgSRTzp6lpJ5V6eSJEQfNqwFYOhxv///rVxyvHUNS1lgELpa9IEOhdVw53FT6+Tvi+HG+Yv/cvmfXpG3ARLK2KwftU+NSs//NExHcSUVK0AMtSlOM5AmmjAcSzXRQUVyoPhCX6msKHmsXoJHdVyuqPGdNBVFRQNMFuy+MshtzM2CG7AtXXX5NHcxx6W82bT6wlFw9BsOwSDiOgkXITrSGTeH0Q6Hkp//NExIARkVK0AMvSlcoRWqez3b8JOQlmS2IEkm9KwxjYPdPRgaDSyQojeWQgNls2SnoCs8w7+/2R1pz33r39zqq5+TByHsaj9ocOMIyqSNCRoEnIdcnJ7UahW57nFEMa//NExIwSWVa4AMMSldpIUoWa286y6CsMElt2KvoFCLVVXIpTFuW15VRZH9+mlrwZmztt37NO9E8tEgphCVqmpPBh2rDtD3WT1gUhOMuo+6b3fUWkC0fUGJiEjdyy2UM8//NExJUSAVa4AMMSlYVIgqthxw0rWdiwYCg2W3jxcmZ2x1y3dPVOdc/1p0keRsfRSGVTJqp79F0bLsz2V5pqzV7/ea9WuPV1mKXZx26qtEBAK3CGIvS4IRYuoBMl/l9R//NExKASQV60AMMelTnZS0h9M1p7Vntnedbz22Zj1pR7hMvb0zwzf/fMnbuS7xtTMHOkBwmDcJJQr//01/oqvtgEUOZhlhFsPgc1iJmnNnY082GSBIeNBWLemldPzUct//NExKoQ8VasAMLYlRVLZNm/0dHI7jDs8I7DuqUHcUQYSj7P/9SrxY4hbnsWWX/9iNaapG5EuDQEOI/A4pnmtSdlzbNq9p4J4/6fb/uiI6IZLKWf+eWnxLBRYgmg26BO//NExLkREU6kAMmMlCEfDTmdf/xcufIBFO44UGvbXdoVZ6a/DJl5uiwgThkAMDGj6WFXqGBMA1GOqMz2vd2+zHXqLOCEiF7t/7q4wgwIgoGKIEFgmRURhQX3K0Uff20C//NExMcRoW6UAMlElABwaaOQacbDj3f6VXqqtQGAJw7dYA2wEzIbEATrtJWpRZTmGSBi6dTqcfv/1y0OIwAJEGe+afqzVQ4fEii4nAgeCEWCBRwijmPdbf////9pB5Bq//NExNMQsVqUAMiGlBBrlpViyjTF2b+4RqrleBAkPSjjlms+MgVx4sZ52hPh7gbfFcpq/dT/Tw/MC5IhBIJRIRzUKf9LHmExcISY3U8UBdADBMJjB84SB4otW3p///////NExOMSkWaYAMiElJ+YiFjil7V0Btog1dcF4YYMcmntREMPNvmKCzMApC6KJdqldTDYCEiRJTzEoTOpSeh1UkaICiEWR7n2cKl//7h1i5dVGjaRsAyMMJiQkHSlrxHP//NExOsUYiacAMjKmP/6NFCwcAi0MpsWkN/61mr3LrMGENpzrROWmdPItKsn78ukHiQNcG+M962M5v69qkkflMgPJUZ0g9amyzk2mdpLT9FqEzVon6IIEDgQhLULimqg//NExOwWQiKcANIOmA4S//+sIEwEEwVsHoQJRz2h/3bVoS9qKpmNCAmA3DJZ80JR7rKVVFeeuQ+Ji1Bl5XHeWq2+bmPKMo4AcScSVjySq/W5FTQsSPNF8UCk40CCEhqT//NExOYUcV6kANFSlKbb//Wlf10bbSinqUeeXfXQtxZgpofk65lVKmqqsx8RGDnG3chs0B1j8cTfeWfgGQePAH400fL5uV+r5LK1CpNjhfj9TfzqDzGFDjgjGw2QCxBA//NExOcWEVqgAMoYlMFyY0PWq/+ubsl/X0/pjjoKjTR85hwQIQYDADkvqkkTAYP1pqSGRGYOmBac0U1qJ86REGFzjc53xWBZ4l1O2zHqm3qPtQ5zHaow/+V3L//x+zZ7//NExOEV0iKgANHOmEz10J5AJbcVRKOa0mPaLXf9GzmQbBly4pcPU0Xo19xC9erTpJYDSo3iTza6TlU8K5CSdzNaM/yUyP0B6ti7xfLvpq+V43Bl0Zhb96UHTmEmwjBk//NExNwWciqcANHOmKDQEh4UGjii4+231/f/5vdbJWhQ6g8acci6XRZ5SISQbFpZniYUMidiN84llsQIczBMctRw0y7EXC6chpl8WtAMEaUEbgTcxenxfPx7ryduUdQg//NExNUUeVqcANHSlI69yEGx/u5hppwmJGlB4fUFoPCwDhLUJhuIhGf//////3VTTGKF2I2jlpHDEWbNK2CO5C2AehWllwUFnOCRlohhSUMykZGT85P0XgMNmB2URdSm//NExNYW8lqYANFOuHZrN/Ur3ZRVSkUcv6tufP/4bFxLT7zBCoscJ2ZGosqsd///SQF3usZiiXJ/rbUnUqsvAjI9BV1BQQaQPAjRghe5kbAHOsD4QzBvOSS0L1nPPt////NExM0XUiKgAMoOmMuui0XvR/7AwFApTIYciqQKDYiV///ySiAaf8WF/+kyrYnXdxhI73BkLVBqwXje8YKhQKZKouoBZoBa3a4LglX5NHWENvANh5WFjwc4k/ix9vYe//NExMIS6VqkANFSlOFSoZkNpon63s+j3fDMBU///+kmpzOpoq1ilWHJemI1h5bCXiFQ4M+1hxCBGXEajMtEQLC+wwyesMghMBeEsuRBTEhQHRvbQ+cRug3qPic4rOt7//NExMkReUacANLEcP10//////////6M73ZP+mCta0qGVSGDRKdtFQcJ2qgJGJnvGBRkoVJYiuLrcF1lqfIyhzHHtckkdyrrW7RNYm9o0SDEf9uh7cd4pr7z0+ykZlPa//NExNYSkUqEANvElHeEEEBgYAxzvb/077a//r/IhCizhlNMoIAuFggGPu+vcUeQnX2CgqdktDwK6QVVBIIh4sCRMDyy1B3+m7L/cpKVV2tK5zzjP8ffxj41/NjDfB3F//NExN4Sml6EANqEuULZ/emV55E3TGLfDHBJkADxLNHBoaFgWA4FY0HyYsMNOHGX//vp//r9NWKF2rdU2Q5j44QZvnn9HMJPrH5vw3939rkMlQYVbb1OyYsuLEYPgIad//NExOYYwh6EAOPEmMqxi3HEwOplAlZlM6pn8ey/+T3mDLeQkngHkcsooUxj88lU4FDFxED48XFmHgN6mgvj5CAT8nv//////6lz1IlNu0qev1eL0CvcxEz/0yfQwI2l//NExNYccmaUANvOudRhYCOg6tAtewoLllB/uYvVX9vLr4+zJr11nk8fVRQI1cU3sH5XD9NWJS7JSarW8k0TyYUuewakHv//+fU6uvLP/9SMRoRAHwuvVYIRi5xklQEQ//NExLcWeh6gANLUmCtWNTuBBrCOB9uH3Pe5crutrYzPsLk7KZIPsDCOqe3iCSAwso76wxvx6W30r6WwVWWt+m9Vs0hDAfHKkpErobaM6sw2VmkgiZI0mQErkmDDDEau//NExLATOVqoAMrSlLL24tse1BQXZBhMmbJSVzx4JokOBOBkVLBETHP+BymYk27f////0oydA1xxHsXhYM9dMR/JUagLg2F44HYfmKEVY16SuxKtQucTbwXNiolExuCJ//NExLYRGVqwAMpSlVmglk7ReFQdErdpXmTvWSN++41tJTOylkquhcNnohejDZXhfYkIkyfJWPSQccJfDIOpwO1Zgp5DFAdygZxwLI5kIXCrgMLykLHjY6sKoqekpyHA//NExMQROVK0AMJGlJFScvFlI9Dv+zxlHoyumrJarwT+wNhel9IbKqE1i1K4vFwZG9UEix4ypQ7ztrWh5vIZYZC3jTmh5PR1oZbNy3KaK/VuaqWaVbkKtjYciSsIBiJE//NExNIRIRa8AHsScSNlCSOut85eMj402OR4lUJOZfWkEIZEDGRlSs0d+m1BwjLcw4UPME+Hi1EP2jAcWSfOS7LCwj6kO803NOoepo8dxz6VqG0rk2bLbMccIi5ZvYrr//NExOASoUrEAHvMlWz2HqPhsmqXzESSsVyb77Wx4JfL3iVpjjp4vzPtzwtto3VJMsCarKTQmhkujtZmBRTp5RRD+clC8V7Ejlwrk4+o9oabsqcrDrBgskDDXhs872/x//NExOgVOXa4AH4MlZ/5mqb1upWWRY5KP///6OxI0LH2ekWYdhNaYaVGpsIR9TFiwhYCRRSpbP5LN/vXVqpuKdhUdOAaZGyQRaQ7CUHtqasoy7FSstNAVYuTS2MEQ8Xc//NExOYT4W68AHvSlTSLJH//UtJx5j9qf/82Mflh/qwVrQODGIBaBHGMPJGpXaEQoIkA5a+3m0vcM87rLjtJMWjm2TWIEEWzpKiFTRY2psd3t9JLW9j7z+GXXnOoZ1zp//NExOkUgW6wAMPMlCPnj3/+pAVcW2V3f//1Kq0NmTY8+kLfQdBSWF9ZQdSy0b8FvnbkP3BgeFrtk3b9wceFa7ZEwu3N65ZTo4yYjhEYcuUQIjuITdMt5LNQZUM89nnU//NExOoUsRKkAMsScJ+GJV1Z9zQ///+04f+v///0Vb0SBkw0VKREfF42HP0g4QUgyBu3Lm6t7MD4VP7ntqm9I+V/fcdwkL6+V/GWqI4th+w1ckOtpAEaBGuSw80obBCa//NExOoUiWqkAMJSlId+tDzvCDYITMFrKPX///k1uOIVrygLxK8tCI6mjYGU6KMKlsQVhg/HLKj103uVy2va7Vvtn7vtaW2iUdIZLLDEvLQk6hBIko6qHpypDOUO5RWU//NExOoVSXKoAMPSlG9X1+S5xodaTzubjD4eX///JrcZMdMmpjZlu0KHIwlZsL6Cy9HHLNC/OHQjcrB2uN1060/m65+IWl9LYXBTtwD0j34AYVh6kmy+HnBI38lhjw3n//NExOcVEXaoAMvWlITP26bw4moXzA1lL4PafKzH7VTDsrb//9t53dVQqsJsGWsdgsDINeCgwG+ohlQWKo6/aLmLAcvdlpBre9dxdVfbxXDDqCnlpsUqPHIeQ9A0SkLu//NExOUUOV6sAMvWlH8a67cX7Yoo14uMW9vuDrWcet6+ZizMxW3BRZe18CrOSAIxIkVcOMZONCaqqsE51XC1Vw1l3+f36ts1rh9vNf/I+vB1AL6rFExBfAxo7qD8sLLC//NExOcXoWqgAMvelL//Pv8LElWCwsQVOUNCjgz5QBZTDnTRYDKnIIFtRMWEmAGEO99mum+7S1JOkmGhgCQAxFjE4boJQHQAHBBU3NxySbGPTLhsXiaGYMwNfA/sCRl0//NExNsT6V6kAMvelJh1Ox4vmusjxxpFAcwiBizode7ZPl9M4RQqDN+q3X25fTHLFllstlxiD7s69faqqv6aay+bmmbpGhupev9du///mROMQMQuKXJkPjFLoABq8UQ///NExN4QsOqIAVl4AUcx3Ui3pGaQVNGmSZKMar2c1tPYeraiLwV2ZDIc6sVajPxjunDqUhL8mUS81GaO+MhFuDU4ECclY7aq0976tm1qXc2zdLf/X3TGs3r9YpL7U3XO//NExO4luyJcAZqQAW8S3r/TdJIF8f/Fofp/8+n////xN/8Z/+PjXvm+P/n5+N48GJYBGuGBcRCHXuiVdSViBB5C1MQNKrMxAUwpYVWGNPFQoZM4MFoovUafjQEnRCx2//NExKohmpaUAZl4ACjOdQYpjEp1BVaTOeNXQTKqzCa6VStqaQhHLIdg6HYddZ0YdlL+tyVzEIdpHvcbO9hj7covZ1M6UCbrSXp2ex5fjVLrdekl8SlOu5xJ8ZTIJHa///NExHYhKXqkAZrAAN//WRyOKZ7BXrXsuv//Un9WKFoYCeNjCxsDRkwi+wlgd0RETjzAMCAIYAr25tdDC8HuUOi3bdkHDJFTED2duiGEXs3Y4mHiREKgXpQOWp6MrRhe//NExEQhIXaYAdrAAHTN5efWpjUb+mcF6ppkRfOnglOiWa5h8VzqwFY/HOrELk1C5BKnady9APbs1L8eWwNR//54VLB4A0IeRHn///6Kt5EBI1xYRdYJgzNMGtDoHFg6//NExBIWUW6sAM4WlGwrK1iGAtyhLSe4uqTXU5GzzBIakukoWO4Urmaqvbyhqfql+C30PJNOIUzYLloJDYIBfzLi9BfYQtqGOwheSVghZ///Z9F6Ktc2QPOjDMXmGjrD//NExAsQGQbAAHvYcbHckAGi9H3mAiGXWzhgoejlwWyHFdgxhOzHsW1s7X7Z3zm1y2a1afdo1jEANIfRxABNCErClcQQhZNbC6umwsO4BtwDsFtXIk5SJ9NuLxTo1OJ1//NExB0Q8W7AAHvGlX1Aj19FFtNpOwnLc2rwfX/e8HZq8OedEUMhshhXV/4xYPMcpeiCxfAB4wahFMZjQmsXJCx/kJNMsCHmBHSaePNCj9iJVOJsdqLMUURKl3lxg5h4//NExCwSiXK4AHvMlYsmLfOMVnn/Pn6/fM3lyTCk06z/ZfNeXpOi5Ui4naqrBSZ9QYFCmF6hhg1xel9hbuxg5SGKZFIa3oWjTgSZ7m6pS5iurofqsY2G96Vi3zrH+bsj//NExDQSWWK0AMPKldZqOqTSRpIIY3QrDRG52IURDUx333Ww6ZR5jQIPSLQjag8PqbrcSEVEwMFqfgquPJuMVTnEhh0oMmohxKxMUbP5t1zj3xjP39ZkRm0tkdUUjNRL//NExD0SiVaoAMPGldCKRwlYUrEA4zYNFy6qd4lTiTokLBJ5REOMAgLTgAoOCXWTGi6csIVuea4/UelIFU4AEomxQi5JtUxFdO9GlWH+yb/igWw8FgwosprukszVRQ0V//NExEUROIqMANYeTXSBlWbAYGIh5+ZgBAQ2A7R1AA1DSViUQVSgWy9JJMq84xHh8qFPKxVMKujwYmflFpMZeq5WH9DMArUDAV7BF5lCk////q+zFi+Rhownch8ZEHpp//NExFMSAPZoANvGcKTBigdCy7AgDCgjUUCtGaICS/ESXVBK5RcrWMIxxYtBkEkSqMjNJQiWFRSe6Z9j2qq//brqi/t+iVd9d/0KTWMJJAx0/zAQAMeSkx4NAvpEiBCZ//NExF4SGHpYAOYYSEe3AS7gRpbeALHiAdSwOyuJa1IDO0rA16y61uvV23RjVWf3rhWN4d/R3bq7YV+vdlrx/pp4y7x72j8XjJjoAwIhNhAJOy4RBANCWJwDB4Hw/Lgi//NExGgSIGpUAOaYKDpLP7mC0ln45gfDyTV30ECJYgmYAFX/phO732fd54y2IIYcPyAeE5d98QDRINAjv6PB94ZggA+D7wgCHKJONDIIAgnxOPPkKnZaoY1MA4oScNcP//NExHIZkSKAAMMMcBAIDio0IKdgxQAdd/HF67KcciH0D8F6DfIWda5nsyK04XBHIc5QI2PbMakaIw7VzK1qmXw7RKxouYtc5vm/nY2yMoehBtYfpZlI0LqplVfdzp////NExF4gSuaIANvGuMNrSeFY6PGNGQiIrZmvhjAJSmWWUJizyjqD7UM0YJJZwURH1YfdwaZxKcUyNHX0i10BIiXrAoMteHo1L81ZrzwmJrJ1MRAhAY0124vBjWJVfs5Z//NExC8bkiKMAN4EmW8N49ys5549w/mGVfOasW97br3lazJcIk6qhGdf9KInM//rtT+7LMzCyhnjQ5jBxXCuC19+eBfb1LV+HJ/c+dWUREQ5yig08yhsWhpkG7LDyqNK//NExBMVWUaYANPEcGThVdTNRlvIxlMphD/epELxMKQTA4Hr8962Ci4jKcKEGIBug9P3p92QOOogYhgM/Z//55LrVi9ExQ8435wWWPRLw8qmmxy8iQgAqlEQ0BhaEVsq//NExBAVcIqoAMvSTEYPzrUTVGXWpeAquA+JbPUZWGk5F4xIv/dWtJg+frCI5ogBMHwfPw+soTTmp9qIYS4PhgBjz4scLlIYW8noa4+5DTh8oJ44mAKBlSi5yEONr/////NExA0VQxq0AFiMvaGcKVv//////////+2fHkz7szKWem7M6739Pcdvmn1bZGn6+/UNmGynVDCEL1eah0i008cg7NcNr5be7++FFk9tp9ptD2sx1jqoyBjTf//+f/////NExAsVKxq4ABBMvf////3//9v/87+f1lNuaRXdQnybEoEWo/USWeoRnfpiojKuX270nR6tzVoZqaMQpRln0tlEy9FBuelAImtRJ4GC2IJE7Ekwoc7dOeyMZkh//1kg//NExAkRWwLEAAhGuRA///////////+f/5+8NHgw8OBvJ8MDLcTUXjdq7z65rjbkwOg5ctpSarhYzguUSRrcimrONCqsuQWOywplIUB8NwmsyQWk8cynk6wggCCgSn0E//NExBYSEIa0AEjESFKm2f0qS7suOlm8imgcHSx4Giwdh1giE0FB+EngEq4FSqgVOluWng08iWBkFY86CqlD6srwyAcAYcc7oyCNHuLSr5CB4xAbB5oUYvaoJ+LGrI9F//NExCARMU6oAMvGlAMcBRpZxfz/FP8Uzan+Nee1Mun0X9yUXc0Kv2AFw4ouf0///66h+CjhvmoVhwWDikuXkZTEtqq2Fu1AEIjfSHSAAhInAIeNNIpCFs70dRrnOno+//NExC4R4VKkANSKlDuLZR8os0Ii9RXEUlAE6oDoSeS///5tf966x02U2FmbtOIDwjqvackcRTXuf0iElQh4Idh7hiGDAOCycLwtAedlCeTWdLX1P2rV3ztUyj5FqjNC//NExDkRwVqgANTOlPlSywociplH////X/PL+u2Axl6jWYiIjQAV+F9meX6t9Izx/XJoBRQFjpuGzAWtD0gIyHc6Y5zyma/9fbR8udt8Y6QgLT8RKgcG2Ezpez////66//NExEURUUqYAN0KlKq98qMKh4RUKqINPl1R0xnKKwmkGBDaU6S5wSTiVFchzadia68tOnS/UkHz9du1XyaNnNkaMEWEB2RFEwMhggIlyIg////s/aqvcU7NLcm7AJAD//NExFISAUaUAN6KcE1e8gAHexuJmt9Qk2CQUFFhmQAASMGrC6F+wRCy2gLkXOFr63qbQavn0bTPoKyizVagExMMxRx+////s/bPJr226G4dyyZFSY8clzrHdOL+jIqX//NExF0SMU6cANUKlJkmiQB4E8WgBuBnE8GEQEAXUhc6RpLW3fN99aZjbZHKvn4Gk6ti9o6LFQrldn///R/1Ve4RM4p6R1SwZXbLV4g7Q1GnFCY8HYO4FsSfJsJow6U+//NExGcRiV6kANSOlCQAMXR2JhYAUotMdmbatas62Q3bMx5ql8pkQ3U/CpPBhjDjrDC3f////VQqlvKQ5w2WVyAqozTPUYsvW9lJMrvS8jDfzogDVfSr6BXb/U5KgLSY//NExHMSyVKoANUOlNA6utx23v+/9D397/xvqQz8qLMHj5Z1Bc016ihkAkGEOCc9R+j///bd/XX/yPCAo/JCKLd6hJEFLWbsVn+VTkCff1kIxWI+FjqZ7iVIPNnNoVyP//NExHoUWV6oANZOlOkk+93//C//0f7RX8y9q+wYeO93nbeCp/19oh+UBzcNkZixp7///Ypye8pbIKn1BcThmVQZQH+oFidJ16B41jLzeGXVk7Fxc2i7GJGVBOjQRBKx//NExHsVOWKkANZWlM/T0SPfbHdRy//2P+D/NvKUfek+Lg+r4X/Q9nz+2reG3pB6PxmhG7///p+tKyPlmnF+8q6fqWVRrYGO3EBQZTmhViedWDSc4bOQr2LdEfp4Biam//NExHkU+WasANYSlABcK9kYHXunq73FvdFftqE2oQUF8TKV6vdFUKvP2oYkbyCpsOKd///0/oXOCiQkN4o1HVLkomaFvVcr1CPIJiZxJRisT9QvlbEa4hvMtXBmTpRL//NExHgT4VKwAMvSlMFlZk08yesxHX1Zlbj2PVh4+gXMumNHQ0kNmVbwoolepYcbuMCh5CmtYLBphh+ZWAug4oCQJaSSRxyAkqFZUC5RZEFtKYtrtPR9YCnifjJR/1Nu//NExHsSIQKoAMvYcNObq9I7cJEWJmyv3sT///9Fn85Qi0hfs/1Ibd9TASEFWStpKGmgk67JU/Dj4tiIkRemcVM+kpG0vU8tee89C9ZVGXeLsPRZUoR8iKp2v00gfyzK//NExIURePqMANsMcNbvtlV9n4sarsbjgwQb/437016f4eQKs93kO1d5f3Ng+h//d+TEDgx0qOCooOd/8ly9pLjPzzJVxzBUMpDSljJiq4cTlFOjFeAMIr4WxxOPXSUr//NExJIcKWaMAN4elAi/OsH8r8vR2qjJ/AxVU2qkm8Lq13Uqm/4fG8JZA28ZCO5P0mbOdtJnNmzK+t1DrMHxb///NFQt283//teMa6vVduBq4S/J5PUaeUkNGEHFDKd9//NExHQYQV6gANPYlDMyYKVYTF5wzx/I2JcyhrMVlQAjFCdDnY+FtxQ6sFpFC5E8w0NO2R6cpymhtCJrf//1Szker///pd6eMwU9fkMIgApLRxMwLhPqg8Du5xeLXXFC//NExGYS8WKoANNUlDphamhBdlgKYkA9Y204TFZuu0bramjejl8ye79MOXUke+64tELiKiS3///5Wz1KfiaVlMbhFF1clnwcQK6Q1CDlnTnrvUMDlgrkmbhGjqqDVTZr//NExG0SGPqoANMecAVliJgGDUWQsaxWMIIfNE1O0M0AZJzqMlaa/+z///+Af9F9C5hiRcds4lvAQLGaHY8IAwEDB5x1jvO8soijLo5FoZl9NLaO5VfYu+nT6Zs1jett//NExHcReP6YANvScK2/95pTe7+uevGI2VrE1nOR//////9KLGAAMB2UbJgVGRvkwUFAIuTIBZ2ZIgY821KXJ9qdip8EhyAj+PsuCfxpgZCICXCCgzBUJ4PgGiJoHziy//NExIQR6PqQAVtgAMUgGJwbaH3MDAvEXJ8uUxOhECFI4mjpdW2XDQiBBy+fL5FyJlgwPepnQW5cLiKSzc+OYQQljd/9Ou3mf//13/VSM1f7seX/tq6PTSqA0EdMMSKv//NExI8hqmqYAZqAADFsEAAP1WKRCwy2w6diYUII2JJGSbYGjNegVGFK1Gx90dXdWFLoo9sqKomDJpKbAUAiiuR756ck0tbhBUrsy2A4JmoGtW56NTde7F4s7UTktiXP//NExFsfeX6sAZjAABQ9Ho1CqTC9L6ehvyu1R08jf6Nz9SPS336l1/vLj+DX+/4oJQo+OYGKGAITVVl0rpUpUvYSXOC5UjlqqboJpcoKwgogmuigl+XHbdho6BMuWq2F//NExDAeAXa4AZjAANddSsSX4JCje3j8yqZmrcJkcqltG/8/K79JKp+TO7Uo5dIXfzmLsvjkIgetMZZTNWdo56zUuxm1FMrdJSWpRST6G6yPDD//6U8Zxhk9P0kTLGQ1//NExAsVKXLMAY94ABSvQrQ3VEfZynoV0c6R6i3JYhRfT0MtMppPxiZGuqkgaZoPo+c5y+tWuH80GSHNFrA1XUF7XMW8zPPneMYvr79s2te1vTW4jv9NJALOQIVw/z5c//NExAkUaXLIAY9gAI600X921ogvCnMqVSGwBFAwLB0DUmiSJA4juDDGmiemMgbK4X72cN33HHGrU3bLK02698+3/nDrq168v2o/3VvDsza29AEnf1oEOYpIQrhyCZl2//NExAoUKRbAAY9gAFahpysyjO4t6ePGAiAqHFwYm54gsOFVw+HpxGeIDEL1wrRNutCOwuhs+ev2cq0ne2jUP/14HNYFzIdBUgfBMleGfLGOIP9NrQEAaKsbC162yGn2//NExAwRcP6sAdhIAOBRNxl+4jPRaLZy2f7O36b9vZXOUUO6kuQwwEVC4NELmmUH7c8RQURdIFIQHBy4qXZWkXMHd////6G1KRDCnjK1AW/zWEft0kuGBSarA2qQj8qz//NExBkRYPasAMpScModTPKNXtz/X6xBAYBgoGx8+wguGvShFVR9h0wUxcHA+GKBwbFnf//////+hdbIO0996FR++yZ9ZHpPjGOt6D0LYJ9WYxO62GIW9lVxJ2kQYYGQ//NExCYR6Wa0AMJSlDAwCIFrkWLJ202SOgjfs7l5XWeq/j733upVi9gdLE///0K7WJHrU5LysebwKmqwQlbliIDcOm4IKtepMK5rRX1WZWQ+QQ+2Cw8niQUZwR0UDarA//NExDERiW64AMLQlNH4ypW4KXlOK1Tz/H1a2oyxn//+5FXWRA8bpOqLrmpXKJ2RmByb2XmXrJve7HNdc/wnV2+bN3fyssZM088JgY8h/Dy3AGpIVPLAtEBoJ4uvvGXz//NExD0REV6wAMPQlF/68p5vlWpVj8qECJyDwQXBUFZSuRiLA1OAZHxQoJk3JgK0oAyaaaQJlSYMkoVITKwJBp6WQFRpppp6LWpET1cCV4HvUIguTBoXOqJ3///1KqsB//NExEsSCPqkAMmScCUwmS8vBESXS5AHPIyA4kUgB+MakX7dl+q9vLOk1/Pj5fA3hoqYHHVeqyzi1KIah82CDnLWBiMVCQuaFMN///d///ZX5p4iNODxJQ6josafHFEI//NExFUReNqsAMYWcGkUMIbhsZrtaC7A04Tjjc/3BjHPJZZLDDN9ohn/NeH6Nk5Rrjw+IBwegxe75jpkT9XerGq905cK/FpaMO1ptWuppxqdGXMGkam7psUuV2h08p5W//NExGIRmWK0AMPQlGBVVP+bJsxng3Dike5gMtvE3q+jDZKIziTCCzU8+fxt1//59xWox0VUlfoRma9axcHCWF+IYS0BdZBJmnSKB2YBrWEuR6O1h7RUQA+HMGThSEJd//NExG4RGUq8AMPMlafWxbW//b+5g2mTfRqkazcYuXit/2cmlvWBbq2qytgsrMC1AGsh2TvRVT6ETxYpIi5OUJ9HP46mdDVa8UUaM1siqOZEltFqax60ujZd637XrNfW//NExHwRSUq0AMMMlbM/VmjTy6Cz2ys9Ku////u+mgMVMAeOumQkHHJF+TNogUWBx1AKClCVbLZW/sM2Yz+dnVa3GeuyUxOK5YActEEfT6y46eeEp0iVEKywNBwLBgNM//NExIkR4PagAMPYcH561J4GkJt/6Gfo+LJaUdxo6VZ58mvlo1aP+X6FltG4wY4x5jgAY4JNqlYw5TNASpcEiDz8vm5cW493IJBJf+gyamQHutI2Hv/dV+XkzcwWbkn///NExJQSgKZkAVpgAPZ/YnGomI3EogZkubf/qY0W7LTN+JYPE6MAShNMRiBzx7DIKf//+zLd/6CJIkkWE9MwDjLhoZlRKYy7hg44K3F2S85n0ZaYAAjYuw5UnA3KHZ+V//NExJ0guyqEAZhoAMsksMSZrbW4tFMaVuAV5PyxJqNFY59RrTsdsTUhVnrE1m+PApt/HxSmNbtNTd92/8O+GCJhgp731XWK5rr/WI2/jea+266ta2cbrn/6tv7t/muq//NExG0iGk6UAdp4Aet29cYrX2gza29gFJBXf6aaCxQUk9q//L7t/OqrJBSlMgBJECSsHnSJ5gSwfSZF5ygEKziK0g0SXpemTFpMZAXGti29mFnqJMpelwa8oblvKrrG//NExDcdomqIAN5UuFFvUqou1Lerk5uO3NYwJ229+WNj+0f6pXNFQxh65KGA4TAPkzgvnD0eUfT//////U1ziZzn9fqx6S44buT9cXqWP8IsYaogQZjmxFNLGOBzGCuU//NExBMWMV6QANYSlGYGgZdJEA9u8oN80WXsthEyprwUWhh+so5ly3e//+Sa/VF+r/pM+zHpD0xRGn/u/Iodf856EZhdwnVGTerZ///7L/uUhiqkwGDMI6HlEaGGFkCg//NExA0UwVqUAN4QlNMDiAVqM8HB3ZtSrOaaDeoXAt3AKCLRcUgXrl750tuP9/XPknM+2c8LWBHwO4EaCA95j74FazPfw5VAMEYdJyDGo6f//h9w6QkrPpVpJoKhiKLJ//NExA0S6VaUAVloAJcQCVkr0NnitWHaXXLUMxXcpf2i2G0DuE9GFJU4XnfWpJban+itSTpJVo70kv6T0kqi8bLOrcodDNH//j//RUKTRFMECBf5BUDBURQCvOmW/N7m//NExBQXeyp8AZg4ADyLUToUs4cA8RKpfgHAUG4//4mLES40/f5QdLuON//qNzxoNFK///lxIGwOGKk7f///oQJz2cyPky3////+jDQcIDhpMSBow3cgNdfCDiCSf+eq//NExAkTwu6wAcIYASvAAkT6Zaf5p//////C8/hUMHo9sFiWMmuVNl6WCco9lmsyhqu+eR+Zf7pO5nc2qisp0p8O5EZoh5BJujUsWzl9HV8yHye6lFvS6cix38DdZ5et//NExA0SoTaoAHmEcGfs/fvaKdjQEHLIW2juVerFZuWhr99OxpSiXh6VK2pFWPcdOoLZYlYu07W6W1kW71jFncVDSWrcZNb2BR6KpXoOhAOuesGlwMYJYk2oEABFaEQ4//NExBURQT6cAMvGcMJvZ5VRRQMa4PdbPcWNkJ4pH0SKJIiUvpmfPrUfEEhHD/S9bv8dqLWccvpZ////65bPhu7hGEoHNBdMzUH2NdsIJUof2bf5XMqi0XrCkRyHnsYQ//NExCMRoUqcAMvGlfEQEQw6Zo2abvfcls73r6ttGehiYABBxTF+fOnS88EdFYPJinfGSigIwJSeoCJXKhyTCepkuNjc1am7U9LatBlfsdMQlHIrIbLmD5oWImxe86Hg//NExC8R+I6kAVhgABGqFLMaCwhEYKGzAreJ+3+TJ85///1AgCERJgJfEPwG6lmM0VFS0t7v//y2Pn5ibiYdcP/rn7//jn+f4///+oiHfvppp7Z3JVSbHPp8GlsSGw+U//NExDof4yqoAZhYADEjjMfiQOg0OF8P91Q57a0wSCXBubEx6GVnIGED3BFD8Pg7moIXc37ppVu/+mSbrpMTJKZ5rr80JZMKzQdRxMkEgjj68vU1n//////////////o//NExA0RIxq4AcEoAf9PKKuUpkHnNRllNoc74lQs0x7lQzuYVegQWPmHLMdSiKlGKJCzzxEyCDLRxVyodxdh5Y9x41pVRf/////////PLL5OMx9OEsQ1TJ8FUri2gPgx//NExBsQCxa4AAgGuRa8FgamKJVwhiGgmBaVXJaEIzqgDIAqDEm0ppWCClQoaiDg4+2qf/////////////v/b733fltjd3y6u/T/CvrPsU2lRHSbkHp0NSQQbdTtS7uT//NExC0R0xa4AAgMuSScT0KVZxCq6cY7R0sQgxQRZywbIHY9iS0mKgr//////////23cbtru9+c/be69fZltOjMeO7VmIFXl6V4dCEETuXbrZd4nmHW9IqYsuEtVR768//NExDgQsxq4AAgMvb8FCC1KCr2E0UQqEv///5/////////////5W2dEd0qpRcncqFVzHa4oOHiiK6FK7HcTEHMVxofHGOIMdhcJhqnYh3OPQeUTGKOGBwWCxyC6WKMa//NExEgR8x68AAhKvDX////h///////////b0dPfFdkOjKZGKzMOHHZTHFymPUfFjqORgkJsphjFUVFUE2KOFLIhlF3L2FlIpDB4YIyDAIKjhIpBE1V//////////+f///NExFMSCx68AAhKvFpaGlvX308lxysJfUuuaKxIrb5h9lcUen9LSYmbnclTo23amLN58krheTEv5s6/3g1SRSKad3CLKtf///7L/////////+Xn//ftM7qcKmYyRsjI//NExF0Qix68AAgMvBTa1j0WSmjG5lc1IjjkcoFOkw5EcM20peOhkDgps1SmpAgIcwIShkFGyVWhPwVaFGghCnQ+OA4NgIBEZz33eRh+sQoEkWJKL3PvR/t9axUU9xVw//NExG0RCxK4AAhGuZQWUSUJfwEFQESIrHPJFWQ6dlQEWe1ilPPFTrjq3OBos+nRVPHglHQ0tmSE1rpkGKcGocChwC9vMNRH4my/lMbitUBiCTi+FsDmWCWn8uG+qa6u//NExHsSgH6sAHpMSMVIisR9Xjo7CFbfPphMyhZUeDUNhg+llFaoSHrkKg4GOnyY9nwJDcQ6ToPDOqvWhTKLNpOr3UWimg4BeUeGhKmIg2fKZtjHO5G3lDO0baLQxMgD//NExIQSeUagAMvGcGIugtq5HXUOGCHkREcX5/amUNFpHJDQIFRUsBYhmYI1VGK2ULaND7dHhm1LsBo86VWuO7EDvXB0zr7WfdThz5zbMs4bXWlvg3UdnywmwQOowZoE//NExI0ScUKgAM4Gce9qqsIDyugaazym7UUvisqHEn+rcTXpg2YcAXqGTDIIpQG8oAkPAWeGQGOIuTJoYmiLW3u7/pZZc5sZnVdXUdDf7FQSIYcoQI01lqRxzkucZmlo//NExJYREUakAM4GcVG3bXwJTJPnc05oUFT70PQaIWYbUGVTrILj1F8kwZp+OxH8r2svy5+e9cx/89wz7X8NfrM1tmCyJMTG1zbLIFEVIHmsyqPq0F7VtKOiH5mglWJe//NExKQR2UqkAMQGlBIiooosNkOgYZR5CRkRkK8AoKuBUQFSPkY7wZSb048Oy5d7gNnoozTVre8f7zuXMcP3vT3UtEXazFvUKpAjBYPRp57ZwqJRZxcl0PPUaLNFvUnb//NExK8UkWaYAM4MlVv///6VhyDTCV23EBUS2N1M4PWeDTiA92BGxZuqqHoXibAqQAth8Kmp6+TbWFV97ZasZlmNLb3h2thlvLf/39drqodpZ/vrvHIi8CiCPdRuA9Dg//NExK8YIYaMAM5QlHNtE5A60sEoeKHnf///0oWHm6BThAywo2hdgwah+iEAUMnaAQQrEqqAwNnhYYUtacA326DqQ2NOJ04vHzcb5na/vdZ6qd+9+fOnY334qI5rX7yW//NExKEXYW6MANYMlKDmy6sWcQ4LEh5IVcWU85BjUbkAKc////rV1o7WMHtoDbhmLRAIPAogAVdEwMc/Sdge8sM2Q4LXQxkHtgdwkw6iJHCqYGp9Nq7OmlU/4UrH3pa+//NExJYXeYKIANZQlHzhscI8rTIN0lExVrrY95VkgFbP+xTkwK1QjiAsEXnZvEVNIfh98oZROdoQiLtNNgeG29qvtGo5NV7+t85/P1jvWXf7+MyuZkla9qrala5rLLLD//NExIsR2VqQAMxGlSLwUvO/GQYEMJ9CUAMEHLQKDJwjIEsyu8valifyDLcW4no3TNJydyqep6OnVikXPxZ4Mzl5pUuUTfwbMbC+0VFQ/2UTBUF4Ma6KCoWKNnmNa5O8//NExJYSMVqEAM4ElXTZyjDqTaAzHmh4eYQapMwAVSAC0U4XpiCFHOXJvOlgVVavW5xYp3urMYU1JmqwCgEDEwKhIJBUJekW2v5UiHQk/UVTVAACltYIcaFfvKvScSIY//NExKARqM5wANPEcZnLAFVBYGXZbXbLHYUw/HUSp/7swoUwJmBEtAiDpsCuFyci8XctESnSwrmajfS95t+n622536Gp/SoUZpHGha4N9ah9QD1MsKc6yyWpgQxiKwbF//NExKwSeMo4ANPGcCA0EuZHCNA4pHiqLS8uD6WXvrUufbtS5M4xxBECCnFNvXE7zSAy1TuwhIR95/V11UOHcWJH1cWXTM9g1IwVXDBQEbM/apja3dE1K/39S0MGMdBo//NExLUSGNX8AMGGcBoGoNHv6xKdi4ado5VwiPCYO8GolUHId4NHq4iDpU8VcInpBYykVmOBEqcDzrRLZ8/bgAEwIEiqY7hsXUQOmBELqPG0KWxya2sMJGWqS8AMF6Xm//NExL8SCLH8AHmGTBis2k+pkxC9tECReh6K96KlBDwFlpsoa05QaTFIqJpoRShIMBAJQMKKgpwKbCGZDfBfi/kdw7wXwX4R0I6KKxFZDeBXQXgLwKbBngrgo0KOimxR//NExMkRgP30AHiEcFCG5DcRXRXBvRvQXwnwrwX5v2pMQU1FMy4xMDCqqqqqqqqqqqqqqqqqqqqqqqqqqqqqqqqqqqqqqqqqqqqqqqqqqqqqqqqqqqqqqqqqFKBoAF4k//NExNYQIGnsAMpGKEHgNWdxwMagXKPAIIQbFDl3EaxIRoiSc02yBknUGAzDsAAxwBRcFwYOwhzQ0UWERyQB5FJxHIHGQQwHEanAxno5Cyukk5nlkcnU4Ck+dJGd/Edu//NExOgVGF3UAMJGKchFJ/EBZ3s7t9Kf/wnLfzc1tjODekFJFkXCZcqivd/3UaRJ1mSqRupdGUAHA6QB5kUEiGY+KUmkM0l1karQrvtwWVtErcl4a5STNSypuSmwl2KT//NExKwAAANIAAAAALaThK6MHjgLOr6gg5MHlIgwDGEmRILERwB0cMDjBWGhDiTFjC9gQcmByuYEJjDC0gdxEcIvAoV2UyzEFiyDnAbcBmjuo9YRZhwRSDE8OdsIHKrS//NExP8aOO28AHpGce56Fb2Xp/Py19wmGPTeak7zsMFsYjYn6boA+GuKKlsSaLFqgyuhtOtSVavX8vN2m6WC2ML2mvu5rvEzIfquZTGY7Yk70r3U17OzdZ29lPdc/H5B//NExOkjexnYAMpGve9e4fED76a0GjCcxdRXLSaOVP+nZmKL3vE1nvzLX210PvdT5Ta+UzNRblME1TfkDbKNpJpcl+FUp9sbXIpacN47kNUkUYwRgLqTlaczkdSZtqFK//NExK4hyxHYAMsMuemm+k7+GFWayvb0c6Nyz5GolSaqGYKMFRlQCcBQLmsAlAQQmZMOFEhlYyDUBQCRrtRIIUx2akGHDHTdUDUNl2sKUVqGjRcyAbFrvRFmB19MINl0//NExHkeim3cAMGGuRIqNwcH9CAAKFNlXaqovxoDXY2u+MzDtxtyth4MBYfMGAFVIl2QgiNHDhChRj65KuRykjYc0og22MWxWeMSelNaU24xTnGMGKlUIs7615CLNpXz//NExFEfcx3YAMpGvIS6JtXPd9aS0kM5tM1LwVMjF+9KQipJ6m2bqTYXNGcsFr4hra1U9DBHsqngigqIHuhl/0vGvOZAcYZJLqCN1ZdTdxEhjVgaOAhFKDCCRaeklvaJ//NExCYbutXoAMGGuU+mnc+jYiDXiN26aszqv3eNTrcKHJx2wh2DITgwMic3bYicjR0MJKlSpeRPNz7vrLFXJlyMtyMFpmmVzLIp6nTUG8JsV1EWiB8FKHEElLYf6wrj//NExAoRaIXsAHpMSJmM6QCarSLsPSZ2sJ3OaqsOokJiUBEpVxYcoKuUMeek63DMK52DURHio2LEqlukUKHD0JO/7r5H01u/UgT5vBIEJOuNLOnBwAU2A48zK4QAp14L//NExBcQkHHsAHmGSHlAHWBNf/11qrf/j3zj585Dx+QagTyhSXAlQ2oY5Y44oIn4ZYQJy5DSGInqAXwk8c/l1UHFjAHii0x79CIpoIOLJigPkkONkAkNUyXlzahANKdD//NExCcSKGHwAHmGKIu1IHaIBtiqHUvE71e6ql655Rsk4ORRf+Vi5YOhc6YcIkUHKbAfJWG+5G7qCPtkZEbrDkhe4RyaOLJoeNBsTETKSo8k9xOo6gKpeenZ03FWqPmx//NExDERsHX0AHpGSGCg9rmHWj6CZtTAjQzbdewgz//96qklAywYAVZBFW3rpnPIQk5Zb6WVKIOxDCGj0/P3kRzdIOMHGKE6SBwYXMlCwBexlSpkAsUJlRhO8BqUTpDP//NExD0SML4IAHsGTPpcpLzTfp7PtuLwcSIFR06AFkhPCqJCSyaRAIBCdateZmTiWvjqqn7NVUqql/V1CiQV4K1LDURAyCoKuUCroK+VlXcNEuCoK8Nf/+sFf+WVTEFN//NExEcQ0On0AEmGcEUzLjEwMFVVVVVVVVVVVVVVVVVVVVVVVVVVVVVVVVVVVVVVVVVVVVVVVVVVVVVVVVVVVVVVVVVVVVVVVVVVVVVVVVVVVVVVVVVVVVVVVVVVVVVV//NExFYAAANIAAAAAFVVVVVVVVVVVVVVVVVVVVVVVVVVVVVVVVVVVVVVVVVVVVVVVVVVVVVVVVVVVVVVVVVVVVVVVVVVVVVVVVVVVVVVVVVVVVVVVVVVVVVVVVVVVVVV//NExAARIxYAAGCEuRAMTIWCWkDsyNR0MzhDXRWWSd1Fopii3JRq2nq/t0p///b/////oT712//9v+3///+SRiEIQhznOc5w4sAAAAAAAAQRhTmWEOJiURMjE07H9hyL//NExA4QQEY0AVsYAMtltbO9axubAIVBMYEoQdC9azRk/vWjLv6PrfieQ1oSMGOuWPqxvUrLl/Uha1rvfY7RmRY0CBjHFQkgx3P7bA4Cy3/hwFUZX0Fphj4W9hkTz9M3//NExCAZwypoAZiQAAGXAgQAcAfr/fBsWQAlhxq//PG8nDxf//yIFMnybLxOG3//5MGhcLhoZkXN3////QQNzA0dD/////+pk03qNBmy2TgeuVicaQ12dIAeLhXGC9wn//NExAwUaRKsAYlgABlq84ptejslo4B1cl8zcWYJKVKWZqLRwZpY/KR27b/+Zl2/z8wvqcnS0Ug0LsetrU51rGRQY39zu4mI6P571BYkBPmQQGpmP0E2PINQcBvkvXjz//NExA0UqN6kAc9gAJHCHm/pqnxvMnxfFiMpVT8YmV3jkQAcP4IBPITh8RoquQvlMTCMREQZBUAFpgcssQVb+i6TIWDXOfN1T7E1mJ/Hf6fdv0XdKWGQP85bSAQKDilz//NExA0USU6sAMvWlJmGMrisT1kxrcWHPFxWN3jjBVjqz+z2RXunZbybppJIQ/XKg2mQ3UUAkRcNi1p3/3f1cTXnH2Vupx6in///XYLuf+FlqqWaIaQNZDKc51iOUrYP//NExA4U2VasAMsSlN9Sw/OOB7bk7tFh9hxuxFqjBitucD8cEkcgNjkIpQK5UQzcfSQhANIQDMCQjV+S/+XJ9XHzuFpPUiZU7Np///4sKH/ptRW9LyDEBcw+LEIXMEEl//NExA0T0UKoAMmYcMICfl5w+0SKNXCW06tE0k6Dkd1rHhBEEPQbCUWkr7hkdFo5PTmjD7raK2fMzO9OWmelpdWq0KBL7+Q/6I4uj8cXYlVozS01XkAjRZphEGCEQWkq//NExBAScLaIAVgwAHTnOLqrKbOVnnd81l3++NW+UXhjgZcmyo2WPFgoJD3Zyz4als6PO5IVBXRrGCWEwEBerOgIS+me/6kjSGw+qAiAlSfSP////85f//9f9pjTlPOF//NExBkY2yqcAYtQAI/0MIGPPiHEOKgXobmf8gbnnzBFj0ZiDE8oWIxz//n6u57k4xEWQDxRoNBuFo4oEv//zz2IyeYYTtJDOTiuIcaEAWxXKSorkQmkCv///r/q/Z6u//NExAgSUvrAAcAoAUYo58DihlA50F2ZimZGQTJDqFumc/urVQjl2JJRnjFIPZ0pUZGC7WSjRqEY8zCEjIczCyC5yjGaOoNGxahBY16WaoCAAot3hed/+//9mXP8MszU//NExBEQYh7AABhEmaf263Qa93YxaG0dVSrMVnt+36/83QmjoK+Ub5ND52yiVkVGO+aiMcoFkoDJq8r7eLrtR+yIma036v0ryWqENY6Kfdq59N2Od1QSc7XWiniGVblb//NExCIQoS64AMFEcP9quYMBymLK9//rd5Fdib0NOsYx7jxVRWBkNdBkxiU8iu4iF8reko5CozHBiR+dOAL9XeMP5LvMVFjwM2XYU0RsaHsOxRQjjQdjIPs5NHhv//ji//NExDIRUUaoAMpQcNdLY5YJcjd///7bJJfd2K9/2UqqrRkqwpM4Q2CgUBL67DDSYFFcQEYEIkpPwO0GAFjzCX3jyWHjl9aY5bN5m7MU2afZKDiYMr6pcauHnX/Kzyv///NExD8RKOaUANsYcP/8r9eRRasqCkmBsSWP0GYbX0dBJqibMi62hFjjqUed25ExnpJImy2x+3TeDsi+UKmLnJTOIRsWCqJIfri6fxtaKOEb+2ggMOf///Rd+hX7QiLB//NExE0SEO6QANvYcP5B0BiMKWx4DMPxSO1OdBwxTJvjWUiMYsTz977n5QySDJsUIgMFgUrnGld6pFjl6dN75v5Sk7vtr43L62vXkP//////9CrU2mQC2Ycj4gLkVOIx//NExFcSSVKsAMpYlIeAzqvJxYh3iJiiJjrR/Sy4f1D0xDmWmQaEgqD6BCVIHERPSJGgjGG0vqyPdu77dpE7Q8WYUaIauYsyOMGFXBENA08n4RG3tPT1QhjSYDZmeTnq//NExGARQVa0AMpSlT1R/W0nEmkZCKPF0Nkh7xJCjrFhU3NUMZ0s6r7VUz14oX2KTj1m2Czv///XxuKNimJukLrN5JyQiw9zbIu6ZmjC4a/h5vwI38/7b/mbwzSyuxB3//NExG4RuVa4AMtSlAik/bLIwkzts8uYmRgWe1T1BjZzdCtqBLV8mYYJfqTf///QxyWgA+yaSF7YFphkTlV2Hs1sQDq4diU8vere1Zheu3BHfK1fOVpXqghOOIYiQSuQ//NExHoSeWK0AMPSlDJxZ506oMzpC1Na16VT3Mz7NJcq5FUXgsXuioSQR5CZD0EJeJWrzAoWS1Y2YtvQLFtKV7vjtX8Zmdn63PjleORJLACTdwVLRK5ESRCJIkM6fdfd//NExIMSQVa4AMMSlS7fstmSw9FM9EPNE7ww1aNIAf8QgDmPgECKs3zKkRPXeiYb23dbdi6Gs1nfaiaX0OpEk0C8SmiWJOZRnDjJ82pVxjJzkc6z55ZJHSzcUF20w81R//NExI0ReVq8AMMMlYhhm4e4EJVFzPEWdUDyBsGUY+merDWWa+/G8u/XOs297Y8kFrmjqKQeyPJm45V0BtfuXY6RY0DO41ZYGLUz7f6ril8wqVE0QYbt6lOrQOjFmp+1//NExJoRsV68AHsSldVGBlrmAJmCwaYnjjjCimm9Wy1Wt27IiukaJNFiYrGkHJOCh8mRC66jYqWJlv/OVNVOEfLyqVTtpZ9EyZC5NnjAkVRxGKVh01X/QmUgQ6zUyQAG//NExKYScU64AHvelYcmzjaYPJOdDofudbv2xw6LhUkrkQdQhg5LWpHiSdZmzriZ6t0XtUuN0dIp0kCVLP///+t9RSdxxZki6UCYQX3S/FgnYDAYdl1IDGQwwzsttdX///NExK8SOVasAMLSlffYeYIAUGjgI3WCbklHEAAcDgSohfgAYiZkCHT4lYOoN1f/+/3V//42xdWGhQFUhhRD5a7gQAXJkCCr1tKkdPxoAkXXb/9zxmPhn1vLzTTv13hg//NExLkRwUaYAMrWcLXiPVtOhjbNTKsHCHuFWaBWz/RSqGO5R1v/3NFQJcbTQouxQuqYTovl1hAJqCgkWf1XoCLcQEDiBC3tTr//tyRpEYWruhtoneWxhhKYPSXOIEAg//NExMUSSU6IAMlGlEGPAi6v//oKCM4tTlLbRf/8mi9IxFWKNsT7rfDRVijoMYEYz31G1yteDEBkKm3ecpzL//tkk4faJNRvk/yvI7uYSA4MUCjBg2KNLIMs///BEP0a//NExM4SKVqQAMhMlF1+7/tE6NLaFZcvk2TROAL4gFUGD5oiDxEwR9E3opZt8ZNqijrMSh4ansdlP36ueTkm2sIC+BwGzXrXWhr3Vo0QUCRBYQOEcgEZMYF4UFY1DZoX//NExNgRyUaUAMFGcCRUXnj6GFqan////9NXRVUWFtBkR+lrgmXuMP3Xn7hMGATe+vCJxwmklJm5tPIWhOxzDcdU5k6v6Z5+XbkUnM32lqeYqnn499uBw8HRWCrUIzq5//NExOMRUU6MAMjGlEql99U5sjRMCRc4gbJyIsgJpimBVVGxTIEPmv//7TItsQJ2GUf6mG2EDid2ta9GcoLOKpgvVhwN4PDdNaE5HaThNsbcPK+1w/Md/CNRqWUUEgjh//NExPAcgiqIANJOmQBo9LqOmROjHsJxKE4jlCA1FBAXgUFIgODgdCYakCxyLtv////002lHkVjWIjGFVMYjZ+8lm6WAhHMCED1AF8gYp0Dk0DOk7vati1W4LQ9e8n9y//NExNEV4WaYAMoSlDuR3Puxfqb2iiAEbPDk6y16u//cJlih0YA5CRDKJGGxoeC4iERMKRkXJYv///01kCwwJi5aQTCif+xTiB0sqXR3wjlg4ZUG0booWEL2mtMnzuqC//NExMwXAh6gAMIOmJWH7P/bdMVf5rfNb/Gc0Y4cifY20fByAFfNYoKWT3XNvv/zzisnnC87SIaSFhiEOCEYiEcq1In///7CwsDT7dIi//cjTdQCI7gNO7hIUTFX4FQ7//NExMMWuWagANJSlEnrQR/gQ3z9fO5veNaf3/dueQo8EIlA6iKFwVDicacqsARLnEl7u7goOGAgsA+khtXLCIYhJHLSOY8u1vn7d/MHXr92/v/60qeUM7OqFae6AEJJ//NExLsWaVKgAMvYlPHYAX5drZ5xM8qUV6Ho2ZvUYw8Ig4iOD5jMg4MRQ4sQBos67CAlPQwfAAsDGYGf3wkkkCKQwLhsWvULHT5EUCo1l7NVqr//1cUq5VgE8TaPTwha//NExLQVaVKgAMmMlQ0djFQu+8/4fLJh8s0mWnMq/NvpXcnG6VOUxgdGoDwPEYPJrEfsQnCJi0WQIRMgTlQ0WvHl6tojpeLy6sQixR6XIV8r57d0mEMvrsaOQHfAqE3R//NExLEVEVKkANFGlFHHJDyePlQGjHhlP5EP5I6jXJF8le9ZIvQDhZITQUtPiP9pXVetxfiltTpWtD13qFPvm65dIls3Ntwa3//+6dFfvQoW/9E+qurGovM5UUeJu4Kg//NExK8U8VqkANMYlE05Z96dahEX/4g0qHoyiJzfUfqJzaqlFOopFBAcQekUIcoXa85pyeTl6SyOMfnQz6a2xoOkBaSQ85s5YMkP//7QXEAo/6TTv/boprU2k4CYZ6pe//NExK4UEVKkANNelMBEn2WTSjhENZ/fIzwcsgU0LZ5fQ356VKkUgRHZQCufEOXV/3LVx1FY2ZroY8oTswGGZYdZv///lVBW5T8kKlf/R13rfJ2kjTe+MSIXmIBgyYJf//NExLAVMVakANNYlAfQVJA4KWrhBdwHe+hOUbhbtcpq5m/w/W6jFAwbWgRxfq/mceMBGvz41CjAaPf6//4NDn/nNdWuzQBA5+A4Ja5QAAUQONIxIbaWAdmrUnrSdTF0//NExK4TAVqkANnSlFk8/xnoUONlS7ZyVlk8v/Ov8CuchYf8F0ASoyptj/u+///8rAz/ROCgolWPsxHQsYXuRgwHNJZkZGFREF27oCwcZ4f08AW0kxUqS7aVbRPAJEjt//NExLURSUKQANsGcErb/3nxjebxXl9v1uhYOPjxv7s97kpk6kmnrx+YhlAiHcnZDIP0qGvRXW68XkzRI0KvWPfFw486MTb0Cd8o4TvL2iChpJeug1/AJ6Kxq2GRvByB//NExMIRkL6EAN5YTJQ7gKeXNwUuu5eJEFRWLE9WJubM9870MwIC4/jrWO0W7IGjqJ43VL5JjqgbBNC+pQ73UXwuaLnwvZmiNZktZWb7///+vsq7anrOpqUdSs97ak9I//NExM4a8VaIAOPMlN1ucqrVv2fXQWhROoZ3UJiiROnNKr1M1kx+ENAuM/pi3qQMclQYrt6mwsnkwIzR9XjtPZg2ZdeVEBcrG/QJI8+GPXwcGvmnzBS9KDKWN1UmPkyN//NExLUditaUANNauVF2cVJl2sf1nt//9FsErbryD1f00Jatzz9E3eVG7kFtgcsl4GKt/E4IDFks1MgxDgMCvhPfApXv6G6JaDRYk8UCQLhMAAOaLV8XahHsO3yh2PR9//NExJEWKWagANNelIVBxPfO77eCs0IZ7Q4Lp7cLHv//64C/p//akBKrESqptux4IlFSu+Gai3VgA98Jl7M4p/k7TtIDa0v4b67yruO/jNr+zPHhqMwzTQ9OFOyrsgxo//NExIsViVqsANIYlJycQo+8MjYrKD4raT90mm1Fvfd+LUqXam9fZ231f//9FeV2xFc41xkkv6yBdUKYymNA5likHoPWdyQUilVUadlon7u1w6WS7oJcMB1ktfpZOqiJ//NExIcVGWq0AMPSlDLqAOAzyuiSwqCSJo8m9O0Vkxn9uaZBpJDCvjp9atYGAOKUYc1T0ZTvLczTj9SgXhpl/NdUzJxPG4uXSeVKgShzE8PVINSMZmLMR7a+7eenHRbQ//NExIUT2Wq8AMPMlKGCDgAwIdjSiEbz6rwOeJ4LMGLw+hbrpNDpUWyyGLrBNYJfmVRhcw1GhK7Nt63nU2n8hp/j1MWiFLhHwZWaFWFJnd9bas3NNLrDRRAaGyvJTTuN//NExIgSQWbEAHvGlfw25ENsMnELH7rEAKlXkzQERK7XsSGzBRZivRJKl3TURKXmQUpfVauewkwOo7EXlSYeO9x9Y3mBbG9z/NrwrN2XkG0L+PW+s7//vnOvuv14uAHV//NExJISIV7EAHvMlRAwGlINF/CGAEMqNlcAuItpia62QpwFtX1WiEfQasHGUbWg0PY0ETwHAS5KxVMYikPZDqkwVEJWbEqjFWr2k5SSv71WFK0qhtY2BiU1lxAYlEhU//NExJwSKWbEAU94AVZXsz+HDhvn8eHLEqrZ/WLO5M0t83///vL9//+CCny6WiPdQG8m+HH//r2/WpqAjGFLmgT1q3G9p4YeaCmnXI1L60M0f1L+q36Vzc2atE4loMFC//NExKYf6cKwAZh4AIBAaMBThW1WVMz0cLHXxZc/fGjue86a+qaPiKtNegIApZ6g8UyDg559ZZE8J0xY2s+EmdWv3DIT+TtEo0eslEjBKAuecKaigwae4ymWmqJuYrjr//NExHkPgPKwAdgwAe07iKkbYo8hL///s966wzRlHx0jhKsruI1auIjAxEFXrBZuhNlu9PqTftBOP5ZfdKkoVolx8BxxChuz/Mx+uPKuRhIHguEjihU+OLvEAhaAf//+//NExI4SIWKsAMpQlKRV374kc/xIicT+TM9aSJH3TfUpH1Kolp+Ybyz8tRTMUsq7sjosFRUdVAYYOie2lbuc22x5mOUs/dnO/5mf6+ww3DZkIBQj///pu6TfJyra+CJW//NExJgRiP60AMJYcHIGHtJawhK3VCPSgP1h65JUSdmLzZpkyxilqjIWigxi0WFQwyKHd450RosqV4N+UJzvt9Lzt2aW0pss7///qcPKoyMXSACeNcZCNdwUUfPulTrs//NExKQSAU60AMMYlL+5fuPu91mNvEX5rqHJGgLlxbx8qFFjrWICUd0ZJ4DfFlbrfG93i+Bv437zagRsSbpFjbSqxrCIItqCS5SrY8aEJAy9WKLfuOnIzqVXGeeeeG+f//NExK8R8V6wAMtWlPyFzAWeRgB0BwiWNDhg4VhlR2xRWexc//2/rnFv963XMjNWFG2Z///9NYNlAh4NHEFw9qNKiae00m6xSVVcLUps1bPP1l3++ta4hWg13qDMxPnJ//NExLoSGV60AMPelYap5DlEX0xXMQk+pWuJeLo78eBUV1/GjYS6FnBSnWX8CeQwHKjQxRcROATjj02yEuYdhZBMi4xCUL+l1lvGbLhgNQAtA38ZEM4c1LxkZg3wOkIm//NExMQR2VasAMJelEXJMOqHhIiXxk+vIgZpJGDFExNnKyH9tVMuMYF43RQKX/QdBBB+gaKGfKZ9dv/6baHptPouimcZKg///6CFaaZfM3TfqPJnEyo6aBgXjRKZmxFQ//NExM8QqO6IAVh4ATKt2T3MoWkJzgpAJSoEABJ8XXfn7DsUWe7eonF9sH0izT2ixxwkQdCieq3eVfH3S+G9n0p1XmAqK3+vv//N9//53778OJXWJCIWfWfFlVWOiRr9//NExN8iAyaAAY+IAOBqCYFsLQ8oe0TtiPw2pe8hL47WdzivjcZITPrCKpqkfUke1OkaKOwRCJh0HiR8fTvPzFSQin+cIk6qzwh8pvPzKYN+4lTC7qyR8GBIgMbuxvzw//NExKoSWUqoAdh4AIdyoqbqPwwlPKwhkabi6qjbDvwotsQd8qlJP1PFRUKWwOj6q2Km+/6pT2Gi8qMTU+11s3EpQsKrov9y6qo33HAFw1D3APnOQKjekkavMNcbVgbk//NExLMRyVa4AMPQle8BNJq7eeOKuvlXfNJ+Qvp4rSBIFoUINE0CQfl396G2pJ2KSmKWAPyjA2W9HE+bNxe2UlZu0GVga48YIwENgH4csRSGTMX8vStOcTcWGKu1FXdd//NExL4SWWq4AMPQlEj3VK73iua02hNMcSIBC7BYcUFpTsmwkfHdnBm5WvoUwJmQSBNSDkcWsR8sK+EnIrYLk3B4+4nHKGKGDwLxADgPQbJnHa2hZtu50zH8N937XXvV//NExMcR+Wq0AMPQlRqsWGZP/7vrVTi86b9MndrkATiMswF9KDkQ9+C7RRKALBjhAw+gwkOJynTLJqSw9TJUgiw5hbBaoZLmVohwp4kCH7Z+bbpnIiZVlU9SLgbbDpB2//NExNISYWa8AMPGlSTvbgfAhVQiyWkUdtWqoI4P9f+BBcTSyYz/p8IBi3BedoCdqBO0SZWqElynIcuw0w0QoYkYRkrBDkKc2WNW1vatdWxnOqbc+NsTEmMSo5LpYapp//NExNsQ6Wq8AHsMlc885PAX+LzTl6dqbGISh9TJVBGf0J8mOFAIeYIeVQACBGXBGsTV4If1lqVKVSKUKL1PWuaVOVBb/RaGoetX8KJbUKVEr9VVwzQTCxQYCPVGPY43//NExOoUSW6wAHvQlOzM2BBkBB0Rf////kitFQuCjAppNgnilNGQ8SNBk9IGGwAXLHgatMLABhIKS5MNw4sBRQEpssChqmK4tWltduZb3mNOVs9t9f+m8lIsFaRIznme//NExOsT8WqkAMPMlSgNFRnurT//5K3tjyP/660qMEAAwUbzsw2MAhw2bSCI2GJjWCjgSgddqYIYLWZISqqJrkKBPJnSwzORrp8EBEbSKM+mEBGSLH6+tn9e82z0MGGk//NExO4VmUaAANYGcOmDS96+PiilqkKodaZZtubpNMmk7VMTA93JGwYXfIJBpE0GEgI4oGmMAQkWpa4KcbqF019hySkw9jc8FQDcM3RTqRrAeCTPpUlVM9ayQJQuIJmq//NExOoVGPZgAOYMcE9lKZd1BzGNyXd3dTW6eqaj3NxhB6Mn3aktk60l3zhogjL7oG90PpX6VV01LugjTlOfJeg9fWiutTL6FkKFfqbTcwLiJIFxAuIACCp8kVwA4CgA//NExOgUwGZUAVwYAIZxmIjXo0oU65AyjruUjJG0rrGJhQKBkYDvBLgt5JGJcY0LCmXTQ2He6CZu7Ik2iyZLGJdTTXoZxlVLLGZJkD3sz1p0GZBSSCmdffnUb93dNFKv//NExOgjUxpUAZxoAe6kH1XoLVRRTUkzosmi7aa5md9lemym1ImKS1pdN3bei83VuSpwkbjiuwchC5YxL10jBpQk4MhAUCZJEmb1YcWfXKol21ZRACTUdV/5bDhILgbu//NExK0fkw6UAZpoAR8LcXxrFEtsqMeCAjKrtdpeYSOYfWLWZu3cv/4uwGEOMONqeVC5ttwxS2jBL4uVtRVyiUDMc3zVxNLYyeyHiQAAJ4QeAhdKcWMIElNamSejKdo8//NExIEXmMqQAdpAAApWMA2adDdUZgMBr77X4aqXMv1nqax3du4at0sxjSRuXxPK3vu9a1/71+GMTlopCjCg5Sg5T3o9VstCLLX9ero7Mq1WdmuMYofY/PVXO7yqQykx//NExHUhas6EAN4KuOSrC6EKeKIrCDzuIUQw0wxSirjGKNif9RUxrsiwJ+HBkC06B0573wDlEmpTq4r4RulYw6CWnE/CUFzVynjw/94w2Vvm16zwp3j1cZ1r/GP/m3xp//NExEIg+vKQANPMudnfu5tHaQKPHHND+7QPJplIXrJk9aIzf//2zvkfHtbdP7ERTzEy93fZPtlutt+t3toxs+tEd4x7t7fU7vW6GW4AT8XDaBbG+LiXmGCZOJ7C3/81//NExBEVEvKwAHiGubfpDARjPLr////////ez9fLil/UZMAIejjHm/ohOVNThYdvMO1PKohXgQgCIIU08uJXyMJY522GRB3rGxPyO4OwtoHVlUeoRaJN///KX/////////NExA8U+x60AChMvP///7Znd8zHl65k/Gaj3aMLXBk5H2fVl7dI5UYt0VK+G4fYUM3EXZGUSIDSgodMSgY2kk0YjIiz3XhPDHdyei7LFukEnHl5o//9f/////////////NExA4SAxbEAAhGuf55375lMnr6GOQiBZFwimFzRhy1D1S6xJczkK3QGFEzB6ZFUQVpT1dY2KEkmQgxmFaCxmEqlChxImQHCFOipkUn6b98IMHRF2+6P6Oj//+rf/67//NExBkRWqq8ABFEuUv9WV2MoY2rsioYM7SlUpjTZSlRS9crNM6I69UTKVDZy5RLsf80U/I7mQ03lccWfAmcaeg5uhcBkrWS3aNZ4XAILXiWAQ5Vl8tsB2LxIsSynEue//NExCYRIUaoAMsGcBud9+5d5kT6E+5l+5oRFX+mQG7iyYjHDvX//+L/0LXm8hHSlm0OhFFikEkskSPzr1PSgdJAOwUhfguiJlAG3RpmqApI2WYnqn5/O9tGyaj6iL1B//NExDQRGVKoANRKlDHjs2g91AiKgPQ////3f11K3g6Jgcry05AaGBbtKrG8vB0KHYeKBx84A4cHqk8K6AVIMSHAVAB2mieTWxa+tXepPTvqmz4/jodkeLsRmqNklHv///NExEIRsV6gANUOlP//T+ii7VZkaBAMGgEdNAyah9lhxcAJIDnMxaIWRyACXALHy+DQEBAiUFh7REk1jPH6Ra1dv+U7atjz1JYHkd8wvMB6ZH3Jp///9X+L1aWs6Jl8//NExE4SCUqUAN0OlL7a2EJRQ33ZGAWYKhZg0CvVLRYGGpdAwqkCR4iIrcKZxRy0PxEE3HN1Fr6n/5++N0FdXwA75rjA11Ea3f///V/osWX2PIsc6UCpkbDsmRWO1mDz//NExFgRgU6UAOUKlEy1DsLDS4OsBDEdjEEA3iQVRYJgQw3MxYtRLbam0GqbLq+3F8j0AfI9BXCAbcPajrP///PftvUq7qCQOXkPSUmEDrsgNracKXjAROORgBAjxPgQ//NExGUSSVqYANUKlJAk8WAUOBpudQHLNUlk21S9LUnv98J/fApe98Bwc5Yje3IhhExANPINom7///r/yVWdxgA/gKQU4wZDmdl9DiT0WZOImTDptO4RD4/aIIAOBRu4//NExG4SyVqkANTQlHIJS2+ShU85BBr3d5JMNfj/zX/q/+0v0ne5fnHehbetGhsRP6s8G0U4g2S2MZ6Vaj///ev+bLqWXqM4Mhe7aRo8dTEuNPDFPyERmQkOWlHwXU6k//NExHUWKV6cANaSlDgBKREgsqDAV1654wlCgq5BbJP908//n/He/cv/7b/JE/cP37hnCv1trrqGQyLtq/bUpFuT2HKulvel0CZC3//03Lp71S5kncewyehZFb6DBErl//NExG8Y6V6cAN5elK4Ilsh24KjihpPP6bIFI4ZFSLNbjtmhBQO/YgiDwP30FhE713O//P+Of9y//klqLMpvGtFiePJkGPIj4OVpfZzAbWQCsNrC2eRWWo9V//96bbtU//NExF4YCXKgANaalFblqsPlR5yz2iQQmCyeIwRY1VQFkxttbBCXOfUpc/jYUgLFGIXSKtKgqeFaeKiwwva3E/+pa/zX5W9DyKvNCAq76cM/R9SYyetCZDcEi+1tf//+//NExFAVqXKsAM4WlNv10W///12xclJvUUtYgIfrFfZcajukB8Zwpg6VnJZEW3gvXC03Od1AaKUH1EZ6K7D+XJu53d/L/HawHnZH2QOLCyOmI8xBLwl/VOTCeYi9kQq3//NExEwSqU6wAM4MlE6HQVrX4yseGYnE0MU+YfcAbSCcHyHd4frhtSqm0FTQ9uEeUeAAkpBHVFCVVP1d2Wo+aXbZly6U1fOT2bbWbWt9fnenXUuJU3uUP6FwcB4QcrCA//NExFQSeT6sAMvYcQTLB4DCiQ5hosVAqOgobsHAGI9YPnhOaRsZkxSigQhBIISAkKDlMi8iSG6pMCAmPQ636Vf///2fjXGlf2GhgbNwphoRd8QHRFCNkQAmOsoYztId//NExF0RIPaQANpGcAi7UZgKtZfkuMSGuWruahWoiMFz02HiP9+XcJGOOcb5Y3y7OhwaiYsqkJCIsgTH8TiKT7sUvv5y/5v0z17pIp0zXr5C4EHF1///FHBH+3//sqBN//NExGsa2VqQANvYlGrXX1Mr3l8yQFAEBmGtGafCxqQzxEDnhCCS3ZRQ2yfMTNjimtCOPCmH0l+JCCYjPyeLem5J7cTh8pQgULHgNzYlB07f1on5bF8fBPck0vlpswsf//NExFIWqV6gANPWlP//8CX/p///Tfxho2um2pUlhKeRRwA2DQlfFdjRDG1QjRpMR4MsWKeO5sTuTQGqWycF/eRD/lN6RCaQpHHlIgK4r1Pm/dW00rz/KLxB///3Ld5Q//NExEoR8V6sAMtWlAneSuDjSwNVIG7mGmVmQHBDiwHHOoHMWMHs4cvYsHGq8+LWthYUeXlb5Qo5um+W4dXnyJhYh8qt2StWeU////TZd6GkuwUdMACQdAyM5mYCmq3Y//NExFURMP6sAMsYcEjwwIBOFlaoOiTLUVnIplljxNxkv9K59MUkscIRKikhQ1DJYhjaMmLCgEBWSEkCbsFP9Dmf////qcG6qIhu+woQARkxwClpgYAFlE9E7JfFbx9i//NExGMSMP6UANvScNLGX87HzIiW1vfJ5btBg3hUGSrjNJapY8YsPYCwjiMBTK5zk1O/b9H//6qmfEKFZgloR5BNwUcHnMdEuAAY0gDQKmPWgcwu4vFDdHtWiLwSmO67//NExG0SIP6MANvQcFt6GmLkhUmbEsSlggVCGHYGBgKaO5Nz7pwPYpIv/YYvUl2X15yvQxvu5qMRiX1O0kYsbzzw/ef9pLFS/hUjF7CrbzpOCBZ9Tf/9dXYTlDH//p4W//NExHcd6XKYAVjAAEockbXkHFUR1wWotoHGBUxQ6hCZ5mcgIAoQlxZ8USl4z1TdLgt+gDNhEMEzVO1TFzA4bWQKUtOgMDDgVKjrkuBAkgj8vbq89V342163fl8zTyh1//NExFIhqcasAZjAACtOW4LduTymXyKkkLkwxRSGizuU9BMWsc8ZXDc/RU8zHX8hyDp/DeH///++8////t7/pR9FJ+MMQcdKVBpKotp2EpOkW0RUsJeQOxKjUJHIeIcQ//NExB4ZwXbAAY94AJkQEF4JuNw7DkAhM4uQa49C5HsFBEDaVK9jMz54zVfXWH93j9/FQ2JiduZlK9YYENgY1l9E3Bg7tBkzqFZmba6tEiMcByLcr5koDJZkOKMnKFoy//NExAoUWULMAY94ADm4oepzGanBhNETRCIiEMRlF9NFWHISg1ULaHarczlOUzotKXpEbc5l8j6uoV6Uj3tmWDPmsGj7GN/O8w4cTIlD7FHgbDniijlEKHIWYyh8JNJo//NExAsU6XbIAY9gAPRayh6cLmq3FTokaRML4HzdYjSslUgCWFJbLg6FtQsOiuudZYbYPLOSe9f7QnC9axdzn1kxsQNdmdS+sNu999v87u052j3Zf0Wo4Qquy0tiskcn//NExAoTOWawAdhYAQfSjqvNi7XWjQM4LUZTDtLKa2NiDY6knBuTUR3SQC4ZDNAdZo0+io00fK8TDzjSFaW6XC8OZ38t2xyzrRlECDommyDPxnk6na+U00OflT+bApUF//NExBAQcP6oAMJScHio3EqokPtx79qPqc6lGkWzSbEJlgYXG6Ugwljc4RZpaVzRv1hI8AxYxDrHf/////+mtQyDbXbmyISo+scoKN5IBdzMlGkFiglcjuVQqMPGo/Zz//NExCER2W6oAMpQlKcwqRzICM2FAMDwsFbigjoMg+5WGvhef/4++buKobdDVjXf///9FdYjFR59Mks2l5P1mktLyi12UzhVOrGmFzvJSl6Yv809bvkgm5dxs6FBWTnS//NExCwRmRa0AMPScMwomYUmTo6QKXCr1PBiGYRABMPgAwEB///9Kt6Krx6WaiTh6YyhLlTxojbuHPvp/9g13PWYUTtc+G7Xk3jKo2pjzyRhR3BqHBpQN2KBu5IClMNv//NExDgRSW60AMPQlH5S964rm8qspeR/A7RVraKv1ZIEVkGnWIoBxXVtkVd1zu28eOeXOJRO/rtwpM5w403UkdvLeQ1+YA8oZvF63EAOTAadihqAXM6tLq/pb7z/PedJ//NExEUSkV6sAMPSlPST/bN6VbsdFLpatMQnU7PVSuC7JEEGLyU9pHRi1/+zrLC2u70UlQCAREAy5TUX81Ocw1W1qNtSADIPl2BgBvBwToD5w41t3+xpz9rldN9+lal1//NExE0SoPakAMMMcFVD53nqHgW03AcSRFUQHZJnTJPCjqvTXAunInP9Yqp1XhMF4bxuKuEmDgu1s+L5xc0BA440CZ2Ezuj0JV/2ISIkADg+bJf6FedpCM3JWlDkrIhD//NExFUSUUqsAMPKlDQiohjZgkS0E/4UEn6zAMCtz5ZbML5dkvNWIO5qbWlUtigcrw95bx0iFkDjSAUD0Nt75bRLqf1cpiDDbGBCLqreSWhEKZQbe2UIdPbKEWbj/CqW//NExF4SiVK0AMPQlahWUhn1pEK3Up1UPxHXIGyrkScsLUoXsqq1eBbOPh7NSNuBeJMzbh7HdKln/1AsC4JAaHXlAScca4PBl6lCOrtgmpNVxFNH7FduLYbKzAS9pUKj//NExGYRmPq4AMPecaIUUigOpsJpHycVYer3i13/eLqNa9vR9CmZn0W2fvdc+uf/b5xaPFE6CsWLvAPjVTJHFymEAKRZICBPHwdF0ItiuTRel+OKQ5lqRDo9IiubV5Cx//NExHIScUawAMPecXFoTJYbzZi4zFxm1uGFRm7gxmARJLlVhr0/jbMdCkxUXh0qRJBKJ5NpdmZyV3G+oabAKDMVQ+9mRtBYc/0W/GzS3q1rGlylTCIRE7cBWAUwhV6t//NExHsSqU6YAMPGlXjHLyV5cfH0qhxTpIGtaiVosRv/////RXIZ8mu34yUO/KLzpy54GgWPkFLK8GMyohTUmMs5L3hWN5UqcA4Xqv39JQVj8dIRE8bL/X6x5ZdO+6Qc//NExIMR6O5gAVlIAL//8V8oJctpG4//+jms56qSrUaY1Q+qUO+v//zSR3yuhV2hUlY7TZp9FqK6Sk/////8PtFd0MafqWJ/aNN1WJuegegujbDSBtMtJAUNDIabCKmC//NExI4fwyqYAZhYAAKDBg49NAxKlcYMER6Tq2VYZUEf50ZO6tQue2dgQHlof4OXDVgyJoQNFE2VJ89MS+imqxuicPKMDOsmKCdNLL7pGjJJukRQ1RHPPokXTcuMp3X+//NExGIf2mqQAduYAN1ooo/+ij7MttbPddqVWq9GyndzjnVo/VQvtJztCnZcoQW4CvFWAVfOVCgCAmKTBtrYgeMBhkwvFHgAQrYiYYnOPEZAdyJhaabcQqVP9pQd8r8p//NExDUdcm6EAN5UuKPDnNvjS6+RfQzv15F2pd/Nzr9I4t7Omz5KccoYOUb4XDkIU41OC9EM4Ojp4kElW2/////1+eymNY6nfXLMaSuqjMeECmAuCKFhHJQ6HQqtHTCQ//NExBIWcV6QAN4SlJAKexEXxa4RO3MLCYxItFYqkt2CUA6tvIuvmB/mu///Q9/tH+6L7r6b8SDJBPfH9bOXy1d8nWCv4LA3i4n9OWc///yinfYkVutzEZsXow6IV41N//NExAsUOV6YAVqIAEhCQAdA7MO2wanj7e6twzrBdNFfbWfqglwVJYFkETL5SWmvLLUXe1NmXqMUTM1rfRzVnQ1sgYl1RgRIuF1ToHz7Vf//7h8RoT5NQQNGgKuQYFBq//NExA0V4eqEAZpoAMbMPAUSkRWPl6pbUwvZFYySXdzHcEqHlEvGqNK7TM1pl3/1JIqqo/+y5kSReJHrq7+PUdqReSWitFv//kiXRQeChV3/4TUBSSh41R4KciQUis3z//NExAgTiyqwAYYoAP////////3//b2G/ySVONY4mKh0HP/3cTV6vDjiCkOJiw//9TvPRaToQxx73F0FCf/+ciHkZ1ExdA42Q4HHHIHxgkQXQOIqdkVtFBnRXr7tffOp//NExAwTeta4AcIYAQucqffz////PLy//h3xNcrUZGcmh1SUhRTNlvPfNi62U/sUqfPuZexXmxGcNfRSLpIZbSrPZnJDqZiahw1EMDNmsYCIEkPC6LOtD3MJXCd1fnt7//NExBEQiIaoAHoMSPfvMlLXH4lBY8E3FmgiqcTqHsZDTRoiDSuKpJSSeivVT1uu1D3XdQM51889IUyLzsqqiUNmXhg4yDBAktamZFCBRjPzDk1Bj0SsdC2A/lc4Miji//NExCERyTqcANPGcZ/MpmCbmQJI/UbuYQDuyELsUkgMzAMGPA54gnP/uZSlmUGKpI79VZ2lORyLDlFBBQPgVTHjAEVADs2IZiqxylLJaci4p0wCxE3ECG4Qx8rN0r95//NExCwRkVacAMvKlc6j2zfVPRkJFGKJoe3ZEMwjR6OodQJPF4181eo6CiZwMHDKjIQVeYSKTuPbpssIe3SyGhstoYFQJCwDkghUi5cqPYcQxYnYee/QviIRDWBxidY5//NExDgQKIqkAMYSTNSUWX+cb9WjWoAsCcO5SSSaja5InX/8v8wmH////////////P8/yPJZdGe5IyucmitXSIR10P2LfInMupeR3PvvF6W8nvPzR4V+tXCI/j04oZS///NExEoRau64AFhGuf////28/P8/7eFwjRGkHxT7HPucRBqupiadK8sknRaiYFBo+WeyZu9r7mIlHhB559Ey9idGNB885SGnKM1sRWfcGpk3zSD///////////////+///NExFcSMxqwAAgMveP3rPW7ld9dn/vLveq+0SpC9l+VhX0m9T7tYHlwmVrqzY2YmdCug6CZg0wSdmHHJOTs+FSqyyCKUEE/////f////////////+ef9/f/P3f7FMW///NExGER8xa0AAgMuZiI16asXLH8w2p1mw1Lp9jYg3mVaMuUz+c/isXGCcRrTm3WlCnEpUdBOrDpV0yBkyIM3//////////8/z8aq0c+9JfXCK3TnlkLlKPVGYXmiBRF//NExGwSaxq4AAhMvTZS3Fxhx7KggkizCsiMMHjSxHtyz3yDBRyVe6DsWZWCtjhMHmOEEp7/////6t0I1KtNNMR3VCncx5kEllUadTqxTmKPFSqJoVEOQPj3Somc5VET//NExHUScxa0ABAQuDXD0SYyqhWDocAQiDyEC9Uv////l///////////26Ncujnu9GIsOkRUKfGymYhhcpg80TI6h852FS3iITGOkWZnMHAchUdZBcTGjUFh4eEBFTnF//NExH4Oiwq8AAAKuYSYUZBg5S/////X//////////27u8jMqZs6JBgiKYqoQWIMYrhTI4ohRZhSKU7CVfjqEdSjMdxCxAIiDAVyKwhiuaDBBjlBiiijQpEcf///8pi///NExJYSIx68AAhKvP/////////5/l/+Z9nQqPJVuZw2C2wUzo2qkwVYawKJNaFBPSBiUFSwDgUC2VNxFGzBV2kQ2cCCplg4sph2ADCHAYGUniEqYWM5wkZxq+Pm2vNd//NExKARcw68AAhEuRro0ZOjBAEHEjMAQGrHvFSTWvawMEN7/LpMBrZgUXBpUNCY9/6/7HU9v+572oW4RZ4qFD2JCUaodOVlqZmiRBhmRgKYIQjTG44j7CqDGTJTCfke//NExK0Qqlq4AAhGuQwzzALxuk4ExTSlit9b+9Ydb19b2ujIGJmsoBQCIrKioqKZRQRBMN1CTG3MYKM////0oZaVTB4WXE6zA27PyUSP2asD/B+nNT+kDavOndDi+IPZ//NExL0RuIaoAHvSSGo1oBUB7LXlkmdNJ+iucJKtvveplIo2JMGb1XDx4yXiBkDZKMqzqqpKGEg6f4oIjJfGgBweqIoKP4WjjLMluQ0PDtgUrhomOiYJOaYoFPPtJpif//NExMkVcWacAMvGlN6Vf7sUe/qXTM6jcHsNiSiRYOfoGBihcFpLZ327VcJER7lR0PQITm1ER04BEUX+oqEAjAYnJsPQRDrCdwIMcwQFB8Mh6LxfNEjdFBWpkXt7KZln//NExMYRiT6gAM4GceRGZEeZEKeRTuCDVzEmoXhX/vHBDqQFQwcqT5DpanDGyhRDqFGlwEosVSNWepUigwAas4JsugegGkDwuvNy23W3/P/W//vf3/4/7rv8ntvd/mUB//NExNISWUagANZGcR4HFZ23ZLpitXJdB0yu93///+nN+DhD2AmOpqbihMaCKymdDumCIKJKOoKCMpMQKwsOPEBQ04jmmAVxKxpVDHYMpJrCtby7ve8dc1rWHOPlzvm3//NExNsR8UqkAMRGlXny3duotADK1HPIG5OEzcA+myzhcBhljP///2tFlrX3qB+WCbYmO4IZbGFBRJMYHNwRkhVBVwjcWnYqDJl62pB+HkUpjzpQxRSm1lvuv1nvm96///NExOYUwV6cAM4MlP96ntbmduRflhmQULB3Z0QBybGMOgNvB3yIw2e0LVyqaLpRIw0GgNjBx2KrigiIgSysTYFADpA5KHwATQQaTIeiWzhIzF6VWhOa9PfeO3eO2+/9//NExOYXoWaQANZMlPsyQo7XZivQHdKdFeJiNR+r////QoMrHT5Khl9OqhLCLQUl1IyUqkq9eALuH4ByFkjoAVYuAEoMUnx+LZDEkzjptVVWp01b1prWvef+Zr5E2ZYK//NExNoTQV6UAM4GlVZgyKKFTjG4xORSl4WEH4hkQAyCF20OplQCt5jgMIUinU9aJyxy8zP1omNhb5WNTWNwDTyGQxd+a+OeOsbv541cN6/f7TEYLpc4ecjRs7WKetC3//NExOATqWKQAMzMlBqA8Hg4w0OPizP///+qKoKYA8HCiYKIzaSpDMkBGLgYRpxkKDgJsDTmZoatBBRWPg0C92wLueOdj7u3Hep6C1V/eO+Z0v487vHHwqOgaKXc9vJj//NExOQSMVqQAMxGlYKw1NJw7qexsBFjRYGpVT///+owdAN/qjq4AFQxihaZgRhgyIwAwcIEBEeDmfq1Wq05VSPIAIUsAkbElSVj2i4CuKngVKuUDUO/g0sFTolLB1Eq//NExO4VcWqAANYGlAqAgaxKMeDX/////I1XABsO0JDJccvs6lNbdLhXyDuwmkGw2LJOLLUazkPUzSEuhJBTer2o6KOFLpsqQ6cY+0i7orMP4na0Ch0VcZSokxEZWxVp//NExOsWAV5wAN4GlF1gFiU1ZN7I1g87q4BdbRYIlVyDOU5MmOkd1ar6ogvJoTKNucNmjRp6ipiHMfsYZCWI7naDoOsYROlBQCiAhDZMFECFbADa3Z6ta8uhBDJq1rYR//NExOYTKHpUANvYSJIkhX1PepjksDCEGigxuISpMOu2rtS6AX5WbZmSgGRuKpNaJQMkUujZAMEgKHVrAR0Oh0YeDQ4Ciohw0EnAKGsOkUlfDQaQVBqks0i4seoKkdft//NExOwV0WIAAMoGlEUpIllunZKVKnix4Gp2qjhRV87q63geTKWSsiHCHMNC4eVoHj0wiq6WCH3Gfc8wiZhAgAx4RLhZThZwqhYgKEykTvEEoUE8nlCCCeJ5DVzi34fU//NExOcTeNH4AHpGcHEww1uTZX6htTvgzLXMosnFAS0ZDIIOl8GSulh2/MS+yQSWMHAxepRp1uEmmIkczSkiTnBVXJGUaNRIsyVP6+s//GY6qlqoCsDAR1mZtVWKv+3W//NExOwVIIHwAMJMSGqrw4qxhWpZcqrGrNVLliicMKZcozVRPP1WM1tLZnKyRiCllwcSlVUEFSUUHXo1NvXGay6QOBsWNEqJOE3JgaCxIEFBoHgZCooBQqGQWFQyZCQu//NExOoTGMHoAMmGTGVX+z/////7eLEXfNBUkaFdbDISEZkJKkJowKxAHxUJQkRhgP4iEtIzbpnclJEOMUtBONzcxcA43/+h+ZMmjT0GzIRIGsmZMGjRo0ZAYr1GTJo0//NExPAcYungAMGGufNGzLv//0GjJmk0GQgL3l223lFWXugP9ucIciGMkr/UismB0+eTcmnt2YQx7aIz9zIicPlwfPggGIgcXBwafE4gfEDmAhg+TWfOLCwYKAM5LhYo//NExNEQiHWwAMJGSCd8QASGCeJ8/nKv5f5AnQBgGUAUhStHyQSVuMBOlAreQrhiShHQvJhSQyt1dfMnVnXU0JSeIGku2p1h38aR1u6GyzW6hmQYmplRoYgbwsu4LE6L//NExOERQJ0oAEsMTF1gaOo3bKM5p0c6sZudxYytrqxHPgsRieYkpzaR4IA+QtIyuJwIKhQS5WnKncWnu0sIIjj0EaGoE7ZBADE4dxawPS6I6Coq4FAvB9onGCzxpw7F//NExO8V6L3cAMPMTGvfIVbaf9kV37dWR1s75Cq/9MtVAvgxg9EpjE3L6oG4kTNEwcogDRlCApbkGKlySFtPFk2Z5yLllr8fSuhmxSkVoYdPsjyxRKiBEJBB0eVEYmPo//NExOoaiQXgAMsMcT4VCAAgBDCZzHrN6MYqNxA3Spkr1mxyOyJns/E3TEpYkJBC0LIWRe6iWb+n41AQeaZyK7qVd5p/JBcgD1BGRLJb2NjoGXBS2OjX4W57zmvfi7Ds//NExNIPyJX0AMGGTF5NrylsLBfXvxUdpDsaX+X/4d3121P/F28qBQgX9VVN1tlQO00aU2KSHlBkiJegSkZYcusbe3A1OGOIFka10QUSQNbbWMqlzN6xizhggSLDGFBA//NExOUTCHXwAHmGSNBcOFTwfPwPKLpYQkHDXuZF1CdO1ND0K4ooXrq2URg4+pbaZ7lSl4KC3IqSTg0H0eEoonOZ5+qtRbL3PsNKpjv5CGM1j0sg66YfZPlAsNGjtOsK//NExOsXoNHkAMJMca3VinStq+UooKP4Sa9xO4K5z2e8aUkaq9JxXvNugvM7rkHWrqfVvaoDBASlSv9JH/cBp0PT0ViwiRlGtYJaSXLNNOe1JVLZQUUoY3QeahjMEOQm//NExN8VuQ3sAMJGcDwsOLHRx8sZLDkuFBYjK0mRVRFy2ESJVDc8SYipt4s2+Sv1vt01uuX11QqQHBHRK2sAcuSw2274PzHJXXryOIxoCfIWRJG74WilLe7UlPZ41c73//NExNsXCOHsAMJGcY3N8PF5b2/t79Cf0JClJCl79OnYUKnT4iJT4WR5dd3pk7u/ERJp7u5k7udkR+EEIt0KWufDDuegQQi+pLI48/0qY3NICuEIhkLMtRxTTMseuoc+//NExNEVCNHoAMJGcD7rRl3h4DAayAQo8hD3dsYhRAghGXdoJOB9AWDEECi1OD59Rc+ZB+YnBcThY4Udh9QYW2sTnw+pkW4ncibfu0Da20euRtABwNFYVoLEnCa2j7ye//NExM8aWtHkAMGGuYKgeDotAUHywSDzB9iaBsogbcVDKF1ETMa8rzPIhMrPitZC9Csm5E9VnymhpQQ5IBM1hqwYcTMMbOZNV1a1DlI9bKqyxlL7trsfP/UoZf0urBVX//NExLgVcN38AHmMcJS5UM9ZfYKcuMsxJ8X7auFVG8ZqcY2xcooupAiBF3QxXsDeukSYQPD2SD9x+jKYvJ1j8QFipkBBIXZFRUSP/FhUM/ios3WKmXf//iotqFxXiyDQ//NExLUcmrH0AMJGua9QsziiTEFNRTMuMTAwqqqqqqqqqqqqqqqqqqqqqqqqqqqqqqqqqqqqqqqqqqqqqqqqqqqqqqqqqqqqqqqqqqqqqqqqqqqqqqqqqqqqqqqqqqqq//NExJURqIGkAHvYSKqqqqqqqqqqqqqqqqqqqqqqqqqqqqqqqqqqqqqqqqqqqqqqqqqqqqqqqqqqqqqqqqqqqqqqqqqqqqqqqqqqqqqqqqqqqqqqqqqqqqqqqqqqqqqq//NExAASSxH8AGBEuRgdEUfx0AWPRJGY/iQV2mUZ43g7AZIeCv43c3UCJQe56/3/+Rv85zv/7/7f///vJ/nPX9Pq8khCEIQWc5w4sOBhwAAAAAAAAAQqO/iQctCgiBiu//NExAkR4E4wAVsYAH2uUctlUqr0l+rW3hb6Gw8amrvyCbT6ihRFAEL1n/8Tl2LAhd9gHYt2BMH6aygILIWVJpKDROv2PGoWgPsB+gbbFoEaB2g6KO8g4gH5DEfy6J+M//NExBQXWypoAZNoAB/4yFGgmH/lwlEiQJT/8FfC9jzCRjzJf//GQnLg4BkGn//5gShcUXCUJ5LnP///x6MbqjzOGjJun/////mBKMTzc3eOdJATMpoVFqkaIBKJSf+8//NExAkTKea4AYIYAJ3+nkf/PL8+/+ZkRSZZdLypZVio9wb9r4CQswgaTDmTkh5wlthPCmiUIZmkuQiUQquMFxx8edGOJ9W28ixxwueqQaDCdQhXY6Hcv/TT6XEz1/13//NExA8V4l6sAcJAAPEuqXE2gtRspVSRIjNCFnBQoYhIxBIimhoXkwYdJgyVYZGyty63Q7qBo8ibhLp11W56u6nhmPri7qHeq8+zB4KQc1ObT2OpfoqrKxRQ4hmttgAA//NExAoU4WKsAMiQlItWBlB3X+nt+gB9CUaq6aPmTIxwMdEd+dJitnjHIPCQUoSU2NIMdKkOBOQYwyQkGiRZ7kXObWCQGrfUSGHkFhVzLSLmE/p+op6quQyKpHqu1qDQ//NExAkT6VasAMtYlHnRSXKQb7kG0fnC/UWZPqONOoVGunj/QOjZHYGZSxv0rP1JF+P9e3Qj/TBKLB0PUTrpEnA9XpSqiXJIlf//6hYux3zC2/9V/FG84ICBn4DKL8t0//NExAwTGVKwANLYlAwVTVJNf0UHtC9N2g3QRa92ynatSoNo+DoGobAIAxdO12MM0WLT5992eMYjw7JrLXwNa4yOR8ZuC45VXPv///0qxiQMSgOgsSGq2CxGhA2Mu8cH//NExBISEUaoAMGYcDNpWbn9az1U5lbm/i9SJKYrAyJLaKz1nq652uLjK7PWqz1mnma1qzFYlKmT1oFjx3//////+mqvGFdDVofgOzjEW3nZNSUP5IZe5/3CIif7h3OA//NExBwSIZagAMDGlIQleFaaJkUJz/hITgbn8CJBCd6f/l+7h3cQmJ3w/8uHpRxwMQQcs//8QAd5eqXSU5sJx8UqmKNwEEBJEwEp+N7GGJJCSUZZk8JHIBYERomBABBM//NExCYR2OKwAMIMcPPOQQ5gAUQ4wAHa41AVE4CMBgHHXtNBUydSp74aen+hnTWxdbgdAsYgEghf9ymjE4kUu0nyQUdGl/zD8oa+yYz9pGecsHcnADAXP1xTp8BmkAgf//NExDESOVa0AMsMlE8FRJEjU/O//trV2/1BkxFGuteBf///0u4w0PlqO6ICY8aqQ0bsXO8gyispBxbBErRZtEKsgVNEK13CGF4wHnh9P6IInIFVGlQmW1C/65be059f//NExDsReVasANLWlJZNGL5zO1f//+sbs5SwB8RWmZoUBRVWUIsldTdFhUD20JR6W3euv65Xd4ugekFeoAROlBmVEE6UCrKgrEqpGRPD+s1li4eKBop///+LKq0dLBhz//NExEgQiPKwAMsScLLDFtmSkjHLwqmGCywJwY1kd0UBBRavU8wVXmFLVT8SrogDIi4iPrMBpqDcZrTeo0dkGZqKnOvmQKIRGGjTv//+iozHRkAOjKn7EJWRMLKjBgIx//NExFgRoPKoAMsScJBGBKqAUfc/GY6CfK5DE7Db3zg1OZox2p9lZNk6y9jmW7abtYphKH1hX2gFC4GchVv3f////9GeIABqOg9yMAsOxDHjJiDg0bXiSgEHSCTj09D6//NExGQR+OqQANvScADh8wNROSWNR5FZ6gK8nWdOns+Izh3ng48jrpx9of2T/LE7f1Cw08f/+hV9SAEbM+kYAdz8iIQLOi95igKRpacZsVsckQaTEypRVpleaoKFJU71//NExG8RkPaMANMecGzxfa1Eph0P7S16szsVl+Hy8NS9USHopLK/9Y1hEspgAXEQkCKh0cI7gINMvLAcBGGFbekoaxJ2PGhkr4pS+ZS8dN2K67ZFOeymYa/fpQ5Ra0zt//NExHsRwPqMANPYcBqlo3XXiUtJLIFbFUYnSt0JnT31+eYIhKqkBKZM4iQwCrDnIaMLikzgD1sGaR0hJMMg6GDgd+YfnGuUcCV3KycGilEi+jqzv5bnLMH2Qns2yzVt//NExIcTGPqAANvYcO+8T0IlLwGlkyVOkhStG+5G1gdQl1VyP/elFn9VWsYZTmbAgNgDcUwLJ5nwGn4kPXUBWkLE1/DWbyyk2hufO+2qlrZcbtn62KW5Z/KSxjcEOBRE//NExI0VqPZsAOYYcETVTfpy08hFU6N91eurUapdtpUxQQUqglFJD0hHATwFiapnKWNT3v10QUBJhLJBUk0VnUrKnZVJwNBsUSxlke6q5jK6L/Wv5H4pfRZStIpTtR3b//NExIkSIOZkANvGcDxfUjmww1lUMGCSGKNwUOGSxjhcmUOgm/FUJkLEEmnV0vZKBWkJ2xV9QluWhN6mtgzOvll2FI5rW9DV1P0IZapFmL199pk8YGNFDzEAcwYjLiyh//NExJMQqF5IAM5MKJthnlj9z1LVC5BKnE5aF1jQSDopFDZrbYfe4Cr2sFUCrTccpCRr63z7K2j0iRLtoESba/W9Ni6MwliWUzw2iYwEsTH+JOTVVfqRURU7+kaYgQ9///NExKMQwC48AN4eAPgSD5JoRRYPAE3/tJ4JiZPBDRGgNi//8sTPpksnkMOxwjFZV//tTPsq3lxUSjxAlxN///cc5f9LgLJm5YHgsofx3f///oMfbGffXZYSSQN5TMFp//NExLMSODo4AVsYAOHyv/////33s7jt8V7FF959FA4VjwSkCartK8R3cM5XC6AJPJjl/g0FqV3UQnaCxcxtTUOZzDgTp6krHG+2/h1vbNY0e16/G7x/LLs0Emai5ADF//NExL0gmyqUAY9YAAgwIHBdq8raInCUJ16w1Okjyg60qlpF4lMHhEPLCtHAS5UjWQZpkX9Z2FgUaHQxoAAK/ZQZdggcVUdDDQhM3CRcNtKZxaSSEi8c3wBKYbjCWxxu//NExI0YQNakAdl4ADQFpl6QftV8Lf1v9XbF/GlaROTMda/flMYZPKoZZhSZ2o+PKOqFZIYoi7FmYoVsosIDIEJ3Rvr+a/+P////////r6V3LeMaazA0EQ3beVIspKPa//NExH8gsh6IAOYQmLDKVG6iZECAaYnt5tIEgYBAwPhfuiMCs5MGgQcOLrUq8hIX08mEQIGglk8IhWwTD9LkGwZ6VADkwaE4YU1kywXVlSC9HOSpIVzoQ0kBPr/jwqRE//NExE8h4mZ8AOZKuGxDUPtvlYYU6kYyp7e613OyNIymPDwBFmGi6B4e33//////Zo18XKzLZKGdyGMgqYVnyrOdnZ6qiozBisorERgEvQkOZEDwCZYyB1ohYOKfsV1+//NExBoY4UKMAOYwcEi5eT/t9mWa/jPLxl/rJEwwJfjBvNK5aoaqaBJUmUELl9UUGi3T1k5nUvdfDmE0785/0Ev79bD/3//rn5U/Sx////2io14bu1aKr2I+YBWhj3i8//NExAkUaVKUANvYlAFYQINoBpgaBPJ3Q7sfwUv+pqZqUUbMiFLFoYcM0VtAFr+JcFlCsdopKPUIXLIy8LljZyHr8+mpMw/udTcZ+Ykd6Y/9v//8j0XPOsQXSLnWiIBO//NExAoRyUacANLScDOIHb5wAYrERas3EF8dWYT20ad81bSIhNy5HqN6I1dp1s6hWOS+dPfjG5HKhMtl44Jo4u5ZxNf/6W0dyg+q1uSEHZNNbpSQY2x31nm7UP+O4661//NExBUQ6U6oAMtMlJLp7ZkXz9z2zrUZjZkoFmJmfNaMQ1G8KAeyegenF/baPGXZcIYBcgQBgP///+tVx3HiScBaTMwnudq0xLK7Bv+JM1RYfznm2kW89pCZNH0DQPNl//NExCQRkU6sAMtSlMA7s68fYfDm2jUzkAs/9rPB29QFJygUDZf///11///lq2JVmN3CREnhs1ioGPmyqQzCLGPlAGa0xlfv+XX6F/P5idlQsLYkK+jOpZfHiyxxsyhw//NExDARAU6wAMralBvqPaD6BLmqjAllqO3f//9P///pvawIT5OJqbSfGpr7VGMIW/4OGvB8WtRtkZbkvfUbYUAWjTwzAmfvPfIgWyPZM8oIZ3BrXN/I7r1CfPlzBX////NExD8R4VaoANKWlP5R6P//pp5alb+UMmD+ibGl2QtwcJa9EF3ih3AEigXhkhh60kLZqdsusTa9vtPORQAmJ0sOmtbHSgCadsRRtJtSSj37vbf/wbHkZH///lV///7C//NExEoSmUaYANPWcMp1Ykxkkg5joCuVBYMLIKG7pwKMCMY84iF0yIusJxOTg566AhZKcIu/5+HtjPE/+sJGOdzNJxzbJHlXL+n6Kf//WQUb/QBy1aLUBhSI4Q5AYgFJ//NExFIRmO6MAOQScEJpVN9SAEkY8JsgC1fl6NpQf2Zt6uKp3ufhf+azftdfmDHz2dUalO1yo3kxW/I+1jEvu9bruT//++ZY75wXPrWNTCE8R75QNtQHAAx4UEj6JoqG//NExF4SoQaIAOYecBQQE1LIXlN1YBymK/T6HRqPEJl1m39yzzz5OW3xSzBNEj06NG0YYos+z+1bC//+Hbifww2GlVg1KBCnP5QA48vQZMoHCk6k0kgl22qjWnGp63bk//NExGYSEOqMANvScEZZbncpU/wlmP8+MZH9Wa8YsKBA0sFSqn+qV6SqSz09hb/sKlXQE/pWdX1KN7rDrzkGJAqsGnHhlgqBRoMHAEDhAUIAIxoIV1Q02gEOS1ycKKNA//NExHASGN58AVoYAAZAcoLqHbvgHIQEiZIKTdZxms5TImXzd1L0173mZvTTQSSvpVarJ55aZF0l0Vq19XywQQXAifv9TM7b/3/1We+9bpJqU6upXr6u/1m5PtSPJm6D//NExHoe+yJQAZuQARpPVGGbvIXCEZaFIFBAoSWruKJpaDUCmaJ4isV+gGAw48MBCdQNSYCgQjQKBBBhDhjTNBMTsO+wyhAES4eUz9tCUziPqoX2QPITiPNzNzXTTl4t//NExFEhEwqEAZmgAS0DNE0UkTROnf2O3+a1f//df9S0C5qs6msmnMCut0kUHpmjKzYlXWtbIrSt6ll+bsxxWhWMKdm2IOuio10t2YSr3TPLaKwTL30cobR2XcZqteXK//NExB8YKRKMAdhAAKnJHA1E5Ieg+JhrQ0yUhc4xmFhpsWdF3FU9/P9kBcSOEZ0BPbhtMrv+71P8gIC1BZxcskUeOesieAoVVuOuWQUzSqBu4cJPiEV0Bh4Q8CoYz1o5//NExBEUqUKYANYGcKAS/AI+QSR2HOgtL9w21Q7gUAwMvGvJ3H8cCC4XelFh6bvkciaJTdwY83NTn8z/pbppYQtTTP///0L/WVeI//qXRY+0oxV4HWlylXS2V4T311Ak//NExBEVaOaYANYScPUxwavBTZ8mjvNSvot6oVBpEpErrCMssVay+AorOKi9W/iO7J9tuA2E6BduC60k0H95IWmgWCoQMv////j/oFQ0j/6/Uoi9QziSQnzIKkSlUTbO//NExA4RmOqgANYScJFedEAHLKNfHamUBPP92F3W4xqUCMiun+R2U9oHGKN2hH1ypuY1jgOYxLIz9Paf/7v///qWxH+9FaakCugJOQQYWgNCH8HqRNa6k4fcU3Y+SUqj//NExBoSaO6YANPYcAT5wyejI1ksUY7iDtKbDJVpQ9dOTBkQWqmLSoGyG8fRWepq19l19Vn6v///2t/VQpa8JYfDmgxC0GjAGeGsmEHI05POmkKW7lNxwbCcub47U+fw//NExCMSIOqQANvScMNjHEaRgAGxXJpTAUnV5BVYhEqkZciFU0m09dCLAr/////+pn6acZQ0Cxhh7ul80Qy87SvlgEBlvyo+Cb6XSG7jKalSGHmuVCdbxeVP1/1t7RjK//NExC0R0OqMANvScE9k6cRSTpgKNOOA+DbwGBjLf////8c4z9iqKqZ/ENz9R4OC4NEiEmL3EUWBwXTN4zprA4C8PDYaIhhDbgyqEvERuZ94/WOBr8dsfZJFGg7OJgZq//NExDgR6PaUANvQcEYMAa3a3kGo6FFP//4z+KWK3GQnUBjqRtMgeh1yoYggqJgmhaRLLiDSdMrqAZcXjTdX/7i/uePKP7a7D8x7C7od1AYe4iBZ0PtpoQijBQhw4CQn//NExEMSUUKcAN4KcH////X/hxWxtuxxpfCsRwCKJeRLBGEOspvStzDQ3Csh0FkEHwtbSLI1EYvkqzb9tF99nq1As84NLOffO0WhcsqDDuOMT///9X6lvVJYf55E2EGE//NExEwQoVKcANzOlFAtOiQJFnNlKuswG8qxQ4VATpQDTAo9RwXCgkQ5sq/r1PU2j0acWuJ9f10NQIjiEBnUPKX///9Uj+RhRZWzEhRDiWVWJO41MqDiJyDChszAxJgl//NExFwRIVacANTKlGHaXLSZDIJECoCQIDThgt6KI7y8ooE6apIo6vV0laKmqynSYy/5+3/7MzAQpQXafZ5UDjw4ASCh0jLrqsZcYGCAoKcsPJ9sBy0gSHU5P7JI3nNk//NExGoRaUqIAN0GlW+OxrtD2cwgh3BAAMDOEAIgMDINLkPs7kenk4WOf///6P/rB+phLdiF+feaEG0lTKIghY5K+kRILfzVphbbX23sY5nzqqknNsXrplclQmgkNvh2//NExHcSEMp8ANvGcGjBTEsQDOrdl/xoeJtPLjnjyGHhAGuxCJyEHDL0qbPaoz2mZBObOwsmsh4jp7D1FmYeWB853fOX19s/jOSWtB6v9vMkgN2WASlI9K2YxbD3pEnM//NExIEe6eaIANMMmU08jXgAxArswiYiA3P+NWcQ0tbwHP3a7SpBZ28Rm5GDWqsFICCLw8GWHKg1ALIoZFIjflXpSIp5IEicjLuYfd2Y8VXpvTlVQX4sCvGyWJyOhDNa//NExFggebKQANvelMev+a6rXW/mta4rqFYJB3CZlCklWLCAcF1psLKUrbgZZU0JXFBK0aLP0pqSofG3uuRLDAuAjK/wXEgadD16Icyb7jlvQrdFZGup2WsNbmw2V8B7//NExCkbOVqcANPYlAWMW8vKJJOEFTZBxVB6sJCu0Ik1cJZJHNVEsEsQBGOh8EZcdnS1k+HkkkAOQwAwCRVQ0Kpj///UVHtZ7Hv/8pJydxU11eFRTtshaEwAOjysAiSq//NExA8U4VakAMvSlClRRuhsQ1Tu7LSae+IOKSyR8Zcc5gzrk7roUGpJynFQXLciEhXGnlREKiYK1H0hdNn0ilOUpJkqFEvb0KuGm///9yH+lcqAZqbYy+PLVrNXYYsI//NExA4WIVKkAMJGlOamOy++nsFye1EsmRt2bR3NTqKsYC51aDFuq1Fd6LAAMOahCM0zrYIjyinYYJQgwcLJn0iYABcspagITZTHJqFklPrRRP/X+K8wtaWoWEyodPxM//NExAgUiVasAMvSlRy0uoRiAaCYiCVSKO+pDzouzSvKX/dEZGax3rW4hjwB8BMPC+BEqqQ2IsFPz0UgltGWnMAmlwTM+988835CPvcmu1AgZigVrLr9qscl4kdaKOpM//NExAgSAUq4AMPQlV6nSrisFE0UmpQAyLWz3cct55bUi3pTpLaLIVHfibpWGfdLq9U1Y9eBmID2sODRgSwKB4dx81ydCfpblTkJ0sfDrdCcODwIs8dAeFK5oP8/TMDf//NExBMRsU64AMPMlaQFd2M5p28uUaUlsVsMmK8Fscms0b0UtaRbe2vsutGUAESBB+CCM5/dV6//aXdBJCQR2lrPFfRN2cZkoTQrqXtDAAoBSgjuL1terQ7XGidrRS7f//NExB8RORq0AMPYcaenU6CFpwFo7Pl5VdNHtppXqM9StrtWyN2m/8/eC3Px6SBNggbTpnjHei2Upxcq3TEk2XUkIig5saxxpojDvw1D1NDUPWpU4TKfpcZn8zcK8S6L//NExC0R2PKUAVh4Aarlhi29fjecbrq0LfhMU/ncOhHf3oq2JsVjajhsc1dJEBAYsQmahwISDcFw0BMNKEghPMRKm4vLLHcj8/FChJCZL6VuWPgtwVqePOR1DesrmnLv//NExDgfSU5QAZt4AHD2jF/qLndM0iNqnRqzS1YixneYk8e1rRttlPDmzOxUNi4AcgyacEyFA3FwtLIQBCpZ63Ic+8XQ5QhSLwCYbWdtlTzOlFW5SN2igiAJMnMo3MUi//NExA0UirqwAZgoAO+xvLk/UYPi5rB8XjRe7AQegQKYxGI095TaI39SjDIkqs53/dEOnp/+Wcl6d9m//sqlRFVDoTsutf//3FSpxwNhgLdm1SqmfYGoHvK1lYUwtmMR//NExA0TeUqgAdloAPN/MapVM9zQKV9U+6G2yOvebs5s6XskAggA/gUQYYljE2STqTPTJdaL02pMtzRJSKdfVc9r1rUmaMkfEpD///4ryfQRkTyrmbu6Z+vAiXBgP7gQ//NExBIVCVaYANYMlDUSEOomWg+hXyHPwSPBZHYYk3eOStW2xlKp//1+8f/LP9Wvc2/V4x+0Alfvboerj7joklIohZHCbhL///70s+KvAap9aZOk6gEKABg5mxKRHxEG//NExBAT0VaUAN0OlIWbQFSODfHhOfLgFSQfQjAtuFNRBxzQMgZK1Q8pGI7GUYaue1a2zNMroH7HsUDeuU0BGcBjxSXv///9D2+14+qVREdCHDfus3QkxKHMlECsbsOr//NExBMSaVacANUKlGw4B5dD0xApGBMGFoRRIwBdEHSJjOEXPmBCNN/qXp62y741sExmcNzaNGB+wB40ff///qsu/HWllBCDM2sfuMgZWNBNpTh4WVXGH4GYD6zgxgYp//NExBwRqVakANNKlOWAFMEZNgMALcRicQzQwKH71NmbY+hZxPED76vI2uQGwRiChi7v///T/1K3TlUCdAq8aJ5mismL7mEVhxm2SAsW3qKdxyEqHuD5jRAR4cIsobRN//NExCgQsUKgANPGcZocnR7qKNDsLNGOMd4TCof+219vjHAoM0lFbmFJvgYrEuIakshJRbkMU6LBakatd1WvSq1yta3ZugMKwAoETUa2pbbPAvnkFnh352VtllAUce////NExDgQeKqEAVhIANrpL8t4Lf8rUDU0Csa0EoAjSGGMAJqYoIxRo0tUQUMlu9YLgU3NVqQTWEVAKMiGSaVzJJwAL4sg3BNP7PG0L2EoJ+MG3ZDRbJ5LuXC4hU6Vuvy4//NExEkgwypgAZpoALL5iX0wbHf//JQoDLE8IAHgJOMtL9///jCDwNCTNyUJ5Lol8lxMP////8ehoeHubhVyolCQHIaJHjcTu////////////+ubz3MKGTzDzzT3MHSo//NExBkWwyrAAYE4ANmNUmhUeNFY1PG4sIi/XMMIeQU0TCw1hqN5S5dToOAqpIaGjCMQ0Mz3RuTPIjovJGMSPcdLkMRHNcYB6SOY80fEtAh2/Ujl90s7/Xevsr9N6//+//NExBESkorEAcIQAYx//kEPq6FQhxioxwqM0tkKXLvgwxldyHGWYzsxTkZROZwq1mVLq8k6lYGchBQb1uoEyJYaFP33JpUWAKBp2mVjZDkqLnuzgwQAAFI/VhOulkVP//NExBkQ8X60ABCElKX/WW/1ZJzKXogEVjChQNjRQKMrxK0OrCR7iKeIyzSVLyVwd+wOtEVJYGnbVCrUofNs8ZJLHbfilYnA79uw/kgf9wHymWXsvi8efx9AsDQDAYGl//NExCgR4PqoAVhAAL9fVW7fFJ93VWiJuPsOiRCb1NNjRyJdanNe3///9FyVQcNkcUkL6iN4wnC5hZYAghCiQgk8BkFTqaqvJti7xQkypQjMUDAAHRWuJWItsLmpykDh//NExDMdMXKoAZnAAMoilaHods/T5WrFepewpMN9wqVrMPz9+py5LJNnSUn3Lluvu9T509yk1alEhld388KmsLMtAp9+H+v9zkhnZl/QZesCC7X9XcjSyBWWIpINObwF//NExBEReVKsAdhYATnGZE/UST6vIYw6k6lgzNKhazdg1LR0nVTtN/l1xf8t21Ld1w6HW7nuol1xXxbZNaPWkke2ZQnofzIAzwFTA14CTOzDQNQc0K7abEYAWGftL5Iq//NExB4SIUaEAMYEcANFUKDNBS+Mso+8rZbxKj6lZH/8tSzG76GM5S8xkUKAiVxFjZURf///+WoEAiGAF3GYGeLBmjFA7XXzBoifbVJPTXzUxKInomJYFcG8HOHESZds//NExCgQoUpUAMtElN0Uf1KS/SllUqGDCpV+XToa4UBLAQNdH/u+qj1tQicYwesUWII/OHBcZIwySkT43GJqsKoFDAIdJxs5C6Bl2+8Iz0+zbLJXJSXRsrTV/+qqlTLf//NExDgPGHJEANJMSJH4t711DI51CaGLOmjp8wdbvSboc2FUqJhYPQwQvUwo9INFw2I5YQMQohukDq1uW4uW1Ce8pT6QtDmwnStj692jfGM6VL9SPusD3iIRHdr0ZkVB//NExE4QaHY8ANBGSEJofC9+XDwZ0ViVqBsC5ARwZ2PSHVIEC8PnGoD9pe7In0l4zpQ7XS2gpQnT2bu7dtb2P64PMQUvI+rAPDbq0Xg0wJg2G4eFxEYAoljAMsNDBSAW//NExF8P8H5AAMmGSBWIhQFUoh86DTn31aStyjxh7Ia2L/rHp5ixH6m609RBdFU/4mgkCKqSxzJA674ymlpnkcS3W+xM1Q4k8QxqoSeLeWfEKDJhi1FClhzjYzkEAXLZ//NExHIQCCY8AVsAAE9WWHYuYPG3EGkCykjRlj1luSjC8aRkQ9pkwvSmDElCCpIEA8aMmrjLKom2dhyzaKo/SlppZh9EjWu6lcVMGjR97aFEeLvJ9GXEJSlD/WBnHCSU//NExIQhcxosAZtAARhZ3K0g5sUoNEl8s7FXbcjDjT42/UZJjDgJofB0EEmOo3P281agNg7kkh/k/FZuAACEPpDB+H8EYdpg/rfYkPprkxMeUHoH3M+/511s0Y2LfTr///NExFEg8uKYAZhYAf/4YzvnPolVOm3nXf///rHzOnrFEprtWVlx5iznIrFTfr////5k4fa6WZxc3yby8JUcSVFAh6dwaduQudaA8MtY6hcQYMjwzQfortNseWhi+jzp//NExCAZwXa4AZh4ADWMg/zcQCvOwliuRBgiXJSbRL0CEWqMxY9GlWNUFXmQ3vWZUTwNazdjbHmIc7xhf7gZ+NU1f7peJHn3Wzx9NLN6ff/9HfVo3dh0e8/0iUQxlC3d//NExAwT8W64Adh4ACsg0KjSXXdD1Mxb67m8eCfxbu9enuroRmC0wRgMCiPRletrNCtbFnHwJ/DvVvYoVnVoH+N+Ha2N/5+Y3h3zDt8axAwp5ktAnVKUQ04ZhBBAswWD//NExA8U+WqwAMPMlEDTCGsOULWjoBAVSpx/QoBNYkNGQjcNlKMAlnrA56Y2KfEW+3qBg6z0WLRPoAoAiRNuxse5b/xTGo6poLRlKxG7////0uvgDPgctMGgC0FeA0PL//NExA4VSW6gAMvMlNrwQrOplK6ZjIJ0pR3FiU5WwUQhsBDy4n6W5DmMnwkx9s1nObe4taVrCtbJLInXj2JBYWrodqSn5/8lkl7klJb2So9////1VbbLT/KGkWhhvb/D//NExAsSKQqQAMvMcAMLRNHCsLUDALiyDAQpvF1PokAN1CVouLWj3Nnbo0/N3E8u8h8iNPQQNRgso8w41MOiVCZpxT/Ks/////zKVsRUPTsu+DVwVVExVJ6E0yqJKEZG//NExBUSIQaUAVlgAAjkM7dtW+ajCx33WHeWUOJKDMICQBASCZjb3N/fMp3Ua77vszzcaWjjETUuQDC7fasL2JoY8LALvBcQhybGuGLATWLgF8X1CANMYgtYs6hAjiCE//NExB8aIXaoAZh4ALCIJyzhmg3TIHGStHwSlFdOtjEdB4BBmd/H79+/v494iubXFqmrGiU1I7Zm+PO2sqm1Rm3TV/rN7xoctY+6t0FuW4SXamcK//6aOkI0KYJUyxVn//NExAkUEXbEAY94AKl1V5LEcjjCUJcDsL8QYyTqWT7ViGKlEtpwkneYJeStXuCvTkbUemt0zen8a1rW1O8xelKUvrXtGzqu70xne7/++dfMG1o2ag/RSAfA7y9kOLsr//NExAsUKV7AAY94AA41On2ccQwR6zXhjFJ6gDqVo9ZxnI1kxEWM1qzES7PUW5CreTeN1vu+6b+dazWE+jTbpEjwIn16+tdWhXiV3TW6RJ+WbI0RFTMHEKwproE1pRht//NExA0VmU60AZh4AdQSHmyJFKGw47S7kAxMRSRPhuCECaKduNsB2Q2mQj7+9y5Xrma2YUv9/66zWtq0itjHf+8eP818GLiG8evof1eeIZ1DCOJf/6RqAhQuQkUGkL/s//NExAkTmS6sAZiIAT0v2PL8LhtKWyNFSDRXYm12OBaMFgQG2DeAPkE4kHDUwJUYpImyiEPVIGyrstBNmdb/ouZFMwbrXpTFB0y4qYghv6NXtTVdoUlGthioOiXGrCXl//NExA0SkSaUAdlAAW/HC1tmA0hyBo6ho8Y+g8M1ku8XmQkgAMOKX8ulnI0JTCB4+l+llo/6mI5r545614g8kxh7PxY6NUTd/+dVcAgjK7RX4obJARoSZGk09Q5cCiA+//NExBUSOSKMAM4EcIrkWGFxNAER2uiDLxGe0edWq+1HQW6HC5mf7fyK/RE/5UCFBmBUgE2ZIDhr/////9wpjRxyRgeVkxZUBw65QEBEQAKAliqGlnhrqqqXcQQjjAYp//NExB8ReH6MANYwSK2WxTkQwdFw71alo7WJjVTTKJFuqouBsSMWu911v///+7jjohcz1ZKQVrkGHRcprQdOIRE26M8RUxxOhgqAhxEBzdAAAioRVtnAyL9swhyHqeYw//NExCwRYUKQAM5EcaaxutyWK+/N1vWREzJlBuR1e6NEaibp13XFgwREnUAjadjDFCExphgtA5cIYCJwCYmRcRgWiGESGEcQq0Iol0gs4kWeyml89dzxX3YtutbvelNr//NExDkRiUKUAM4EcVaxDgt1dDwq7OLz7W0q4zw2jXQMu2UsOCHJAY4Q6Ec7wRROaEKrF11LlLFBy+gYcBOXO80DxDdPjlhr70/192tWu80Nx3un3FDeiLa1pWxH/Dmh//NExEUPuRaYAM4EcUqq6oMxaEDFgcCPpi2gejcmO0svoy4CmQlpXAYyVkJkUtlVFZ1zF03ZrN9EsnYm13loJUdzjp8evNk7xz9qoG6kElK9ZIGoOQh6PApAOr59+yAU//NExFkQ2R6YAMYEceIM8CjkWARoKOGWgNyBTBcopUmyGlMrG5oyKfSpL272ZPc7Mrf46uRpdSpYQU5QhTjAKA2trRcBCi6bsESSUDPStaGQoKcRjmsiS3JMCBSLDdAA//NExGgSeV6YANSGlXgNbIKBSI3yaFnFpIix6z9ek1F6/kyb/8wNWMujjFQcSiOFPvEbyCP///61lMFAjAS+fEchjMTNECXNgC58HMrCAi+HXBdImEKFmiBhNGSKY4yR//NExHESYVqYAMzElJHmqaXu1B/65rv3tTR7IhX2I7KGYIKIMWMcxzP///9CydgwsZsS8yEZCxkGGEYCACAeKSIidfQHFclhoKEwgDMCDSJ7c7kaoLwgJAJouzHJHtFM//NExHoRqVaYAMwElMPICRYoKwMIgbKgYBBxdrF////9Fa8BFSWpECjwFBVUMQBbULADDUiK7TXiZywRF0M4LwY4oSxkFfQUq1PnmA28UQ88RKrW4a5zdRM0mp4cEg4D//NExIYR2HqUANYwSAVLDlPf////1kTjDZDONoYxKGDXB9BxkMTiomG4cARUFg4CmCxMChEIgOPA0gABgsCAoXTQKya3AMSrssHBh1pLDaSNZ3cMu8ucrS67S3q3K2XP//NExJERuH6MANYeSPr8rb13mt481jZuWtlUoiVhYx0RFC1ECTMIh2KstDWN7//2///+33KQxRZWR2Yw+8wy6n6NdQSQzHR9PJlgwcsyUkGIQQIgem8ikk0QgUwUBUwZ//NExJ0f2o5kAOYKuOjjhPIIQaF5gZbBSwWXiqG4RMVqLhFzkFMjqac6sxOJLUfRpKdE86Re2RWt1s6WyRsdSXYxiMRyCqGCoqLmMhalaVEM3Vnu+rIs5bKW1nq3SyPd//NExHAgspJMAOTKuDvcre6D1o4kcNJL0lsq4XTcpS0yy3jjb6AULMkD8xMFSAPGNRMYRAgGASElXKyjAIALJFmgKAzgTfTqLzGcSfUBJfKDOtuOw7hKrWq2X1aWlxq4//NExEAf6WosAOYQlP6rUtLSozB0DYBYPTVVaYWZVrVRUVW4kVFVVeLWBYWcVVIlBVyxgNVg11PEQNCIt+s6R8rloah3EoKnbh7sFUJIgkIz5lj7W4annlC5MEhScNlT//NExBMUgK3wAMJGTGH3xasQCVXTu2mJqHTFqKoOWgOwNGmj1mQ85AAYSWPEQ0EhjwqaPMSTTj0BW4mMJXAVaWxiFkR6Rl7X/Vj06jmNRJkjDmAWoYf3cuinApyLTfJF//NExBQSwNnoAMJGcFxDaFH1+i1vtsYZ8XHyiWzhYyjhgJMeNAK3nBVZ95545Qlbc5SmLucx7hq5Fj3rv9V1Xc7/fWsLnJRqVtbzuXKORhkSZMPVamABIZtCoIIcmDJA//NExBwOaHXsAMGGSMHQAF+Kt3//3f+q/Zm6FwfurF8w6qCGQUKZnwfxPQU9jTQHAX5F5c37/QJWCi0bEMeUhAkGoeTavaIMih57WTYMcUuX8xdrk0s3HFxPYVuMl1JS//NExDUTuI3sAMGGTMYWcNLniZdxwWODVyZcaGFBARrUTSwMXERGNz4w5b3v7I4YkUwFBwouRtENdqSgkFECHBoYAwIGhhsWQ6LoMXt3t/StFNzKbNzmK6p0yQUpJcda//NExDkRsHHwAMGGSJRFi159raFDmvNa0KeiBixZKmUXiDErdSLER/AsfgimyoYVhh1lAjgoNAVwVMhoqBRU6SYVWdhoq5TyUso7YWqeRpU+0t2d2jt11R7A+Ujw4MDy//NExEUPCH3oAMJGSBMwwwRis3UIICdJAwHNCdM4VAzQDNC0SiyD8/XiASAMoJwI9Y44iULves+GERAXfW8MUlC7ygDCxxY45/PkN36nIQcoZiFihNx4dkBghqK63PMi//NExFsScLnsAGJGTEGFydcjmaRx10FvkExIug1Y6QYSGFBVBCgokGJYUFEwLbRNz1CqBVC9a5fX9d/f3Pch5r+km9tSMJUTGOTegCQgIb7vcxBhBhPe61qhkgguXT7V//NExGQY0PXwAHpGcTfJOMQt5hibmWi40RzU4Z4ooiQQIoUdBnQxgCg32LO5ZFASIbsZiBGJACDiTlD2JEDAuQchqFixkINuzaWDBd6Uxd5fNq4ohCJ/37v10FUEyCiH//NExFMTsOoAAHjGcPiyAFSJRSnUjg5uLZKiIQ8JlXXBsljiKo1cLBDkgrYLMM5lw0FAsVFRUEmwKKjVPAqAMok882lT63UAUVW5AVYuaPLdyTjuzlaI9RpnGFqVDiIy//NExFcU4NH8AHpGcF8QtYd4bVMikypCZBNBaJE4uLY0oDPQXmzREUKPi83Kk1nZ2dnfNz+pKKsM0gqKsFRUk+sU/hIXDLgEEhUM9n6xRv//+KiyTEFNRTMuMTAwqqqq//NExFYSaQWYAHmMcKqqqqqqqqqqqqqqqqqqqqqqqqqqqqqqqqqqqqqqqqqqqqqqqqqqqqqqqqqqqqqqqqqqqqqqqqqqqqqqqqqqqqqqqqqqqqqqqqqqqqqqqqqqqqqq//NExAASaxnwAUgoAQFAaGSWLi4u9aIiIiO7u7u9///////9/U53b//7dCEIQ5znOc5/////////U5yEIQhBAOBwPh8Ph8Ph8Ph8PgAAAAAAHA4HA40iw1WVwXYkt6kN//NExAkUKxp0AZI4Ae6/7f+1P/QaD5df+YZsxik/5598wwUGDyjQHf/MZ1P3iWYCwHIbEoSBoJH/96f4jjxcbnjQaCQLxu40///f7fz3B5qN1JjRHQEV////////9P////NExAsUItqoAcIoAeQr+hFEzuruRUEw+9BcYOE3igucaLhwOMJAjC7lU6CAcE0ZCKtnOhQ+LoyqcaYOKYOMslrUIS9ji7yHQinpcT+PAAMPXkUE3/////////+bP/97//NExA0Uat64ABBMudY/2M7fHJspOGdPzBrqJVhhWoHSUnspWL6IhBjmcxZek/zDytgttv36M3jbSzNfT09Wfj7m2yNcqntisyaYzp1pGCBBGmv//////0N/yL+f6z////NExA4Uar7AAAhMuePPZ069u9WaQMGIufu59KPMMlnZMrFmMWeeSY5zSr5r0i85Ry0TXuplaSA2Dx5kY2nRrpqp2p2n3nrppjDSLCk7zB+FD//+v92//0srt7nyU0IF//NExA8U6qbAAAiMuUFp4+9v+d6w3zcCUji5RSgn63H5HxQ6ds1A7+Ko5y1vvn842ZKrdRdIq0fDM1vy1JlQ9dnyn2flLk1dWWs4wobwChd3IsdvDjDDZlBEpDV6v3T///NExA4SIW64AHiElHP+hGz6nkEEoS9OnciNsMjy0N7IQzqpDTBhQYVDUShFq2LGhp7iwCeKkfWkNEYbSdcSW7W6+DQUXp66wph0M17C5Tdk3wMaiq5auWHAuJYPjg5F//NExBgRgTagAMoScIp66ZmgWKtf5qcVli4ZIiZFUlkW2rlKockq5aUvKSJqV//+kR4sJREr////2+hTJXZlDufFQmlAphYoxNmzevUCgKGY471OConS2zPqZ5qv+yRt//NExCURwU5sANmGlEonabzyOtewbExQQo0Y2bXC0ZctVjhVBAQkli4SPf///+sFM5lwuMA53ckDR4wIEMTFg4DaC0lBK5su+1/6/X75/PyzhtDuWzHgSqvHEqac8gw+//NExDESaPZMAVsYAEQ6dGrHGygFAUTAUz7b8s/fp/9f26/0/0UsyPgCzBRAYJEBa9xH7el2v+3+Ub49C40cIxfHoPQ0L4ggxy6VfU1aZCJdY9R5/oIMmnUfRJxuPb+S//NExDogYyp0AZloAO80TqJxTOhhKQjZC/5oy/xCANALYJiBJgD4XR5gFH//p738S4KoQi+4BbjsGAC5kwlBbf////48DQjmJ8G2NA8AtZswLePNJTjTf/////////////NExAsSkxa4AcIoAf///9qy6SMqFRypIjIZjRMPuUSFQkUWK6O85iKTcaZziyipzs6OdCCDK7BxBjKgsNDjKLopBAOB9xAOMPDhA9VB//////////4+Y+qrrgh6RUS1//NExBMRcxq4AAgQvIGLEQTzaqMoi5kPiGVBd5G3TC7o406ixOeZR4zLOFJD8eKCYQhgRiRzQFx55DJRByCPrW////Kf/yAD////t///9f/fWx6Jd0kTYXKyK06FTMxR//NExCARqw7EAAhKuSKcyIOdrxLK7xNCiZGGIIuNUgkQ4oYaKsNFlc4UDswqOHjBJBOG2oZAbAGPwOitgkMAOT2Rvg9Tud0ac87iCEOS7M6f7W0/Sxv///3t///8vR+p//NExCwRqt7AAEiEuFHKUpTLLRW+6PzZnoZjGdfVDaUdAxiWIix4tedqjvZBjZIRtaf2lRvCKL+tmCG9qGJvWM3LCOxyf6hGYRBYtEzNY6qStXq3u64vE1z6fNjTxaTm//NExDgTWU64AMPMlARGuWlMGT8zcgg/IIDweGBBv////SrWE2MZQjsW1uQPXzBi3FuNjAFzlEGWPreTsF9G6HnluonzyddAasGXah12+B/tl1iW/IWoDy8aG2xp0YgC//NExD0SUWa4AMPQlavHza0MN8YbNDRY6er7MuMQidVFKAaKKWGZnEEnwUbGyztlD1GG9cTsc7maivd9SNoq9sIVaxiE//wbRf8fvfER6D+UW4hFyoWL4uZ5Xi3FAvNj//NExEYSmWKwAMYOlMWdiz1VjlC3QZvFwHXjhMtVzPBQeW9ePy2ktxBHaP3TchTNdtOqKykqJ0/mNgOmVOdySTtRLe+9zphJ00lfDvk1rm//g2PdN4NVe1hwUB5sOLmV//NExE4REUaoANPWcQIrWJAoYrHbWKivyg1Si6z/C7MIlVvdCFWfVJTUEQIi2e1KH1+ruEWGhXdfoSFV0MdukVqTId10HZZwKsd///9FCqew1s4jUibuIj2ZMhANpuok//NExFwSmOKEAOYYcK7lV4FpIAB5OLPge51E/cZRulllKUlZKNiwC4FysmZ0uaPNkBJfmxlzrCNv9vfIktsUCekPqSVRIQ/loSuHCLi/FI9JWZy+GyM8AnA7jhfJaFte//NExGQRgUqgANLSlT2KQ7CoSri29Mx91jernTBLdKhOup/AS+Cw9vEL7f//+5b/0/+y5VLlOTWrGmAm/njy2LpTGfI02ofIm2PwC80CJ4eF8SuOaN+bxrQeF3A/fB31//NExHESGVqkANHSlFb0uGjGc4JvutQj9KF3kAvPf//2T2vpSRt/RIrY07ct5SMvPZRCEbXBUKbsExd+0eA4lXuSgukiLVQPOmCvzBvx+74j026BKHtK1s261zW0qpAC//NExHsR8VqgANKWlMPXX4bgmzP///1uErvQoOqkYyOCIzXujEgUYeCBCZeHCLL4Dg2HhPrmvrTEG5NIdw8NyGA60xIXvyx2R/Of8Rc4T0JB9ZspM0fsT9X0f/UXLBj8//NExIYQqUqYANLQlBc8BFoqa6w4CAkz3BQUoWXKLiAspxuiCgsBi/FqrG3PEATO10kUtoSIMSkJIa/iZ8K/wxV7ZJPAVisie+/AVkSc+rHYOLU6MRXnd0CAbkIzrVv5//NExJYR0MaAAOPMcNv/537e/2wYt47pF3jHNu61OKE5wEFxODmJv4XHOeywNVpqDo2Z22KXx8KCo9bwqwmha5gAgRLlkU+6J9oxhR/LVf+T+777Pg8b7DEPqK1Ek3Ze//NExKEZuhqIAOPEmG3WzDd/tespAari4KYQ2JxAqFmGctQNxbOSILemtNBbr0Wb+vX/qVX9VnoyAimZoVN3zF6JxBaKVfpvZ3qaxxBkkU6aOdNDIKRRkj6koEIMpCdA//NExI0g8uKIANvauGvA2AXaBGBGNkzPfwfqc7NhN3YqEWlH1PLmcKepso5EM1xLhELYJd6iGkslCmqS1YuD3Pogoh4VDzdIWJUxkHc4msLwaPNG////6+/6NSkXnept//NExFwaSsaYANtauA1vdOu3//18/F3gO3UqxtPyc7JWhfdsD3ufdGTx5r/fFqAn3IXP1memW9qy3UQ2HeBB0YQGD95dwHy9h3koBqWk4tmCzihLCYZ1So/uEP///A0l//NExEUROVaoAMtWlN4Tx23E5QQnBAou+5UWRKvZ3LgkE3QWuXuvV96FxTdhS149glHjQH0BOA4Sd4JNo0XpT9QwBos4jJbnP3IqqcJShd5K3MSq/kFnUUKoRVI0Gcsg//NExFMRiVqwAMLSlU9Lo+++eLDbTtBn9nKZ8t1p1qXyO684OCYUxMKgngcKkBdWd5DEac1JQw09Fdb9/u7YkhSXZKGG///66sdMbK3XnTajlAbCX1XIrQl1KBuZT6y8//NExF8R0VK4AMMSlFI4t0Bkth/AkhtUDTUyO3r9Hm4uE05srm1M4Sigqaw48VDsaJES095q7iufk/Z4s7ktTl2SURdQthIYjYXFmZCXGkXYkJdRDySE/QTUoGdrhNra//NExGoSqV68AMPQlOKrUa4bIq2hacyjmxVN7Bh7elqHXSSDR+SMOC71Pwz123v/n8a0ufQJDdqlDEmYCvfreqHFHN9QqdOIefxctI9+aatU8J2IqQ3iCD2A2A9BclFh//NExHISaVbEAHvMlaqLmaL29zLbi2dufRqogeWcf7prIdf7q1us2CMO1R0QLFIhkIZYLSAU8gHctpaCJYohBC0L7iApVYDHkgHrTdNxQEEvKJiCgU9C/iFioIdXcnmD//NExHsRSULIAU9YAZLgFsRCovK9t/GrKaV/oGlMRiLs0kdnI1Swc4rrxOZjThRt4tQ9NP0+rk0sPZYZWZBFbdu6/skl0Tl1aVR+mhmSVs+Z////1sv////tBP/KeVdr//NExIgiMcKwAZnAAKViotoYYiqKgGBJ4IioVskhLKkogjigYkprS/UERb1JsFcZYudg6VTDkLwIZ7FuoUJUITo0wdMIu0u9v4pYjcYdyETUYsO39e3PRyDYHg+Ym44///NExFIggZ6wAZjAAI3sDySUSy5IncwpZbMWaKNyyRW6kon9S2nqYYV6V/cuZ7////tn+HHr5RkBu3/rm6LoM16LujYBizH8+Phyak3g+1a8JM5GVGT22yPMkaiTPBIm//NExCMSGWq8Ac9IARE5GQNAoiKS+QVxPJ5LYwQ4hZTgwrHb1nI//79vy2W1KGuhAW9qvPGcoEDl4Yu+DUazTcHOfHInHIQrQuLRy4hk1xcuggs80cgpqPBSJg0GHDQK//NExC0VORakAMsMcEpM9KVTTURklYQsumK5dgiubLBosVSoONSld5n//Y+edaxLb//+hFW02EpkfovMrHUaq8882jkg4VFzvurKOKfpXmex2vTuzmzjJIp7JBigAAAA//NExCsSgP6gAMsMcGQi1Hqpi4eJQAIHHUMmxcUNHQV6DX/9Ftfvaq///SvOYNbmgQGTHtzLN5lZ92OTOh4pIl3C2pXGytSu+KhKj5nLiw+B8GEAUYICiIooOKrumiq9//NExDQRiW6sAMLKlKr72RXVqkYaxYz///W5H///9CqtJRF2vAJfCriozkX5t1mh6IJbIKFD++s7qVKda2o2ytipMwSFkACJlD+I2Zj1HDOq6nGKeUxe773w9bcNm+tc//NExEARoWKwAMLSlIuar//7nIq7WCzJEyAaLKEGH6fce1TOQ83p+ws8XrTFLH7HLc3fm+05ccGJ4IBaMwZj6eDRwbYPMo1FZqGzcVE4Y1CKVfdu83YqZCF457FV1kCT//NExEwSGWK0AMMSlNIVBJ404OHxMlb0EpnWqj0J1U7UsLa/XMs57cFu+lpXScLy+RzYC4EjQeJnDyMhVRiyAl1HCcqg+2sh6jc8ghUUp01eKFyquQaWDXV/J4ozo/Zk//NExFYSWV6wAMMSlRCFqOxbGelDd1Fq723delJOxbab2xmIuPPC0vjqIQoGKi0OWzncHahU76t4Vs7xndN7rWv/3BlhPqTx1VgaqqN/DcGGAQteggatRlgCrMxifvfu//NExF8SoVKsAMMelULMTLu12u/X2ZZrWZy14l5ZQyymEcWkZTRfUk/UT1Uxqvo1v8/Ndb9vr5rXGbWi+KFNLWcg2AWBMWw4QhlYxxEARlnK3JOoauTLcKbLLLHn67vm//NExGcRuVKkAMMelTa1vna1rs/F62pdQkh2SAiNAbPriq3zLGNWCrreAmh27fDVFKoGggNlW8inA5aJy+WBBy7UFVBZTu7PUaJS66BME4AwCC4Wv7yCFxiJjGidxcgc//NExHMRCOZ8AVlgALKWUisYqeo0DiAGAQnFeNXQ9ZfN2XGZRMlEAMNH0/z5mmTZQNP/UyDO/OGIn8nSgVlInP///zSXzdA3simgl///+n26LrZyeJkd5OkTUaEXVZyC//NExIEfqypsAZmAAAySKwIPorl41By74OQqoCDBwLz+Tr/w/yISyvlnXh/NHjAJ3MAci4AE1gGDZcnmaMErdEYnmjJ2IEDBQH8nfLvD4oXafL2Rq2Bkl/////3pzeIL//NExFUUgOqcAdhIAOwYY6IMYf5gJMquEdEPsUmpZUCgy5qctU4T5QzkCbYaGIehhak4QBchNBGRchmAtheLYmypQ86oqnitiQjPBIMigHhVI4G1puI9qXnJos2izf/t//NExFYaYXagAMvYlGqstLUJ3y87ZCRS3H5Mv///Yr6VppkhbFHWEiE0Y0HBAXGGoANhMIfPQGZwIgZzML0S9Lf5rDCwS1GBF2k1HqCwZfOuQBwOyoURSHRtLNIAGRJD//NExD8g6XqYANZelF5xmHP/C467lA1oyM3oFHMhYhtFwFKEMJAcZ+K/GITartvXK+MtcyvUrpPrpzTjMzn45Mak3Ch8VEDm//9KXB7cgUOMWuVSqRTO5WQOzrpf5xhA//NExA4UwW60AMPSlHNQ0C6DcmIy2Xei8i8uO5RuUaxunnDDNL3Vui4Ykfuz7eI2SRQ60MketIZbwsx027IW7l/GsigyTcKRMURO0JTn////mMqrIiceevEQGNVIi1Hy//NExA4VUW6wAMvQlFRe2wTIJmgu4zNnYi9J8Y20WKp0bgDYQ6dtF9V45eHA3SDvyjtlhDYQ6SwOD4UEc1KOLDtP+CfHqg00tqIFBHwRc9X///9KKv9n48bJmDm8dOHc//NExAsRuXK8AMPGlFkb7Vl4BIVanw6XqnMpibDxft5kt6TLE4q83Dmbn1KSwc0t9W2a5N7GakrZGRqwTGmXtNQmofYIQIhLF8tQhhrZH+4nOmpyVqEoy5QzyKxDj12o//NExBcR2W68AHvMldXJO6NYj8UqXO4uayLC5qSHe0+INNW/tj5jb47O71qdFO4H7H5D9/Zz6v37YvoTG2q7UKtsFsKZjQDIfkIw5lIQUlJex+nWwLhErmEqUJVSwI4e//NExCIR8W68AU9YAUHAeQDQRyKTNSUaY3jiu9lv+Im4rY62KKyfWf8tY1G+5ZKtUdiWTAD1joDcQLhL3l8EAigiTa8lMRGVf5eMkClSpYiOiowsSQnQ5DWY6+qOIQ9m//NExC0c+XqsAZjAANFkk2d1aePFzmTYwdT5zG8u3d9jOOVampbUsoIbf/CxhXm7u8aWtUf7dJudjcohdf8qmpbG8qsZuSq3NYEn4fOaRC7+/6PXISA3BSA6BNyKJGea//NExAwU2V64AY94AMowvylIYFeQQ8FCN08zUMct5czrSEaUlwpB14JYYCkZ2JNqHzWkzTe83vXP/1vVW5xp/ikmLWrl7FxmDCli7vuJSkfoVCrdKkxS2SHYIYrfBq83//NExAsUaTqwAZh4AA20XO8Tsr0Q3Z287WYcV5tJcYiGOEttnUah12Q8+03SVwQ7xbYvSmr33X//VtRW6an+92xa2q0i4vBklBQMHwJepQv//6B1aSIFRZ4YkEkkwlmo//NExAwSeR6UAdlYAHGNohv6WUa0i3FUFcVMoBbhDTz7dWUxqVHEBqG4E0EUNh3CBJS0tq3c97eHP7+a7d9/FydDB287c8JsLSUcgcGAx50YeEgOEAVIlfSqywFAHmhp//NExBURIKqEANPMTMqkEKR49KrJy63BwsAkCKCRJKeDFgLTUaSW1AdJMMHjrAaCow8EjvpWoeBXQ0xOqiICAZgtbNBRNkEFgZa0FBV5IaqbILCYiXZgFolia8zVcmtu//NExCMRuQpYANJMcBEisJif27/zsvjJXjNTy25uOrQqdHvrvKnWoa0Sz3LfJf//1z4nTppjMAjA8zNCxEDjTT21DoRVsTuXyavGkFHqQygzAqo6Pc2YOgVbTZIa0Q5j//NExC8SSIY8ANMGSEUatK97UK12r6rWIDtXDtbnOco8WWaV1Xq1qgrgYo4H1PaMinU2aHSAQKuWZUDeCoXgCwyKnhSLlY5j11IWHp8QKljN634aIoi8b4OucUVQ2wyt//NExDgReCI4AVkYAEXeKq10qoRfreZU9DwBO8EJgx4A7dBMSSgZ/mfQ4GW/x/Xg0GDia+tYGogARAvo/qSgfXgKDFjGotf+AQALeCABjQOU7f4XPh844xCQUoX/Ur/E//NExEUfKypQAZqYAOgpAUoF9CKDgHZ++r/IwXAJ8IGkOM3k/v699X/U6CRcPMX0zYuS57fq/9/+aUi4eLiCDF83SRK6FL2cjk34Yn8iQxR7qJaacU4FpPLYFgofYoNE//NExBsWacqoAY9AACFhYYPacmx/Qfy6ljh1k18LVfad/v1EjiFn1aGFY4jvssxEe/NTj6qJK2w5L5ek0EgIglsb1lJPuCTjsynsXXxdUeDAKRPqI5HAsBf9t0RrjpxP//NExBQSWUqQAc9QACIipdwenW2LLwEESR6MLsRo6HrvZzpzqjPmXp/vXpmuRNcpVXR0f92xzrMsPnXrJPpc/u6zKoBpTHXghOrkgDjzpeJj2IZBaSgmabKG8IEwY3G6//NExB0SOUqUANQElDkAFBbJsUoT5OEsiX0k7f0Ku0jWyMhGQm1GptkoIZBEn////Rd3CoEQ9y/RpXwEe4HHJ8COigtDJpORhwLvmKLr/mmbUUaLpQPDICqv9cpfiHPs//NExCcRaUKYANYEcO8e7q///V6uh6iKk/yJT1dyjgYwa///9SWHKtMcUMp4FiENYMqogBaoCiajRh/AK7S9NIiHytnrTKFGVv48FxA0nnCQAkKydsQsA4TNESeqV12P//NExDQSYUaYAVooABx45jDyT/XXWrHKRSiDDv///6f2rooc9ACUCYxmAQymDKIOzHBbGQPiIACho8NTnUBhqbgG2nYZKgDGZ820PyuSuKuNideUwBLpTkriKZQ/Bc3B//NExD0duUqMAZrIAJKqOvzKm7G+7xxls73CBP/WWqaVax79fdi/X7r8PtbJTjqzel/o3BEbOL9XreGFrUMBgwWTzym8/y8qEA4QgWDDCCRnLHWHwSNHm2QbQlueanGI//NExBkWaWKsAZl4AKS+qSUKrW3aMOkdqhjUofkSnaFZTGIcsDUjzcDcR9Ep9QP3nz/DtE1r1e13///b/6/pIn//xW9a91h/Z0/JU7DKjy0gCCParbCuUzzgFCmvt2A7//NExBISYTqgAdpYAcStwenOqjJKMW5QLWh4DC4HWCDCQE6wfR0HYbfw42W3H9J5pBs17jetE/7P7c9SHVc73NPQwP1KqzSHUzVJlr4GHoBhhq4qaNUfeCu3bmCO0tzh//NExBsRiUKgANYQcaTZp5KhSJLo0qU86eu6Nvox/m4FjOU5B17EIPx8nVkn//HqZW3se5JnIfNVjE20QwCJk8hBoUHUD/KcnFlErweiisyoitQSsYbJ6ByzTaU2U21x//NExCcRKUKYAN4QceFWGM7q7c7kfWiaBUR7kLJhz42Pn4H+/zEWVwUW4p+WCMOeGcGJm7GKOmWEqhMQNNo1SQWc/M1XgFtcYdsv64wUCAkp8MnWGV1EoBcmiWVrw6QS//NExDUSAOaUANYMcG42nmElpNWucvgrOuCjwFcGr5K9ba6dBRWJGkjCzD5P8sM9AQpnOo/SOtLth2BMSyyBSM5a6L0p/q0QojpYEBlSmCR106guQEzjehP///9vT/+p//NExEAQaM6kAMsMcGxdilNMG32s5mBUYYt3IKYYuCEG9l9VKdwekiB8pQ/VxE2snJEDxJ604O/Jan/kPloQn4Cfiwgcko1ii7/8aPmhnPTZbeKXwZ6w741kIlcId827//NExFERcUacANYQcQf2HRHGOqRXtLX3cytKUo5BToengi3JU96uLVNG7Has5z9Z/ul//7/7M0CagEAEBhCerC3R9DuDATQww8qqwjqjwrqYxVbqZqKzesimdlhG7EpD//NExF4SCUqgANYElUCXAaOIYmRUOTBXES4DdMZg1WPL0k+f0X1bEc4nlBihxbfjzWeo6SjoQjNBQ1n///u/TTWU2n5NCMKzkuQ/Me4W9MCICEwWm2o8cPawRk4XiIAU//NExGgSGVagANSOlEWmAvACU3UQLg5tTxOW+sb+Y2Ka/uVt2ZXBCzSaRHO85B8///ziB6OnlYKquxZQw3UUOQrSAhc0AdjrZwQhATV/pbGYr85VFddIcqnzWqU82BfB//NExHISmU6gANPMldRdjjOmaWu/h9vwt4/yXKQMWWWbluX/RylCubF7SqZOYGfHFjg8rPwCgEvqzVwQQAKI0M7KqOloMN3q1/fe4qxIVB5xaZ0JHtWVxxFyVmOoVRqf//NExHoQ+UqcANPElVPQoBDzuM89//4iMoOUySxDIxrPNC4wsqDhxXFhsGAomGqmph4DKXONTWasTgd5OJuguuYk8Eodiaz2n8hCeeEAtqJRxecPkgSLkykTibHStrQ4//NExIkQQI5wAVtIAHxdh3qnNNuaqadFwWOo5blmpR1cU6Lt3/2xlMrayKY2o46ibZMP2zNf3Ua0MWfEV7t743PRXokyWx8cVx56hVUYwlZcD0MOXnSfs/uo/7fz7H/x//NExJsh0mpEAZxYAT/sfMf/z/z/+/qYuub/+Pi80QoyWt54dhkSGUaV/0eJJ03QBALH0cGKAJIDYGCaSAKf///RWeNh8HYx7jBaiWO8ah5GsEMjDrJAewLk839n/nK+//NExGYgoyqgAY1YAP9zTUd9k02TLzhoasf46iSOkdDie8drzo9E0bEFlD+X/6//+////+r3///c+wz//3PP/O4Q/+b4pZGSizZRHg60EiEG20bMLQkxFyRpzSAkkaRJ//NExDYdawa0AcFIAZBcE2EiKa5QsCCorxollKRIU1K25naTMbhxFkkJRN50xCZKRLJENyD6j1V1FkeJNFSUNFVEcSJZtQmVk16ckgr/bH/+qsjdv5wQIj6e7dUaydVV//NExBMV2rrEAAiMub9o7tFUyam2Iw1HJ0ZRNzGuM+iVELhGF5FPW9ceDkm74rV7lwYdeESJiUsjMtZlL9ZGJS6lHTboFxU0t9oMF6G8Z6s1VXgZiHfRNf/8vN9ygjAd//NExA4Uqlq8ABCGuQ6kkBimUxJjupj3d1tco11cBjEjtQJiDBRL6QnWCgFA4ms7Vrk/6ohm1LSPMs4xA0s298gFRcVbLhOkFW4VcN/nP+//MrfBlYLm/DIC0jwyN9IR//NExA4SuW60AMGGlH8e+ZNxm38+a33/N/u2BCGhazUL3jWlQahQIMEJf6v556T4wiLauoYs6Ucm0ss7nmT1oloaJVzpVxZ6PyvnktYltD5IogNjjwE4E5fc/vs+8v/l//NExBYRWVKsAMvWlMNef99+9/hfvPhRxbiyM1i7MlBDnIl5EXxW2UjL1+TKoX98qGTJEHbD9k////MzKrsqJIqA6hJUwkPmFzg5bUg2Gv2SVRlknlGokVx+ytpkgmHU//NExCMSaU6kANNWlN4OIbJuJByK6iovyoZuIEGGsKZ0vKZ1OlvJxx47CO4qed///8nfXauRBeDpJAQpFafVUWT0cphP7AtBHI8S0e46vLCxBQkE0KHUxHaStzNk9BiW//NExCwRMUqoAMlMlEy/3X1+2zJHnDtIrpnNF2n7FdhEyxtF66Ht8GRgrVzQaYhVbZCwbKbBVGCzq/1qZKt/nkkPUDoFzXDra1NLCrmrQVFQFsIxUNFfnabNMrDrkRE8//NExDoQGPagAMlQcESN7PdbsWqcYQFIT8PR9AAQQs58CvrclyG5m9FmmeGApXFZE1HiElslRTpE+iayF9NJswWalkkUhx5EOkQlZrcsBYVBX4iiWlrgVdKnUFn+Sjhd//NExEwScQ5oAMiScDKKGhzWZV4FWpWtV9o9dncO6y73/y7/f7/I3/tdSCPFDCnEk66sYUgWZcDoisM3AYKL6V0WqSuvSj+jQLbrf+zqT9FOuleB9RaFLIPvP+w6r/xu//NExFUROPJIAVkYAH94cYQlGJo4QuvjkHoaD3HMmamPyXce5Lm4zCND1SLn5KNbLpROnzceX8l075oF/EmCQByAvg/gCb/1IIN8CBgsB4BthviXjzSR//tQprd9jhjK//NExGMh2yp0AZhoAEJgOwOQC2DDDChzxa///bQZPv8pngDDKQjYnI0FApxMBzhdyGqJ///////////f//X///+34fJ/JygghCU1CpO0oQFyIy2gkRQVG8mq2uhe06CO//NExC4dWxqsAcJIAWrBibSj2FF50wtTm0lTS676QbOUZxNzkgc3bbFrtObhCfiK6i4jhCJG1s4aMEi6MjRm+iJJgmebNs0YFCiBltl8L2ySlCSGFR///r16/9ZNCf/s//NExAsTax7AAAiGvMtdZqSocDdEcGdB/ekKo8VwpClI5kj6sd9SIovzUjfUEOaalZseWcQpwgfUr7sdCjZ5uwZrDEJF2d3bhqwc1lkYghKlHQLgPVnbxg2vapM5M0iK//NExBAWktK4AGBGuWs8Y3NDABS5rznyyJShXZgTxgomEJCkdjQMKE4VWjqMsbpHm3VybWlw1++RLJUXY6pbAxNX1JlUsMxuR1AzrFVltYloUJtumjlpqsrr1BsU1pUK//NExAgS4UKwAMMMcJwhTZYPQcaGRWzetSQgzKE7xwi5kqKbACEQkYGNOBlUyO4VmuTX3Obga2ff93s2dp9FZRSDGRVXtqnv/6OCv7f372FqwrRw0Eov5EhKLHOSjRh0//NExA8WOU6kAN4SlEIrxtBtLvCbUDgapgp6ckrU8qrgKtnVDxbcVst0e/teVd3Xi3dU2WyM5JcRktrqPmK/4RxdpDG2vOWWRip6hgUxLgA5///4ZV/Vw3Bh1DyzMlPk//NExAkRgVKwAMxQlNqYBY67ouOCpRmgocRsaGoYTJ2LWTiZmGzrYJ8UYzYWUfZFc6XnlB8RJzG7CvAAjZHwtaHfXjTqkE9SGUjf04m9R4khLrzrRUGK8SCgSrqpkFZb//NExBYRWWK0AMvOlEajvnyanqSCNgKCOjdxHUvLD38JTX3P5BbjZqDFQLmxNu+FO2OPKj27UJ1f//+5SrOUsCZJDfXKnlStYDpbNcCgVNqQOm0Mf1spM8aXQ+a5Zl5q//NExCMR6VK0AMvQlfwkyCkNAvdDcvrDbvtj6CtQcbyBHoQrl73D6ne/bss3QVqAcA3d0gIewuo3MLiWcudMdpuApoYKzpytIrWXV1bXDW5bg1mhjqtXB0JSCPAVR8ue//NExC4SAPqwAMPYcMvO5/9Z3rrXXjlaFA6JSvVIf///7f//7f+YlwFqBzP25nlOV3EV0b43/Ff68hCCRgF////////9PT1WztkajEZfefnzIhEZVRJFOc6ndDi3k9mg//NExDkRcnKsAHhEuXgCCnlJ+YAAdzbTQFHMAddF////////v//+f971kPjtdtP37z6Q73h9v3pzOVNOQs9bFHs6GhbnoKaT9tPSiBx+lt0KvHSssmhJxadoNPZCzJq5//NExEYSqv68ACgMuU5LCkbC5f//////5f+U4UfRqhZhTPTmWisdKGFQTaRQzKDERYliMaqK1RcWsEi4YUhbz5DOI8UyIXQVAnU5ePan9EJTEIA4DAAwHXd8Bf6X+ABI//NExE4PAs7IAAgGuWLXz621R6L///3cpSo5WNcztmd2dilZHqlFYyuhyqUKxQKf/44858sV2jWsktBWXjcw3+qbv4VV1dY0axdLFRCSnRLqEA1lYum5yO0hkar3u6OP//NExGUSShrAADBEmeuK1gQ9Sq/WW8+2VfDVsm1H6t4L1gYby0oHArkDeRRUIn0+bqWWRp9Cc6Wb/WNdrd+1CsuPud4EuoSwqtWxAYIeHlqFR9RFqDMEpbmbaAfkXsat//NExG4TWVawAMvQlKPERGqr2iGnC4K85wNdPNScMmHzvFGAAAqsDMgEEnhYC3mXdith5e43nqiwJiBu3qM7///XTcbiiZGCdj7EJdMr5jsAMNAwmfAOhcyGnuQ5FMp9//NExHMVaWqwAMvMlKEIZKmjnSzCk02oVatkIHOojRhHmwQm9usroZ8+wTl3HEkOxMhecoZGDsblKv1KqToqTqnXFBsHUpXyizoa2GDEbENfOJ1K5SLZzlyJaOs7kg4q//NExHAVkXa4AMPSlKc3jmu0mr0KZFIhaqOo8ILFt8zRITn5dcKeAdUjE0OkEDIVi7lZ8ye0zSP0Rk7XVcckjIJ4jmyWRMK5uOlwSqEBAjg+LoR3EkTWC2TioWCUSC0M//NExGwSEWrIAHvGlQDIKBIpLZ8f3S/X5d8pbX5boyZoEjx+O5dauW/+S33frP0Uxh2loiC+s4v5klI2NDAjYCThnG9R6FN6FP1w+VDM2siBfj2glEBBEGykhIk6rrGp//NExHYSIWLEAHsMlcthKEYRyas0+tNpaS3+vCI4iGQeAdsqvHIUBQQhMsTj1KpF7A44hJEIytCuxACBiRZESaaSTEb14lyLDLu9iMQdqGGoDI3ZcFrLhwzSPtLFgZdQ//NExIAQwQrEAU9IAUYnAqZrVFDMdVelBAMJh6H3feNyIcmI3hYitaO4P9APYjQS+noZZKIKi+dWl7EpdW/C/Wv0spn6/Ob5R/+nXAwV9Q7xAZyWr/IqiIUBmSgFQIac//NExJAhmYKkAZnAAEByAKEaQlAF8BQAEColUylztSqgh+Vw7XjV+3ZLKp5JFKaFchFKhMuFYLYsKpocpr1so2k1cdV54NK/+pf//rpmSTJoueIA0ADpwgKoqZcksKHQ//NExFwSIQqUAdpIACMBC4YGSWBqJ0mi5JBd3JurEg6hNMFZfvc5UlYzqBgw646+v5s8xkrej//Z//8ALRc2qnfYeYhlmqgpMAmANQOEAqAGHG6OoiCho0dWCYdqO4zZ//NExGYRYPJ8ANvGcIk0cxzjrYUQrWVSOOs7xTF9Y+N+9b6g3nRCM991Y49nms38OHZSKAOgGICba1MwmKCIBi4QBImLkOg13Jv/ajf+u3cgnEhQQEhSyMjPsYo/FHds//NExHMgIs6AANvKuf/7OYcc7xBXo9HvPgI6lEiMYOFybeGHaqhdow7AeHsyAIVv7EOUDod5BYsMoi3Z/sb+WKW3/2YX/aJjK+FKCg6FckKMOIklZdf/F+vMNiASFxpa//NExEUb0XqUANMYlPTqL44W8Wks+Oz+F6Cj72o//6ljQOAzh40oXYVKHxHT+TAawiEjLksxperHIg8TixFCs34OjX9x9BOwl9jcvA3n8285c/FffEUSfATnqCFyC09i//NExCgRoRqsAMLQcPYmxh7z6i7hzONBByTjA24OAoVNDBv//8cj9n/sRoq/5Loi3p8U881gYXqmTP7BLXD4N6Qg3sc8ifxh1mIJT0PDnBzFUFEQqEQCfIRAxQE+RLHp//NExDQScVawAMJGlD63J+7O9GcqkLgD///Im+l9Bw3//665iOmF91npZtnVWf3FWzG6asj0gDQ1qCfS+52o56badiVF07GhsZ0RI0XGaeAzYywY7OhhhHpt8eHbmSwW//NExD0RuWa0AMPGlM/sIwbLM////9H8aMp1avK8xuM4xyY3quBqLwB0WDR2p1U3QZqitQS8oJLyGBfqFytGOuR+45S0YUCsQ981Qz6/96gg7ocoXD3///Vf+pX/TvHv//NExEkREVa8AMMQlHW6Ld43NOHGyPC7HylrAcPAb9XbJ9QN6hxe1RuuFVk715/GVMBniwAglZMjBMjAJfslrt4Nl6/btMuk+WaFgod///9SsaKqSlWaUitNgkCRIvDp//NExFcR6VK8AMPMlBLLHFK4kaKQmnNXGmHX8/7jS0XGVdByPF4wFwgNgL3Gg0QYHCIGR9h98cDbxb29/KqQ+5MQ1f//+qq1mWIk4rBAhTiNjKxotOFhM2zyPbctyJVt//NExGISEVa0AMPQlKvw1tDmwbaH/Mz0vjUmHgilk8UhRMONIKRMDBRxMi+Tk1qzfj+W6xLjDTyChZP///VVs5LVJlSlONs0AGQEVS3KV02pDNS1hw9c7i1izZ1ZIt6J//NExGwSiVKwAMMMlFHY+LjAVk2EtM2tDcYcILDIkSCACKvN7u1M+Z//qzT4P+muZPf//+ivHhiRg1QMZiIwAhnDYVtZBNunZuf09kv5WaGi4sNCcKRhYB8JaIaDjOW5//NExHQSQVa0AMMMlNw5I8r3waumjYC0wswQk0V+/nt+39ae1i1cCWWvJQ6dRB0ijJ0AYwLDPAcRL1xGg8hj7QpKoSdZ16SysKiCvB55gSx9u7FC7y2s2two0Z5QSjAY//NExH4RoUqsAMvMlQoXb1civ8dAysNQqGG////UgAYBPQkzBxlxAMp9IAuMv001mhwzMdZcXVOj55o+hdagMl4IkQEhGLpjabezWfnazrs6n7VV/LY/75dWBjZqJKow//NExIoR+VakAMsGlABLRCCsacUcr6mmYJ+BliA9FM1CldjfwLGtS6rfq2eds/zIo5IGfhRIlKqpvmV/MtS82anK5zxagJtlQ0nV1z3b79CWev/f+9OBLymbaDqH5ptT//NExJUQEVqMAMsGlK4i7mXf9iMQmS/kQjAjjpDyU1+Okhx2GY7AI5Jv/lY60Txwfh3lCDf/0Gn2GlJOeo45//mk2uz6iCCK0K///hjEz4+VwfHaHlEkm5kuPX///5pT//NExKcSePZUAVowAN7D7KYynpINNCc15NLzUsW/////33//vvffuOLopqm70yaZzR6I0gVcE8awMmFuWbIXAb9CAKEJ41nIzpHIxf9l+ENsHssrU3BHwLsN4cJmQygm//NExLAggyqQAZhYAOkgicUiyFTpIvMVqUx1N/arZt63VdA0cuacYXbz3KuzpVWdX/0c7tr5Y8twldQqv4LPDPiuEAwKwF9mB5YODnsMHEygtjSczHajHmpXQUSFTgA4//NExIEXCUqcAdloAJwuIP3l6wqYE5nJMMrX6p9ZUv6x/dqpH5LG1SEgQoR//fJiU2OnXOXQ0JGhXKA0YWbY27//9qDx9em9K52yKlpSaXQKllHgucwznNWCl2lVRQG0//NExHcYAVqMAN4SlMOg6tNsgPrTAFiQMfQxf24tPLit7guez2Cf1z/mP+Vf9r/s/uk/dzvH9kYXhi3Q3FDFSQ8gH54yD4gBkTIyFBhUtX//////6ZNZvxikVbeY4JDz//NExGoZChqIAN5UmBSih8W2UgWak4WYFAsexeEYkyRYc8N2cP0AcHAcwaB0K1ORM2/z8VvnW87+H+vsgYX6n5Q0l+ewgEHQBHABUe7///0f5pWxenBdbCCEKDstCF2I//NExFgSkU6cANPGlMh4ebCs3G4T3VUK3YvUaCb6AcwNwk8ND65b//bGI2sW+a9dTOgqyjrm3arS5szKNDFEisu4YcswgKfgoczhUi6oCZHnFSvlhWWy2ah6XVozey3h//NExGAQeVKcANPKlWojRO0HgUwLIDIsodnHHHWr7c3qa33nHTv6HUNNYhJZUqRO/jn//tK////rAoC8OsOEXQRACw+PFOJ2fG3CkieXYwHoUCaSpikniNiZjzHIeSSJ//NExHESgV6IAVhQAN8ehKEunHMPYxLpI/stNBCYIKYmCYfXenU0liCwFDB6AeBh//sgz6YVMLmShIHlHC4Of/9Wn6b4nZKDjJMSslycOQ1LS4J5//6Hm/0/JUc4/BeB//NExHoh2yp4AY9oAMgTwSwZA9B2idi+SBKVONhwo//8oV/nTO/6PepWf/7eqYMWn//4Q2fgzJuvfuV2pk++vO89EagqUMHYMFBLAS6HioSQIUiB7mJ7KKXD5vB9FBN1//NExEUhIyqwAYZIADTNJXXtElN1wxa8KMtrpzzitUT0KOZejkTNITRBMhi+GFkK+avsUiLY/szgdHG3qoZLqsJ/lmkOFjpWnrcUvaUAgAsgTMY+4iup7AOLhN3q1ncs//NExBMSmxK0AcEoAbOa7p96v/ZNGopQ6ImEGcRYpWKV9ZxHdr5mp9eb+/8r/+qsuyPTZrKrbpRFKzorXpUrFVXKUdFKjNot6HLBfx6zzL4Ieg2BCIMj4QKKazz9Fj3U//NExBsQCUaoAHmEcHWytoZyOUqW3rqu3rrWZu8OJKFA47nWB2//1bqvPSR6js9VisbVmIfMBLLspGmKIIpGISFm2bEJJyXcl9VXKFkP6EThctpb2hbCAF9EzT0JstNe//NExC0SCU6cANPGlb/PTzXr7ZxUQYWYzoLMy/zNypeSAzDirBRhMiqZVvBNTzhcMSxjoPSVsAJIOVlrJsonIbEnrwFVlc1m+7TYFDUHoFvIJqWoI00Tqq1bpIrU7spj//NExDcRwUqgAVloAeXjy3b6qKF/OLMUETCKYtsCym8uFFwxJKRghlPPgYgS6C+zszjpQm9RXCSZComLiJLjwHANMwOOckZ3bUnQ60WarJlnpPnufv7/ru3K51l826nz//NExEMhkxqgAZlYAU9hxMdg7Zv/+3uums7of1yofCWbDQcJ/9VX/HvPbdsPunm55Q+0vQHYQpOom//P///1vu4Yc52/jUZFa5IQNi1ZbAGqILgpR6kurN////////////NExA8SexK4AcUQAf/9HdyrZysoZznYwuxWIqmFbodCsR2KlGIqjshVIU53Mhc8yHnlSZWlDkRHcioElOxElZEOyFFyKQXhY9f/////8f//2/qGw2NpB4fL35uTmL3L//NExBgRIx60AAgMvKxWqTZ+0ndHEDIaHgmrDrMWjh6N/XQKmjWaOWcuvpZjl0LJlyW6E2soY2JKZa///////P27/2/8t2Zml4liy8MXkv6wg+bUSilcp0g8Hy6eo9sa//NExCYR0xq0AAgMvA2WQcsCVW4P3wRTJCwzAaDlKxzzSHgYRLKCLRGHkAzJatUD////////u0O3p/37N2zt3Ku/8dppd5nx30xMiyJr7WnXrJ1XUuLZ3J6VDU6F7ko9//NExDERkxq4AAgMvTWkgYeAge0jh6wQHA9suDy0hRhyIxUS////y//////////+mnTK+rbEJFSnRXMYh9jR8xWHVYhx44SVJhApLMRBFWIMFhENEFVKjHETnEUcSYXc//NExD0SWw68AAhKueHg4CkD7h4UDhQO22o1/////////7f/+P/m/+b5W09W3l1zPptbES/83G9MiLcmTgHzn3MUSQMQWglZyzscxKVmp4HtIYUWmjqB6YXoEQWimJIj//NExEYRkxq4AAgMvWoD///////////O+Y5e5mUVrNVAlImhyjo5yymLaKNldloZLnRSBQkx8/2lGpwq1Meie6wUjZKksaA/NQkGnDLQImfD7IEloJTVa////4GX//////NExFISCx60AAgMvP///////f/ztM83qxgkdhTh1MwfsRxUJybRDWwG1tEZkOGUCWidw4h3Jes2WOENCdUM00esDRlj0GEDA0gptaIgTRZhMkO1XnpDxWRj502nQ47v//NExFwR4xK4AAhGuWf+71I9////9Wtl7fuDGib1KVK1KxrSvTmFXSgZzM6JRFEpVJFpaDUlDS4K3PUDTz1Q4KLZA5wSU4fKGgYBIpYUSSZPEcQCw4TvVT9QG+hUyEIh//NExGcR6hKsAHiEmAlRj1neHgyi8nki24WUkXfYk4SPTqVqCJGU49M0hRO4c2Ah8ZP9VcCVhEskaEIaIr2LBJoweetqe411gKCQxzpcwtegdhYALh5A3TgJkgm9yy6x//NExHIRWTagAMPGcH+/bc3z8+3bS/9dTTge2etVheb37VNAc6kHiCaVso7DW76jaD6CQ7dQUgy8zJGSnAC42FyBjTfrBQOlqv91wVgVBE2tPy/0nxseF296k/8iYyLl//NExH8SIUqgAMPMlFjEjrbIo4sZCR3BBhKB6SWk7tLBfZH5eQVnCi1D0Ijr2HjBvAu4SO9aBjoIlQUgGaiCChw0JYYR0mnxCB92crRL5Q6WZfZLShGZKzW2xqUtr5Oo//NExIkSKUagAM4GcQChYHAFz30VuJKmIFOg2R5EhlaBgcMLeUBotyC5D8MiVAmiindQAvOQWY6X1ZJSxm7SZVufz//P8e9z/X6ztjN9b7jt3fFpGizGy/VGnwtHRKWp//NExJMR2UagAMYGcG00TY0tA3jeBRnWJCYDB2xDUzKQQCDd4ANAYQIg7WgKy+6PAZeYaR9rgIY1224l7UcGdLilEPSyVXcu57+lw5hv+ZbevCORlBaEvKdXcXGQeUEy//NExJ4TcU6gAM4MlceqJCdZIyAmLoVzOHqYahHqxXsb///+xgshoYMP3KBRzUmHeoGusSEDZEgncFa1ESE5CsYCbjKvHdI5giIi4HFMQV/ydwoq/tvK73Wf5Y1c/53X//NExKMacYKIANZSlHWb47w2XcbuZ9aSxBxYUSOQeCgMDORFAYGlMnFZjnM0qSf///+91CqCILM9De8cRrCSQKFIWvEiUwEIiCBOXAiPFwYoXKHOBFKGNAoTBY4Twsg+//NExIwYCXqMAM4MlGI8zzrNqtGz3r47b9/1q7ft/sUqRmPjo2accR01KjpZTHliV/////01sSQxdiNFVCUKZaHG5A4A8FmAKAiS2xOA+QQvJQNRAmAdYJNC9pNEHSJs//NExH4U2W6QANUMlJFMnq96mnK2o1NR122pXahaKxZBaVYeIBcOlEijSKAu////+pR20OhqIKzRhSJAUn1YI6j2/Kt6ubK7T6F1LomAwRSSSmUhpzLbcqWGkPG9Y+cZ//NExH0TuWaMANTKlNZ1/v/uxWVtpa1/Vr9FgykkBlB0SJOtOlf///1VMWCjBD4686IQkw82W2Dg1fJAAqDKq24NlMOC7JcOIJCSIcqemZVc3st085Rfr23rNt/G/8fI//NExIESmVqIANPElNVYyXnz9v1LWcXPjlwVAIKvRzqFMXWjhYAIkzNj0y4XEAIYmGA4Ca2oEkVA5bRbR+mEJku37AXI3UoorXVsd7Fx+zMGFarD/VYBAU6t0OtnYSOn//NExIkSYVJwANvGlL1u0kiIbEqnrQTAQ40zoE2XmWErHz+MQJnDXIHSPOWlB+DtLRI2SlSpmef1SfzSLSwIuWMse1DawWDugqSa4slj3oBV3Bro1Wb1XV/qFRejenWq//NExJIR8MpEANvGcAH8goQUlRithoxnbm6QkivC6uLr2KE4ljM0VLAbwQKnwEkXCoZPqqPhxCWsYPt03quKMX70U1fRfrXZ3e3ajoK9dQKhDNClwWmuE/ThSMKOARZR//NExJ0SSPH0AHmGcHForAsOGFVqoUTBEPMlpKEiwFEzQ0g8Gp4eYQeIjTwqNOrGgJQkcEhZ45TyqyUK68tIzv/Z/9Ft4qoBjt6n2+r9SUgeOFTRHBYkMoSi40SSU/Vj//NExKYQWJX0AHpGTB/81/6tZaxjF3MYLMYLUyDKRINSJBrhxKZKVmSldoadg1SoNdZq72/f3f93Cw0DX2cpnTOnKf6XZRIBAIBBSWwMBAQEBCjrBgICFM8FgaBp4lBo//NExLcSmIXsAMGGSBp5UFgaeVBUGnrBUFnwVBXBUFcSgriUFcqCusNcNckqTEFNRTMuMTAwqqqqqqqqqqqqqqqqqqqqqqqqqqqqqqqqqqqqqqqqqqqqqqqqEDBgCACf//NExL8ROFHsAMpGJYc7EaDhSycUEqvj+lBcRPd93+IQd/d4ACK6JQM0RMIIoGZaEEEUX/EiE5/+hV4hfEos0TRErvABEQuhzCCIiIQcXBB8Qg4vR3gQnf65oV+pXy+E//NExM0RiIXYAMGGSIVPrxIn7vEPgQg4uFQ5gAgOLjUiLNg09JFj6CzyWWsOVMTbaTsa5D9MDcBwXQzRVIWZaZEsVuHmHLGm6yIlkh+fA5pEQV4TFkkQWkyZh2B7ImGN//NExKwAAANIAAAAABaZUFl6H1ExOnUQOo0+INLdZLZD3MKUKSFkmnTTTiVr3dRRKrXMO0jNPzcpc5WY+RWTWn087ssc6W42I0kezUmbJKsL4MkRDUvVSjJtpdrnWHgO//NExP8asxHQAHjGuM43AXC6PXtFEDjFi0EDIEQk0CHECAwwu8ULi4uLiU2DU28SmBK0UBqIngENEjChE8RMEoTWSgal69f///71Mi9CHY5wQw8PRWBgxXTvoEZO27jK//NExOciixHcAMmMuYngfmakrxt6iXBZUPgTMUBXngZIzoyKEDSQsIYo2jCIiMJzZRFm5NELS0iCRpe0ckRaNueiSdmtGYNK6JflSl5Ak2ajnKnZ5S6Y2yqbUt6bMd7+//NExK8SaIHkAMJGSOEt7bk5La5fzEbzC3loepncdtry8NTpVuAFH8KPaBUC92SdOjjaMjExB+WIOC6/xV65coFiQZIVRSH3NCKCbK6FOLaXigfA7jYJxbMHUTIOcqyC//NExLgh6qnYANJMuXxDqGZyeUlaW9Ha/vRart6O279Exh+CqDZ6kB2evEe15ur77tnzj7LRN4D7mBCNPJgqAhR1BQZgs2xF0pPHpQ/VXKGaQcUOBtYsbTEi6ayOc7Za//NExIMYSNngAMJGcZ5mK/rfVmxtGUlRsgx9Etho0MBKhhzgqkqNkGfqLKXMGyn2S4l2KqOjTCjgl8XxvG8YVhvXS8Ox+X2/39P7N67K89UCpOLVrOy0/cEQlr8Yhz4g//NExHQYyXXkAMGGlRzaN8y59BCLeI22F9X3ymaIoGb72XvRekBpWqTTC0+TJLffWt9PVJ5/J1n0a1vJ7ttr5/IVnw+soNw+JSBUTInghzG5InizwpJylCBm6Z4kepiQ//NExGMSuNnsAMJGcLB15Qw0sB0tehi5apz9tPYigmm1uypVy161fsK7VWMWLolBRIHHi8wopSYFWpx9ODCH1SzXMk/iE7NAQOANBqCwcJAYrFm1LRQlCn60qCqqzqCj//NExGsQaG34AMGGKNlosh6kAMkVWbYWsK3ZRfSh+xVq0DUpm2WC06i4mmQMM1gbheGnnI0HQ3ubOuEIALLlDvpuegAh/0/R/Su/QAMCcH38UDMEJgQHO8u9APlz7ogc//NExHwRqE34AHsMJFwfIDOKC8gB7HRTk9tpdvVKaFAS2Jt4xMAFViSIe9Dio2yVmz+Qw7b/RKKphgdk8kKCC2hI2kUR+8kWp2DuNYgK3kJdjkq1LD0adfnLchqwzlX7//NExIgRwN30AHjGcLAkDMIyI7oEHDmLhYuRUAnqhBdj5AJhm4NuMVeQMUcjGcGY5CaclWD8hntKR8z4OSB/iluXDt4pHSXI9ID4KQDy4H0rH4NROH4JTQSl5LQUaDBw//NExJQg6v30AMMGuVUDIgw4SNOSNIuRglpHDtrTVHJURIqSGmmnY5ZJUSVCibYbbccad+pYuOWv9v///+15pZtqTEFNRTMuMTAwqqqqqqqqqqqqqqqqqqqqqqqqqqqq//NExGMRGKXsAGGMTaqqqqqqqqqqqqqqqqqqqqqqqqqqqqqqqqqqqqqqqqqqqqqqqqqqqqqqqqqqqqqqqqqqqqqqqqqqqqqqqqqqqqqqqqqqqqqqqqqqqqqqqqqqqqqq\" type=\"audio/x-wav\" />\n",
              "                    Your browser does not support the audio element.\n",
              "                </audio>\n",
              "              "
            ],
            "text/plain": [
              "<IPython.lib.display.Audio object>"
            ]
          },
          "metadata": {},
          "output_type": "display_data"
        }
      ],
      "source": [
        "# 파일 읽기\n",
        "from gtts import gTTS\n",
        "from IPython.display import Audio\n",
        "s = None\n",
        "with open(\"오감도.txt\",\"r\") as f:\n",
        "    s = f.read()\n",
        "    print(s)\n",
        "\n",
        "kor_wav = gTTS(s, lang = 'ko')\n",
        "kor_wav.save('kor.wav')\n",
        "\n",
        "display(Audio('kor.wav', autoplay=True))"
      ]
    },
    {
      "cell_type": "markdown",
      "metadata": {
        "id": "HyMmwYFGRXTC"
      },
      "source": [
        "### 실습문제 :  구글TTS(gTTS) 사용하여 음성 출력하기"
      ]
    },
    {
      "cell_type": "code",
      "execution_count": 49,
      "metadata": {
        "colab": {
          "base_uri": "https://localhost:8080/",
          "height": 348
        },
        "id": "c-USfR8rRXgG",
        "outputId": "47e4176b-1352-4027-8a23-14cf2493a7a3"
      },
      "outputs": [
        {
          "name": "stdout",
          "output_type": "stream",
          "text": [
            "제주미채 카페에 오신 것을 환영합니다.\n",
            "--------------------------------------------------\n"
          ]
        },
        {
          "data": {
            "text/html": [
              "\n",
              "                <audio  controls=\"controls\" autoplay=\"autoplay\">\n",
              "                    <source src=\"data:audio/x-wav;base64,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\" type=\"audio/x-wav\" />\n",
              "                    Your browser does not support the audio element.\n",
              "                </audio>\n",
              "              "
            ],
            "text/plain": [
              "<IPython.lib.display.Audio object>"
            ]
          },
          "metadata": {},
          "output_type": "display_data"
        },
        {
          "ename": "KeyboardInterrupt",
          "evalue": "ignored",
          "output_type": "error",
          "traceback": [
            "\u001b[0;31m---------------------------------------------------------------------------\u001b[0m",
            "\u001b[0;31mKeyboardInterrupt\u001b[0m                         Traceback (most recent call last)",
            "\u001b[0;32m<ipython-input-49-ceba35390298>\u001b[0m in \u001b[0;36m<cell line: 14>\u001b[0;34m()\u001b[0m\n\u001b[1;32m     12\u001b[0m \u001b[0mprint\u001b[0m\u001b[0;34m(\u001b[0m\u001b[0;34m'-'\u001b[0m \u001b[0;34m*\u001b[0m \u001b[0;36m50\u001b[0m\u001b[0;34m)\u001b[0m\u001b[0;34m\u001b[0m\u001b[0;34m\u001b[0m\u001b[0m\n\u001b[1;32m     13\u001b[0m \u001b[0mplay_audio\u001b[0m\u001b[0;34m(\u001b[0m\u001b[0mmessage\u001b[0m\u001b[0;34m)\u001b[0m\u001b[0;34m\u001b[0m\u001b[0;34m\u001b[0m\u001b[0m\n\u001b[0;32m---> 14\u001b[0;31m \u001b[0mtime\u001b[0m\u001b[0;34m.\u001b[0m\u001b[0msleep\u001b[0m\u001b[0;34m(\u001b[0m\u001b[0;36m5\u001b[0m\u001b[0;34m)\u001b[0m\u001b[0;34m\u001b[0m\u001b[0;34m\u001b[0m\u001b[0m\n\u001b[0m\u001b[1;32m     15\u001b[0m \u001b[0;34m\u001b[0m\u001b[0m\n\u001b[1;32m     16\u001b[0m menu = ''' 메뉴판\n",
            "\u001b[0;31mKeyboardInterrupt\u001b[0m: "
          ]
        }
      ],
      "source": [
        "from gtts import gTTS\n",
        "from IPython.display import Audio\n",
        "import time\n",
        "\n",
        "def play_audio(message):\n",
        "    kor_wav = gTTS(message, lang = 'ko')\n",
        "    kor_wav.save('kor.wav')\n",
        "    display(Audio('kor.wav', autoplay=True))\n",
        "\n",
        "message = '제주미채 카페에 오신 것을 환영합니다.'\n",
        "print(message)\n",
        "print('-' * 50)\n",
        "play_audio(message)\n",
        "time.sleep(5)\n",
        "\n",
        "menu = ''' 메뉴판\n",
        "- 아메리카노:  3000원\n",
        "- 카페라테:     4000원\n",
        "- 카페모카:     5000원'''\n",
        "print(menu)\n",
        "play_audio(menu)\n",
        "time.sleep(7)\n",
        "\n",
        "play_audio(message)\n",
        "time.sleep(1)\n",
        "message = '주문하실 음료를 입력하세요(ex:아메리카노) => '\n",
        "coffee = input(message)\n",
        "\n",
        "play_audio(message)\n",
        "time.sleep(1)\n",
        "message = f'{coffee} 몇 잔을 주문하시겠습니까?: '\n",
        "cup = input(message)\n",
        "\n",
        "play_audio(message)\n",
        "time.sleep(2)\n",
        "message = f'주문하신 음료는 {coffee} {cup} 잔 입니다.'\n",
        "print(message)\n",
        "\n",
        "message\n",
        "play_audio(message)\n"
      ]
    },
    {
      "cell_type": "markdown",
      "metadata": {
        "id": "xPW5SM108GGT"
      },
      "source": [
        "### **[문자열 인덱싱과 슬레이싱]**"
      ]
    },
    {
      "cell_type": "code",
      "execution_count": null,
      "metadata": {
        "id": "SNAFf0-FPTUO"
      },
      "outputs": [],
      "source": [
        "a = '우리는 민족중흥의 역사적 사명을 띠고 이 땅에 태어났다.'\n",
        "print(a[3:12] )\n",
        "\n",
        "fruits = 'orange'\n",
        "print(fruits[1:3])"
      ]
    },
    {
      "cell_type": "markdown",
      "metadata": {
        "id": "GdjCIoKx8GGT"
      },
      "source": [
        "### 실습문제 : 문자열 거꾸로 출력하기\n",
        "\n",
        "문자열을 입력 받아 거꾸로 출력하는 프로그램을 작성하세요"
      ]
    },
    {
      "cell_type": "code",
      "execution_count": 28,
      "metadata": {
        "colab": {
          "base_uri": "https://localhost:8080/"
        },
        "id": "xo-ZBQiO8GGT",
        "outputId": "98993d0e-e197-4a27-e641-b02b7e981e4f",
        "scrolled": true
      },
      "outputs": [
        {
          "name": "stdout",
          "output_type": "stream",
          "text": [
            "문자열을 입력하세요: 파이썬\n",
            "썬이파\n"
          ]
        }
      ],
      "source": [
        "s = input('문자열을 입력하세요: ')\n",
        "print(s[::-1])"
      ]
    },
    {
      "cell_type": "markdown",
      "metadata": {
        "id": "PZghIVpIdg-c"
      },
      "source": [
        "### 실습문제 : 파일명.확장자명 분리하기"
      ]
    },
    {
      "cell_type": "code",
      "execution_count": 50,
      "metadata": {
        "colab": {
          "base_uri": "https://localhost:8080/"
        },
        "id": "o3CvgoVJdhN0",
        "outputId": "4122a4ea-cbeb-4582-910a-3ef0fee0ac3c"
      },
      "outputs": [
        {
          "name": "stdout",
          "output_type": "stream",
          "text": [
            "확장자가 포함된 파일명을 입력하세요: test.py\n",
            "파일명: test\n",
            "확장자: py\n"
          ]
        }
      ],
      "source": [
        "a = input('확장자가 포함된 파일명을 입력하세요: ')\n",
        "\n",
        "print(f\"파일명: {a.split('.')[0]}\")\n",
        "print(f\"확장자: {a.split('.')[1]}\")"
      ]
    },
    {
      "cell_type": "markdown",
      "metadata": {
        "id": "OSn4MTyNeVJU"
      },
      "source": [
        "### **[변수 활용]**"
      ]
    },
    {
      "cell_type": "markdown",
      "metadata": {
        "id": "3jnglF5x8GGU"
      },
      "source": [
        "#### 실습문제 : 지불할 음식 총 가격 계산하\n",
        "- 음식가격:  4,450 원\n",
        "- 세금: 6.75%\n",
        "- 팁: 15%\n",
        "1. meal 변수를 선언하고 값을 4450으로 지정하세요.\n",
        "2. tax 변수를 생성하고 값으로 6.75%를 소수점 형태로 지정하세요.\n",
        "3. tip 변수를 생성하고 값으로 15%를 소수점 형태로 지정하세요.\n",
        "4. meal의 변수값에 세금을 곱해 meal 변수에 지정하세요.\n",
        "5. 음식값에 tip을 더해 total 변수에 지정하세요.\n",
        "6. total 변수 값을 출력하세요."
      ]
    },
    {
      "cell_type": "code",
      "execution_count": 51,
      "metadata": {
        "colab": {
          "base_uri": "https://localhost:8080/"
        },
        "id": "-us6IUf28GGU",
        "outputId": "56fc7d0c-92af-4ab8-c386-c718ebceca89"
      },
      "outputs": [
        {
          "name": "stdout",
          "output_type": "stream",
          "text": [
            "음식가격(세금포함): 4750.375\n",
            "지출할 음식가격(팁포함): 5462.93\n",
            "--------------------------------------------------\n"
          ]
        }
      ],
      "source": [
        "meal = 4450   # 1.음식가격\n",
        "tax = 0.0675   # 2.세금\n",
        "tip = 0.15       # 3.팁\n",
        "meal = meal + (meal * tax)   # 4.음식가격(세금포함)\n",
        "total = meal + (meal * tip)    # 5.지출할 음식가격(팁포함)\n",
        "print(f'음식가격(세금포함): {meal}')\n",
        "print(f'지출할 음식가격(팁포함): {round(total, 2)}')\n",
        "print('-' * 50)"
      ]
    },
    {
      "cell_type": "markdown",
      "metadata": {
        "id": "Csltm-dLetMB"
      },
      "source": [
        "### 실습문제 : 섭씨온도를 화씨온도로 변환하기\n",
        "- 섭씨 온도 (Celsius): 1 atm에서의 물의 어는점을 0도, 끓는점을 100도로 정한 온도 체계. (°C)\n",
        "- 화씨 온도 (Fahrenheit): 물이 어는 온도는 32도, 물이 끓는 온도는 212도. 180등분. (°F)\n",
        "- 섭씨온도(℃) = (5 / 9) × (℉ - 32)  # Celsius\n",
        "- 화씨온도(℉) = (9 / 5) × ℃ + 32    # Fahrenheit"
      ]
    },
    {
      "cell_type": "code",
      "execution_count": 52,
      "metadata": {
        "colab": {
          "base_uri": "https://localhost:8080/"
        },
        "id": "3GZB3ozk8GGU",
        "outputId": "a53b5a5b-ba94-4cca-ccc9-eda1e6099d3a"
      },
      "outputs": [
        {
          "name": "stdout",
          "output_type": "stream",
          "text": [
            "섭씨온도를 입력하세요: 34\n",
            "섭씨온도: 34는 화씨온도로: 93.2 이다\n"
          ]
        }
      ],
      "source": [
        "# c_temp = input()   #키보드로부터 입력을 받는 함수: input()\n",
        "# c_temp = int(c_temp)  # 정수로 변환: int()\n",
        "# print(c_temp, type(c_temp) )\n",
        "\n",
        "c_temp = int( input('섭씨온도를 입력하세요: ') )\n",
        "f_temp = (9/5) * c_temp +32\n",
        "print(f'섭씨온도: {c_temp}는 화씨온도로: {f_temp} 이다')"
      ]
    },
    {
      "cell_type": "markdown",
      "metadata": {
        "id": "3UTLuSAp8GGY"
      },
      "source": [
        "--------"
      ]
    },
    {
      "cell_type": "markdown",
      "metadata": {
        "id": "fmU7O8WS8GGY"
      },
      "source": [
        "### **[연산자]**"
      ]
    },
    {
      "cell_type": "markdown",
      "metadata": {
        "id": "eRCyhgwS8GGY"
      },
      "source": [
        "#### 실습문제 :  동전 교환 프로그램\n",
        "동전교환 프로그램을 작성하세요"
      ]
    },
    {
      "cell_type": "code",
      "execution_count": null,
      "metadata": {
        "id": "g8A7ErL78GGY",
        "outputId": "8cdb51bd-24f5-4761-feaa-e5775fe4e8d6"
      },
      "outputs": [
        {
          "name": "stdout",
          "output_type": "stream",
          "text": [
            "동전으로 교환할 금액을 입력하세요: 4321\n",
            "\n",
            "500원짜리 ==> 8개\n",
            "100원짜리 ==> 3개\n",
            "50원짜리 ==> 0개\n",
            "10원짜리 ==> 2개\n",
            "잔돈  ==> 1원\n"
          ]
        }
      ],
      "source": [
        "# 키보드로부터 금액 입력 받기\n",
        "print('---동전교환기 프로그램을 작동합니다.---')\n",
        "money = int( input('금액을 입력하세요: '))\n",
        "print('동전으로 교환하겠습니다.---------')\n",
        "\n",
        "print(f'500원짜리 동전: {money//500} 개')\n",
        "money %= 500   #money = money % 500\n",
        "print(f'100원짜리 동전: {money//100} 개')\n",
        "money = money % 100\n",
        "print(f'50원짜리 동전: {money//50} 개')\n",
        "money = money % 50\n",
        "print(f'10원짜리 동전: {money//10} 개')\n",
        "money = money % 10\n",
        "print(f'잔돈:  {money}')"
      ]
    },
    {
      "cell_type": "markdown",
      "metadata": {
        "id": "rCYXIs248GGY"
      },
      "source": [
        "### **[리스트]**"
      ]
    },
    {
      "cell_type": "markdown",
      "metadata": {
        "id": "YumGEyjSfPXF"
      },
      "source": [
        "- 리스트는 여러 개의 데이터 값을 하나의 변수에 담을 수 있는 데이터 구조\n",
        "- 리스트는 순서(인덱스)가 있고 데이터를 수정, 삭제, 추가 가능하다.\n",
        "- 대괄호로 표현되고 내부 원소는 ,(쉼표)로 구분됨\n",
        "\n",
        "**리스트 생성 & 삭제**"
      ]
    },
    {
      "cell_type": "code",
      "execution_count": null,
      "metadata": {
        "id": "7fDp5hT0fhEx"
      },
      "outputs": [],
      "source": [
        "a = list()\n",
        "a = []\n",
        "a = [1,2,3]\n",
        "a = ['I', 'Love', 'Python']\n",
        "b = [1,2, '사랑해요', 'Python']\n",
        "b = ['a', '1', 1, [2,3], -4]\n",
        "a = [1,2,['a','b',['사랑해', '파이썬']], 3]\n",
        "print(a)\n",
        "print(b)\n",
        "\n",
        "# 리스트 삭제\n",
        "del(b)\n",
        "\n",
        "print(a)\n",
        "print(b)"
      ]
    },
    {
      "cell_type": "markdown",
      "metadata": {
        "id": "ZDNnr2DrfhbC"
      },
      "source": [
        "**리스트 요소에 접근**"
      ]
    },
    {
      "cell_type": "code",
      "execution_count": null,
      "metadata": {
        "id": "dE18h8OHfhzH"
      },
      "outputs": [],
      "source": [
        "print( a[1] )\n",
        "print( a[2] )\n",
        "print( a[2][1] )\n",
        "# '파이썬'을 출력하려면?"
      ]
    },
    {
      "cell_type": "markdown",
      "metadata": {
        "id": "CBiv_U9vfh9l"
      },
      "source": [
        "**리스트 요소 추가 / 변경**"
      ]
    },
    {
      "cell_type": "code",
      "execution_count": null,
      "metadata": {
        "id": "i4_2rAyrfiGl"
      },
      "outputs": [],
      "source": [
        "print(a)\n",
        "a.append('봄')     # 리스트 맨 끝에 추가\n",
        "print(a)\n",
        "a.insert(1, '봄')  # 리스트명.insert(인덱스위치, 값)\n",
        "print(a)"
      ]
    },
    {
      "cell_type": "markdown",
      "metadata": {
        "id": "k211ATQqf5Ol"
      },
      "source": [
        "**리스트 요소 삭제**"
      ]
    },
    {
      "cell_type": "code",
      "execution_count": null,
      "metadata": {
        "id": "jb18botVf5V-"
      },
      "outputs": [],
      "source": [
        "print(a)\n",
        "a.pop()     # 리스트 맨 끝 요소 삭제\n",
        "print(a)\n",
        "a.remove('봄')  # 리스트명.remove(값), 단 여러 개 일 경우 첫 번째만 삭제됨\n",
        "print(a)"
      ]
    },
    {
      "cell_type": "markdown",
      "metadata": {
        "id": "DTsiTSprfPtQ"
      },
      "source": [
        "### **[딕셔너리]**"
      ]
    },
    {
      "cell_type": "markdown",
      "metadata": {
        "id": "n5XA-oqKgARN"
      },
      "source": [
        "**딕셔너리 키(key)와 값(value)에 접근하기**"
      ]
    },
    {
      "cell_type": "code",
      "execution_count": null,
      "metadata": {
        "id": "JcVVvEfAgA77"
      },
      "outputs": [],
      "source": [
        "scores = {'국어': 100, '수학': 90, '영어': 80}\n",
        "\n",
        "print(scores['국어'])  # 딕셔너리는 키로 접근한다.\n",
        "\n",
        "# 방법1\n",
        "print('---방법1---')\n",
        "for key in scores:\n",
        "    print('%s => %s' % (key, scores[key]))\n",
        "\n",
        "# 방법2\n",
        "print('---방법2---')\n",
        "for key, value in scores.items():\n",
        "    print('%s => %s' % (key, value))"
      ]
    },
    {
      "cell_type": "code",
      "execution_count": null,
      "metadata": {
        "id": "yqlgBr22gH_7"
      },
      "outputs": [],
      "source": [
        "print(scores.keys())   # 키만 추출\n",
        "print(scores.values()) # 키만 추출\n",
        "print(scores.items())  # (키,값)쌍 형태로 추출"
      ]
    },
    {
      "cell_type": "markdown",
      "metadata": {
        "id": "ZRDlQlqOgBDO"
      },
      "source": [
        "**딕셔너리에 요소 추가/수정/삭제**"
      ]
    },
    {
      "cell_type": "code",
      "execution_count": null,
      "metadata": {
        "id": "DVW8BQbAgBKR"
      },
      "outputs": [],
      "source": [
        "# 키로 요소 추가하기\n",
        "scores['music'] = 100\n",
        "print(scores)\n",
        "\n",
        "# 요소 값 수정하기\n",
        "scores['수학'] = 99\n",
        "print(scores)\n",
        "\n",
        "# 요소 삭제하기\n",
        "del (scores['영어'])\n",
        "print(scores)"
      ]
    },
    {
      "cell_type": "markdown",
      "metadata": {
        "id": "0SWp1LN08GGY"
      },
      "source": [
        "------"
      ]
    },
    {
      "cell_type": "markdown",
      "metadata": {
        "id": "x4FIhV_y8GGZ"
      },
      "source": [
        "### 2-2. 조건문과 반목문으로 흐름 제어하기"
      ]
    },
    {
      "cell_type": "markdown",
      "metadata": {
        "id": "LPe_skHf8GGZ"
      },
      "source": [
        "### **[조건문]**"
      ]
    },
    {
      "cell_type": "markdown",
      "metadata": {
        "id": "Ar6JKwtB8GGZ"
      },
      "source": [
        "#### 실습문제 : 짝수 홀수 판별하기\n",
        "숫자를 입력 받아 짝수/홀수를 판별하는 코드를 만들어 보세요."
      ]
    },
    {
      "cell_type": "code",
      "execution_count": null,
      "metadata": {
        "id": "09w2BCcN8GGZ",
        "outputId": "4bf8e192-bd6e-48c3-cfe3-8db8f4e908b5"
      },
      "outputs": [
        {
          "name": "stdout",
          "output_type": "stream",
          "text": [
            "숫자를 입력해 주세요: 43\n",
            "입력된 수 : 43 ==> 홀수\n"
          ]
        }
      ],
      "source": [
        "x = int(input('숫자를 입력해 주세요: '))\n",
        "\n",
        "if x % 2 == 0:\n",
        "    print('입력된 수 : %d ==> 짝수' % x)\n",
        "else:\n",
        "    print('입력된 수 : %d ==> 홀수' % x)"
      ]
    },
    {
      "cell_type": "markdown",
      "metadata": {
        "id": "kJuobsMS8GGZ"
      },
      "source": [
        "#### 실습문제 : 직각 삼각형 판별하기\n",
        "피타고라스 정리에 의해 직각삼각형의 세 변의 길이에 대한 관계는 아래와 같습니다. 이 정리를 이용하여 세 변의 길이를 입력 받은 삼각형이 직각삼각형인지 아닌지 판별하는 프로그램을 만들어 보세요"
      ]
    },
    {
      "cell_type": "code",
      "execution_count": null,
      "metadata": {
        "id": "YWDF2qmn8GGZ",
        "outputId": "9a71bb78-a94d-4a1c-d7ea-01f601f4ab02"
      },
      "outputs": [
        {
          "name": "stdout",
          "output_type": "stream",
          "text": [
            "주민번호 : 191218-1234567\n",
            "1919년 12월 18일, 102세, 남성\n",
            "1919년 12월 18일, 103세, 남성\n"
          ]
        }
      ],
      "source": [
        "# 1. 세 변의 길이 입력 받기\n",
        "a = int(input('변 a의 길이: '))\n",
        "b = int(input('변 b의 길이: '))\n",
        "c = int(input('변 c의 길이: '))\n",
        "\n",
        "# print(f'{a**2}, {b**2}, {c**2}')\n",
        "print('-' * 30)  # 분리 선\n",
        "\n",
        "# 2. 직각삼각형 판별하기\n",
        "if (a**2 + b**2) == c**2:\n",
        "    print('직각삼각형입니다')\n",
        "else:\n",
        "    print('직각삼각형이 아닙니다')"
      ]
    },
    {
      "cell_type": "markdown",
      "metadata": {
        "id": "3SDdg7Aeg7MW"
      },
      "source": [
        "### 실습문제 : 커피 자판기 조건문\n",
        "아래 조건을 만족하는 커피 자동주문 머신을 만들어보세요.<br><br>\n",
        "[커피 자동주문 머신]<br>\n",
        "친구들과 현금 커피 자동주문 머신 앞에서\n",
        " - 아메리카노 2잔과 카페라테 2잔 카푸치노 1잔을 주문하였다.\n",
        " - 아메리카노 한잔에 2500원이고\n",
        " - 카페라테는 한잔에 3000원\n",
        " - 카푸치노는 한잔에 3000원이다.\n",
        "커피 종류와 잔 수를 결정한 후 현금 15000원을 투입하고 잔돈을 1000원 받았다."
      ]
    },
    {
      "cell_type": "code",
      "execution_count": null,
      "metadata": {
        "id": "BZlOMJHKg7dN"
      },
      "outputs": [],
      "source": [
        "menu = '''[커피 자동주문 머신 메뉴]\n",
        "------------------------------\n",
        "-아메리카노는 2500원\n",
        "-카레라떼는 3000원\n",
        "-카푸치노는 3000원\n",
        "입니다. 원하시는 커피종류와 잔수를 입력하세요.\n",
        "------------------------------'''\n",
        "print(menu)\n",
        "coffee1 = int(input(\"아메리카노 몇잔?\"))\n",
        "coffee2 = int(input(\"카페라떼 몇잔?\"))\n",
        "coffee3 = int(input(\"카푸치노 몇잔?\"))\n",
        "\n",
        "sum = coffee1*2500 + coffee2*3000 + coffee3*3000\n",
        "print(\"지불할 총 금액은 \", sum, \"원 입니다\")\n",
        "print('------------------------------')\n",
        "\n",
        "money = int(input(\"돈을 넣어주세요~: \"))\n",
        "change = money - sum\n",
        "if change < 0:\n",
        "    print(\"입력한 금액이 부족합니다. \", change*-1, \"원을 더 넣어주세요.\")\n",
        "else:\n",
        "    print(\"거스름돈은 \", change, \"원 입니다\")"
      ]
    },
    {
      "cell_type": "markdown",
      "metadata": {
        "id": "Q31ZlqMchT2f"
      },
      "source": [
        "#### if와 else 문장을 --> elif 문장으로 변환하기"
      ]
    },
    {
      "cell_type": "code",
      "execution_count": null,
      "metadata": {
        "id": "9m8hAaSMhUId"
      },
      "outputs": [],
      "source": [
        "# if, else 문장\n",
        "pocket = ['paper', 'handphone']\n",
        "card = True\n",
        "\n",
        "if 'money' in pocket:\n",
        "    print('택시를 타고 가세요')\n",
        "else:\n",
        "    if card:\n",
        "        print('택시를 타고 가세요')\n",
        "    else:\n",
        "        print('걸어서 가세요')"
      ]
    },
    {
      "cell_type": "code",
      "execution_count": null,
      "metadata": {
        "id": "JGZXfbdNhgJN"
      },
      "outputs": [],
      "source": [
        "# if elif 문장\n",
        "pocket = ['paper', 'handphone']\n",
        "card = True\n",
        "\n",
        "if 'money' in pocket:\n",
        "    print('택시를 타고 가세요')\n",
        "elif card:\n",
        "    print('택시를 타고 가세요')\n",
        "else:\n",
        "    print('걸어서 가세요')"
      ]
    },
    {
      "cell_type": "markdown",
      "metadata": {
        "id": "Io13oQKLhgph"
      },
      "source": [
        "#### 조건부 표현식"
      ]
    },
    {
      "cell_type": "code",
      "execution_count": null,
      "metadata": {
        "id": "h0V6WqWchnTA"
      },
      "outputs": [],
      "source": [
        "score = int(input('점수를 입력하세요: '))\n",
        "message = \"success!\" if score >=60 else \"failure!\"\n",
        "print(message)"
      ]
    },
    {
      "cell_type": "markdown",
      "metadata": {
        "id": "4RoolGBF8GGa"
      },
      "source": [
        "------"
      ]
    },
    {
      "cell_type": "markdown",
      "metadata": {
        "id": "G2T6Nybt8GGa"
      },
      "source": [
        "### **[반복문-for]**"
      ]
    },
    {
      "cell_type": "markdown",
      "metadata": {
        "id": "HuWJNA-T8GGa"
      },
      "source": [
        "#### 실습문제 : 1~N까지 합계 구하기\n",
        "숫자를 입력받아 1~n까지의 합을 구할 때 짝수를 제외하고 합을 구하는 프로그램을 만들어 보세요."
      ]
    },
    {
      "cell_type": "code",
      "execution_count": null,
      "metadata": {
        "id": "t4NbQOOe8GGa",
        "outputId": "be70c1c9-41b5-4dfc-dc8a-b389780f31f5"
      },
      "outputs": [
        {
          "name": "stdout",
          "output_type": "stream",
          "text": [
            "합계를 구할 숫자 입력:100\n",
            "1 ~ 100까지 짝수를 제외한 합은: 2500\n"
          ]
        }
      ],
      "source": [
        "n = int(input('합계를 구할 숫자 입력:'))\n",
        "hap = 0\n",
        "\n",
        "for i in range(1,n+1,2):\n",
        "    hap = hap + i\n",
        "\n",
        "print(f'1 ~ {n}까지 짝수를 제외한 합은: {hap}')"
      ]
    },
    {
      "cell_type": "markdown",
      "metadata": {
        "id": "h93aJfzOiJEc"
      },
      "source": [
        "### [실습문제] turtle로 정오각형 그리기\n",
        "#### 주의! : turtle은 가능한 IDLE 또는 에디터에서 사용한다.\n",
        "Turtle 이용해서 정오각형을 그리는 코드이다. 이것을 for 반복문을 이용하여 코드를 줄여보세요."
      ]
    },
    {
      "cell_type": "code",
      "execution_count": null,
      "metadata": {
        "id": "Qb9JdImXiJQ8"
      },
      "outputs": [],
      "source": [
        "import turtle\n",
        "\n",
        "t=turtle.Pen()    # 펜블럭\n",
        "# t.shape('turtle') # 커서 모양\n",
        "# t.color('red')    # 선 색생\n",
        "# t.pensize(5)      # 선 굵기\n",
        "\n",
        "t.forward(100)\n",
        "t.right(72)\n",
        "t.forward(100)\n",
        "t.right(72)\n",
        "t.forward(100)\n",
        "t.right(72)\n",
        "t.forward(100)\n",
        "t.right(72)\n",
        "t.forward(100)\n",
        "t.right(72)\n",
        "\n",
        "turtle.exitonclick()"
      ]
    },
    {
      "cell_type": "code",
      "execution_count": null,
      "metadata": {
        "id": "NvZvK4qiiQCS"
      },
      "outputs": [],
      "source": [
        "import turtle\n",
        "\n",
        "t=turtle.Pen()    # 펜블럭\n",
        "\n",
        "t.shape('turtle') # 커서 모양\n",
        "t.color('blue')    # 선 색생\n",
        "t.pensize(5)      # 선 굵기\n",
        "\n",
        "for i in range(5):\n",
        "    t.forward(100)\n",
        "    t.right(360/5)\n",
        "\n",
        "turtle.exitonclick()"
      ]
    },
    {
      "cell_type": "code",
      "execution_count": null,
      "metadata": {
        "id": "yB44V9CfiTUa"
      },
      "outputs": [],
      "source": [
        "#벌집 그리기\n",
        "import turtle\n",
        "\n",
        "t=turtle.Turtle()\n",
        "# t.up()\n",
        "# t.goto(-30, 50)\n",
        "# t.down()\n",
        "\n",
        "def honeycomb(): # 벌집 그리기\n",
        "    for i in range(6):\n",
        "        for _ in range(6):\n",
        "            t.forward(100)\n",
        "            t.left(60)\n",
        "        t.forward(100)\n",
        "        t.right(60)\n",
        "\n",
        "honeycomb()\n",
        "turtle.exitonclick()"
      ]
    },
    {
      "cell_type": "code",
      "execution_count": null,
      "metadata": {
        "id": "crtkrhFLiaEz"
      },
      "outputs": [],
      "source": [
        "# 마우스로 클릭한 위치에 별 그리기\n",
        "import turtle\n",
        "t = turtle.Turtle()\n",
        "\n",
        "t.speed(0)  # 0: 그리기 속도 가장 빠르게\n",
        "t.screen.bgcolor('black')\n",
        "t.color('yellow') # (거북이)그리기 색상 노랑\n",
        "t.clear()         # 화면 지우기\n",
        "t.penup()\n",
        "\n",
        "# 별 그리기\n",
        "def drawStar(x, y):\n",
        "    t.goto(x, y)\n",
        "    t.pendown()\n",
        "    t.begin_fill()\n",
        "    for _ in range(5):\n",
        "        t.forward(20)\n",
        "        t.right(144)\n",
        "    t.end_fill()\n",
        "    t.penup()\n",
        "\n",
        "# 마우스로 화면 클릭하기\n",
        "turtle.onscreenclick(drawStar)\n",
        "t.ht()\n",
        "\n",
        "# 화면에 포커스가 있는 상태 유지하기\n",
        "turtle.listen()"
      ]
    },
    {
      "cell_type": "markdown",
      "metadata": {
        "id": "bIFYG9GZi1au"
      },
      "source": [
        "### **[반복문-while]**"
      ]
    },
    {
      "cell_type": "code",
      "execution_count": null,
      "metadata": {
        "id": "3AUjxAga8GGb",
        "outputId": "d3b87194-0c31-48cd-a3f0-0cd141cd4e77",
        "scrolled": true
      },
      "outputs": [
        {
          "name": "stdout",
          "output_type": "stream",
          "text": [
            "더할 첫 번째 숫자: 10\n",
            "더할 두 번째 숫자: 20\n",
            "10 + 20 = 30\n",
            "더할 첫 번째 숫자: 55\n",
            "더할 두 번째 숫자: 30\n",
            "55 + 30 = 85\n",
            "더할 첫 번째 숫자: 0\n",
            "0을 입력해서 반복문을 탈출했습니다.\n"
          ]
        }
      ],
      "source": [
        "num1, num2 = 0, 0\n",
        "\n",
        "while True:\n",
        "    num1 = int(input(\"더할 첫 번째 숫자: \"))\n",
        "    if num1 == 0:\n",
        "        break\n",
        "    num2 = int(input(\"더할 두 번째 숫자: \"))\n",
        "\n",
        "    print(f'{num1} + {num2} = {num1 + num2}')\n",
        "\n",
        "print(\"0을 입력해서 반복문을 탈출했습니다.\")\n"
      ]
    },
    {
      "cell_type": "markdown",
      "metadata": {
        "id": "p7P0Vy-XjIBz"
      },
      "source": [
        "### 실습문제 : 나무 열 번 찍어 넘기기"
      ]
    },
    {
      "cell_type": "code",
      "execution_count": 53,
      "metadata": {
        "colab": {
          "base_uri": "https://localhost:8080/"
        },
        "id": "A1OSHn1tjNE5",
        "outputId": "c8215511-fd48-48ad-9e0a-f2638ed1ea6a"
      },
      "outputs": [
        {
          "name": "stdout",
          "output_type": "stream",
          "text": [
            "나무를 1번 찍었습니다.\n",
            "나무를 2번 찍었습니다.\n",
            "나무를 3번 찍었습니다.\n",
            "나무를 4번 찍었습니다.\n",
            "나무를 5번 찍었습니다.\n",
            "나무를 6번 찍었습니다.\n",
            "나무를 7번 찍었습니다.\n",
            "나무를 8번 찍었습니다.\n",
            "나무를 9번 찍었습니다.\n",
            "나무를 10번 찍었습니다.\n",
            "나무 넘어 갑니다~\n"
          ]
        }
      ],
      "source": [
        "treeHit = 0\n",
        "while treeHit < 10:\n",
        "    treeHit += 1\n",
        "    print(f\"나무를 {treeHit}번 찍었습니다.\")\n",
        "print(\"나무 넘어 갑니다~\")"
      ]
    },
    {
      "cell_type": "markdown",
      "metadata": {
        "id": "xLogGjPX8GGb"
      },
      "source": [
        "#### 실습문제: 무한 반복 빠져나오기\n",
        "무한 반복문을 빠져나오기 위한 프로그램을 만들어 보세요"
      ]
    },
    {
      "cell_type": "code",
      "execution_count": null,
      "metadata": {
        "id": "yq1VvWQb8GGb",
        "outputId": "79601563-b679-4b19-e646-93d9902a1cb7"
      },
      "outputs": [
        {
          "name": "stdout",
          "output_type": "stream",
          "text": [
            "\n",
            "    1.Add   2.Del   3.Modify   4.Quit\n",
            "    \n",
            "    Enter number:  1\n",
            "\n",
            "    1.Add   2.Del   3.Modify   4.Quit\n",
            "    \n",
            "    Enter number:  2\n",
            "\n",
            "    1.Add   2.Del   3.Modify   4.Quit\n",
            "    \n",
            "    Enter number:  4\n"
          ]
        }
      ],
      "source": [
        "prompt = \"\"\"\n",
        "    1.Add   2.Del   3.Modify   4.Quit\n",
        "\n",
        "    Enter number: \"\"\"   # 1.코드를 실행하면 출력되는 부분\n",
        "\n",
        "number = 0\n",
        "\n",
        "while number != 4:  # 4.반복문 빠져나오는 조건\n",
        "    number = int(input(prompt+\" \"))   # 2.사용자 입력 부분"
      ]
    },
    {
      "cell_type": "markdown",
      "metadata": {
        "id": "H3QS9PpM8GGb"
      },
      "source": [
        "#### 실습문제\n",
        "공을 일정 높이에서 던졌을 때, 원래 높이의 1/2만큼 튀어 오른다고 합니다. 그러다가 높이가 0.00001m보다 낮으면 튀어오르지 않는다고 합니다. while문을 이용하여 이 프로그램을 만들어 보세요."
      ]
    },
    {
      "cell_type": "code",
      "execution_count": null,
      "metadata": {
        "id": "nRTqUvpG8GGc",
        "scrolled": true
      },
      "outputs": [],
      "source": [
        "length = int(input('공의 높이를 입력하세요(meter) : '))\n",
        "meter, cnt = length, 0\n",
        "while True:\n",
        "    meter /= 2\n",
        "    if meter < 0.00001:\n",
        "        break\n",
        "    cnt += 1\n",
        "\n",
        "print(f'{length} 위치에서 공의 튕긴 횟수는 총 {cnt}번 입니다.')"
      ]
    },
    {
      "cell_type": "markdown",
      "metadata": {
        "id": "bBpYo7he8GGc"
      },
      "source": [
        "#### 실습문제 : 도둑잡기 게임 만들기\n",
        "경찰에 쫓기던 범인이 3개의 방 중에 한 곳에 숨어버렸습니다. 범인은 방문을 열 때마다 무작위로 3개의 방 중 하나의 방으로 이동합니다. 3개의 방 중 하나의 방을 선택했을 때 범인이 있다면 100점, 없을 때 -10점을 부여하고 범인을 잡으면 게임을 종료하는 프로그램을 만들어 보세요."
      ]
    },
    {
      "cell_type": "code",
      "execution_count": null,
      "metadata": {
        "id": "Yjs0Tp0m8GGc"
      },
      "outputs": [],
      "source": [
        "import random\n",
        "score = 0\n",
        "\n",
        "while True:  # 무한반복\n",
        "    # 1.무작위로 범인 방 배치\n",
        "    room = random.randint(1, 3)\n",
        "\n",
        "    # 2.사용자로부터 방 번호 입력 받기\n",
        "    n = int(input('방 번호를 입력하세요(1,2,3): '))\n",
        "\n",
        "    # 3.사용자가 입력한 방 번호와 범인이 있는 방 비교\n",
        "    if n == room:               # 4.범인을 찾으면\n",
        "        print('범인 체포!')     # 범인 체포“라는 메시지 출력\n",
        "        score += 100            # 점수 증가\n",
        "        break                   # 무한반복 빠져 나가기\n",
        "\n",
        "    else:                        # 5.범인을 찾지 못하면\n",
        "        print('범인이 없습니다.' )# “범인을 찾지 못했다“라는 메시지 출력\n",
        "        score -= 10               # 점수 감소\n",
        "\n",
        "print('게임 종료!')        # 게임 종료 메시지 출력\n",
        "print(f'점수: {score} 점') # 최종 점수 출력"
      ]
    },
    {
      "cell_type": "markdown",
      "metadata": {
        "id": "iPCnjI9UkoHr"
      },
      "source": [
        "### 실습문제 :  커피 자동주문 프로그램 업그레이드\n",
        "앞에서 만들어 본 커피 자동주문 머신 프로그램을 while문을 이용하여 돈을 모두 지불할 때까지 돈을 입력 받도록 프로그램 기능 수정하기"
      ]
    },
    {
      "cell_type": "code",
      "execution_count": null,
      "metadata": {
        "id": "HtKho6P3kxtS"
      },
      "outputs": [],
      "source": [
        "menu = '''[커피 자동주문 머신 메뉴]\n",
        "------------------------------\n",
        "-아메리카노는 2500원\n",
        "-카레라떼는 3000원\n",
        "-카푸치노는 3000원\n",
        "입니다. 원하시는 커피종류와 잔수를 입력하세요.\n",
        "------------------------------'''\n",
        "print(menu)\n",
        "coffee1 = int(input(\"아메리카노 몇잔?\"))\n",
        "coffee2 = int(input(\"카페라떼 몇잔?\"))\n",
        "coffee3 = int(input(\"카푸치노 몇잔?\"))\n",
        "\n",
        "total = coffee1*2500 + coffee2*3000 + coffee3*3000\n",
        "print(\"지불할 총 금액은 \", total, \"원 입니다\")\n",
        "\n",
        "money, change = 0, 0\n",
        "while True:\n",
        "    print('-'*30)\n",
        "    money = int(input(f'[지불할 금액:{total}] : 돈을 넣어주세요: '))\n",
        "\n",
        "    change = money - total\n",
        "    if change < 0:\n",
        "        print(\"입력한 금액이 부족합니다. \", change*-1, \"원을 더 넣어주세요.\")\n",
        "        total = total - money\n",
        "    else:\n",
        "        print(\"거스름돈은 \", change, \"원 입니다\")\n",
        "        break\n",
        "\n",
        "print('-'*30)\n",
        "print('커피 맛있게 드세요~~~')"
      ]
    },
    {
      "cell_type": "markdown",
      "metadata": {
        "id": "7GhEbWbZk7E6"
      },
      "source": [
        "### **[난수(Random Number)]**"
      ]
    },
    {
      "cell_type": "markdown",
      "metadata": {
        "id": "AKBc_UvYk7Xj"
      },
      "source": [
        "### 실습문제 : 임의의 두 수 합 구하기\n",
        "1부터 10까지의 범위를 갖는 임의의 두 정수 a, b를 더하여 결과 출력하기"
      ]
    },
    {
      "cell_type": "code",
      "execution_count": null,
      "metadata": {
        "id": "C4ehMBmgk7pP"
      },
      "outputs": [],
      "source": [
        "import random\n",
        "\n",
        "a = random.randint(1, 10)\n",
        "b = random.randint(1, 10)\n",
        "print(f'{a} + {b} = {a + b}')"
      ]
    },
    {
      "cell_type": "markdown",
      "metadata": {
        "id": "cMhO5aWxlOF7"
      },
      "source": [
        "### 실습문제 : 던져 나온 주사위의 눈금별 횟수 카운팅\n",
        "주사위를 100번 던져서 나오는 숫자를 각 숫자별로 카운트하고 가장 많이 나온 숫자와 그 숫자의 횟수를 출력하시오."
      ]
    },
    {
      "cell_type": "code",
      "execution_count": null,
      "metadata": {
        "id": "XUHOX-OzlONF"
      },
      "outputs": [],
      "source": [
        "import random\n",
        "\n",
        "dice=[0,0,0,0,0,0]\n",
        "for i in range(100):\n",
        "    x = random.randint(1,6)\n",
        "    dice[x-1] += 1\n",
        "\n",
        "print(f'숫자별 개수: {dice}')\n",
        "print(f'가장 많이 나온 주사위 숫자: {max(dice)}, 횟수: { dice.index(max(dice)) + 1}')"
      ]
    },
    {
      "cell_type": "markdown",
      "metadata": {
        "id": "FTX-Fvb28GGc"
      },
      "source": [
        "------"
      ]
    },
    {
      "cell_type": "markdown",
      "metadata": {
        "id": "8tdBEUuy8GGe"
      },
      "source": [
        "### 2-3. 함수를 이용하여 알고리즘 만들기"
      ]
    },
    {
      "cell_type": "markdown",
      "metadata": {
        "id": "A50BCkk98GGe"
      },
      "source": [
        "### **[함수 & 모듈]**"
      ]
    },
    {
      "cell_type": "code",
      "execution_count": null,
      "metadata": {
        "id": "3gNw75bI8GGe"
      },
      "outputs": [],
      "source": [
        "def nSum(a, b):\n",
        "    c = a + b\n",
        "    return c\n",
        "\n",
        "nSum(50, 3)"
      ]
    },
    {
      "cell_type": "markdown",
      "metadata": {
        "id": "ZH2oJDOzmgta"
      },
      "source": [
        "####  함수의 구조\n",
        "매개변수와 리턴값에 따른 함수의 유형 예"
      ]
    },
    {
      "cell_type": "markdown",
      "metadata": {
        "id": "ZVu_uCmBmwX9"
      },
      "source": [
        "- 매개변수(X), 리턴값(X)"
      ]
    },
    {
      "cell_type": "code",
      "execution_count": null,
      "metadata": {
        "id": "PhoFdGdpmg2i"
      },
      "outputs": [],
      "source": [
        "def func():\n",
        "    print('안녕하세요!')\n",
        "\n",
        "print( func() )"
      ]
    },
    {
      "cell_type": "markdown",
      "metadata": {
        "id": "rYJvu1mKm1lA"
      },
      "source": [
        "- 매개변수(X), 리턴값(O)"
      ]
    },
    {
      "cell_type": "code",
      "execution_count": null,
      "metadata": {
        "id": "RtmltcdOm1sg"
      },
      "outputs": [],
      "source": [
        "def func():\n",
        "    print('안녕하세요!')\n",
        "    return '처리완료!'\n",
        "\n",
        "print( func() )"
      ]
    },
    {
      "cell_type": "markdown",
      "metadata": {
        "id": "kAiXc3qom1zq"
      },
      "source": [
        "- 매개변수(O), 리턴값(X)"
      ]
    },
    {
      "cell_type": "code",
      "execution_count": null,
      "metadata": {
        "id": "mdneVBp_m16L"
      },
      "outputs": [],
      "source": [
        "def func(a, b):\n",
        "    print('덧셈: %d + %d = %d' % (a, b, a+b))\n",
        "\n",
        "print( func(5, 7) )"
      ]
    },
    {
      "cell_type": "markdown",
      "metadata": {
        "id": "UWx5mc2Bm2Ah"
      },
      "source": [
        "- 매개변수(O), 리턴값(O)"
      ]
    },
    {
      "cell_type": "code",
      "execution_count": null,
      "metadata": {
        "id": "u40Eqnc1m2IB"
      },
      "outputs": [],
      "source": [
        "def func(a, b):\n",
        "    print('덧셈: %d + %d = %d' % (a, b, a+b))\n",
        "    return a+b\n",
        "\n",
        "print( func(5, 7) )"
      ]
    },
    {
      "cell_type": "markdown",
      "metadata": {
        "id": "Oq6XLdiqm9lV"
      },
      "source": [
        "### 실습문제 : 암스트롱수 구하기\n",
        "다음 조건을 참고하여 암스트롱수를 구하는 함수를 만들어 출력하는 프로그램을 만들어 보세요.\n",
        "- **암스트롱수** : 세 자리의 정수 중에서 각 자리의 수를 세 제곱한 수의 합과 자신이 같은 수"
      ]
    },
    {
      "cell_type": "code",
      "execution_count": null,
      "metadata": {
        "id": "DvFLshFqm9t8"
      },
      "outputs": [],
      "source": [
        "def is_armstringNumber(N):\n",
        "    _3, _2, _1 = int(str(N)[0]), int(str(N)[1]),  int(str(N)[2])\n",
        "    if N == (_3**3 + _2**3 + _1**3):\n",
        "        return True\n",
        "    else:\n",
        "        return False\n",
        "\n",
        "\n",
        "for i in range(100, 1000):\n",
        "    if is_armstringNumber(i):\n",
        "        print(\"[%i] is armstrong number\" % i)"
      ]
    },
    {
      "cell_type": "markdown",
      "metadata": {
        "id": "Kvzu_J_a8GGf"
      },
      "source": [
        "#### 실습문제\n",
        "아래 조건을 만족하는 커피 자동주문 머신을 만들어보세요."
      ]
    },
    {
      "cell_type": "code",
      "execution_count": null,
      "metadata": {
        "id": "x1jdgfzq8GGf",
        "outputId": "13498a34-cc94-425e-9408-81b60ebc6ce9",
        "scrolled": true
      },
      "outputs": [
        {
          "name": "stdout",
          "output_type": "stream",
          "text": [
            "[커피 자동주문 머신 메뉴]\n",
            "------------------------------\n",
            "-아메리카노는 2500원\n",
            "-카레라떼는 3000원\n",
            "-카푸치노는 3000원\n",
            "입니다. 원하시는 커피종류와 잔수를 입력하세요.\n",
            "------------------------------\n",
            "아메리카노 몇잔?1\n",
            "카페라떼 몇잔?1\n",
            "카푸치노 몇잔?1\n",
            "지불할 총 금액은  8500 원 입니다\n",
            "돈을 넣어주세요~4000\n",
            "입력한 금액이 부족합니다.  4500 원을 넣어주세요.\n"
          ]
        }
      ],
      "source": [
        "def coffeeMachine(coffee1, coffee2, coffee3):\n",
        "\n",
        "    total = coffee1*2500 + coffee2*3000 + coffee3*3000\n",
        "    print(\"지불할 총 금액은 \", total, \"원 입니다\")\n",
        "\n",
        "    money, change = 0, 0\n",
        "    while True:\n",
        "        print('-'*30)\n",
        "        money = int(input(f'[지불할 금액:{total}] : 돈을 넣어주세요: '))\n",
        "\n",
        "        change = money - total\n",
        "        if change < 0:\n",
        "            print(\"입력한 금액이 부족합니다. \", change*-1, \"원을 더 넣어주세요.\")\n",
        "            total = total - money\n",
        "        else:\n",
        "            print(\"거스름돈은 \", change, \"원 입니다\")\n",
        "            break\n",
        "\n",
        "\n",
        "menu = '''[커피 자동주문 머신 메뉴]\n",
        "------------------------------\n",
        "-아메리카노는 2500원\n",
        "-카레라떼는 3000원\n",
        "-카푸치노는 3000원\n",
        "입니다. 원하시는 커피종류와 잔수를 입력하세요.\n",
        "------------------------------'''\n",
        "print(menu)\n",
        "coffee1 = int(input(\"아메리카노 몇잔?: \"))\n",
        "coffee2 = int(input(\"카페라떼 몇잔?: \"))\n",
        "coffee3 = int(input(\"카푸치노 몇잔?: \"))\n",
        "\n",
        "coffeeMachine(coffee1, coffee2, coffee3)"
      ]
    },
    {
      "cell_type": "markdown",
      "metadata": {
        "id": "Ajjvg18_8GGg"
      },
      "source": [
        "### 2-4. [미션] 응용 프로그램 만들기"
      ]
    },
    {
      "cell_type": "markdown",
      "metadata": {
        "id": "SD7IuCtyEfxZ"
      },
      "source": [
        "\n",
        "\n",
        "---\n",
        "THE END\n",
        "\n"
      ]
    },
    {
      "cell_type": "markdown",
      "metadata": {
        "id": "RQoDVEJ38GGg"
      },
      "source": [
        "------"
      ]
    }
  ],
  "metadata": {
    "colab": {
      "provenance": []
    },
    "kernelspec": {
      "display_name": "Python 3",
      "language": "python",
      "name": "python3"
    },
    "language_info": {
      "codemirror_mode": {
        "name": "ipython",
        "version": 3
      },
      "file_extension": ".py",
      "mimetype": "text/x-python",
      "name": "python",
      "nbconvert_exporter": "python",
      "pygments_lexer": "ipython3",
      "version": "3.9.10"
    }
  },
  "nbformat": 4,
  "nbformat_minor": 0
}
