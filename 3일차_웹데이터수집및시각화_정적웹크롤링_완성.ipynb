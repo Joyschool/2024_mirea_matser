{
  "cells": [
    {
      "cell_type": "markdown",
      "id": "fJxi6vYZ4rdB",
      "metadata": {
        "id": "fJxi6vYZ4rdB"
      },
      "source": [
        "# 웹 데이터 수집 및 시각화"
      ]
    },
    {
      "cell_type": "markdown",
      "id": "h0qaUXpk4sIv",
      "metadata": {
        "id": "h0qaUXpk4sIv"
      },
      "source": [
        "## 1. 웹 크롤링으로 데이터 수집"
      ]
    },
    {
      "cell_type": "markdown",
      "id": "XxxWGl5l5cg7",
      "metadata": {
        "id": "XxxWGl5l5cg7"
      },
      "source": [
        "### #그래프에서 한글사용하는 방법\n",
        "- **(코랩에서)한글폰트 설치하기**"
      ]
    },
    {
      "cell_type": "code",
      "execution_count": null,
      "id": "FIjAaO5w5dFZ",
      "metadata": {
        "colab": {
          "base_uri": "https://localhost:8080/"
        },
        "id": "FIjAaO5w5dFZ",
        "outputId": "06db41a3-0566-4f2a-c233-e2f1653a2842"
      },
      "outputs": [],
      "source": [
        "!sudo apt-get install -y fonts-nanum\n",
        "!sudo fc-cache -fv\n",
        "!rm ~/.cache/matplotlib -rf\n",
        "\n",
        "# 코랩에서 위 코드를 실행시킨 후  반드시 코랩 메뉴: \"런타임>런타임 다시 시작\" 합니다."
      ]
    },
    {
      "cell_type": "markdown",
      "id": "AVd9eWKQ5geE",
      "metadata": {
        "id": "AVd9eWKQ5geE"
      },
      "source": [
        "- **한글 폰트 지정하기**"
      ]
    },
    {
      "cell_type": "code",
      "execution_count": 1,
      "id": "Yrr8KJBG5hAD",
      "metadata": {
        "id": "Yrr8KJBG5hAD"
      },
      "outputs": [],
      "source": [
        "# 코랩에서 한글 폰트 종류와 이름이 win과 다를 수 있다!!!\n",
        "# 코랩: NanumGothic, 윈도우: Malgun Gothic\n",
        "import matplotlib.pyplot as plt\n",
        "plt.rcParams.update({'font.family': 'NanumGothic',\n",
        "                     'font.size': 12,\n",
        "                     'figure.figsize': (6, 4),\n",
        "                     'axes.unicode_minus':  False }) # 폰트 설정"
      ]
    },
    {
      "cell_type": "markdown",
      "id": "xKVwMm3T4sDO",
      "metadata": {
        "id": "xKVwMm3T4sDO"
      },
      "source": [
        "### 1) 웹 크롤링 기초"
      ]
    },
    {
      "cell_type": "markdown",
      "id": "84e7e431",
      "metadata": {
        "id": "84e7e431"
      },
      "source": [
        "### 라이브러리 설치하기"
      ]
    },
    {
      "cell_type": "code",
      "execution_count": null,
      "id": "8c4e2b87",
      "metadata": {
        "id": "8c4e2b87"
      },
      "outputs": [],
      "source": [
        "# 정적 크롤링을 위한 requests 설치\n",
        "!pip install requests"
      ]
    },
    {
      "cell_type": "code",
      "execution_count": null,
      "id": "10fc94d8",
      "metadata": {
        "id": "10fc94d8"
      },
      "outputs": [],
      "source": [
        "# HTML과 XML 문서를 파싱하기 위한 파이썬 패키지\n",
        "!pip install beautifulsoup4"
      ]
    },
    {
      "cell_type": "code",
      "execution_count": null,
      "id": "qWFf0C8852IZ",
      "metadata": {
        "colab": {
          "base_uri": "https://localhost:8080/"
        },
        "id": "qWFf0C8852IZ",
        "outputId": "b4529e4e-aac9-40d2-ac4e-aaa72b00eb68"
      },
      "outputs": [],
      "source": [
        "# 동적 크롤링을 위한 셀레니움 설치\n",
        "!pip install selenium"
      ]
    },
    {
      "cell_type": "code",
      "execution_count": null,
      "id": "5uqxJ2Xf6Wex",
      "metadata": {
        "colab": {
          "base_uri": "https://localhost:8080/"
        },
        "id": "5uqxJ2Xf6Wex",
        "outputId": "e4d94cee-3cc1-4a11-b90a-16bdc682121f"
      },
      "outputs": [],
      "source": [
        "# 동적 크롤링을 위한 크롬드라이버 자동설치 라이브러리 설치\n",
        "!pip install chromedriver-autoinstaller"
      ]
    },
    {
      "cell_type": "code",
      "execution_count": null,
      "id": "3f8480f3",
      "metadata": {
        "colab": {
          "base_uri": "https://localhost:8080/"
        },
        "id": "3f8480f3",
        "outputId": "4fab6ad8-f694-47ec-98b2-e93b6ef25671"
      },
      "outputs": [],
      "source": [
        "import requests\n",
        "import bs4\n",
        "import selenium\n",
        "print(requests.__version__)\n",
        "print(bs4.__version__)\n",
        "print(selenium.__version__)"
      ]
    },
    {
      "cell_type": "markdown",
      "id": "mJ-v8Qjk5CPp",
      "metadata": {
        "id": "mJ-v8Qjk5CPp"
      },
      "source": [
        "### 1) 웹 크롤링 이해하기"
      ]
    },
    {
      "cell_type": "markdown",
      "id": "aed0d7af",
      "metadata": {
        "id": "aed0d7af"
      },
      "source": [
        "- 웹 페이지(html) 가져오기"
      ]
    },
    {
      "cell_type": "code",
      "execution_count": null,
      "id": "sIxkxPRg42rD",
      "metadata": {
        "colab": {
          "base_uri": "https://localhost:8080/"
        },
        "id": "sIxkxPRg42rD",
        "outputId": "b83aeb3c-504e-48f4-e603-ac82687b5073"
      },
      "outputs": [],
      "source": [
        "import requests\n",
        "\n",
        "# 웹 페이지 요청하기(결과 Response=200 이면 성공!)\n",
        "requests.get(\"https://www.naver.com\")"
      ]
    },
    {
      "cell_type": "code",
      "execution_count": null,
      "id": "0BRs8FHc78t1",
      "metadata": {
        "id": "0BRs8FHc78t1"
      },
      "outputs": [],
      "source": [
        "import requests\n",
        "\n",
        "response = requests.get(\"https://google.com\")\n",
        "\n",
        "# 응답 상태\n",
        "print('#응답 상태: ', response.status_code)\n",
        "\n",
        "# 응답 바이너리 원문\n",
        "print('#응답 바이너리 원문: ', response.content)\n",
        "\n",
        "# 응답 UTF-8로 인코딩된 문자열\n",
        "print('#응답 UTF-8로 인코딩된 문자열: ', response.text)\n",
        "\n",
        "# 응답 헤더\n",
        "print('#응답 헤더: ', response.headers)\n",
        "\n",
        "# 응답 헤더: 콘텐트 유형\n",
        "print('#응답 헤더유형: ', response.headers['Content-Type'])"
      ]
    },
    {
      "cell_type": "markdown",
      "id": "AoW0-3Ftfn6-",
      "metadata": {
        "id": "AoW0-3Ftfn6-"
      },
      "source": [
        "\n",
        "\n",
        "---\n",
        "\n"
      ]
    },
    {
      "cell_type": "markdown",
      "id": "-IhYlWXofl2z",
      "metadata": {
        "id": "-IhYlWXofl2z"
      },
      "source": [
        "### 2) 정적 크롤링(스크래핑)"
      ]
    },
    {
      "cell_type": "markdown",
      "id": "L6_vCg4fGroe",
      "metadata": {
        "id": "L6_vCg4fGroe"
      },
      "source": [
        "#### **[실습] : 할리스 커피매장 정보 수집하기**\n",
        " - 매장정보 : https://www.hollys.co.kr/store/korea/korStore.do\n",
        " - 검색조건 사용 링크 : https://www.hollys.co.kr/store/korea/korStore2.do?pageNo=2&sido=&gugun=&store=\n"
      ]
    },
    {
      "cell_type": "code",
      "execution_count": null,
      "id": "2c58f5cf",
      "metadata": {
        "colab": {
          "base_uri": "https://localhost:8080/",
          "height": 1000
        },
        "id": "2c58f5cf",
        "outputId": "34938fba-8620-44f0-8196-4e423afa7505"
      },
      "outputs": [],
      "source": [
        "from bs4 import BeautifulSoup\n",
        "import urllib.request\n",
        "import pandas as pd\n",
        "import datetime\n",
        "\n",
        "MAX = 100    # 총 가져올 건수\n",
        "FILE = './hollys_매장정보.csv'\n",
        "\n",
        "#[CODE 1]\n",
        "def hollys_store(result):\n",
        "    cnt, MAX_flag = 0, False\n",
        "    for page in range(1,59):\n",
        "        Hollys_url = 'https://www.hollys.co.kr/store/korea/korStore2.do?pageNo=%d&sido=&gugun=&store=' %page\n",
        "        print(Hollys_url)\n",
        "        html = urllib.request.urlopen(Hollys_url)\n",
        "        # 데이터 파싱하기\n",
        "        soupHollys = BeautifulSoup(html, 'html.parser')\n",
        "        tag_tbody = soupHollys.find('tbody')\n",
        "        for store in tag_tbody.find_all('tr'):\n",
        "            if len(store) <= 3:\n",
        "                break\n",
        "            store_td = store.find_all('td')\n",
        "            store_name = store_td[1].string\n",
        "            store_sido = store_td[0].string\n",
        "            store_address = store_td[3].string\n",
        "            store_phone = store_td[5].string\n",
        "            result.append([store_name]+[store_sido]+[store_address]\n",
        "                          +[store_phone])\n",
        "            cnt += 1\n",
        "            print(f'[{cnt:0>3}] {store_name}  \\t {store_sido}')\n",
        "            if cnt == MAX:\n",
        "                MAX_flag = True\n",
        "                break\n",
        "        if MAX_flag:\n",
        "            break\n",
        "\n",
        "    return\n",
        "\n",
        "#[CODE 0]\n",
        "def main():\n",
        "    result = []\n",
        "    print('Hollys store crawling >>>>>>>>>>>>>>>>>>>>>>>>>>')\n",
        "    hollys_store(result)   #[CODE 1] 호출\n",
        "    hollys_tbl = pd.DataFrame(result, columns=('store', 'sido-gu', 'address','phone'))\n",
        "    hollys_tbl.to_csv(FILE, encoding='cp949', mode='w', index=True)\n",
        "    del result[:]\n",
        "    return hollys_tbl\n",
        "\n",
        "\n",
        "df = main()\n",
        "df"
      ]
    },
    {
      "cell_type": "markdown",
      "id": "OTLFBkYIHVZJ",
      "metadata": {
        "id": "OTLFBkYIHVZJ"
      },
      "source": [
        "#### **[실습] :  텍스트 데이터를 토큰화하여 빈도수를 구하고 빈도수에 따른 워드클라우드 만들기**\n",
        "- 앞에서 수집한 할리스 커피매장의 매장 위치 정보 중 지역(**sido-gu**) 정보를 이용하여 워드 클라우드 만들기\n",
        "- 필요한 라이브러리 및 주의사항\n",
        "    - 사이킷런 CountVectorizer클래스 사용 : 단어 빈도수 추출\n",
        "    - 단, 한글에서 불용어 처리 및 가중치 처리 등 자연어 텍스트 전처리에 필요한 여러 가지 방법은 여기서 다루지 않는다."
      ]
    },
    {
      "cell_type": "code",
      "execution_count": null,
      "id": "AJ1u5JwhHfjF",
      "metadata": {
        "id": "AJ1u5JwhHfjF"
      },
      "outputs": [],
      "source": [
        "# 사이킷런 설치하기\n",
        "#!pip install scikit-learn"
      ]
    },
    {
      "cell_type": "code",
      "execution_count": null,
      "id": "d16d6e91",
      "metadata": {
        "id": "d16d6e91"
      },
      "outputs": [],
      "source": [
        "#!pip install wordcloud"
      ]
    },
    {
      "cell_type": "code",
      "execution_count": null,
      "id": "mYKxCNg5HoGP",
      "metadata": {
        "colab": {
          "base_uri": "https://localhost:8080/",
          "height": 35
        },
        "id": "mYKxCNg5HoGP",
        "outputId": "4b0970ce-dce4-4d9d-c563-15bddb71c1d3"
      },
      "outputs": [],
      "source": [
        "import sklearn\n",
        "sklearn.__version__"
      ]
    },
    {
      "cell_type": "code",
      "execution_count": null,
      "id": "V5Ec5vy7Hrz5",
      "metadata": {
        "colab": {
          "base_uri": "https://localhost:8080/",
          "height": 517
        },
        "id": "V5Ec5vy7Hrz5",
        "outputId": "d33478a9-9edd-4292-8339-0446cc942f82"
      },
      "outputs": [],
      "source": [
        "import numpy as np\n",
        "import matplotlib.pyplot as plt\n",
        "from wordcloud import WordCloud\n",
        "import matplotlib.pyplot as plt\n",
        "plt.rcParams['figure.figsize'] = (10,6)\n",
        "\n",
        "# 말뭉치를 토큰화하여 빈도수 가져오기\n",
        "def get_wordTokenCount(corpus):\n",
        "    from sklearn.feature_extraction.text import CountVectorizer\n",
        "\n",
        "    # 말뭉치를 토큰화하기\n",
        "    vect = CountVectorizer().fit(corpus)\n",
        "    count = vect.transform(corpus).toarray().sum(axis=0)\n",
        "\n",
        "    # 토큰 빈도수로 정렬하고 토큰명 추출\n",
        "    idx = np.argsort(-count)  # 내림 정렬하여 인덱스 반환: 토큰의 인덱스\n",
        "    count = count[idx]        # 토큰의 빈도수\n",
        "    feature_name = np.array(vect.get_feature_names_out())[idx]  # 토큰값\n",
        "\n",
        "    # 빈도수 많은 순서대로 토큰명 10개만 출력\n",
        "    print(list(zip(feature_name, count))[:10])\n",
        "\n",
        "    return feature_name, count\n",
        "\n",
        "\n",
        "# 단어(토큰) 빈도수 막대 그래프 그리기\n",
        "def draw_wordTokenCountGraph(data, freq):\n",
        "    plt.bar(data, freq)\n",
        "    plt.grid()\n",
        "    plt.show()\n",
        "\n",
        "    # 그래프 그림 저장히기\n",
        "    plt.savefig(f'./token_bar_graph.png')\n",
        "\n",
        "# 워드클라우드 만들기\n",
        "def make_wordcloud(feature_name, count):\n",
        "    # 한글 폰트 경로를 설정\n",
        "    # font_path = 'malgun'  # C:/Windows/Fonts/    # window폰트\n",
        "    font_path = 'NanumGothic'  #/usr/share/fonts/truetype/nanum/NanumGothic.ttf  #코랩\n",
        "\n",
        "    # (토큰명, 빈도수) 딕셔너리 타입으로 변환\n",
        "    data = dict(zip(feature_name, count))\n",
        "\n",
        "    # 워드클라우드로 그래프로 시각화\n",
        "    wc = WordCloud(width = 1000, height = 600, background_color=\"white\", font_path=font_path)\n",
        "    plt.imshow(wc.generate_from_frequencies(data)) #딕셔너리\n",
        "    plt.axis(\"off\")\n",
        "    plt.show()\n",
        "\n",
        "    # 이미지 파일로 저장하기\n",
        "    wc.to_file(f'./워드클라우드.png')\n",
        "\n",
        "\n",
        "# 1.텍스트 말뭉치(corpus) 데이터 지정하기\n",
        "corpus = df['sido-gu'].to_list()\n",
        "# print(corpus)\n",
        "\n",
        "# 2.말뭉치를 토큰화하여 빈도수 가져오기\n",
        "feature_name, count = get_wordTokenCount(corpus)\n",
        "\n",
        "# 3.단어(토큰) 빈도수 막대 그래프 그리기(상위 10개)\n",
        "# draw_wordTokenCountGraph(feature_name[:10], count[:10])\n",
        "\n",
        "# 4.워드 클라우드 만들기\n",
        "make_wordcloud(feature_name, count)"
      ]
    },
    {
      "cell_type": "markdown",
      "id": "_4UpfgKjMZXm",
      "metadata": {
        "id": "_4UpfgKjMZXm"
      },
      "source": [
        "\n",
        "\n",
        "---\n",
        "\n"
      ]
    }
  ],
  "metadata": {
    "colab": {
      "provenance": []
    },
    "kernelspec": {
      "display_name": "Python 3 (ipykernel)",
      "language": "python",
      "name": "python3"
    },
    "language_info": {
      "codemirror_mode": {
        "name": "ipython",
        "version": 3
      },
      "file_extension": ".py",
      "mimetype": "text/x-python",
      "name": "python",
      "nbconvert_exporter": "python",
      "pygments_lexer": "ipython3",
      "version": "3.12.1"
    }
  },
  "nbformat": 4,
  "nbformat_minor": 5
}
