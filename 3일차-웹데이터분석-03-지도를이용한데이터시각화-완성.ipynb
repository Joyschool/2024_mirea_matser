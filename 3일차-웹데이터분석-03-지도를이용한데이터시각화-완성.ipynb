{
 "cells": [
  {
   "cell_type": "markdown",
   "id": "bb56a1da",
   "metadata": {},
   "source": [
    "# 웹 데이터 분석\n",
    "\n",
    "## 3. 지도를 이용한 데이터 시각화"
   ]
  },
  {
   "cell_type": "markdown",
   "id": "a4870ebb",
   "metadata": {},
   "source": [
    "----------------------------------"
   ]
  },
  {
   "cell_type": "markdown",
   "id": "421c4278",
   "metadata": {},
   "source": [
    "## 01.지도에 위치를 표시하려면?"
   ]
  },
  {
   "cell_type": "markdown",
   "id": "9a2f3fec",
   "metadata": {},
   "source": [
    "------------------------"
   ]
  },
  {
   "cell_type": "markdown",
   "id": "b973a861",
   "metadata": {},
   "source": [
    "## 02.지도에 위치 표시하기"
   ]
  },
  {
   "cell_type": "markdown",
   "id": "16c85b41",
   "metadata": {},
   "source": [
    "### #라이브러리 설치하기\n",
    "아래 코드를 실행하는 방법 : 마우스로 실행시킬 셀(cell) 또는 행을 선택한 후  화면 위 Run(run cell) 메뉴를 선택해서 실행한다. "
   ]
  },
  {
   "cell_type": "code",
   "execution_count": null,
   "id": "b9f6b8e2",
   "metadata": {},
   "outputs": [],
   "source": [
    "!pip install folium"
   ]
  },
  {
   "cell_type": "markdown",
   "id": "50b4479b",
   "metadata": {},
   "source": [
    "### #라이브러리 설치 확인하기\n",
    "아래 코드를 실행한 후 오류 메시지가 없으면 성공적으로 설치된 것입니다."
   ]
  },
  {
   "cell_type": "code",
   "execution_count": null,
   "id": "527ebba5",
   "metadata": {},
   "outputs": [],
   "source": [
    "import folium \n",
    "\n",
    "folium.__version__"
   ]
  },
  {
   "cell_type": "markdown",
   "id": "f7881e05",
   "metadata": {},
   "source": [
    "### [실습] :  지도에 숭례문 위치 표시하기\n",
    "구글지도에서 찾은 숭례문의 위도 & 경도 값을 가지고 folium 지도에 마커로 표시를 해보세요."
   ]
  },
  {
   "cell_type": "markdown",
   "id": "0e6d81e9",
   "metadata": {},
   "source": [
    "- **구글맵**에서 **숭례문**의 위도/경도 좌표값 기록해 두기\n",
    "- https://www.google.com/maps ~~ \n",
    "- !3d37.559984!4d126.9753071 --> **위도:37.559984** & **경도:126.9753071**"
   ]
  },
  {
   "cell_type": "code",
   "execution_count": null,
   "id": "c8e24512",
   "metadata": {},
   "outputs": [],
   "source": [
    "# folium.Icon 정보 확인하기\n",
    "help(folium.Icon)"
   ]
  },
  {
   "cell_type": "code",
   "execution_count": null,
   "id": "1d957361",
   "metadata": {},
   "outputs": [],
   "source": [
    "import folium\n",
    "\n",
    "# 지도 중심좌표 지정하기\n",
    "center = [37.559984, 126.9753071]  # 숭례문 위도&경도\n",
    "\n",
    "# 지도 객체 만들기\n",
    "m = folium.Map(location=center , zoom_start=16)\n",
    "\n",
    "# 지도에 마커로 표시하기\n",
    "folium.Marker(location = center, max_width=200,\n",
    "              popup = '숭례문', \n",
    "              icon=folium.Icon(color='red', icon='info-sign')\n",
    ").add_to(m)\n",
    "\n",
    "m"
   ]
  },
  {
   "cell_type": "markdown",
   "id": "dd961688",
   "metadata": {},
   "source": [
    "### #지도 종류 변경하기 \n",
    "아래 값을 참고하여 Map의 tiles 옵션값을 수정하여 folium 지도의 종류를 변경해 보세요.\n",
    "#### # 지도 변경 방법 및 지도 테마 종류\n",
    "- **지도 종류 변경 방법** :  folium.Map(tiles='Stamen Toner') **tiles 옵션을 사용한다.**\n",
    "- **지도 종류** : OpenStreetMap(기본테마) / Stamen Terrain / Stamen Toner / cartodbpositron"
   ]
  },
  {
   "cell_type": "markdown",
   "id": "4e8d9db8",
   "metadata": {},
   "source": [
    "### [참고] : 특정 웹 브라우저로 열기"
   ]
  },
  {
   "cell_type": "code",
   "execution_count": 1,
   "id": "01b25c35",
   "metadata": {},
   "outputs": [
    {
     "data": {
      "text/plain": [
       "True"
      ]
     },
     "execution_count": 1,
     "metadata": {},
     "output_type": "execute_result"
    }
   ],
   "source": [
    "# 특정 브라우저를 지정해서 열기\n",
    "import webbrowser\n",
    "\n",
    "url = 'https://www.naver.com'\n",
    "\n",
    "# windows\n",
    "chrome_path = \"C:/Program Files/Google/Chrome/Application/chrome.exe %s\" \n",
    "# mac\n",
    "# chrome_path = \"open -a /Applications/Google\\ Chrome.app %s\"\n",
    "\n",
    "webbrowser.get(chrome_path).open(url)"
   ]
  },
  {
   "cell_type": "markdown",
   "id": "641c4e00",
   "metadata": {},
   "source": [
    "### [실습] :  웹 브라우저에 지도 표시하기 \n",
    "주피터 노트북에 표시한 folium 지도를 browser 라이브러리를 사용하여 PC 기본 웹 브라우저로 실행시켜보세요."
   ]
  },
  {
   "cell_type": "code",
   "execution_count": 12,
   "id": "84abd505",
   "metadata": {},
   "outputs": [
    {
     "data": {
      "text/plain": [
       "True"
      ]
     },
     "execution_count": 12,
     "metadata": {},
     "output_type": "execute_result"
    }
   ],
   "source": [
    "import folium\n",
    "import webbrowser\n",
    "\n",
    "# 지도 중심좌표 지정하기\n",
    "center = [37.559984, 126.9753071]  # 숭례문 위도&경도\n",
    "\n",
    "# 지도 객체 만들기\n",
    "m = folium.Map(location=center , zoom_start=16)\n",
    "\n",
    "# 지도에 마커로 표시하기\n",
    "folium.Marker(location = center, max_width=200,\n",
    "              popup = '숭례문', \n",
    "              icon=folium.Icon(color='red', icon='star')\n",
    ").add_to(m)\n",
    "\n",
    "m.save('./data/map.html') # 지도 저장히기\n",
    "       \n",
    "# 저장한 지도를 웹 브라우저로 실행시키기\n",
    "# html 파일의 전체 경로(fullpath)를 사용해야 오류가 없다\n",
    "my_path = 'C:/python/master/'\n",
    "webbrowser.get(chrome_path).open(my_path+'data/map.html')"
   ]
  },
  {
   "cell_type": "markdown",
   "id": "423d69ed",
   "metadata": {},
   "source": [
    "### [실습] 유튜브 링크 포함된 folium 지도를 웹 브라우저로 실행하기\n",
    "- 웹브라우저를 사용할 겨우 유튜브 링크를 넣을 수 있다."
   ]
  },
  {
   "cell_type": "code",
   "execution_count": 18,
   "id": "36045bf2",
   "metadata": {},
   "outputs": [
    {
     "data": {
      "text/plain": [
       "True"
      ]
     },
     "execution_count": 18,
     "metadata": {},
     "output_type": "execute_result"
    }
   ],
   "source": [
    "import folium\n",
    "import webbrowser\n",
    "\n",
    "# 지도 중심좌표 지정하기\n",
    "center = [37.559984, 126.9753071]  # 숭례문 위도&경도\n",
    "\n",
    "# 지도 객체 만들기\n",
    "m = folium.Map(location=center , zoom_start=16)\n",
    "\n",
    "# 지도에 마커로 표시하기\n",
    "folium.Marker(location = center, max_width=200,\n",
    "              popup = '<iframe width=\"560\" height=\"315\" src=\"https://www.youtube.com/embed/gSWohjyQ3Bs\" title=\"YouTube video player\" frameborder=\"0\" allow=\"accelerometer; autoplay; clipboard-write; encrypted-media; gyroscope; picture-in-picture\" allowfullscreen></iframe>', \n",
    "              icon=folium.Icon(color='red', icon='star')\n",
    ").add_to(m)\n",
    "\n",
    "m.save('./data/map.html') # 지도 저장히기\n",
    "       \n",
    "# 저장한 지도를 웹 브라우저로 실행시키기\n",
    "# 파일의 전체 경로를 사용해야 오류가 없다\n",
    "webbrowser.open('c:/python/master/data/map.html') "
   ]
  },
  {
   "cell_type": "markdown",
   "id": "1bd18a72",
   "metadata": {},
   "source": [
    "### [실습문제] \n",
    "**여행가고 싶은 장소(국내외)를 지도에 다른 색상 마커로 표시하기**\n",
    "자신이 가고 싶은 여행지 3곳 이상을 folium 지도에 표시해 보세요. 단, 마커 모양과 색상은 모두가 다르게 표시되도록 아이콘을 변경해 주세요. \n",
    "\n",
    "- 영국-내셔널 갤러리: 51.508929,-0.128299\n",
    "- 뉴욕-브로드웨이: 40.8124199,-73.9627283\n",
    "- 로마-트레비 분수: 41.9010333,12.4810789\n",
    "- \n",
    "- tiles='Mapbox'\n",
    "> - Stamen Terrain: 녹색 지도\n",
    "> - Stamen Toner: 흑백 토너"
   ]
  },
  {
   "cell_type": "code",
   "execution_count": 14,
   "id": "cf040a61",
   "metadata": {},
   "outputs": [
    {
     "data": {
      "text/plain": [
       "True"
      ]
     },
     "execution_count": 14,
     "metadata": {},
     "output_type": "execute_result"
    }
   ],
   "source": [
    "buckets = {'영국-내셔널 갤러리': [51.508929,-0.128299],\n",
    "           '뉴욕-브로드웨이': [40.8124199,-73.9627283],\n",
    "           '로마-트레비 분수': [41.9010333,12.4810789],\n",
    "           '페루-마추피추' : [-13.1631412, -72.5449629],\n",
    "           '탄자니아-잔지바르섬': [-6.2642807, 39.4450378]\n",
    "          }\n",
    "icons  = ['star','cloud','info-sign','camera','glyphicon glyphicon-thumbs-up']\n",
    "colors = ['red', 'purple', 'blue', 'green','black']\n",
    "\n",
    "\n",
    "# 지도 객체 만들기\n",
    "m = folium.Map(location= [41.9010333, 12.4810789], \n",
    "               zoom_start=2, \n",
    "               tiles='Stamen Terrain')  \n",
    "\n",
    "\n",
    "# 지도에 마커 표시하기 : for 반복문을 이용할 수 있다.\n",
    "idx = 0 \n",
    "for key, value in buckets.items():\n",
    "    folium.Marker(location= value,\n",
    "            popup=key,\n",
    "            icon=folium.Icon(icon=icons[idx],\n",
    "                color=colors[idx], icon_color='white'),\n",
    "            ).add_to(m)\n",
    "    idx += 1\n",
    "    \n",
    "# html 파일 저장하고 열기    \n",
    "m.save('map_mytravel.html')\n",
    "webbrowser.open(my_path + 'map_mytravel.html') # fullpath를 사용해야 오류가 없다"
   ]
  },
  {
   "cell_type": "markdown",
   "id": "0f9577d8",
   "metadata": {},
   "source": [
    "### [참고예제] 반복문을 이용하여 다수개 마커 표시하는 방법\n",
    "**자신이 속한 시도의 중학교와 고등학교 지도에 표시하기**"
   ]
  },
  {
   "cell_type": "code",
   "execution_count": 5,
   "id": "3bac6f5c",
   "metadata": {},
   "outputs": [
    {
     "name": "stdout",
     "output_type": "stream",
     "text": [
      "자신이 속한 시도의 중학교와 고등학교 개수: 81\n"
     ]
    },
    {
     "data": {
      "text/plain": [
       "True"
      ]
     },
     "execution_count": 5,
     "metadata": {},
     "output_type": "execute_result"
    }
   ],
   "source": [
    "import folium\n",
    "import webbrowser\n",
    "import pandas as pd\n",
    "\n",
    "# 지도 객체 만들기\n",
    "center = [33.4782291, 126.5444124]   # 제주미래채움센터\n",
    "m = folium.Map(location=center, zoom_start=10)\n",
    "\n",
    "\n",
    "# 전국 초중고 위치 정보 가져오기\n",
    "file = './data/전국초중등학교위치표준데이터.csv'\n",
    "df = pd.read_csv(file, encoding = 'cp949')\n",
    "df\n",
    "\n",
    "# 자신이 속한 시도의 중학교와 고등학교 정보 가져오기\n",
    "df = df.query(\" 소재지지번주소.str.contains('제주특별자치도') and 학교급구분 in ('중학교', '고등학교') \")\n",
    "print(f'자신이 속한 시도의 중학교와 고등학교 개수: {len(df)}')\n",
    "df.head(2)\n",
    "\n",
    "\n",
    "# 자신이 속한 시도의 중학교와 고등학교 위치 마커로 표시하기\n",
    "for row in df.iterrows():\n",
    "    # 중학교와 고등학교 마커 아이콘 다르게 구분하기\n",
    "    if row[1]['학교급구분'] == '중학교':\n",
    "        v_icon = 'star'\n",
    "        v_iconcolor = 'green'\n",
    "    else:\n",
    "        v_icon = 'flag'\n",
    "        v_iconcolor = 'blue'\n",
    "    \n",
    "    # 지도에 마커 추가하기\n",
    "    folium.Marker(location= [row[1]['위도'], row[1]['경도']],\n",
    "            popup=row[1]['학교명'],\n",
    "            icon=folium.Icon(icon=v_icon,\n",
    "                color=v_iconcolor, icon_color='white'),\n",
    "    ).add_to(m)\n",
    "    \n",
    "# html 파일 저장하고 열기    \n",
    "m.save('./data/map_school.html')\n",
    "webbrowser.open('c:/python/master/data/map_school.html') # fullpath를 사용해야 오류가 없다"
   ]
  },
  {
   "cell_type": "markdown",
   "id": "717a8393",
   "metadata": {},
   "source": [
    "---------------------"
   ]
  },
  {
   "cell_type": "markdown",
   "id": "5fcccb62",
   "metadata": {},
   "source": [
    "## 03.주소 정보를 위도&경도로 변환"
   ]
  },
  {
   "cell_type": "markdown",
   "id": "67ead61c",
   "metadata": {},
   "source": [
    "- GEOSERVICE : http://www.geoservice.co.kr:777/\n",
    "- 주소 정보를 위도 경도로 변경해주는 사이트 이용하여 정보 변환하기\n",
    "- CoffeeBean_매장정보.csv -->  SHP-CSV변환(2023년 10월 23일 0시 0분 43초).csv --> **CoffeeBean_지도정보.csv**"
   ]
  },
  {
   "cell_type": "markdown",
   "id": "99676470",
   "metadata": {},
   "source": [
    "-------------------------"
   ]
  },
  {
   "cell_type": "markdown",
   "id": "915a99ed",
   "metadata": {},
   "source": [
    "## 04.주소 정보를 지도에 표시하기"
   ]
  },
  {
   "cell_type": "code",
   "execution_count": 13,
   "id": "f715e7bd",
   "metadata": {},
   "outputs": [
    {
     "data": {
      "text/plain": [
       "True"
      ]
     },
     "execution_count": 13,
     "metadata": {},
     "output_type": "execute_result"
    }
   ],
   "source": [
    "import folium\n",
    "import webbrowser\n",
    "import pandas as pd\n",
    "\n",
    "# 지도 객체 만들기\n",
    "center = [37.559984, 126.9753071]  # 숭례문 위도&경도\n",
    "m = folium.Map(location=center, zoom_start=10)\n",
    "\n",
    "\n",
    "# 전국 초중고 위치 정보 가져오기\n",
    "file = './data/CoffeeBean_지도정보.csv'\n",
    "df = pd.read_csv(file, encoding = 'utf-8')\n",
    "df\n",
    "\n",
    "# 변환된 데이터\n",
    "for row in df.iterrows():   \n",
    "    # 지도에 마커 추가하기\n",
    "    folium.Marker(location= [row[1]['_Y'], row[1]['_X']],\n",
    "            popup=row[1]['field2'],\n",
    "            icon=folium.Icon(icon='bookmark',\n",
    "                color='darkpurple', icon_color='white'),\n",
    "    ).add_to(m)\n",
    "    \n",
    "# html 파일 저장하고 열기    \n",
    "m.save('./data/map_CoffeeBean.html')\n",
    "webbrowser.open('c:/python/master/data/map_CoffeeBean.html') # fullpath를 사용해야 오류가 없다"
   ]
  },
  {
   "cell_type": "markdown",
   "id": "9eaa905a",
   "metadata": {},
   "source": [
    "-----------"
   ]
  },
  {
   "cell_type": "markdown",
   "id": "5679f7f3",
   "metadata": {},
   "source": [
    "## 05.지도에 의미 있는 데이터 분포 표현하기"
   ]
  },
  {
   "cell_type": "markdown",
   "id": "588917f0",
   "metadata": {},
   "source": [
    "### [실습] : 우리나라 행정구역 경계 지도에 표시하기\n",
    "folium 지도에 행정구역 경계를 표시하기 위해서는 우선 행정구역의 경계 위치 좌표 값이 표시된  geoJson 데이터가 필요합니다. 이를 위해 아래와 같이 이미 배포된 파일을 사용합니다."
   ]
  },
  {
   "cell_type": "markdown",
   "id": "c8423973",
   "metadata": {},
   "source": [
    "#### #대한민국 행정구역 경계 geoJson 파일 확인하기\n",
    "- 파일 다운로드: https://github.com/southkorea/southkorea-maps  > /kostat/2018/json/\n",
    "- 다운로드된 파일 위치 : **C:\\python\\projectmanager\\data\\** <br>\n",
    "\n",
    "     - skorea-provinces-geo.json  (시/도 경계 ) \n",
    "     - skorea-municipalities-geo.json  (시/군/구 경계)\n",
    "     - skorea-submunicipalities-geo.json  (읍/면/동 경계)"
   ]
  },
  {
   "cell_type": "code",
   "execution_count": 22,
   "id": "639e5cb1",
   "metadata": {},
   "outputs": [
    {
     "data": {
      "text/plain": [
       "True"
      ]
     },
     "execution_count": 22,
     "metadata": {},
     "output_type": "execute_result"
    }
   ],
   "source": [
    "import folium\n",
    "import json\n",
    "import webbrowser\n",
    "\n",
    "# 지도 객체 만들기\n",
    "m = folium.Map(location=[37.559984, 126.9753071], zoom_start=7)\n",
    "\n",
    "\n",
    "# GeoJson 파일 불러오기\n",
    "file = './data/geo/skorea-provinces-geo.json'         # 대한민국 시도 경계 정보\n",
    "# file = './data/geo/skorea-municipalities-geo.json'    # 대한민국 시군구 경계 정보\n",
    "# file = './data/geo/skorea-submunicipalities-geo.json' # 대한민국 시군구 읍면동 경계 정보\n",
    "data = open(file, 'r', encoding='utf-8').read() # 파일 열어서 읽어오기\n",
    "geo_data = json.loads(data)                     # json 형태로 불러오기\n",
    "\n",
    "\n",
    "# 지도에 GeoJson 정보를 표현하기\n",
    "folium.GeoJson(geo_data,          # GeoJson 정보를 담고 있는 변수이름\n",
    "               name='json_data'   \n",
    ").add_to(m)\n",
    "\n",
    "\n",
    "# 지도 정도 html파일로 저장하고 웹 브라우저에서 열기\n",
    "m.save('./data/map_provinces.html')\n",
    "webbrowser.open('c:/python/master/data/map_provinces.html') "
   ]
  },
  {
   "cell_type": "markdown",
   "id": "fbc32bb1",
   "metadata": {},
   "source": [
    "### [실습] : 우리나라 행정구역별 의미 있는 색상 칠하기\n",
    "- 행정구역 데이터 : skorea-provinces-geo.json\n",
    "- 행정구역별 인구 데이터 : 행정구역별-인구현황.csv \n",
    "- 행정구역별 인구 데이터 조회 및 다운로드 : https://jumin.mois.go.kr/에서 2022년 데이터 검색"
   ]
  },
  {
   "cell_type": "code",
   "execution_count": 24,
   "id": "4122dd56",
   "metadata": {},
   "outputs": [
    {
     "name": "stdout",
     "output_type": "stream",
     "text": [
      "<class 'pandas.core.frame.DataFrame'>\n",
      "RangeIndex: 17 entries, 0 to 16\n",
      "Data columns (total 2 columns):\n",
      " #   Column  Non-Null Count  Dtype \n",
      "---  ------  --------------  ----- \n",
      " 0   지역      17 non-null     object\n",
      " 1   인구      17 non-null     int64 \n",
      "dtypes: int64(1), object(1)\n",
      "memory usage: 400.0+ bytes\n"
     ]
    },
    {
     "data": {
      "text/plain": [
       "True"
      ]
     },
     "execution_count": 24,
     "metadata": {},
     "output_type": "execute_result"
    }
   ],
   "source": [
    "import folium\n",
    "import json\n",
    "import webbrowser\n",
    "import pandas as pd\n",
    "\n",
    "# 1.지도 객체 만들기\n",
    "m = folium.Map(location=[37.566345, 126.977893], zoom_start=7, tiles=\"Stamen Toner\")\n",
    "\n",
    "\n",
    "# 2.GeoJson 파일 불러오기\n",
    "file = './data/geo/skorea-provinces-geo.json'         # 대한민국 시도 경계 정보\n",
    "data = open(file, 'r', encoding='utf-8').read() # 파일 열어서 읽어오기\n",
    "geo_data = json.loads(data)                     # json 형태로 불러오기\n",
    "\n",
    "\n",
    "# 3.행정구열별 숫자 데이터 불러오기\n",
    "file = './data/행정구역별-인구현황.csv'\n",
    "df = pd.read_csv(file, encoding = 'cp949')\n",
    "df\n",
    "df.info()\n",
    "\n",
    "\n",
    "# 4.지도 경계별 색상 칠하기\n",
    "# folium.Choropleth(\n",
    "#     geo_data=geo_data,\n",
    "#     name='json_data',\n",
    "#     data=df,\n",
    "#     columns=('지역', '인구'),      \n",
    "#     key_on='feature.properties.name',  \n",
    "#     fill_color='YlOrRd',  #Greens\n",
    "#     legend_name='인구'\n",
    "# ).add_to(m)\n",
    "folium.Choropleth(\n",
    "    geo_data=geo_data, name='json_data',\n",
    "    data=df, columns=('지역', '인구'), legend_name='인구',      \n",
    "    key_on='feature.properties.name', fill_color='YlOrRd'    \n",
    ").add_to(m)\n",
    "\n",
    "\n",
    "# 지도 정보를 html파일로 저장하고 웹 브라우저에서 열기\n",
    "m.save('./data/map_provinces_color.html')\n",
    "webbrowser.open('c:/python/master/data/map_provinces_color.html') "
   ]
  },
  {
   "cell_type": "markdown",
   "id": "e7d82b50",
   "metadata": {},
   "source": [
    "------------------"
   ]
  },
  {
   "cell_type": "markdown",
   "id": "e2c9e0ad",
   "metadata": {},
   "source": [
    "### [실습문제] \n",
    "- **지역별 구씨 현황(family_name_goo.csv) 데이터 분포 지도에 시각화 하기**"
   ]
  },
  {
   "cell_type": "code",
   "execution_count": 27,
   "id": "54d45013",
   "metadata": {},
   "outputs": [
    {
     "data": {
      "text/plain": [
       "True"
      ]
     },
     "execution_count": 27,
     "metadata": {},
     "output_type": "execute_result"
    }
   ],
   "source": [
    "import pandas as pd\n",
    "import folium\n",
    "import json\n",
    "import webbrowser\n",
    "\n",
    "# 1.지도 객체 만들기\n",
    "m = folium.Map(location=[37.566345, 126.977893], zoom_start=7, tiles=\"Stamen Terrain\")\n",
    "\n",
    "\n",
    "# 2.GeoJson 파일 불러오기 \n",
    "file = './data/geo/skorea-provinces-geo.json'          # 대한민국 시도 \n",
    "data = open(file, 'r', encoding='utf-8').read()\n",
    "geo_data = json.loads(data)    \n",
    "geo_data\n",
    "\n",
    "\n",
    "# 3.지역별 구씨 정보 가져오기\n",
    "file = './data/family_name_goo.csv'\n",
    "df = pd.read_csv(file, encoding = 'cp949')\n",
    "\n",
    "\n",
    "# 4.지도 경계별 색상 칠하기\n",
    "folium.Choropleth(\n",
    "    geo_data=geo_data,\n",
    "    name='json_data',\n",
    "    data=df,\n",
    "    columns=('지역', '인구'),\n",
    "    key_on='feature.properties.name',\n",
    "    fill_color='YlOrRd',  # viridis\n",
    "    legend_name='인구',\n",
    ").add_to(m)\n",
    "\n",
    "# 5.데이터 분포 지도를 출력한다.\n",
    "m.save('./data/family_goo_map.html')\n",
    "webbrowser.open('c:/python/master/data/family_goo_map.html') # fullpath를 사용해야 오류가 없다"
   ]
  },
  {
   "cell_type": "markdown",
   "id": "01972598",
   "metadata": {},
   "source": [
    "-----------------------------------------"
   ]
  },
  {
   "cell_type": "markdown",
   "id": "84cfc183",
   "metadata": {},
   "source": [
    "THE END"
   ]
  }
 ],
 "metadata": {
  "kernelspec": {
   "display_name": "Python 3 (ipykernel)",
   "language": "python",
   "name": "python3"
  },
  "language_info": {
   "codemirror_mode": {
    "name": "ipython",
    "version": 3
   },
   "file_extension": ".py",
   "mimetype": "text/x-python",
   "name": "python",
   "nbconvert_exporter": "python",
   "pygments_lexer": "ipython3",
   "version": "3.10.9"
  },
  "vscode": {
   "interpreter": {
    "hash": "b41e41bff03a930185ac2cbea60ce521f7c8c2f5401ceb5c30214081f77ab4f5"
   }
  }
 },
 "nbformat": 4,
 "nbformat_minor": 5
}
